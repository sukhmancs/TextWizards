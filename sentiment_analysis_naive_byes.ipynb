{
  "nbformat": 4,
  "nbformat_minor": 0,
  "metadata": {
    "colab": {
      "provenance": [],
      "collapsed_sections": [
        "kJRfXdRwfJj6",
        "t-8tGxdPXE4l",
        "XgDjE1gwXMa4",
        "IqVnnPJ1XWuA"
      ]
    },
    "kernelspec": {
      "name": "python3",
      "display_name": "Python 3"
    },
    "language_info": {
      "name": "python"
    }
  },
  "cells": [
    {
      "cell_type": "markdown",
      "source": [
        "# Import libraries"
      ],
      "metadata": {
        "id": "kJRfXdRwfJj6"
      }
    },
    {
      "cell_type": "code",
      "source": [
        "import re\n",
        "import string\n",
        "import math"
      ],
      "metadata": {
        "id": "wdZX1QLhAT4w"
      },
      "execution_count": null,
      "outputs": []
    },
    {
      "cell_type": "code",
      "source": [
        "#from utils import process_tweet, lookup\n",
        "import pdb\n",
        "from nltk.corpus import stopwords, twitter_samples\n",
        "import numpy as np\n",
        "import pandas as pd\n",
        "import nltk\n",
        "import string\n",
        "from nltk.tokenize import TweetTokenizer\n",
        "from os import getcwd\n",
        "from nltk.stem import PorterStemmer\n",
        "from matplotlib.patches import Ellipse\n",
        "import matplotlib.transforms as transforms\n",
        "#import w2_unittest\n",
        "\n",
        "nltk.download('twitter_samples')\n",
        "nltk.download('stopwords')"
      ],
      "metadata": {
        "colab": {
          "base_uri": "https://localhost:8080/"
        },
        "id": "T0Oo6QXG-8DB",
        "outputId": "c40943b8-4da4-4aa0-98db-e51476bdb53b"
      },
      "execution_count": null,
      "outputs": [
        {
          "output_type": "stream",
          "name": "stderr",
          "text": [
            "[nltk_data] Downloading package twitter_samples to /root/nltk_data...\n",
            "[nltk_data]   Unzipping corpora/twitter_samples.zip.\n",
            "[nltk_data] Downloading package stopwords to /root/nltk_data...\n",
            "[nltk_data]   Unzipping corpora/stopwords.zip.\n"
          ]
        },
        {
          "output_type": "execute_result",
          "data": {
            "text/plain": [
              "True"
            ]
          },
          "metadata": {},
          "execution_count": 2
        }
      ]
    },
    {
      "cell_type": "markdown",
      "source": [
        "# Define process_tweet(tweet)"
      ],
      "metadata": {
        "id": "t-8tGxdPXE4l"
      }
    },
    {
      "cell_type": "code",
      "source": [
        "def process_tweet(tweet):\n",
        "    '''\n",
        "    Input:\n",
        "        tweet: a string containing a tweet\n",
        "    Output:\n",
        "        tweets_clean: a list of words containing the processed tweet\n",
        "\n",
        "    '''\n",
        "    stemmer = PorterStemmer()\n",
        "    stopwords_english = stopwords.words('english')\n",
        "    # remove stock market tickers like $GE\n",
        "    tweet = re.sub(r'\\$\\w*', '', tweet)\n",
        "    # remove old style retweet text \"RT\"\n",
        "    tweet = re.sub(r'^RT[\\s]+', '', tweet)\n",
        "    # remove hyperlinks\n",
        "    #tweet = re.sub(r'https?:\\/\\/.*[\\r\\n]*', '', tweet)\n",
        "    tweet = re.sub(r'https?://[^\\s\\n\\r]+', '', tweet)\n",
        "    # remove hashtags\n",
        "    # only removing the hash # sign from the word\n",
        "    tweet = re.sub(r'#', '', tweet)\n",
        "    # tokenize tweets\n",
        "    tokenizer = TweetTokenizer(preserve_case=False, strip_handles=True,\n",
        "                               reduce_len=True)\n",
        "    tweet_tokens = tokenizer.tokenize(tweet)\n",
        "\n",
        "    tweets_clean = []\n",
        "    for word in tweet_tokens:\n",
        "        if (word not in stopwords_english and  # remove stopwords\n",
        "            word not in string.punctuation):  # remove punctuation\n",
        "            # tweets_clean.append(word)\n",
        "            stem_word = stemmer.stem(word)  # stemming word\n",
        "            tweets_clean.append(stem_word)\n",
        "\n",
        "    return tweets_clean"
      ],
      "metadata": {
        "id": "I_LXOqsOAO49"
      },
      "execution_count": null,
      "outputs": []
    },
    {
      "cell_type": "code",
      "source": [
        "def test_lookup(func):\n",
        "    freqs = {('sad', 0): 4,\n",
        "             ('happy', 1): 12,\n",
        "             ('oppressed', 0): 7}\n",
        "    word = 'happy'\n",
        "    label = 1\n",
        "    if func(freqs, word, label) == 12:\n",
        "        return 'SUCCESS!!'\n",
        "    return 'Failed Sanity Check!'"
      ],
      "metadata": {
        "id": "auvKBUcFArbC"
      },
      "execution_count": null,
      "outputs": []
    },
    {
      "cell_type": "code",
      "source": [
        "def lookup(freqs, word, label):\n",
        "    '''\n",
        "    Input:\n",
        "        freqs: a dictionary with the frequency of each pair (or tuple)\n",
        "        word: the word to look up\n",
        "        label: the label corresponding to the word\n",
        "    Output:\n",
        "        n: the number of times the word with its corresponding label appears.\n",
        "    '''\n",
        "    n = 0  # freqs.get((word, label), 0)\n",
        "\n",
        "    pair = (word, label)\n",
        "    if (pair in freqs):\n",
        "        n = freqs[pair]\n",
        "\n",
        "    return n"
      ],
      "metadata": {
        "id": "SIFJGygYAugs"
      },
      "execution_count": null,
      "outputs": []
    },
    {
      "cell_type": "markdown",
      "source": [
        "# Load data and split into training and testing"
      ],
      "metadata": {
        "id": "XgDjE1gwXMa4"
      }
    },
    {
      "cell_type": "code",
      "source": [
        "# get the sets of positive and negative tweets\n",
        "all_positive_tweets = twitter_samples.strings('positive_tweets.json')\n",
        "all_negative_tweets = twitter_samples.strings('negative_tweets.json')\n",
        "\n",
        "# split the data into two pieces, one for training and one for testing (validation set)\n",
        "test_pos = all_positive_tweets[4000:]\n",
        "train_pos = all_positive_tweets[:4000]\n",
        "test_neg = all_negative_tweets[4000:]\n",
        "train_neg = all_negative_tweets[:4000]\n",
        "\n",
        "train_x = train_pos + train_neg\n",
        "test_x = test_pos + test_neg\n",
        "\n",
        "# avoid assumptions about the length of all_positive_tweets\n",
        "train_y = np.append(np.ones(len(train_pos)), np.zeros(len(train_neg)))\n",
        "test_y = np.append(np.ones(len(test_pos)), np.zeros(len(test_neg)))"
      ],
      "metadata": {
        "id": "3CcBdcjn_Apj"
      },
      "execution_count": null,
      "outputs": []
    },
    {
      "cell_type": "code",
      "source": [
        "custom_tweet = \"RT @Twitter @chapagain Hello There! Have a great day. :) #good #morning http://chapagain.com.np\"\n",
        "\n",
        "# print cleaned tweet\n",
        "print(process_tweet(custom_tweet))"
      ],
      "metadata": {
        "colab": {
          "base_uri": "https://localhost:8080/"
        },
        "id": "uJttpc9-_JHf",
        "outputId": "31d880c5-8fe0-4e76-cb15-29a775e96470"
      },
      "execution_count": null,
      "outputs": [
        {
          "output_type": "stream",
          "name": "stdout",
          "text": [
            "['hello', 'great', 'day', ':)', 'good', 'morn']\n"
          ]
        }
      ]
    },
    {
      "cell_type": "markdown",
      "source": [
        "# Define count_tweets(results, tweets, ys):\n",
        "It will calculate the number of times each word appears in corpus"
      ],
      "metadata": {
        "id": "IqVnnPJ1XWuA"
      }
    },
    {
      "cell_type": "code",
      "source": [
        "# UNQ_C1 GRADED FUNCTION: count_tweets\n",
        "\n",
        "def count_tweets(result, tweets, ys):\n",
        "    '''\n",
        "    Input:\n",
        "        result: a dictionary that will be used to map each pair to its frequency\n",
        "        tweets: a list of tweets\n",
        "        ys: a list corresponding to the sentiment of each tweet (either 0 or 1)\n",
        "    Output:\n",
        "        result: a dictionary mapping each pair to its frequency\n",
        "    '''\n",
        "    ### START CODE HERE ###\n",
        "    for y, tweet in zip(ys, tweets):\n",
        "        for word in process_tweet(tweet):\n",
        "            # define the key, which is the word and label tuple\n",
        "            pair = (word, y)\n",
        "            \n",
        "            # if the key exists in the dictionary, increment the count\n",
        "            if pair in result:\n",
        "                result[pair] += 1\n",
        "\n",
        "            # else, if the key is new, add it to the dictionary and set the count to 1\n",
        "            else:\n",
        "                result[pair] = 1\n",
        "    ### END CODE HERE ###\n",
        "\n",
        "    return result"
      ],
      "metadata": {
        "id": "8LBkpL2W_Tky"
      },
      "execution_count": null,
      "outputs": []
    },
    {
      "cell_type": "code",
      "source": [
        "# Testing your function\n",
        "\n",
        "res = {}\n",
        "tweets = ['i am happy', 'i am tricked', 'i am sad', 'i am tired', 'i am tired']\n",
        "ys = [1, 0, 0, 0, 0]\n",
        "count_tweets(res, tweets, ys)"
      ],
      "metadata": {
        "colab": {
          "base_uri": "https://localhost:8080/"
        },
        "id": "0M-mjmbZ_Xua",
        "outputId": "a578f1eb-c1be-437e-d5ca-8fa6b4665936"
      },
      "execution_count": null,
      "outputs": [
        {
          "output_type": "execute_result",
          "data": {
            "text/plain": [
              "{('happi', 1): 1, ('trick', 0): 1, ('sad', 0): 1, ('tire', 0): 2}"
            ]
          },
          "metadata": {},
          "execution_count": 9
        }
      ]
    },
    {
      "cell_type": "code",
      "source": [
        "result = {}\n",
        "freqs = count_tweets(result, train_x, train_y)"
      ],
      "metadata": {
        "id": "c7iphtGyX7nQ"
      },
      "execution_count": null,
      "outputs": []
    },
    {
      "cell_type": "markdown",
      "source": [
        "#Define train_naive_bayes(freqs, train_x, train_y)"
      ],
      "metadata": {
        "id": "zXQFx_4YXiHd"
      }
    },
    {
      "cell_type": "code",
      "source": [
        "vocab = []\n",
        "for tweet in train_x:\n",
        "      for word in process_tweet(tweet):\n",
        "        if word not in vocab:\n",
        "          vocab.append(word)\n",
        "        else:\n",
        "          print\n",
        "V = len(vocab)\n",
        "print(vocab)"
      ],
      "metadata": {
        "colab": {
          "base_uri": "https://localhost:8080/"
        },
        "id": "i1cCDb1hk9Po",
        "outputId": "2f3009b2-31a6-4039-d36e-4418358febe5"
      },
      "execution_count": null,
      "outputs": [
        {
          "output_type": "stream",
          "name": "stdout",
          "text": [
            "['followfriday', 'top', 'engag', 'member', 'commun', 'week', ':)', 'hey', 'jame', 'odd', ':/', 'pleas', 'call', 'contact', 'centr', '02392441234', 'abl', 'assist', 'mani', 'thank', 'listen', 'last', 'night', 'bleed', 'amaz', 'track', 'scotland', 'congrat', 'yeaaah', 'yipppi', 'accnt', 'verifi', 'rqst', 'succeed', 'got', 'blue', 'tick', 'mark', 'fb', 'profil', '15', 'day', 'one', 'irresist', 'flipkartfashionfriday', 'like', 'keep', 'love', 'custom', 'wait', 'long', 'hope', 'enjoy', 'happi', 'friday', 'lwwf', 'second', 'thought', '’', 'enough', 'time', 'dd', 'new', 'short', 'enter', 'system', 'sheep', 'must', 'buy', 'jgh', 'go', 'bayan', ':d', 'bye', 'act', 'mischiev', 'etl', 'layer', 'in-hous', 'wareh', 'app', 'katamari', 'well', '…', 'name', 'impli', ':p', 'influenc', 'big', '...', 'juici', 'selfi', 'follow', 'u', 'back', 'perfect', 'alreadi', 'know', \"what'\", 'great', 'opportun', 'junior', 'triathlet', 'age', '12', '13', 'gatorad', 'seri', 'get', 'entri', 'lay', 'greet', 'card', 'rang', 'print', 'today', 'job', ':-)', \"friend'\", 'lunch', 'yummm', 'nostalgia', 'tb', 'ku', 'id', 'conflict', 'help', \"here'\", 'screenshot', 'work', 'hi', 'liv', 'hello', 'need', 'someth', 'fm', 'twitter', '—', 'sure', 'thing', 'dm', 'x', \"i'v\", 'heard', 'four', 'season', 'pretti', 'dope', 'penthous', 'obv', 'gobigorgohom', 'fun', \"y'all\", 'yeah', 'suppos', 'lol', 'chat', 'bit', 'youth', '💅🏽', '💋', 'seen', 'year', 'rest', 'goe', 'quickli', 'bed', 'music', 'fix', 'dream', 'spiritu', 'ritual', 'festiv', 'népal', 'begin', 'line-up', 'left', 'see', 'sarah', 'send', 'us', 'email', 'bitsy@bitdefender.com', \"we'll\", 'asap', 'kik', 'hatessuc', '32429', 'kikm', 'lgbt', 'tinder', 'nsfw', 'akua', 'cumshot', 'come', 'hous', 'nsn_supplement', 'effect', 'press', 'releas', 'distribut', 'result', 'link', 'remov', 'pressreleas', 'newsdistribut', 'bam', 'bestfriend', 'lot', 'warsaw', '<3', 'x46', 'everyon', 'watch', 'documentari', 'earthl', 'youtub', 'support', 'buuut', 'oh', 'look', 'forward', 'visit', 'next', 'letsgetmessi', 'jo', 'make', 'feel', 'better', 'never', 'anyon', 'kpop', 'flesh', 'good', 'girl', 'best', 'wish', 'reason', 'epic', 'soundtrack', 'shout', 'ad', 'video', 'playlist', 'im', 'twitch', 'leagu', '1', '4', 'would', 'dear', 'jordan', 'okay', 'fake', 'gameplay', ';)', 'haha', 'kid', 'stuff', 'exactli', 'product', 'line', 'etsi', 'shop', 'check', 'boxroomcraft', 'vacat', 'recharg', 'normal', 'charger', 'asleep', 'talk', 'sooo', 'someon', 'text', 'ye', 'bet', \"he'll\", 'fit', 'hear', 'speech', 'piti', 'green', 'garden', 'midnight', 'sun', 'beauti', 'canal', 'dasvidaniya', 'till', 'scout', 'sg', 'futur', 'wlan', 'pro', 'confer', 'asia', 'chang', 'lollipop', '🍭', 'nez', 'agnezmo', 'oley', 'mama', 'stand', 'stronger', 'god', 'misti', 'babi', 'cute', 'woohoo', \"can't\", 'sign', 'yet', 'still', 'think', 'mka', 'liam', 'access', 'welcom', 'stat', 'arriv', 'unfollow', 'via', 'surpris', 'figur', 'happybirthdayemilybett', 'sweet', 'talent', '2', 'plan', 'drain', 'gotta', 'timezon', 'parent', 'proud', 'least', 'mayb', 'sometim', 'grade', 'al', 'grand', 'manila_bro', 'chosen', 'let', 'around', '..', 'side', 'world', 'eh', 'take', 'care', 'final', 'fuck', 'weekend', 'real', 'x45', 'join', 'hushedcallwithfraydo', 'gift', 'yeahhh', 'hushedpinwithsammi', 'event', 'might', 'luv', 'realli', 'appreci', 'share', 'wow', 'tom', '3', 'gym', 'monday', 'invit', 'scope', 'friend', 'nude', 'sleep', 'birthday', 'want', 't-shirt', 'cool', 'haw', 'phela', 'mom', 'obvious', 'princ', 'charm', 'stage', 'luck', 'tyler', 'hipster', 'glass', 'marti', 'glad', 'done', 'afternoon', 'read', 'kahfi', 'finish', 'ohmyg', 'yaya', 'dub', 'stalk', 'ig', 'gondooo', 'moo', 'tologooo', 'becom', 'detail', 'zzz', 'xx', 'physiotherapi', 'hashtag', '💪', 'monica', 'miss', 'sound', 'morn', \"that'\", 'x43', 'definit', 'tri', 'tonight', 'took', 'advic', 'treviso', 'concert', 'citi', 'countri', \"i'll\", 'start', 'fine', 'gorgeou', 'xo', 'oven', 'roast', 'garlic', 'oliv', 'oil', 'dri', 'tomato', 'basil', 'centuri', 'tuna', 'right', 'atchya', 'even', 'almost', 'chanc', 'cheer', 'po', 'ice', 'cream', 'agre', '100', 'heheheh', 'that', 'point', 'stay', 'home', 'soon', 'promis', 'web', 'whatsapp', 'volta', 'funcionar', 'com', 'iphon', 'jailbroken', 'later', '34', 'min', 'leia', 'appear', 'hologram', 'r2d2', 'w', 'messag', 'obi', 'wan', 'sit', 'luke', 'inter', 'ucl', 'arsen', 'small', 'team', 'pass', '🚂', 'dewsburi', 'railway', 'station', 'dew', 'west', 'yorkshir', '430', 'smh', '9:25', 'live', 'strang', 'imagin', 'megan', 'masaantoday', 'a4', 'shweta', 'tripathi', '5', '20', 'kurta', 'half', 'number', 'wsalelov', 'ah', 'larri', 'anyway', 'kinda', 'goood', 'life', 'enn', 'could', 'warmup', '15th', 'bath', 'dum', 'andar', 'ram', 'sampath', 'sona', 'mohapatra', 'samantha', 'edward', 'mein', 'tulan', 'razi', 'wah', 'josh', 'alway', 'smile', 'pictur', '16.20', 'giveitup', 'given', 'ga', 'subsidi', 'initi', 'propos', 'delight', 'yesterday', 'x42', 'lmaoo', 'song', 'ever', 'shall', 'littl', 'throwback', 'outli', 'island', 'cheung', 'chau', 'mui', 'wo', 'total', 'differ', 'kfckitchentour', 'kitchen', 'clean', \"i'm\", 'cusp', 'test', 'water', 'reward', 'arummzz', \"let'\", 'drive', 'travel', 'yogyakarta', 'jeep', 'indonesia', 'instamood', 'wanna', 'skype', 'may', 'nice', 'friendli', 'pretend', 'film', 'congratul', 'winner', 'cheesydelight', 'contest', 'address', 'guy', 'market', '24/7', 'regret', '14', 'hour', 'leav', 'without', 'delay', 'actual', 'easi', 'guess', 'train', 'wd', 'shift', 'engin', 'etc', 'sunburn', 'peel', 'blog', 'huge', 'warm', '☆', 'complet', 'triangl', 'northern', 'ireland', 'sight', 'smthng', 'fr', 'hug', 'xoxo', 'uu', 'jaann', 'topnewfollow', 'connect', 'wonder', 'made', 'fluffi', 'insid', 'pirouett', 'moos', 'trip', 'philli', 'decemb', \"i'd\", 'dude', 'x41', 'question', 'flaw', 'pain', 'negat', 'strength', 'went', 'solo', 'move', 'fav', 'nirvana', 'smell', 'teen', 'spirit', 'rip', 'ami', 'winehous', 'coupl', 'tomhiddleston', 'elizabetholsen', 'yaytheylookgreat', 'goodnight', 'vid', 'wake', 'gonna', 'shoot', 'itti', 'bitti', 'teeni', 'bikini', 'much', '4th', 'togeth', 'end', 'xfile', 'content', 'rain', 'fabul', 'fantast', '♡', 'jb', 'forev', 'belieb', 'nighti', 'bug', 'bite', 'bracelet', 'idea', 'foundri', 'game', 'sens', 'pic', 'ef', 'phone', 'woot', 'derek', 'use', 'parkshar', 'gloucestershir', 'aaaahhh', 'man', 'traffic', 'stress', 'reliev', \"how'r\", 'arbeloa', 'turn', '17', 'omg', 'say', 'europ', 'rise', 'find', 'hard', 'believ', 'uncount', 'coz', 'unlimit', 'cours', 'teamposit', 'aldub', '☕', 'rita', 'info', \"we'd\", 'way', 'boy', 'x40', 'true', 'sethi', 'high', 'exe', 'skeem', 'saam', 'peopl', 'polit', 'izzat', 'wese', 'trust', 'khawateen', 'k', 'sath', 'mana', 'kar', 'deya', 'sort', 'smart', 'hair', 'tbh', 'jacob', 'g', 'upgrad', 'tee', 'famili', 'person', 'two', 'convers', 'onlin', 'mclaren', 'fridayfeel', 'tgif', 'squar', 'enix', 'bissmillah', 'ya', 'allah', \"we'r\", 'socent', 'startup', 'drop', 'your', 'arnd', 'town', 'basic', 'piss', 'cup', 'also', 'terribl', 'complic', 'discuss', 'snapchat', 'lynettelow', 'kikmenow', 'snapm', 'hot', 'amazon', 'kikmeguy', 'defin', 'grow', 'sport', 'rt', 'rakyat', 'write', 'sinc', 'mention', 'fli', 'fish', 'promot', 'post', 'cyber', 'ourdaughtersourprid', 'mypapamyprid', 'papa', 'coach', 'posit', 'kha', 'atleast', 'x39', 'mango', \"lassi'\", \"monty'\", 'marvel', 'though', 'suspect', 'meant', '24', 'hr', 'touch', 'kepler', '452b', 'chalna', 'hai', 'thankyou', 'hazel', 'food', 'brooklyn', 'pta', 'awak', 'okayi', 'awww', 'ha', 'doc', 'splendid', 'spam', 'folder', 'amount', 'nigeria', 'claim', 'rted', 'leg', 'hurt', 'bad', 'mine', 'saturday', 'thaaank', 'puhon', 'happinesss', 'tnc', 'prior', 'notif', 'probabl', 'funni', '2:22', 'fat', 'co', 'ate', 'yuna', 'tamesid', '´', 'googl', 'account', 'scouser', 'everyth', 'zoe', 'mate', 'liter', \"they'r\", 'samee', 'edgar', 'updat', 'log', 'bring', 'abe', 'meet', 'x38', 'sigh', 'dreamili', 'pout', 'eye', 'quacketyquack', 'happen', 'phil', 'em', 'del', 'rodder', 'els', 'play', 'newest', 'gamejam', 'irish', 'literatur', 'inaccess', \"kareena'\", 'fan', 'brain', 'dot', 'braindot', 'fair', 'rush', 'either', 'brandi', '18', 'carniv', 'men', 'put', 'mask', 'xavier', 'forneret', 'jennif', 'site', 'free', '50.000', '8', 'ball', 'pool', 'coin', 'edit', 'trish', '♥', 'grate', 'three', 'comment', 'wakeup', 'besid', 'dirti', 'sex', 'lmaooo', '😤', 'loui', \"he'\", 'throw', 'caus', 'inspir', 'ff', 'twoof', 'gr8', 'wkend', 'kind', 'exhaust', 'word', 'cheltenham', 'area', 'kale', 'crisp', 'ruin', 'x37', 'open', 'worldwid', 'outta', 'sfvbeta', 'vantast', 'xcylin', 'bundl', 'show', 'internet', 'price', 'realisticli', 'pay', 'net', 'educ', 'power', 'weapon', 'nelson', 'mandela', 'recent', 'j', 'chenab', 'flow', 'pakistan', 'incredibleindia', 'teenchoic', 'choiceinternationalartist', 'superjunior', 'caught', 'first', 'salmon', 'super-blend', 'project', 'youth@bipolaruk.org.uk', 'awesom', 'stream', 'artist', 'alma', 'mater', 'highschoolday', 'clientvisit', 'faith', 'christian', 'school', 'lizaminnelli', 'upcom', 'uk', '😄', 'singl', 'hill', 'everi', 'beat', 'wrong', 'readi', 'natur', 'pefumeri', 'workshop', 'neal', 'yard', 'covent', 'tomorrow', 'fback', 'indo', 'harmo', 'americano', 'rememb', 'aww', 'head', 'saw', 'dark', 'plz', 'handshom', 'juga', 'hurray', 'hate', 'cant', 'decid', 'save', 'list', 'hiya', 'exec', 'loryn.good@lincs-chamber.co.uk', 'photo', 'thx', 'china', 'homosexu', 'hyungbot', 'give', 'fam', 'mind', 'timetunnel', '1982', 'quit', 'radio', 'set', 'heart', 'hiii', 'jack', 'ili', '✨', 'domino', 'pub', 'heat', 'prob', 'sorri', 'hastili', 'type', 'came', 'pakistani', 'x36', '3point', 'dreamteam', 'gooo', 'bailey', 'pbb', '737gold', 'drank', 'old', 'gotten', '1/2', 'welsh', 'wale', 'yippe', '💟', 'bro', 'lord', 'michael', \"u'r\", 'ure', 'bigot', 'usual', 'front', 'squat', 'dobar', 'dan', 'brand', 'heavi', 'musicolog', '2015', 'spend', 'marathon', 'iflix', 'offici', 'graduat', 'cri', '__', 'yep', 'expert', 'bisexu', 'minal', 'aidzin', 'yo', 'pi', 'cook', 'book', 'dinner', 'tough', 'choic', 'other', 'chill', 'smu', 'oval', 'basketbal', 'player', 'whahahaha', 'soamaz', 'moment', 'onto', 'a5', 'wardrob', 'user', 'teamr', 'appar', 'depend', 'greatli', 'design', 'ahhh', '7th', 'cinepambata', 'mechan', 'form', 'download', 'sali', 'na', 'ur', 'swisher', 'cop', 'ducktail', 'surreal', 'exposur', 'sotw', 'jingli', 'jangli', 'loveli', 'halesowen', 'blackcountryfair', 'street', 'assess', 'mental', 'bodi', 'ooz', 'appeal', 'amassiveoverdoseofship', 'latest', 'isi', 'chan', 'c', 'note', 'pkwalasawa', 'gemma', 'orlean', 'fever', 'geskenya', 'obamainkenya', 'magicalkenya', 'greatkenya', 'allgoodthingsk', 'anim', 'umaru', 'singer', 'ship', 'order', 'room', 'car', 'gone', 'hahaha', 'stori', 'relat', 'label', 'worst', 'batch', 'princip', 'due', 'march', 'wooftast', 'receiv', 'necessari', 'rn', 'whatev', 'hat', 'success', 'abstin', 'wtf', \"there'\", 'thrown', 'middl', 'repeat', 'relentlessli', 'approxim', 'oldschool', 'runescap', 'daaay', 'jumma_mubarik', 'frnd', 'stay_bless', 'bless', 'pussycat', 'main', 'launch', 'pretoria', 'fahrinahmad', 'tengkuaaronshah', 'eksperimencinta', 'tykkäsin', 'videosta', '200sub', 'special', '15e', 'paysafecard', 'giveaway', 'lue', 'desc', 'month', 'hoodi', 'eeep', 'yay', 'sohappyrightnow', 'mmm', 'azz-set', 'babe', 'feedback', 'gain', 'valu', 'peac', 'refresh', 'manthan', 'tune', 'fresh', 'mother', 'determin', 'maxfreshmov', 'loneliest', 'tattoo', 'friday.and', 'magnific', 'e', 'achiev', 'rashmi', 'dedic', 'happyfriday', 'nearli', 'retweet', 'alert', 'da', 'dang', 'rad', 'fanart', 'massiv', 'niamh', 'fennel', 'journal', 'land', 'copi', 'past', 'tweet', 'yesss', 'ariana', 'selena', 'gomez', 'tomlinson', 'payn', 'caradelevingn', '🌷', 'trade', 'tire', 'nope', 'appli', 'iamca', 'found', 'afti', 'goodmorn', 'prokabaddi', 'koel', 'mallick', 'recit', 'nation', 'anthem', '6', 'yournaturallead', 'youngnaturallead', 'mon', '27juli', 'cumbria', 'flockstar', 'thur', '30juli', 'itv', 'sleeptight', 'haveagoodday', 'septemb', 'perhap', 'bb', 'full', 'album', 'fulli', 'intend', 'possibl', 'attack', '>:d', 'bird', 'teamadmicro', 'fridaydownpour', 'clear', 'rohit', 'queen', 'otwolgrandtrail', 'sheer', 'fact', 'obama', 'innumer', 'presid', 'ni', 'shauri', 'yako', 'memotohat', 'sunday', 'pamper', \"t'wa\", 'cabincrew', 'interview', 'langkawi', '1st', 'august', 'fulfil', 'fantasi', '👉', '👈', '💖', 'ex-tweleb', 'apart', 'makeov', 'factori', 'brilliantli', 'happyyi', 'birthdaaayyy', 'kill', 'interest', 'internship', 'program', 'sadli', 'career', 'page', 'issu', 'sad', 'overwhelmingli', 'aha', 'beaut', '♬', 'win', 'deo', 'faaabul', 'freebiefriday', 'aluminiumfre', 'stayfresh', 'john', 'worri', 'navig', 'thnk', 'progrmr', '9pm', '9am', 'hardli', 'rose', 'emot', 'poetri', 'frequentfly', 'break', 'apolog', 'kb', 'londondairi', 'icecream', 'experi', 'cover', 'sin', 'excit', \":')\", 'xxx', 'jim', 'chuckl', 'cake', 'doh', '500', 'subscrib', 'reach', 'scorch', 'summer', 'younger', 'woman', 'stamina', 'expect', 'anyth', 'less', 'tweeti', 'fab', 'dont', '-->', '10', 'loner', 'introduc', 'vs', 'alter', 'understand', 'spread', 'problem', 'supa', 'dupa', 'near', 'dartmoor', 'gold', 'colour', 'ok', 'someday', 'r', 'dii', 'n', 'forget', 'si', 'smf', 'ft', 'japanes', 'import', 'kitti', 'match', 'stationari', 'draw', 'close', 'broken', 'specialis', 'thermal', 'imag', 'survey', '–', 'south', 'korea', 'scamper', 'slept', 'alarm', \"ain't\", 'mad', 'chweina', 'xd', 'jotzh', 'wast', 'place', 'worth', 'coat', 'beforehand', 'tho', 'foh', 'outsid', 'holiday', 'menac', 'jojo', 'ta', 'accept', 'admin', 'lukri', '😘', 'momma', 'bear', '❤', '️', 'redid', '8th', 'v.ball', 'atm', 'build', 'pack', 'suitcas', 'hang-copi', 'translat', \"dostoevsky'\", 'voucher', 'bugatti', 'bra', 'مطعم_هاشم', 'yummi', 'a7la', 'bdayt', 'mnwreeen', 'jazz', 'truck', 'x34', 'speak', 'pbevent', 'hq', 'add', 'yoona', 'hairpin', 'otp', 'collect', 'mastership', 'honey', 'paindo', 'await', 'report', 'manni', 'asshol', 'brijresid', 'structur', '156', 'unit', 'encompass', 'bhk', 'flat', '91', '975-580-', '444', 'honor', 'curri', 'clash', 'milano', '👌', 'followback', ':-d', 'legit', 'loser', 'gass', 'dead', 'starsquad', '⭐', 'news', 'utc', 'flume', 'kaytranada', 'alunageorg', 'ticket', 'km', 'certainti', 'solv', 'faster', '👊', 'hurri', 'totem', 'somewher', 'alic', 'click', 'checkout', 'dog', 'cat', 'goodwynsgoodi', 'ugh', 'fade', 'moan', 'leed', 'jozi', 'wasnt', 'fifth', 'avail', 'tix', 'pa', 'ba', 'ng', 'atl', 'coldplay', 'favorit', 'scientist', 'yellow', 'atla', 'yein', 'selo', 'jabongatpumaurbanstamped', 'an', '7', 'waiter', 'bill', 'sir', 'titl', 'pocket', 'wrip', 'jean', 'conni', 'crew', 'staff', 'sweetan', 'ask', 'mum', 'beg', 'soprano', 'ukrain', 'x33', 'olli', 'disney.art', 'elmoprinssi', 'salsa', 'danc', 'tell', 'truth', 'pl', '4-6', '2nd', 'blogiversari', 'review', 'cuti', 'bohol', 'briliant', 'v', 'key', 'annual', 'far', 'spin', 'voic', '\\U000fe334', 'yeheyi', 'pinya', 'whoooah', 'tranc', 'lover', 'subject', 'physic', 'stop', 'ब', 'matter', 'jungl', 'accommod', 'secret', 'behind', 'sandroforceo', 'ceo', '1month', 'swag', 'mia', 'workinprogress', 'choos', 'finnigan', 'loyal', 'royal', 'fotoset', 'reus', 'seem', 'somebodi', 'sell', 'young', 'muntu', 'anoth', 'gem', 'falco', 'supersmash', 'hotnsexi', 'friskyfriday', 'beach', 'movi', 'crop', 'nash', 'tissu', 'chocol', 'tea', 'hannib', 'episod', 'hotb', 'bush', 'classicassur', 'thrill', 'intern', 'assign', 'aerial', 'camera', 'oper', 'boom', 'hong', 'kong', 'ferri', 'central', 'girlfriend', 'after-work', 'drink', 'dj', 'resto', 'drinkt', 'koffi', 'a6', 'stargat', 'atlanti', 'muaahhh', 'ohh', 'hii', '🙈', 'di', 'nagsend', 'yung', 'ko', '</3', 'ulit', '🎉', '🎈', 'ugli', 'legget', 'qui', 'per', 'la', 'mar', 'encourag', 'employ', 'board', 'stuck', 'poster', 'sticker', 'sponsor', 'prize', 'tablet', '(:', 'milo', 'aurini', 'juicebro', 'pillar', 'respect', 'boii', 'smashingbook', 'bibl', 'ill', 'sick', 'lamo', 'fangirl', 'platon', 'scienc', 'resid', 'servicewithasmil', 'bloodlin', 'huski', 'obituari', 'advert', 'goofingaround', 'bollywood', 'dah', 'noth', 'bitter', 'anger', 'hatr', 'toward', 'pure', 'indiffer', 'suit', 'zach', 'codi', 'deliv', 'ac', 'excel', 'produc', 'boggl', 'fatigu', 'baareeq', 'gamedev', 'hobbi', 'tweenie_fox', 'accessori', 'tamang', 'hinala', 'niam', 'selfiee', 'especi', 'lass', 'ale', 'swim', 'bout', 'goodby', 'feminist', 'fought', 'snobbi', 'bitch', 'carolin', 'mighti', '🔥', 'threw', 'hbd', 'follback', 'jog', 'remot', 'newli', 'ebay', 'store', 'disneyinfin', 'starwar', 'charact', 'preorder', 'starter', 'hit', 'snap', 'homi', 'bought', 'skin', 'bday', 'chant', 'jai', 'itali', 'fast', 'heeeyyy', 'woah', '★', 'phew', 'overwhelm', '😊', 'whenev', 'ang', 'kiss', 'philippin', 'packag', 'bruis', 'rib', '😀', '😁', '😂', '😃', '😅', '😉', 'tombraid', 'hype', 'thejuiceinthemix', 'rela', 'low', 'prioriti', 'harri', 'bc', 'collaps', 'chaotic', 'cosa', '<---', 'alliter', 'oppayaa', \"how'\", 'natgeo', 'lick', 'elbow', '. .', '“', 'emu', 'stoke', 'woke', \"people'\", 'approv', \"god'\", 'jisung', 'sunshin', 'mm', 'nicola', 'brighten', 'helen', 'brian', '2-3', 'australia', 'ol', 'bone', 'creak', 'abuti', 'tweetland', 'android', 'xma', 'skyblock', 'bcaus', '2009', 'die', 'sympathi', 'laugh', 'unniee', 'nuka', 'penacova', 'djset', 'edm', 'kizomba', 'latinhous', 'housemus', 'portug', 'wild', 'ride', 'anytim', 'tast', 'yer', 'mtn', 'maganda', 'mistress', 'saphir', 'busi', '4000', 'instagram', 'among', 'coconut', 'sambal', 'mussel', 'recip', 'kalin', 'mixcloud', 'sarcasm', 'chelsea', 'he', 'useless', 'thursday', 'hang', 'hehe', 'said', 'benson', 'facebook', 'solid', '16/17', '30', '°', '😜', 'maryhick', 'kikmeboy', 'photooftheday', 'musicbiz', 'sheskindahot', 'fleekil', 'mbalula', 'africa', 'mexican', 'scar', 'offic', 'donut', 'foiegra', 'despit', 'weather', 'wed', 'toni', 'stark', 'incred', 'poem', 'bubbl', 'dale', 'billion', 'magic', 'op', 'cast', 'vote', 'elect', 'jcreport', 'piggin', 'botan', 'soap', 'late', 'upload', 'freshli', '3week', 'heal', 'tobi-bro', 'isp', 'steel', 'wednesday', 'swear', 'met', 'earlier', 'cam', '😭', 'except', \"masha'allah\", 'french', 'wwat', 'franc', 'yaaay', 'beirut', 'coffe', 'panda', 'eonni', 'favourit', 'soda', 'fuller', 'shit', 'healthi', '💓', 'rettweet', 'mvg', 'valuabl', 'madrid', 'sore', 'bergerac', 'u21', 'individu', 'adam', \"beach'\", 'suicid', 'squad', 'fond', 'christoph', 'cocki', 'prove', \"attitude'\", 'improv', 'suggest', 'date', 'inde', 'intellig', 'strong', 'cs', 'certain', 'exam', 'forgot', 'home-bas', 'knee', 'sale', 'fleur', 'dress', 'readystock_hijabmart', 'idr', '325.000', '200.000', 'tompolo', 'aim', 'cannot', 'buyer', 'disappoint', 'paper', 'slack', 'crack', 'particularli', 'strike', '31', 'mam', 'feytyaz', 'instant', 'stiffen', 'ricky_feb', 'grindea', 'courier', 'crypt', 'arma', 'record', 'gosh', 'limbo', 'orchard', 'art', 'super', 'karachi', 'ka', 'venic', 'sever', 'part', 'wit', 'accumul', 'maroon', 'cocktail', 'mididress', '0-100', 'quick', '1100d', 'auto-focu', 'manual', 'vein', 'crackl', 'glaze', 'layout', 'bomb', 'social', 'websit', 'pake', 'joim', 'feed', 'troop', 'mail', 'ladolcevitainluxembourg@hotmail.com', 'prrequest', 'journorequest', 'the_madstork', 'shaun', 'bot', 'chloe', 'actress', 'away', 'wick', 'hola', 'juan', 'houston', 'tx', 'jenni', \"year'\", 'stumbl', 'upon', 'prob.nic', 'choker', 'btw', 'seouljin', 'photoset', 'sadomasochistsparadis', 'wynter', 'bottom', 'outtak', 'sadomasochist', 'paradis', 'ty', 'bbi', 'clip', 'lose', 'cypher', 'amen', 'x32', 'plant', 'allow', 'corner', 'addict', 'gurl', 'suck', 'owe', 'daniel', 'ape', 'saar', 'ahead', 'vers', 'butterfli', 'bonu', 'fill', 'tear', 'laughter', '5so', 'yummmyyi', 'eat', 'dosa', 'easier', 'unless', 'achi', 'youuu', 'bawi', 'ako', 'queenesth', 'sharp', 'yess', 'poldi', 'cimbom', 'buddi', 'bruhhh', 'daddi', '”', 'knowledg', 'attent', '1tb', 'bank', 'credit', 'depart', 'anz', 'extrem', 'offshor', 'absolut', 'classic', 'gottolovebank', 'yup', 'in-shaa-allah', 'dua', 'thru', 'aameen', '4/5', 'coca', 'cola', 'fanta', 'pepsi', 'sprite', 'all', 'sweeeti', ';-)', 'welcometweet', 'psygustokita', 'setup', 'wet', 'feet', 'carpet', 'judgment', 'hypocrit', 'narcissist', 'jumpsuit', 'bt', 'denim', 'verg', 'owl', 'constant', 'run', 'sia', 'count', 'brilliant', 'teacher', 'compar', 'religion', 'rant', 'student', 'bencher', '1/5', 'porsch', 'paddock', 'budapestgp', 'johnyherbert', 'roll', 'porschesupercup', 'koyal', 'melodi', 'unexpect', 'creat', 'memori', '35', 'ep', 'catch', 'wirh', 'arc', 'x31', 'wolv', 'desir', 'ameen', 'kca', 'votejkt', '48id', 'helpinggroupdm', 'quot', 'weird', 'dp', 'wife', 'poor', 'chick', 'guid', 'zonzofox', 'bhaiya', 'brother', 'lucki', 'patti', 'elabor', 'kuch', 'rate', 'merdeka', 'palac', 'hotel', 'plusmil', 'servic', 'hahahaa', 'mean', 'nex', 'safe', 'gwd', 'she', 'okok', '33', 'idiot', 'chaerin', 'unni', 'viabl', 'altern', 'nowaday', 'ip', 'tombow', 'abt', 'friyay', 'smug', 'marrickvil', 'public', 'ten', 'ago', 'eighteen', 'auvssscr', 'ncaaseason', 'slow', 'popsicl', 'soft', 'melt', 'mouth', 'thankyouuu', 'dianna', 'ngga', 'usah', 'dipikirin', 'elah', 'easili', \"who'\", 'entp', 'killin', 'meme', 'worthi', 'shot', 'emon', 'decent', 'outdoor', 'rave', 'dv', 'aku', 'bakal', 'liat', 'kak', 'merri', 'tv', 'outfit', '--->', 'fashionfriday', 'angle.nelson', 'cheap', 'mymonsoonstori', 'tree', 'lotion', 'moistur', 'monsoon', 'whoop', 'romant', 'valencia', 'daaru', 'parti', 'chaddi', 'wonderful.great', 'trim', 'pube', 'es', 'mi', 'tio', 'sinaloa', 'arr', 'stylish', 'trendi', 'kim', 'fabfriday', 'facetim', 'calum', 'constantli', 'announc', 'filbarbarian', 'beer', 'arm', 'testicl', 'light', 'katerina', 'maniataki', 'ahh', 'alright', 'worthwhil', 'judg', 'tech', 'window', 'stupid', 'plugin', 'bass', 'slap', '6pm', 'door', 'vip', 'gener', 'seat', 'earli', 'london', 'toptravelcentar', 'ttctop', 'lux', 'luxurytravel', 'beograd', 'srbija', 'putovanja', 'wendi', 'provid', 'drainag', 'homebound', 'hahahay', 'yeeeah', 'moar', 'kitteh', 'incom', 'tower', 'yippee', 'scrummi', 'bio', 'mcpe', '->', 'vainglori', 'driver', '6:01', 'lilydal', 'fss', 'rais', 'magicalmysterytour', 'chek', 'rule', 'weebli', 'donetsk', 'earth', 'personalis', 'wrap', 'stationeri', 'adrian', 'parcel', 'tuesday', 'pri', '80', 'wz', 'pattern', 'cut', 'buttonhol', '4mi', 'famou', 'client', 'p', 'aliv', 'trial', 'spm', 'dinooo', 'cardio', 'steak', 'cue', 'laptop', 'guinea', 'pig', 'salamat', 'sa', 'mga', 'nag.greet', 'guis', 'godbless', 'crush', 'appl', 'deserv', 'charl', 'workhard', 'model', 'forrit', 'bread', 'bacon', 'butter', 'afang', 'soup', 'semo', 'brb', 'forc', 'lblogger', 'pblogger', 'bookreview', 'toddlerlif', 'doesnt', 'tato', 'bulat', 'concern', 'snake', 'perform', 'con', 'todayyy', 'max', 'gaza', 'bbb', 'pc', '22', 'legal', 'ditch', 'tori', 'bajrangibhaijaanhighestweek', \"s'okay\", 'andi', 'you-and', 'return', 'tuitutil', 'bud', 'learn', 'takeaway', 'instead', '1hr', 'genial', 'competit', 'yosh', 'procrastin', 'plu', 'kfc', 'itun', 'dedicatedfan', '💜', 'daft', 'teeth', 'troubl', 'huxley', 'basket', 'ben', 'sent', 'gamer', 'activ', '120', 'distanc', 'suitabl', 'stockholm', 'zack', 'destroy', 'heel', 'claw', 'q', 'blond', 'box', 'cheerio', 'seed', 'cutest', 'ffback', 'spotifi', \"we'v\", 'vc', 'tgp', 'race', 'averag', \"joe'\", 'bluejay', 'vinylbear', 'pal', 'furbabi', 'luff', 'mega', 'retail', 'boot', 'whsmith', 'ps3', 'shannon', 'redecor', 'bob', 'elli', 'mairi', 'workout', 'impair', 'uggghhh', 'dam', 'dun', 'eczema', 'suffer', 'ndee', 'pleasur', 'publiliu', 'syru', 'fear', 'death', 'dread', 'fell', 'fuk', 'unblock', 'tweak', 'php', 'fall', 'oomf', 'pippa', 'hschool', 'bu', 'cardi', 'everyday', 'everytim', 'hk', \"why'd\", 'acorn', 'origin', 'c64', 'cpu', 'consider', 'advanc', 'onair', 'bay', 'hold', 'river', '0878 0388', '1033', '0272 3306', '70', 'rescu', 'mutt', 'confirm', 'deliveri', 'switch', 'lap', 'optim', 'lu', ':|', 'tweetofthedecad', 'class', 'happiest', 'bbmme', 'pin', '7df9e60a', 'bbm', 'bbmpin', 'addmeonbbm', 'addm', \"today'\", 'menu', 'marri', 'glenn', 'what', 'height', \"sculptor'\", 'ti5', 'dota', 'nudg', 'spot', 'tasti', 'hilli', 'cycl', 'england', 'scotlandismass', 'gen', 'vikk', 'fna', 'mombasa', 'tukutanemombasa', '100reasonstovisitmombasa', 'karibumombasa', 'hanbin', 'certainli', 'goosnight', 'kindli', 'familiar', 'jealou', 'tent', 'yea', 'cozi', 'phenomen', 'collab', 'gave', 'birth', 'behav', 'monster', 'spree', '000', 'tank', 'outstand', 'donat', 'h', 'contestkiduniya', 'mfundo', 'och', 'hun', 'inner', 'nerd', 'tame', 'insidi', 'logic', 'math', 'channel', 'continu', 'doubt', '300', 'sub', '200', 'forgiven', 'manner', 'yhooo', 'ngi', 'mood', 'push', 'limit', 'obakeng', 'goat', 'alhamdullilah', 'pebbl', 'engross', 'bing', 'scream', 'whole', 'wide', '🌎', '😧', 'wat', 'muahhh', 'pausetim', 'drift', 'loos', 'campaign', 'kickstart', 'articl', 'jenna', 'bellybutton', 'inni', 'outi', 'havent', 'delish', 'supermarket', 'joselito', 'freya', 'nth', 'latepost', 'lupet', 'mo', 'eric', 'askaman', '150', '0345', '454', '111', 'webz', 'oop', \"they'll\", 'realis', 'anymor', 'carmel', 'decis', 'matt', '@commoncultur', '@connorfranta', 'honestli', 'explain', 'relationship', 'pick', 'tessnzach', 'paperboy', 'honest', 'reassur', 'guysss', 'mubank', \"dongwoo'\", 'bright', 'tommorow', 'newyork', 'lolll', 'twinx', '16', 'path', 'firmansyahbl', 'procedur', 'grim', 'fandango', 'ordinari', 'extraordinari', 'bo', 'birmingham', 'oracl', 'samosa', 'firebal', 'shoe', 'serv', 'sushi', 'shoeshi', '�', 'lymond', 'philippa', 'novel', 'tara', '. . .', 'aur', 'han', 'imran', 'khan', '63', 'agaaain', 'doli', 'siregar', 'ninh', 'size', 'geekiest', 'geek', 'wallet', 'request', 'media', 'ralli', 'rotat', 'direct', 'eek', 'red', 'beij', 'meni', 'tebrik', 'etdi', '700', '💗', 'rod', 'embrac', 'actor', 'aplomb', 'foreveralon', 'mysumm', '01482', '333505', 'hahahaha', 'wear', 'uniform', 'evil', 'owww', 'choo', 'chweet', 'shorthair', 'oscar', 'realiz', 'harmoni', 'deneriveri', '506', 'kiksext', 'kikkomansabor', 'killer', 'henessydiari', 'journey', 'band', 'convo', '11', 'vault', 'expand', 'vinni', 'money', 'hahahahaha', '50cent', 'repay', 'debt', 'evet', 'wifi', 'lifestyl', 'qatarday', '. ..', '🌞', 'girli', 'india', 'innov', 'volunt', 'saran', 'drama', 'genr', 'romanc', 'comedi', 'leannerin', '19', 'porno', 'l4l', 'weloveyounamjoon', 'homey', 'kenya', 'roller', 'coaster', 'aspect', 'najam', 'confess', 'pricelessantiqu', 'takesonetoknowon', 'extra', 'ucount', 'ji', 'turkish', 'knew', 'crap', 'burn', '80x', 'airlin', 'sexi', 'yello', 'gail', 'yael', 'lesson', 'en', 'mano', 'hand', 'manag', 'prettiest', 'reader', 'dnt', 'ideal', 'weekli', 'idol', 'pose', 'shortlist', 'dominion', 'picnic', 'tmrw', 'nobodi', 'jummamubarak', 'shower', 'shalwarkameez', 'itter', 'offer', 'jummapray', 'af', 'display', 'enabl', 'compani', 'peep', 'tweep', 'folow', '2k', 'ohhh', 'teaser', 'airec', '009', 'acid', 'mous', '31st', 'includ', 'robin', 'rough', 'control', 'remix', 'fave', 'toss', 'ladi', '🐑', 'librari', 'mr2', 'climb', 'cuddl', 'jilla', 'headlin', '2017', 'jumma', 'mubarik', 'spent', 'congratz', 'contribut', '2.0', 'yuppiiee', 'alienthought', 'happyalien', 'crowd', 'loudest', 'gari', 'particular', 'attract', 'supprt', 'savag', 'cleans', 'scam', 'ridden', 'vyapam', 'renam', 'wave', 'couch', 'dodg', 'explan', 'bag', 'sanza', 'aggreg', 'tend', 'yaa', 'slr', 'som', 'honour', 'heheh', 'view', 'explor', 'wayanadan', 'forest', 'wayanad', 'srijith', 'whisper', 'lie', 'pokemon', 'dazzl', 'urself', 'doubl', 'flare', 'black', '9', '51', 'brows', 'bore', 'femal', 'tour', 'delv', 'muchhh', 'tmr', 'breakfast', 'gl', \"tonight'\", '):', 'litey', 'manuella', 'abhi', 'tak', 'nhi', 'dekhi', 'promo', 'se', 'xpax', 'lisa', 'aboard', 'institut', 'nc', 'chees', 'overload', 'pizza', '•', 'mcfloat', 'fudg', 'sanda', 'munchkin', \"d'd\", 'granni', 'baller', 'lil', 'chain', 'everybodi', 'ought', 'jay', 'events@breastcancernow.org', '79x', 'champion', 'letter', 'uniqu', 'affaraid', 'dearslim', 'role', 'billi', 'lab', 'ovh', 'maxi', 'bunch', 'acc', 'sprit', 'you', 'til', 'hammi', 'freedom', 'pistol', 'unlock', 'bemeapp', 'thumb', 'beme', 'bemecod', 'proudtobem', 'round', 'calm', 'kepo', 'luckili', 'clearli', 'دعمم', 'للعودة', 'للحياة', 'heiyo', 'dudafti', 'breaktym', 'fatal', 'danger', 'term', 'health', 'outrag', '645k', 'muna', 'magstart', 'salut', '→', 'thq', 'contin', 'thalaivar', '£', 'heiya', 'grab', '30.000', 'av', 'gd', 'wknd', 'ear', \"y'day\", 'hxh', 'badass', 'killua', 'scene', '78x', 'notic', 'effort', 'unappreci', 'graciou', 'nailedit', 'ourdisneyinfin', 'mari', 'jillmil', 'webcam', 'elfindelmundo', 'mainli', 'favour', 'dancetast', 'satyajit', \"ray'\", 'porosh', 'pathor', 'situat', 'goldbug', 'wine', 'bottl', 'spill', 'jazmin', 'bonilla', '15000', 'star', 'hollywood', 'rofl', 'shade', 'grey', 'netsec', 'kev', 'sister', 'told', 'unlist', 'hickey', 'dad', 'hock', 'mamma', 'human', 'be', 'mere', 'holist', 'cosmovis', 'narrow-mind', 'charg', 'cess', 'alix', 'quan', 'tip', 'naaahhh', 'duh', 'emesh', 'hilari', 'kath', 'kia', '@vauk', 'tango', 'tracerequest', 'dassi', 'fwm', 'selamat', 'nichola', 'malta', 'gto', 'tomorrowland', 'incal', 'shob', 'incomplet', 'barkada', 'silverston', 'pull', 'bookstor', 'ganna', 'hillari', 'clinton', 'court', 'slice', 'life-so', 'hidden', 'untap', 'mca', 'gettin', 'hella', 'wana', 'bandz', 'hell', 'donington', 'park', '24/25', 'x30', 'merci', 'bien', 'pitbul', '777x', 'fri', 'annyeong', 'oppa', 'indonesian', 'elf', 'flight', 'bf', 'jennyjean', 'kikchat', 'sabadodeganarseguidor', 'sexysasunday', 'marseil', 'ganda', 'fnaf', 'steam', 'assur', 'current', 'goin', 'sweeti', 'strongest', \"spot'\", 'barnstapl', 'bideford', 'abit', 'road', 'rocro', '13glodyysbro', 'hire', '2ne1', 'aspetti', 'chicken', 'chip', 'cupboard', 'empti', 'jami', 'ian', 'latin', 'asian', 'version', 'va', '642', 'kikgirl', 'orgasm', 'phonesex', 'spacer', 'felic', 'smoak', '👓', '💘', 'children', 'psychopath', 'spoil', 'dimpl', 'contempl', 'indi', 'rout', 'jsl', '76x', 'gotcha', 'kina', 'donna', 'reachabl', 'jk', 's02e04', 'air', 'naggi', 'anal', 'child', 'vidcon', 'anxiou', 'shake', '10:30', 'smoke', 'white', 'grandpa', 'prolli', 'stash', 'closer-chas', 'spec', 'chase', 'wall', 'angel', 'mochamichel', 'iph', '0ne', 'simpli', 'bi0', 'x29', 'there', 'background', 'maggi', 'afraid', 'mull', 'nil', 'glasgow', 'netbal', 'thistl', 'thistlelov', 'minecraft', 'drew', 'delici', 'muddl', 'racket', 'isol', 'fa', 'particip', 'icecreammast', 'group', 'letitgrow', 'huhu', 'shet', 'desk', 'o_o', 'orz', 'problemmm', '75x', 'english', 'yeeaayi', 'alhamdulillah', 'amin', 'weed', 'crowdfund', 'goal', 'walk', 'hellooo', 'select', 'lynn', 'buffer', 'button', 'compos', 'fridayfun', 'non-filipina', 'ejayst', 'state', 'le', 'stan', 'lee', 'discoveri', 'cousin', '1400', 'yr', 'teleport', 'shahid', 'afridi', 'tou', 'mahnor', 'baloch', 'nikki', 'flower', 'blackfli', 'courgett', 'wont', 'affect', 'fruit', 'italian', 'netfilx', 'unmarri', 'finger', 'rock', 'wielli', 'paul', 'barcod', 'charlott', 'thta', 'trailblazerhonor', 'labour', 'leader', 'jeremi', '4leader', 'jezwecan', 'alot', 'agayhippiehippi', 'exercis', 'ginger', 'x28', 'teach', 'awar', '::', 'portsmouth', 'sonal', 'hungri', 'hmmm', 'pedant', '98', 'kit', 'ack', 'hih', 'choir', 'rosidbinr', 'duke', 'earl', 'tau', 'orayt', 'knw', 'block', 'dikha', 'reh', 'adolf', 'hitler', 'obstacl', 'exist', 'surrend', 'terrif', 'advaddict', '_15', 'jimin', 'notanapolog', 'map', 'inform', '0.7', 'motherfuck', \"david'\", 'damn', 'colleg', '24th', 'steroid', 'alansmithpart', 'servu', 'bonasio', \"doido'\", 'task', 'deleg', 'aaahhh', 'jen', 'virgin', 'non-mapbox', 'restrict', 'mapbox', 'basemap', 'contractu', 'research', 'seafood', 'weltum', 'teh', 'deti', 'huh', '=d', 'annoy', 'katmtan', 'swan', 'fandom', 'blurri', 'besok', 'b', 'urgent', 'within', 'dorset', 'goddess', 'blast', 'shitfac', 'soul', 'sing', 'disney', 'doug', '28', 'bnte', 'hain', ';p', 'shiiitt', 'case', 'rm35', 'negooo', 'male', 'madelin', 'nun', 'mornin', 'yapster', 'pli', 'icon', 'alchemist', 'x27', 'dayz', 'preview', 'thug', 'lmao', 'sharethelov', 'highvalu', 'halsey', '30th', 'anniversari', 'folk', 'bae', 'repli', 'complain', 'rude', 'bond', 'nigg', 'readingr', 'wordoftheweek', 'wotw', '4:18', 'est', 'earn', 'jess', 'surri', 'botani', 'gel', 'alison', 'lsa', 'respons', 'fron', 'debbi', 'carol', 'patient', 'discharg', 'loung', 'walmart', 'balanc', 'studi', 'hayley', 'shoulder', 'pad', 'mount', 'inquisitor', 'cosplay', 'cosplayprogress', 'mike', 'dunno', 'insecur', 'nh', 'devolut', 'patriot', 'halla', 'ark', \"jiyeon'\", 'buzz', 'burnt', 'mist', 'opi', 'avoplex', 'nail', 'cuticl', 'replenish', '15ml', 'seriou', 'submiss', 'lb', 'cherish', 'flip', 'learnt', 'backflip', 'jumpgiant', 'foampit', 'usa', 'pamer', 'thk', 'actuallythough', 'craft', 'session', 'mehtab', 'aunti', 'gc', 'yeeew', 'pre', 'lan', 'yeey', 'arrang', 'doodl', 'comic', 'summon', 'none', '🙅', 'lycra', 'vincent', 'couldnt', 'roy', 'bg', 'img', 'circl', 'font', 'deathofgrass', 'loan', 'lawnmow', 'popular', 'charismat', 'man.h', 'thrive', 'economi', 'burst', 'georgi', 'x26', 'million', 'fl', 'kindest', 'iceland', 'crazi', 'landscap', 'yok', 'lah', 'concordia', 'reunit', 'xxxibmchll', 'sea', 'prettier', 'imitatia', 'oe', 'michel', 'comeback', 'gross', 'treat', 'equal', 'injustic', 'femin', 'ineedfeminismbecaus', 'forgotten', 'recommend', 'redhead', 'wacki', 'rather', 'waytoliveahappylif', 'hoxton', 'holborn', 'tournament', 'equalityact', 'karen', 'wag', 'bum', 'wwooo', 'nite', 'laiten', 'arond', '1:30', 'consid', 'matur', 'journeyp', 'foam', \"lady'\", 'mob', 'fals', 'bulletin', 'spring', 'fiesta', 'nois', 'awuuu', 'aich', 'sept', 'rudramadevi', 'anushka', 'gunashekar', 'harryxhood', 'upset', 'ooh', 'humanist', 'magazin', 'usernam', 'rape', 'csrrace', 'lack', 'hygien', 'tose', 'cloth', 'temperatur', 'planet', 'brave', 'ge', '2015kenya', 'ryan', 'tidi', 'hagergang', 'chanhun', 'photoshoot', 'afteral', 'sadkaay', 'thark', 'peak', 'heatwav', 'lower', 'standard', 'x25', 'recruit', 'doom', 'nasti', 'affili', '>:)', '64', '74', '40', '00', 'hall', 'ted', 'pixgram', 'creativ', 'slideshow', '😒', '🌚', 'nibbl', 'ivi', 'sho', 'superpow', 'obsess', 'oth', 'third', 'ngarepfollbackdarinabilahjkt', '48', 'sunglass', 'jacki', 'sunni', 'style', 'jlo', 'jlover', 'turkey', 'goodafternoon', 'collag', 'furri', 'bruce', 'kunoriforceo', 'aayegi', 'tim', 'wiw', 'bip', 'zareen', 'daisi', \"b'coz\", 'kart', 'mak', '∗', 'lega', 'spag', 'boat', 'outboard', 'spell', 'reboard', 'fire', 'offboard', 'sn16', '9dg', 'bnf', '50', 'jason', 'rob', 'feb', 'victoriasecret', 'finland', 'helsinki', 'airport', 'plane', 'beyond', 'ont', 'tii', 'lng', 'yan', \"u'll\", 'steve', 'bell', 'prescott', 'leadership', 'cartoon', 'upsid', 'statement', 'selamathariraya', 'lovesummertim', 'dumont', 'jax', 'jone', 'awesomee', 'x24', 'geoff', 'amazingli', 'talant', 'vsco', 'thanki', 'hash', 'tag', 'ifimeetanalien', 'bff', 'section', 'follbaaack', 'az', 'cauliflow', 'attempt', 'prinsesa', 'yaaah', 'law', 'toy', 'sonaaa', 'beautiful', \"josephine'\", 'mirror', 'cretaperfect', '4me', 'cretaperfectsuv', 'creta', 'load', 'telecom', 'judi', 'superb', 'slightli', 'rakna', 'ew', 'whose', 'fifa', 'lineup', 'surviv', 'p90x', 'p90', 'dishoom', 'rajnigandha', 'minju', 'rapper', 'lead', 'vocal', 'yujin', 'visual', 'makna', 'jane', 'hah', 'hawk', 'greatest', 'histori', 'along', 'talkback', 'process', 'featur', 'mostli', \"cinema'\", 'defend', 'fashion', 'atroc', 'pandimension', 'manifest', 'argo', 'ring', '640', 'nad', 'plezzz', 'asthma', 'inhal', 'breath', 'goodluck', 'hunger', 'mockingjay', 'thehungergam', 'ador', 'x23', 'reina', 'felt', 'excus', 'attend', 'whn', 'andr', 'mamayang', '11pm', '1d', '89.9', 'powi', 'shropshir', 'border', \"school'\", 'san', 'diego', 'jump', 'sourc', 'appeas', '¦', 'aj', 'action', 'grunt', 'sc', 'anti-christ', 'm8', 'ju', 'halfway', 'ex', 'postiv', 'opinion', 'avi', 'dare', 'corridor', '👯', 'neither', 'rundown', 'yah', 'leviboard', 'kleper', ':(', 'impecc', 'setokido', 'shoulda', 'hippo', 'materialist', 'showpo', 'cough', '@artofsleepingin', 'x22', '☺', 'makesm', 'santorini', 'escap', 'beatport', '👊🏻', 'trmdhesit', 'manuel', 'vall', 'king', 'seven', 'kingdom', 'andal', 'taught', 'hide', 'privaci', 'wise', 'natsuki', 'often', 'catchi', 'neil', 'emir', 'brill', 'urquhart', 'castl', 'simpl', 'shatter', 'contrast', 'educampakl', 'rotorua', 'pehli', 'phir', 'somi', 'burfday', 'univers', 'santo', 'toma', 'norh', 'dialogu', 'chainsaw', 'amus', 'awe', 'protect', 'pop', '2ish', 'fahad', 'bhai', 'iqrar', 'waseem', 'abroad', 'movie', 'chef', 'grogol', 'long-dist', 'rhi', 'pwrfl', 'benefit', 'b2b', 'b2c', \"else'\", 'soo', 'enterprison', 'schoolsoutforsumm', 'fellow', 'juggl', 'purrtho', 'catho', 'catami', 'fourfivesecond', 'deaf', 'drug', 'alcohol', 'apexi', 'crystal', 'meth', 'champagn', 'fc', 'streamer', 'juic', 'correct', 'portrait', 'izumi', 'fugiwara', 'clonmel', 'vibrant', 'estim', 'server', 'quiet', 'yey', \"insha'allah\", 'wil', 'x21', 'trend', 'akshaymostlovedsuperstarev', 'indirect', 'askurban', 'lyka', 'mobilegam', 'io', 'nap', 'aff', 'unam', 'jonginuh', 'forecast', '10am', '5am', 'sooth', 'vii', 'sweetheart', 'freak', 'zayn', 'fucker', 'pet', 'illustr', 'wohoo', 'gleam', 'paint', 'deal', 'prime', 'minist', 'sunjam', 'industri', 'present', 'practic', 'proactiv', 'environ', 'unreal', 'zain', 'zac', 'isaac', 'oss', 'frank', 'iero', 'phase', 'david', 'beginn', 'shine', 'sunflow', 'tommarow', 'yall', 'rank', 'birthdaymonth', 'vianey', 'juli', 'birthdaygirl', \"town'\", 'andrew', 'otwol', 'awhil', 'x20', 'all-tim', 'julia', 'robert', 'awwhh', 'bulldog', 'unfortun', '02079', '490', '132', 'born', 'fightstickfriday', 'extravag', 'tearout', 'selekt', 'yoot', 'cross', 'gudday', 'dave', 'haileyhelp', 'eid', 'mubarak', 'brotheeerrr', 'adventur', 'tokyo', 'kansai', 'l', 'upp', 'om', '60', 'minut', 'data', 'jesu', 'amsterdam', '3rd', 'nextweek', 'booti', 'bcuz', 'step', 'option', 'stabl', 'sturdi', 'lukkke', 'again.ensoi', 'tc', 'madam', 'siddi', 'unknown', 'roomi', 'gn', 'gf', 'consent', 'mister', 'vine', 'peyton', 'nagato', 'yuki-chan', 'shoushitsu', 'archdbanterburi', 'experttradesmen', 'banter', 'quiz', 'tradetalk', 'floof', 'face', 'muahah', 'x19', 'anticip', 'jd', 'laro', 'tayo', 'answer', 'ht', 'angelica', 'anghel', 'aa', 'kkk', 'macbook', 'rehears', 'youthcelebr', 'mute', '29th', 'gohf', 'vegetarian', \"she'll\", 'gooday', '101', '12000', 'oshieer', 'realreview', 'happycustom', 'realoshi', 'dealsuthaonotebachao', 'bigger', 'dime', 'uhuh', '🎵', 'code', 'pleasant', 'on-board', 'raheel', 'flyhigh', 'bother', 'everett', 'taylor', 'ha-ha', 'peachyloan', 'fridayfreebi', 'noe', 'yisss', 'bindingofissac', 'xboxon', 'consol', 'justin', 'gladli', 'son', 'morocco', 'peru', 'nxt', 'bp', 'resort', 'x18', 'havuuulovey', 'uuu', 'possitv', 'hopey', 'throwbackfriday', 'christen', 'ki', 'yaad', 'gayi', 'opossum', 'belat', 'yeahh', 'kuffar', 'comput', 'cell', 'diarrhea', 'immigr', 'lice', 'goictiv', '70685', 'tagsforlik', 'trapmus', 'hotmusicdeloco', 'kinick', '01282', '452096', 'shadi', 'reserv', 'tkt', 'likewis', 'overgener', 'ikr', '😍', 'consumer', 'fic', 'ouch', 'slip', 'disc', 'thw', 'chute', 'chalut', 'replay', 'iplay', '11am', 'unneed', 'megamoh', '7/29', 'tool', 'zealand', 'pile', 'dump', 'couscou', \"women'\", 'fiction', 'wahahaah', 'x17', 'orhan', 'pamuk', 'hero', 'canopi', 'mapl', 'syrup', 'farm', 'stephani', 'congrtaualt', 'philea', 'club', 'inc', 'photograph', 'phonegraph', 'srsli', '10:17', 'ripaaa', 'banat', 'ray', 'dept', 'hospit', 'grt', 'infograph', \"o'clock\", 'habit', '1dfor', 'roadtrip', '19:30', 'ifc', 'whip', 'lilsisbro', 'pre-ord', \"pixar'\", 'steelbook', 'hmm', 'pegel', 'lemess', 'kyle', 'paypal', 'oct', 'tud', 'jst', 'humphrey', 'yell', 'erm', 'breach', 'superhero', 'scififan', 'lemon', 'yogurt', 'pot', 'discov', 'liquoric', 'pud', 'cajun', 'spice', 'yum', 'cajunchicken', 'infinit', 'fight', 'gern', 'cikaaa', 'maaf', 'telat', 'ngucapinnya', 'maaay', 'x16', 'viparita', 'karani', 'legsupthewal', 'unwind', 'coco', 'comfi', 'jalulu', 'rosh', 'gla', 'pallavi', 'nairobi', 'hrdstellobama', 'region', 'civil', 'societi', 'globe', 'hajur', 'yayi', \"must'v\", 'nerv', 'prelim', 'costacc', 'nwb', 'shud', 'cold', 'hmu', 'cala', 'brush', 'ego', 'wherev', 'interact', 'dongsaeng', 'chorong', 'friendship', 'impress', 'dragon', 'duck', 'mix', 'cheetah', 'wagga', 'coursework', 'lorna', 'scan', 'x12', 'canva', 'iqbal', 'ima', 'hon', 'aja', 'besi', 'chati', 'phulani', 'swasa', 'bahari', 'jiba', 'mumbai', 'gujarat', 'distrub', 'otherwis', '190cr', 'inspit', 'highest', 'holder', 'threaten', 'daili', 'basi', 'vr', 'angelo', 'quezon', 'sweatpant', 'farbridg', 'segalakatakata', 'nixu', 'begun', 'flint', '🍰', 'separ', 'criticis', 'gestur', 'pedal', 'stroke', 'caro', 'deposit', 'secur', 'shock', 'coff', 'tenerina', 'auguri', 'iso', 'certif', 'paralyz', 'anxieti', \"it'd\", 'develop', 'spain', 'def', 'bantim', 'fail', '2ban', 'x15', 'awkward', 'ab', 'gale', 'founder', 'loveyaaah', '⅛', '⅞', '∞', 'specialist', 'aw', 'babyyi', 'djstruthmat', 're-cap', 'urock', 'flickr', 'tack', 'zephbot', 'hhahahahaha', 'blew', 'entir', 'vega', 'strip', 'hahahahahhaha', \"callie'\", 'puppi', 'owner', 'callinganimalabusehotlineasap', 'gorefiend', 'mythic', 'remind', '9:00', '▪', '️bea', 'miller', 'lockscreen', 'mbf', 'keesh', \"yesterday'\", 'groupi', 'bebe', 'sizam', 'color', 'invoic', 'kanina', 'pong', 'umaga', 'browser', 'typic', 'pleass', 'leeteuk', 'pearl', 'thusi', 'pour', 'milk', 'tgv', 'pari', 'austerlitz', 'bloi', 'mile', 'chateau', 'de', 'marai', 'taxi', 'x14', 'nom', 'enji', 'hater', 'purchas', 'specially-mark', 'custard', 'sm', 'on-pack', 'instruct', 'tile', 'downstair', 'kelli', 'greek', 'petra', 'shadowplayloui', 'mutual', 'cuz', 'liveonstream', 'lani', 'graze', 'pride', 'bristolart', 'in-app', 'ensur', 'item', 'screw', 'amber', '43', 'hpc', 'wip', 'sw', 'newsround', 'hound', '7:40', 'ada', 'racist', 'hulk', 'tight', 'prayer', 'pardon', 'phl', 'abu', 'dhabi', 'hihihi', 'teamjanuaryclaim', 'godonna', 'msg', 'bowwowchicawowwow', 'settl', 'dkt', 'porch', 'uber', 'mobil', 'applic', 'giggl', 'bare', 'wind', 'kahlil', 'gibran', 'flash', 'stiff', 'upper', 'lip', 'britain', 'latmon', 'endeavour', 'ann', 'joy', 'os', 'exploit', 'ign', 'au', 'pubcast', 'tengaman', '21', 'celebratio', 'letsprocrastin', 'women', 'instal', 'glorifi', 'infirm', 'silli', 'suav', 'gentlemen', 'monthli', 'mileag', 'target', 'samsung', 'qualiti', 'ey', 'beth', 'gangster', \"athena'\", 'fanci', 'wellington', 'rich', 'christina', 'newslett', 'zy', 'olur', 'x13', 'flawless', 'reaction', 'hayli', 'edwin', 'elvena', 'emc', 'rubber', 'swearword', 'infect', '10:16', 'wrote', 'gan', 'brotherhood', 'wolf', 'pill', 'nocturn', 'rrp', '18.99', '13.99', 'jah', 'wobbl', 'retard', '50notif', 'check-up', 'pun', 'elit', 'camillu', 'pleasee', 'spare', 'tyre', 'joke', 'ahahah', 'shame', 'abandon', 'disagre', 'nowher', 'contradict', 'chao', 'contain', 'cranium', 'sneaker', 'nike', 'nikeorigin', 'nikeindonesia', 'pierojogg', 'skoy', 'winter', 'falkland', 'jamie-le', 'congraaat', 'hooh', 'chrome', 'storm', 'thunderstorm', 'circuscircu', 'omgg', 'tdi', '(-:', 'peter', 'expel', 'boughi', 'kernel', 'paralysi', 'liza', 'lol.hook', 'vampir', 'diari', 'twice', 'thanq', 'goodwil', 'vandr', 'ash', 'debat', 'solar', '6-5', 'shown', 'ek', 'taco', 'mexico', 'viva', 'méxico', 'burger', 'thebestangkapuso', 'lighter', 'tooth', 'korean', 'netizen', 'crueler', 'eleph', 'marula', 'tdif', 'shoutout', 'shortli', 'itsamarvelth', \"japan'\", 'homework', 'marco', 'herb', 'pm', 'self', 'esteem', 'patienc', 'sobtian', 'cowork', 'deathli', 'hallow', 'supernatur', 'consult', 'himach', '2.25', 'asham', 'where.do.i.start', 'moviemarathon', 'skill', 'shadow', 'own', 'pair', \"it'll\", 'cortez', 'superstar', 'tthank', 'colin', 'luxuou', 'tarryn', 'hbdme', 'yeeeyyy', 'barsostay', 'males', 'independ', 'sum', 'debacl', 'perfectli', 'longer', 'amyjackson', 'omegl', 'countrymus', 'five', \"night'\", \"freddy'\", 'demo', 'pump', 'fanboy', 'thegrandad', 'sidni', 'remarriag', 'occas', 'languag', 'java', \"php'\", 'notion', 'refer', 'confus', 'ohioan', 'stick', 'doctor', 'ambr', 'suzan', '268', 'offlin', 'thesim', 'madonnamademtv', \"c'mon\", 'madonnafamili', 'madonnafan', 'beverli', 'martin', '1277 1093', 'mb', 'meaningless', 'common', 'celebr', 'muertosatfring', '_gta_giveaway', '624', '179', 'emul', 'brought', 'enemi', 'relax', 'ou', 'pink', 'cc', 'meooowww', 'barkkkiiidee', 'bark', 'x11', 'routin', 'alek', 'awh', 'kumpul', 'cantik', 'ganteng', 'kresna', 'jelli', 'simon', 'lesley', 'blood', 'panti', 'lion', 'artworkbyli', 'judo', 'daredevil', 'despond', 're-watch', 'welcoma.hav', 'favor', 'tridon', '21pic', 'master', 'nim', \"there'r\", '22pic', 'kebun', 'ubud', 'ladyposs', 'xoxoxo', 'sneak', 'peek', 'inbox', 'happyweekend', 'therealgolden', '47', 'girlfriendsmya', 'ppl', 'closest', 'njoy', 'followingg', 'privat', 'pusher', 'stun', 'wooohooo', 'cuss', 'teenag', 'ace', 'sauc', 'livi', 'fowl', 'oliviafowl', '891', 'burnout', 'johnforceo', 'matthew', 'provok', 'indiankultur', 'oppos', 'biker', 'lyk', 'gud', 'weight', 'bcu', 'rubbish', 'veggi', 'steph', 'nj', 'x10', 'cohes', 'gossip', 'alex', 'heswifi', '7am', 'wub', 'cerbchan', 'jarraaa', 'morrrn', 'snooz', 'clicksco', 'gay', 'lesbian', 'rigid', 'theocrat', 'wing', 'fundamentalist', 'islamist', 'brianaaa', 'brianazabrocki', 'sky', 'batb', 'clap', 'whilst', 'aki', 'thencerest', '547', 'indiemus', 'sexyjudi', 'pussi', 'sexo', 'humid', '87', 'sloppi', \"second'\", 'stock', 'marmit', 'x9', 'nic', 'taft', 'finalist', 'lotteri', 'award', 'usagi', 'looov', 'wowww', '💙', '💚', '💕', 'lepa', 'sembuh', 'sibuk', 'balik', 'kin', 'gotham', 'sunnyday', 'dudett', 'cost', 'flippin', 'fortun', 'divinediscont', ';}', 'amnot', 'autofollow', 'teamfollowback', 'geer', 'bat', 'mz', 'yang', 'deennya', 'jehwan', '11:00', 'ashton', '✧', '｡', 'chelni', 'datz', 'fmt', 'dat', 'heartbeat', 'clutch', '🐢', 'besteverdoctorwhoepisod', 'relev', 'puke', 'proper', 'x8', 'sublimin', 'eatmeat', 'brewproject', 'lovenafianna', 'mr', 'lewi', 'clock', '3:02', 'muslim', 'prophet', 'غردلي', 'is.h', 'mistak', 'understood', 'politician', 'argu', 'intellect', 'shiva', 'mp3', 'standrew', 'sandcastl', 'ewok', 'nate', 'brawl', 'rear', 'nake', 'choke', 'heck', 'gun', 'associ', 'um', 'endow', 'ai', 'sikandar', 'pti', 'standwdik', 'westandwithik', 'starbuck', 'logo', 'renew', 'chariti', 'جمعة_مباركة', 'hoki', 'biz', 'non', 'america', 'california', '01:16', '45gameplay', 'ilovey', 'vex', 'iger', 'leicaq', 'leica', 'dudee', 'persona', 'yepp', '5878e503', 'x7', 'greg', 'posey', 'miami', 'james_yammouni', 'breakdown', 'materi', 'thorin', 'hunt', 'choroo', 'nahi', 'aztec', 'princess', 'raini', 'kingfish', 'chinua', 'acheb', 'intellectu', 'liquid', 'melbournetrip', 'taxikitchen', 'nooow', 'publish', 'ebook', 'self-publish', 'mcdo', 'everywher', 'dreamer', 'tanisha', '1nonli', 'attitud', 'kindl', 'flame', 'convict', 'bar', 'repath', 'adi', 'stefani', 'sg1', 'lightbox', 'ran', 'incorrect', 'apologist', 'x6', 'vuli', '01:15', 'batman', 'pearson', 'reput', 'nikkei', 'woodford', 'vscocam', 'vscoph', 'vscogood', 'vscophil', 'vscocousin', 'yaap', 'urwelc', 'neon', 'pant', 'haaa', 'will', 'auspost', 'openfollow', 'rp', 'eng', 'yūjō-cosplay', 'luxembourg', 'bunni', 'broadcast', 'needa', 'gal', 'bend', 'heaven', 'score', 'januari', 'hanabutl', 'kikhorni', 'interraci', 'makeup', 'chu', \"weekend'\", 'punt', 'horserac', 'hors', 'horseracingtip', 'guitar', 'cocoar', 'brief', 'introduct', 'earliest', 'indian', 'subcontin', 'bfr', 'maurya', 'jordanian', '00962778381', '838', 'tenyai', 'hee', 'ss', 'semi', 'atp', 'wimbledon', 'feder', 'nadal', 'monfil', 'handsom', 'cilic', 'firm', 'potenti', 'nyc', 'chillin', 'tail', 'kitten', 'garret', 'baz', 'leo', 'xst', 'centrifug', 'etern', 'forgiv', 'kangin', 'بندر', 'العنزي', 'kristin', 'cass', 'surajettan', 'kashi', 'ashwathi', 'mommi', 'tirth', 'brambhatt', 'snooker', 'compens', 'theoper', '479', 'premiostumundo', 'philosoph', 'x5', 'graphic', 'level', 'aug', 'excl', 'raw', 'weeni', 'annoyingbabi', 'lazi', 'cosi', 'client_amends_edit', '_5_final_final_fin', 'pdf', 'mauliat', 'ito', 'okkay', 'knock', \"soloist'\", 'ryu', 'saera', 'pinkeu', 'angri', '←', 'aqui', 'screencap', 'jonghyun', 'seungyeon', 'cnblue', 'mbc', 'wgm', 'masa', 'entrepreneurship', 'empow', 'limpopo', 'pict', 'norapowel', 'hornykik', 'livesex', 'pumpkin', 'thrice', 'patron', 'ventur', 'deathcur', 'boob', 'blame', 'dine', 'modern', 'grill', 'disk', 'nt4', 'iirc', 'ux', 'refin', 'zdp', 'didnt', 'justic', 'daw', 'tine', 'gensan', 'frightl', 'undead', 'plush', 'cushion', 'nba', '2k15', 'mypark', 'chronicl', 'gryph', 'volum', 'ellen', 'degener', 'shirt', 'mint', 'superdri', 'berangkaat', 'lagiii', 'siguro', 'un', 'kesa', 'lotsa', 'organis', '4am', 'fingers-cross', 'deep', 'htaccess', 'file', 'adf', 'womad', 'gran', 'canaria', 'gig', 'twist', 'youv', 'teamnatur', 'huni', 'yayayayay', 'yt', 'convent', 'brighton', 'slay', 'nicknam', 'babygirl', 'regard', 'himmat', 'karain', 'baat', 'meri', 'hotee-mi', 'uncl', 'tongu', 'pronounc', 'nativ', 'american', 'proverb', 'lovabl', 'yesha', 'montoya', 'eagerli', 'payment', 'suprem', 'leon', 'ks', 'randi', '9bi', 'physiqu', 'shave', 'uncut', 'boi', 'cheapest', 'regular', 'printer', 'nz', 'larg', 'format', '10/10', 'senior', 'raid', 'conserv', 'batteri', 'comfort', 'swt', 'reservations@sandsbeach.eu', 'localgaragederbi', 'campu', 'subgam', 'faceit', 'snpcaht', 'hakhakhak', 't___t', \"kyungsoo'\", '3d', 'properti', 'agent', 'accur', 'descript', 'theori', 'x4', 'marin', 'underwat', 'ocean', '15.90', 'yvett', 'author', 'mwf', 'programm', 'taal', 'lake', '2emt', '«', 'scurri', 'agil', 'solut', 'sme', 'omar', 'biggest', 'kamaal', 'amm', '3am', 'hopehousekid', 'pitmantrain', 'walkersmithway', 'keepitloc', 'sehun', 'se100lead', 'unev', 'sofa', 'surf', 'cunt', 'rescoop', 'multiraci', 'fk', 'narrow', 'warlock', 'balloon', 'mj', 'madison', 'beonknockknock', 'con-gradu', 'gent', 'bitchfac', 'organ', '12pm', 'york', 'nearest', 'lendal', 'pikami', 'captur', 'fulton', 'sheen', 'baloney', 'unvarnish', 'laid', 'thick', 'blarney', 'flatteri', 'thin', 'sachin', 'unimport', 'context', 'dampen', 'yu', 'rocket', 'narendra', 'modi', 'aaaand', \"team'\", 'macauley', 'howev', 'x3', 'wheeen', 'heechul', 'toast', 'coffee-weekday', '9-11', 'sail', \"friday'\", 'commerci', 'insur', 'requir', 'lookfortheo', 'cl', 'thou', 'april', 'airforc', 'clark', 'field', 'pampanga', 'hotairballoon', 'troll', '⚡', '👏', 'brow', 'oili', 'maricarljanah', 'navi', 'battlefield', '6:15', 'degre', 'fahrenheit', '🍸', '╲', '─', '╱', '🍤', '╭', '╮', '┓', '┳', '┣', '╰', '╯', '┗', '┻', 'stool', 'toppl', 'findyourfit', 'prefer', 'whomosexu', 'stack', 'pandora', 'digitalexet', 'digitalmarket', 'sociamedia', 'nb', 'bom', 'dia', 'todo', 'forklift', 'warehous', 'worker', 'lsceen', 'immatur', 'gandhi', 'grassi', 'feetblog', 'infrar', 'daughter', '4yr', 'old-porridg', 'fiend', '2nite', 'comp', 'vike', 't20blast', 'np', 'tax', 'ooohh', 'petjam', 'virtual', 'pounc', 'bentek', 'agn', 'socialmedia@dpdgroup.co.uk', 'sam', 'fruiti', 'vodka', 'sellyourcarin', '5word', 'chaloniklo', 'pic.twitter.com/jxz2lbv6o', \"paperwhite'\", 'laser-lik', 'focu', 'ghost', 'tagsforlikesapp', 'instagood', 'tbt', 'socket', 'spanner', '😴', 'pglcsgo', 'x2', 'crave', 'slower', 'sjw', 'cakehamp', 'glow', 'yayyy', 'merced', 'hood', 'badg', 'host', 'drone', 'blow', 'ignor', 'retali', 'bolling', \"where'\", 'denmark', 'whitey', 'cultur', 'course', 'intro', 'graphicdesign', 'videograph', 'space', \"ted'\", 'bogu', '1000', 'hahahaaah', 'owli', 'afternon', 'whangarei', 'kati', 'paulin', 'traffick', 'wors', 'henc', 'express', 'wot', 'hand-lett', 'roof', 'eas', '2/2', 'sour', 'dough', 'egypt', 'hubbi', 'sakin', 'six', 'christma', 'avril', 'n04j', '25', 'prosecco', 'pech', 'micro', 'catspj', '4:15', 'lazyweekend', 'overdu', 'mice', '💃', 'jurass', 'ding', 'nila', '8)', 'cooki', 'shir', '0', 'hale', 'cheshir', 'decor', 'lemm', 'rec', 'ingat', 'din', 'mono', 'kathryn', 'jr', 'hsr', 'base', 'major', 'sugarrush', 'knit', 'partli', 'homegirl', 'nanci', 'fenja', 'aapk', 'benchmark', 'ke', 'hisaab', 'ho', 'gaya', 'ofc', 'rtss', 'hwait', 'titanfal', 'xbox', 'ultim', 'gastronomi', 'newblogpost', 'foodiefriday', 'foodi', 'yoghurt', 'pancak', 'sabah', 'kapima', 'gelen', 'guzel', 'bir', 'hediy', 'thanx', '💞', 'visa', 'parisa', 'epiphani', 'lit', 'em-con', 'swore', '0330 333 7234', 'kianweareproud', 'distract', 'dayofarch', '10-20', 'bapu', 'ivypowel', 'newmus', 'sexchat', '🍅', 'pathway', 'balkan', 'gypsi', 'mayhem', 'burek', 'meat', 'gibanica', 'pie', 'surrey', 'afterward', '10.30', 'tempor', 'void', 'stem', 'sf', 'ykr', 'sparki', '40mm', '3.5', 'gr', 'rockfish', 'topwat', 'twitlong', 'me.so', 'jummah', 'durood', 'pak', 'cjradacomateada', 'supris', 'debut', 'bebravetoday', 'shipper', 'asid', 'housem', '737bigatingconcert', 'jedzjabłka', 'pijjabłka', 'polish', 'cider', 'mustread', 'cricket', '5pm', 'queri', 'abbi', 'sumedh', 'sunnah', 'عن', 'quad', 'bike', 'carri', 'proprieti', 'chronic', 'superday', 'chocolatey', 'yasu', 'ooooh', 'hallo', 'dylan', 'laura', 'patric', 'keepin', 'mohr', 'guest', \"o'neal\", 'tk', 'lua', 'stone', 'quicker', 'diet', 'sosweet', 'nominier', 'und', 'hardcor', '😌', 'ff__special', 'acha', 'banda', '✌', 'bhi', 'krta', 'beautifully-craft', 'mockingbird', 'diploma', 'blend', 'numbero', 'lolz', 'ambros', 'gwinett', 'bierc', 'ravag', 'illadvis', 'marriag', 'stare', 'cynic', 'yahuda', 'nosmet', 'poni', 'cuuut', \"f'ing\", 'vacant', 'hauc', 'lovesss', 'hiss', 'overnight', 'cornish', 'all-clear', 'raincoat', 'measur', 'wealth', 'invest', 'garbi', 'wash', 'refuel', 'dunedin', 'kall', 'rakhi', '12th', 'repres', 'slovenia', 'fridg', 'ludlow', '28th', 'selway', 'submit', 'spanish', '90210', 'oitnb', 'prepar', 'condit', 'msged', 'chiquito', 'ohaha', 'delhi', '95', 'webtogsaward', 'grace', 'sheffield', 'tramlin', 'tl', 'hack', 'lad', 'beeepin', 'duper', 'handl', 'critiqu', 'contectu', 'ultor', 'mamaya', 'loiyal', 'para', 'truthfulwordsof', 'beanatividad', 'nknkkpagpapakumbaba', 'birthdaypres', 'compliment', 'swerv', 'goodtim', 'sinist', 'scare', 'tryna', 'anonym', 'dipsatch', 'aunt', 'dagga', 'burket', '2am', 'twine', \"diane'\", 'happybirthday', 'thanksss', 'randomli', 'buckinghampalac', 'chibi', 'maker', 'timog', '18th', 'otw', 'kami', 'feelinggood', 'demand', 'naman', 'barkin', 'yeap', 'onkey', 'umma', 'pervert', 'onyu', 'appa', 'luci', 'horribl', 'quantum', 'greater', 'blockchain', 'nowplay', 'loftey', 'routt', 'assia', '.\\n.\\n.', 'joint', 'futurereleas', \"look'\", 'scari', 'murder', 'mysteri', 'comma', \"j'\", 'hunni', 'diva', 'emili', 'nathan', 'pete', 'medit', 'alumni', 'mba', 'foto', 'what-is-your-fashion', 'lorenangel', 'kw', 'boatbound', 'luxuri', 'yacht', 'mass', 'tellanoldjokeday', 'reqd', 'specul', 'consist', 'tropic', 'startupph', 'zodiac', 'rapunzel', 'therver', '85552', 'bestoftheday', 'oralsex', 'carli', 'happili', 'contract', 'matsu_bouzu', 'sonic', 'videogam', 'harana', 'belfast', 'danni', 'rare', 'sponsorship', 'aswel', 'gigi', 'nick', 'austin', 'youll', 'weak', '10,000', 'bravo', 'iamamonst', 'rxthedailysurveyvot', 'broke', 'ass', 'roux', 'walkin', 'audienc', 'pfb', 'jute', 'walangmakakapigilsakin', 'lori', 'ehm', 'trick', 'baekhyun', 'eyesmil', 'borrow', 'knive', 'thek', 'eventu', 'reaapear', 'kno', 'whet', 'gratti', 'shorter', 'tweetin', 'inshallah', 'banana', 'raspberri', 'healthylifestyl', 'aint', 'skate', 'analyz', 'varieti', '4:13', 'insomnia', 'medic', 'opposit', 'everlast', 'yoga', 'massag', 'osteopath', 'trainer', 'sharm', 'al_master_band', 'tbc', 'unives', 'architectur', 'random', 'isnt', 'typo', 'snark', 'lession', 'drunk', 'bruuh', '2week', '50europ', '🇫', '🇷', 'iov', 'accord', 'mne', 'pchelok', 'ja', '=:', 'sweetest', 'comet', 'ahah', 'candi', 'axio', 'rabbit', 'nutshel', 'taken', 'letshavecocktailsafternuclai', 'malik', 'umair', 'canon', 'gang', 'grind', 'thoracicbridg', '5minut', 'nonscript', 'password', 'shoshannavassil', 'addmeonsnapchat', 'dmme', 'mpoint', 'soph', 'hopeless', 'ikea', 'slide', 'bani', 'neighbour', 'motor', 'search', 'sialan', 'athabasca', 'glacier', '1948', ':-(', 'jasper', 'jaspernationalpark', 'alberta', 'explorealberta', 'mare', 'ivan', 'hahahah', 'replac', 'bi-polar', 'grasp', 'digit', 'lone', '😩', 'choreograph', 'mingm', 'truli', 'pee', 'newwin', 'doushit', 'gundam', 'dollar', 'pale', 'imit', 'rash', 'absent', 'sequel', 'ouucchhh', 'wisdom', 'frighten', 'pret', 'wkwkw', 'verfi', 'sentir-s', 'incompleta', 'thwart', 'zant', \"when'\", 'audraesar', 'craaazzyy', 'helium', 'climatechang', \"california'\", 'influenti', 'pollut', 'watchdog', 'califor', 'uniteblu', 'tcot', 'elhaida', 'juri', '10th', 'televot', 'idaho', 'drought-link', 'die-of', 'abrupt', 'climat', 'mammoth', 'megafauna', \"australia'\", 'dirtiest', 'energi', 'biomass', 'golf', 'ulti', 'prexi', 'kindergarten', 'sane', 'boss', 'hozier', 'soooner', 'respectlost', 'hypercholesteloremia', 'calibraska', 'genuin', 'contend', 'older', 'ao', 'yun', 'encor', '4thwin', 'baymax', 'mixer', 'wft', 'hub', 'loud', 'parasyt', 'alll', 'zayniscomingbackonjuli', '26', 'era', '。', 'ω', '」', '∠', 'nathann', 'dieididieieiei', 'netflix', 'ervin', 'desper', 'amargolonnard', 'batalladelosgallo', 'webcamsex', 'duti', \"u'v\", 'alien', 'sorka', 'funer', 'nonexist', 'wowza', 'fah', 'boo', 'hyung', 'predict', 'sj', 'nomin', 'brace', 'omggg', 'whyyi', 'evan', 'opt', 'muster', 'merch', 'savanna', 'straw', 'yester', 'when', 'consum', 'werk', 'foreal', 'wesen', 'uwes', 'bosen', 'egg', 'benni', 'badli', '>:(', 'zaz', 'rehash', 'mushroom', 'piec', 'vicki', '45', 'hahah', 'ninasti', 'tsktsk', 'dick', 'kawaii', 'manli', 'youu', 'potato', 'asf', 'eish', 'ive', 'lost', 'mojo', 'mara', 'neh', 'councillor', 'sholong', 'reject', 'gee', 'gidi', 'lago', 'ehn', 'arrest', 'idk', 'anybodi', 'disappear', 'daze', 'fragment', \"would'v\", 'walao', 'djderek', 'legend', 'tragedi', '💪🏻', '🐒', 'struck', 'belgium', 'fabian', 'delph', 'fallen', 'drake', 'silent', 'mumma', 'pray', 'appropri', 'across', 'hindi', '5s', 'disabl', 'pension', 'ptsd', 'imposs', 'financi', 'nooo', 'toghet', '21st', 'snsd', 'anna', 'akana', 'askip', \"t'exist\", 'kei', 'kate', 'spade', 'pero', 'walang', 'agesss', 'corinehurleigh', 'snapchatm', 'zara', 'trouser', \"it'okay\", 'freed', 'orcalov', 'lew', 'crumbl', 'mcflurri', 'cabl', \"venus'\", 'concept', 'rli', 'tagal', 'appoint', 'cereal', 'previou', '73', 'fansign', 'expens', 'zzzz', \"bff'\", \"deosn't\", 'liverpool', 'lowest', 'tacki', 'haaretz', 'israel', 'syria', 'chemic', 'wsj', 'rep', 'wong', 'confisc', 'icepack', 'dose', 'whimper', 'senpai', 'buttsex', \"dn't\", 'brk', \":'(\", 'falsetto', 'zone', 'loveofmylif', 's2', 'untruth', 'ij', '💥', '💫', 'soshi', 'buttt', 'heyyy', 'yeol', 'dancee', 'nemanja', 'vidic', 'roma', \"mom'\", 'linguist', \"dad'\", 'dumbest', 'crash', 'resourc', 'vehicl', 'ayex', 'lamon', 'scroll', 'curv', 'cement', '10.3', 'jmu', 'camp', 'teas', 'awuna', 'mbulelo', 'although', 'plug', 'fuse', 'dammit', 'carlton', 'aflblueshawk', \"alex'\", 'motorsport', 'cheeki', 'seo', 'nl', 'christi', 'niec', 'bloodi', 'sandwhich', 'buset', 'discrimin', 'pregnanc', 'foot', 'f', 'matern', 'kick', 'domesticviol', 'domest', 'violenc', 'victim', '98fm', 'vaw', 'govern', 'sapiosexu', 'beta', 'hogan', 'scrub', 'wwe', 'iren', 'naa', 'sold', 'h_my_k', 'valentin', 'et', \"r'ship\", 'btwn', 'homo', 'biphob', 'disciplin', 'incl', 'european', 'lang', 'fresherstofin', '💔', 'realist', 'benzema', 'hahahahahaah', 'donno', 'russian', 'waaa', 'eidwithgrof', 'boreddd', 'mug', 'tiddler', '에이핑크', '더쇼', 'clan', 'slot', 'pfff', 'bugbounti', 'self-xss', 'header', 'poison', 'execut', 'ktksbye', 'cancel', 'petit', '600', 'odoo', 'partner', 'effin', 'ap', 'elsewher', 'branch', 'pod', 'd;', 'talk-kama', 'hawako', 'waa', 'kimaaani', 'prisss', 'baggag', 'sugar', 'agh', 'undercoverboss', 'تكفى', 'ach', 'wrist', 'ligo', 'dozen', 'shark', 'heartach', 'zayniscomingback', 'sweden', 'elmhurst', 'etid', \"chillin'with\", 'father', 'istanya', '2suppli', 'infrastructur', 'nurs', 'paramed', 'countless', '2cope', 'pasha', 'plea', 'arian', 'kendal', 'kyli', \"kylie'\", 'manila', 'jeebu', 'reabsorbt', 'abscess', 'crown', 'ooouch', 'barney', \"be'\", 'problemat', 'mess', 'maa', 'bangalor', 'lui', 'manzano', 'shaaa', 'conven', '2:30', 'delet', 'airfield', 'jet', \"jack'\", \"mommy'\", 'overweight', 'sigeg', 'habhab', 'masud', 'kaha', 'akong', 'pala', 'dolphin', 'holi', 'anythin', 'bewar', 'agonis', 'modimo', 'tseba', 'wena', 'fela', 'nowt', 'willi', 'gon', 'vomit', 'bowl', 'devast', 'titan', 'ae', 'shini', 'wavi', 'emo', 'germani', 'shed', 'bheyp', 'ayemso', 'swell', 'wut', 'viciou', 'simpson', 'singapor', 'spinorbinmusicxcodysimpson', 'pooo', 'bh3', 'pitchwar', 'chap', \"mine'\", 'transcript', \"apma'\", 'timw', 'vitamin', 'healthier', 'stretch', 'blockjam', \"schedule'\", 'whack', 'thelock', '76', 'hotgirl', 'ghantay', 'nai', 'hay', 'deni', 'laguna', 'exit', 'gomen', 'grew', 'inch', 'suuuper', '65', 'inact', 'orphan', 'whaaat', 'kaya', 'naaan', 'paus', '3:30', 'inglewood', 'ummm', 'charcoal', 'mid-end', 'noooo', 'rodfanta', 'wasp', 'sting', 'avert', 'exo', 'seekli', 'riptito', 'manbearpig', 'academ', 'exclus', 'unfair', 'esp', 'bleak', 'german', 'chart', 'pfft', 'polaroid', 'newbethvideo', 'greec', 'xur', 'imi', 'stud', 'hund', '3.4', 'yach', 'huvvft', 'zoo', 'fieldtrip', 'sizw', 'boredom', 'who', 'sins', 'somehow', 'tini', 'barbel', 'ps', 'looong', 'litro', 'shepherd', 'lami', 'lungomar', 'pesaro', 'giachietittiwed', 'igersoftheday', 'summertim', 'nose', 'scarf', 'afford', 'woe', 'nigga', 'motn', 'make-up', 'ver', 'huhuhu', \"m'ladi\", 'j8', 'j11', 'm20', 'acad', 'schedul', 'nowww', 'hugh', 'paw', 'muddi', 'heyi', 'cupcak', 'talaga', 'poppin', 'joc', 'playin', 'subj', 'sobrang', 'bv', 'zamn', 'afropunk', 'fest', 'shithous', 'ladder', 'wrack', 'booset', 'restart', 'assassin', 'creed', 'ii', 'heap', 'ankl', 'puddl', 'slipper', 'eve', 'sararoc', 'anywayhedidanicejob', '😞', 'local', 'cruis', 'wail', 'wheelchair', '26week', 'sbenu', 'sasin', 'anarchi', 'candl', 'forehead', 'medicin', 'hoya', 'mah', 'a', 'hush', 'gurli', 'purti', 'closer', 'shiver', 'paid', 'properli', 'gol', 'pea', 'tierd', \"eye'\", 'thnkyouuu', 'highlight', 'courag', 'fishi', 'idek', 'apink', 'bulet', 'gendut', 'noo', 'hotwheel', 'ms', 'patch', 'ahaha', 'akon', 'nightmar', 'mino', 'crazyyi', 'thooo', 'zz', 'straight', 'soundcheck', 'antagonist', 'ob', 'phantasi', 'sleepdepriv', 'tiredashel', '4aspot', \"kinara'\", 'awami', 'niqqa', 'pb.contest', 'aarww', 'lmbo', 'dangit', 'ohmygod', 'scenario', 'tooo', 'baechyyi', 'okayyy', 'noon', 'drag', 'serious', 'misundersrand', 'chal', 'raha', 'yhm', 'edsa', 'jasmingarrick', 'milf', 'nakamaforev', 'kiksex', \"unicef'\", 'fu', 'alon', 'stephen', 'frustrat', 'woza', 'senight', '468', 'amateur', 'hotscratch', 'sock', '150-160', 'peso', 'degrassi', 'bcz', 'kat', 'chem', 'onscreen', 'ofscreen', 'ironi', 'rhisfor', 'camsex', 'fxhelp', 'poopi', 'pip', 'uff', '1.300', 'glue', 'kuchar', 'up', 'uni', 'ee', 'tommi', 'georgia', 'transmiss', 'orang', 'suma', 'shouldeeerr', 'repack', 'grown', 'dy', 'rihanna', 'ging', 'adida', 'pro@illamasqua.com', 'ifeely', 'harder', 'ratbaglat', 'semest', 'gin', 'gut', 'reynold', 'dessert', 'villag', 'oppress', 'afghanistn', 'war', 'tore', 'sunggyu', 'injur', 'plaster', 'rtd', 'stadium', 'welder', 'hogo', 'vishaya', 'adu', 'bjp', 'madatt', 'anta', 'vishwa', 'ne', 'illa', 'wua', 'picki', 'thent', '423', 'sexual', 'sync', 'plug.dj', 'suspems', 'cope', 'offroad', 'harvest', 'machineri', 'inapropri', 'weav', 'scottish', 'footbal', 'dire', 'nomoney', 'nawf', 'becho', 'overli', 'zap', 'distress', 'cinema', 'louisianashoot', 'har', 'chum', 'ncc', 'ph', 'kayo', 'itong', 'thaaat', 'ctto', 'expir', 'bi', '3:33', 'jfc', 'bodo', 'amat', 'yelaaa', 'dublin', 'potter', 'pine', 'keybind', 'warfar', 'diagnos', 'wiv', \"scheuermann'\", 'diseas', 'rlyhurt', 'howdo', 'georgesampson', 'signal', 'reckon', 't20', 'taunton', 'justiceforsandrabland', 'sandrabland', 'disturb', 'happpi', 'justinbieb', 'daianerufato', 'ilysm', '07:34', 'delphi', 'dom', 'techniqu', 'minc', 'symphoni', 'joe', 'wth', 'aisyhhh', 'bald', 'seungchan', 'aigooo', 'riri', 'vet', 'kept', 'lumin', 'z', 'bebee', 'lt', 'inaccuraci', 'inaccur', 'tragic', 'toronto', 'stuart', \"party'\", 'iyalaya', ';(', 'happier', 'ubusi', 'gymnast', 'aahhh', 'noggin', 'bump', 'feelslikeanidiot', 'pregnant', 'dearli', 'suk', 'scone', 'outnumb', 'eri', 'geez', 'preciou', 'hive', 'vietnam', 'dunt', 'sob', 'buff', 'deactiv', \"shady'\", 'isibaya', '😓', 'colder', 'med', 'sausag', 'adio', 'h8', 'messeng', 'shittier', 'leno', 'ident', 'crisi', 'roommat', 'nighter', 'flew', 'wetherspoon', 'polic', 'lisah', 'eboni', 'polka', 'ndi', 'leftov', 'walnut', 'boah', 'madi', 'manga', 'giant', 'aminormalyet', 'poorli', 'tummi', 'pj', 'groan', 'nou', 'ken', 'sara', 'accid', 'describ', 'prydz', 'sister-in-law', 'rear-end', \"everyone'\", 'trash', 'stair', 'childhood', 'toothsensit', 'shem', 'awel', 'weekendofmad', '🍹', 'cb', 'dancer', 'choregraph', '626-430-8715', 'hoe', 'xiu', 'nk', 'gi', 'uss', 'eliss', 'ksoo', 'tat', 'bcoz', 'rancho', 'imperi', 'silang', 'subdivis', 'center', '39', 'evri', 'cornwal', 'verit', 'penni', 'фотосет', 'addicted-to-analsex', 'sweetbj', 'blowjob', 'mhhh', 'sed', 'mee', 'enviou', 'lovey', 'dovey', 'workin', 'schade', 'isco', 'peni', 'louisiana', 'lafayett', 'matteroftheheart', 'waduh', 'suspend', 'clich', 'rma', 'jersey', 'jaclintil', 'likeforlik', 'hotfmnoaidilforariana', 'fuckkk', 'sanum', 'llaollao', 'foood', 'ubericecream', 'glare', 'choreo', 'offens', 'yeyi', 'hd', 'sux', 'nothaveld', '765', 'likeforfollow', 'mosquito', 'kinki', 'hsould', 'justget', 'shuffl', 'int', 'buckl', 'millz', 'aski', 'awusasho', 'unlucki', 'briefli', '144p', 'brook', '＠', 'maverickgam', '07:32', '07:25', 'extern', 'sd', 'airdroid', '4.4+', 'cramp', 'unstan', 'tay', 'ngeze', 'cocktaili', 'classi', '07:24', '✈', '️2', '☔', 'pen', 'barcelona', 'bilbao', 'sharyl', 'shane', 'giddi', 'd1', 'zipper', 'repair', '2016', 'cont', 'wore', 'tempt', 'oreo', 'network', 'lolipop', 'kebab', 'klappertart', 'moodbost', 'unprepar', 'sri', 'dresscod', 'iam', 'stab', 'meh', 'wrocilam', 'looww', 'recov', 'wayn', 'loss', 'stolen', 'accident', 'damag', 'devic', 'warranti', 'lmfaoo', 'fra', 'otamendi', 'ny', '🚖', '🗽', '🌃', 'stealth', 'bastard', 'therapi', 'switzerland', 'th', 'wolrd', 'fyn', '3g', 'christ', 'scale', 'deck', 'chair', 'yk', 'resi', 'bruh', 'lock', 'fbc', 'mork', '873', 'hotspotwithdanri', 'sone', 'potag', 'blight', 'mych', 'shiiit', 'prompt', 'areadi', 'similar', 'soulmat', 'hw', 'jouch', 'por', 'que', 'liceooo', 'ayala', 'tunnel', 'thatscold', 'lourd', 'bang', 'anywher', 'showbox', 'naruto', 'companion', 'skinni', 'dubai', 'laribuggi', 'nutella', \"could'v\", 'siriu', 'frudg', 'sat', 'bbz', 'angek', 'sbali', 'euuuwww', 'construct', '1k', 'nell', 'ik', 'jaysu', 'buti', 'poop', 'rome', 'throat', 'llama', 'getwellsoonamb', 'heath', 'ledger', 'permiss', '2-0', 'supersport', 'milkshak', 'witcher', 'papertown', 'bale', 'bahay', 'bahayan', 'magisa', 'sadlyf', 'bunso', 'sleeep', 'astonvilla', 'berigaud', 'bakar', 'allerg', 'depress', \"blaine'\", 'acoust', 'hernia', 'toxin', 'ariel', 'slam', 'bee', 'finddjderek', 'uuughhh', 'grabe', 'where', 'smi', 'nemesi', 'neeein', 'saaad', 'creas', 'tan', 'dalla', 'infront', 'beato', 'minha', 'deleici', 'pcb', 'peregrin', '8.40', 'pigeon', 'tram', 'hav', 'apt', 'bldg', 'mmmm', 'nicki', 'fucjikg', 'disgust', 'buynotanapologyonitun', 'aval', 'nw', 'sch', 'jeslyn', '72', 'root', 'hua', 'newbi', 'miracl', 'linda', 'nux', 'hinanap', 'uy', 'sched', 'anyar', 'entertain', 'typa', 'transpar', 'photoshop', 'planner', 'helppp', 'wearig', 'prey', 'ausfailia', 'snow', 'footi', 'row', \"m'\", 'kitkat', '😢', 'suger', 'olivia', 'audit', 'injuri', 'appendix', 'append', 'fack', 'nhl', 'khami', 'kadhafi', 'reaali', 'naomi', 'contemporari', '565', 'jahat', 'discount', 'thorp', 'esnho', 'node', 'directx', 'p2', 'blackberri', 'shitti', 'povertyyouareevil', 'struggl', 'emm', 'elgin', 'vava', 'makati', '💛', 'baon', 'soak', 'mush', \"they'd\", 'ouat', 'blinkin', 'headack', 'tension', 'erit', 'perspect', 'endlessli', 'blush', 'kiddo', 'rumbel', 'irrespons', 'pakighinabi', 'pinkfinit', 'beb', 'migrain', 'coyot', 'headach', '인피니트', 'baechu', 'calibraskaep', 'elgato', 'ant', 'faint', 'subway', 'fragil', 'gap', 'plot', 'bungi', 'woohyun', 'guilti', 'davao', 'luckyyi', 'confid', 'eunha', 'misplac', 'den', 'dae', 'bap', 'huehu', 'rice', 'krispi', 'marshmallow', 'm5m6junction', 'soulsurvivor', 'stafford', 'progress', 'mixtur', \"they'v\", 'lage', 'ramd', 'juja', 'murugan', 'bgtau', 'harap', 'bagi', 'aminn', 'fraand', '😬', 'bigbang', 'sian', 'nicoleapag', 'hellish', 'thirstyyi', 'chesti', \"nando'\", 'bow', 'hen', 'rdd', 'dissip', 'capee', 'japan', 'outliv', 'x-ray', 'dental', 'spine', 'relief', 'popol', 'stomach', 'frog', 'brad', 'gen.ad', 'negoti', 'huhuhuhuhu', 'bbmadeinmanila', 'findavip', 'boyirl', 'yasss', '6th', 'june', 'lain', 'diffici', 'speed', 'rapist', 'commit', 'crime', 'bachpan', 'yaadein', 'finnair', 'heathrow', 'norwegian', ':\\\\', 'upvot', 'keeno', 'whatthefuck', 'grotti', 'seeker', 'moral', 'fern', 'mimi', 'bali', 'lowbat', 'funk', 'wewanticecream', 'sweat', 'eugh', 'occasion', \"izzy'\", 'dorm', 'choppi', \"infinite'\", '5:30', 'cayton', 'emma', 'darcey', 'connor', 'spoke', 'roommateexperi', 'avoid', 'ic', 'te', 'auto-followback', 'ljp', 'nowday', 'attach', 'numb', 'dentist', 'misss', 'rid', 'tab', 'uca', 'bigtim', 'rumor', 'warmest', 'chin', 'tickl', '♫', 'zikra', 'lusi', 'hasya', 'nugget', 'olymp', \"millie'\", '748292', 'ano', '22stan', 'mag', 'hatee', 'leas', 'written', '6g', 'unsuccess', 'earlob', 'sue', 'dreari', 'denis', 'muriel', 'ahouré', 'pr', \"kath'd\", 'respond', 'chop', 'wbu', 'kme', 'cram', 'curiou', 'trespass', 'clandestin', 'muller', 'obviou', 'mufc', 'stu', 'buddyyi', 'feelgoodfriday', '6:30', 'babysit', 'opix', '805', 'pilllow', 'fool', 'brag', 'skrillah', 'drown', 'gue', 'north', 'sjkao', 'srri', 'stuffi', 'bo2', 'honma', 'yeh', 'walay', 'bohat', 'wailay', 'pre-season', 'pe', 'itna', 'shor', 'machaya', 'samjha', '👍', '😔', 'sirkay', 'wali', 'pyaaz', 'daal', 'onion', 'vinegar', 'tutori', 'soho', 'ciao', 'masaan', 'muv', 'beast', 'hayst', 'cr', 'hnnn', 'optimis', 'soniii', 'kahaaa', 'freez', 'fml', 'jacket', 'sleepi', 'bulli', 'racial', 'loool', 'busier', 'onward', 'coincid', 'imac', 'gram', 'nearer', 'blain', 'darren', 'fuuuck', 'gishwh', 'exclud', 'movement', 'frou', 'vaccin', 'armor', 'legendari', 'cash', 'nat', 'brake', 'grumpi', 'wreck', 'gahhh', 'teribl', 'kilig', 'weaker', 'shravan', 'stooop', 'gi-guilti', 'akooo', 'imveryverysorri', 'cd', 'basenam', 'theme', 'cigar', 'speaker', 'promethazin', 'zopiclon', 'addit', 'quetiapin', 'modifi', 'prescript', 'greska', 'macedonian', 'slovak', 'hike', 'zokay', 'accent', 'b-but', 'gintama', 'shinsengumi', 'chapter', 'crappl', 'ftw', 'phandroid', 'tline', 'orchestra', 'bittersweet', 'eunji', 'bakit', '121st', 'ehdar', 'pegea', 'panga', 'dosto', 'nd', 'real_liam_payn', '3/10', 'dmed', '23', 'alreaddyyi', 'luceleva', 'naeun', \"son'\", 'kidney', 'ink', 'ihatesomepeopl', 'tabl', '0-2', 'hard-wir', 'canadian', 'acn', 'gulo', 'kandekj', 'rize', 'meydan', 'experienc', 'fcking', 'crei', 'dormmat', 'bo3', 'cod', 'redeem', 'invalid', 'hopia', 'editor', 'reveal', 'booo', 'extens', 'rightnow', 'btu', 'karaok', 'licenc', 'apb', 'hahahaokay', 'basara', 'capcom', 'url', 'grumbl', 'migrant', 'awsm', 'tmw', 'uwu', 'jinki', 'taem', 'gif', 'cambridg', 'viath', 'cypru', 'zayncomebackto', 'spazz', 'soobin', '27', 'float', 'pressur', 'lifetim', 'hiondsh', '58543', 'sexdat', \"demi'\", 'junjou', 'romantica', 'cruel', 'privileg', 'mixtap', 'convinc', 'friex', 'shaylan', '4:20', 'ylona', 'realiti', 'nah', 'ouh', 'nm', 'encanta', 'vale', 'osea', 'bea', '♛', '》', 'beli̇ev', 'wi̇ll', 'justi̇n', '350', 'ｓｅｅ', 'ｍｅ', '349', 'baek', 'dunwan', 'suan', 'haiz', '348', 'adult', '347', '😕', 'insonia', '346', 'rick', 'ross', 'heartbreak', '345', 'milli', 'diff', 'golden', 'roseburi', 'familyhom', '344', 'monkey', '343', 'erica', 'istg', 'jackson', 'nsbzhdnxndamal', '342', '11:15', '2hour', '11:25', '341', 'mahilig', 'mam-bulli', 'mtaani', 'tunaita', 'viazi', 'choma', 'jerk', 'menil', '340', \"kam'\", 'meee', 'diz', 'biooo', 'ay', 'taray', 'yumu-youtub', '339', 'parijat', 'willmissyouparijat', 'jolli', '338', 'mcnugget', 'sophi', 'caramello', 'koala', 'suckmejimin', '337', 'sucki', 'pou', 'goddamn', 'nje', 'dbn', '🎀', '336', 'hardest', '335', 'pledg', 'viber', 'mwah', 'estat', 'lansi', '334', 'hp', 'waah', 'vandag', 'kgola', 'neng', 'eintlik', 'porn', '4like', 'repost', '333', 'magpi', '22.05', '15-24', '05.15', 'chswiyfxcskcalum', 'nvm', 'foof', '332', 'casilla', 'manchest', 'xi', 'rmtour', 'irl', 'blooper', 'huhuhuhu', 'na-tak', 'sorta', 'unfriend', 'greysonch', 'sandwich', 'sebastian', 'rewatch', 's4', 'ser', 'heart-break', 'outdat', 'm4', 'theater', '7-3', '7.30-', 'ekk', 'giriboy', 'harriet', 'gegu', 'gray', '331', '68', 'corbyn', \"labour'\", 'ry', 'lfccw', '5ever', 'ontheroadagain', 'halaaang', 'reciev', 'flop', 'caesarspalac', 'socialreward', 'cali', 'fuckboy', '330', 'chrompet', 'immun', 'lush', 'bathtub', 'mysql', 'libmysqlclient-dev', 'dev', 'pleasanton', 'wala', '329', 'heed', '328', 'gwss', 'thankyouu', 'charad', 'piano', '327', 'complaint', 'whatsoev', 'wentz', 'shogi', 'blameshoghicp', 'classmat', 'fixedgearfrenzi', 'dispatch', 'theyr', \"shamuon'\", 'toe', 'horrend', \"someone'\", '326', 'hasb', 'atti', 'muji', 'sirf', 'sensibl', 'brum', 'cyclerevolut', 'caaannnttt', 'overdrawn', 'tbf', 'perfum', 'sampl', 'chanel', 'burberri', 'prada', '325', 'noesss', 'topgear', 'bridesmaid', \"tomorrow'\", 'gather', 'sudden', '324', 'randomrestart', 'randomreboot', 'lumia', 'windowsphon', \"microsoft'\", 'mañana', 'rap', 'striker', 'lvg', 'refurbish', 'cintiq', \"finnick'\", 'askfinnick', 'hairi', '323', 'buri', 'omaygad', 'vic', 'surgeri', 'tt.tt', 'hyper', '322', 'imiss', '321', '320', 'know.for', 'prepaid', '319', 'grandma', \"grandpa'\", 'cow', 'veget', 'deliri', 'motilium', 'shite', '318', 'schoolwork', \"phoebe'\", '317', 'pothol', '316', '1,300', 'robyn', 'necklac', 'rachel', 'ramzan', 'crosss', 'clapham', 'investig', 'sth', 'essenti', 'photoshooot', 'mahon', 'shut', 'andam', 'memor', 'cotton', 'swallow', 'snot', 'taknottem', '477', 'btob', 'percentag', 'swift', 'a9', 'sexyjan', 'horni', 'goodmus', 'lart', 'sew', 'skyfal', 'premier', 'manteca', \"she'd\", 'shiatsu', 'risk', 'hopper', 'eyyah', 'utd', '1-0', 'cart', 'aaa', 'waifu', 'breakup', 'bia', 'syndrom', 'shi', 'bias', 'pixel', 'weh', 'maymay', 'magpaalam', 'tf', 'subtitl', 'backstori', 'gimm', 'meal', 'neat-o', 'wru', 'scissor', 'creation', 'amtir', 'imysm', 'tut', 'trop', 'tard', 'deadlin', 'st', 'premiun', 'notcool', '2/3', 'lahat', 'araw', 'nage', 'gyu', 'lmfaooo', 'mashup', 'eu', 'lc', 'yass', 'rel', 'sydney', 'perf', 'omfg', 'combat', 'dosent', \"sod'\", '20min', 'yahoo', 'yodel', 'jokingli', 'gahd', '26th', '12.00', 'obyun', 'wayhh', 'preval', 'controversi', '🍵', 'tube', 'meck', 'mcfc', 'ucan', 'poc', 'specif', 'sinhala', 'billionair', '1645', '1190', 'maldiv', 'dheena', 'fasgadah', 'alvadhaau', 'countdown', 'function', 'desktop', 'evelineconrad', 'kikmsn', 'selfshot', 'backkk', 'transfer', 'dull', 'overcast', 'missin', 'hangin', 'wiff', 'cherri', 'bakewel', 'teal', 'sect', 'tennunb', 'skip', 'doomsday', 'neglect', 'posti', 'bellami', 'raven', 'helmi', 'uh', 'cnt', 'whereisthesun', 'summerismiss', 'longgg', 'ridicul', 'stocko', 'lucozad', 'explos', 'beh', 'half-rememb', \"melody'\", 'recal', 'difficult', 'expo', 'jisoo', 'anon', 'mager', 'wi', 'wht', 'distant', 'insan', 'charli', 'gana', 'studio', 'arch', 'lyin', 'kian', 'supercar', 'gurgaon', 'locat', '9:15', 'satir', 'peanut', 'viner', 'palembang', 'sorrryyi', 'fani', 'boner', 'yuki', '2500k', 'jake', 'gyllenha', 'impact', \"ledger'\", 'b4', 'deplet', 'mbasa', 'aah', 'pa-copi', 'biom', 'mosqu', 'smelli', 'emptier', \"ciara'\", \"everything'\", 'tall', 'intent', 'amb', \"harry'\", 'mayday', 'parad', 'lyf', '13th', 'chri', 'brown', 'riski', 'cologn', 'duo', 'ballad', 'bish', 'yumyum', \"cathy'\", 'missyou', 'rubi', 'pora', 'karlia', 'khatam', 'bandi', '👑', 'pyaari', 'gawd', 'massi', 'thatselfiethough', 'loop', 'aishhh', 'viewer', 'sighsss', 'toffe', 'honesti', 'cheatday', 'protein', 'sissi', 'tote', 'slowli', 'church', 'pll', 'sel', 'serbia', 'serbian', 'selen', 'motav', 'zayyyn', 'happend', 'imper', 'pana', 'quickest', 'sake', 'hamstr', 'rodwel', 'trace', 'tp', 'powder', 'wider', 'bruno', '1.8', 'ed', 'croke', 'toll', 'shape', 'unluckiest', 'bettor', 'nstp', 'sem', 'chipotl', 'chick-fil-a', 'stole', 'ramadhan', 'stexpert', 'ripstegi', 'nickyyi', '¿', 'centralis', 'discontinu', 'sniff', \"i't\", 'theres', 'cred', 't_t', 'elimin', 'teamzip', 'smtm', 'assingn', 'editi', 'nakaka', 'beastmod', 'gaaawd', 'colombia', 'yot', 'labyo', 'pano', 'nalamannn', 'hardhead', \"zach'\", 'xpress', 'hopkin', 'melatonin', '2-4', 'hahaah', 'frequent', 'jail', 'weirddd', 'donghyuk', 'bek', 'reynoldsgrl', 'ole', 'beardi', 'kaussi', 'bummer', 'fightingmciren', \"michael'\", 'miser', '💦', '💃🏽', 'shouldv', 'saffron', 'peasant', 'wouldv', 'nfinit', 'admin_myung', 'slp', 'saddest', 'laomma', 'kebaya', 'bandung', '7df89150', '62', '08962464174', 'laomma_coutur', 'haizzz', 'urghhh', 'working-on-a-tight-schedul', 'ganbarimasu', 'livid', 'whammi', 'quuuee', 'friooo', 'stereo', 'chwang', 'lorm', '823', 'unhappi', 'lolzz', 'corey', 'mahirap', 'noodl', 'veeerri', 'orig', 'starholicxx', '07:17', '@the', 'notr', 'hwi', 'niall', 'fraud', 'diplomaci', 'fittest', 'zero', 'toler', 'pier', 'approach', 'rattl', 'robe', 'emphasi', 'chose', 'abby.can', 'persuad', 'lyric', \"emily'\", 'kamiss', 'mwa', 'cafe', 'melbourn', 'anyonnee', 'fricken', 'rito', 'friendzon', 'panel', 'hsm', 'canario', 'ukiss', 'kurt', \"fatma'm\", 'lmfao', 'flapjack', 'countthecost', 'ihop', 'infra', 'lq', 'sotir', 'mybrainneedstoshutoff', 'macci', '510', 'silicon', 'kbye', 'ini', 'citizen', 'mcountdown', '5h', 'thapelo', 'civ', 'wooden', 'mic', 'embarrass', 'mecha-totem', 'nak', 'tgk', 'townsss', 'jokid', 'rent', 'inconsider', 'softbal', 'tomcat', 'chel', 'jemma', 'matchi', 'elsa', 'postpon', 'karin', 'vist', 'unhealthi', 'propa', 'knockin', 'pre-holiday', 'meani', 'deathbybaconsmel', 'init', 'destin', 'victoria', 'luna', 'krystal', 'sarajevo', 'haix', 'sp', 'wii', 'bayonetta', 'doabl', 'drove', 'agenc', 'story.miss', 'everon', 'jp', 'mamabear', 'imintoh', 'underr', \"slovakia'\", 'd:', 'saklap', 'rizal', 'lib', 'advisori', 'period', 'dit', 'du', 'harsh', 'ohgod', 'abligaverin', 'sexygirlbypreciouslemmi', 'ripsandrabland', 'edel', 'salam', 'mubark', 'dong', 'tammirossm', 'speck', 'abbymil', 'ion', '5min', 'hse', 'noob', 'fck', 'nae', 'whit', 'van', 'bristol', 'subserv', 'oo', 'tub', 'penyfan', 'breconbeacon', 'tittheir', '42', 'hotti', 'fuzzi', 'antonio', 'kang', 'junhe', 'couldv', 'pz', 'somerset', 'sunburnt', 'safer', 'k3g', 'input', 'gamestomp', \"angelo'\", 'yna', 'fiver', 'sakho', 'threat', 'goalscor', '10:59', '11.00', 'sham', 'tricki', 'baao', 'nisrina', 'ladygaga', \"you'\", 'marrish', \"otp'\", 'edomnt', 'qih', 'shxb', 'chilton', 'creepi', 'boohoo', 'roar', 'victori', 'tweepsmatchout', 'nein', '404', 'willlow', 'sowwi', '3000', 'gear', '0.001', 'mode', '11:11', 'shanzay', 'salabrati', 'journo', 'lure', 'mashaket', 'bapak', 'prima', 'mune', '874', 'plisss', 'sunway', 'petal', 'jaya', 'selangor', 'huhuu', 'margo', 'konga', 'wa', 'ode', 'disvirgin', 'bride', 'yulin', 'imma', 'syawal', 'lapar', 'foundat', 'facil', 'dh', 'chalet', 'suay', 'anot', 'bugger', 'एक', 'बार', 'फिर', 'सेँ', 'धोखा', 'chandauli', 'majhwar', 'tito', 'tita', 'critic', 'steal', 'narco', 'regen', 'unfav', 'benadryl', 'arent', 'yg', 'gg', 'sxrew', 'dissappear', 'swap', 'ishal', 'thaank', 'jhezz', 'defenc', 'defens', 'nrltigersroost', 'indiana', 'hibb', 'biblethump', 'rlyyi', 'septum', 'pierc', 'venom', 'carriag', 'fur-trim', 'stetson', 'error', '59', 'xue', 'midori', 'sakit', 'mateo', 'bartend', 'despair', 'insta', 'iwantin', '___', 'fault', 'help@veryhq.co.uk', 'benedictervent', '221b', 'popcorn', 'joyc', 'ooop', 'paalam', 'sazbal', 'incid', 'aaahh', \"stomach'\", 'growl', 'beard', 'nooop', 'hundr', 'meg', \"verity'\", 'rupert', 'pleaaas', '👆🏻', 'woaah', 'solvo', 'twin', 'lego', 'barefoot', 'twelvyy', 'boaz', 'myhil', 'takeov', 'wba', \"taeyeon'\", 'derp', 'pd', 'zoom', \"sunny'\", 'besst', 'plagu', 'pit', 'frail', 'twurkin', 'razzist', 'tumblr', 'shek', '609', 'mugshot', 'plsss', 'taissa', 'farmiga', 'softwar', 'restor', 'momo', 'pharma', 'immov', 'messi', 'ansh', 'f1', 'rand', 'bein', 'tla', 'tweng', 'gene', 'up.com', 'counti', 'cooler', 'minhyuk', '1900', '😪', 'hz', 'emta', 'hatigii', 'b2aa', 'anesthesia', 'penrith', 'plain', 'untouch', 'brienn', 'lsh', 'gunna', 'former', 'darn', 'juudiciari', \"horton'\", 'dunkin', 'socialis', 'cara', \"delevingne'\", 'lace', 'fank', 'takfaham', 'ufff', 'sr', 'dard', 'katekyn', 'ehh', 'hacharatt', 'niwll', 'goa', 'lini', 'kasi', 'rhd', 'wae', 'subsid', '20th', 'youngja', 'harumph', 'soggi', 'sakura', 'flavour', 'chokki', '🌸', 'unavail', 'richard', 'satya', 'aditya', '🍜', 'vibrat', 'cu', 'dhaka', 'jam', 'cornetto', 'noseble', 'nintendo', 'wew', 'ramo', 'ground', 'shawn', 'mend', 'dinghi', 'skye', 'colleagu', 'gagal', 'txt', 'sim', 'nooot', 'notch', 'tht', 'starv', '\\U000fe196', 'pyjama', 'swifti', 'sorna', 'lurgi', '6gb', 'fenestoscop', 'etienn', 'bandana', 'vagina', 'suriya', 'dangl', 'mjhe', 'aaj', 'kisi', 'kiya', 'eyesight', '25x30', 'aftenoon', 'booor', 'boyfriend', 'garag', 'ce', 'gw', 'anatomi', 'no1', \"morisette'\", 'non-trial', 'sayhernam', 'lootcrat', 'inca', 'trail', 'sandboard', 'derbi', 'unabl', 'signatur', 'dish', 'unfamiliar', 'coldest', \"old'\", '14518344', '61', 'thirdwheel', 'lovebird', 'imo', '@juliettemaughan', 'sensiesha', 'eldest', '😟', 'keedz', 'taybigail', 'ps4', 'kink', 'streak', 'srski', 'tdc', 'in-sensit', 'cooper', 'thurston', 'collin', 'quietli', 'kennel', '911', 'pluckersss', 'gion', '886', 'kidschoiceaward', 'ming', 'pbr', 'periscop', 'ut', 'shawti', 'naw', \"sterling'\", '9muse', 'hrryok', 'wnt', '9:30', '9:48', '9/11', 'bueno', 'receptionist', 'ella', 'ketchup', 'tasteless', 'deantd', 'justgotkanekifi', 'notgonnabeactivefor', '2weeksdontmissittoomuch', '2013', 'vlog', 'turtl', 'cnn', 'straplin', 'theatr', 'guncontrol', 'stung', \"thát'\", 'powerpoint', 'diner', 'no-no', 'hind', 'circuit', 'secondari', 'sodder', 'mobitel', 'playstat', 'exp', 'misspelt', 'hyungwon', 'needicecreamnow', 'repeatedli', 'nu-uh', 'jace', 'mostest', 'urgh', \"grigson'\", 'carrot', '>:-(', 'ughh', 'otter', 'argh', 'pon', 'otl', 'sleepov', 'fabina', \"barrista'\", 'pup', 'brolli', 'dey', 'bitin', 'pretzel', 'bb17', 'bblf', 'fuckin', 'vanilla', 'latt', 'skulker', 'thread', 'pg279q', 'hungrrryyi', 'icloud', 'ipod', 'hallyu', 'über', 'oki', '8p', 'harlo', 'torrentialrain', 'lloyd', 'knowww', 'runni', 'sweater', 'intoler', 'xenophob', 'wtfff', 'tone', '1pm', 'newer', 'pish', 'comparison', 'remast', 'fe14', 'strawberri', 'kapatidkongpogi', 'mel', 'longest', 'carmen', 'login', '00128835', 'wingstop', 'budg', 'fuq', 'ilhoon', 'getthescoop', 'hearess', '677', 'txt_shot', 'standbi', 'inatal', 'zenmat', 'namecheck', 'whistl', 'junmyeon', 'ddi', 'arini', 'je', 'igbo', 'blamehoney', 'whhr', 'snuggl', 'usag', 'warn', 'vertigo', 'panic', 'dual', 'carriageway', 'aragalang', '08', 'tam', 'bose', 'theo', 'anymoree', 'cactu', 'sorrri', 'bowel', 'tumour', 'puffi', 'eyelid', 'musica', 'campsit', 'miah', 'hahay', 'churro', 'montana', 'reign', 'exampl', 'inflat', 'sic', 'reset', 'entlerbountli', 'dirtykik', 'sexcam', 'spray', 'swollen', 'postcod', 'kafi', 'mene', 'koi', 'rewert', 'bunta', 'warnaaa', 'tortur', 'iran', 'irand', 'us-iran', 'nuclear', \"mit'\", 'li', 's2e12', 'rumpi', 'gallon', 'dandia', 'rbi', 'cage', 'parrot', '1li', 'commiss', 'cag', 'stripe', 'ily.melani', 'unlik', 'deepxcap', 'doin', '5:08', 'thesi', 'gtg', 'compet', 'vv', 'opt-out', 'vam', 'spece', 'ell', 'sexyameli', 'fineandyu', 'imsorri', 'koe', 'emyu', 'confetti', 'sini', 'dipoppo', 'hop', 'bestweekend', 'okay-ish', 'html', 'geneva', 'patml', '482', 'abouti', '797', 'reaalli', 'meter', 'unansw', 'bri', 'magcon', 'sinuend', 'laper', 'rage', 'brendon', \"urie'\", 'sumer', 'repackag', \":'d\", 'yongb', 'sued', 'warm-up', 'rub', 'belli', 'jannatul', 'ferdou', 'ekta', 'kharap', 'manush', 'mart', 'gua', 'can', \"khloe'\", 'nhe', 'yar', 'minkyuk', 'hol', 'sensor', 'broker', 'wna', 'flaviana', 'chickmt', '123', 'letsfootbal', 'atk', 'greymind', 'gayl', 'mood-dump', 'livestream', 'felton', 'veriti', \"standen'\", '😆', 'takoyaki', 'aisyah', 'ffvi', 'youtu.be/2_gpctsojkw', 'donutsss', '50p', 'spars', 'lagi', 'rider', 'hueee', 'thingi', 'georg', 'chew', 'stella', 'theaccidentalcoupl', 'smooth', 'handov', 'spick', 'bebii', 'happenend', 'dr', 'balm', 'hmph', 'bubba', 'floor', 'oi', 'bengali', 'masterchef', 'whatchya', 'petrol', 'diesel', 'cock', 'nyquil', 'poootek', '1,500', 'bobbl', 'leak', 'thermo', 'tae', 'kita', 'ia', 'corrupt', 'anything.sur', 'octob', 'ene', '3k', 'zehr', 'khani', 'groceri', 'hubba', 'gum', 'closet', 'jhalak', 'bakwa', '. ...', 'seehiah', 'goy', 'nacho', 'braid', 'ruth', 'boong', 'gta', 'cwnt', 'trivia', 'rohingya', 'indict', 'thailand', 'savetherohingya', 'rumbl', 'kumbl', 'scold', 'phrase', 'tfw', 'jest', 'offend', 'sleepingwithsiren', '17th', 'bringmethehorizon', 'carva', 'regularli', 'revamp', 'headphon', 'wacha', 'niend', '2hr', '13m', 'kk', 'calibraksaep', 'darlin', \"doedn't\", 'meaning', 'horrif', 'scoup', 'sweedi', 'nam', \"sacconejoly'\", 'bethesda', 'fallout', 'minecon', 'katee', 'iloveyouu', 'linux', 'nawww', 'chikka', 'ug', 'rata', 'soonest', 'mwamwa', 'faggot', 'fyi', 'nicest', 'mehendi', 'dash', 'bookmark', 'whay', 'shaa', 'prami', '😚', 'ngee', 'crikey', 'snit', 'nathanielhinanakit', 'naya', 'spinni', 'wheel', 'albeit', 'athlet', 'gfriend', 'fugli', 'jongda', 'tlist', 'budget', 'pabebegirl', 'pabeb', 'sandra', 'bland', 'storifi', 'mtvhottest', 'gaga', '😵', 'hulkamania', 'unlov', 'ihhh', 'stackar', 'remedi', 'ov', 'raiz', 'nvr', 'gv', 'up.wt', 'wt', 'thr', 'soln', \"sister'\", 'pipe', 'lawn', \"cupid'\", 'torn', 'retain', 'clown', 'lipstick', 'haiss', 'todayi', 'thoo', 'everday', 'hangout', 'steven', 'william', 'umboh', 'jadin', 'thiz', 'iz', 'emeg', 'kennat', 'abi', 'arctic', 'chicsirif', 'cumbia', 'badlif', '4-5', 'kaslkdja', '3wk', 'feverfew', 'weddingflow', 'diyflow', 'fitn', 'wolverin', 'innoc', '🙏🏻', '🎂', 'memem', 'krystoria', 'snob', 'zumba', 'greekcrisi', 'remain', 'dutch', 'legibl', 'isra', 'passport', 'froze', '23rd', 'stomachach', 'ཀ', 'again', 'otani', '3-0', 'niaaa', '2/4', 'scheme', 'fckin', 'vin', 'plss', 'rpli', 'rat', 'mac', 'backup', 'lune', 'robinhood', 'robinhoodi', '🚙', 'docopenhagen', 'setter', 'swipe', 'bbygurl', 'caribbean', '6yr', 'takraw', 'fersure', 'angi', 'sheriff', 'aaag', \"i'mo\", 'sulk', 'selfish', 'nonc', 'bison', 'motiv', \"q'don\", 'cheat', 'stomp', 'aaaaaaaaah', 'kany', 'jdjdjdjd', \"jimin'\", 'fancaf', 'waffl', '87.7', '2fm', 'himseek', 'kissm', 'glo', 'cori', 'monteith', 'hashbrown', 'pg', 'msc', 'hierro', 'shirleycam', 'gilet', 'cheek', 'squishi', 'lahhh', 'eon', 'sunris', 'beeti', '697', 'getaway', 'crimin', '☼', 'amiibo', 'habe', 'siannn', 'chuckin', 'ampsha', 'nia', 'strap', 'dz9055', 'entlead', '590', '07:02', 'ifsc', 'mayor', 'biodivers', 'taxonom', 'collabor', 'speci', 'suppl', 'collar', '3:03', 'belt', 'smith', 'eyelin', 'therefor', 'netherland', 'el', 'jeb', 'blacklivesmatt', 'slogan', 'msnbc', 'jebbush', 'famish', 'marino', 'qualifi', 'suzi', 'skirt', 'tama', 'warrior', 'wound', 'iraq', 'camara', 'coveral', 'inspi', 'sneezi', 'rogerwatch', 'stalker', 'velvet', 'tradit', 'beheaviour', \"robert'\", '.\\n.', 'aaron', 'jelous', 'mtg', 'thoughtseiz', 'playabl', 'oldi', 'goodi', 'mcg', 'inspirit', 'ise', 'assum', 'waist', 'guin', 'venu', 'pepper', 'thessidew', '877', 'genesi', 'novemb', 'mash', 'whattsap', 'inuyasha', 'outfwith', 'myungsoo', 'satisfi', 'challo', 'pliss', 'juliana', 'enrol', 'darlen', 'emoji', 'brisban', 'merlin', 'nawwwe', 'hyperbulli', 'tong', 'nga', 'seatmat', 'rajud', 'ore', 'kayla', 'ericavan', 'jong', 'dongwoo', 'photocard', 'wh', 'dw', 'tumor', 'vivian', 'mmsmalubhangsakit', 'jillcruz', 'qt', '19th', 'co-work', 'unsettl', 'gh', '18c', 'rlli', 'hamster', 'sheeran', 'preform', 'monash', 'hitmark', 'glitch', 'safaa', \"selena'\", 'galat', 'tum', 'lrka', 'bna', 'bhook', 'afterschool', 'bilal', 'ashraf', 'icu', 'annnd', 'winchest', '{:', 'grepe', 'grepein', 'panem', 'sulli', 'cpm', 'condemn', '✔', 'occur', 'unagi', '7elw', 'mesh', 'beyt', '3a2ad', 'fluent', 'varsiti', 'sengenza', 'movnat', 'yield', 'nbhero', 'agov', 'brasileirao', 'abus', 'unpar', 'bianca', 'bun', 'dislik', 'burdensom', 'amelia', 'melon', 'soccer']\n"
          ]
        }
      ]
    },
    {
      "cell_type": "code",
      "source": [
        "# UNQ_C2 GRADED FUNCTION: train_naive_bayes\n",
        "\n",
        "def train_naive_bayes(freqs, train_x, train_y):\n",
        "    '''\n",
        "    Input:\n",
        "        freqs: dictionary from (word, label) to how often the word appears\n",
        "        train_x: a list of tweets\n",
        "        train_y: a list of labels correponding to the tweets (0,1)\n",
        "    Output:\n",
        "        logprior: the log prior. (equation 3 above)\n",
        "        loglikelihood: the log likelihood of you Naive bayes equation. (equation 6 above)\n",
        "    '''\n",
        "    loglikelihood = {}\n",
        "    logprior = 0\n",
        "    vocab = []\n",
        "    for tweet in train_x:\n",
        "      for word in process_tweet(tweet):\n",
        "        if word not in vocab:\n",
        "          vocab.append(word)\n",
        "        else:\n",
        "          print\n",
        "    V = len(vocab)\n",
        "\n",
        "    # calculate N_pos, N_neg, V_pos, V_neg\n",
        "    N_pos = N_neg = 0\n",
        "    for pair in freqs.keys():\n",
        "        # if the label is positive (greater than zero)\n",
        "        if pair[1] > 0:\n",
        "          # Increment the number of positive words by the count for this (word, label) pair\n",
        "          N_pos += freqs[pair]\n",
        "\n",
        "        # else, the label is negative\n",
        "        else:\n",
        "          # increment the number of negative words by the count for this (word,label) pair\n",
        "          N_neg += freqs[pair]\n",
        "    # For each word in the vocabulary...\n",
        "    freq_pos = freq_neg = 0\n",
        "    for word in vocab:\n",
        "      # get the positive and negative frequency of the word\n",
        "      if (word, 1.0) in freqs.keys():\n",
        "        freq_pos = freqs[word, 1.0] \n",
        "    \n",
        "      elif (word, 0.0) in freqs.keys():       \n",
        "        freq_neg = freqs[word, 0.0]\n",
        "\n",
        "        # calculate the probability that each word is positive, and negative\n",
        "      p_w_pos = (freq_pos+1)/(N_pos+V)\n",
        "      p_w_neg = (freq_neg+1)/(N_neg+V)\n",
        "      \n",
        "        # calculate the log likelihood of the word\n",
        "      loglikelihood[word] = math.log(((p_w_pos)/(p_w_neg)),10)\n",
        "    ### END CODE HERE ###\n",
        "\n",
        "    return loglikelihood"
      ],
      "metadata": {
        "id": "zlBjPyO8_e_y"
      },
      "execution_count": null,
      "outputs": []
    },
    {
      "cell_type": "markdown",
      "source": [
        "#Predict"
      ],
      "metadata": {
        "id": "ZhPIFdtnXnLK"
      }
    },
    {
      "cell_type": "code",
      "source": [
        "#make prediction\n",
        "def predict(tweet):\n",
        "  word_l = process_tweet(tweet)\n",
        "  p = 0\n",
        "  for word in word_l:\n",
        "    if word in loglikelihood:\n",
        "      p += loglikelihood[word]\n",
        "  # if the loglikelihood of words is > one then it is a positive tweet\n",
        "  if p > 1:\n",
        "    print(f'The sentence is positive\\n{p}')\n",
        "  else: print(f'The sentence is negative\\n{p}')"
      ],
      "metadata": {
        "id": "0iGeGjvA6_0j"
      },
      "execution_count": null,
      "outputs": []
    },
    {
      "cell_type": "code",
      "source": [
        "# UNQ_C3 (UNIQUE CELL IDENTIFIER, DO NOT EDI\n",
        "loglikelihood = train_naive_bayes(freqs, train_x, train_y)\n",
        "print(len(loglikelihood))"
      ],
      "metadata": {
        "colab": {
          "base_uri": "https://localhost:8080/"
        },
        "id": "VYa19EB0_kNI",
        "outputId": "63158ab9-5f0b-4a9c-e075-f89e635dfec8"
      },
      "execution_count": null,
      "outputs": [
        {
          "output_type": "stream",
          "name": "stdout",
          "text": [
            "9162\n"
          ]
        }
      ]
    },
    {
      "cell_type": "code",
      "source": [
        "tweet = \"idiot\"\n",
        "predict(tweet)"
      ],
      "metadata": {
        "id": "aLvrOf4U7wTO",
        "colab": {
          "base_uri": "https://localhost:8080/"
        },
        "outputId": "e84aba2c-db01-43d6-d68d-f23b52c15a2a"
      },
      "execution_count": null,
      "outputs": [
        {
          "output_type": "stream",
          "name": "stdout",
          "text": [
            "The sentence is negative\n",
            "0.29618759622856994\n"
          ]
        }
      ]
    }
  ]
}