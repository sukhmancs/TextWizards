{
  "cells": [
    {
      "cell_type": "markdown",
      "metadata": {
        "id": "view-in-github",
        "colab_type": "text"
      },
      "source": [
        "<a href=\"https://colab.research.google.com/github/sukhmancs/TextWizards/blob/main/translation_encoder_decoder_attention_french_english.ipynb\" target=\"_parent\"><img src=\"https://colab.research.google.com/assets/colab-badge.svg\" alt=\"Open In Colab\"/></a>"
      ]
    },
    {
      "cell_type": "code",
      "execution_count": null,
      "metadata": {
        "id": "Z4G1Ek8wFt-y"
      },
      "outputs": [],
      "source": [
        "#!pip install ipympl"
      ]
    },
    {
      "cell_type": "code",
      "source": [
        "# UPDATED\n",
        "###########################################################\n",
        "#!pip install gensim==4.3.1\n",
        "# The library has been archived and won't be used anymore\n",
        "# # !pip install allennlp==0.9.0\n",
        "#!pip install flair==0.12.2\n",
        "#!pip install torchvision==0.15.1\n",
        "# # HuggingFace\n",
        "!pip install transformers==4.32.0\n",
        "!pip install datasets==2.14.4\n",
        "###########################################################"
      ],
      "metadata": {
        "colab": {
          "base_uri": "https://localhost:8080/"
        },
        "id": "3BI2lbS0VPK9",
        "outputId": "b6abb636-5791-44fb-c2ac-c554e1e5942c"
      },
      "execution_count": null,
      "outputs": [
        {
          "output_type": "stream",
          "name": "stdout",
          "text": [
            "Requirement already satisfied: transformers==4.32.0 in /usr/local/lib/python3.10/dist-packages (4.32.0)\n",
            "Requirement already satisfied: filelock in /usr/local/lib/python3.10/dist-packages (from transformers==4.32.0) (3.13.1)\n",
            "Requirement already satisfied: huggingface-hub<1.0,>=0.15.1 in /usr/local/lib/python3.10/dist-packages (from transformers==4.32.0) (0.20.2)\n",
            "Requirement already satisfied: numpy>=1.17 in /usr/local/lib/python3.10/dist-packages (from transformers==4.32.0) (1.23.5)\n",
            "Requirement already satisfied: packaging>=20.0 in /usr/local/lib/python3.10/dist-packages (from transformers==4.32.0) (23.2)\n",
            "Requirement already satisfied: pyyaml>=5.1 in /usr/local/lib/python3.10/dist-packages (from transformers==4.32.0) (6.0.1)\n",
            "Requirement already satisfied: regex!=2019.12.17 in /usr/local/lib/python3.10/dist-packages (from transformers==4.32.0) (2023.6.3)\n",
            "Requirement already satisfied: requests in /usr/local/lib/python3.10/dist-packages (from transformers==4.32.0) (2.31.0)\n",
            "Requirement already satisfied: tokenizers!=0.11.3,<0.14,>=0.11.1 in /usr/local/lib/python3.10/dist-packages (from transformers==4.32.0) (0.13.3)\n",
            "Requirement already satisfied: safetensors>=0.3.1 in /usr/local/lib/python3.10/dist-packages (from transformers==4.32.0) (0.4.1)\n",
            "Requirement already satisfied: tqdm>=4.27 in /usr/local/lib/python3.10/dist-packages (from transformers==4.32.0) (4.66.1)\n",
            "Requirement already satisfied: fsspec>=2023.5.0 in /usr/local/lib/python3.10/dist-packages (from huggingface-hub<1.0,>=0.15.1->transformers==4.32.0) (2023.6.0)\n",
            "Requirement already satisfied: typing-extensions>=3.7.4.3 in /usr/local/lib/python3.10/dist-packages (from huggingface-hub<1.0,>=0.15.1->transformers==4.32.0) (4.5.0)\n",
            "Requirement already satisfied: charset-normalizer<4,>=2 in /usr/local/lib/python3.10/dist-packages (from requests->transformers==4.32.0) (3.3.2)\n",
            "Requirement already satisfied: idna<4,>=2.5 in /usr/local/lib/python3.10/dist-packages (from requests->transformers==4.32.0) (3.6)\n",
            "Requirement already satisfied: urllib3<3,>=1.21.1 in /usr/local/lib/python3.10/dist-packages (from requests->transformers==4.32.0) (2.0.7)\n",
            "Requirement already satisfied: certifi>=2017.4.17 in /usr/local/lib/python3.10/dist-packages (from requests->transformers==4.32.0) (2023.11.17)\n",
            "Requirement already satisfied: datasets==2.14.4 in /usr/local/lib/python3.10/dist-packages (2.14.4)\n",
            "Requirement already satisfied: numpy>=1.17 in /usr/local/lib/python3.10/dist-packages (from datasets==2.14.4) (1.23.5)\n",
            "Requirement already satisfied: pyarrow>=8.0.0 in /usr/local/lib/python3.10/dist-packages (from datasets==2.14.4) (10.0.1)\n",
            "Requirement already satisfied: dill<0.3.8,>=0.3.0 in /usr/local/lib/python3.10/dist-packages (from datasets==2.14.4) (0.3.7)\n",
            "Requirement already satisfied: pandas in /usr/local/lib/python3.10/dist-packages (from datasets==2.14.4) (1.5.3)\n",
            "Requirement already satisfied: requests>=2.19.0 in /usr/local/lib/python3.10/dist-packages (from datasets==2.14.4) (2.31.0)\n",
            "Requirement already satisfied: tqdm>=4.62.1 in /usr/local/lib/python3.10/dist-packages (from datasets==2.14.4) (4.66.1)\n",
            "Requirement already satisfied: xxhash in /usr/local/lib/python3.10/dist-packages (from datasets==2.14.4) (3.4.1)\n",
            "Requirement already satisfied: multiprocess in /usr/local/lib/python3.10/dist-packages (from datasets==2.14.4) (0.70.15)\n",
            "Requirement already satisfied: fsspec[http]>=2021.11.1 in /usr/local/lib/python3.10/dist-packages (from datasets==2.14.4) (2023.6.0)\n",
            "Requirement already satisfied: aiohttp in /usr/local/lib/python3.10/dist-packages (from datasets==2.14.4) (3.9.1)\n",
            "Requirement already satisfied: huggingface-hub<1.0.0,>=0.14.0 in /usr/local/lib/python3.10/dist-packages (from datasets==2.14.4) (0.20.2)\n",
            "Requirement already satisfied: packaging in /usr/local/lib/python3.10/dist-packages (from datasets==2.14.4) (23.2)\n",
            "Requirement already satisfied: pyyaml>=5.1 in /usr/local/lib/python3.10/dist-packages (from datasets==2.14.4) (6.0.1)\n",
            "Requirement already satisfied: attrs>=17.3.0 in /usr/local/lib/python3.10/dist-packages (from aiohttp->datasets==2.14.4) (23.2.0)\n",
            "Requirement already satisfied: multidict<7.0,>=4.5 in /usr/local/lib/python3.10/dist-packages (from aiohttp->datasets==2.14.4) (6.0.4)\n",
            "Requirement already satisfied: yarl<2.0,>=1.0 in /usr/local/lib/python3.10/dist-packages (from aiohttp->datasets==2.14.4) (1.9.4)\n",
            "Requirement already satisfied: frozenlist>=1.1.1 in /usr/local/lib/python3.10/dist-packages (from aiohttp->datasets==2.14.4) (1.4.1)\n",
            "Requirement already satisfied: aiosignal>=1.1.2 in /usr/local/lib/python3.10/dist-packages (from aiohttp->datasets==2.14.4) (1.3.1)\n",
            "Requirement already satisfied: async-timeout<5.0,>=4.0 in /usr/local/lib/python3.10/dist-packages (from aiohttp->datasets==2.14.4) (4.0.3)\n",
            "Requirement already satisfied: filelock in /usr/local/lib/python3.10/dist-packages (from huggingface-hub<1.0.0,>=0.14.0->datasets==2.14.4) (3.13.1)\n",
            "Requirement already satisfied: typing-extensions>=3.7.4.3 in /usr/local/lib/python3.10/dist-packages (from huggingface-hub<1.0.0,>=0.14.0->datasets==2.14.4) (4.5.0)\n",
            "Requirement already satisfied: charset-normalizer<4,>=2 in /usr/local/lib/python3.10/dist-packages (from requests>=2.19.0->datasets==2.14.4) (3.3.2)\n",
            "Requirement already satisfied: idna<4,>=2.5 in /usr/local/lib/python3.10/dist-packages (from requests>=2.19.0->datasets==2.14.4) (3.6)\n",
            "Requirement already satisfied: urllib3<3,>=1.21.1 in /usr/local/lib/python3.10/dist-packages (from requests>=2.19.0->datasets==2.14.4) (2.0.7)\n",
            "Requirement already satisfied: certifi>=2017.4.17 in /usr/local/lib/python3.10/dist-packages (from requests>=2.19.0->datasets==2.14.4) (2023.11.17)\n",
            "Requirement already satisfied: python-dateutil>=2.8.1 in /usr/local/lib/python3.10/dist-packages (from pandas->datasets==2.14.4) (2.8.2)\n",
            "Requirement already satisfied: pytz>=2020.1 in /usr/local/lib/python3.10/dist-packages (from pandas->datasets==2.14.4) (2023.3.post1)\n",
            "Requirement already satisfied: six>=1.5 in /usr/local/lib/python3.10/dist-packages (from python-dateutil>=2.8.1->pandas->datasets==2.14.4) (1.16.0)\n"
          ]
        }
      ]
    },
    {
      "cell_type": "code",
      "execution_count": null,
      "metadata": {
        "id": "1Lam4s72f4_2"
      },
      "outputs": [],
      "source": [
        "# For tips on running notebooks in Google Colab, see\n",
        "# https://pytorch.org/tutorials/beginner/colab\n",
        "#%matplotlib inline\n",
        "%matplotlib inline"
      ]
    },
    {
      "cell_type": "markdown",
      "metadata": {
        "id": "ZFiDgFY43Cef"
      },
      "source": [
        "# **IMPORT**"
      ]
    },
    {
      "cell_type": "code",
      "execution_count": null,
      "metadata": {
        "colab": {
          "base_uri": "https://localhost:8080/",
          "height": 1000
        },
        "id": "lmjl3f7nFTKD",
        "outputId": "d7432c0e-d9bf-4d72-9d1d-f8231791a637"
      },
      "outputs": [
        {
          "output_type": "execute_result",
          "data": {
            "text/plain": [
              "\"\\ntry:\\n    import google.colab\\n    import requests\\n    url = 'https://raw.githubusercontent.com/dvgodoy/PyTorchStepByStep/master/config.py'\\n    r = requests.get(url, allow_redirects=True)\\n    open('config.py', 'wb').write(r.content)\\nexcept ModuleNotFoundError:\\n    pass\\n\\nfrom config import *\\nconfig_chapter9()\\n# This is needed to render the plots in this chapter\\nfrom plots.chapter8 import *\\nfrom plots.chapter9 import *\\n\""
            ],
            "application/vnd.google.colaboratory.intrinsic+json": {
              "type": "string"
            }
          },
          "metadata": {},
          "execution_count": 211
        }
      ],
      "source": [
        "'''\n",
        "try:\n",
        "    import google.colab\n",
        "    import requests\n",
        "    url = 'https://raw.githubusercontent.com/dvgodoy/PyTorchStepByStep/master/config.py'\n",
        "    r = requests.get(url, allow_redirects=True)\n",
        "    open('config.py', 'wb').write(r.content)\n",
        "except ModuleNotFoundError:\n",
        "    pass\n",
        "\n",
        "from config import *\n",
        "config_chapter9()\n",
        "# This is needed to render the plots in this chapter\n",
        "from plots.chapter8 import *\n",
        "from plots.chapter9 import *\n",
        "'''"
      ]
    },
    {
      "cell_type": "code",
      "execution_count": null,
      "metadata": {
        "id": "YkwTFYIhFTKE"
      },
      "outputs": [],
      "source": [
        "import copy\n",
        "import numpy as np\n",
        "\n",
        "import torch\n",
        "import torch.optim as optim\n",
        "import torch.nn as nn\n",
        "import torch.nn.functional as F\n",
        "from torch.utils.data import DataLoader, Dataset, random_split, TensorDataset, RandomSampler\n",
        "from __future__ import unicode_literals, print_function, division\n",
        "from io import open\n",
        "import unicodedata\n",
        "import re\n",
        "import random\n",
        "\n",
        "#from data_generation.square_sequences import generate_sequences\n",
        "#from stepbystep.v4 import StepByStep"
      ]
    },
    {
      "cell_type": "code",
      "execution_count": null,
      "metadata": {
        "id": "Z_b7XyG6pl_W"
      },
      "outputs": [],
      "source": [
        "#!pip install trax"
      ]
    },
    {
      "cell_type": "code",
      "execution_count": null,
      "metadata": {
        "colab": {
          "base_uri": "https://localhost:8080/",
          "height": 1000
        },
        "id": "2NPhjRQaogx_",
        "outputId": "7ed944bc-90e7-4a2e-9e40-9c8410aa62f9"
      },
      "outputs": [
        {
          "output_type": "execute_result",
          "data": {
            "text/plain": [
              "'\\nfrom termcolor import colored\\nimport random\\nimport numpy as np\\n\\nimport trax\\nfrom trax import layers as tl\\nfrom trax.fastmath import numpy as fastnp\\nfrom trax.supervised import training\\n\\n!pip list | grep trax\\n'"
            ],
            "application/vnd.google.colaboratory.intrinsic+json": {
              "type": "string"
            }
          },
          "metadata": {},
          "execution_count": 214
        }
      ],
      "source": [
        "'''\n",
        "from termcolor import colored\n",
        "import random\n",
        "import numpy as np\n",
        "\n",
        "import trax\n",
        "from trax import layers as tl\n",
        "from trax.fastmath import numpy as fastnp\n",
        "from trax.supervised import training\n",
        "\n",
        "!pip list | grep trax\n",
        "'''"
      ]
    },
    {
      "cell_type": "markdown",
      "metadata": {
        "id": "CFdjE0eC2l7T"
      },
      "source": [
        "# __Start here:__"
      ]
    },
    {
      "cell_type": "code",
      "execution_count": null,
      "metadata": {
        "colab": {
          "base_uri": "https://localhost:8080/"
        },
        "id": "DWJ7tZNlt7-K",
        "outputId": "5f21681a-16c0-41df-978c-1cf7b9c0fad4"
      },
      "outputs": [
        {
          "output_type": "stream",
          "name": "stdout",
          "text": [
            "/content/drive/MyDrive/Code_files_and_data/data\n"
          ]
        }
      ],
      "source": [
        "cd /content/drive/MyDrive/Code_files_and_data/data"
      ]
    },
    {
      "cell_type": "code",
      "execution_count": null,
      "metadata": {
        "colab": {
          "base_uri": "https://localhost:8080/"
        },
        "id": "oCOvFlBfQK1U",
        "outputId": "7293e97f-395a-47ed-dc25-a155f82afe29"
      },
      "outputs": [
        {
          "output_type": "stream",
          "name": "stdout",
          "text": [
            "data\t\t\t\t\t\t    projections\n",
            "data.csv\t\t\t\t\t    question_answering\n",
            "data_vie.zip\t\t\t\t\t    question_answering_BERT_transformer\n",
            "data.zip\t\t\t\t\t    question_duplicates_Siamese_network_using_trax\n",
            "ende_32k.subword\t\t\t\t    shakespeare_data.txt\n",
            "en_embeddings.p\t\t\t\t\t    shakespeare.txt\n",
            "en-fr.test.txt\t\t\t\t\t    submission.csv\n",
            "en-fr.train.txt\t\t\t\t\t    surname_classification\n",
            "en_US.twitter.txt\t\t\t\t    test.csv\n",
            "finetune_bert\t\t\t\t\t    titanic_data\n",
            "fr_embeddings.p\t\t\t\t\t    train.csv\n",
            "machine_translation_encoder_decoder_with_attention  transformer_summerizer_trax\n",
            "model\t\t\t\t\t\t    utils.py\n",
            "model.pkl.gz\t\t\t\t\t    vie-eng.zip\n",
            "named_entity_recognition\t\t\t    world-happiness-report-2021.csv\n",
            "ner_dataset.csv\t\t\t\t\t    world-happiness-report.csv\n",
            "Password_Strength_Classifier_Dataset.zip\n"
          ]
        }
      ],
      "source": [
        "!ls"
      ]
    },
    {
      "cell_type": "code",
      "execution_count": null,
      "metadata": {
        "colab": {
          "base_uri": "https://localhost:8080/"
        },
        "id": "EfK2fzq52lk0",
        "outputId": "767374fc-4be5-40aa-b5fd-b88ba0cad5a1"
      },
      "outputs": [
        {
          "output_type": "stream",
          "name": "stdout",
          "text": [
            "The directory /content/drive/MyDrive/Code_files_and_data/data/data/ already exists. No need to extract.\n"
          ]
        }
      ],
      "source": [
        "# Download the data from this pytorch tutorial https://pytorch.org/tutorials/intermediate/seq2seq_translation_tutorial.html#loading-data-files\n",
        "# or Download directly by following this link https://download.pytorch.org/tutorial/data.zip\n",
        "import os\n",
        "\n",
        "#zip_file_path = '/content/drive/MyDrive/Code_files_and_data/data/data.zip' # Uncomment for For french to english dataset\n",
        "zip_file_path = '/content/drive/MyDrive/Code_files_and_data/data/data_vie.zip'  # Uncomment for Vietnamese to english dataset\n",
        "extracted_dir_path = '/content/drive/MyDrive/Code_files_and_data/data/data/'\n",
        "\n",
        "# Check if the extracted directory already exists\n",
        "if not os.path.exists(extracted_dir_path):\n",
        "    # If not, then unzip the file\n",
        "    !unzip $zip_file_path\n",
        "else:\n",
        "    print(f\"The directory {extracted_dir_path} already exists. No need to extract.\")\n"
      ]
    },
    {
      "cell_type": "markdown",
      "metadata": {
        "id": "RlfdNQuKhDTY"
      },
      "source": [
        "# Prepare data"
      ]
    },
    {
      "cell_type": "markdown",
      "source": [
        "### Generate Only the data (Non preprocessed embeddings steps)"
      ],
      "metadata": {
        "id": "0u7_zLW0LpDE"
      }
    },
    {
      "cell_type": "code",
      "execution_count": null,
      "metadata": {
        "id": "fBB4zRME3KzL"
      },
      "outputs": [],
      "source": [
        "SOS_token = 0\n",
        "EOS_token = 1\n",
        "\n",
        "class Lang:\n",
        "    def __init__(self, name):\n",
        "        self.name = name\n",
        "        self.word2index = {}\n",
        "        self.word2count = {}\n",
        "        self.index2word = {0: \"SOS\", 1: \"EOS\"}\n",
        "        self.n_words = 2  # Count SOS and EOS\n",
        "\n",
        "    def addSentence(self, sentence):\n",
        "        for word in sentence.split(' '):\n",
        "            self.addWord(word)\n",
        "\n",
        "    def addWord(self, word):\n",
        "        if word not in self.word2index:\n",
        "            self.word2index[word] = self.n_words\n",
        "            self.word2count[word] = 1\n",
        "            self.index2word[self.n_words] = word\n",
        "            self.n_words += 1\n",
        "        else:\n",
        "            self.word2count[word] += 1"
      ]
    },
    {
      "cell_type": "code",
      "execution_count": null,
      "metadata": {
        "id": "p71SzQiJ3rLN"
      },
      "outputs": [],
      "source": [
        "# Turn a Unicode string to plain ASCII, thanks to\n",
        "# https://stackoverflow.com/a/518232/2809427\n",
        "def unicodeToAscii(s):\n",
        "    return ''.join(\n",
        "        c for c in unicodedata.normalize('NFD', s)\n",
        "        if unicodedata.category(c) != 'Mn'\n",
        "    )\n",
        "\n",
        "# Lowercase, trim, and remove non-letter characters\n",
        "def normalizeString(s):\n",
        "    s = unicodeToAscii(s.lower().strip())\n",
        "    s = re.sub(r\"([.!?])\", r\" \\1\", s)\n",
        "    s = re.sub(r\"[^a-zA-Z!?]+\", r\" \", s)\n",
        "    return s.strip()"
      ]
    },
    {
      "cell_type": "code",
      "execution_count": null,
      "metadata": {
        "id": "tkm3DGDt37_8"
      },
      "outputs": [],
      "source": [
        "def readLangs(lang1, lang2, reverse=False):\n",
        "    print(\"Reading lines...\")\n",
        "\n",
        "    # Read the file and split into lines\n",
        "    lines = open('data/%s-%s.txt' % (lang1, lang2), encoding='utf-8').\\\n",
        "        read().strip().split('\\n')\n",
        "\n",
        "    # Split every line into pairs and normalize\n",
        "    pairs = [[normalizeString(s) for s in l.split('\\t')] for l in lines]  # Remove me - To train on entire data change this `for l in lines[:5000]` to `for l in lines`\n",
        "\n",
        "    # Reverse pairs, make Lang instances\n",
        "    if reverse:\n",
        "        pairs = [list(reversed(p)) for p in pairs]\n",
        "        input_lang = Lang(lang2)\n",
        "        output_lang = Lang(lang1)\n",
        "    else:\n",
        "        input_lang = Lang(lang1)\n",
        "        output_lang = Lang(lang2)\n",
        "\n",
        "    return input_lang, output_lang, pairs"
      ]
    },
    {
      "cell_type": "code",
      "execution_count": null,
      "metadata": {
        "id": "-53sCMxTNOWC"
      },
      "outputs": [],
      "source": [
        "MAX_LENGTH = 10\n",
        "\n",
        "eng_prefixes = (\n",
        "    \"i am \", \"i m \",\n",
        "    \"he is\", \"he s \",\n",
        "    \"she is\", \"she s \",\n",
        "    \"you are\", \"you re \",\n",
        "    \"we are\", \"we re \",\n",
        "    \"they are\", \"they re \"\n",
        ")\n",
        "\n",
        "def filterPair(p):\n",
        "    return len(p[0].split(' ')) < MAX_LENGTH and \\\n",
        "        len(p[1].split(' ')) < MAX_LENGTH and \\\n",
        "        p[1].startswith(eng_prefixes)\n",
        "\n",
        "\n",
        "def filterPairs(pairs):\n",
        "    return [pair for pair in pairs if filterPair(pair)]"
      ]
    },
    {
      "cell_type": "code",
      "execution_count": null,
      "metadata": {
        "colab": {
          "base_uri": "https://localhost:8080/"
        },
        "id": "wX4uFmKHNOWE",
        "outputId": "283a9d4d-9d0d-4d93-ecd9-a425a148c21d"
      },
      "outputs": [
        {
          "output_type": "stream",
          "name": "stdout",
          "text": [
            "Reading lines...\n",
            "Read 135842 sentence pairs\n",
            "Trimmed to 11445 sentence pairs\n",
            "Counting words...\n",
            "Counted words:\n",
            "fra 4601\n",
            "eng 2991\n",
            "['c est une tres gentille fille', 'she s a very nice girl']\n"
          ]
        }
      ],
      "source": [
        "def prepareData(lang1, lang2, reverse=False):\n",
        "    input_lang, output_lang, pairs = readLangs(lang1, lang2, reverse)\n",
        "    print(\"Read %s sentence pairs\" % len(pairs))\n",
        "    pairs = filterPairs(pairs)\n",
        "    print(\"Trimmed to %s sentence pairs\" % len(pairs))\n",
        "    print(\"Counting words...\")\n",
        "    for pair in pairs:\n",
        "        input_lang.addSentence(pair[0])\n",
        "        output_lang.addSentence(pair[1])\n",
        "    print(\"Counted words:\")\n",
        "    print(input_lang.name, input_lang.n_words)\n",
        "    print(output_lang.name, output_lang.n_words)\n",
        "    return input_lang, output_lang, pairs\n",
        "\n",
        "input_lang, output_lang, pairs = prepareData('eng', 'fra', True)\n",
        "print(random.choice(pairs))"
      ]
    },
    {
      "cell_type": "code",
      "execution_count": null,
      "metadata": {
        "id": "B-vL7tHG56q1"
      },
      "outputs": [],
      "source": [
        "def indexesFromSentence(lang, sentence):\n",
        "    return [lang.word2index[word] for word in sentence.split(' ')]\n",
        "\n",
        "def tensorFromSentence(lang, sentence):\n",
        "    indexes = indexesFromSentence(lang, sentence)\n",
        "    indexes.append(EOS_token)\n",
        "    return torch.tensor(indexes, dtype=torch.long, device=device).view(1, -1)\n",
        "\n",
        "def tensorsFromPair(pair):\n",
        "    input_tensor = tensorFromSentence(input_lang, pair[0])\n",
        "    target_tensor = tensorFromSentence(output_lang, pair[1])\n",
        "    return (input_tensor, target_tensor)\n",
        "\n",
        "def get_dataloader(batch_size):\n",
        "    input_lang, output_lang, pairs = prepareData('eng', 'fra', True)\n",
        "\n",
        "    n = len(pairs)\n",
        "    input_ids = np.zeros((n, MAX_LENGTH), dtype=np.int32)\n",
        "    target_ids = np.zeros((n, MAX_LENGTH), dtype=np.int32)\n",
        "\n",
        "    for idx, (inp, tgt) in enumerate(pairs):\n",
        "        inp_ids = indexesFromSentence(input_lang, inp)\n",
        "        tgt_ids = indexesFromSentence(output_lang, tgt)\n",
        "        inp_ids.append(EOS_token)\n",
        "        tgt_ids.append(EOS_token)\n",
        "        input_ids[idx, :len(inp_ids)] = inp_ids\n",
        "        target_ids[idx, :len(tgt_ids)] = tgt_ids\n",
        "\n",
        "    train_data = TensorDataset(torch.LongTensor(input_ids).to(device),\n",
        "                               torch.LongTensor(target_ids).to(device))\n",
        "\n",
        "    train_sampler = RandomSampler(train_data)\n",
        "    train_dataloader = DataLoader(train_data, sampler=train_sampler, batch_size=batch_size)\n",
        "    return input_lang, output_lang, train_dataloader"
      ]
    },
    {
      "cell_type": "code",
      "execution_count": null,
      "metadata": {
        "id": "VRtnxmuqz2rq"
      },
      "outputs": [],
      "source": [
        "SOS_token = 0\n",
        "EOS_token = 1\n",
        "MAX_LENGTH = 10"
      ]
    },
    {
      "cell_type": "code",
      "execution_count": null,
      "metadata": {
        "id": "sZeORww3z2rr"
      },
      "outputs": [],
      "source": [
        "device = torch.device(\"cuda\" if torch.cuda.is_available() else \"cpu\")"
      ]
    },
    {
      "cell_type": "code",
      "execution_count": null,
      "metadata": {
        "colab": {
          "base_uri": "https://localhost:8080/"
        },
        "id": "LtvCZxF66Ejw",
        "outputId": "063700fc-92ef-433b-b1f9-cf90d2106ca8"
      },
      "outputs": [
        {
          "output_type": "stream",
          "name": "stdout",
          "text": [
            "Reading lines...\n",
            "Read 135842 sentence pairs\n",
            "Trimmed to 11445 sentence pairs\n",
            "Counting words...\n",
            "Counted words:\n",
            "fra 4601\n",
            "eng 2991\n",
            "tensor([[   2, 3493,    2,  244,   30,  245,   99, 3878,    1,    0],\n",
            "        [   2,    3, 1622,   62,    1,    0,    0,    0,    0,    0],\n",
            "        [   2,    7,  110,   13,    1,    0,    0,    0,    0,    0],\n",
            "        [ 116,  213, 3687,  244,   21,  527,  245, 1888,    1,    0],\n",
            "        [ 116,  244,   10,  821,  245,  198,    1,    0,    0,    0],\n",
            "        [   2,   23, 1656,  901,  116, 2333, 2724,    1,    0,    0],\n",
            "        [ 116,  213,  119, 2490,    1,    0,    0,    0,    0,    0],\n",
            "        [  29,   30,  261,  232, 1581, 2166,  396, 2106,  117,    1],\n",
            "        [ 116,  213,  119, 1803,    1,    0,    0,    0,    0,    0],\n",
            "        [ 116,  213,   64,  855,   99,  227,    1,    0,    0,    0],\n",
            "        [ 143,   21,  297, 1633,  744,    1,    0,    0,    0,    0],\n",
            "        [ 121,  124, 2445,  113, 2365,  193, 3600,    1,    0,    0],\n",
            "        [ 117,   21, 2074,  178,    1,    0,    0,    0,    0,    0],\n",
            "        [ 209,  244,  210,  245,  425, 2074,    1,    0,    0,    0],\n",
            "        [   2,    7,  961,  267,    1,    0,    0,    0,    0,    0],\n",
            "        [ 143,   21,  247,   65,  452,  150,  364,   94, 1857,    1],\n",
            "        [ 121,  124,  366,    1,    0,    0,    0,    0,    0,    0],\n",
            "        [ 350,  348,  762,    1,    0,    0,    0,    0,    0,    0],\n",
            "        [   2,    7, 3247,   10, 3248,    1,    0,    0,    0,    0],\n",
            "        [   2,    7,  107,  416,    2,  216,   30, 3639,    1,    0],\n",
            "        [ 116,  213, 1762,    1,    0,    0,    0,    0,    0,    0],\n",
            "        [  20,  163,    1,    0,    0,    0,    0,    0,    0,    0],\n",
            "        [ 117,   21,  961,  162,  918,   99,  201, 1379,    1,    0],\n",
            "        [ 116,  244,  213,  245, 1540,    1,    0,    0,    0,    0],\n",
            "        [   2,    7, 1111,  162, 1112,    1,    0,    0,    0,    0],\n",
            "        [   2,    7,  884, 1072,  544, 1383, 1405,  201,    1,    0],\n",
            "        [ 209, 3651,  637, 3346, 3347, 4486,  209, 4487,    1,    0],\n",
            "        [  20,   21,   64,  634, 1108,    1,    0,    0,    0,    0],\n",
            "        [   2,    7,  644,  884,    1,    0,    0,    0,    0,    0],\n",
            "        [ 121,  124,  193, 1252, 1253,    1,    0,    0,    0,    0],\n",
            "        [ 116, 3810,  193, 2951,    1,    0,    0,    0,    0,    0],\n",
            "        [   2,    7,  669,   99, 2127, 4081,    1,    0,    0,    0]])\n"
          ]
        }
      ],
      "source": [
        "input_lang, output_lang, train_dataloader = get_dataloader(batch_size=32)\n",
        "\n",
        "for data in train_dataloader:\n",
        "    inputs, targets = data\n",
        "    print(inputs)\n",
        "    break"
      ]
    },
    {
      "cell_type": "markdown",
      "source": [
        "### PreProcessed Embeddings (old steps)"
      ],
      "metadata": {
        "id": "QozLmhUZ3KMD"
      }
    },
    {
      "cell_type": "code",
      "source": [
        "english_sentences, french_sentences = zip(*pairs)\n",
        "\n",
        "print(\"English sentences:\", list(english_sentences))\n",
        "print(\"French sentences:\", list(french_sentences))"
      ],
      "metadata": {
        "colab": {
          "base_uri": "https://localhost:8080/"
        },
        "id": "zV4kXZAtajrG",
        "outputId": "a2e8fb56-a251-4fd0-f2e4-85e2dd7178b1"
      },
      "execution_count": null,
      "outputs": [
        {
          "output_type": "stream",
          "name": "stdout",
          "text": [
            "English sentences: ['je vais bien', 'ca va', 'je suis gras', 'je suis gros', 'je suis en forme', 'je suis touche !', 'je suis touchee !', 'je suis malade', 'je suis triste', 'je suis timide', 'je suis mouille', 'je suis mouillee', 'il est mouille', 'je suis gras', 'je suis revenu', 'me revoila', 'je suis chauve', 'je suis occupe', 'je suis occupee', 'je suis calme', 'j ai froid', 'j en ai fini', 'tout va bien', 'je vais bien', 'ca va', 'je suis libre !', 'je suis libre', 'je suis disponible', 'je suis repu !', 'je suis rassasie !', 'je suis content', 'je suis chez moi', 'je suis en retard', 'je suis paresseux', 'je suis faineant', 'je suis paresseuse', 'je suis faineante', 'je vais bien', 'je me porte bien', 'je suis en securite', 'je suis malade', 'j en suis certain', 'je suis certain', 'j en suis sur', 'j en suis sure', 'je suis grande', 'je suis mince', 'je suis ordonne', 'je suis ordonnee', 'je suis laid', 'je suis laide', 'je suis faible', 'je vais bien', 'je me porte bien', 'il est malade', 'il est vieux', 'il est dj', 'il est bon', 'il est paresseux', 'il est riche', 'je suis occupe', 'je suis calme', 'j ai froid', 'je suis bon', 'je suis ici', 'je suis paresseux', 'je suis faineant', 'je suis paresseuse', 'je suis faineante', 'je vais bien', 'je suis malade', 'je suis sur', 'je suis certain', 'je suis faible', 'je suis flic', 'je suis un homme', 'je suis seule', 'je suis seul', 'je suis arme', 'je suis armee', 'je suis reveille', 'je suis aveugle', 'je suis fauche', 'je suis fou', 'je suis folle', 'je suis gueri', 'je suis guerie', 'je suis saoul', 'je suis soul', 'je suis ivre', 'je me meurs', 'je suis en avance', 'je suis en premier', 'je suis difficile', 'je suis tatillon', 'je suis tatillonne', 'je pars maintenant', 'je me tire', 'j y vais', 'je pars', 'je suis loyal', 'je suis loyale', 'je suis veinard', 'je suis veinarde', 'j ai du pot', 'je suis chanceux', 'je suis chanceuse', 'je suis en train de mentir', 'je suis tranquille', 'je suis prete !', 'je suis pret !', 'je suis pret', 'j ai raison', 'je suis sobre', 'excuse moi', 'desole', 'desole !', 'je suis desole', 'je suis desolee', 'je suis coincee', 'je suis timide', 'je suis fatigue !', 'je suis dur', 'je suis dure', 'je suis dur a cuire', 'je suis dure a cuire', 'je suis a toi', 'je suis a vous', 'elle est chaude', 'elle est tres attirante', 'nous avons chaud', 'nous sommes tristes', 'nous sommes timides', 'il est dj', 'il a a faire', 'il est ici !', 'il est gentil', 'il est en retard', 'il est faineant', 'il est paresseux', 'il est pauvre', 'il est malade', 'il est suisse', 'il est helvete', 'il est ruine', 'il est fauche', 'il est ivre', 'il est soul', 'il est intelligent', 'je suis un homme', 'je suis humain', 'je suis pret', 'j ai raison', 'je suis desole', 'je suis desolee', 'je suis fatigue !', 'je suis creve', 'je suis francais', 'je suis coreen', 'je suis un heros', 'je suis un menteur', 'je cuis !', 'je vais mieux', 'je paie', 'c est moi qui paie', 'je suis grassouillet', 'je suis grassouillette', 'je mange', 'je suis connu', 'je suis connue', 'je suis plus rapide', 'je suis flasque', 'je suis cupide', 'je suis gourmand', 'je suis gourmande', 'je me cache', 'je suis honnete', 'je suis humble', 'j ai faim !', 'j ai faim !', 'je suis immunise', 'je suis immunisee', 'je suis au lit', 'je suis alite', 'je suis alitee', 'je rigole !', 'je suis saoul', 'je me sens seul', 'je me sens seule', 'je suis en train de perdre', 'je suis en train de demenager', 'je suis normal', 'je suis normale', 'c est moi qui paie', 'je suis en train de payer', 'je suis creve', 'je suis repose', 'je suis reposee', 'je suis ruine', 'je suis ruinee', 'je suis remue', 'je suis remuee', 'je suis celibataire', 'je suis maigrichon', 'je suis maigrichonne', 'je suis fatigue !', 'j ai sommeil !', 'je suis sournois', 'je suis sournoise', 'je suis strict', 'je suis stricte', 'je suis fort', 'je suis forte', 'j ai trente ans', 'je suis affaiblie', 'elle est vieille', 'elle est occupee', 'elle est gentille', 'nous sommes des hommes', 'nous sommes de retour', 'nous sommes occupes', 'nous sommes occupees', 'nous avons fini', 'nous avons termine', 'nous en avons fini', 'nous en avons termine', 'nous sommes quittes', 'nous allons bien', 'nous sommes ici', 'nous sommes la', 'nous sommes chez nous', 'nous sommes en retard', 'nous sommes perdus', 'nous sommes perdues', 'nous sommes riches', 'nous sommes en securite', 'on est foutu', 'nous sommes foutus', 'nous sommes faibles', 'tu es vilain', 'tu es grand', 'tu es grande', 'vous etes grand', 'vous etes grande', 'vous etes grands', 'vous etes grandes', 't es marrante', 't es marrant', 'tu es vieux', 'tu es vieille', 'vous etes vieux', 'vous etes vieilles', 'vous etes vieille', 'tu es triste', 'vous etes triste', 'tu es timide', 'vous etes timide', 'il est ivre', 'il est soul', 'il a huit ans', 'il est hai', 'il est mechant', 'il est intelligent', 'il est jeune', 'c est un beau mec', 'c est un beau gosse', 'c est un pauvre type', 'c est un menteur', 'c est un binoclard', 'c est un flemmard', 'il est endormi', 'il arrive', 'il est en train d arriver', 'il est en train de pleurer', 'il simule', 'il est blinde', 'il est pete de thune', 'il est plein aux as', 'il a mon age', 'il n est pas chez lui', 'il n est pas a l interieur', 'il n est pas la', 'je suis francais', 'je suis coreen', 'je suis cuisinier', 'je suis un moine', 'je vais mieux', 'je suis mieux', 'j arrive', 'j ai faim !', 'je plaisante', 'je suis celibataire', 'je suis plus grand', 'j ai egalement dix sept ans', 'je suis finlandais', 'je suis finlandaise', 'je suis italien', 'je suis boulanger', 'je suis boulangere', 'je suis tout a fait pret', 'je suis tout a fait prete', 'j ai honte', 'je suis a la maison', 'je suis dans la maison', 'je suis perplexe', 'je suis beni', 'je suis benie', 'je suis prudent', 'je suis prudente', 'je suis sur', 'je suis certain', 'j ai les foies', 'j ai les chocottes', 'j ai raison', 'je suis curieux', 'je suis curieuse', 'je suis en train de danser', 'je suis au regime', 'je suis en train de conduire', 'je conduis', 'je suis fiance', 'je suis fiancee', 'je suis excite', 'je suis excitee', 'je fais la diete', 'je suis a la diete', 'je suis meticuleux', 'je suis meticuleuse', 'je suis affole', 'je suis affolee', 'je suis furieux', 'je suis en bonne sante', 'je fredonne', 'je suis veinard', 'je suis veinarde', 'je suis jalouse', 'j ai la frousse', 'je plaisante', 'je rigole !', 'je pars', 'je suis marie', 'je suis mariee', 'je ne suis pas une idiote', 'je ne suis pas un heros', 'je ne suis pas un menteur', 'je ne suis pas gros', 'je ne suis pas fou', 'je ne suis pas folle', 'je ne suis pas vieux', 'je ne suis pas vieille', 'je ne suis pas triste', 'je ne suis pas timide', 'je suis en service', 'je suis patiente', 'je suis patient', 'je suis populaire', 'je suis remonte', 'je suis voyant', 'je suis voyante', 'je suis perplexe', 'je lis', 'je suis detendu', 'je suis detendue', 'je suis retraite', 'je suis retraitee', 'je suis pensionne', 'je suis pensionnee', 'je suis egoiste', 'je suis serieux', 'je suis choque', 'je suis choquee', 'je suis sincere', 'je suis bourre', 'je suis bourree', 'je suis tellement rassasie', 'je meurs de faim !', 'j ai l estomac dans les talons', 'j ai la dalle', 'j ai les crocs', 'je reste', 'je suis gave', 'je suis gavee', 'je suis sidere', 'je suis sideree', 'je suis en train de discuter', 'je taquine', 'j ai soif', 'j en ai fini', 'j en ai termine', 'je suis trop gros', 'je suis touche', 'je suis touchee', 'je suis mecontent', 'je suis mecontente', 'j ai la schcoumoune', 'je suis fortune', 'je suis fortunee', 'je gagne', 'je l emporte', 'je suis en train de travailler', 'je me fais du souci', 'elle n a pas de charme', 'elle est morte', 'elle est gentille', 'elle est en retard', 'c est une enfoiree', 'c est un renard', 'ils sont mauvais', 'elles sont mauvaises', 'ils sont vieux', 'elles sont vieilles', 'nous sommes quittes', 'nous sommes a egalite', 'nous sommes ici', 'nous y sommes', 'nous sommes en retard', 'nous sommes seuls', 'nous sommes seules', 'nous sommes en colere', 'nous sommes armes', 'nous sommes armees', 'nous nous ennuyons', 'on s emmerde', 'nous sommes fauches', 'nous sommes fauchees', 'on est fauches', 'nous sommes en train de mourir', 'nous sommes en avance', 'nous y allons', 'nous sommes heureux', 'nous sommes pretes', 'nous sommes sauves', 'nous sommes sauvees', 'nous sommes intelligents', 'nous sommes intelligentes', 'nous sommes desoles', 'nous sommes desolees', 'nous sommes coinces', 'nous sommes coincees', 'nous sommes fatigues', 'nous sommes fatiguees', 'nous sommes jumeaux', 'nous sommes jumelles', 'tu es grand', 'tu es grande', 'vous etes grand', 'vous etes grande', 'vous etes grands', 'vous etes grandes', 'tu es fou', 'tu es de retour', 'vous etes de retour', 't es sympa', 't es decontracte', 'tu es juste', 'vous etes juste', 'vous etes justes', 'tu vas bien', 'tu es libre', 'vous etes libres', 'vous etes libre', 'vous etes bon', 'vous etes bonne', 'vous etes bons', 'vous etes bonnes', 'tu es bon', 'tu es bonne', 't es bon', 't es bonne', 'tu es gentil', 'tu es gentille', 'tu es paresseux', 'tu es paresseuse', 'vous etes paresseux', 'vous etes paresseuses', 'vous etes paresseuse', 'tu es perdu', 'tu es perdue', 't es sympa', 'vous etes sympa', 'vous etes sympas', 'tu es fou !', 't es dingue !', 'vous etes dingue !', 'vous etes dingues !', 't es givre !', 't es givree !', 'vous etes givre !', 'vous etes givree !', 'vous etes givres !', 'vous etes givrees !', 'tu es riche', 'vous etes riche', 'vous etes riches', 'tu es grossier', 'vous etes grossiers', 'vous etes grossiere', 'vous etes grossieres', 'tu es grossiere', 'tu es en securite', 'vous etes en securite', 'tu es sauf', 'vous etes saufs', 'vous etes sauf', 'vous etes sauve', 'vous etes sauves', 'tu es sauve', 'vous etes malade !', 'tu es malade !', 'vous etes malade !', 'tu es mince', 'vous etes mince', 'vous etes minces', 'tu es faible', 'vous etes faible', 'vous etes faibles', 'c est un poete', 'il est poete', 'il est endormi', 'il est excentrique', 'il est en train de manger', 'il est heroique', 'il n est pas chez lui', 'il n est pas a l interieur', 'il est anglais', 'c est un bigot', 'c est un sectaire', 'c est un fanatique', 'c est un illumine', 'il souffre', 'il est marie', 'c est mon heros', 'il est actuellement a l exterieur', 'il est si mignon !', 'il est tellement mignon !', 'je suis italien', 'j ai honte', 'je suis a la maison', 'je suis curieux', 'je suis mariee', 'je suis tellement malade', 'je suis si malade', 'c est moi qui suis tellement malade', 'c est moi qui suis si malade', 'j ai soif', 'je suis en train de travailler', 'je suis un couard', 'je suis un lache', 'je suis medecin', 'je suis toubib', 'je suis fermier', 'je suis agriculteur', 'je travaille dans ma ferme', 'je suis un agriculteur', 'je suis un puriste', 'je suis drogue', 'je suis accro', 'j ai une assuetude', 'j ai tout fini', 'j ai tout termine', 'je suis tout ouie', 'je suis adulte', 'je suis un agent', 'je suis en train de saigner', 'je me melange les pinceaux', 'je suis creatif', 'je suis creative', 'je suis cultive', 'je suis cultivee', 'je suis divorce', 'je suis divorcee', 'je suis en train de me noyer', 'j ai dix huit ans', 'je suis fidele', 'je suis affame !', 'je suis intrepide', 'je me bats', 'j ai termine', 'j en ai termine', 'je suis libre maintenant', 'je suis gele', 'je suis cloue', 'je suis clouee', 'je suis credule', 'j ai le mal du pays', 'j ai la gueule de bois', 'je suis a paris', 'je suis innocent', 'je suis innocente', 'je suis ingenu', 'je suis ingenue', 'je suis implique', 'je suis impliquee', 'je m en sors', 'je suis nouveau ici', 'je ne suis pas un rebelle', 'je ne suis pas un saint', 'je ne suis pas une sainte', 'je ne suis pas occupe', 'je ne suis pas sourd', 'je ne suis pas sourde', 'je n ai pas fini', 'je n ai pas termine', 'je n en ai pas termine', 'je ne suis pas abruti', 'je ne suis pas abrutie', 'je ne suis pas mauvais', 'je ne suis pas ici', 'je ne suis pas la', 'je ne suis pas chez moi', 'je ne suis pas a la maison', 'je ne suis pas blesse', 'je ne suis pas blessee', 'je ne suis pas mechant', 'je ne suis pas mechante', 'je ne suis pas riche', 'je n en suis pas certain', 'je n en suis pas certaine', 'je ne suis pas grand', 'je ne suis pas grande', 'je ne suis pas laid', 'je ne suis pas laide', 'je ne vais pas bien', 'je ne suis pas en service', 'je suis offense', 'je suis offensee', 'je suis indigne', 'je suis indignee', 'je suis puissant', 'je suis puissante', 'je suis pret', 'je suis preparee', 'je suis prepare', 'je suis ponctuel', 'je suis ponctuelle', 'je suis rationnel', 'je suis rationnelle', 'je me suis amende', 'je me suis amendee', 'je suis fiable', 'je ne tiens pas en place', 'je suis impitoyable', 'je tire', 'je suis en train de dormir', 'je suis tellement desole !', 'je suis tellement desolee !', 'je suis si fatigue !', 'je suis tellement las !', 'je suis en train de parler', 'je meurs de faim !', 'je creve de faim !', 'j ai la fringale', 'je suis tetu', 'je suis tetue', 'je suis obstine', 'je suis obstinee', 'c est moi le patron', 'c est moi la patronne', 'je suis le patron', 'je suis la patronne', 'je reflechis', 'je suis minutieux', 'je suis minutieuse', 'je suis consciencieux', 'je suis consciencieuse', 'je suis ravi', 'je suis ravie', 'je suis chatouilleux', 'je suis chatouilleuse', 'je suis trop occupe', 'je suis trop occupee', 'je suis trop affaire', 'je suis trop affairee', 'je dis la verite', 'je suis impartial', 'je suis impartiale', 'je suis au dessus', 'je suis tres gros', 'je suis tres gras', 'je suis tres triste', 'je suis tres timide', 'je suis epuise', 'c est un renard', 'elle est chanceuse', 'elle est chancarde', 'elle est tranquille', 'elle est tranchante', 'elle est affutee', 'elle a tort', 'elle est jeune', 'ils sont de retour', 'elles sont de retour', 'ce sont des garcons', 'ils sont froids', 'elles sont froides', 'ils sont sympa', 'elles sont sympa', 'ce sont des flics', 'ils sont mignons', 'elles sont mignonnes', 'ils sont decedes', 'elles sont decedees', 'ils ont termine', 'elles ont termine', 'ils sont libres', 'elles sont libres', 'ils sont partis', 'elles sont parties', 'il n y en a plus', 'ils sont la', 'ils sont a moi', 'ils sont miens', 'ce sont les miens', 'ce sont les miennes', 'elles sont miennes', 'elles sont a moi', 'ils sont riches', 'elles sont riches', 'ils sont faibles', 'elles sont faibles', 'nous sommes arabes', 'nous sommes heureux', 'nous sommes une equipe', 'nous sommes des adultes', 'nous allons tous bien', 'nous sommes en guerre', 'notre point de vue est biaise', 'nous avons des prejuges', 'nous achetons', 'nous sommes fermes', 'nous venons', 'nous sortons ensemble', 'nous sommes condamnes', 'nous nous cachons', 'nous sommes a l interieur', 'nous plaisantons', 'nous perdons', 'nous sommes en train de perdre', 'nous sommes en train de bouger', 'nous sommes normaux', 'nous sommes normales', 'nous sommes en train de payer', 'nous sommes creves', 'nous sommes crevees', 'nous sommes ruines', 'nous sommes ruinees', 'nous sommes remues', 'nous sommes remuees', 'nous sommes sournois', 'nous sommes sournoises', 'nous sommes forts', 'nous sommes fortes', 'nous essayons', 'vous etes bon', 'vous etes bonne', 'vous etes bons', 'vous etes bonnes', 'tu es bon', 'tu es bonne', 'tu es en retard', 'vous etes en retard', 'vous etes riches', 'tu joues au chef', 'tu fais le chef', 'tu es fou', 'tu es cruelle', 'tu es cruel', 'vous etes cruelle', 'vous etes cruelles', 'vous etes cruel', 'vous etes cruels', 'tu viens tot', 'vous etes matinal', 'vous etes matinale', 'tu es matinal', 'tu es matinale', 'tu es en avance', 'vous etes en avance', 'tu es vire', 'tu es licencie', 'tu es en premier', 'tu passes en premier', 'vous etes en premier', 't es marrante', 't es marrant', 'vous etes marrants', 'vous etes marrantes', 'vous etes marrant', 'vous etes marrante', 'tu es difficile', 'tu fais des manieres', 'vous faites des manieres', 'tu es malpoli !', 'tu mens !', 'vous mentez !', 'vous mentez', 'tu es lunatique', 'tu es naif', 'tu es naive', 'vous etes naif', 'vous etes naive', 'vous etes naifs', 'vous etes naives', 'tu es calme', 'tu es tranquille', 'tu as raison', 'tu es idiot', 'vous etes idiot', 'vous etes idiote', 'tu es idiote', 'vous etes idiots', 'vous etes idiotes', 't es plante', 't es plantee', 'vous etes plantes', 'vous etes plantees', 'vous etes plantee', 'vous etes plante', 'tu es dure', 'tu es dur', 'vous etes dur', 'vous etes dure', 'vous etes durs', 'vous etes dures', 'tu es contrariee', 'tu es contrarie', 'tu es bizarre', 'vous etes bizarre', 'vous etes bizarres', 'tu es dans l erreur', 'tu as tort', 'tu es jeune', 'vous etes jeune', 'vous etes jeunes', 'il est britannique', 'il est anglais', 'c est un voleur', 'il est idiot', 'c est mon patron', 'il est mon genre !', 'il n est pas idiot', 'il n est pas fou', 'il est actuellement sorti', 'il lit', 'il est en train de lire', 'il court', 'il fait du patin', 'il patine', 'il est trop vieux', 'c est un rouspeteur', 'il est jesuite', 'c est un aine', 'c est un ancien', 'c est un retraite', 'c est un magnat', 'il est accro', 'il a une assuetude', 'il est drogue', 'il est adorable', 'il est derriere moi', 'il est apres moi', 'il est apres mes fesses', 'il me poursuit', 'il est embetant', 'il est fou', 'il est a tokyo', 'il est innocent', 'il est ingenu', 'il est peu sur de lui', 'il manque de confiance en lui', 'il n est pas un saint', 'ce n est pas un saint', 'il n est pas a la maison', 'il n est pas malade', 'il est indigne', 'il est impitoyable', 'il est sans pitie', 'il est si jeune', 'il est tellement jeune', 'il etudie', 'il est en train d etudier', 'il est trop occupe', 'il est trop lent', 'il est tres malade', 'il est fort malade', 'il est ton fils', 'c est ton fils', 'c est votre fils', 'il est votre fils', 'je suis americain', 'je suis americaine', 'je suis japonais', 'je suis musulman', 'je suis musulmane', 'je suis musulman', 'je suis un coureur', 'je suis tout ouie', 'je suis diabetique', 'je suis divorce', 'je suis divorcee', 'je suis a paris', 'je suis nouveau ici', 'je suis nouveau ici', 'je ne suis pas sourd', 'je suis tellement desole !', 'je suis tellement desolee !', 'je suis tres triste', 'je suis un patient', 'je suis une patiente', 'je suis etudiant', 'je suis professeur', 'je suis enseignante', 'je m adapte', 'j en ai peur', 'je suis tout seul', 'je vais bien', 'je suis tout a toi', 'je suis tout a vous', 'je suis toute a toi', 'je suis toute a vous', 'je suis ambitieuse', 'je suis ambitieux', 'je suis un artiste', 'je suis une artiste', 'je suis orphelin', 'je suis attentive', 'je suis attentif', 'je suis disponible', 'je suis belle', 'je suis beau', 'je suis egalement affaire', 'je suis egalement affairee', 'je suis egalement occupe', 'je suis egalement occupee', 'je suis preoccupe', 'je suis preoccupee', 'j ai confiance', 'me voila satisfait', 'me voila satisfaite', 'j en suis convaincu', 'je suis deprime', 'je suis desespere', 'je suis desesperee', 'je suis differente', 'je suis degoute', 'je suis degoutee', 'je suis facile a vivre', 'je suis epuisee', 'je suis epuise', 'je suis vanne', 'je suis vannee', 'je suis fourbu', 'je suis creve', 'je suis crevee', 'je suis distrait', 'je suis distraite', 'je suis etourdi', 'je suis etourdie', 'je suis chez moi tom', 'j ai mal au c ur', 'je suis impatient', 'je suis impatiente', 'je suis important', 'je suis impressionnee', 'je suis impulsif', 'je suis impulsive', 'je suis a boston', 'je suis en danger', 'je suis intrigue', 'je suis intriguee', 'cela m intrigue', 'je suis juste paresseux', 'je suis juste paresseuse', 'j ecoute', 'je suis motivee', 'je suis motive', 'je ne suis pas un expert', 'je ne suis pas flic', 'je ne fais pas partie de ses admirateurs', 'je ne fais pas partie de leurs admirateurs', 'je ne suis pas seul', 'je ne suis pas seule', 'je ne suis pas en colere !', 'je ne suis pas en colere', 'je ne suis pas arme', 'je ne suis pas armee', 'je ne suis pas aveugle', 'je ne suis pas fou', 'je ne suis pas folle', 'je ne suis pas en train de mourir', 'je n y vais pas', 'je ne m y rends pas', 'je ne m en vais pas', 'je ne suis pas content', 'je ne suis pas heureux', 'je ne suis pas heureuse', 'je ne suis pas contente', 'je ne suis pas en train de mentir', 'je ne suis pas naif', 'je ne suis pas naive', 'je ne suis pas obese', 'je ne suis pas pret', 'je ne suis pas prete', 'je ne suis pas petite', 'je ne suis pas fatigue', 'je ne suis pas fatiguee', 'je ne suis pas jeune', 'je suis observateur', 'je suis observatrice', 'je suis respectueux', 'je suis respectueuse', 'je suis au regime', 'je suis en chemin', 'je suis en route', 'je suis bourre', 'je suis desarme', 'je suis desarmee', 'je suis realiste', 'j eprouve du ressentiment', 'je suis endurant', 'je suis endurante', 'je suis tenace', 'je suis satisfait', 'je dis non', 'je suis sensible', 'j ai tellement faim', 'je suis surpris', 'je suis surprise', 'je survis', 'je suis terrifie', 'je suis terrifiee', 'je suis fatigue maintenant', 'je suis trop saoul', 'je ne suis pas assure', 'je ne suis pas assuree', 'je suis celibataire', 'j ai tres froid', 'je suis tres pauvre', 'je vote non', 'je suis votre chef', 'je suis ton chef', 'je tombe', 'elle est francaise', 'c est une jumelle', 'elle est jumelle', 'elle est active', 'elle pleure', 'elle est en train de pleurer', 'elle est gentille', 'elle est forte', 'c est une beaute', 'c est un mannequin', 'elle est mannequin', 'elle est super', 'elle fait un regime', 'elle est mon genre', 'ils sont la', 'ils sont asiatiques', 'elles sont asiatiques', 'ils sont en vie', 'ils sont en colere', 'elles sont en colere', 'ils sont armes', 'elles sont armees', 'ils sont eveilles', 'elles sont eveillees', 'ils sont courageux', 'elles sont courageuses', 'ils n ont pas froid aux yeux', 'ils sont fauches', 'elles sont fauchees', 'ils sont propres', 'elles sont propres', 'ils sont fous', 'elles sont folles', 'ils sont saouls', 'elles sont saoules', 'ils sont en train de mourir', 'elles sont en train de mourir', 'ils sont en avance', 'elles sont en avance', 'elles sont heureuses', 'ils mentent', 'elles mentent', 'ils sont petits', 'elles sont petites', 'ce sont des espions', 'ce sont des espionnes', 'ils sont la', 'ils sont fatigues', 'elles sont fatiguees', 'ils ont tort !', 'nous sommes en guerre', 'nous sommes condamnes', 'nous formons un groupe', 'nous sommes anxieux', 'nous avons honte', 'nous sommes perplexes', 'nous sommes prudents', 'nous sommes prudentes', 'nous sommes certains', 'nous sommes certaines', 'nous sommes cousines', 'nous sommes en train de danser', 'nous sommes au regime', 'nous sommes fiances', 'nous faisons la diete', 'nous sommes amis', 'nous sommes amies', 'nous nous aimons', 'nous sommes amoureux', 'nous sommes amoureuses', 'nous sommes veinards', 'nous sommes veinardes', 'nous souffrons', 'nous sommes synchronises', 'nous sommes synchronisees', 'nous sommes en ville', 'nous sommes jalouses', 'nous plaisantons', 'nous sommes maries', 'nous ne sommes pas en forme', 'nous ne sommes pas fous', 'nous ne sommes pas folles', 'nous ne sommes pas vieux', 'nous ne sommes pas vieilles', 'nous sommes en train de lire', 'nous sommes detendus', 'nous sommes detendues', 'nous sommes serieux', 'nous sommes serieuses', 'nous sommes choques', 'nous sommes choquees', 'nous sommes sinceres', 'nous coulons', 'nous sommes en train de couler', 'nous sommes bourres', 'nous sommes bourrees', 'nous sommes bourres', 'nous sommes bourrees', 'nous sommes speciaux', 'nous sommes a l arret', 'nous sommes affames', 'nous sommes affamees', 'nous restons', 'nous sommes gaves', 'nous sommes gavees', 'nous sommes sideres', 'nous sommes siderees', 'nous avons termine', 'nous en avons fini', 'nous sommes trop vieux', 'nous sommes touches', 'nous sommes touchees', 'nous sommes pieges !', 'nous sommes piegees !', 'nous sommes pieges', 'nous sommes piegees', 'nous ne sommes pas satisfaits', 'nous ne sommes pas satisfaites', 'nous sommes malchanceux', 'nous sommes malchanceuses', 'nous sommes inutiles', 'nous sommes en train d attendre', 'nous sommes riches', 'nous sommes des gagneurs', 'nous sommes en train de gagner', 'nous sommes en train de travailler', 'nous nous faisons du souci', 'tu es fou', 'tu es bourre !', 'tu es saoul !', 'tu viens tot', 'vous etes matinal', 'vous etes matinale', 'tu es matinal', 'tu es matinale', 'tu es en avance', 'vous etes en avance', 'vous mentez', 'vous etes en train de mentir', 'tu es en train de mentir', 'tu es malin', 'vous avez tort', 'tu as tort', 'tu es un amour !', 'vous etes un amour !', 'tu es un menteur', 'vous etes un menteur', 'vous etes une menteuse', 'tu es une menteuse', 'tu es un binoclard', 'tu es snob', 'vous etes snob', 'tu es partiale', 'tu es partial', 'vous m ennuyez', 'tu m ennuies', 'tu es brillant', 'tu es brillante', 'vous etes brillant', 'vous etes brillante', 'vous etes brillants', 'vous etes brillantes', 'tu es malin', 'tu es maline', 'vous etes malin', 'vous etes maline', 'vous etes malins', 'vous etes malines', 'vous etes ruse', 'tu es ruse', 'tu es rusee', 'vous etes ruses', 'vous etes rusee', 'vous etes rusees', 'tu es astucieux', 'tu es astucieuse', 'vous etes astucieux', 'vous etes astucieuse', 'tu es sinistre', 'vous etes sinistre', 'vous etes sinistres', 'tu es connu', 'tu es connue', 'vous etes connu', 'vous etes connus', 'vous etes connue', 'vous etes connues', 'tu es avide', 'vous etes avide', 'vous etes avides', 'tu es bougon', 'tu es bougonne', 'tu es grognon', 'vous etes bougon', 'vous etes bougonne', 'vous etes grognon', 'tu es dingue', 'tu plaisantes !', 'vous plaisantez !', 't es bourre', 't es bourree', 't es plein de fric', 't es pleine de fric', 'tu es en train de perdre', 'vous etes en train de perdre', 'tu n es pas drole', 'vous n etes pas drole', 'tu es jolie', 'vous etes jolie', 'tu es celibataire', 'vous etes celibataire', 'tu es maigrichonne', 'vous etes maigrichonne', 'vous etes maigrichonnes', 'vous etes maigrichon', 'vous etes maigrichons', 'tu es maigrichon', 'tu es endormi', 'tu es endormie', 'vous etes endormi', 'vous etes endormis', 'vous etes endormie', 'vous etes endormies', 'tu es sournois', 'tu es sournoise', 'vous etes sournois', 'vous etes sournoise', 'vous etes sournoises', 'tu es idiote', 'tu es injuste', 'il est americain', 'il est canadien', 'il est japonais', 'c est un genie', 'il est ecrivain', 'c est un acteur', 'il est en faillite', 'il est a tokyo', 'c est mon oncle', 'il est ouvert', 'il est sociable', 'il est extraverti', 'il est puissant', 'il est riche', 'il est un peu timide', 'il est quelque peu timide', 'il est joueur', 'c est un joueur', 'c est desormais un homme', 'c est un faineant', 'c est un planque', 'il va bien', 'c est un auteur', 'il est auteur', 'c est un ancien detenu', 'c est un hors la loi', 'il est deprime', 'il est harcele', 'il est en danger', 'il se trouve en prison', 'il est en prison', 'il est mon ami', 'c est mon ami', 'c est mon ami', 'il n y va pas', 'il ne s y rend pas', 'il ne s en va pas', 'il n est pas pret', 'il est tellement idiot !', 'il est trop saoul', 'il est trop ivre', 'il est tres ouvert', 'je suis hongrois', 'je suis un garcon timide', 'je suis etudiant', 'je suis professeur', 'je suis touriste', 'je suis apres lui', 'je suis un artiste', 'je suis une artiste', 'je suis epuisee', 'je suis epuise', 'je suis vanne', 'je suis vannee', 'je suis fourbu', 'je suis creve', 'je suis a londres', 'je suis dans le petrin', 'je suis dans un endroit', 'je ne suis pas content', 'je ne suis pas heureux', 'je ne suis pas heureuse', 'je ne suis pas contente', 'je suis en conge aujourd hui', 'je ne suis pas de service aujourd hui', 'je ne suis pas en service aujourd hui', 'je suis trop petit', 'je suis tres grand', 'je suis tres grande', 'je suis un peu occupe', 'je suis diabetique', 'je suis un homme libre', 'je suis un mec bien', 'je suis musicien', 'je suis musicienne', 'je suis quelqu un de bien', 'je suis un vrai mec', 'je suis un vendeur', 'j ai bien peur que non', 'je crains que non', 'je suis contre', 'je suis maladroit', 'je suis un vieil homme', 'je suis stupefait', 'je suis stupefaite', 'je suis derriere lui', 'on m utilise', 'je suis contagieux', 'je suis contagieuse', 'je suis mort de fatigue', 'je suis deshydrate', 'je suis deshydratee', 'je suis fiable', 'on peut compter sur moi', 'je suis aneanti', 'je suis aneantie', 'je vais bien', 'je suis en bas', 'je suis en train de manger', 'je suis en train de m entrainer', 'je vois loin', 'je suis fascine', 'je suis fascinee', 'je te vire', 'je vous vire', 'je suis libre aujourd hui', 'je viens de kyoto', 'je suis de kyoto', 'je viens de tokyo', 'j y retourne', 'je deviens chauve', 'je suis heureux ici', 'je suis heureuse ici', 'je suis egalement heureux', 'je suis egalement heureuse', 'je suis heureux moi aussi', 'je suis heureuse moi aussi', 'je m amuse', 'je suis analphabete', 'je suis dans la voiture', 'je suis interesse', 'je suis interessee', 'je suis seulement fatigue', 'je suis simplement fatigue', 'je suis seulement fatiguee', 'je suis simplement fatiguee', 'je suis en colere apres toi', 'je suis en colere apres vous', 'je prepare le the', 'je suis en train de mediter', 'je suis methodique', 'je ne baisse pas facilement les bras', 'je n abandonne pas facilement', 'je n abandonne pas si facilement', 'je ne suis pas idiot', 'je ne suis pas un heros', 'je ne suis pas un menteur', 'je ne suis pas une menteuse', 'ca ne m amuse pas', 'je ne suis pas endormi', 'je ne suis pas endormie', 'je ne suis pas amer', 'je ne suis pas amere', 'je ne suis pas grincheux', 'je ne suis pas grincheuse', 'je ne pleure pas', 'je ne suis pas coupable', 'je ne suis pas fou', 'je ne suis pas folle', 'je ne blague pas', 'je ne plaisante pas', 'je ne me sens pas seul', 'je ne suis pas normal', 'je ne suis pas normale', 'je ne suis pas jolie', 'je ne suis pas raciste', 'ca ne me fait pas peur', 'je ne suis pas maigrichon', 'je ne suis pas maigrichonne', 'je n ai pas sommeil', 'je ne suis pas endormi', 'je ne suis pas fort', 'je ne suis pas forte', 'je suis suffisamment grand', 'je suis suffisamment vieux', 'je suis en vacances', 'je suis en conges', 'je suis l un de vous', 'je suis l un d entre vous', 'je suis optimiste', 'je suis a court d essence', 'j ai des prejuges', 'je suis vraiment vieux', 'je suis raisonnable', 'je suis en train de reamenager', 'je suis juste ici', 'j ai tellement soif', 'quelle poisse j ai !', 'je suis toujours occupe', 'je suis encore occupee', 'je suis encore ici', 'j ai du succes', 'je suis certain de ca', 'je suis le tueur', 'je suis le plus vieux', 'je suis la plus vieille', 'je me deshabille', 'je me devets', 'je suis au chomage', 'je n ai pas de talent', 'je suis depourvu de talent', 'je suis depourvue de talent', 'j y suis habitue', 'je suis habitue', 'j y suis accoutume', 'j y suis habituee', 'je suis vegetarienne', 'je suis tres heureux', 'je suis tres heureuse', 'je suis tres petit', 'je suis vraiment desole', 'je suis tres fatigue', 'je suis fourbu', 'je suis fort contrarie', 'je suis fort contrariee', 'je suis tres contrarie', 'je suis tres contrariee', 'je suis tout a fait eveille', 'je suis tout a fait eveillee', 'elle est infirmiere', 'elle est maladroite', 'elle est au regime', 'elle est en train de s exprimer', 'elle n est pas pauvre', 'elle est tres belle', 'c est une belle fille', 'c est une bombe', 'c est un canon', 'elle est adorable', 'c est un ange', 'elle est folle', 'elle a divorce', 'elle est innocente', 'elle est ingenue', 'elle n est pas ici', 'elle est enceinte', 'elle attend un heureux evenement', 'elle attend famille', 'elle est trop bruyante', 'elle parle trop fort', 'elles sont seules', 'ils sont seuls', 'ils s ennuient', 'elles s ennuient', 'ils sont endormis', 'elles sont endormies', 'ce sont des bebes', 'ils sont ennuyeux', 'elles sont ennuyeuses', 'ils arrivent', 'elles arrivent', 'ils sont en train d arriver', 'elles sont en train d arriver', 'ils sont idiots', 'ils sont a l interieur', 'ils sont forts', 'elles sont fortes', 'nous sommes tous prets', 'nous sommes toutes pretes', 'nous sommes en couple', 'nous sommes une famille', 'nous sommes tous occupes', 'nous sommes toutes occupees', 'nous en avons termine', 'nous en avons completement fini', 'nous sommes toute ouie', 'nous sommes tous la', 'nous sommes tous ici', 'nous sommes toutes la', 'nous sommes toutes ici', 'nous sommes tous en securite', 'nous sommes toutes en securite', 'nous sommes freres', 'nous sommes perplexes', 'nous sommes divorces', 'nous sommes en train de nous echapper', 'nous sommes en train de nous battre', 'nous avons fini', 'nous avons termine', 'nous en avons fini', 'nous en avons termine', 'on se gele', 'nous sommes reconnaissants', 'nous sommes reconnaissantes', 'nous sommes impuissants', 'nous sommes impuissantes', 'nous y sommes actuellement', 'nous nous en sortons', 'nous ne sommes pas flics', 'nous ne sommes pas des flics', 'nous n en avons pas fini', 'nous n en avons pas termine', 'nous ne sommes pas libres', 'nous ne sommes pas a la maison', 'nous ne sommes pas chez nous', 'nous ne sommes pas en retard', 'nous ne sommes pas perdus', 'nous ne sommes pas perdues', 'nous ne sommes pas ouverts', 'nous ne sommes pas ouvertes', 'nous ne sommes pas riches', 'nous ne sommes pas en securite', 'nous ne sommes pas surs', 'nous ne sommes pas sures', 'nous n en sommes pas surs', 'nous n en sommes pas sures', 'nous sommes obeissants', 'nous sommes obeissantes', 'nous sommes partenaires', 'nous sommes puissants', 'nous sommes puissantes', 'nous sommes pretes', 'nous sommes ponctuels', 'nous sommes ponctuelles', 'nous abandonnons', 'nous sommes fiables', 'nous partons a la retraite', 'nous partons a la pension', 'nous sommes impitoyables', 'nous sommes desormais en securite', 'nous sommes tellement desoles', 'nous sommes debout', 'nous mourons de faim', 'nous sommes tetus', 'nous sommes tetues', 'nous sommes etudiants', 'nous sommes les meilleurs', 'nous sommes les meilleures', 'nous sommes les derniers', 'nous sommes les dernieres', 'nous sommes pareils', 'nous sommes pareilles', 'nous sommes trop occupes', 'nous sommes trop occupees', 'nous sommes trop en retard', 'nous sommes trop faibles', 'nous sommes debout tot', 'vous etes des idiots', 'vous etes des cretins', 'vous etes des attardes mentaux', 'tu es stupide', 'tu n es pas tom', 'vous n etes pas tom', 'tu es un puritain', 'vous etes un puritain', 'tu es une puritaine', 'vous etes une puritaine', 'vous etes tous fous', 'vous etes toutes folles', 'vous etes tous prets', 'vous etes toutes pretes', 'tu es incroyable', 'vous etes incroyable', 'vous etes incroyables', 'tu me fais marrer', 'vous me faites marrer', 'tu es genial', 'vous etes genial', 'tu es geniale', 'vous etes geniale', 'tu es insensible', 'vous etes insensible', 'tu es prudent', 'tu es prudente', 'tu as raison', 'vous etes insaisissable', 'tu es insaisissable', 'tu es tatillon', 'tu es tatillonne', 'vous etes tatillon', 'vous etes tatillons', 'vous etes tatillonne', 'vous etes tatillonnes', 'tu es imprudent', 'tu es imprudente', 'vous etes imprudent', 'vous etes imprudente', 'vous etes imprudents', 'vous etes imprudentes', 'tu es veinard', 'tu es veinarde', 'vous etes veinard', 'vous etes veinards', 'vous etes veinarde', 'vous etes veinardes', 'vous etes invites', 'vous etes invitees', 'vous etes invite', 'vous etes invitee', 'tu es invite', 'tu es invitee', 'tu es jalouse', 'tu me fais marcher !', 'tu plaisantes !', 'vous plaisantez !', 'vous me faites marcher !', 'tu es mon type', 'tu n es d aucune aide', 'vous n etes d aucune aide', 'tu n es pas mal', 'vous n etes pas mal', 'tu n es pas gros', 'vous n etes pas gros', 'vous n etes pas grosse', 'vous n etes pas grosses', 'tu n es pas grosse', 'tu ne conviens pas', 'vous ne convenez pas', 'tu n es pas en forme', 'vous n etes pas en forme', 'vous etes precis', 'tu es precis', 'tu es precise', 't es remonte', 't es remontee', 'tu es voyante', 'tu es voyant', 'tu es egoiste', 'vous etes egoiste', 'vous etes egoistes', 't es bourre', 't es bourre', 'vous etes si mechant', 'tu es si mechant', 'tu es si mechante', 'vous etes si mechante', 'vous etes si mechants', 'vous etes si mechantes', 'c est vous le professionnel', 'c est toi le professionnel', 'tu en as fini', 'vous en avez fini', 'vous en avez termine', 'vous etes inutiles', 'je vous en prie', 'avec plaisir', 'de rien !', 'je t en prie', 'tu gagnes', 'vous gagnez', 'tu l emportes', 'vous l emportez', 'c est un mauvais garcon', 'il est reveur', 'il est peintre', 'c est un peintre', 'il est medium', 'c est un voyant', 'c est un etudiant', 'il est etudiant', 'il est enseignant', 'il est instituteur', 'il est deprime', 'il est mon ami', 'il est en conge aujourd hui', 'il n est pas marie', 'il est celibataire', 'il est fort grand', 'il est bien paye', 'il ment mal', 'il est comedien', 'il est membre d une fraternite etudiante', 'c est un bizuth', 'c est un bleu', 'il est jardinier', 'c est un bon garcon', 'c est un nouveau venu', 'c est un vrai mec', 'c est un lambin', 'c est un lourdaud', 'c est un gaucher', 'il est gaucher', 'il devient chauve', 'il m aide', 'il est mon epoux', 'c est mon associe', 'c est mon compagnon', 'c est mon partenaire', 'ce n est pas un heros', 'ce n est pas un menteur', 'il n est pas encore la', 'il n est pas idiot', 'il est en route', 'il est en chemin', 'il est photogenique', 'il est juste la', 'il est tout a fait eveille', 'je suis japonais', 'je suis celibataire', 'je suis un bon garcon', 'je suis occupe aujourd hui', 'je viens d egypte', 'je suis dans le petrin', 'je suis mal barre', 'je suis mal barree', 'je ne suis pas en train de manger', 'je me deshabille', 'je me devets', 'je suis vraiment desole', 'je suis tres fatigue', 'je suis azeri', 'je suis accro a la tele', 'je suis un peu ivre', 'je suis un peu emeche', 'je suis un peu emechee', 'je suis un peu fatigue', 'je suis un etranger', 'je suis un bon cuisinier', 'je suis un homme heureux', 'je suis femme au foyer', 'je suis masochiste', 'je suis un oiseau de nuit', 'je peux courir', 'je sais skier', 'je suis presque pret', 'je suis quasiment pret', 'je suis presque prete', 'je suis quasiment prete', 'je suis aventureuse', 'je suis ingenieur', 'je suis actuellement au travail', 'je vous en supplie', 'je t en supplie', 'je capte', 'je comprends', 'je fais la fete', 'j arrose ca', 'je suis lave', 'je suis daltonien', 'je suis a mon aise', 'j arrive chez moi', 'je suis en train de cooperer', 'je craque', 'je mange ici', 'je suis gene', 'je me sens en forme', 'je me sens abattu', 'je me sens abattue', 'je viens du bresil', 'je suis originaire du bresil', 'je viens de france', 'je viens de turquie', 'je suis de zambie', 'je commence a devenir vieux', 'je vieillis', 'je me fais vieux', 'je me fais vieille', 'je deviens fou', 'je deviens folle', 'je suis applique', 'je suis appliquee', 'j ai le c ur brise', 'je suis ici pour vaincre', 'je ne suis pas presse', 'je ne suis pas pressee', 'je derange', 'je suis introverti', 'je suis introvertie', 'je pars maintenant', 'je suis gaucher', 'je suis chanceux aujourd hui', 'je suis marie maintenant', 'je suis myope', 'je ne suis pas anglais', 'je ne suis pas anglaise', 'je ne suis pas un enfant', 'je ne suis pas une enfant', 'je ne suis pas un escroc', 'je ne suis pas un ivrogne', 'je ne suis pas une ivrogne', 'je ne suis pas un robot', 'je ne suis pas un saint', 'je ne suis pas une sainte', 'je ne suis pas un voleur', 'je ne suis pas une voleuse', 'je ne m alarme pas', 'je ne me dispute pas', 'je n ai pas honte', 'je n en suis pas certain', 'je n en suis pas certaine', 'je n ai pas les foies', 'je ne suis pas jalouse', 'je ne blague pas', 'je ne m en vais pas', 'je ne suis pas marie', 'je ne suis pas mariee', 'je ne suis pas nerveux', 'je ne suis pas nerveuse', 'je ne suis pas patient', 'je ne suis pas patiente', 'je ne suis pas parfait', 'je ne suis pas parfaite', 'je ne suis pas egoiste', 'je n en suis pas si sur !', 'je n en suis pas si sure !', 'je ne reste pas', 'je ne suis pas malheureux', 'je ne suis pas malheureuse', 'je ne suis pas riche', 'je ne me fais pas de souci', 'je ne suis pas actuellement arme', 'je suis en vacances', 'je ne fais que blaguer', 'je suis a court de munitions', 'je persevere', 'je suis plutot occupe', 'je suis plutot occupee', 'je suis assez heureux', 'je suis assez heureuse', 'je suis assez fatiguee', 'je suis plutot occupe', 'je suis plutot occupee', 'je suis pret a y aller', 'je suis pret pour partir', 'je suis prete pour partir', 'je suis vraiment occupe', 'je suis vraiment occupee', 'j ai vraiment froid', 'je suis remplacable', 'je suis plein de ressources', 'je suis pleine de ressources', 'j en ai marre de toi', 'j en ai marre de vous', 'je suis tellement confus !', 'je suis tellement perplexe', 'je suis spontanee', 'je suis spontane', 'je suis un tel idiot', 'j eprouve de la compassion', 'je suis le capitaine', 'je suis le chirurgien', 'je suis le professeur', 'je suis la professeur', 'j en ai ras le bol', 'je suis sincerement desole', 'je suis sincerement desolee', 'je suis fiable', 'on peut me faire confiance', 'je suis depourvu d ambition', 'je suis depourvue d ambition', 'je ne suis pas convaincu', 'je ne suis pas convaincue', 'j ai une faim de loup', 'j ai tres faim', 'j ai la dalle', 'j ai les crocs', 'je suis fort modeste', 'j ai tres sommeil', 'je suis tres strict', 'je suis tres stricte', 'je suis en train de regarder la television', 'je suis votre medecin', 'je suis votre ami', 'je suis votre amie', 'je suis ton ami', 'je suis ton amie', 'je suis votre avocat', 'je suis ta s ur', 'je suis votre s ur', 'elle est canadienne', 'elle est japonaise', 'c est un canon', 'c est une beaute', 'elle est medecin', 'elle est toubib', 'c est une coureuse', 'elle est chanteuse', 'c est une dactylographe', 'elle est dactylo', 'elle est gracieuse', 'elle n est pas grande', 'elle est puissante', 'elle est obstinee', 'elle a de l assurance', 'elle est deprimee', 'elle est en danger', 'c est mon amie', 'elle est mon amie', 'c est ma s ur', 'elle n est pas chanteuse', 'elle est dans une bonne passe', 'elle a la baraka', 'elle est tres grande', 'ils sont acteurs', 'ce sont des melons', 'ils sont tous mauvais', 'elles sont toutes mauvaises', 'ils sont incroyables', 'elles sont incroyables', 'ce sont des animaux', 'ils sont en train de se disputer', 'elles sont en train de se disputer', 'ils sont cousins', 'elles sont cousines', 'ils sont en train de danser', 'elles sont en train de danser', 'ils sont medecins', 'elles sont medecins', 'ils sont nerveux', 'elles sont nerveuses', 'ils ont la frousse', 'elles ont la frousse', 'ils partent', 'ils s en vont', 'ils ne sont pas mal', 'ils sont dehors', 'ils sont a l exterieur', 'ils sont similaires', 'elles sont similaires', 'ils sont semblables', 'elles sont semblables', 'ils sourient', 'ils sont speciaux', 'elles sont speciales', 'ils restent', 'elles restent', 'ils parlent', 'elles parlent', 'ils sont trop gros', 'ils sont trop gras', 'elles sont trop grosses', 'elles sont trop grasses', 'ils sont inutiles', 'elles sont inutiles', 'ils sont avec moi', 'nous sommes une famille', 'nous sommes freres', 'nous sommes des hommes occupes', 'nous sommes ses fils', 'nous sommes etudiants', 'nous sommes enseignants', 'nous sommes enseignantes', 'nous sommes les meilleurs', 'nous regardons', 'nous sommes canadiens', 'nous sommes canadiennes', 'nous sommes flexibles', 'nous sommes tous seuls', 'nous sommes tous en colere', 'nous sommes toutes en colere', 'nous sommes tous armes', 'nous sommes toutes armees', 'nous nous ennuyons tous', 'nous nous ennuyons toutes', 'nous sommes tous dingues', 'nous sommes toutes dingues', 'nous sommes tous fous', 'nous sommes toutes folles', 'nous sommes tous en train de mourir', 'nous y allons tous', 'nous sommes ambitieux', 'nous sommes ambitieuses', 'nous sommes disponibles', 'nous allons bien tous les deux', 'nous allons bien toutes les deux', 'nous sommes comediens', 'nous sommes engages', 'nous sommes engagees', 'nous avons confiance', 'nous sommes satisfaits', 'nous sommes satisfaites', 'nous sommes devoues', 'nous sommes devouees', 'nous sommes deprimes', 'nous sommes differents', 'nous sommes differentes', 'nous en avons fini ici', 'nous sommes en train de le reparer', 'nous sommes flattes', 'nous sommes d ici', 'nous sommes jardiniers', 'nous sommes des gentilshommes', 'nous abandonnons', 'nous y allons maintenant', 'nous sortons', 'nous aussi nous sommes la', 'nous aussi nous sommes ici', 'nous sommes en charge', 'c est nous qui dirigeons', 'nous sommes en danger', 'nous ecoutons', 'nous sommes en train de perdre', 'nous sommes des nouveaux venus', 'nous sommes des nouvelles venues', 'nous sommes jeunes maries', 'nous ne sommes pas seuls', 'nous ne sommes pas seules', 'nous ne sommes pas des imbeciles', 'nous ne faisons pas de chichis', 'nous n y allons pas', 'nous ne nous y rendons pas', 'nous ne nous en allons pas', 'nous ne sommes pas contents', 'nous ne sommes pas contentes', 'nous ne sommes pas heureux', 'nous ne sommes pas heureuses', 'nous ne sommes pas pretes', 'nous ne sommes pas jeunes', 'nous avons depasse cela', 'nous sommes bourres', 'nous sommes bourrees', 'nous sommes impuissants', 'nous sommes impuissantes', 'nous sommes des prisonniers', 'nous sommes des prisonnieres', 'nous sommes prets desormais', 'nous sommes pretes desormais', 'nous sommes maintenant prets', 'nous sommes maintenant pretes', 'nous sommes realistes', 'nous demissionnons', 'nous sommes endurants', 'nous sommes endurantes', 'nous sommes en securite ici', 'nous sommes satisfaits', 'nous sommes satisfaites', 'nous sommes sensibles', 'nous sommes separees', 'nous sommes separes', 'nous sommes surpris', 'nous sommes surprises', 'nous survivons', 'nous sommes des survivants', 'nous sommes des survivantes', 'nos scores sont trop serres', 'nous sommes trop proches', 'nous ne sommes pas assures', 'nous ne sommes pas assurees', 'nous ne sommes pas apparentes', 'nous ne sommes pas apparentees', 'nous sommes tres occupes', 'nous sommes fort occupes', 'nous sommes tres occupees', 'tu es mon heros', 'tu es mon heroine', 'vous etes mon heros', 'vous etes mon heroine', 'tu es vilain', 'vous etes vilain', 'tu es vilaine', 'vous etes vilaine', 'comme tu es mignonne', 'tu es le plus grand', 'tu es celui la', 'vous etes celui la', 'tu es l elu', 'tu es celle la', 'vous etes celle la', 'tu es l elue', 'vous etes l elu', 'vous etes l elue', 'tu es adorable', 'vous etes adorable', 'vous etes adorables', 'vous etes tous finis', 'vous etes toutes finies', 'vous etes tous a moi', 'vous etes toutes a moi', 'tu es un idiot', 't es chiant', 'tu m ennuies', 'tu es chiant', 'tu es chiante', 'tu es arrogant', 'tu es arrogante', 'vous etes arrogant', 'vous etes arrogante', 'vous etes arrogants', 'vous etes arrogantes', 'tu rougis !', 'tu es negligent', 'tu es negligente', 'tu es charmant', 'tu es charmante', 'vous etes charmant', 'vous etes charmante', 'vous etes charmantes', 'vous etes charmants', 'tu triches', 'vous trichez', 'tu es confus', 'tu t embrouilles', 'tu es creatif', 'tu es creative', 'vous etes creatif', 'vous etes creative', 'vous etes creatifs', 'vous etes creatives', 'tu es fou', 'vous etes fous', 'vous etes dement', 'vous etes deloyal', 'tu es deloyal', 'tu es deloyale', 'vous etes deloyales', 'vous etes deloyale', 'vous etes deloyaux', 'tu es fidele', 'vous etes fidele', 'vous etes fideles', 'tu es intrepide', 'vous etes intrepide', 'vous etes intrepides', 'tu es excuse', 'tu es pardonne', 'tu es pardonnee', 'vous etes pardonne', 'vous etes pardonnee', 'vous etes pardonnes', 'vous etes pardonnees', 'tu es terre a terre', 'vous etes terre a terre', 'vous etes hideuses', 'vous etes hideux', 'vous vous trompez', 'tu te trompes', 'tu es mon ennemi', 'vous etes mon ennemi', 'tu n es pas un saint', 'tu n es pas une sainte', 'vous n etes pas un saint', 'vous n etes pas une sainte', 'tu n es pas mort', 'tu n es pas morte', 'vous n etes pas mort', 'vous n etes pas morte', 'vous n etes pas morts', 'vous n etes pas mortes', 'tu n es pas en retard', 'vous n etes pas en retard', 'tu n es pas malade', 'vous n etes pas malade', 'vous n etes pas malades', 'tu es sociable', 'tu es pathetique', 'vous etes pathetique', 'vous etes pathetiques', 'tu es puissant', 'vous etes puissant', 'vous etes puissants', 'vous etes puissante', 'vous etes puissantes', 'tu es ponctuel', 'tu es ponctuelle', 'tu es fiable', 'vous etes fiable', 'vous etes fiables', 'tu es agite', 'tu es agitee', 'tu es sans pitie', 'vous etes sans pitie', 'tu es desormais en securite', 'vous etes desormais en securite', 'vous etes tellement autoritaire !', 'tu es tellement autoritaire !', 'tu es tellement difficile !', 'vous etes tellement difficile !', 'vous etes tellement difficiles !', 'tu es tellement gentil !', 'tu es tellement gentille !', 'tu es si gentil !', 'tu es si gentille !', 'vous etes tellement gentil !', 'vous etes si gentil !', 'vous etes tellement gentille !', 'vous etes si gentille !', 'vous etes tellement gentils !', 'vous etes si gentils !', 'vous etes tellement gentilles !', 'vous etes si gentilles !', 'tu as tellement tort', 'vous avez tellement tort', 'tu temporises', 'vous temporisez', 'tu es entete', 'tu es entetee', 'vous etes talentueux', 'vous etes talentueuse', 'vous etes talentueuses', 'tu es talentueux', 'tu es talentueuse', 'tu es le meilleur', 'tu es la meilleure', 'vous etes le meilleur', 'vous etes la meilleure', 'vous etes le chef', 'vous etes trop bruyant', 'vous etes trop bruyante', 'vous etes trop bruyants', 'vous etes trop bruyantes', 'tu es trop bruyant', 'tu es trop bruyante', 'vous etes trop lent', 'vous etes trop lente', 'vous etes trop lents', 'vous etes trop lentes', 'tu es trop lent', 'tu es trop lente', 'tu es trop faible', 'c est un gentil garcon', 'il est acrobate', 'il est ivre mort', 'il est dans la lune', 'il va bien', 'il est son ami', 'il est en pyjama', 'il a des soucis', 'il a des problemes', 'il a des ennuis', 'ce n est qu un enfant', 'c est mon frere', 'c est mon professeur', 'il n est jamais paresseux', 'il n est pas idiot', 'il est photogenique', 'il est encore ici', 'il est tres en colere', 'il est fort en colere', 'il est tres courageux', 'il est fort courageux', 'il est tres jeune', 'il est bien apprecie', 'il n est pas a la maison', 'il n est pas marie', 'il n est pas parfait', 'c est un tenancier de bar', 'il est tenancier de bar', 'il est un peu ivre', 'il est un peu naif', 'il est un peu niais', 'il est un peu emeche', 'il adore les chats', 'c est un gentleman', 'il est bon menteur', 'c est un adulte', 'il est historien', 'il est non fumeur', 'c est un etudiant de deuxieme annee', 'c est un gentil garcon', 'il est sur le point de partir', 'il est sur le point d y aller', 'il est sur le point de s en aller', 'il est a son cote', 'il se trouve a son cote', 'il se fait vieux', 'il a la grippe', 'il est ici pour moi', 'il est la pour moi', 'il est dans la meme classe que moi', 'il est intelligent', 'ce n est qu un menteur', 'il est assez timide', 'il a le coup de foudre', 'il est nouveau en ville', 'il n est pas chez lui', 'il n est pas a la maison', 'il n est pas comme nous', 'il n est pas marie', 'il n est pas mon genre', 'il n est pas parfait', 'il n est pas serieux', 'il est ouvert d esprit', 'il a l esprit ouvert', 'il n est pas en ville', 'il ne se trouve pas en ville', 'il est pret a partir', 'il est pret a y aller', 'il est encore en vie', 'il est toujours en vie', 'c est un de ces pauvres types !', 'c est un tel pauvre type !', 'il est inconscient', 'il m observe', 'il est ton pere', 'il est votre pere', 'il est ton ami', 'il est votre ami', 'c est votre ami', 'je suis un peu ivre', 'je suis etranger', 'je suis femme au foyer', 'je suis masochiste', 'je suis professeur', 'je suis volontaire', 'je suis americain', 'je suis americaine', 'je cuisine en ce moment', 'je suis sidere', 'je viens du bresil', 'je viens de france', 'je viens de russie', 'je fais frire du poisson', 'je ne blague pas', 'maintenant je suis en service', 'je suis actuellement en service', 'je ne fais que blaguer', 'je suis a court de temps', 'je suis au chomage', 'je suis sans travail', 'je suis payee a la semaine', 'je suis relativement sur', 'je suis vraiment desole', 'je suis vraiment desolee', 'j ai dix huit ans', 'j ai ans', 'je suis age de vingt cinq ans', 'je suis le cousin de tom', 'je suis employe de banque', 'j ai un peu faim', 'je suis un homme solitaire', 'je suis un gars normal', 'je suis un type normal', 'je suis un fondu de photo', 'je sais nager', 'je suis tres desoriente', 'je suis tres desorientee', 'je suis tout a fait pour', 'j ai deja fini', 'j ai deja termine', 'je suis deja riche', 'je suis toujours heureux', 'je suis toujours content', 'je suis toujours heureuse', 'je suis toujours contente', 'je suis toujours de mauvaise humeur', 'je suis ambidextre', 'je suis a la plage', 'je suis entre deux emplois', 'je suis entre deux postes', 'je suis en train de changer de poste', 'je suis de votre cote', 'je suis a ton cote', 'je suis a votre cote', 'je suis a tes cotes', 'je suis a vos cotes', 'je suis avec vous', 'je suis avec toi', 'je suis de ton cote', 'je suis paume maintenant', 'je suis decu', 'je ne suis pas content', 'je ne suis pas satisfait', 'j en ai fini', 'je dejeune', 'je suis plutot heureux', 'je suis plutot content', 'je suis plutot heureuse', 'je suis plutot contente', 'je me sens bien', 'c est bon pour moi', 'ca me va', 'ca colle pour moi', 'je flippe', 'je viens d amerique', 'je viens de croatie', 'je viens d angleterre', 'je viens de roumanie', 'je vais me coucher !', 'je vais au lit', 'c est bon pour moi pour l instant', 'je suis assez content', 'je suis assez heureux', 'je suis assez contente', 'je suis assez heureuse', 'je suis scolarise a la maison', 'je suis scolarisee a la maison', 'je garde la maison', 'je suis au grenier', 'je suis dans la maison', 'je vous invite', 'je suis juste curieux', 'je suis juste curieuse', 'je plaisante', 'je rigole', 'je ne fais que regarder', 'je tue le temps', 'j ai pour ainsi dire trop mange', 'je ne suis pas different', 'je ne suis pas differente', 'je ne suis pas un mendiant', 'je ne suis pas docteur', 'je ne suis pas un genie', 'je suis serieux', 'je suis serieuse', 'je ne rougis pas !', 'je ne frime pas', 'je ne suis pas en train de compter', 'je ne suis pas encore mort', 'je ne suis pas encore morte', 'je n en ai pas encore fini', 'je n en ai pas encore termine', 'je ne suis pas en train de rever', 'je ne suis pas en train de me battre', 'je n en ai pas termine', 'je ne suis pas comme toi', 'je ne suis pas comme vous', 'je ne fais pas erreur', 'je ne me sens pas offense', 'je ne me sens pas offensee', 'je ne suis pas extraverti', 'je ne suis pas extravertie', 'je ne suis pas paranoiaque', 'je ne suis pas si veinard', 'je ne suis pas sur de la raison', 'je ne suis pas sure de la raison', 'je ne suis pas le patron', 'je ne suis pas la patronne', 'je ne suis pas ton fils', 'je ne suis pas votre fils', 'je suis de votre cote', 'je suis a court d idees', 'je ne suis pas en forme', 'je sur reagis', 'je suis assez en colere', 'je suis assez heureux', 'je suis assez heureuse', 'je suis fier de toi', 'je suis vraiment prudent', 'je suis vraiment prudente', 'j ai les glandes', 'je suis vraiment heureux', 'je suis vraiment heureuse', 'je suis vraiment content', 'je suis vraiment contente', 'je suis vraiment fatigue', 'je suis egalement a la retraite', 'je suis egalement pensionne', 'je suis egalement pensionnee', 'je suis egalement a la pension', 'j en ai marre du poisson !', 'j en ai ras le bol', 'je reste ici', 'j ai toujours faim', 'j ai encore faim', 'je suis toujours celibataire', 'je suis encore endormi', 'je suis encore endormie', 'j essaye toujours', 'je suis plus fort desormais', 'j ai super faim', 'je suis tres serieux', 'je suis tres serieuse', 'j ai tres soif', 'je meurs de soif', 'je me porte volontaire', 'je fais du benevolat', 'je t observe', 'je travaille ici', 'je suis ton frere', 'je suis ton partenaire', 'je suis votre partenaire', 'elle est pianiste', 'elle est etudiante', 'elle est facile a vivre', 'elle est en colere contre moi', 'ce n est pas une beaute', 'elle n a pas tort', 'elle est obstinee', 'elle est au regime', 'elle est tres occupee', 'elle est tres sage', 'elle ment mal', 'elle est sympa avec moi', 'ce n est pas une menteuse', 'elle est tres contrariee', 'elle est tres fachee', 'ils sont russes', 'elles sont russes', 'ils se disputent', 'ils sont en train de se disputer', 'ils sont artistes', 'elles sont artistes', 'ils sont medecins', 'elles sont medecins', 'ils sont chanteurs', 'ils sont tous morts', 'ils sont tous decedes', 'elles sont toutes decedees', 'elles sont toutes mortes', 'ils sont tous faux', 'elles sont toutes fausses', 'ils sont tous partis', 'elles sont toutes parties', 'ils ont tous disparu', 'elles ont toutes disparu', 'ils sont tous la', 'elles sont toutes la', 'ils sont tous ici', 'elles sont toutes ici', 'ils sont tous a moi', 'elles sont toutes a moi', 'ce sont tous les miens', 'ce sont toutes les miennes', 'ils sont tous dingues', 'elles sont toutes dingues', 'ils sont tous en securite', 'elles sont toutes en securite', 'ils ne sont pas morts', 'elles ne sont pas mortes', 'ils ne sont pas mauvais', 'elles ne sont pas mauvaises', 'ce ne sont pas les miens', 'ils sont si droles', 'ils sont en train de temporiser', 'ils sont en train de gagner du temps', 'elles sont en train de gagner du temps', 'elles sont en train de temporiser', 'ce sont des etudiants', 'ce sont des etudiantes', 'ce sont des eleves', 'elles sont etudiantes', 'ils sont etudiants', 'ce sont des traitres', 'nous ne sommes pas seuls', 'nous ne sommes pas seules', 'nous sommes un peu en retard', 'nous sommes un tantinet en retard', 'nous avons tous peur', 'nous avons toutes peur', 'nous avons tous faim', 'nous avons toutes faim', 'nous avons tous peur', 'nous avons toutes peur', 'nous sommes tous celibataires', 'nous sommes toutes celibataires', 'nous sommes tous uniques', 'nous sommes seuls ici', 'nous sommes seules ici', 'nous sommes stupefaits', 'nous sommes de retour tot', 'on nous exploite', 'nous avons tous deux raison', 'nous avons toutes deux raison', 'nous avons tous deux tort', 'nous avons toutes deux tort', 'nous sommes des copains de classe', 'nous nous en sortons pas mal', 'nous reduisons la voilure', 'nous pigeons', 'nous retournons en arriere', 'nous descendons', 'nous nous dirigeons vers l est', 'nous nous dirigeons a l est', 'nous nous dirigeons vers l ouest', 'nous nous dirigeons a l ouest', 'nous avons a moitie raison', 'nous nous amusons', 'nous sommes ici seuls', 'nous sommes ici seules', 'nous sommes la tot', 'nous sommes tot a la maison', 'nous sommes a la fac', 'nous controlons la situation', 'nous sommes dans le petrin', 'on est dans le petrin', 'nous sommes juste chanceux', 'nous sommes juste fatigues', 'nous sommes juste fatiguees', 'nous sommes sauveteurs', 'nous sommes en train de mediter', 'nous ne sommes pas en train d acheter', 'nous ne sortons pas ensemble', 'nous ne fricotons pas', 'nous ne sommes pas en train de manger', 'nous ne sommes pas de la meme famille', 'nous ne sommes pas coupables', 'nous ne sommes pas en train de bouger', 'on n a pas besoin de nous', 'nous ne sommes pas idiots', 'nous ne sommes pas idiotes', 'nous sommes seuls', 'nous sommes seules', 'nous sommes en route', 'nous avons des prejuges', 'nous sommes juste la', 'nous sommes sans voix', 'nous sommes encore ici', 'nous connaissons la reussite', 'nous sommes cernes', 'nous sommes en train de decoller', 'nous sommes les proprietaires', 'nous nous deshabillons', 'nous sommes en train de nous deshabiller', 'nous sommes sans emploi', 'nous sommes depourvus d emplois', 'nous sommes depourvus de talent', 'nous sommes depourvues de talent', 'nos scores sont tres serres', 'nous sommes tres proches', 'nous sommes tres heureux', 'vous etes medecin', 'tu es toubib', 'tu es un genie', 'vous etes un genie', 'tu rougis !', 'vous etes des enfants', 'tu es derange', 'tu es en train de rever', 'vous etes en train de rever', 'tu es fabuleux', 'tu es fabuleuse', 'tu es splendide', 'vous etes splendide', 'tu es impossible', 'tu es incorrigible', 'vous n etes pas gentil', 'vous etes responsable', 'vous etes responsables', 'tu arrives trop tard', 'vous arrivez trop tard', 't as pas tort', 'tu es desormais un homme', 'vous etes desormais un homme', 'tu es un traitre', 'vous etes un traitre', 'tu es une traitresse', 'vous etes une traitresse', 'vous etes tous seuls', 'vous etes toutes seules', 'tu es tout seul', 'tu es toute seule', 'vous etes tout seul', 'vous etes toute seule', 'vous etes tous fous', 'vous etes toutes folles', 'vous etes tous contents', 'vous etes toutes contentes', 'vous etes tous heureux', 'vous etes toutes heureuses', 'vous etes tous satisfaits', 'vous etes toutes satisfaites', 'tu vas bien', 'vous allez bien', 'tu es ambitieuse', 'tu es ambitieux', 'vous etes ambitieux', 'vous etes ambitieuses', 'vous etes ambitieuse', 'tu te fais comprendre', 'tu sais te faire comprendre', 'vous savez vous faire comprendre', 'tu es beau', 'vous etes belle', 'vous etes beaux', 'vous etes belles', 'tu es suffisant', 'tu es suffisante', 'vous etes suffisant', 'vous etes suffisante', 'vous etes suffisants', 'vous etes suffisantes', 'tu es courtois', 'tu es courtoise', 'vous etes courtois', 'vous etes courtoise', 'vous etes courtoises', 'tu es epuisee', 'vous etes epuises', 'vous etes epuisees', 'tu es distrait', 'tu es distraite', 'tu es oublieux', 'tu es oublieuse', 'tu es etourdi', 'tu es etourdie', 'tu as de la chance', 'tu es chanceux', 'tu es chanceuse', 'vous etes chanceux', 'vous etes chanceuse', 'vous etes chanceuses', 'tu es impatient', 'tu es impatiente', 'tu es en danger', 'vous etes en danger', 'tu es mon amie', 'vous n etes pas medecin', 'tu n es pas medecin', 'vous n etes pas chanteur', 'vous n etes pas chanteuse', 'tu n es pas chanteur', 'tu n es pas chanteuse', 'tu n es pas seul', 'tu n es pas seule', 'vous n etes pas seul', 'vous n etes pas seuls', 'vous n etes pas seules', 'vous n etes pas seule', 'vous n etes pas mourant', 'tu n es pas vire', 'tu n es pas viree', 'vous n etes pas vire', 'vous n etes pas vires', 'vous n etes pas viree', 'vous n etes pas virees', 'tu es odieux', 'tu es odieuse', 'vous etes odieux', 'vous etes odieuse', 'vous etes odieuses', 'tu as le sens de l observation', 'tu es depourvu de pouvoir', 'tu es depourvue de pouvoir', 'tu es tenace', 'vous etes tenace', 'vous etes tenaces', 'vous etes endurants', 'vous etes endurantes', 'vous etes endurant', 'vous etes endurante', 'tu es endurant', 'tu es endurante', 'tu frissonnes', 'tu es tellement mignonne', 'tu es bavard', 'tu es bavarde', 'vous etes bavard', 'vous etes bavarde', 'vous etes bavards', 'vous etes bavardes', 'tu es trop naive', 'tu es trop tendu', 'tu es trop tendue', 'vous etes trop tendu', 'vous etes trop tendue', 'vous etes trop tendus', 'vous etes trop tendues', 'tu es immoral', 'tu es immorale', 'tu es fort occupe', 'tu es fort occupee', 'tu es tres occupe', 'tu es tres occupee', 'vous etes tres occupe', 'vous etes tres occupee', 'vous etes tres occupes', 'vous etes tres occupees', 'vous etes fort occupe', 'vous etes fort occupee', 'vous etes fort occupes', 'vous etes fort occupees', 'vous etes tres bonne', 'vous etes tres bonnes', 'vous etes fort bonne', 'vous etes fort bonnes', 'vous etes fort bon', 'vous etes fort bons', 'vous etes tres bon', 'vous etes tres bons', 'tu es tres bon', 'tu es fort bon', 'tu es tres bonne', 'tu es fort bonne', 'vous etes en retard', 'vous etes tres gentille', 'tu es tres chouette', 'tu es tres gentil', 'tu es tres gentille', 'vous etes tres gentil', 'vous etes tres gentils', 'vous etes tres gentilles', 'vous etes tres chouette', 'vous etes tres chouettes', 'tu es tres ouvert', 'tu es tres ouverte', 'vous etes tres ouvert', 'vous etes tres ouverts', 'vous etes tres ouverte', 'vous etes tres ouvertes', 'tu es tres grossier', 'tu es fort grossier', 'tu es fort grossiere', 'tu es tres grossiere', 'vous etes fort grossiere', 'vous etes tres grossiere', 'vous etes fort grossieres', 'vous etes tres grossieres', 'vous etes tres grossier', 'vous etes fort grossier', 'vous etes tres grossiers', 'vous etes fort grossiers', 'tu es tres grand', 'tu es tres grande', 'vous etes tres grand', 'vous etes tres grande', 'vous etes tres grands', 'vous etes tres grandes', 'tu es tres sage', 'tu es tres avise', 'tu es fort avise', 'tu es tres avisee', 'tu es fort avisee', 'tu es fort sage', 'vous etes tres sage', 'vous etes fort sage', 'vous etes tres sages', 'vous etes fort sages', 'vous etes tres avise', 'vous etes tres avisee', 'vous etes tres avises', 'vous etes tres avisees', 'vous etes fort avise', 'vous etes fort avisee', 'vous etes fort avises', 'vous etes fort avisees', 'tu es merveilleux', 'tu es merveilleuse', 'vous etes merveilleux', 'vous etes merveilleuse', 'vous etes merveilleuses', 'c est un gros mangeur', 'il est biologiste', 'c est un poete ne', 'c est un brave homme', 'c est un casse cou', 'il est detective', 'il est dramaturge', 'c est un gentleman', 'c est un monsieur', 'c est un physicien', 'il est physicien', 'c est un homme taiseux', 'c est un scientifique', 'il est scientifique', 'il doit avoir la quarantaine', 'il est americain', 'c est un mechant homme', 'il est a son bureau', 'il n y a rien a en tirer', 'c est un cas sans espoir', 'il se fait vieux', 'il est dans les affaires', 'il est incompetent', 'il est influent', 'il est intelligent', 'il est introverti', 'il a le meme age que moi', 'il n est pas marie', 'il n est pas si grand', 'il fait partie de l equipe', 'il a plutot raison', 'maintenant il court', 'il est encore vivant', 'il est encore fache', 'il m instruit', 'il est irrealiste', 'il est tres honnete', 'il est actuellement en train de marcher', 'il regarde la tv', 'il regarde la television', 'il n est pas la en ce moment', 'il n est pas la actuellement', 'c est un grand lache', 'il est journaliste', 'c est un mordu de cinema', 'il est deja parti', 'il s en est deja alle', 'c est un vieux de la vieille', 'c est un etudiant de premier cycle', 'il est endette jusqu au cou', 'il est originaire de georgie', 'il est dans le petrin', 'il est dans la mouise', 'il vient d arriver', 'il est assez mignon', 'il est mignon dans son genre', 'il a l air bien', 'il n est pas encore la', 'il est vieux et laid', 'il s en met plein les poches', 'il s en fourre plein les fouilles', 'il ramasse l argent a la pelle', 'il prend plein d oseille', 'il gagne plein de thune', 'il est vraiment rapide', 'il dort profondement', 'il est toujours celibataire', 'il est encore celibataire', 'il est en train de nager', 'il est aux anges', 'il est trop confiant', 'j ai dix huit ans', 'j ai ans', 'je suis un etre mauvais', 'j aime les chats', 'je suis vegetarienne', 'j ai peur d y aller', 'j ai peur de m y rendre', 'je suis presque pret', 'je suis presque prete', 'je suis quasiment prete', 'je cuis du pain', 'je suis en train de cuire du pain', 'je viens d angleterre', 'je vais au lit', 'je vais dormir', 'je suis bon en maths', 'je suis dans la maison', 'je suis votre debiteur', 'je suis votre debitrice', 'je ne suis pas comme toi', 'je ne suis pas comme vous', 'je suis assez content', 'je suis prepare a mourir', 'je suis pret a mourir', 'je suis si epuise !', 'je suis si epuisee !', 'je suis en train d etudier', 'j ai le meme age', 'je suis du meme age', 'je suis tres curieux', 'je suis tres satisfait', 'je suis tres content', 'je suis canadien moi aussi', 'je suis une personne occupee', 'je suis un homme prudent', 'je suis une bonne personne', 'je suis un peu occupe', 'j ai un peu mal', 'je suis un peu malade', 'je suis un nouvel etudiant', 'je suis une nouvelle etudiante', 'je suis un nouvel eleve', 'je suis une nouvelle eleve', 'je suis une fille normale', 'je suis un vendeur', 'je suis une vraie loque', 'je suis tout seul', 'je m ennuie deja', 'j ai toujours faim', 'je suis aussi age que toi', 'je suis aussi agee que toi', 'je suis aussi age que vous', 'je suis aussi agee que vous', 'je suis actuellement a l ecole', 'je suis a la prison', 'je suis a votre merci', 'je suis a ta merci', 'j en suis conscient', 'j en suis consciente', 'je suis terriblement fatigue', 'je suis terriblement fatiguee', 'je fais attention', 'je fais montre de patience', 'je suis serieux', 'je suis serieuse', 'je suis observe', 'je suis en train de me concentrer', 'je suis en cours de concentration', 'je fais de mon mieux', 'je fais mon devoir', 'j en ai marre de penser', 'j en ai fini avec toi', 'j en ai fini avec vous', 'j en ai fini de vous', 'j en ai fini de toi', 'moi j en ai fini avec vous', 'moi j en ai fini avec toi', 'je suis extremement gras', 'j ai la tete qui tourne', 'j ai la tete qui me tourne', 'je suis sidere', 'je suis abasourdi', 'je creve de froid', 'je viens de bulgarie', 'je viens de colombie', 'je suis de la ville', 'je viens de la ville', 'je me rejouis de l avoir fait', 'je vais sauter', 'je vais travailler', 'j en suis heureux', 'je m en contente', 'je suis irremplacable', 'je ne fais que supposer', 'je n en suis simplement pas sur', 'je n en suis simplement pas sure', 'je suis assez heureux', 'je suis pour ainsi dire heureux', 'je pars aujourd hui', 'je perds du poids', 'je maigris', 'je ne suis pas joueur', 'je ne suis pas joueuse', 'je ne suis pas un monstre', 'je ne pratique pas la divination', 'je ne suis pas devin', 'je ne suis pas telepathe', 'je ne suis pas soldat', 'je ne suis pas enseignant', 'je ne suis pas instituteur', 'je ne suis pas institutrice', 'je ne suis pas un expert', 'je ne suis pas disponible', 'je suis indisponible', 'je ne gobe pas ca', 'je ne suis pas convaincu', 'je ne suis pas convaincue', 'je ne suis pas dangereux', 'je ne suis pas desespere', 'je ne suis pas desesperee', 'je ne suis pas d ici', 'je n abandonne pas', 'je ne suis pas impressionne', 'je ne suis pas impressionnee', 'je ne suis pas aux pieces', 'je ne suis pas comme ca', 'je n ecoute pas', 'je ne suis pas malheureux', 'je ne suis pas malheureuse', 'je ne me panique pas', 'je ne panique pas', 'je ne suis pas convaincu', 'je n en suis pas persuade', 'je n en suis pas persuadee', 'je ne suis pas encore pret', 'je ne suis pas encore prete', 'je ne suis pas satisfait', 'je ne suis pas satisfaite', 'je ne suis pas surpris', 'je ne suis pas surprise', 'je ne suis pas si rapide', 'je ne suis pas l entraineur', 'je ne suis pas encore fatigue', 'je ne suis pas encore fatiguee', 'je ne suis pas tres occupe', 'je ne suis pas tres occupee', 'je ne suis pas ton bebe', 'je ne suis pas ta servante', 'je ne suis pas votre servante', 'je ne suis pas ta bonne', 'je ne suis pas votre bonne', 'j ai plus de dix huit ans', 'je suis tres serieux', 'je suis tres serieuse', 'j ai vraiment faim', 'j ai vraiment sommeil', 'je suis juste a l exterieur', 'j en ai marre de mentir', 'j en ai vraiment marre de mentir', 'je suis tellement deborde', 'j ai mal partout', 'je suis en quelque sorte fatigue', 'je suis en quelque sorte fatiguee', 'je suis encore sceptique', 'je suis toujours marie', 'je suis toujours mariee', 'je suis encore marie', 'je suis encore mariee', 'j ai toujours soif', 'j ai encore soif', 'j attends encore', 'je suis suffisamment fort', 'je suis suffisamment forte', 'je suis assez fort', 'je suis assez forte', 'je suis un tel idiot', 'je suis en train de prendre mon bain', 'je suis completement saoul', 'je suis gene', 'j y travaille', 'je suis votre voisin', 'elle est debutante', 'elle est novice', 'elle est agressive', 'elle est attirante', 'elle est son amie', 'elle est son amie', 'elle est en colere apres vous', 'elle est en colere apres toi', 'elle n est pas encore debout', 'elle a ans', 'elle est asociale', 'elle n est pas mariee', 'elle ne court pas', 'elle est un peu naive', 'elle est un peu niaise', 'elle est bonne menteuse', 'elle est professeur', 'c est une coriace', 'elle est a la mode', 'elle a un argument', 'elle n a pas tort', 'elle est hyperactive', 'c est ma fille', 'elle n est pas une enfant', 'ce n est pas une enfant', 'elle n est pas mon genre', 'elle est ouverte d esprit', 'elle a l esprit ouvert', 'elle est plutot bonne', 'elle est encore jeune', 'elle est tres belle', 'ils sont tous morts', 'ils sont en classe', 'ils sont tres gros', 'ils sont tres grands', 'elles sont tres grosses', 'elles sont tres grandes', 'elles sont tres massives', 'ils sont tres massifs', 'ils regardent', 'ils ne sont pas seuls', 'elles ne sont pas seules', 'ils sont tous semblables', 'elles sont toutes semblables', 'ce sont tous des menteurs', 'ce sont toutes des menteuses', 'elles mentent toutes', 'ils mentent tous', 'ce sont des cannibales', 'ils sont dangereux', 'elles sont dangereuses', 'ils sont differents', 'elles sont differentes', 'ils sont onereux', 'elles sont onereuses', 'ils sont en danger', 'elles sont en danger', 'ce sont de chics types', 'ils ne sont pas seuls', 'elles ne sont pas seules', 'ils ne sont pas satisfaits', 'elles ne sont pas satisfaites', 'ils sont surpris', 'elles sont surprises', 'ils sont intacts', 'elles sont intactes', 'ils sont tres occupes', 'elles sont tres occupees', 'nous sommes australiens', 'nous sommes australiennes', 'nous sommes camarades de classe', 'ca ne nous fait pas rire', 'nous ne sommes pas maries', 'nous ne sommes pas mariees', 'nous ne sommes pas apparentes', 'nous ne sommes pas apparentees', 'nous sommes une bonne equipe', 'nous sommes pour ainsi dire prets', 'nous sommes pour ainsi dire pretes', 'nous sommes tous en danger', 'nous sommes toutes en danger', 'nous sommes tous des laches', 'nous sommes toutes des laches', 'nous sommes tous amis', 'nous sommes tous retraites', 'nous sommes toutes retraitees', 'nous sommes tous a la pension', 'nous sommes toutes a la pension', 'nous sommes tous deux fous', 'nous sommes toutes deux folles', 'nous sommes tous deux celibataires', 'nous fetons ca', 'nous sommes en train de le changer', 'nous cooperons', 'nous sommes sans defenses', 'nous nous en sortons tres bien', 'nous avons de l experience', 'nous disposons d experience', 'nous sommes desormais amis', 'nous sommes desormais amies', 'nous nous dirigeons vers le nord', 'nous nous dirigeons au nord', 'nous nous dirigeons vers le sud', 'nous nous dirigeons au sud', 'nous sommes en train de nous en occuper', 'nous sommes en train de nous en charger', 'nous derangeons', 'nous sommes journalistes', 'nous avons juste peur', 'nous partons maintenant', 'nous formons en quelque sorte une famille', 'nous sommes desormais maries', 'nous sommes desormais mariees', 'nous ne sommes pas en train de nous disputer', 'nous ne sommes pas des laches', 'nous ne sommes pas habilles', 'nous ne sommes pas habillees', 'nous ne sommes pas amis', 'nous ne sommes pas invites', 'nous ne sommes pas invitees', 'nous ne plaisantons pas', 'nous ne sommes pas des tueurs', 'nous ne sommes pas des tueuses', 'nous ne partons pas', 'nous sommes pas en train de regarder', 'nous ne sommes pas maries', 'nous ne sommes pas mariees', 'nous ne sommes pas parfaits', 'nous ne sommes pas parfaites', 'nous ne sommes pas apparentes', 'nous ne sommes pas apparentees', 'nous ne sommes pas serieux', 'nous ne sommes pas serieuses', 'nous ne sommes pas en train de sourire', 'nous n en sommes pas si surs', 'nous n en sommes pas si sures', 'nous ne restons pas', 'nous ne sommes pas les bienvenus', 'nous ne sommes pas les bienvenues', 'nous sommes de vieux amis', 'nous sommes vieux amis', 'on est dans les clous', 'nous sommes dans les temps', 'nous sommes a court de munitions', 'nous sommes a court de biere', 'nous sommes a court de lait', 'on n a plus le temps', 'nous n avons plus de vin', 'nous perseverons', 'nous nous retirons', 'nous sommes tout a fait seuls', 'nous sommes assez seuls', 'nous sommes tout a fait seules', 'nous sommes assez seules', 'on est pas mal bourres', 'nous sommes assez fatigues', 'nous sommes pretes a partir', 'nous sommes prets a y aller', 'nous sommes pretes a y aller', 'nous sommes vraiment bons', 'nous sommes vraiment bonnes', 'nous sommes tres en retard', 'nous sommes pleins de ressources', 'nous sommes toujours en vie', 'nous prenons le controle', 'nous prenons l ascendant', 'nous rejouons', 'nous sommes le probleme', 'nous sommes dignes de confiance', 'tu es un peu gras', 'tu es un etudiant', 'tu es une etudiante', 'vous etes un etudiant', 'vous etes une etudiante', 'tu es enseignant', 'tu es enseignante', 'vous etes des actrices', 'tu es beau', 'tu es belle', 'vous etes beau', 'vous etes belle', 'vous etes beaux', 'vous etes belles', 'que vous etes drole', 'vous me faites mourir de rire', 'tu es important', 'vous etes important', 'vous etes importants', 'vous etes importantes', 'tu es importante', 'vous etes importante', 'tu es sur mon chemin', 'vous etes sur mon chemin', 'tu es mon pere', 'tu es mon amie', 'tu es tellement idiot !', 'tu es tellement idiote !', 'vous etes tellement idiot !', 'vous etes tellement idiote !', 'vous etes tellement idiots !', 'vous etes tellement idiotes !', 'tu es tres sympa', 'tu es tres riche', 'vous etes tres riche', 'vous etes tres riches', 'vous etes fort riche', 'vous etes fort riches', 'tu mens mal', 'vous mentez mal', 'tu es un prisonnier', 'vous etes un prisonnier', 'tu es agressif', 'tu es agressive', 'vous etes tous malades', 'vous etes toutes malades', 'tu t exprimes bien', 'vous vous exprimez bien', 'tu es a nouveau de retour', 'vous etes a nouveau de retour', 'tu es courageux', 'tu es courageuse', 'tu es degoutant', 'tu es degoutante', 'vous etes degoutant', 'vous etes degoutante', 'vous etes degoutants', 'vous etes degoutantes', 't es libre d y aller', 't es libre de t en aller', 'vous etes libre d y aller', 'vous etes libres d y aller', 'vous etes libre de vous en aller', 'vous etes libres de vous en aller', 'vous avez a moitie raison', 'tu as a moitie raison', 'tu es la tot', 'tu viens tot', 'tu me fais mal !', 'vous me faites mal !', 'tu es incroyable', 'vous etes incroyable', 'vous etes incroyables', 'tu n es qu un enfant', 'tu n es qu un enfant', 'tu es juste fatigue', 'tu me tues', 'vous me tuez', 'vous n etes pas normal', 'vous n etes pas normale', 'vous n etes pas normaux', 'vous n etes pas normales', 'tu n es pas normal', 'tu n es pas normale', 'tu es surmene', 'tu es surmenee', 'vous etes surmenee', 'vous etes surmenees', 'vous etes surmene', 'vous etes surmenes', 'tu es productif', 'tu es productive', 'vous etes productif', 'vous etes productifs', 'vous etes productive', 'vous etes productives', 'tu es remarquable', 'tu me fais peur', 'tu es cerne', 'vous etes cernes', 'vous etes cernees', 'vous etes cerne', 'vous etes cernee', 'tu es cernee', 'c est toi qui me le dis', 'vous etes le chef', 'tu es le chef', 'tu es la chef', 'vous etes la chef', 'c est toi le chef', 'c est toi la chef', 'c est vous le chef', 'c est vous la chef', 'vous etes le maitre', 'vous etes la maitresse', 'tu es le maitre', 'tu es la maitresse', 'c est toi le maitre', 'c est toi la maitresse', 'c est vous le maitre', 'c est vous la maitresse', 'vous etes le plus vieux', 'vous etes le doyen', 'vous etes la plus vieille', 'vous etes la doyenne', 'tu es le doyen', 'tu es la doyenne', 'tu es la plus vieille', 'tu es le plus vieux', 'c est toi le plus vieux', 'c est toi la plus vieille', 'c est vous la plus vieille', 'c est toi la doyenne', 'c est vous le plus vieux', 'c est toi le doyen', 'c est vous le doyen', 'c est vous la doyenne', 'c est vous l aine', 'c est toi l aine', 'c est vous l ainee', 'c est toi l ainee', 'vous etes l aine', 'vous etes l ainee', 'tu es l aine', 'tu es l ainee', 'vous etes les proprietaires', 'c est vous les proprietaires', 'tu es trop poli', 'tu es trop polie', 'vous etes trop poli', 'vous etes trop polie', 'vous etes trop polis', 'vous etes trop polies', 'vous etes trop maigrichon', 'vous etes trop maigre', 'vous etes trop maigrichonne', 'vous etes trop maigrichons', 'vous etes trop maigrichonnes', 'vous etes trop maigres', 'tu es trop maigre', 'tu es trop maigrichon', 'tu es trop maigrichonne', 'vous etes fort en colere', 'tu es fort en colere', 'vous etes tres en colere', 'tu es tres en colere', 'tu es tres courageux', 'tu es tres brave', 'vous etes tres courageux', 'vous etes tres courageuse', 'vous etes tres courageuses', 'vous etes fort brave', 'vous etes tres brave', 'vous etes fort braves', 'vous etes tres braves', 'tu es fort brave', 'tu es fort courageux', 'tu es tres courageuse', 'tu es fort courageuse', 'vous etes fort courageux', 'vous etes fort courageuse', 'vous etes fort courageuses', 'tu es tres drole', 'tu es fort drole', 'vous etes tres drole', 'vous etes tres droles', 'vous etes fort drole', 'vous etes fort droles', 'vous etes tres marrant', 'vous etes tres marrante', 'vous etes tres marrants', 'vous etes tres marrantes', 'tu es tres marrant', 'tu es tres marrante', 'tu es tres vif', 'tu es tres vive', 'vous etes tres vif', 'vous etes tres vifs', 'vous etes tres vive', 'vous etes tres vives', 'tu es tres intelligent', 'tu es tres intelligente', 'vous etes tres sages', 'tu es tres timide', 'tu es fort timide', 'vous etes tres timide', 'vous etes tres timides', 'vous etes fort timide', 'vous etes fort timides', 'vous etes fort craintif', 'vous etes fort craintive', 'vous etes fort craintifs', 'vous etes fort craintives', 'vous etes tres craintive', 'vous etes tres craintif', 'vous etes tres craintives', 'vous etes tres craintifs', 'tu es fort craintif', 'tu es fort craintive', 'tu es tres craintif', 'tu es tres craintive', 'tu es tres peureux', 'tu es tres peureuse', 'vous etes tres peureux', 'vous etes tres peureuse', 'vous etes tres peureuses', 'tu es tres contrarie', 'tu es tres contrariee', 'tu es fort contrarie', 'tu es fort contrariee', 'vous etes tres contrarie', 'vous etes tres contrariee', 'vous etes tres contraries', 'vous etes tres contrariees', 'vous etes fort contrarie', 'vous etes fort contrariee', 'vous etes fort contraries', 'vous etes fort contrariees', 'il est mauvais conducteur', 'c est une mauvaise personne', 'il est employe de banque', 'c est un garcon intelligent', 'il est poissonnier', 'il est un bon perdant', 'c est un enfant mince', 'il a environ mon age', 'il a a peu pres mon age', 'il a environ trente ans', 'il est sur le point de mourir', 'il est a l article de la mort', 'il est tout sauf mort', 'il est deja la', 'il est en train de boire du the', 'il est en train de dejeuner', 'c est mon camarade de classe', 'il est mon collegue', 'c est mon collegue', 'ce n est pas un gentleman', 'il n est pas japonais', 'il passe a la radio', 'il est a la radio', 'il n est qu un enfant', 'il joue au golf', 'c est ici qu il joue', 'il a l esprit vif', 'il est vraiment sans c ur', 'il est encore au lit', 'il est certain de venir', 'il est borne', 'il est tres prudent', 'il est tres soigneux', 'il est tres erudit', 'il est fort erudit', 'il est riche maintenant', 'ce n est pas mon cousin', 'il est un peu jaloux', 'il est quelque peu jaloux', 'c est un creationiste', 'c est un marcheur rapide', 'c est un sale menteur !', 'c est un critique gastronomique', 'c est un negre', 'il est gardien de but', 'c est quelqu un de bien', 'il est gentil', 'c est un homme marie', 'il est accro aux methamphetamines', 'c est un type etrange', 'c est une vraie loque', 'c est deja un homme', 'il est anglais', 'c est un aristocrate', 'il est aristocrate', 'il s approche', 'il se rapproche', 'il est concret', 'il est bon aux cartes', 'il est dans la douche', 'c est mon nouvel ami', 'ce n est pas un mauvais garcon', 'ce n est pas un mauvais bougre', 'il n est pas tout a fait la', 'il n est pas disponible', 'il est indisponible', 'ce n est pas mon cousin', 'il n est pas mon pere', 'il n est pas des notres', 'il est vieux et fou', 'il est unique en son genre', 'il a trop confiance en lui meme', 'il frole les cinquante ans', 'il est independant', 'il est petit et gros', 'il est encore au travail', 'il est grand et mince', 'c est lui le bouc emissaire', 'il est tres flexible', 'il est tres talentueux', 'il y travaille', 'je suis un nouvel etudiant', 'je suis enfant unique', 'je suis en train de bouillir de l eau', 'je fais de mon mieux', 'j ai fini d enseigner', 'j adore la musique', 'je viens de portugal', 'je suis de shizuoka', 'je suis en train de griller du poisson', 'je suis en grande difficulte', 'je suis dans le jardin', 'je suis juste un monsieur tout le monde', 'je ne suis pas un enseignant', 'je ne suis pas enseignant', 'je ne suis pas encore pret', 'je ne suis pas encore prete', 'je ne suis pas trop fatigue', 'je suis desole pour toi', 'je suis le voisin de tom', 'je suis la voisine de tom', 'j apprends vite', 'je suis un petit enfant', 'je suis une petite enfant', 'j ai un peu la tete qui tourne', 'je suis un peu bourree', 'je suis un peu rouille', 'je suis un peu fatigue', 'je suis photographe', 'je suis sur le point de partir', 'je suis desole mais je ne peux pas', 'j ai peur des chauves souris', 'j ai peur des chiens', 'je suis toujours prudent', 'je suis toujours prudente', 'j ai toujours soif', 'je suis aussi grand que tom', 'je suis chez tom', 'je me fais harceler', 'on m a promu', 'on m a promue', 'je suis promu', 'je suis promue', 'je suis puni', 'je suis punie', 'je fais preuve de bon sens', 'je saigne gravement', 'je m ennuie a mourir', 'j achete un chiot', 'je suis en train d acheter un chiot', 'je suis claustrophobe', 'j arrive tout de suite', 'je viens en juillet', 'je compte dessus', 'j y compte', 'je bois de l eau', 'je vais mieux', 'j ai faim', 'je suis libre le dimanche', 'je suis de singapour', 'je prends du poids', 'je me remets', 'je commence a avoir faim', 'je commence a avoir sommeil', 'je le rends', 'je la rends', 'je vais en ville', 'je me rends en ville', 'je vais a la maison maintenant', 'je vais me battre', 'je vais me detendre', 'je vais dormir', 'je suis bon en ski', 'je suis ici pour ecouter', 'je suis ici n est ce pas ?', 'ici c est moi le patron', 'je suis en bonne sante', 'je suis dans la baignoire', 'maintenant j ai des ennuis', 'desormais j ai des ennuis', 'je ne suis qu un enseignant', 'je ne suis qu un touriste', 'je commence a peine', 'je ne fais que commencer', 'je suis en retard n est ce pas ?', 'je te licencie', 'je vous licencie', 'j apprends le tcheque', 'j etudie la musique', 'je te vire', 'je vous vire', 'je te laisse partir', 'je vous laisse partir', 'je te libere', 'je vous libere', 'je ne suis personne de special', 'je ne suis personne de particulier', 'je ne suis pas un criminel', 'je ne suis pas une criminelle', 'je ne suis pas magicien', 'je ne suis pas occupe aujourd hui', 'je ne souffre pas de lubies', 'je ne le nie point', 'je ne suis pas en train de faire ca', 'je ne m en vais pas', 'je ne suis pas bon a ca', 'je ne suis pas heureux ici', 'je n ai pas encore faim', 'je n ai pas de probleme', 'je ne suis pas invincible', 'je ne suis pas assez vieux', 'je ne suis pas assez vieille', 'je ne suis pas en surpoids', 'je ne suis pas photogenique', 'je ne suis pas tout a fait sur', 'je ne suis pas si saoul', 'je ne suis pas si saoule', 'je ne suis pas votre ennemi', 'je ne suis pas votre ennemie', 'je ne suis pas ton ennemi', 'je ne suis pas ton ennemie', 'je suis incontrolable', 'je suis maintenant pret tom', 'je suis pret a demarrer', 'je suis vraiment choque', 'je suis vraiment choquee', 'je vois quelqu un', 'je suis tellement embarrasse', 'je suis tellement embarrassee', 'j ai un peu la tete qui tourne', 'excusez mon retard', 'je suis encore sous le choc', 'je ne suis toujours pas sur', 'je ne suis toujours pas sure', 'je suis soudainement fatigue', 'je suis tout a coup fatiguee', 'je vous soutiens', 'je suis terriblement desole', 'je fais de mon mieux', 'j ai le double de ton age', 'je suis sans enthousiasme', 'je fais usage de cette tasse', 'j utilise cette tasse', 'je suis en train d utiliser cette tasse', 'j ai beaucoup de chance', 'j ai la baraka', 'je suis tres heureux maintenant', 'maintenant je suis tres heureuse', 'je suis fort impressionne', 'je suis tres impressionnee', 'je suis fort impressionnee', 'je suis en train d ecrire un bouquin', 'c est une gentille fille', 'c est une pietre cuisiniere', 'elle vient de france', 'elle va sur ses ans', 'elle est en train de l aider', 'elle est en train de l embrasser', 'c est ma fille', 'elle a les pieds en dedans', 'elle est assez fachee', 'elle est inconsciente', 'elle est tres mignonne', 'elle est la s ur de tom', 'c est une taquine', 'c est une fille intelligente', 'c est un mannequin d elite', 'c est une gentille fille', 'c est une alcoolique', 'elle est en train de manger des fruits', 'ce n est qu une enfant', 'c est ma camarade de classe', 'ils sont tous semblables', 'ils sont tous deux bons', 'elles sont toutes deux bonnes', 'ils sont bons tous les deux', 'elles sont bonnes toutes les deux', 'elles sont crevees', 'ils sont extenues', 'elles sont extenuees', 'ils ne sont pas fatigues', 'elles ne sont pas fatiguees', 'ils sont trop proches', 'ils sont tres bienveillants', 'elles sont tres bienveillantes', 'ils sont tres gentils', 'elles sont tres gentilles', 'ils sont chretiens', 'ils sont tous coupables', 'elles sont toutes coupables', 'ils ont tous faim', 'elles ont toutes faim', 'ils sont tous normaux', 'elles sont toutes normales', 'ils ont tous les deux raison', 'elles ont toutes les deux raison', 'ce sont des illets', 'ils sont jetables', 'elles sont jetables', 'ils sont en bas', 'ils sont en dessous', 'ils sont au dessous', 'ils ont des ennuis', 'elles ont des ennuis', 'ils sont dans la mouise', 'elles sont dans la mouise', 'ce ne sont que des mots', 'ils sont en colere apres toi', 'ils sont en colere apres vous', 'elles sont en colere apres toi', 'elles sont en colere apres vous', 'elles sont furieuses apres vous', 'elles sont furieuses apres toi', 'ils sont furieux apres vous', 'ils sont furieux apres toi', 'ils sont mes amis', 'ils ne viennent pas', 'elles ne viennent pas', 'ils ne sont pas si mauvais', 'elles ne sont pas si mauvaises', 'ils font partie de nous', 'elles font partie de nous', 'ils sont tres intelligents', 'elles sont tres intelligentes', 'nous sommes australiens', 'nous sommes australiennes', 'nous sommes des gens occupes', 'nous sommes sans defenses', 'nous sommes une grande famille', 'nous sommes tous infectes', 'nous sommes toutes infectees', 'nous sommes tous etudiants', 'nous sommes toutes etudiantes', 'nous sommes tous les memes', 'nous sommes toutes les memes', 'nous sommes presque prets', 'nous sommes presque pretes', 'encore un petit effort', 'nous y sommes presque', 'nous y sommes bientot', 'nous sommes deja en retard', 'nous avons toujours raison', 'nous sommes les meilleurs amis', 'nous sommes tous deux ecrivains', 'nous sommes suffisamment proches', 'nous sommes conservateurs', 'nous contribuons', 'nous sommes decues', 'notre entretien est termine', 'nous avons fini de parler', 'nous sommes en train d y penetrer', 'nous allons essayer', 'nous sommes a mi chemin de chez nous', 'nous sommes en lune de miel', 'nous gardons la maison', 'nous sommes dans une bibliotheque', 'nous sommes simplement nerveux', 'nous sommes simplement nerveuses', 'nous ne faisons que parler', 'nous partons d ici', 'nous y sommes presque', 'nous ne sommes pas encore morts', 'nous ne sommes pas encore mortes', 'nous n en avons pas encore termine', 'nous ne nous battons pas', 'nous n en avons pas fini', 'nous ne sommes pas encore libres', 'nous ne sommes pas impliques', 'nous ne sommes pas impliquees', 'nous ne sommes pas partenaires', 'nous ne sommes pas soldats', 'nous ne sommes pas en train de parler', 'nous n en sommes pas encore surs', 'nous n en sommes pas encore sures', 'nous ne regardons pas', 'nous ne sommes que des amis', 'nous sommes a court d argent', 'nous n en avons plus en stock', 'nous sommes a court', 'nous sur reagissons', 'notre horaire est assez serre', 'nous nous retirons', 'nous sommes vraiment en colere', 'nous sommes vraiment saouls', 'nous sommes vraiment saoules', 'nous avons vraiment de la chance', 'nous nous enfuyons', 'nous prenons du retard', 'nous sommes en train de ralentir', 'nous sommes encore une equipe', 'nous sommes actuellement en train d etudier', 'nous sommes du meme age', 'nous avons le meme age', 'nous retournons en arriere', 'nous sommes attaques', 'nous sommes attaquees', 'nous sommes depourvus de prejuges', 'nous sommes depourvues de prejuges', 'nous sommes tres excites', 'nous sommes tres excitees', 'nous sommes tres serieux', 'nous sommes tres serieuses', 'nous faisons du benevolat', 'nous nous portons volontaires', 'tu es un bon garcon', 'vous etes un bon garcon', 't es un bon garcon !', 'vous etes libres de partir', 'vous etes insupportable', 'tu es surmene', 'tu es tres courageux', 'tu es tres brave', 'vous etes tres courageux', 'vous etes tres courageuse', 'vous etes tres courageuses', 'vous etes tres sages', 'tu n es pas invite', 'tu n es pas invitee', 'vous n etes pas invitee', 'vous n etes pas invite', 'vous n etes pas invitees', 'vous n etes pas invites', 'tu ne regardes pas', 'vous ne regardez pas', 't es un gros nounours', 't es une drole de fille', 't es un gars marrant', 't es un drole de gars', 'vous etes un drole de zozo', 'vous etes un drole d oiseau', 'vous etes un drole de specimen', 't es un mec marrant', 'vous etes un drole de type', 'tu es bon menteur', 'vous etes bon menteur', 'tu es un bon gars', 'vous etes un bon gars', 'tu es un garcon malin', 't es un gamin bizarre', 'vous etes un enfant bizarre', 'tu es desormais une femme', 'vous etes desormais une femme', 'tu as presque raison', 'vous etes tous des laches', 'vous etes tous invites', 'vous etes toutes invitees', 'vous etes tous des racistes', 'vous etes toutes des racistes', 'tu m enerves', 'tu m evites', 'vous m evitez', 'tu es idiot', 'vous etes idiot', 'vous etes idiote', 'tu es idiote', 'vous etes prevenant', 'tu es prevenant', 'tu es prevenante', 'vous cooperez', 'tu es extraverti', 'tu es extravertie', 'vous etes extraverti', 'vous etes extravertis', 'vous etes extravertie', 'vous etes extraverties', 'vous etes fascinante', 'vous etes fascinantes', 'vous etes fascinant', 'vous etes fascinants', 'tu es fascinante', 'tu es fascinant', 'tu es branche', 'tu es branchee', 'vous etes branche', 'vous etes branches', 'vous etes branchee', 'vous etes branchees', 'vous lui faites mal', 'tu lui fais mal', 'vous etes influent', 'tu me mens', 'vous etes ma princesse', 'tu n es pas contusionne', 'tu n es pas contusionnee', 'vous n etes pas contusionne', 'vous n etes pas contusionnee', 'vous n etes pas contusionnes', 'vous n etes pas contusionnees', 'vous n etes pas habille', 'vous n etes pas habillee', 'vous n etes pas habilles', 'vous n etes pas habillees', 'tu n es pas habille', 'tu n es pas habillee', 'tu n aides pas', 'vous n aidez pas', 'tu n es pas comme moi', 'vous n etes pas comme moi', 'tu n es pas mon genre', 'vous n etes pas mon genre', 'tu n es pas special', 'vous etes sur la liste', 'ta chance est epuisee', 'votre chance est epuisee', 'votre temps est ecoule', 'ton temps est ecoule', 't es assez bon', 't es assez bonne', 'vous etes plutot bon', 'vous etes plutot bonne', 'vous etes plutot bons', 'vous etes assez bonnes', 'tu es fort maline', 'on peut te remplacer', 'tu n es pas indispensable', 'tu es plein de ressources', 'tu es pleine de ressources', 'vous etes plein de ressources', 'vous etes pleins de ressources', 'vous etes pleine de ressources', 'tu es tellement paranoiaque !', 'vous etes tellement paranoiaque !', 'tu es si pitoyable', 'vous etes si pathetique', 'vous avez tellement de talent !', 'tu as tellement de talent !', 'vous etes toujours vivant', 'vous etes toujours vivants', 'tu es toujours vivant', 'tu es toujours vivante', 'vous etes toujours vivante', 'vous etes toujours vivantes', 'tu es encore jeune', 'vous etes encore inexperimente', 'tu es encore un bleu', 'tu es encore jeune', 'vous etes encore jeune', 'vous etes encore jeunes', 'tu es un de ces pauvres types !', 'vous etes un de ces pauvres types !', 'tu es un sacre menteur', 'vous etes un sacre menteur', 'quel menteur tu fais !', 'quel menteur vous faites !', 'quelle menteuse tu fais !', 'quelle menteuse vous faites !', 'vous etes une sacree menteuse', 'tu es une sacree menteuse', 'vous etes l enseignant', 'vous etes l enseignante', 'vous etes l instituteur', 'vous etes l institutrice', 'vous etes le professeur', 'vous etes la professeur', 'tu es le professeur', 'tu es la professeur', 'tu es l institutrice', 'tu es l instituteur', 'tu es l enseignante', 'tu es l enseignant', 'c est vous l enseignante', 'c est vous l enseignant', 'c est vous le professeur', 'c est vous la professeur', 'c est vous l instituteur', 'c est vous l institutrice', 'c est toi l instituteur', 'c est toi l institutrice', 'c est toi le professeur', 'c est toi la professeur', 'c est toi le prof', 'c est toi la prof', 'c est toi l enseignant', 'c est toi l enseignante', 'tu me touches', 'vous me touchez', 'tu es fiable', 'vous etes fiable', 'vous etes fiables', 'tu deviens rouge', 'vous devenez rouge', 'tu es depourvu d ambition', 'tu es depourvue d ambition', 'vous etes depourvu d ambition', 'vous etes depourvue d ambition', 'vous etes depourvus d ambition', 'vous etes depourvues d ambition', 'tu es fort astucieux', 'tu es fort astucieuse', 'tu es tres astucieux', 'tu es tres astucieuse', 'vous etes tres astucieux', 'vous etes tres astucieuse', 'vous etes tres astucieuses', 'vous etes fort astucieux', 'vous etes fort astucieuse', 'vous etes fort astucieuses', 'tu es tres ingenieux', 'tu es tres ingenieuse', 'tu es tres habile', 'tu es fort habile', 'vous etes tres habile', 'vous etes tres habiles', 'vous etes fort habile', 'vous etes fort habiles', 'vous etes fort ingenieux', 'vous etes tres ingenieux', 'vous etes fort ingenieuse', 'vous etes fort ingenieuses', 'vous etes tres ingenieuse', 'vous etes tres ingenieuses', 'tu es fort ingenieux', 'tu es fort ingenieuse', 'tu es tres direct', 'tu es tres directe', 'vous etes tres direct', 'vous etes tres directe', 'vous etes tres directes', 'tu es tres solitaire', 'tu es fort solitaire', 'vous etes tres solitaire', 'vous etes tres solitaires', 'vous etes fort solitaire', 'vous etes fort solitaires', 'tu es tres jolie', 'tu as a nouveau tort', 'vous avez a nouveau tort', 'c est un artiste ne', 'c est un coureur rapide', 'c est un bon docteur', 'c est un bon medecin', 'c est un bon chanteur', 'il est bon chanteur', 'c est un bon ecrivain', 'c est un travailleur applique', 'c est un homme jaloux', 'c est un type paresseux', 'c est un homme cultive', 'c est une gentille personne', 'il est malpoli', 'il fait a peu pres ma taille', 'il plaisante toujours', 'c est un homme honnete', 'il a tendance a oublier', 'il est a son bureau', 'il est a la maison aujourd hui', 'il est au bureau', 'il est vraiment intelligent', 'il est loin d etre riche', 'il est fort au rugby', 'c est mon vieil ami', 'il n est pas disponible', 'il n est pas religieux', 'il fait plus de kilos', 'il joue de la musique', 'il joue la', 'il y joue', 'il est probablement mort', 'il est pret a travailler', 'il fait une promenade', 'il est grand et maigre', 'il dit un mensonge', 'il est trop sensible', 'il est tres sociable', 'il est tres talentueux', 'il nettoie une voiture', 'il porte un chapeau', 'c est un cardiologue', 'il est cardiologue', 'c est un fumeur invetere', 'il embrasse tres bien', 'il est tardivement arrive a maturite', 'il est un peu rouille', 'c est un electron libre', 'il est aussi un vendeur', 'il est scenariste', 'c est un type sur qui on peut compter', 'il est sur le point de partir', 'il est sur le point de s en aller', 'il est actif et en forme', 'il a peur des chiens', 'c est un inconditionnel de l opera', 'il adore l opera', 'il se comporte etrangement', 'il fait de son mieux', 'il le fait correctement', 'il le fait comme il faut', 'il l a fait auparavant', 'il a mal a la tete', 'il a de gros problemes', 'il est dans la merde', 'il va avoir un choc', 'il a la cinquantaine', 'il est dans la cuisine', 'il est connu pour cela', 'il est probable qu il vienne', 'il te regarde', 'il vous regarde', 'il est en train de te regarder', 'il est en train de vous regarder', 'c est mon meilleur ami', 'il est mon meilleur ami', 'il est de garde', 'il a probablement tort', 'il est vraiment egoiste', 'il est plus grand que moi', 'il est trop vieux pour moi', 'il est tres sceptique', 'je peux nager tres vite', 'moi aussi je suis professeur', 'je suis egalement enseignant', 'j ai peur des chiens', 'je suis electricien', 'je suis un electricien', 'je m ennuie a en mourir', 'je mange des nouilles', 'je suis fiance avec elle', 'j aime skier', 'je ne m en fais pas', 'je vais aller rejoindre les bras de morphee', 'je vais dormir', 'je vais etudier', 'c est moi le patron ici', 'je suis comme ma mere', 'je ne suis pas votre ennemi', 'je ne suis pas votre ennemie', 'je ne suis pas ton ennemi', 'je ne suis pas ton ennemie', 'j ai conge aujourd hui', 'je suis plus vieux que lui', 'je suis en train d eplucher des pommes', 'je suis mediocre au tennis', 'je suis en train de lire un livre', 'pour une fois j ai raison', 'ca me rend triste d entendre ca', 'je manque d argent', 'j ai un probleme d argent', 'je suis l elu', 'je suis l elue', 'je suis vraiment dangereux', 'moi aussi je suis debutant', 'je suis egalement debutant', 'je suis egalement un debutant', 'moi aussi je suis un debutant', 'je dors peu', 'j ai un peu faim', 'je suis une femme mariee', 'je suis perfectionniste', 'j apprends vite', 'je suis un travailleur social', 'je suis une travailleuse sociale', 'je suis un etranger ici', 'je suis une etrangere ici', 'je vais sortir', 'j en suis sure et certaine !', 'j ai peur de mourir', 'j ai peur de mourir', 'je suis deja marie', 'je suis deja mariee', 'je suis innocent', 'je suis a votre service', 'je suis a ton service', 'je ne sais pas bien nager', 'je suis en retard', 'je suis en retard sur le programme', 'je suis meilleur que lui', 'je m ennuie en ce moment', 'je suis lessive et fatigue', 'je suis ruine et fatigue', 'je suis sur la paille et fatigue', 'j en suis certain', 'je compte sur toi', 'je suis fou de toi', 'je suis fou de vous', 'je fais tout ce que je peux', 'je suis en train de boire une biere', 'je meurs de soif', 'je mange une pomme', 'je suis extremement heureux', 'j en ai marre d elle', 'j en ai marre de lui', 'ca va merci', 'je vais me marier', 'je suis content d etre la', 'je suis contente d etre la', 'je suis content d etre ici', 'je suis heureux de vous voir', 'je suis enchante de vous rencontrer', 'je suis heureux de te voir', 'je suis content que nous ayons vu tom', 'je pars en voyage', 'j y vais maintenant', 'je vais maintenant y aller', 'je vais en prison', 'je suis bon en sciences', 'je suis bon en chant', 'j en suis content', 'j en suis contente', 'je suis en sous vetements', 'je suis incroyablement occupe', 'j ai une dette envers toi', 'j ai une dette envers vous', 'je n ai simplement pas faim', 'je suis une sorte de solitaire', 'je suis en train d apprendre le basque', 'je suis en train d apprendre le francais', 'je pars ce soir', 'je vis mon reve', 'je fais des progres', 'je suis plus qu heureux', 'je suis plus qu heureuse', 'je suis plus que content', 'je suis plus que contente', 'je ne suis plus fatigue', 'je ne suis pas du tout fatigue', 'je ne suis pas un bon menteur', 'je ne suis pas une bonne menteuse', 'je ne suis pas scientifique', 'je ne presente pas mes excuses', 'je ne suis pas occupe du tout', 'je ne suis pas occupee du tout', 'je ne vous blame pas', 'je ne suis pas occupe non plus', 'je ne suis pas occupee non plus', 'je ne suis pas a l aise', 'je ne reviens pas', 'je ne me plains pas', 'je l accorde', 'je ne suis pas decourage', 'je ne suis pas decouragee', 'je ne mange pas ca', 'je ne vais pas manger ca', 'je ne suis pas embarrasse', 'je ne suis pas embarrassee', 'je ne vais pas y aller', 'je n eprouve pas la moindre douleur', 'je ne suis pas d humeur', 'je ne suis pas intimide', 'je ne suis pas intimidee', 'je ne te quitte pas', 'je ne suis pas encore mariee', 'je ne suis pas encore marie', 'je ne fais pas partie du serail', 'je ne fais pas partie de leur groupe', 'je ne fais pas partie de leur serail', 'je ne fais pas partie de leur bande', 'je ne suis pas presentable', 'je n en suis pas fier', 'je n en suis pas fiere', 'je ne suis pas vraiment occupe', 'je ne suis pas vraiment occupee', 'je ne te le dis pas', 'je ne suis pas stupide a ce point !', 'je ne suis pas le patron', 'le probleme ce n est pas moi', 'ce n est pas moi le probleme', 'je n ai pas tres faim', 'je ne suis pas ton pere', 'je ne suis pas ton ami', 'je ne suis pas ton amie', 'je ne suis pas votre ami', 'je ne suis pas votre amie', 'je suis sur le chemin de la maison', 'je ne suis qu un client', 'je manque de pratique', 'je suis parfaitement heureux', 'je suis parfaitement heureuse', 'je suis fiere de mon pere', 'je suis fier de mon fils', 'je suis fiere de moi', 'je suis fier de moi', 'je suis pret a partir maintenant', 'je suis pret a y aller maintenant', 'je ne suis vraiment pas occupe', 'je ne suis vraiment pas occupee', 'j ai raison non ?', 'je suis triste sans vous', 'je suis triste sans toi', 'sans toi je suis triste', 'je suis a bout de souffle', 'j en ai marre de l anglais', 'je n en peux plus de l anglais', 'j ai legerement faim', 'je suis tellement fier de toi', 'je suis tellement fiere de toi', 'je suis tellement fiere de vous', 'je suis tellement fier de vous', 'j en ai tellement marre', 'je suis desole j ai oublie', 'je suis desolee j ai oublie', 'je suis toujours inquiet', 'je ne suis pas encore pret', 'je suis encore indecis', 'je suis coince dans mon boulot', 'je suis coincee dans mon boulot', 'je suis en train d etudier le francais', 'j etudie le francais', 'je suis plus grand que toi', 'je suis las de boston', 'je suis fatigue de boston', 'je suis fatiguee de boston', 'j en ai marre de perdre', 'je suis trop vieille pour tom', 'je suis trop age pour tom', 'je suis trop agee pour tom', 'je suis trop vieux pour tom', 'je suis trop vieux pour elle', 'je suis trop vieux pour vous', 'je suis trop vieux pour toi', 'je suis trop vieille pour vous', 'je suis trop vieille pour toi', 'je voyage leger', 'j essaie de dormir', 'je suis habitue a tom maintenant', 'je suis tres occupe aujourd hui', 'je suis tres frustre', 'je suis tres frustree', 'j ai tres sommeil maintenant', 'j attends mon tour', 'j ecris un roman', 'je suis votre nouvel avocat', 'je suis capable de parler', 'c est une mauvaise personne', 'c est un moulin a parole', 'elle a a peu pres mon age', 'elle a environ mon age', 'elle est mal elevee', 'elle a la peau noire', 'elle adore les gateaux', 'elle a une bonne nature', 'elle est bienveillante', 'elle travaille dur', 'elle est dure avec eux', 'elle n est qu une enfant', 'elle est ma camarade de classe', 'elle n est pas encore la', 'elle n est pas a blamer', 'elle est encore mineure', 'elle est une artiste nee', 'c est une blonde', 'c est une vraie concierge', 'c est une vraie commere', 'elle est vraiment une fille ravissante', 'c est une femme forte', 'c est une veritable artiste', 'elle est fille unique', 'elle a ete empoisonnee', 'elle est de mauvaise humeur', 'elle est mon premier amour', 'elle n est pas sans argent', 'elle est encore mineure', 'elle est obstinee', 'elle a une forte volonte', 'elle porte un chapeau', 'ils sont chretiens', 'ce sont des chretiens', 'elles sont chretiennes', 'ce sont des chretiennes', 'ce sont mes amis', 'ce sont mes amies', 'ils sont mes amis', 'elles sont mes amies', 'ils sont nos invites', 'elles sont nos invitees', 'ils sont une bonne equipe', 'ils sont sur le point de partir', 'ce sont tous des voleurs', 'ce sont toutes des voleuses', 'ils attendent tous', 'elles attendent toutes', 'elles sont toutes en train d attendre', 'ils sont tous en train d attendre', 'ils sont presque la', 'ils en sont presque la', 'elles sont presque la', 'elles en sont presque la', 'ils sont la pour moi', 'elles sont la pour moi', 'ils ne me pretent pas attention', 'ils sont plutot marrants', 'elles sont plutot marrantes', 'ils ne sont pas en ville', 'elles ne sont pas en ville', 'ils sont vraiment moches', 'elles sont vraiment moches', 'ils sont encore jeunes', 'elles sont encore jeunes', 'nous sommes tous nes fous', 'nous sommes bons amis', 'nous sommes de bonnes amies', 'nous sommes ses enfants', 'nous sommes dans une bibliotheque', 'nous sommes dans la bibliotheque', 'nous sommes tres semblables', 'nous sommes tous differents', 'nous sommes toutes differentes', 'nous en avons completement termine ici', 'nous sommes tous impressionnes', 'nous sommes toutes impressionnees', 'nous sommes tous prisonniers', 'nous sommes toutes prisonnieres', 'nous allons bien maintenant', 'nous sommes tous temoins', 'nous avons toujours faim', 'nous sommes au milieu d amis', 'nous sommes de nouveau ensemble', 'on nous regarde', 'nous sommes observes', 'nous sommes tous deux enseignants', 'nous sommes toutes deux enseignantes', 'nous sommes des amis proches', 'nous fermons tot', 'nous sommes consciencieux', 'nous sommes consciencieuses', 'nous sommes en train de manger des pommes', 'nous sommes enfin seuls', 'nous sommes enfin seules', 'on est enfin seuls', 'on est enfin seules', 'nous en avons fini ici', 'nous nous approchons', 'nous nous en approchons', 'nous en approchons', 'nous y arrivons', 'nous commencons a fatiguer', 'nous allons danser', 'nous allons a la chasse', 'nous sommes a la moitie du chemin', 'nous sommes en train de dejeuner', 'nous ne sommes que des enfants', 'nous ne faisons que commencer', 'nous ne sommes que des etudiants', 'nous sommes comme des freres', 'nous ne comptons pas abandonner', 'nous n allons pas sortir', 'nous ne sommes pas impressionnes', 'nous ne sommes pas impressionnees', 'nous sommes pas en train d ecouter', 'nous ne sortons pas ensemble', 'nous ne sommes pas prisonniers', 'nous ne sommes pas prisonnieres', 'nous ne sommes pas des etrangers', 'nous n en sommes pas encore la', 'nous n y sommes pas encore', 'nous sommes ouverts demain', 'nous sommes a court de cafe', 'nous sommes en train de jouer aux cartes', 'nous en sommes fiers', 'nous en sommes fieres', 'nous avons vraiment peur', 'nous sommes toujours amis', 'nous sommes encore maries', 'nous tentons notre chance', 'nous tentons le diable', 'nous sommes les gentils', 'nous avons la meme taille', 'on en a marre', 'on est vraiment inquiets', 'nous essayons de gagner', 'nous sommes tres reconnaissants', 'nous sommes tres reconnaissantes', 'nous sommes en train de gaspiller de l eau', 'tu es bon cuisinier', 'vous etes ma fille', 'tu es ma fille', 'tu es un de ces menteurs !', 'vous etes un de ces menteurs !', 'vous etes une de ces menteuses !', 'tu es une de ces menteuses !', 't es une drole de fille', 't es une fille marrante', 'tu es tout ce que j ai', 'vous etes tout ce que j ai', 'vous etes tous pareils', 'vous etes toutes pareilles', 'tu as presque raison', 'tu es acariatre', 'vous etes acariatre', 'vous allez mourir', 'tu vas mourir', 'vous etes des grands maintenant', 'tu es un grand maintenant', 'tu es incorrigible', 'vous etes incorrigible', 'vous etes incorrigibles', 't es irresistible', 'tu es mignon dans ton genre', 'tu es mignonne dans ton genre', 'vous etes mignon dans votre genre', 'vous etes mignons dans votre genre', 'vous etes mignonne dans votre genre', 'vous etes mignonnes dans votre genre', 'vous n etes pas different', 'vous n etes pas differente', 'vous n etes pas differents', 'vous n etes pas differentes', 'tu n es pas different', 'tu n es pas differente', 'vous n etes pas un medecin', 'vous n etes pas medecin', 'vous n etes pas toubib', 'tu n es pas medecin', 'tu ne saignes pas', 'vous ne saignez pas', 'tu n es pas encore mort', 'tu n es pas encore morte', 'vous n etes pas encore mort', 'vous n etes pas encore morte', 'vous n etes pas encore morts', 'vous n etes pas encore mortes', 'tu n en as pas termine', 'vous n en avez pas termine', 'tu n es pas si vieille', 'tu n es pas si vieux', 'vous n etes pas si vieille', 'vous n etes pas si vieux', 'vous n etes pas si vieilles', 'tu n es pas trop en retard', 'vous n etes pas trop en retard', 'tu es tire d affaire', 'tu es tiree d affaire', 'vous etes tire d affaire', 'vous etes tirees d affaire', 'vous etes tires d affaire', 'vous etes tiree d affaire', 'vous etes a sec', 't es a sec', 't a plus de bibine', 'c est maree basse', 'tu es hors service', 'tu es a court de sucre', 'tu dramatises', 'vous dramatisez', 'tu reagis de maniere excessive', 'vous reagissez de maniere excessive', 'tu en fais partie', 'vous en faites partie', 'tu m empoisonnes', 'vous m empoisonnez', 'tu es tellement impatient', 'tu es tellement impatiente', 'vous etes tellement impatient', 'vous etes tellement impatiente', 'vous etes tellement impatients', 'vous etes tellement impatientes', 'tu es toujours mon fils', 'vous etes un de ces dragueurs !', 'vous etes une de ces dragueuses !', 'tu es un de ces dragueurs !', 'tu es une de ces dragueuse !', 'tu es le meilleur', 'tu es la meilleure', 'vous etes le meilleur', 'vous etes la meilleure', 'c est toi le prisonnier', 'vous etes la plus mignonne', 'tu es la plus mignonne', 'tu es trop confiant', 'tu es trop confiante', 'vous etes trop confiant', 'vous etes trop confiante', 'vous etes trop confiants', 'vous etes trop confiantes', 'vous etes tres curieux', 'vous etes fort curieux', 'vous etes tres curieuse', 'vous etes tres curieuses', 'vous etes fort curieuse', 'vous etes fort curieuses', 'tu es fort curieux', 'tu es fort curieuse', 'tu es tres curieux', 'tu es tres curieuse', 'vous etes tres effrontee', 'vous etes fort effrontee', 'vous etes tres effronte', 'vous etes tres effrontees', 'vous etes tres effrontes', 'vous etes fort effronte', 'vous etes fort effrontees', 'vous etes fort effrontes', 'tu es fort effrontee', 'tu es tres effrontee', 'tu es fort effronte', 'tu es tres effronte', 'tu es tres serviable', 'tu es fort serviable', 'vous etes tres serviable', 'vous etes fort serviable', 'vous etes tres serviables', 'vous etes fort serviables', 'tu es tres elegante', 'tu es fort elegante', 'tu es tres elegant', 'tu es fort elegant', 'vous etes tres elegante', 'vous etes tres elegant', 'vous etes tres elegantes', 'vous etes tres elegants', 'vous etes fort elegante', 'vous etes fort elegant', 'vous etes fort elegantes', 'vous etes fort elegants', 'vous gaspillez des munitions', 'tu gaspilles des munitions', 'vous gaspillez du temps', 'tu gaspilles du temps', 'tu es avec des amis', 'tu es avec des amies', 'vous etes avec des amis', 'vous etes avec des amies', 'tu travailles dur', 'vous travaillez dur', 'c est un homme cruel', 'il parle vite', 'c est un bon orateur', 'c est un bon etudiant', 'c est un bon nageur', 'c est un bel homme', 'c est un critique acerbe', 'c est un etudiant paresseux', 'c est un homme de foi', 'c est un emmerdeur', 'il a environ votre age', 'il a peur des chiens', 'il a peur de nager', 'il est toujours en train de lire', 'il lit a longueur de temps', 'il est toujours avec moi', 'il a le vin mauvais', 'c est un heros inconnu', 'il est en colere apres toi', 'il est aussi grand qu elle', 'il est loin de chez lui', 'c est un mauvais conducteur', 'il respire avec difficulte', 'il a pres de soixante ans', 'il est cool pas vrai ?', 'il est loin d etre heureux', 'il n est vraiment pas heureux', 'il mesure cinq pieds', 'il est plein d energie', 'il va mieux', 'il est bon au foot', 'il est difficile de le satisfaire', 'il est son propre maitre', 'il est pareil a lui meme', 'il est dans sa bibliotheque', 'il est en mauvaise sante', 'il est dans la cuisine', 'il est dans le petrin', 'il va probablement venir', 'il est en train de faire des cookies', 'c est mon meilleur ami', 'il est mon meilleur ami', 'il est desormais a son compte', 'il n est pas en service aujourd hui', 'il est precieux pour nous', 'il est assez sauvage', 'il lit un livre', 'il est en train de lire un livre', 'il se trompe completement', 'il est toujours debout', 'il est l elu', 'il est tres deprime', 'il est fort deprime', 'il porte des gants', 'il a suffisamment de volonte', 'il n est pas americain', 'il n est pas la non ?', 'il a une mauvaise influence', 'c est un informaticien boutonneux', 'c est un malade du controle', 'c est un maniaque du controle', 'c est un artiste celebre', 'il est sans espoir', 'c est une boule de nerfs', 'il est nerveusement use', 'c est un beau parleur', 'c est un baratineur', 'il est joueur de tennis', 'c est un tres gentil garcon', 'c est un tres chouette garcon', 'c est un garcon tres gentil', 'c est un garcon tres chouette', 'il a peur de danser', 'il est deja marie', 'il est fou d elle', 'il est follement epris d elle', 'il a huit ans', 'il est extremement heureux', 'il a le cancer des poumons', 'il est avide et paresseux', 'il est en danger grave', 'il est en colere apres tout le monde', 'il fait des progres', 'il a loupe le coche', 'il est mon demi frere', 'il n est jamais satisfait', 'il n est pas d humeur', 'il est maintenant sur le bateau', 'il a offert son assistance', 'il est sur le chemin de son domicile', 'c est l un des meilleurs', 'il est l un des meilleurs', 'il n est pas a sa place', 'il manque de pratique', 'il est rouille', 'il est plus intelligent que moi', 'il est en train de prendre une douche', 'c est le pitre de la classe', 'il est trop vieux pour elle', 'il est trop vieux pour toi', 'il est trop vieux pour vous', 'il est sous la chaise', 'il est tres protecteur', 'ici je suis un etranger', 'je suis etranger ici', 'je suis un etranger ici', 'je suis un etranger ici', 'j ai peur des ours', 'j ai peur de la mort', 'j ai peur de mourir', 'je suis meilleur que toi', 'je compte sur toi', 'je suis en train de boire du cafe', 'je mange une pomme', 'je suis contraint a le faire', 'je me vets', 'je suis contente de la voir', 'je suis content de la voir', 'je regarde ca', 'je ne suis plus fatigue', 'je ne suis plus fatiguee', 'je ne vais pas bien du tout', 'je joue prudemment', 'je suis mauvais en dessin', 'je conte une histoire', 'j ai terriblement faim', 'j attends mon tour', 'je suis en train de perdre mon temps', 'je suis en train de me peser', 'je suis un citoyen francais', 'je suis citoyenne francaise', 'je suis branche windows', 'je suis un idiot complet', 'je suis d un blond naturel', 'je suis un homme tres chanceux', 'j ai peur de voler', 'je suis contre ce projet de loi', 'je suis depourvu d idees', 'je suis depourvue d idees', 'je suis allergique aux chats', 'je suis allergique au mais', 'je suis allergique aux chiens', 'je suis aussi grand que lui', 'je suis a ta disposition', 'je suis a votre disposition', 'je suis attiree par lui', 'j ai repris le business', 'j appelle de l aide', 'j appelle la securite', 'j appelle les flics', 'je verifie les possibilites', 'je suis en train de fermer la porte', 'je depends de toi', 'je suis en train de faire la vaisselle', 'ma vie pour une biere !', 'je desespere de le voir !', 'je desespere de te voir !', 'je desespere de vous voir !', 'j attends un appel', 'j attends un coup de fil', 'je me sens confus', 'je me sens confuse', 'je vais bien maintenant', 'maintenant je me sens bien', 'je me sens stresse', 'je me sens stressee', 'je repare quelque chose', 'je suis ami avec lui', 'je viens de l exterieur de la ville', 'je suis content de t avoir engage', 'je suis heureux de vous avoir engages', 'je suis content de t avoir engagee', 'je suis content de ne pas etre tom', 'je suis heureux qu il l ait apprecie', 'je suis heureuse qu il l ait apprecie', 'je suis content de vous voir', 'je me rejouis que nous l ayons fait', 'je suis heureuse que tu aies rencontre tom', 'je suis content que vous soyez la', 'je suis content que tu sois la', 'je suis contente que vous soyez la', 'je suis contente que tu sois la', 'je serai en retard', 'je vais etre malade', 'je vais a l universite', 'je vais voir tom', 'je parle bien japonais', 'je suis heureux d etre de retour', 'je suis heureuse d etre revenue', 'je suis heureux d etre rentre', 'je suis heureux de vous voir', 'je ne suis pratiquement jamais chez moi', 'je suis ici tous les soirs', 'je suis la pour vous aider', 'je suis la pour t aider', 'je suis ici pour t aider', 'je suis ici pour vous aider', 'je suis ici pour te sauver', 'je suis la pour vous sauver', 'vous m avez bien motive', 'je me casse', 'je suis presse aujourd hui', 'je suis amoureux de toi', 'je suis amoureux de vous', 'je suis amoureuse de toi', 'je suis dans la meme galere', 'je suis incroyablement fatigue', 'je suis juste un autre homme', 'je ne fais que donner un coup de main', 'je suis en train de regarder la television', 'je vous ecoute', 'je vis dans une ville', 'je cherche du travail', 'je fais un bonhomme de neige', 'je n ai plus faim', 'je n ai plus sommeil', 'je ne fais pas le poids face a tom', 'les chats ne sont pas mon truc', 'je ne suis pas vegetarien', 'je ne suis pas vegetarienne', 'je ne suis pas alcoolique', 'je suis moins heureux maintenant', 'je ne suis pas fatiguee du tout', 'je ne suis pas fatigue du tout', 'je ne suis pas du tout fatigue', 'je ne suis pas en train de t eviter', 'je ne suis plus occupe', 'je ne suis plus occupee', 'je ne demens pas cela', 'je n en suis pas tout a fait sur', 'je n en suis pas tout a fait sure', 'je ne me sens pas bien', 'je n en ai pas encore fini', 'je n en ai pas encore termine', 'je ne vais pas mourir', 'je ne vais pas mentir', 'je ne suis pas bon a ca', 'je ne suis pas bon la dedans', 'je ne suis pas beau', 'je ne suis pas belle', 'je ne suis pas la pour toi', 'je ne suis pas la pour vous', 'je ne suis pas en train de t ignorer', 'je ne suis pas en train de vous ignorer', 'je ne l invente pas', 'je ne vais pas t epouser', 'je ne vais pas vous epouser', 'je ne vais pas abandonner maintenant', 'je ne suis pas pret a mourir', 'je ne suis pas prete a mourir', 'je ne suis pas vraiment en colere', 'je ne m enfuis pas', 'je ne suis pas en securite la dedans', 'je ne vais pas m asseoir ici', 'je n en suis pas si convaincu', 'je n en suis pas si convaincue', 'je ne vais pas rester ici', 'je ne t en empeche pas', 'je ne vous en empeche pas', 'je ne suis pas sur d etre d accord', 'je ne suis pas sure d etre d accord', 'je n en suis plus sur', 'je n en suis plus sure', 'je ne vais pas prendre parti', 'je ne suis pas cynique a ce point la', 'je ne suis pas si preoccupe', 'je ne suis pas si preoccupee', 'je ne suis pas fatigue du tout', 'je ne suis pas du tout fatigue', 'je ne vais pas faire demi tour', 'je ne suis pas tres patient', 'je ne suis pas tres patiente', 'je ne vais pas porter ca', 'je ne suis pas ton frere', 'je ne suis pas votre frere', 'je ne suis pas ton serviteur', 'je ne suis pas ta servante', 'je ne suis pas ton professeur', 'je suis souvent en difficulte', 'j engage des poursuites', 'je suis en train d engager des poursuites', 'je suis fiere de vous tous', 'je suis fiere de vous toutes', 'je suis fier de vous tous', 'je suis fier de vous toutes', 'je suis pret si tu l es', 'je suis prete si tu l es', 'je suis pret si vous l etes', 'je suis prete si vous l etes', 'je suis tres occupee tom', 'je suis tres occupe tom', 'je suis juste derriere lui', 'je me trouve juste derriere lui', 'je suis juste derriere toi', 'je suis juste derriere vous', 'je me trouve juste derriere toi', 'je me trouve juste derriere vous', 'je suis juste a ton cote', 'je suis plus petit que lui', 'je suis plus petit que toi', 'je suis plus petite que vous', 'je suis plus petit que vous', 'je n en peux plus de me battre', 'je n en peux plus de combattre', 'j en ai marre de cette guerre', 'je suis plus intelligent que toi', 'je suis plus intelligente que toi', 'je suis plus intelligent que vous', 'je suis plus intelligente que vous', 'je suis plus elegant que toi', 'je suis plus elegante que toi', 'je suis plus elegant que vous', 'je suis plus elegante que vous', 'je suis plus degourdi que toi', 'je suis plus degourdie que toi', 'je suis plus degourdi que vous', 'je suis plus degourdie que vous', 'je suis plus vif que toi', 'je suis plus vif que vous', 'je suis plus vive que toi', 'je suis plus vive que vous', 'je suis plus astucieux que vous', 'je suis plus astucieuse que vous', 'je suis plus astucieux que toi', 'je suis plus astucieuse que toi', 'je suis desole d avoir blesse tom', 'je suis desole de t avoir blesse', 'je suis desolee de t avoir blesse', 'je suis desolee de t avoir blessee', 'je suis desole de t avoir blessee', 'je suis desole de vous avoir blessee', 'je suis desole de vous avoir blesse', 'je suis desolee de vous avoir blesse', 'je suis desolee de vous avoir blessee', 'je suis desole de vous avoir blesses', 'je suis desolee de vous avoir blesses', 'je suis desolee de vous avoir blessees', 'je suis desole de vous avoir blessees', 'je suis desole de t avoir tire dessus', 'je suis desolee de vous avoir tire dessus', 'je suis desole d entendre ca', 'je reste avec toi', 'je suis toujours furieux apres elle', 'j etudie l anglais', 'je suis sur qu ils vont gagner', 'je suis sur qu elles vont gagner', 'je suis epouvantable en math', 'j en ai assez de me disputer', 'je suis fatigue de danser', 'je suis fatiguee de danser', 'j en ai assez d attendre', 'je suis fatiguee d ecrire', 'je suis trop vieux pour ca', 'je suis trop vieille pour ca', 'je suis completement embrouille', 'je suis completement embrouillee', 'je ne suis pas utile ici', 'je suis tres a l aise', 'je suis tres seul ici', 'je regarde un film', 'cela m inquiete', 'j ecris une lettre', 'je suis ton meilleur ami', 'je suis votre meilleur ami', 'je suis votre plus grand fan', 'je suis ton plus grand fan', 'c est une fille blonde', 'c est une bonne danseuse', 'elle est bon ecrivain', 'c est une fille mignonne', 'c est une femme tranquille', 'elle est une vrai beaute', 'c est une vraie beaute', 'elle est capable de patiner', 'elle est en colere apres moi', 'elle n est pas bonne en sport', 'elle est au premier rang', 'elle m est hostile', 'elle est de mauvaise humeur', 'elle vit actuellement a l etranger', 'elle prepare le souper', 'elle prepare le diner', 'elle prepare le dejeuner', 'c est la fille de mes reves', 'c est ma copine', 'elle n est jamais a l heure', 'elle est hors de danger', 'elle saute a la corde', 'elle porte un chapeau', 'elle n est plus seule maintenant', 'elle est danseuse du ventre', 'elle est d un naturel calme', 'c est une fille honnete', 'elle est aussi occupee que tom', 'elle mange comme deux', 'elle va a ooita', 'elle est partie en voyage', 'elle est bonne en tennis', 'elle a plus de livres', 'ce n est pas une mauvaise fille', 'elle est plus agee que tom', 'elle est plus vieille que lui', 'elle a peur des chiens', 'elle est tres belle', 'elle est tres emotive', 'elle est desormais medecin', 'ils approchent', 'elles approchent', 'ils sont cinq en tout', 'elles sont cinq en tout', 'ce sont de bonnes gens', 'elles ne sont pas s urs', 'ils courent maintenant', 'ils peuvent chanter', 'ils sont capables de chanter', 'elles ont peur de moi', 'ils ont peur de moi', 'elles ont peur de nous', 'ils sont tous la dedans', 'elles sont toutes la dedans', 'ils sont tous les memes', 'elles sont toutes les memes', 'ce sont tous des touristes', 'ce sont toutes des touristes', 'ils vont essayer', 'elles vont essayer', 'ils vont le tenter', 'elles vont le tenter', 'ils sont durs a trouver', 'elles sont dures a trouver', 'ils sont juste pour toi', 'elles sont juste pour toi', 'ils sont juste pour vous', 'elles sont juste pour vous', 'ils ne constituent pas une menace', 'elles ne constituent pas une menace', 'ils ne sont pas tous occupes', 'elles ne sont pas toutes occupees', 'elles ne sont pas encore la', 'ils ne sont pas encore chez eux', 'elles ne sont pas encore chez elles', 'ils ne sont pas encore a la maison', 'elles ne sont pas encore a la maison', 'ce ne sont pas mes regles', 'ils sont vraiment intimes', 'ils sont vraiment serres', 'ils sont vraiment radins', 'ils envoient de l aide', 'nous sommes en train de bouillir de l eau', 'nous sommes onze en tout', 'nous sommes hors de danger', 'nous mangerons a heures', 'nous sommes du meme tonneau', 'nous sommes tous aneantis', 'nous sommes toutes aneanties', 'nous allons tous chez nous', 'nous allons toutes chez nous', 'nous allons tous a la maison', 'nous allons toutes a la maison', 'nous sommes tous vulnerables', 'nous sommes toujours prudents', 'nous sommes toujours prudentes', 'nous sommes attaques', 'nous sommes attaquees', 'nous sommes freres de sang', 'nous sommes tous deux temoins', 'nous sommes toutes deux temoins', 'nous sommes claustrophobes', 'nous nous approchons', 'nous nous rapprochons', 'nous devenons plus intimes', 'nous nous rechauffons', 'nous entrons en premier', 'nous allons faire des courses', 'nous allons faire des emplettes', 'nous allons commencer', 'nous combattrons', 'nous montons', 'on s eclate', 'nous subissons une rafale de vent', 'nous subissons un coup de tabac', 'nous avons de la visite', 'nous sommes en recession', 'nous ne faisons que commencer', 'nous ne sommes pas des barbares', 'on ne nous poursuit pas', 'nous ne sommes pas en train d evacuer', 'nous n allons pas a la maison', 'nous ne sommes pas interesses', 'nous ne sommes pas interessees', 'nous ne sommes pas des terroristes', 'nous ne sommes pas si proches', 'nous n y sommes pas habitues', 'nous n y sommes pas habituees', 'nous ne sommes pas tes ennemis', 'nous ne sommes pas vos ennemis', 'nous ne sommes pas tes ennemies', 'nous ne sommes pas vos ennemies', 'nous sommes a court de balles', 'nous sommes a court de possibilites', 'nous sommes parfaitement en securite', 'nous vous protegeons', 'nous y sommes prets', 'nous y sommes pretes', 'nous sommes vraiment maries', 'nous sommes vraiment mariees', 'nous sommes toujours impliques', 'nous sommes toujours impliquees', 'nous sommes toujours engages', 'nous sommes toujours engagees', 'nous ne sommes pas encore surs', 'nous ne sommes pas encore sures', 'nous ne sommes toujours pas surs', 'nous ne sommes toujours pas sures', 'nous sommes encore mineurs', 'nous sommes encore mineures', 'nous sommes trop vulnerables', 'nous sommes tres differents', 'nous sommes tres differentes', 'nous sommes ton dernier espoir', 'nous sommes votre dernier espoir', 'tu es un etre mauvais', 'vous etes un etre mauvais', 'tu es un maniaque du travail', 'vous etes de nouveaux etudiants', 'tu n es pas japonais', 'tu n es pas japonaise', 'vous n etes pas japonais', 'vous n etes pas japonaise', 'vous n etes pas japonaises', 'tu n es pas un lache', 'vous n etes pas un lache', 'vous n etes pas un medecin', 'tu es desormais un adulte', 'vous etes en etat d arrestation', 'tu es le bienvenue', 'vous etes bienvenue ici', 'vous etes ce que vous mangez', 'tu n es pas ma mere', 'vous n etes pas ma mere', 'tu es allemand n est ce pas ?', 'tu es un sale menteur !', 'tu es une sale menteuse !', 'vous etes un sale menteur !', 'vous etes une sale menteuse !', 'tu es un peu en retard', 'tu es un petit menteur', 'tu es une petite menteuse', 'vous etes un petit menteur', 'tu es une vraie loque', 'vous etes une vraie loque', 'tu es un veritable ami', 'tu es une veritable amie', 'on te regarde', 'tu es consciencieux', 'vous etes consciencieux', 'tu es consciencieuse', 'vous etes consciencieuse', 'vous etes consciencieuses', 'vous etes gare en double file', 'vous etes gares en double file', 'vous etes garees en double file', 'vous etes garee en double file', 'tu es gare en double file', 'tu es garee en double file', 'tu vas perdre', 'vous allez perdre', 'tu vas trop loin', 'tu n es qu un lache', 'tu n es jamais chez toi', 'vous n etes jamais chez vous', 'tu ne comptes pas au nombre des suspects', 'vous ne comptez pas au nombre des suspects', 'ce n est pas toi qui dirige', 'ce n est pas vous qui dirigez', 'vous n ecoutez pas !', 'tu n ecoutes pas !', 'vous n etes pas mon ami', 'vous n etes pas mon amie', 'tu n es pas mon ami', 'tu n es pas mon amie', 'tu n es pas ma mere', 'vous n etes pas ma mere', 'tu n es pas des notres', 'vous n etes pas des notres', 'vous n y etes pas en securite', 'tu n y es pas en securite', 'tu n es pas en securite ici', 'vous n etes pas en securite ici', 'tu n es pas le premier', 'tu n es pas la premiere', 'vous n etes pas le premier', 'vous n etes pas la premiere', 'vous n etes pas tres bon', 'vous n etes pas tres bons', 'vous n etes pas tres bonne', 'vous n etes pas tres bonnes', 'vous n etes pas tres ordonne', 'vous n etes pas tres ordonnee', 'vous n etes pas tres ordonnes', 'vous n etes pas tres ordonnees', 'tu es un opportuniste', 'tu es une opportuniste', 'vous etes un opportuniste', 'vous etes une opportuniste', 'vous etes des opportunistes', 'tu as trop confiance en toi', 'tu te laisses trop dominer par tes emotions', 'vous vous laissez trop dominer par vos emotions', 'tu te fous de moi', 'vous vous foutez de moi', 'tu es encore en train de grandir', 'vous etes encore en train de grandir', 'tu es un de ces idiots !', 'quel imbecile vous etes !', 'quel imbecile tu es !', 'quel idiot tu es !', 'quelle idiote tu es !', 'quel idiot vous etes !', 'quelle idiote vous etes !', 'tu es tellement idiot !', 'tu es tellement idiote !', 'tu es lunatique', 'vous etes lunatique', 'vous etes lunatiques', 'vous etes fantasque', 'vous etes fantasques', 'tu es fantasque', 'vous etes le bouc emissaire', 'tu es le bouc emissaire', 'tu as parfaitement raison', 'vous avez parfaitement raison', 'tu es inoubliable', 'vous etes inoubliable', 'vous etes inoubliables', 'tu es tres flexible', 'vous etes tres flexible', 'vous etes tres flexibles', 'tu es tres genereux', 'tu es tres genereuse', 'tu es fort genereux', 'tu es fort genereuse', 'vous etes fort genereux', 'vous etes fort genereuse', 'vous etes fort genereuses', 'vous etes tres genereuse', 'vous etes tres genereux', 'vous etes tres genereuses', 'vous etes tres talentueux', 'vous etes tres talentueuse', 'vous etes tres talentueuses', 'vous etes fort talentueuse', 'vous etes fort talentueuses', 'vous etes fort talentueux', 'tu es fort talentueux', 'tu es tres talentueux', 'tu es fort talentueuse', 'tu es tres talentueuse', 'tu es plein de talent', 'tu es pleine de talent', 'vous etes plein de talent', 'vous etes pleine de talent', 'vous gaspillez de l eau', 'tu gaspilles de l eau', 'c est un grand farceur', 'c est un artiste celebre', 'il est heroino dependant', 'il est dependant a l heroine', 'c est un fossile vivant !', 'c est un homme de raison', 'il est un homme de vision', 'c est un homme riche', 'c est un homme sage', 'c est un tireur d elite', 'c est un enfant gate', 'c est un enfant pourri gate', 'c est un joueur de tennis', 'il est au dessus de tout soupcon', 'il a peur de la mort', 'il craint la mort', 'il est toujours en train de rire', 'il est toujours pret', 'il etudie tout le temps', 'il est officier de l armee', 'il est comme mort', 'il est parti en vacances', 'il est aveugle par l amour', 'il cherche a plaire', 'il est bon cuisinier', 'c est un bon conducteur', 'il est bon conducteur', 'il est bon chanteur', 'il chante bien', 'il est dans la salle de bain', 'il est aux toilettes', 'il n est qu un amateur', 'il est perdu dans ses pensees', 'c est un fondu de musique', 'c est un fou de musique', 'c est un ami tres proche', 'c est mon ami intime', 'ce n est pas un homme ordinaire', 'il n est pas toujours en retard', 'il n est pas americain', 'il n est pas gentil avec elle', 'il n est pas gentil a son egard', 'il n est plus ce qu il etait', 'il est sur une autre ligne', 'il est pauvre mais heureux', 'on dit qu il est riche', 'c est un tel frimeur !', 'il est sur de reussir', 'il est sur de son succes', 'il est sur de reussir', 'il est sur de son succes', 'il est grand et fort', 'c est le garcon le plus grand', 'il est incapable de le faire', 'il est tres mechant avec moi', 'il lave sa voiture', 'il est en train de laver la voiture', 'maintenant il regarde la tele', 'il porte des lunettes', 'il est en train d ecrire un roman', 'il n est pas du tout satisfait', 'il n est pas du tout content', 'c est un bon gars', 'c est un menteur notoire', 'il a peur des serpents', 'il est allergique aux chats', 'il a une allergie aux chats', 'il est completement fou', 'il est oceanographe', 'il est parti pour affaires', 'il est absent en conges', 'il l a fait auparavant', 'il s amuse', 'il est parti au maquis', 'il se planque', 'il se cache', 'il a soif de pouvoir', 'il est juste en train de gagner du temps', 'il se moque juste de toi', 'il est plutot beau', 'il apprend le chinois', 'c est mon frere aine', 'il n est pas toujours heureux', 'il n est pas dans notre groupe', 'il ne fait pas partie de notre groupe', 'il est au bout de ses forces', 'il est a bout de force', 'il est notre unique suspect', 'il se trouve juste derriere vous', 'il se trouve juste derriere toi', 'il est juste derriere vous', 'il est juste derriere toi', 'il est plus fort que moi', 'il est si distant', 'c est un type tellement sympa !', 'c est leur unique enfant', 'il a beaucoup d experience', 'il est tres intelligent', 'il lave votre voiture', 'il est avec ses parents', 'il est jeune et celibataire', 'j ai un emploi de bureau', 'je plie ma robe', 'je suis content de t aider', 'je suis ravi de t aider', 'je suis contente de t aider', 'je suis ravie de t aider', 'je suis content de vous aider', 'je suis ravie de vous aider', 'je suis ravi de vous aider', 'je suis contente de vous aider', 'je leur suis reconnaissant', 'je suis en train de recolter du ble', 'je suis ici pour affaires', 'je suis en salle de classe', 'je me trouve pres de la gare', 'je ne peux pas me comparer a lui', 'en ce moment je n etudie pas', 'je ne sais pas bien nager', 'je lis une lettre', 'je suis en train de lire une lettre', 'je suis plus petit que toi', 'je suis plus petite que vous', 'je suis plus petit que vous', 'je suis fatigue de lire', 'je suis trop fatigue pour courir', 'je suis completement confus', 'je suis completement confuse', 'j ecris une lettre', 'j adore le golf', 'je suis un joueur de foot', 'je suis un peu perplexe', 'je suis un peu desoriente', 'je suis un homme marie maintenant', 'je suis un pietre danseur', 'je suis un epouvantable ecrivain', 'je souffre de vertige', 'je n ai peur de rien', 'j ai peur des araignees', 'je suis a court d expedients', 'j en suis presque sur', 'j en suis presque sure', 'j ai honte de moi meme', 'je suis au restaurant', 'je suis conscient de tout cela', 'on me fait chanter', 'je suis toujours occupe', 'j arrive tout de suite', 'j arrive immediatement', 'j arrive juste chez moi', 'j arrive juste chez nous', 'je fais mes devoirs', 'je suis en train de faire mes devoirs', 'je vais assez bien', 'je crains l examen', 'je redoute l examen', 'j apprehende l examen', 'je mange un sandwich', 'j echoue dans mon travail', 'j en ai fini avec toi', 'j en ai fini avec vous', 'je viens de tokyo japon', 'je me deshabille', 'je suis heureux d entendre cela', 'c est bien', 'je me rejouis de l entendre', 'je suis heureux que tu l aies aime', 'je suis heureux que tu l aies apprecie', 'je suis heureuse que tu l aies apprecie', 'je suis heureux que vous l ayez apprecie', 'je suis heureuse que vous l ayez apprecie', 'je suis content que tu sois en avance', 'je suis contente que vous soyez en avance', 'je retourne a l interieur', 'j y vais seul', 'je vais passer a la television', 'je vais te blesser', 'tu vas me manquer', 'vous allez me manquer', 'je vais a la banque', 'je vais regarder la tele', 'je suis heureux que tu sois la', 'je suis heureuse que tu sois la', 'je suis heureux que vous soyez la', 'je suis heureuse que vous soyez la', 'je suis ici en tant que touriste', 'je suis ici pour presenter mes excuses', 'je suis a la maison tout le temps', 'je plaisante bien sur', 'je suis juste un type normal', 'je suis simplement franc', 'je suis simplement franche', 'je ne fais que mon travail', 'je suis en retard pour l entrainement', 'je te le laisse', 'je vous laisse ca', 'je pars dimanche', 'je cherche du travail', 'je cherche un emploi', 'je ne suis pas incroyant', 'je ne suis pas un drogue', 'je ne suis pas une droguee', 'je ne suis pas un toxico', 'je ne suis pas une toxico', 'je ne suis plus un enfant', 'je ne suis pas millionnaire', 'je n ai absolument pas peur', 'je n ai pas peur de vous', 'je n ai pas peur de mourir', 'je n ai pas peur d essayer', 'je ne suis pas si occupe que ca', 'je ne suis pas si occupee que ca', 'je ne suis pas un enfant unique', 'je ne suis pas une enfant unique', 'je n ai plus faim', 'je n ai pas peur du tout', 'je n ai pas faim du tout', 'je n en ai pas fini avec toi', 'je n en ai pas fini avec vous', 'moi je n en ai pas fini avec toi', 'moi je n en ai pas fini avec vous', 'je ne suis pas entierement sur', 'je ne suis pas entierement sure', 'je n en suis pas entierement sur', 'je n en suis pas entierement sure', 'je ne te suis pas', 'je ne vais pas encore abandonner', 'je ne sors pas', 'je ne vais pas regarder', 'je ne vais pas perdre', 'je ne vais pas m arreter', 'je ne vais pas discuter', 'je ne vais pas attendre', 'je ne vais pas travailler', 'je ne suis pas la pour me bagarrer', 'je ne suis pas la pour me battre', 'je n ai pas faim de toutes manieres', 'je n ai pas faim du tout', 'je n ai pas faim non plus', 'je ne cours pas le moindre danger', 'je ne suis pas en forme', 'je ne suis pas etroit d esprit', 'je ne suis pas etroite d esprit', 'je ne suis pas en service aujourd hui', 'je ne suis pas une commere', 'je n en suis pas fier', 'je n en suis pas fiere', 'je n ai pas vraiment faim', 'je ne crains pas de mourir', 'je ne dors pas bien', 'je n en suis pas sur', 'je n en suis pas sure', 'je n en suis pas trop convaincu', 'je n en suis pas trop convaincue', 'je ne me sens pas mal a l aise', 'je n y suis pas hostile', 'je ne suis pas tres athletique', 'je ne porte pas de chaussettes', 'je ne suis plus tout jeune', 'je ne suis plus toute jeune', 'je ne suis pas ta fille', 'je ne suis pas votre fille', 'je suis en pause dejeuner', 'je suis sur le chemin du travail', 'je suis en chemin pour mon travail', 'je ne suis pas a ma place ici', 'je joue a un jeu televise', 'je joue a un jeu sur console', 'je suis fier de vous les mecs', 'je suis fier de vous les gars', 'je suis fiere de vous les mecs', 'je suis rarement autant en colere', 'je suis pret pour une pause', 'je n ai vraiment pas faim', 'j ai peur de la hauteur', 'j en ai marre de ce jeu', 'je suis desole d etre en retard', 'je ne veux pas m en meler', 'je suis toujours ton ami', 'je suis toujours ton amie', 'je suis toujours votre ami', 'je suis toujours votre amie', 'je suis sur que ca ira bien pour moi', 'je suis sure que ca ira bien pour moi', 'je suis sure que c est faux', 'je suis sur que que c est mal', 'je suis sur que c est faux', 'je suis sur que nous sommes tous d accord', 'je suis sure que nous sommes toutes d accord', 'je suis submerge de travail', 'je prends des vacances', 'je m en occupe', 'je suis mauvais aux echecs', 'je songe a y aller', 'j habite a trois pates de maison d ici', 'c est ma faute pas la tienne', 'j ai trop sommeil pour manger', 'je suis trop fatigue pour marcher', 'j essaye de ne pas pleurer', 'je suis habitue au bruit', 'vous m attirez beaucoup', 'je suis tres attiree par toi', 'je suis tres attiree par vous', 'j attends le dejeuner', 'je suis inquiet pour lui', 'je m inquiete pour toi', 'elle est bonne nageuse', 'c est une bonne nageuse', 'elle est sur le point de partir', 'elle a peur des chats', 'elle a peur des chiens', 'elle est toujours a fumer', 'elle est aussi grande que toi', 'c est sa fiancee', 'elle prend du poids', 'elle est bonne en ski', 'elle a l air de venir', 'elle lui est apparentee', 'elle coud une robe', 'elle est tres belle', 'elle est d une nature faible', 'elle n est pas gentille avec lui', 'c est une femme jalouse', 'elle est mere celibataire', 'elle a eu une vie difficile', 'elle a loupe le coche', 'c est ma s ur ainee', 'elle n est pas chez elle actuellement', 'elle n est pas d humeur', 'elle est plutot conne', 'elle est plus intelligent que moi', 'elle est habillee elegamment', 'elle est encore mineure', 'elle est sure de reussir', 'elle est plus grande que lui', 'elle est trop vieille pour toi', 'elle est trop vieille pour vous', 'elle est trop agee pour toi', 'elle est sous la chaise', 'elle est fachee la', 'ils sont tous les memes', 'ils sont sortis faire les magasins', 'elles sont sorties faire les magasins', 'ils sont du meme age', 'ils ont le meme age', 'ce sont des etudiants capables', 'elles ont peur de lui', 'ils ont peur de lui', 'ils sont tous terrifies', 'elles sont toutes terrifiees', 'ils viennent pour moi', 'elles viennent pour moi', 'ils viennent nous chercher', 'elles viennent nous chercher', 'ils sont au jardin', 'elles sont au jardin', 'ils sont dans la douche', 'elles sont dans la douche', 'elles sont sous la douche', 'ils sont sous la douche', 'ce sont juste des etudiants', 'ce ne sont que des etudiants', 'ce ne sont que des etudiantes', 'ce sont juste des etudiantes', 'ce ne sont pas des criminels', 'ce ne sont pas des criminelles', 'ils ne sont pas chers', 'elles ne sont pas cheres', 'elles ne sont pas onereuses', 'ils ne sont pas en train de suivre', 'elles ne sont pas en train de suivre', 'ils jouent aux echecs', 'ils ne mijotent rien de bon', 'ils vont faire des conneries', 'ils preparent un mauvais tour', 'ils font des affaires pas correctes', 'nous sommes a court d argent', 'nous sommes les nouveaux proprietaires', 'nous sommes en retard', 'nous serons fermes demain', 'nous sommes completement egares', 'nous sommes completement egarees', 'nous nous en occupons', 'nous nous marions', 'nous n aboutissons nulle part', 'nous ne faisons que nous exercer', 'nous partons ce soir', 'nous en avons presque termine', 'nous en avons presque fini', 'nous n y allons pas', 'nous n en sommes pas fiers', 'nous ne sommes pas vraiment surs', 'nous ne sommes pas vraiment sures', 'nous ne sommes pas responsables', 'nous n en avons pas encore termine', 'nous sommes sur le chemin de la maison', 'nous sommes tellement fieres de toi !', 'nous sommes tellement fieres de vous !', 'nous sommes tellement fiers de toi !', 'nous sommes tellement fiers de vous !', 'tu es un mec bien', 'vous etes un mec bien', 'tu es une chouette gonzesse', 'vous etes une chouette gonzesse', 'vous etes un chic type', 't es un chic type', 't es une bonne fille', 'vous etes une bonne fille', 't es une chouette gonzesse', 't es un mec bien', 'vous etes quelqu un de mechant', 'vous etes ses filles', 'tu n es pas un etudiant', 'tu es un grand malade', 'vous etes un grand malade', 'vous etes tous contre moi', 'vous etes toutes contre moi', 'tu chantes tout le temps', 'vous chantez tout le temps', 'tu es tout le temps en train de chanter', 'vous etes tout le temps en train de chanter', 'tu es paranoiaque', 'vous etes paranoiaque', 'vous etes paranoiaques', 'tu le fais correctement', 'vous le faites correctement', 'tu le fais comme il faut', 'vous le faites comme il faut', 'tu le fais de travers !', 'tu t approches', 'vous vous approchez', 'vous allez etre sur pieds', 'vous allez vous remettre', 'tu vas te remettre', 'tu vas etre sur pieds', 'tu vas rire', 'vous allez rire', 'tu vas trop vite', 'vous allez trop vite', 'vous etes bon avec les enfants', 'tu as de gros problemes', 'vous avez de gros problemes', 'tu es dans la merde', 'vous etes dans la merde', 'tu es en danger tom', 'vous etes en danger tom', 'tu es mon meilleur ami', 't es mon type de gonzesse', 'tu n es pas juste', 'vous n etes pas juste', 'tu ne m aides pas', 'vous ne m aidez pas', 'vous n y etes pas en securite', 'tu n y es pas en securite', 'tu n es pas si folle', 'tu n es pas si fou', 'tu n es pas si malin', 'tu n es pas si maline', 'tu n es pas tres amusant', 'tu n es pas tres amusante', 'vous n etes pas tres amusant', 'vous n etes pas tres amusante', 'vous n etes pas tres amusantes', 'vous n etes pas tres amusants', 'tu es hors de controle', 'vous etes hors de controle', 'tu n as plus d excuses', 'vous n avez plus d excuses', 'vous analysez trop', 'tu analyses trop', 'vous avez probablement raison', 'tu es probablement fatigue', 'tu es probablement fatiguee', 'vous etes probablement fatigue', 'vous etes probablement fatiguee', 'vous etes probablement fatigues', 'vous etes probablement fatiguees', 'tu me fais marcher', 'vous me faites marcher', 'tu es vraiment genial', 'tu es vraiment geniale', 'vous etes vraiment genial', 'vous etes vraiment geniale', 'vous etes vraiment geniales', 'vous etes vraiment geniaux', 'tu es vraiment egoiste', 'vous etes vraiment egoiste', 'vous etes vraiment egoistes', 'je pense que vous avez raison', 'je pense que tu as raison', 'tu as raison je pense', 'tu es tellement previsible !', 'vous etes tellement previsible !', 'vous etes tellement previsibles !', 'tu es plus grand que moi', 'tu es plus grande que moi', 'vous etes plus grand que moi', 'vous etes plus grande que moi', 'vous etes plus grands que moi', 'vous etes plus grandes que moi', 'tu es trop vieux pour moi', 'tu es trop vieille pour moi', 'vous etes trop vieux pour moi', 'vous etes trop vieille pour moi', 'vous etes trop vieilles pour moi', 'tu entres dans la trentaine', 'vous entrez dans la trentaine', 'vous etes tres belle', 'tu es tres efficace', 'tu es fort efficace', 'vous etes tres efficace', 'vous etes tres efficaces', 'vous etes fort efficace', 'vous etes fort efficaces', 'vous etes tres emotives', 'vous etes fort emotives', 'vous etes tres emotifs', 'vous etes tres emotive', 'vous etes tres emotif', 'vous etes fort emotive', 'vous etes fort emotifs', 'vous etes fort emotif', 'tu es fort emotive', 'tu es tres emotive', 'tu es fort emotif', 'tu es tres emotif', 'tu as vraiment beaucoup de chance', 'vous avez vraiment beaucoup de chance', 'tu es tres gentil tom', 'vous etes tres gentil tom', 'tu es tres observateur', 'tu es tres observatrice', 'vous etes tres observateur', 'vous etes tres observateurs', 'vous etes tres observatrice', 'vous etes tres observatrices', 'vous etes tres sceptique', 'vous etes fort sceptique', 'vous etes tres sceptiques', 'vous etes fort sceptiques', 'tu es fort sceptique', 'tu es tres sceptique', 'tu es pire que tom', 'vous etes pire que tom', 'il est italien de naissance', 'c est un avocat competent', 'il est completement idiot', 'il est bon charpentier', 'c est une personne adorable', 'c est un homme habile', 'c est un vrai gentilhomme', 'c est un garcon tres intelligent', 'il a peur de pere', 'il a peur des serpents', 'c est un employe de bureau', 'il ne voit pas d un il', 'il est borgne', 'il est dingue de jazz', 'il est motive pour reussir', 'il est a la hauteur de la tache', 'il est loin d etre parfait', 'il adore la peinture', 'il aime la natation', 'il est plein d ambition', 'il n est bon a rien', 'c est un bon a rien', 'il est coupable de meurtre', 'il est amoureux d elle', 'il a besoin d argent', 'il joue dehors', 'il est populaire parmi nous', 'c est un homme assez etrange', 'il fait du velo', 'il est a velo', 'il parle anglais', 'il est vraiment lourd', 'il est en train d y reflechir', 'il a trente ans', 'il est fatigue de lire', 'il est habitue au travail', 'il ne craint pas de mourir', 'il n est plus seul', 'c est un employe subalterne', 'c est un homme de parole', 'c est un homme qui tient toujours ses promesses', 'c est un ecrivain de talent', 'c est un ecrivain talentueux', 'c est un homme de faible volonte', 'il agit de son propre chef', 'il est accroche aux medicaments', 'il a peur de la mer', 'il est en tete de la course', 'c est un americain d origine asiatique', 'il est myope comme une taupe', 'il achete un vieux chapeau', 'il commence a avoir les jetons', 'il commence a avoir les foies', 'il va s asseoir ici', 'il est ici pour nous espionner', 'il est incroyablement idiot', 'il s appuie sur une canne', 'il est probable qu il soit en retard', 'il est a la recherche d un emploi', 'il ne sait pas jouer en equipe', 'il n est pas digne de toi', 'il n est pas digne de vous', 'il n est plus tout jeune', 'il est ouvert et confiant', 'il est dehors en train de se promener', 'il dort probablement', 'il est riche et puissant', 'il gagne du temps', 'il est toujours cloue au lit', 'il est plus fort que toi', 'il est plus fort que vous', 'il est tellement adorable !', 'c est lui n est ce pas ?', 'il ecrit son journal', 'il est jeune et en bonne sante', 'je souffre de vertige', 'j ai honte de moi meme', 'je me brosse les dents', 'je fais mes devoirs', 'je suis en train de faire mes devoirs', 'je suis en train de manger un sandwich', 'je suis heureux de te voir', 'je pars la semaine prochaine', 'je demenage le mois prochain', 'je m en vais le mois prochain', 'je ne suis plus un enfant', 'je n en suis pas fier', 'je ne suis pas fier de ca', 'je suis libre demain', 'je ne suis pas de garde demain', 'je suis pret a t aider', 'j ai seize ans', 'je suis submerge de travail', 'je suis actuellement en train de prendre un bain', 'je suis fatigue des devoirs', 'je suis fatiguee des devoirs', 'je me fais du souci pour lui', 'je suis un professeur de japonais', 'je suis enseignant en japonais', 'je suis en retard de quelques minutes', 'je suis un bon chauffeur de taxi', 'je suis un peu fatigue', 'je suis un peu sceptique', 'je ne suis pas homme a dire des mensonges', 'j y suis habitue', 'j en suis familier', 'j ai peur de me noyer', 'j ai peur du noir', 'j ai peur de l obscurite', 'je suis allergique au gluten', 'je t autorise a y aller', 'je vous autorise a y aller', 'j ai deja des ennuis', 'je suis impatient de te voir', 'je suis impatient de vous voir', 'j ai honte de mon corps', 'j ai honte de mon passe', 'je suis a un pot au boulot', 'je suis maintenant a l aeroport', 'je suis consciente des faits', 'je suis conscient des faits', 'je suis consciente des risques', 'je suis conscient des risques', 'je suis retenu en otage', 'je suis retenue en otage', 'je suis occupe pour le moment', 'je suis completement en vrac', 'je suis completement pete', 'cela me preoccupe', 'je le fais pour lui', 'je le fais pour toi', 'je le fais pour vous', 'j en ai fini avec tout ca', 'je suis fascine par les chats', 'je suis fascinee par les chats', 'je m y habitue', 'je suis heureux de t avoir invite', 'je suis heureux de t avoir invitee', 'je suis heureux de vous avoir invite', 'je suis heureux de vous avoir invitee', 'je suis heureux de vous avoir invites', 'je suis heureux de vous avoir invitees', 'je suis heureuse de t avoir invite', 'je suis heureuse de t avoir invitee', 'je suis heureuse de vous avoir invite', 'je suis heureuse de vous avoir invitee', 'je suis heureuse de vous avoir invites', 'je suis heureuse de vous avoir invitees', 'je suis content d etre parti de boston', 'je suis contente d etre partie de boston', 'je suis ravi de ne pas etre un chien', 'je me rejouis que vous soyez venus', 'je me rejouis que vous soyez venu', 'je me rejouis que vous soyez venue', 'je me rejouis que tu sois venue', 'je me rejouis que tu sois venu', 'je suis heureux que vous veniez', 'je suis heureux que tu viennes', 'je suis heureuse que tu viennes', 'je suis heureuse que vous veniez', 'je vais en australie', 'je suis heureux pour vous deux', 'je suis heureuse pour vous deux', 'je suis heureux que tu l aies aime', 'je suis heureux que vous l ayez aime', 'je suis heureuse que tu l aies aime', 'je suis heureuse que vous l ayez aime', 'je suis honore d etre ici', 'je suis terrible avec les enfants', 'je suis horrible avec les gamins', 'j ai faim et soif', 'je suis affame et assoiffe', 'je suis membre de ce club de tennis', 'je fais partie du club de tennis', 'je ne suis simplement pas tres occupe', 'je ne suis simplement pas tres occupee', 'je suis un peu malade aujourd hui', 'je suis en train d ecouter de la musique', 'je vis en ville', 'j ai hate de le voir', 'je cherche ma cle', 'je suis allonge dans l herbe', 'je suis allongee dans l herbe', 'je suis plus qu un ami', 'je suis plus qu une amie', 'je ne suis pas ton ami', 'je ne suis pas ton amie', 'je ne suis pas votre ami', 'je ne suis pas votre amie', 'je ne compte pas au nombre de tes amis', 'je ne compte pas au nombre de vos amis', 'je ne compte pas au nombre de tes amies', 'je ne compte pas au nombre de vos amies', 'je ne suis pas un professionnel', 'je ne suis pas une professionnelle', 'je ne suis pas saoul a ce point', 'je ne suis pas si malin', 'je ne suis pas si maligne', 'je me leve tard le matin', 'je ne vais pas y repondre', 'je ne suis pas aussi occupe que tom', 'je ne suis pas aussi occupee que tom', 'je ne suis pas occupe pour le moment', 'je ne suis pas occupee a l instant', 'je ne conteste pas cela', 'je ne vais nulle part', 'je ne me rends nulle part', 'je n en suis pas content', 'je n en suis pas contente', 'je ne te drague pas', 'je ne vous drague pas', 'je n ai plus faim', 'pas question que je te laisse y aller', 'je ne l invente pas', 'je ne suis pas pret a me battre', 'je ne suis pas prete a me battre', 'je ne suis pas vraiment inquiet', 'je ne suis pas vraiment inquiete', 'je ne suis pas sur d etre pret', 'je ne suis pas sure d etre prete', 'je ne parle pas avec tom', 'je ne parle pas avec toi', 'je ne parle pas avec vous', 'je ne suis pas completement bete !', 'je n ai pas trop confiance', 'je ne suis pas tres organise', 'je ne suis pas tres organisee', 'je ne suis pas ton petit ami', 'je suis en conges payes', 'je ne fais que mon devoir', 'je suis ravi de te voir', 'je suis ravi de vous voir', 'je suis fiere de mon pere', 'je suis fier de mon pere', 'je suis fier de mon ecole', 'j en suis quasiment certain', 'je suis plutot fier de ca', 'je suis pret pour demain', 'je suis prete pour demain', 'je suis pret a partir maintenant', 'je suis pret quand tu l es', 'je suis pret quand vous l etes', 'je suis vraiment embarrasse', 'je suis vraiment embarrassee', 'j en suis vraiment fier', 'j en suis reellement fiere', 'je suis vraiment tres fatigue aujourd hui', 'au rapport', 'j en ai marre d etre malade', 'j en ai assez de l entendre', 'j en ai marre de l entendre', 'je m ennuie tellement en ce moment', 'je suis desole vraiment', 'j etudie avec beaucoup d assiduite', 'j etudie tres consciencieusement', 'je suis nulle au tennis', 'je suis le plus jeune enfant', 'je suis la plus jeune enfant', 'je pense a vous', 'je suis trop fatigue pour me disputer', 'je suis trop fatiguee pour me disputer', 'je suis trop fatigue pour conduire', 'je suis trop fatigue pour reflechir', 'je suis trop fatiguee pour reflechir', 'je suis trop fatigue pour penser', 'je suis trop fatiguee pour penser', 'j essaie de me rappeler', 'je suis en train d utiliser l ordinateur', 'je marche a son cote', 'je porte des lunettes de soleil', 'je suis bien conscient de ca', 'je travaille sur sa voiture', 'je me fais du souci pour elles', 'je me fais du souci pour eux', 'je me fais du souci a leur sujet', 'c est une celebre chanteuse', 'elle est une artiste nee', 'elle est deja mariee', 'elle est toujours aussi pauvre', 'elle est en train de cuisiner pour lui', 'elle est apte pour le poste', 'elle adore les animaux', 'elle est tres bonne en ski', 'elle est coupable de fraude', 'elle est coupable de vol', 'elle est habituellement en retard', 'elle est sa veritable mere', 'elle a besoin d aide', 'elle n est pas de taille avec moi', 'elle ne fait pas le poids avec moi', 'elle a l habitude de faire la cuisine', 'elle est habituee a se tenir assise', 'elle est tres gentille avec nous', 'elle est tres photogenique', 'elle est plus sage que je ne le suis', 'c est une fille seduisante', 'c est une puissante sorciere', 'c est une tres gentille fille', 'c est une tres chouette fille', 'c est une fille tres chouette', 'c est une fille tres gentille', 'elle rale tout le temps', 'elle n arrete pas de raler', 'elle est toujours en mouvement', 'elle est maintenant a l hotel', 'elle se trouve maintenant a l hotel', 'elle est sympa avec moi', 'elle a perdu sa cle de voiture', 'elle a perdu la cle de sa voiture', 'c est une dure a cuire', 'elle joue a monopoly', 'elle est toute cousue d or', 'elle est plus maligne que lui', 'elle est plus jeune que lui', 'ils sont de grands amis', 'elles sont de grandes amies', 'ils sont jaloux de nous', 'elles sont jalouses de nous', 'ce sont mes camarades de classe', 'ils jouent aux echecs', 'ils sont tres joyeux', 'elles sont tres joyeuses', 'ils sont fort joyeux', 'elles sont fort joyeuses', 'ils sont sur le point de partir', 'elles sont sur le point de partir', 'elles sont toutes contre moi', 'ils sont tous contre moi', 'ils le font correctement', 'elles le font correctement', 'ils le font comme il faut', 'elles le font comme il faut', 'ils sont dans le baquet d eau chaude', 'elles sont dans le baquet d eau chaude', 'ce ne sont pas mes amis', 'ils sont a vos trousses', 'ils sont a tes trousses', 'elles sont a vos trousses', 'elles sont a tes trousses', 'ils ne sont toujours pas en securite', 'elles ne sont toujours pas en securite', 'ils sont toujours ensemble', 'elles sont toujours ensemble', 'ils nous attendent', 'nous faisons des progres', 'nous sommes sur le chemin de la maison', 'nous avons rendez vous a midi', 'nous n avons pas toujours raison', 'nous sommes maries', 'nous sommes tous decus', 'nous sommes tous en train de dejeuner', 'nous sommes tous en train de diner', 'nous sommes tous d accord', 'nous sommes toutes d accord', 'nous sommes tous a court de carburant', 'nous en sommes tous certains', 'nous en sommes toutes certaines', 'nous perdons tous du temps', 'nous perdons toutes du temps', 'nous travaillons tous dur', 'nous travaillons toutes dur', 'nous sommes egalement a court d ufs', 'nous faisons tout ce que nous pouvons', 'nous en avons deja termine', 'nous sommes en train de divorcer', 'nous sommes contents que tu sois la', 'nous sommes contents que vous soyez la', 'nous sommes en train de prendre le petit dejeuner', 'nous nous faisons des idees', 'nous sommes dans le meme bateau', 'nous enquetons a ce sujet', 'on ne fait que sortir ensemble', 'nous apprenons le chinois', 'nous partirons demain', 'nous ne sommes pas tous enseignants', 'nous ne sommes pas toutes enseignantes', 'nous n allons pas accoster', 'nous n allons pas faire demi tour', 'nous ne sommes pas tes parents', 'nous sommes du meme cote', 'nous sommes assez confiants', 'nous sommes encore vulnerables', 'nous etudions le chinois', 'nous en avons assez d attendre', 'tu es un bon etudiant', 'tu es un fouteur de merde', 'vous etes un fauteur de trouble', 'tu es libre de sortir', 'vous entendez des choses', 'tu entends des choses', 'tu es mon meilleur ami', 'tu n es pas coherent', 'tu n es pas notre ami', 'tu n es pas notre amie', 'tu as probablement tort', 'vous avez probablement tort', 'en un sens tu as raison', 'en un sens vous avez raison', 'tu es plus grand que moi', 'tu es plus grande que moi', 'vous etes plus grand que moi', 'vous etes plus grande que moi', 'vous etes plus grands que moi', 'vous etes plus grandes que moi', 'tu es l elu', 'tu es l elue', 'vous etes l elu', 'vous etes l elue', 'vous etes tres belle', 'tu n es pas remplacable', 'vous n etes pas remplacable', 'tu es nerveusement use', 'tu es nerveusement usee', 'vous etes nerveusement use', 'vous etes nerveusement usee', 'tu es une personne merveilleuse', 'vous etes une personne merveilleuse', 'tu es un type genial', 'tu es medisant', 'vous etes plus jolie que mary', 'tu es plus mignonne que mary', 'tu es plus jolie que mary', 'tu me rends dingue', 'vous me rendez fou', 'vous me genez', 'vous me mettez mal a l aise', 'tu me genes', 'tu me mets mal a l aise', 'tu es en grand danger', 'vous etes en grand danger', 'tu me fais rougir', 'vous me faites rougir', 'vous ne cooperez pas', 'tu ne cooperes pas', 'tu n es pas assez rapide', 'vous n etes pas assez rapide', 'vous n etes pas assez rapides', 'on ne veut pas de vous ici', 'on ne veut pas de toi ici', 'vous etes au courant de quelque chose', 'tu es au courant de quelque chose', 'tu as parfaitement raison', 'tu es vraiment embetant', 'vous etes vraiment embetant', 'tu es vraiment embetante', 'vous etes vraiment embetante', 'vous etes vraiment embetants', 'vous etes vraiment embetantes', 'tu es vraiment magnifique', 'vous etes vraiment splendides', 'vous etes vraiment magnifique', 'tu es timide n est ce pas ?', 'vous etes timide n est ce pas ?', 'tu es plus intelligent que moi', 'tu es plus intelligente que moi', 'vous etes plus intelligent que moi', 'vous etes plus intelligente que moi', 'vous etes plus intelligents que moi', 'vous etes plus intelligentes que moi', 'tu es un garcon tellement mignon !', 'tu es un homme si mechant', 't es un vrai thesauriseur', 'tu manigances quelque chose', 'vous etes tres attirant', 'vous etes fort attirant', 'vous etes tres attirante', 'vous etes tres attirants', 'vous etes tres attirantes', 'vous etes fort attirante', 'vous etes fort attirants', 'vous etes fort attirantes', 'tu es fort attirant', 'tu es fort attirante', 'tu es tres attirant', 'tu es tres attirante', 'tu es tres perspicace', 'vous etes tres perspicace', 'vous etes tres perspicaces', 'tu gaspilles mon temps', 'vous gaspillez mon temps', 'tu es en train de gaspiller mon temps', 'vous etes en train de gaspiller mon temps', 'il est japonais de naissance', 'il est quand meme un peu timide', 'c est un celebre compositeur', 'c est une personne sympathique', 'c est un grand scientifique', 'c est un homme tres bien paye', 'c est un homme de parole', 'c est un homme qui tient toujours ses promesses', 'il est etudiant en medecine', 'c est une sorte de peintre', 'c est un champion de tennis', 'il est chez lui en france', 'il bout de colere', 'il fait un super boulot', 'il est en train de dessiner une image', 'il desire ardemment s y rendre', 'il est impatient de s y rendre', 'il desire ardemment y aller', 'il est impatient d y aller', 'il est a la hauteur de la tache', 'il parle couramment le chinois', 'il parle anglais couramment', 'il aime l aventure', 'il est plein de nouvelles idees', 'il est deteste de tous', 'il est connu de tous', 'il est a la recherche d un emploi', 'il est allonge sur le canape', 'il est etendu sur le canape', 'il ne compte pas au nombre de mes amis', 'ce n est pas un ami a moi', 'ce n est pas un de mes amis', 'ce n est plus un enfant', 'il n est pas lui meme aujourd hui', 'il n est pas honnete du tout', 'il n est pas du tout honnete', 'il n est pas tel qu il parait', 'il ne porte pas de chapeau', 'il n est pas ce qu il semble', 'il est a bord du bateau', 'il n est pas au bureau', 'il est faible en chimie', 'il grossit', 'c est un gentleman', 'il est plutot optimiste', 'il a leur respect', 'on le dit mort', 'on le dit decede', 'il est petit mais fort', 'il hume la soupe', 'il est toujours alite', 'il est fort comme un cheval', 'il est a la fois grand et beau', 'il est accoutume a voyager', 'il est tres seduisant', 'il ne vient pas non plus', 'c est un etasunien d origine chinoise', 'c est un tricheur et un menteur', 'c est un chef de file de sa communaute', 'c est un adorable jeune homme', 'c est un jeune homme adorable', 'c est un charmant jeune homme', 'il cuisine a la demande', 'c est un employe tres travailleur', 'il est accro a l heroine', 'il est accro a l hero', 'il est heroino dependant', 'il a une assuetude a l heroine', 'il est dependant a l heroine', 'il est professeur d italien', 'il est en colere apres le monde', 'il a ete boire une biere', 'c est sur qu il reussira', 'il nettoie son fusil', 'il nettoie sa carabine', 'il sort avec ma fille', 'il est l ami de tout le monde', 'il a le moral tres bas', 'il parle couramment le japonais', 'il va se faire virer', 'il va adorer ca', 'il est bon en calcul', 'il est dote d une grande intelligence', 'il est desesperement amoureux', 'il a faim et soif', 'il rumine quelque chose', 'il est mon frere cadet', 'il est maintenant a court d argent', 'il est sur la piste de danse', 'il est en train de peindre sa maison', 'il est vraiment fondu de foot', 'il est en train de dessiner une pomme', 'il a le meme age que moi', 'il est trop jeune pour boire', 'il est tres comprehensif', 'il est tres contrarie par cela', 'il porte un nouveau manteau', 'je suis professeur d anglais', 'il me degoute', 'j ai dix huit ans', 'je suis cette voiture', 'je suis aime de ma mere', 'ma mere m aime', 'je ne vais nulle part', 'je ne me rends nulle part', 'je lis un magazine', 'je suis le coureur le plus rapide', 'je suis trop fatigue pour grimper', 'ca me plait beaucoup', 'je suis bien ton ami non ?', 'j ai un petit peu faim', 'je suis une femme mariee desormais', 'je connais tom', 'je crains pour sa vie', 'j ai peur qu il pleuve', 'je suis allergique aux fruits de mer', 'je suis toujours tres nerveux', 'je suis un citoyen americain', 'je suis une citoyenne americaine', 'j ai une faim de loup', 'je suis aussi affame qu un ours', 'je suis chez une amie', 'je suis chez un ami', 'je ne trouve pas les mots', 'je suis occupe je ne peux donc y aller', 'je suis enchante de vous rencontrer', 'tu me decois', 'vous me decevez', 'je le fais pour eux', 'je le fais pour elles', 'j en ai fini avec mes corvees', 'je degouline de sueur', 'emotionnellement je suis vide', 'emotionnellement je suis videe', 'je suis fidele envers ma femme', 'j en ai assez de l anglais', 'j en ai marre de l anglais', 'je n en peux plus de l anglais', 'je me sens bien mieux', 'je vais bien et toi ?', 'je suis de la cote est', 'je suis de la cote ouest', 'je m en rends compte', 'je suis heureux que tu aies apprecie', 'je suis content que tu m aies invite', 'je vais faire de mon mieux', 'je vais recommencer', 'je vais voir la police', 'je suis heureux et content', 'je suis la pour te proteger', 'je suis la pour vous proteger', 'je ne sais pas quoi faire', 'je perds la tete', 'j ai des ennuis jusqu au cou', 'j en crois pas mes yeux', 'cela me depasse completement', 'je m ennuie juste un peu', 'j ai juste la tete qui tourne un peu', 'je suis juste un peu pris de vertiges', 'je ne suis qu un pauvre etudiant', 'je suis juste un mec normal', 'je ne fais que regarder', 'j essaie juste d aider', 'je recherche une maison', 'je cherche quelqu un', 'mes parents m adorent', 'je suis chanceux d avoir un travail', 'je suis chanceuse d avoir un travail', 'je suis nerveux et excite', 'je suis nerveuse et excitee', 'je suis la petite amie de personne', 'je ne suis pas perfectionniste', 'je n en suis pas partisan', 'je ne le prone pas', 'je n ai pas peur de la mort', 'je n ai pas peur de me battre', 'je ne suis pas aussi malin que toi', 'je ne suis pas aussi malin que vous', 'je ne suis pas aussi maligne que toi', 'je ne suis pas aussi maligne que vous', 'je ne suis pas facilement offense', 'je ne suis pas facilement offensee', 'je n appartiens pas a ce monde', 'je ne suis pas un bon pecheur', 'j ai du mal avec les noms', 'je n en suis pas content', 'j en suis mecontent', 'je ne suis pas a la maison le dimanche', 'je ne suis pas a la maison les dimanches', 'je ne suis plus marie', 'je ne suis plus mariee', 'je ne suis pas paye pour faire cela', 'je ne suis pas payee pour faire cela', 'je ne vais pas payer pour ca', 'je ne suis pas encore tout a fait pret', 'je ne suis pas encore tout a fait prete', 'je ne suis pas encore pret a y aller', 'je ne suis pas encore prete a y aller', 'je ne suis pas vraiment aussi vieux', 'je ne suis pas vraiment aussi vieille', 'je ne dis rien', 'je ne crains pas de mourir', 'je n en suis plus aussi certain', 'je n en suis plus aussi certaine', 'je n en suis pas sur', 'je n en suis pas sure', 'je ne suis pas sur de ca', 'qu on ne me derange pas !', 'je n y excelle pas', 'je n y suis pas tres bon', 'je ne vais pas perdre mon temps', 'je ne travaille pas pour tom', 'sans vous je ne suis rien', 'je suis assez grand pour boire un coup', 'je suis ouvert aux suggestions', 'je suis ouvert aux propositions', 'je suis parfaitement bien', 'je suis en train de jouer avec mon chat', 'je suis en train de jouer avec ma chatte', 'enchante de faire votre connaissance', 'je suis plutot bon en maths', 'je suis fier de mon frere', 'je suis fiere de mon frere', 'je suis pret pour le combat', 'je suis vraiment decu', 'je suis vraiment decue', 'je suis reellement fier de toi', 'je suis reellement fier de vous', 'je suis reellement fiere de toi', 'je suis reellement fiere de vous', 'je suis vraiment stresse', 'je vais les voir ce soir', 'j en ai assez de ses excuses', 'desole d etre si stupide', 'il me desole de voir tom partir', 'je ne le gobe toujours pas', 'je ne suis toujours pas impressionne', 'je ne suis toujours pas impressionnee', 'je ne suis pas encore pret', 'je ne suis pas encore prete', 'je ne suis toujours pas satisfait', 'j y travaille encore', 'je suis sur que tom ne sait pas nager', 'je suis sure que tom ne sait pas nager', 'je suis sur de son nom', 'je prends cela serieusement', 'je suis celui qui l a rencontre', 'je suis celle qui l a rencontre', 'je suis fatigue de tout', 'je suis fatiguee de tout', 'j en ai assez de faire semblant', 'je suis trop somnolent pour conduire', 'j ai trop sommeil pour conduire', 'je suis tres occupe cette semaine', 'j attends un train', 'je suis en train d attendre le bus', 'je suis dispose a l aider', 'c est une femme charmante', 'elle se rejouit de donner', 'c est une amie a moi', 'elle est une personne egoiste', 'elle m est etrangere', 'c est une gentille fille', 'c est une femme magnifique', 'elle est tres occupee', 'elle est affairee comme une abeille', 'elle est aussi jeune que moi', 'elle le fait chanter', 'elle est vetue de blanc', 'elle a dix huit ans au plus', 'elle devient de plus en plus belle', 'elle est bonne en natation', 'c est son epouse du moment', 'elle porte une robe verte', 'elle est d une humeur massacrante', 'elle est a son hotel maintenant', 'elle est amoureuse de lui', 'elle tricote une echarpe', 'elle l ecoute', 'elle n est pas toujours heureuse', 'elle est fiere de son fils', 'elle est intimidee par les etrangers', 'elle est dure a la tache', 'elle est vraiment intelligente', 'elle porte une broche', 'c est une belle jeune fille', 'elle est une championne de football', 'elle fait rechauffer l eau', 'elle a perdu ses cles de voiture', 'elle a perdu les cles de sa voiture', 'elle va beaucoup mieux aujourd hui', 'ce n est pas un lapin de six semaines', 'c est la chouchoute de la prof', 'c est la chouchoute du prof', 'elle est inapte pour le poste', 'ils sont sur le point de commencer', 'elles sont sur le point de commencer', 'ils sont tous tres heureux', 'elles sont toutes tres heureuses', 'tous les deux sont celibataires', 'ils ramassent des noisettes', 'ils vont faire les courses', 'ils font une salade', 'ce sont des jeunes filles serieuses', 'elles sont encore des enfants', 'ils sont encore des enfants', 'ils sont tous en vacances', 'elles sont toutes en vacances', 'ils sont tous en train de regarder la tele', 'elles sont toutes en train de regarder la tele', 'ils nous regardent tous', 'elles sont toutes en train de nous regarder', 'ils vont dans cette direction', 'elles vont dans cette direction', 'ils se rendent dans cette direction', 'elles se rendent dans cette direction', 'ils cherchent tom', 'elles cherchent tom', 'ils te cherchent', 'ils vous cherchent', 'elles te cherchent', 'elles vous cherchent', 'ils sont en train de te chercher', 'elles sont en train de te chercher', 'elles sont en train de vous chercher', 'ils sont en train de vous chercher', 'ils ne vont pas revenir', 'elles ne vont pas revenir', 'elles se trouvent juste derriere moi', 'ils se trouvent juste derriere moi', 'ils sont juste derriere moi', 'elles sont juste derriere moi', 'ils sont autosuffisants', 'elles sont autosuffisantes', 'ils parlent en francais', 'elles parlent en francais', 'ils t attendent', 'elles t attendent', 'ils vous attendent', 'elles vous attendent', 'nous sommes cinq dans la famille', 'nous sommes une famille de quatre', 'nous sommes hors de danger', 'nous sommes heureux de vous aider', 'nous prenons notre petit dejeuner', 'nous petit dejeunons', 'nous etudions l espagnol', 'on nous fait chanter', 'nous sommes fermes le lundi', 'nous sommes ici pour les aider', 'nous sommes plutot occupes ici', 'nous sommes plutot occupees ici', 'nous n en sommes pas encore convaincus', 'nous n en sommes pas encore convaincues', 'nous ne sommes pas encore desesperes', 'nous ne sommes pas encore desesperees', 'nous n en sommes pas entierement surs', 'nous n en sommes pas entierement sures', 'nous n y allons pas si ?', 'ca va pas le faire', 'nous n allons pas y arriver', 'nous n allons pas y parvenir', 'nous nous parlons', 'nous sommes a court de munitions', 'nous sommes plus malins que ca', 'vous etes un bon client', 'tu es aveuglee par l amour', 'vous etes aveuglee par l amour', 'tu es aveugle par l amour', 'vous etes aveuglees par l amour', 'vous etes aveugles par l amour', 'vous etes aveugle par l amour', 'tu es libre de rentrer', 'vous etes en lieu sur', 'on n est jeune qu une fois', 'tu es vraiment embetante', 'vous devez venir avec moi', 'tu dois venir avec moi', 'vous etes tres courageux', 'tu es mon obsession', 'tu es enseignant n est ce pas ?', 'tu as vraiment de la chance', 'vous avez vraiment de la chance', 'vous avez tout a fait raison', 'tu as parfaitement raison', 'vous avez parfaitement raison', 'vous etes tous hypocrites', 'vous n etes pas l un des notres', 'tu n es pas l une des notres', 'tu me bloques la vue', 'vous me bloquez la vue', 'tu as parfaitement raison', 'tu conduis trop vite', 'vous conduisez trop vite', 'tu en as deja fini', 'vous en avez deja fini', 'tu caches quelque chose', 'vous cachez quelque chose', 'tu imagines des choses', 'vous imaginez des choses', 'tu es le prof de mon gamin', 'tu es l instituteur de mon enfant', 'vous etes l institutrice de mon enfant', 'vous etes le professeur de mon enfant', 'tu n es pas facile a trouver', 'vous n etes pas facile a trouver', 'vous n etes pas faciles a trouver', 'ca ne te reussit pas', 'ca ne vous reussit pas', 'tu n y es pas bon', 'tu n y es pas bonne', 'vous n y etes pas bon', 'vous n y etes pas bons', 'vous n y etes pas bonne', 'vous n y etes pas bonnes', 'tu n aides pas beaucoup', 'vous n aidez pas beaucoup', 'tu n aides pas tom', 'vous n aidez pas tom', 'tu ne rates pas grand chose', 'vous ne ratez pas grand chose', 'tu n es pas le seul', 'tu n es pas le bienvenu ici', 'tu n es pas la bienvenue ici', 'vous n etes pas le bienvenu ici', 'vous n etes pas la bienvenue ici', 'vous n etes pas les bienvenus ici', 'vous n etes pas les bienvenues ici', 'tu as probablement soif', 'vous avez probablement soif', 'vous etes tout a fait attirant', 'vous etes tout a fait attirante', 'tu es tout a fait attirant', 'tu es tout a fait attirante', 'tu as raison a ce sujet', 'vous avez raison a ce sujet', 'vous avez raison bien sur', 'tu as raison bien sur', 'tu es en train d effrayer les enfants', 'tu effraies les enfants', 'vous etes si mignons ensemble', 'tu es plus grand que moi', 'tu es plus grande que moi', 'vous etes plus grand que moi', 'vous etes plus grande que moi', 'vous etes plus grands que moi', 'vous etes plus grandes que moi', 'tu as trois heures de retard', 'vous etes completement ignorant', 'vous etes completement ignorante', 'vous etes completement ignorants', 'vous etes completement ignorantes', 'tu es completement ignorant', 'tu es completement ignorante', 'vous etes dans une propriete privee ici', 'tu es dans une propriete privee ici', 'tu es tres intelligent', 'tu es tres intelligente', 'vous etes tres intelligent', 'vous etes tres intelligents', 'vous etes tres intelligente', 'vous etes tres intelligentes', 'tu es plein de ressources', 'tu es pleine de ressources', 'vous etes plein de ressources', 'vous etes pleins de ressources', 'vous etes pleine de ressources', 'vous etes pleines de ressources', 'tu nous fais perdre notre temps', 'c est un homme de caractere', 'il est homme de peu de mots', 'c est un type assez connu', 'c est un japonais typique', 'il est absent de l ecole', 'il a peur de nager', 'il est a la recherche d un meilleur boulot', 'il se plaint tout le temps', 'c est un garcon intelligent', 'il est arme jusqu aux dents', 'il est tres prudent', 'il est occupe avec son travail', 'il n est pas du tout brillant', 'il est fou de ski', 'il est employe de banque', 'il vient de sortir de l universite', 'il est frais emoulu de l ecole', 'il est frais emoulu de l universite', 'il est bon en gymnastique', 'il est impossible de le battre', 'il est connu de tous', 'tout le monde l aime', 'il est aime de tous', 'il n est vraiment pas fou', 'il est en train d ouvrir la fenetre', 'il est en train de peindre un tableau', 'il cherche un emploi', 'il est egoiste et cupide', 'il est plus fort que jamais', 'c est une personne terriblement faineante', 'il aime beaucoup la musique', 'il n a pas peur de la mort', 'il est un peu alcoolique', 'c est un pauvre type sans c ur', 'c est un puissant sorcier', 'c est un drole de personnage', 'c est un homme tres talentueux', 'il est constamment insatisfait', 'il embrasse sublimement', 'il a honte de son corps', 'il est a l eglise en ce moment', 'ca fait dix ans qu il est mort', 'il est cruel et sans c ur', 'il se sent beaucoup mieux', 'il est avide et impitoyable', 'il est la pour te proteger', 'il est la pour vous proteger', 'il est en etat de choc', 'il a la cinquantaine bien tassee', 'il est dote d un talent incroyable', 'il est incroyablement talentueux', 'il est probable qu il sera choisi', 'il est en colere apres sa fille', 'il ne m a jamais frappe auparavant', 'il n est pas sur d etre pret', 'il n y est pas tres bon', 'il n y excelle pas', 'il est maintenant a bord du bateau', 'il est plus vieux mais pas plus sage', 'il joue avec mon chat', 'il joue avec ma chatte', 'il est en train de lire un roman', 'il est vraiment beau', 'il est intelligent et ambitieux', 'c est l amour de ma vie', 'il est tres probable qu il vienne', 'je peux conduire une voiture', 'je suis sur le point de quitter ici', 'j ai peur qu il echoue', 'je cherche mes mots', 'je suis content de mon emploi', 'je suis libre cet apres midi', 'je vais a cet endroit', 'j ai de l interet pour la musique', 'pour l instant je m entraine seulement', 'mes parents m adorent', 'je ne suis pas du tout romantique', 'pour l instant je m entraine seulement', 'je joue a des jeux video', 'je vais tout a fait bien maintenant', 'je suis pret a te suivre', 'je suis prete a te suivre', 'je suis pret a vous suivre', 'je suis prete a vous suivre', 'je suis sur de son succes', 'je suis certaine de son succes', 'je tiens son succes pour certain', 'je suis certaine de son honnetete', 'je suis sure qu il reussira', 'je suis sur de son succes', 'je suis sure de son succes', 'je suis fatigue de l entendre', 'je suis tres mediocre en sport', 'je suis desireux de t aider', 'je suis desireux de vous aider', 'je suis un tantinet jaloux', 'je suis un tantinet jalouse', 'je suis loin de chez moi', 'je suis membre de l equipe', 'je suis etudiant a l universite', 'j ai bien peur qu elle va echouer', 'j apprends egalement le francais', 'j apprends aussi le francais', 'je suis aussi grand que mon pere', 'je suis completement epuise', 'je suis completement vanne', 'je suis dingue de football', 'je suis fort impressionne', 'je suis tres impressionnee', 'je suis fort impressionnee', 'je suis ravi d etre ici', 'je suis enchante d etre ici', 'je suis ravie d etre ici', 'je suis enchantee d etre ici', 'je suis ravie de vous voir', 'je fais du mieux que je peux', 'j en ai marre des devoirs !', 'je nourris le poisson rouge', 'je commence a avoir a nouveau sommeil', 'je suis heureux que personne n ait ete blesse', 'je suis heureuse que personne n ait ete blesse', 'je suis content de te revoir', 'je suis content de vous revoir', 'je suis content de te voir ici', 'je suis contente de te voir ici', 'je suis contente de vous voir ici', 'je suis content de vous voir ici', 'je me rejouis de vous voir ici', 'je me rejouis de te voir ici', 'je suis contente que tu ailles a nouveau bien', 'je suis content que tu ailles a nouveau bien', 'je suis contente que vous alliez a nouveau bien', 'je suis content que vous alliez a nouveau bien', 'je vais etre papa', 'je vais devenir avocat', 'je vais me marier', 'je vais etre marie', 'je vais etre mariee', 'je vais maintenant raccrocher', 'je vais me pieuter', 'je vais le regretter', 'je vais desormais me taire', 'je vais y songer', 'je vais me baigner', 'je vais prendre ma voiture', 'je vais prendre mon char', 'je vais a la station', 'je suis de meilleur humeur maintenant', 'je suis de bonne humeur aujourd hui', 'je ne suis pas presse de partir', 'je suis juste une fille normale', 'je viens tout juste de commencer', 'je n ai simplement pas tres faim', 'je suis plutot occupe ce soir', 'je suis plutot occupee ce soir', 'je te quitte demain', 'je prends soin de moi', 'je cherche un portefeuille', 'je realise un documentaire', 'je ne suis plus un bebe !', 'je ne suis pas du matin', 'je ne suis pas un locuteur natif', 'je ne suis pas quelqu un de patient', 'je ne suis pas quelqu un de violent', 'je ne suis pas une personne violente', 'je ne suis pas la de lui demander', 'je ne crains personne', 'je n ai pas peur des fantomes', 'je ne crains pas les serpents', 'on ne m autorise pas a partir', 'je ne demande pas d argent', 'je ne suis pas du tout surpris', 'je ne suis pas du tout surprise', 'je n enfreins pas la loi', 'je ne vais pas nettoyer ca', 'je ne reviens pas ici', 'je ne vais pas rentrer a la maison', 'je ne suis pas completement naive', 'je ne suis pas completement naif', 'je ne suis pas du tout convaincu', 'je ne suis pas du tout convaincue', 'je ne le fais plus', 'je ne vais plus le faire', 'je ne vais pas faire ca aujourd hui', 'je ne bois pas ce soir', 'je ne vais nulle part avec ma voiture', 'je ne suis pas facilement impressionne', 'je ne suis pas facilement impressionnee', 'je ne vais pas manger ce poisson', 'je n attends personne', 'je ne me sens pas trop bien', 'je ne suis pas du coin', 'je ne joue plus aux jeux de hasard', 'je ne parie plus', 'je ne m implique pas', 'je ne vais pas m impliquer', 'je n entrerai pas en competition', 'je ne le vendrai pas', 'je ne la vendrai pas', 'je ne suis pas ici pour affaires', 'je n ai pas faim maintenant', 'je ne suis plus inspiree', 'je ne vais pas partir avec toi', 'je ne suis pas comme la plupart des gens', 'je ne fais pas le moindre projet', 'je ne me fais pas de souci excessif', 'je ne suis pas vraiment un expert', 'je ne vends rien du tout', 'je ne signe rien du tout', 'je ne suis pas sur d aimer ca', 'je ne suis pas sure d aimer ca', 'je ne suis sure de rien', 'je ne suis sur de rien', 'je ne suis pas ce genre de gars', 'je ne suis pas du genre jaloux', 'mes pensees ne sont pas claires', 'je n ai pas trop envie d y aller', 'je suis de vos eleves', 'je suis l un de vos eleves', 'je suis l une de vos eleves', 'je suis assez fier de cela', 'je suis fiere de mes enfants', 'je suis fier de mes enfants', 'je suis dispose a me repentir', 'je suis disposee a me repentir', 'j en suis vraiment fiere', 'j en suis vraiment fier', 'je suis a court d idees', 'je prends mon travail au serieux', 'je suis desole d etre en retard', 'je suis desolee d etre en retard', 'je te demande pardon pour tout', 'desole de ce que j ai fait', 'je suis desole pour ce que j ai fait', 'je suis desole de ce que j ai fait', 'je suis desole de te poser des problemes', 'je suis en quelque sorte extraverti', 'je suis en quelque sorte introverti', 'je commence a vous apprecier', 'je me mets a t apprecier', 'j ai encore plutot faim', 'je suis certain de pouvoir faire mieux', 'je suis certain qu il est heureux', 'je suis etonne de vous voir', 'je suis surpris de te voir', 'je suis surprise de te voir', 'je suis etonne de te voir', 'je suis surpris de vous voir', 'je suis surprise de vous voir', 'je suis etonnee de vous voir', 'je suis etonnee de te voir', 'je suis en train de parler au telephone', 'c est moi le patron par ici', 'c est moi la patronne par ici', 'je songe au projet', 'je suis fatigue de regarder la tele', 'je suis trop occupe pour l aider', 'je suis trop occupe pour l aider', 'j ai trop bu pour faire ca', 'j essaye quelque chose de nouveau', 'j essaie quelque chose de nouveau', 'j essaie d economiser de l argent', 'je suis tres heureux de vous voir', 'je suis tres fier de mon fils', 'je veux presenter mes excuses', 'je veux faire mes excuses', 'je suis dispose a presenter mes excuses', 'je suis dispose a faire mes excuses', 'je vaux mieux que ca', 'c est une enfant apres tout', 'c est une personne fiable', 'on peut compter sur elle', 'c est une personne de confiance', 'c est une femme magnifique', 'elle n a que la peau sur les os', 'elle est affreusement mauvaise en cuisine', 'c est une fille obstinee', 'elle est au travail actuellement', 'elle se brosse les cheveux', 'elle est sourde a mes conseils', 'elle est tout pour lui', 'elle attend un enfant', 'elle est fauchee', 'elle est juste decorative', 'elle est connue de tout le monde', 'elle est hors sujet', 'elle ne m est pas etrangere', 'elle n a pas peur de mourir', 'elle n est pas elle meme aujourd hui', 'elle n est pas tout a fait satisfaite', 'elle n est pas tres riche', 'c est l une de mes amies', 'elle a l habitude de voyager', 'c est une femme determinee', 'c est une tres belle fille', 'elle est une mere tres avisee', 'elle a peur de la nuit', 'elle est au travail n est ce pas ?', 'elle est occupee par son travail', 'elle est affairee', 'elle est bonne a tomber raide', 'elle est bonne a tomber', 'elle est en train de reparer la machine', 'elle n est pas aussi agee que marie', 'c est une fille si adorable !', 'elle nous apprend le francais', 'elle nous enseigne le francais', 'elle porte un chapeau sympa', 'elle porte un chouette chapeau', 'elle porte de l ombre a paupiere', 'elle porte des talons hauts', 'ils ont peur de la mort', 'ils sont tous semblables a moi', 'elles sont toutes semblables a moi', 'ils sont de notre force', 'ils sont aussi forts que nous', 'ils mettent le paquet', 'ce sont de tres grosses pommes', 'ils sont tres compatibles', 'elles sont tres compatibles', 'ils vont a la guerre', 'elles vont a la guerre', 'ils n ont pas toujours raison', 'elles n ont pas toujours raison', 'ils ne me suivent pas', 'ce ne sont pas mes prisonniers', 'ils jouent notre chanson', 'ils sont en train de jouer notre chanson', 'ils sont juste derriere vous', 'ils sont juste derriere toi', 'elles sont juste derriere vous', 'elles sont juste derriere toi', 'elles se trouvent juste derriere vous', 'elles se trouvent juste derriere toi', 'ils se trouvent juste derriere vous', 'ils se trouvent juste derriere toi', 'ils ont raison bien sur', 'elles ont raison bien sur', 'vous les terrifiez', 'tu les terrifies', 'elles l adorent', 'ils l adorent', 'nous sommes tous contents d aider', 'nous sommes toutes contentes d aider', 'nous nous rendons au magasin', 'nous nous rendons a la boutique', 'nous demenageons le mois prochain', 'nous ne sommes pas tant que ca en securite', 'les jeans sont en rupture de stock', 'nous sommes sous son commandement', 'nous nous inquietons pour toi', 'nous sommes inquiets a votre sujet', 'nous sommes un peu occupes ici', 'nous sommes a peu pres du meme age', 'nous en sommes toutes d accord', 'nous en sommes tous d accord', 'notre temps est presque ecoule', 'nous nous bercons d illusions', 'nous nous leurrons', 'nous nous amusons', 'nous sommes assez presses', 'nous allons simplement discuter', 'on va simplement parler', 'nous sommes juste comme des freres', 'nous nous en sortons tres bien', 'il ne nous reste presque plus de temps', 'nous ne faisons rien', 'nous n allons nulle part', 'nous n allons pas vous repondre', 'nous n y sommes pas prets', 'nous n y sommes pas pretes', 'nous allons manquer de gaz', 'tu as parfaitement raison', 'vous avez parfaitement raison', 'tu as completement tort', 'vous avez entierement raison', 'tu es tout pour moi', 'ce sont des idees que tu te fais', 'tu es incroyablement naif', 'tu es ma fierte et ma joie', 'tu n as pas tort du tout', 'vous n avez pas tort du tout', 'vous etes vraiment tres bons', 'vous etes tres indelicats', 'vous etes tres indelicates', 'vous etes tres indelicat', 'vous etes tres indelicate', 'tu es tres indelicat', 'tu es tres indelicate', 'vous etes un bon journaliste', 'tu es un bon journaliste', 'tu es une adulte maintenant', 'vous etes un horrible danseur', 'tu es un danseur horrible', 'vous etes un horrible individu', 'tu es un horrible individu', 'vous etes une personne execrable', 'tu es une personne execrable', 'tu es une femme formidable !', 'vous etes une femme formidable !', 'vous etes seule n est ce pas ?', 'vous etes seul n est ce pas ?', 'vous etes seules n est ce pas ?', 'vous etes seuls n est ce pas ?', 'tu es seule n est ce pas ?', 'tu es seul n est ce pas ?', 'vous etes toujours en train de me tarabuster', 'tu es toujours en train de me tarabuster', 'tu me fais de l ombre', 'vous me faites de l ombre', 'tu desobeis aux ordres', 'vous desobeissez aux ordres', 'vous faites tout ce que vous pouvez', 'tu fais tout ce que tu peux', 'tu est libre de partir maintenant', 'vous etes plein de surprises', 'vous etes pleine de surprises', 'tu es dedans jusqu au cou', 'tu es en grave danger', 'vous etes en grave danger', 'vous plaisantez bien sur', 'tu plaisantes bien sur', 'tu as l air tres bien', 'vous avez l air tres bien', 'vous mentez n est ce pas ?', 'tu mens n est ce pas ?', 'tu passes a cote', 'vous passez a cote', 'tu ne saisis pas', 'vous ne saisissez pas', 'vous n etes pas de mes amis', 'tu n es pas de mes amis', 'tu n es pas millionnaire', 'vous n etes pas millionnaire', 'tu n es plus seul', 'tu n es plus seule', 'vous n etes plus seules', 'vous n etes plus seuls', 'vous n etes plus seul', 'vous n etes plus seule', 'tu ne m impressionne pas', 'tu n es pas ma copine', 'tu n es pas si vieux tom', 'vous n etes pas si vieux tom', 'vous n etes plus jeunes', 'tu es sur le mauvais bateau', 'vous etes sur le mauvais bateau', 'vous etes difficile n est ce pas ?', 'tu es difficile pas vrai ?', 'tu es vraiment incroyable', 'vous etes vraiment incroyables', 'tu fous en l air l atmosphere', 'vous gachez l atmosphere', 'tu gaches l atmosphere', 'quelle commere tu fais', 'quelle commere vous faites', 'tu es le meilleur papa de tous les temps', 'c est pour toi que je suis venu', 'c est pour vous que je suis venu', 'c est pour toi que je suis venue', 'c est pour vous que je suis venue', 'tu deformes mes paroles', 'vous deformez mes paroles', 'tu perds ton temps', 'il est un danger pour la societe', 'il a un peu plus de quarante ans', 'il est methodique', 'il est ecrivain et poete', 'il est dependant a la cocaine', 'il est toujours dans les nuages', 'il revasse toujours', 'c est un ecologiste', 'il est tout sauf honnete', 'il est capable de le faire', 'soit il est saoul soit il est fou', 'il est engage dans l enseignement', 'il est beau et intelligent', 'il tend a etre paresseux', 'il a tendance a se mettre en colere', 'il est interesse par la musique', 'il est comme un pere pour moi', 'il est plus intelligent que moi', 'il est plus malin que moi', 'il n est pas doue en tant qu avocat', 'ce n est pas un eleve ordinaire', 'il n est rien d autre qu un enfant', 'il est assez vieux pour boire', 'il est assez age pour boire', 'c est l un de mes voisins', 'c est un de mes voisins', 'il joue dans sa chambre', 'il est en train de jouer dans sa chambre', 'il a une bonne maitrise de la langue persane', 'il sera bientot pere', 'il a encore des doutes', 'il est fatigue a cause du surmenage', 'il est incapable d acheter une voiture', 'il a tres peur des chiens', 'il est tres amical avec nous', 'il marche tres lentement', 'c est un etudiant de l universite', 'c est un tres bon musicien', 'c est un musicien de grande qualite', 'il a accepte de faire le travail', 'il est presque aussi grand que moi', 'il court toujours apres les filles', 'il est fort comme un cheval', 'il est venu pour causer des ennuis', 'il vient de sortir de l universite', 'il est frais emoulu de l ecole', 'il est frais emoulu de l universite', 'il va le regretter', 'il est bon dans ce qu il fait', 'il se cache dans le placard', 'il se cache dans la penderie', 'il est comme un frere pour moi', 'il n enfreint pas la loi', 'il n est pas plus fort que moi', 'il est vraiment en bonne forme', 'il est candidat au congres', 'il a peur de me parler', 'il dort comme un bebe', 'il adore la lecture', 'il adore marcher', 'il est jeune et attirant', 'je suis etudiant', 'je suis etudiant a l universite', 'j agis pour mon pere', 'je crains qu il ne soit trop tard', 'je m ennuie tellement', 'je suis ravi d etre ici', 'je suis enchante d etre ici', 'je suis enchantee d etre ici', 'je me sens triste a cause de ca', 'je suis pour toujours votre debiteur', 'je suis pour toujours ton debiteur', 'je vais avoir quatorze ans', 'je vais m habiller', 'je pends mes chemises', 'je suis sienne et elle est mienne', 'je suis a elle et elle est a moi', 'je suis sien et elle est mienne', 'j habite avec mon oncle', 'je ne suis pas matinal', 'je ne m implique pas', 'je ne vais pas m impliquer', 'je ne suis pas de garde demain', 'je suis a present dans un vieux chateau', 'je suis en vacances cette semaine', 'je suis en conge cette semaine', 'je suis pret a aller avec vous', 'desole de ce que j ai fait', 'je suis desolee de te deranger', 'j en ai termine avec mon travail', 'j en ai fini avec mon travail', 'je me suis habitue a vivre seul', 'je suis habitue a vivre seul', 'je suis habituee a vivre seule', 'j emploie un nouvel ordinateur', 'je suis tres occupe ces jours ci', 'je suis tres heureux de vous voir', 'je suis tres heureux de te voir', 'je suis en train d arroser les fleurs', 'je suis un inconditionnel de l opera allemand', 'je suis une inconditionnelle de l opera allemand', 'je suis un lyceen', 'je suis un peu decu', 'je suis un peu decue', 'je suis quelque peu decu', 'je suis quelque peu decue', 'je suis assez bon etudiant', 'je suis assez bonne etudiante', 'je suis assez bon nageur', 'je suis assez bonne nageuse', 'je suis une personne assez heureuse', 'je suis en train d ajouter la derniere touche', 'je crains de ne pas suivre', 'je crains qu il ne puisse venir', 'j ai peur des tremblements de terre', 'je suis presque aussi grand que tom', 'je suis toujours sous pression', 'je suis aussi curieuse que vous', 'je suis aussi curieuse que toi', 'je suis aussi curieux que vous', 'je suis aussi curieux que toi', 'je suis aussi choque que vous', 'je suis aussi choquee que vous', 'je suis aussi choque que toi', 'je suis aussi choquee que toi', 'j ai honte de ce que j ai fait', 'je demande ce que tu en penses', 'je demande ce que vous en pensez', 'pour moi c est la fin des haricots', 'je joins trois fichiers', 'je commence a la detester', 'je suis honnete avec vous', 'je suis honnete avec toi', 'je suis paye pour faire ca', 'je suis payee pour faire ca', 'on me paie pour faire ca', 'je ramene une pizza a la maison', 'je ramene une pizza chez moi', 'je suis occupe a mes devoirs', 'je viens te chercher', 'je reflechis a demissionner', 'je songe a demissionner', 'je compte sur votre aide', 'je compte sur ton aide', 'je raccourcis mon voyage', 'je suis ravi de te rencontrer', 'je suis enchante de vous rencontrer', 'je suis ravi de vous rencontrer', 'je suis ravie de vous rencontrer', 'je suis ravie de te rencontrer', 'je suis enchantee de te rencontrer', 'je suis enchante de te rencontrer', 'je suis enchantee de vous rencontrer', 'je fais le bon choix', 'j ai pris la bonne decision', 'j en ai fini de t ecouter', 'j en ai fini de vous ecouter', 'j en ai fini avec tout cela', 'je suis assez occupe en realite', 'je me sens un peu fatigue', 'je me sens plutot fatigue', 'je me sens plutot fatiguee', 'je finis mes devoirs', 'je rassemble des informations', 'j ai une mauvaise impression', 'ca me pompe', 'ca me fatigue', 'je suis content d avoir pu aider', 'je suis contente d avoir pu t etre utile', 'je me rejouis de te contenter', 'je me rejouis de vous contenter', 'je suis content que tom soit la', 'je suis heureux que vous veniez', 'je me rejouis que vous soyez ici', 'je me rejouis que tu sois ici', 'je suis content de vous revoir', 'je me rejouis de te revoir', 'je me rejouis de vous revoir', 'je me rejouis de voir que vous allez bien', 'je me rejouis de voir que tu vas bien', 'je me rejouis que vous en preniez conscience', 'je me rejouis que tu en prennes conscience', 'je me rejouis que vous n etiez pas ici', 'je me rejouis que tu n etais pas ici', 'je me rejouis que vous vous portiez bien', 'je me rejouis que tu te portes bien', 'je me rejouis que vous soyez mon amie', 'je me rejouis que vous soyez mon ami', 'je me rejouis que tu sois mon amie', 'je me rejouis que tu sois mon ami', 'je retourne a la fac', 'je retourne en fac', 'je sors prendre un verre', 'je sors un moment', 'je vais etre enseignant', 'je vais etre enseignante', 'ca va aller', 'je vais bientot etre partie', 'je vais bientot etre parti', 'je vais etre a l exterieur aujourd hui', 'je vais etre ici', 'je vais faire un feu', 'je vais confectionner un bucher', 'je vais cuisiner pour vous', 'je vais cuisiner pour toi', 'je vais conduire par mes propres moyens', 'je vais a l hopital', 'je me fais a nouveau pousser la barbe', 'je suis heureux de te voir ici', 'je suis heureux de vous voir ici', 'je suis en route pour retourner en ville', 'je suis ici pour faire ce que je peux', 'je suis responsable de la securite', 'je suis responsable des courses', 'je ne fais qu obeir aux ordres', 'j essaie simplement de m en sortir', 'je la ferme', 'j apprends a conduire', 'je cherche un pull over', 'je cherche un chandail', 'je cherche des piles', 'je cherche mon appareil photo', 'j attends cela avec impatience', 'je me specialise en sociologie', 'je suis bien plus jeune que vous', 'je suis beaucoup plus jeune que vous', 'je suis beaucoup plus jeune que toi', 'je ne gobe pas ton histoire', 'je ne gobe pas votre histoire', 'je n en suis pas convaincu', 'je n en suis pas convaincue', 'je n en ai pas encore fini avec vous', 'je n en ai pas encore fini avec toi', 'je ne suis pas tout a fait surpris', 'je ne suis pas tout a fait surprise', 'je n en ai pas fini avec lui', 'je n en ai pas fini avec toi', 'je n en ai pas fini avec vous', 'je ne vais pas appeler tom', 'je ne vais pas manger ceci', 'je ne vais pas vous aider', 'je ne vais pas t aider', 'je ne vais pas te faire de mal', 'je ne vais pas vous faire de mal', 'je ne vais pas m evanouir', 'je ne vais pas y toucher', 'mon travail ne me plait pas', 'je ne suis pas en forme maintenant', 'je n apprends rien', 'je ne suis pas comme les autres gens', 'je ne suis plus ainsi', 'je ne suis dans le camp de personne', 'je ne prevois rien', 'je ne suis pas en mal d argent', 'je ne crains personne', 'je ne suis pas tellement bon en tennis', 'je ne suis pas suppose boire', 'je ne suis pas supposee boire', 'je ne suis pas sur de comprendre', 'je ne suis pas sure de comprendre', 'je ne vais pas vous le repeter', 'je ne vais pas te le repeter', 'je ne suis pas ce genre de fille', 'je ne suis pas cette sorte de fille', 'je n y pense pas', 'je n ai pas soif pour le moment', 'je ne suis pas habitue a cette chaleur', 'je ne suis pas habituee a cette chaleur', 'je ne suis pas si occupe en general', 'je ne suis plus ce que j etais', 'je ne m inquiete pas pour tom', 'je ne suis pas inquiet pour tom', 'je ne me fais pas de souci pour lui', 'je n ecris pas a ton sujet', 'je n ecris pas a votre sujet', 'je ne suis souvent qu a moitie reveille', 'je ne suis souvent qu a moitie reveillee', 'je suis en train de lire le journal', 'je suis vraiment occupe a l instant', 'je suis vraiment occupee a l instant', 'je suis soulage d entendre cela', 'je vous releve de votre service', 'je suis a court d energie', 'je suis tellement perplexe en ce moment', 'je suis si heureux pour toi tom', 'je suis si heureux pour vous tom', 'je suis si heureuse pour toi tom', 'je suis desole de t avoir hurle dessus', 'je suis desolee de t avoir hurle dessus', 'je suis desole de vous avoir hurle dessus', 'je suis desolee de vous avoir hurle dessus', 'je suis desole de vous avoir crie apres', 'je suis desolee de vous avoir crie apres', 'je suis desole de t avoir crie apres', 'je suis desolee de t avoir crie apres', 'je suis desole a propos d hier', 'je suis desolee a propos d hier', 'je suis desole pour votre perte', 'je suis desolee pour votre perte', 'desole si je vous ai fait peur', 'je suis desolee de t avoir fait peur', 'je suis desole je ne gobe pas ca', 'je suis desolee je ne gobe pas ca', 'je fais encore mon marche', 'j etudie toujours le francais', 'j etudie l art dramatique du kabuki', 'je suis sur que maman se mettra en colere', 'je suis certain que tom souffre', 'je suis certaine que tom souffre', 'je suis sur que tom etait implique', 'je suis sure que tom etait implique', 'je suis sur que tom a ete implique', 'je suis sure que tom a ete implique', 'je suis certain qu il approuverait', 'je suis sur que tu es tres occupee', 'je suis nul en langues', 'je suis trop pauvre pour l epouser', 'je suis trop fatigue pour etudier', 'j essaie de te parler', 'j essaie de vous parler', 'je tente de te parler', 'je tente de vous parler', 'je ne suis pas si occupe d habitude', 'je suis tres heureux de vous rencontrer', 'je suis tres heureux d etre ici', 'je suis tres heureux de te voir', 'je suis tres triste d entendre cela', 'je suis tres triste d entendre ca', 'j attends mon amie', 'j attends ma mere', 'j attends ton aide', 'je suis en train de regarder les jeux olympiques', 'c est vraiment une bonne fille', 'c est une personne tres sympa', 'elle est une conductrice lamentable', 'elle cherche un meilleur emploi', 'on s amuse avec elle', 'elle est en retard sur son loyer', 'elle est coupable d un vol', 'elle est de nouveau elle meme', 'elle est au lit enrhumee', 'elle est gentille avec les personnes agees', 'elle tricote un pull', 'elle tricote un chandail', 'elle apprend a jouer du piano', 'c est une chanteuse pas banale', 'ce n est pas une chanteuse ordinaire', 'c est vraiment une gentille fille', 'elle nous apprend le francais', 'elle nous enseigne le francais', 'elle est tres en colere apres moi', 'elle n a pas peur de la mort', 'elle n est pas apte pour le poste', 'elle est maintenant a l hopital', 'elle est actuellement a l hopital', 'elle est enceinte de jumeaux', 'elle est belle et intelligente', 'elle a tres peur des chiens', 'elle a une peur bleue des chiens', 'ils sont dingues de jazz', 'elles sont dingues de jazz', 'elles lisent son livre', 'ils regardent un film', 'ils s inquietent pour la paix', 'elles s inquietent pour la paix', 'ils vont pendre tom', 'ils sont chanceux d etre en vie', 'elles ont de la chance d etre vivantes', 'elles sont chanceuses d etre en vie', 'ils ont de la chance d etre vivants', 'ce ne sont pas tous des criminels', 'ils sont sans consequence', 'ils sont jeunes et en bonne sante', 'elles sont jeunes et en bonne sante', 'nous sommes frere et s ur', 'nous n avons pas peur de la mort', 'nous n avons pas encore tres faim', 'nous sommes presque a court de sucre', 'nous sommes desormais pour ainsi dire morts', 'nous sommes desormais pour ainsi dire mortes', 'nous avons une faim de loup', 'nous sortons d ici', 'nous partons d ici', 'nous allons dans la mauvaise direction', 'nous nous rendons au cinema', 'nous avons un probleme', 'nous sommes la pour te proteger', 'nous sommes la pour vous proteger', 'nous sommes en retard a cause de vous', 'nous sommes en retard a cause de toi', 'nous ne sommes plus amis', 'nous ne sommes plus amies', 'nous n allons pas nous marier', 'nous ne vivons pas ensemble', 'nous ne sommes pas vraiment freres', 'il ne faut pas nous deranger', 'nous sommes dos au mur', 'vous avez tous deux faux', 'tu es facilement distrait', 'tu es dedans jusqu au cou', 'vous etes en retard ce matin', 'tu le sous estimes', 'tu es tellement adorable !', 'vous etes tellement adorable !', 'tu es fatigue non ?', 'vous etes fatigues pas vrai ?', 'vous etes fatigue n est ce pas ?', 'tu n es pas un espion si ?', 'vous n etes pas une espionne si ?', 'tu n es pas aussi petit que moi', 'tu n es pas aussi petite que moi', 'tu es allemand n est ce pas ?', 'vous etes allemands n est ce pas ?', 'tu es un merveilleux ami', 'tu es une merveilleuse amie', 'vous etes un merveilleux ami', 'vous etes une merveilleuse amie', 'tu as peur pas vrai ?', 'vous avez peur pas vrai ?', 'tu te plains toujours', 'vous vous plaignez toujours', 'vous dites toujours ca', 'tu dis toujours ca', 'vous dites toujours cela', 'tu dis toujours cela', 'tu vas gagner aujourd hui', 'vous allez gagner aujourd hui', 'tu es au bon endroit', 'tu n es pas encore adolescent', 'vous n etes pas encore adolescente', 'vous n etes pas encore adolescent', 'tu n es pas encore adolescente', 't es pas aussi malin que moi', 'tu n es pas aussi malin que moi', 'vous n etes pas aussi malin que moi', 't es pas aussi maligne que moi', 'tu n es pas aussi maligne que moi', 'vous n etes pas aussi malins que moi', 'vous n etes pas aussi malignes que moi', 'vous n etes pas aussi maligne que moi', 'tu n es pas rationnel', 'tu n es pas rationnelle', 'vous n etes pas rationnel', 'vous n etes pas rationnels', 'vous n etes pas rationnelle', 'vous n etes pas rationnelles', 'vous ne vous ennuyez pas si ?', 'tu n as pas totalement tort', 'tu n y vas pas si ?', 'vous n y allez pas si ?', 'vous n etes pas fatigue si ?', 'vous n etes pas fatiguee si ?', 'vous n etes pas fatiguees si ?', 'vous n etes pas fatigues si ?', 'tu n es pas fatigue si ?', 'tu n es pas fatiguee si ?', 'tu n es pas contrarie si ?', 'tu n es pas contrariee si ?', 'vous n etes pas contrarie si ?', 'vous n etes pas contrariee si ?', 'vous n etes pas contraries si ?', 'vous n etes pas contrariees si ?', 'vous n etes pas vous meme aujourd hui', 'tu n es pas toi meme aujourd hui', 'tu es sur la bonne pente', 'vous etes sur la bonne piste', 'tu racontes encore des mensonges', 'tu es trop ivre pour conduire', 'tu es trop stupide pour vivre', 'vous etes trop stupide pour vivre', 'tu es trop jeune pour te marier', 'tu es tres elegante', 'tu es fort elegante', 'tu es tres elegant', 'tu es fort elegant', 'vous etes tres elegante', 'vous etes tres elegant', 'vous etes tres elegantes', 'vous etes tres elegants', 'vous etes fort elegante', 'vous etes fort elegant', 'vous etes fort elegantes', 'vous etes fort elegants', 'vous etes fort raffine', 'vous etes fort raffinee', 'vous etes fort raffines', 'vous etes fort raffinees', 'vous etes tres raffine', 'vous etes tres raffinee', 'vous etes tres raffines', 'vous etes tres raffinees', 'tu es tres raffine', 'tu es tres raffinee', 'tu es fort raffine', 'tu es fort raffinee', 'vous etes fort comprehensif', 'vous etes fort comprehensive', 'vous etes fort comprehensifs', 'vous etes fort comprehensives', 'vous etes tres comprehensif', 'vous etes tres comprehensive', 'vous etes tres comprehensifs', 'vous etes tres comprehensives', 'tu es tres comprehensif', 'tu es tres comprehensive', 'tu es fort comprehensif', 'tu es fort comprehensive', 'tu portes mon pyjama', 'tu as tort dans ce cas', 'vous avez tort dans ce cas', 'c est un joueur invetere', 'c est un bon mari pour moi', 'c est un bon joueur de tennis', 'c est un tres bon joueur de tennis', 'c est un homme de famille noble', 'c est vraiment un bon travailleur', 'il est etudiant a harvard', 'il est prof d anglais', 'c est un professeur d anglais', 'son travail l absorbe', 'il a peur de son pere', 'il fait presque six pieds de haut', 'il est toujours plein d idees', 'il est toujours bourre d idees', 'c est une personne agressive', 'il est occupe a faire quelque chose', 'il est capable de trahison', 'il est negligent pour ce qui concerne l argent', 'il est negligent en matiere d argent', 'il est fou de baseball', 'il est desireux d aller en chine', 'il est fiance a ma s ur', 'il se rend au concert', 'il va au concert', 'il est recherche par la police', 'il est impatient de te voir', 'il est devant la porte', 'il est handicape mental', 'il n a pas entierement tort', 'il n est pas coupable de meurtre', 'il n est plus aussi fort qu avant', 'il n est pas trop vieux pour le faire', 'il sejourne actuellement a paris', 'c est l un de mes voisins', 'il est aime de ses hommes', 'il est assis en tailleur', 'il est assis sur la chaise', 'il se tient sur la colline', 'il est encore plein d energie', 'il etudie l agronomie', 'il etudie a sa table de travail', 'il est suspecte de vol', 'il nage dans la piscine', 'il est la pour quelques jours', 'c est un homme tres dangereux', 'il merite nos louanges', 'il est dans l incapacite d acheter une voiture', 'il n est pas ce qu il pretend etre', 'il est employe dans le batiment', 'c est un travailleur du batiment', 'il est lyceen', 'c est un citoyen respectueux des lois', 'c est un homme aux multiples talents', 'c est un homme sur qui vous pouvez compter', 'c est un homme sur qui tu peux compter', 'c est un petit gars intelligent', 'il est professeur et moi aussi', 'il est accro a la malbouffe', 'il vous regarde toujours', 'il lit toujours des bandes dessinees', 'il ne viendra decidement pas', 'il est different de ce qu il etait avant', 'il creuse sa propre tombe', 'il a hate de vous parler', 'il est beau et a du charme', 'il est beaucoup plus jeune que tom', 'c est mon vieux compagnon de beuverie', 'il est maintenant etudiant a la fac', 'il est maintenant etudiant en faculte', 'il est parfait en tout', 'il est habile aux jeux video', 'il est doue aux jeux video', 'il se trouve quelque part dans le parc', 'il est capitaine d une equipe', 'c est lui qui m a aide', 'il ecrit une longue lettre', 'je suis optimiste de nature', 'je suis chaque soir a la maison', 'je compte sur ton aide', 'je suis heureux d entendre ces nouvelles', 'je descends l escalier', 'je ne suis pas d humeur a blaguer', 'je suis interesse par l anglais', 'je suis juste un simple instituteur', 'je vais juste faire une promenade', 'je ne suis jamais libre le dimanche', 'je ne suis pas heureux dans mon travail', 'je suis souvent en difficulte', 'je suis en train de jouer du piano', 'je commence des ce soir', 'j en ai assez d entendre ca', 'j ai du travail par dessus la tete', 'je suis tres heureux en georgie', 'je suis ceinture noire de karate', 'je suis un citoyen du monde', 'je suis un clochard bon a rien', 'moi meme je suis nouveau dans le coin', 'je crains de m etre enrhume', 'je crains les animaux sauvages', 'moi aussi je prends ce train', 'je te le demande en tant qu ami', 'je te le demande en tant qu amie', 'je vous le demande en tant qu ami', 'je vous le demande en tant qu amie', 'je nourris mon bebe au sein', 'je donne le sein a mon bebe', 'je suis satisfait de mon salaire', 'je lance un signal de detresse', 'je deviens sans aucun doute fou', 'je deviens certainement fou', 'je pars ce soir', 'je suis decu et en colere', 'je fais tout mon possible', 'je creve d envie d une boisson fraiche', 'je suis excite a l idee du demenagement', 'j ai un peu sommeil', 'je me sens tres en confiance', 'je me rejouis que vous puissiez venir', 'je suis heureux que tu puisses venir', 'je suis contente que vous soyez la', 'je suis ravi que vous ayez pu le faire', 'je suis ravi que vous ayez pu venir', 'je suis ravie que vous ayez pu venir', 'je suis content que tu sois toujours la', 'je suis content que vous soyez toujours la', 'je compte m acheter une nouvelle voiture', 'je vais aller faire une sieste', 'je vais piquer un somme', 'je vais aller dans ma chambre', 'tu vas aussi me manquer', 'vous allez aussi me manquer', 'je vais y repenser encore une fois', 'je vais voir tom aujourd hui', 'je vais me doucher', 'je vais dire ca a tom', 'je suis heureux que le jeu soit fini', 'je suis content de vous revoir', 'je suis simplement en train de constater', 'je ne fais que penser a haute voix', 'j essaie simplement de survivre', 'je vis avec ma maman maintenant', 'je cherche un vieil homme', 'je ne suis plus en colere apres vous', 'je ne suis plus en colere apres toi', 'je ne suis pas aussi riche que toi', 'je suis raisonnable', 'je ne le fais plus', 'je ne vais pas disparaitre', 'je ne vais pas signer ceci', 'je ne suis pas bon pour faire semblant', 'je ne suis pas bon dans la simulation', 'je n y suis pas interesse', 'je n y suis pas interessee', 'on ne m invite pas aux fetes', 'je ne suis pas invite a des fetes', 'je ne suis pas invitee a des fetes', 'je ne vais pas garder cette chose', 'je ne te vends pas ma voiture', 'je ne vous vends pas ma voiture', 'je refuse de te vendre ma voiture', 'je refuse de vous vendre ma voiture', 'je ne suis pas sur de te croire', 'je ne vais pas prendre le moindre risque', 'je ne parle pas de ca', 'je ne suis pas encore si desespere', 'je ne suis pas encore si desesperee', 'je ne suis pas tres bon aux echecs', 'je ne suis pas tres heureux non plus', 'je ne suis pas celui que tu penses', 'je ne suis pas celle que tu penses', 'je ne suis pas celui que vous pensez', 'je ne suis pas celle que vous pensez', 'je ne me fais pas de souci pour elles', 'je pars en turquie demain', 'je dis seulement la verite', 'je decore un uf de paques', 'je suis vraiment en colere la', 'je rechigne a lui rendre visite', 'je suis content de mon travail', 'j epargne pour une voiture', 'je suis desole pour ta perte', 'desole j ai perdu mon sang froid', 'je suis desole au sujet de la nuit derniere', 'je suis desolee au sujet de la nuit derniere', 'je suis desole a propos de hier au soir', 'je suis desole a propos de hier soir', 'je suis desole a propos de cette nuit', 'je suis desole a propos de la nuit derniere', 'je suis desolee a propos de hier au soir', 'je suis desolee a propos de hier soir', 'je suis desolee a propos de la nuit derniere', 'je suis desolee a propos de cette nuit', 'je suis desole pour ce malentendu', 'je suis desole mon pere est sorti', 'excusez moi de vous interrompre', 'je suis coince dans un embouteillage', 'je suis coincee dans un embouteillage', 'je suis certain de trouver un moyen', 'je suis sur qu il partira tot', 'je suis sure qu il partira tot', 'je prends mon livre avec moi', 'je suis celui qui a construit ceci', 'je suis celle qui a construit ceci', 'je suis celui qui a tue tom', 'j en ai marre d etre prudent', 'j en ai assez de jouer', 'je suis plus solide que tu ne le penses', 'je suis tres endormi aujourd hui egalement', 'je suis tres inquiet a ton sujet', 'je suis tres inquiet a votre sujet', 'je travaille chez mcdonald s', 'elle est un tres bon professeur', 'elle est toujours apre au travail', 'elle est tres desireuse de te rencontrer', 'elle est tres desireuse de vous rencontrer', 'elle a honte de s exprimer', 'elle est occupee a preparer le diner', 'elle est capable de tout', 'elle est en danger', 'elle est privee de sortie', 'elle est son propre pire ennemi', 'elle s interesse a la musique', 'elle va juste faire des emplettes', 'elle va juste faire des courses', 'elle est bien plus grande que moi', 'ce n est pas une eleve ordinaire', 'ce n est rien qu une enfant', 'elle est plus agee et plus sage maintenant', 'elle est rapide pour tout', 'elle est rapide en tout', 'c est une jeune fille assez maligne', 'elle est tres mauvaise cuisiniere', 'elle est l editeur en chef', 'elle n a pas peur des serpents', 'elle s en sort tres bien', 'elle va avoir un bebe', 'elle a de si beaux yeux', 'elle est aimee de ses amis', 'elle est aimee de ses amies', 'elle n est jamais tombee amoureuse', 'elle est assise sur le banc', 'elle commence a m agacer !', 'elle porte un manteau ample', 'ils sont dans la meme classe', 'elles sont dans la meme classe', 'on s occupe bien d eux', 'ils nettoient la plage', 'ils sont en train de nettoyer la plage', 'ils sont dans le laboratoire de sciences', 'elles sont dans le laboratoire de sciences', 'ils ont perdu l esprit', 'elles ont perdu l esprit', 'ils sont probablement etasuniens', 'elles sont probablement etasuniennes', 'ce sont des amis tres proches', 'ce sont des amies tres proches', 'nous sommes sur le point de partir d ici', 'nous nous rendons au marche', 'nous sommes les voisins d a cote', 'il ne faut pas nous deranger', 'nous sommes convaincus de son succes', 'nous sommes convaincues de son succes', 'nous sommes tous sur le meme bateau', 'nous sommes tous sur le meme bateau', 'nous y sommes tous ensemble', 'nous faisons tous partie de la meme equipe', 'nous faisons toutes partie de la meme equipe', 'nous appartenons tous a la meme equipe', 'nous appartenons toutes a la meme equipe', 'nous travaillons tous ensemble', 'nous sommes presque comme des freres', 'nous achetons des billets de cinema', 'nous retournons a boston', 'nous allons le refaire', 'on va jouer au tennis', 'nous allons jouer au tennis', 'nous allons au devant d un desastre', 'nous sommes faits l un pour l autre', 'nous sommes destines l un a l autre', 'nous sommes censes etre ensemble', 'nous n avons pas encore fini de jouer', 'nous ne sommes pas du coin', 'nous ne sommes pas d ici', 'nous n allons nulle part', 'ca va pas le faire', 'nous n allons pas y arriver', 'nous n allons pas y parvenir', 'nous n allons pas le jeter', 'nous ne sommes plus ensemble', 'nous sommes maintenant en phase', 'nous sommes pratiquement freres !', 'vous avez parfaitement raison', 'tu te plains toujours', 'vous vous plaignez toujours', 'tu as toujours a te plaindre', 'tu regardes tout le temps la tele', 'vous regardez tout le temps la television', 'vous vous leurrez', 'tu te leurres', 'tu es son frere n est ce pas ?', 'vous vous etes trompe d avion', 'tu es dans le mauvais train', 'vous etes plus grand qu elle', 'tu es plus grand qu elle', 'tu es plus grande qu elle', 'vous etes plus grande qu elle', 'vous etes plus grands qu elle', 'vous etes plus grandes qu elle', 'tu es fatigue et moi aussi', 'tu es incroyablement naif', 'tu n es pas comme les autres', 'vous n etes pas comme les autres', 'vous etes allemands n est ce pas ?', 't es un sacre coco', 'vous etes un sacre coco', 't es un joyeux drille', 'vous etes un joyeux drille', 'tu te comportes comme un enfant', 'tu agis comme un enfant', 'vous vous comportez comme une enfant', 'tu agis comme une enfant', 'tu es une fille interessante', 'vous etes une fille interessante', 'vous souffrez n est ce pas ?', 'tu souffres n est ce pas ?', 'vous etes incroyablement talentueuse', 'vous etes incroyablement talentueux', 'vous etes incroyablement talentueuses', 'tu es incroyablement talentueuse', 'tu es incroyablement talentueux', 'tu es ma seule veritable amie', 'vous etes ma seule veritable amie', 'tu es mon seul veritable ami', 'vous etes mon seul veritable ami', 'tu n es plus un bebe', 'vous n etes pas autorise a penetrer ici', 'tu n es pas autorise a penetrer ici', 'tu n es pas autorisee a penetrer ici', 'tu ne trompes personne', 'vous ne trompez personne', 'tu ne m ecoutes pas', 'vous ne m ecoutez pas', 'tu ne dors pas suffisamment', 'vous ne dormez pas suffisamment', 'vous faites partie du probleme', 'tu fais partie du probleme', 'tu es assis sur ma chaise', 'tu es assise sur ma chaise', 'tu es stupide de lui faire confiance', 'vous etes idiot de vous fier a lui', 'vous etes stupides de vous fier a lui', 'tu mets ma patience a l epreuve', 'vous mettez ma patience a l epreuve', 'tu es l amour de ma vie', 'vous etes incroyablement stupide', 'tu es incroyablement stupide', 'vous faites l objet d une enquete', 'tu fais l objet d une enquete', 'tu es riche n est ce pas ?', 'vous etes riches n est ce pas ?', 'tu gagnes n est ce pas ?', 'vous gagnez n est ce pas ?', 'vous etes soucieux n est ce pas ?', 'vous etes soucieuse n est ce pas ?', 'vous etes soucieuses n est ce pas ?', 'vous etes inquiet n est ce pas ?', 'vous etes inquietes n est ce pas ?', 'vous etes inquiete n est ce pas ?', 'vous etes inquiets n est ce pas ?', 'tu es inquiete pas vrai ?', 'tu es inquiet pas vrai ?', 'il fait une tete de plus que moi', 'c est un mathematicien de genie', 'c est un romancier et un artiste', 'c est un jeune homme prometteur', 'il est presque toujours chez lui', 'il est toujours sympathique envers moi', 'il est toujours soigneusement vetu', 'il est une autorite en chine', 'c est un vieil ami a moi', 'il est aussi grand que son pere', 'il est occupe a apprendre l anglais', 'il est maladroit de ses mains', 'il creuse sa propre tombe', 'il se montre difficile avec moi', 'il est casse couilles avec moi', 'il me donne du mal', 'il est doue pour prendre des photos', 'il est au debut de la trentaine', 'il est innocent du crime', 'il est plus intelligent que moi', 'il est plus ruse que sage', 'il est plus grand que moi', 'il n habite plus ici', 'il ne peut pas se mesurer a sa femme', 'il semble probable qu il echoue', 'il n est pas vraiment un artiste', 'il n est pas de tres bonne compagnie', 'il travaille de nuit ce soir', 'c est l un de mes vieux amis', 'son travail lui plait', 'il est tres competent en anglais', 'il est rarement de bonne humeur', 'il est plutot difficile a contenter', 'il est respecte par tout le monde', 'il torrefie des feves de cafe', 'il se tient sur la scene', 'il est encore fringant', 'il souffre d un rhume', 'il est sur de reussir l examen', 'c est le patron du marketing', 'il est le plus grand des deux', 'il est extremement beau', 'il n est pas apte a etre enseignant', 'il est pigiste', 'c est un pigiste', 'c est un journaliste independant', 'c est un japonais typique', 'il sait parler japonais', 'il est toujours en retard a l ecole', 'c est un esprit independant', 'il y est meilleur que je ne le suis', 'il est plus intelligent qu eux', 'il verifie son telephone portable', 'il va se joindre a notre cercle', 'il est assez mignon n est ce pas ?', 'il est assez mignon non ?', 'il est mignon dans son genre non ?', 'il n est pas aussi grand que toi', 'il est un peu rude aux encoignures', 'il hurle il ne chante pas', 'il fume plus que jamais', 'c est le garcon le plus mignon en ville', 'c est celui qui m a tripotee', 'c est celui qui m a tripote', 'il est tres probable qu il soit en retard', 'il travaille son anglais', 'je suis la fille d un gentilhomme', 'je creve d envie d une boisson fraiche', 'j ai tres envie de la revoir', 'je creve d envie de la revoir', 'je vais acheter une nouvelle voiture', 'je te suis reconnaissant pour ton aide', 'je m interesse a la natation', 'la natation m interesse', 'je partirai a dix heures', 'je recherche un emploi monsieur', 'je cherche mon frere', 'je cherche mes lunettes', 'je suis aime de toute ma famille', 'je n en suis pas sur', 'je n en suis pas certain', 'je ne suis pas certain de cela', 'je n en suis pas sure', 'je suis en bons termes avec lui', 'je suis pret pour le pire', 'je suis fier de travailler avec vous', 'je suis a court d argent', 'je suis tres sensible a la chaleur', 'je travaille a mon nouveau livre', 'je suis a toi et tu es a moi', 'je suis a vous et vous etes a moi', 'je suis tien et tu es mien', 'je suis tienne et tu es mien', 'je suis tienne et tu es mienne', 'je suis tien et tu es mienne', 'je suis votre et vous etes mien', 'je suis votre et vous etes mienne', 'je suis votre et vous etes miens', 'je suis votre et vous etes miennes', 'je suis un peu nerveux en ce moment', 'je suis un peu en colere contre toi', 'je suis conseiller en gestion', 'je crains de ne pouvoir t aider', 'je suis desole je dois partir maintenant', 'j ai bien peur de devoir y aller maintenant', 'je suis completement en faveur de ta suggestion', 'je suis deja rassasie merci beaucoup', 'il ne cesse de me surprendre', 'je suis une actrice pas un mannequin', 'je suis actrice non mannequin', 'je suis plus beau que tom', 'je suis certain qu il viendra', 'je suis sur qu il viendra', 'je suis profondement offense par ceci', 'je suis profondement offensee par ceci', 'j en ai fini de faire l andouille', 'j adore prendre des photos', 'perdre me fatigue', 'je vais faire des courses demain', 'je vais demain faire des emplettes', 'je vais etre ton avocat', 'je vais etre votre avocat', 'je vais acheter du pain', 'vous allez beaucoup me manquer', 'tu vas beaucoup me manquer', 'je vais avoir besoin de votre aide', 'j aurai besoin de votre aide', 'j aurai besoin de ton aide', 'je vais la demander en mariage', 'je vais l abattre', 'je vais nager chaque jour', 'je vais nager quotidiennement', 'je vais le dire a tout le monde', 'j ai du mal a me concentrer', 'j ai du mal a dormir', 'je suis ici pour une autre raison', 'je suis ici pour voir le gerant', 'je suis maintenant dispose a discuter', 'je suis maintenant disposee a discuter', 'je ne fais que regarder merci', 'je suis a la recherche d un autre boulot', 'je cherche le gerant', 'j en suis impatient', 'j en suis impatiente', 'je m en rejouis d avance', 'je ne suis pas autorise a vous aider', 'je ne suis pas autorisee a vous aider', 'je ne suis pas autorise a t aider', 'je ne suis pas autorisee a t aider', 'je n ai pas honte de te dire', 'je n ai pas honte de vous dire', 'je ne suis pas libre tout de suite', 'je ne vais pas autoriser ca', 'je ne vais pas citer de noms', 'je ne vais pas livrer de noms', 'je ne suis pas bon pour negocier', 'je ne suis pas doue pour negocier', 'je ne suis pas assez bien pour tom', 'je ne suis pas assez bon pour toi', 'je ne suis pas assez bon pour vous', 'je ne suis pas assez bonne pour toi', 'je ne suis pas assez bonne pour vous', 'je ne suis pas d humeur a sortir', 'je ne suis pas au bureau aujourd hui', 'je n ai pas si soif que ca', 'je ne suggere rien', 'je ne suis pas certain de vouloir le poste', 'je ne suis pas certaine de vouloir le poste', 'je ne te parle pas tom', 'je ne vous parle pas tom', 'je ne suis pas tres bon en francais', 'je ne suis pas inquiet pour l argent', 'je suis plus vieux que ton frere', 'j ouvre maintenant mes cadeaux', 'je joue avec mes amis', 'je joue avec mes amies', 'je suis en train de jouer avec mes amis', 'je suis en train de jouer avec mes amies', 'je me rejouis vraiment que tu sois la', 'j economise autant que je peux', 'je la vois ce soir', 'j en ai assez de vos recriminations', 'j en ai assez de tes recriminations', 'je suis desole d avoir ete si grossier', 'c est triste que tu doives partir', 'je suis desole de ne pas pouvoir t aider', 'je suis desolee de ne pas pouvoir t aider', 'je suis desole je ne peux pas t aider', 'je suis desole mon pere est sorti', 'je suis desolee mon pere est sorti', 'je suis desole mon pere est dehors', 'je suis desole mon pere est elimine', 'je suis desolee mon pere est dehors', 'je suis desolee mon pere est elimine', 'je commence a la trouver antipathique', 'j y pense encore', 'j y songe encore', 'je suis en train d etudier la grammaire francaise', 'j etudie a la bibliotheque', 'je suis certain de pouvoir persuader tom', 'je suis sure de pouvoir persuader tom', 'je suis sur qu elle partira tot', 'je suis sure qu elle partira tot', 'tout le monde est a mes yeux suspect', 'je me promene dans un parc', 'je suis habitue a rester debout tard', 'je suis tres fiere de mon pere', 'je suis tres fier de mon pere', 'je suis effondre d entendre ca', 'je regrette beaucoup mais je ne peux pas', 'je me demande si j aime tom', 'je me demande si je l aime', 'je me demande si je l aime', 'mon poids me preoccupe', 'elle ecrit des nouvelles', 'elle est toujours soignee et ordonnee', 'c est une excellente etudiante', 'elle est belle comme toujours', 'elle a certainement plus de quarante ans', 'c est certainement une quadra', 'elle planifie un voyage', 'elle est habillee en mariee', 'elle est ivre de bonheur', 'elle est extremement seduisante', 'elle est sympathique avec tout le monde', 'elle n a pas le moral aujourd hui', 'elle se parle a elle toute seule', 'elle epluche des pommes de terre', 'c est une infirmiere attitree', 'c est une fondue de tricot', 'elle est vraiment passionnee de tricot', 'elle est assise sur un banc', 'elle est l editeur en chef', 'elle est habituee a vivre seule', 'elle est tres fachee apres moi', 'elle aime beaucoup les fleurs', 'elle est en train d arroser les fleurs', 'elle porte une robe bleue', 'elle porte une belle montre', 'elle ecrit une lettre maintenant', 'elle creuse sa propre tombe', 'elle est curieuse de nature', 'elle est bien plus heureuse que lui', 'elle est bien plus lourde que lui', 'elle est beaucoup plus lourde que lui', 'elle n est pas du genre a se marier', 'c est la fille de mes reves', 'c est une femme d interieur accomplie', 'elle a une peur bleue des serpents', 'ils sont a peu pres du meme age', 'elles sont a peu pres du meme age', 'ce sont tous les deux de bons professeurs', 'ils lisent leur livre', 'elles lisent leur livre', 'ils n ont pas peur de la mort', 'ils agissent de leur propre chef', 'elles agissent de leur propre chef', 'ils s amusent', 'elles s amusent', 'ce sont des employes a temps partiel', 'ce sont des employees a temps partiel', 'ils sont a trente dollars chacun', 'elles sont a trente dollars chacune', 'elles se lavent les mains', 'nous sommes susceptibles de commettre des erreurs', 'nous avons une propension a commettre des erreurs', 'nous changeons de vetements', 'nous attendons un bebe', 'nous allons avoir un bebe', 'nous avons un hiver doux cette annee', 'nous sommes a peu pres de la meme taille', 'nous sommes tous en train d etre manipules', 'nous sommes toutes en train d etre manipulees', 'nous en sommes tous responsables', 'nous en sommes toutes responsables', 'c est de notre faute a tous', 'nous sommes tous de tres bons joueurs', 'nous sommes toutes de tres bonnes joueuses', 'nous sommes vieux amis', 'nous allons continuer a sourire', 'nous allons travailler ce soir', 'nous sommes maries', 'nous n allons pas casser quoi que ce soit', 'on ne sort pas ensemble officiellement', 'nous en sommes pour ainsi dire certains', 'nous en sommes pour ainsi dire certaines', 'nous faisons encore des emplettes', 'nous faisons encore des courses', 'nous perdons un temps precieux', 'nous travaillons a l instant', 'tu as tendance a etre oublieux', 'vous etes blanc comme un drap', 'tu es blanc comme un cachet d aspirine', 'votre decollage est confirme', 'vous etes redevable de la dette', 'tu te trompes a ce sujet', 'vous faites erreur a ce propos', 'tu n es plus un enfant', 'tu dois faire comme je te dis', 'vous devez faire comme je vous dis', 'on te reclame au telephone', 'tu n es pas aussi petit que moi', 'tu n es pas aussi petite que moi', 'vous n etes pas aussi petit que moi', 'vous n etes pas aussi petite que moi', 'vous n etes pas aussi petits que moi', 'vous n etes pas aussi petites que moi', 't es un super bon camarade', 'tu vas etre pere', 'vous allez etre pere', 'tu vas le regretter', 'vous allez le regretter', 'tu commets une grosse erreur', 'vous commettez une grosse erreur', 'vous etes nouveau ici n est ce pas ?', 'tu es nouveau ici n est ce pas ?', 'vous etes nouveaux ici n est ce pas ?', 'vous etes nouvelle ici n est ce pas ?', 'vous etes nouvelles ici n est ce pas ?', 'tu es nouvelle ici n est ce pas ?', 'tu ne rends pas ca facile', 'vous ne rendez pas ca facile', 'vous n etes pas marie si ?', 'vous n etes pas mariee si ?', 'tu n es pas marie si ?', 'tu n es pas mariee si ?', 'vous n etes pas mariees si ?', 'vous n etes pas maries si ?', 'tu ne fais pas attention !', 'tu n es pas si interessant', 'tu n es pas si interessante', 'vous n etes pas si interessant', 'vous n etes pas si interessants', 'vous n etes pas si interessante', 'vous n etes pas si interessantes', 'tu ne penses pas clairement', 'vous ne pensez pas clairement', 'tu n es rien qu un lache', 'vous n etes qu un lache', 'vous etes un negociateur avise', 'tu fais desormais partie de la bande', 'tu es vraiment dur au travail', 'vous etes vraiment apre au travail', 'tu es vraiment tete en l air', 'vous etes vraiment tete en l air', 'sur ce point tu as raison', 'tu es tellement impatient avec moi', 'tu commences a me faire peur', 'vous commencez a me faire peur', 'encore es tu plus grand que moi', 'tu es la seule en qui j ai confiance', 'tu es le seul en qui j ai confiance', 'vous etes la seule en qui j ai confiance', 'vous etes le seul en qui j ai confiance', 'tu es trop dur avec toi', 'tu es trop dure avec toi', 'vous etes trop dur avec vous', 'vous etes trop dure avec vous', 'tu es recherche par la police', 'tu es recherchee par la police', 'son metier est medecin', 'il fait profession d avocat', 'c est un homme de grand talent', 'il est professeur et romancier', 'il est capable de nager tres vite', 'il est habitue au travail', 'il est toujours en retard a l ecole', 'c est un enseignant experimente', 'il a honte de son echec', 'il est meilleur que moi en maths', 'il va probablement gagner le match', 'il est proche du president', 'il est toujours en train de se plaindre', 'il ne fait que se plaindre', 'il lui est tres attache', 'il est avide de gloire', 'c est un parfait gentleman', 'il a tout d un monsieur', 'il va se presenter aux elections municipales', 'il joue bien au tennis', 'il est parfait pour le poste', 'il est connu en tant que chanteur de rock', 'il est probable qu il gagne la partie', 'il a des chances de gagner la partie', 'il a des chances de gagner le jeu', 'il est probable qu il gagne le jeu', 'il a des chances de remporter la partie', 'il a des chances de remporter le jeu', 'il est probable qu il remporte le jeu', 'il est probable qu il remporte la partie', 'il est plus chanceux qu intelligent', 'c est mon frere pas mon pere', 'il n est plus le bienvenu ici', 'ce n est pas du tout un gentleman', 'il n est pas du tout un gentleman', 'il ne va pas progresser', 'il n est plus celui qu il etait', 'il n est plus comme il l etait', 'il n est plus ce qu il etait avant', 'il n est plus ce qu il etait', 'c est un de mes meilleurs amis', 'il est notre professeur d anglais', 'il est populaire aupres de tout le monde', 'il se prepare pour le test', 'il est present a la reunion', 'il est respecte de tout le monde', 'il est a court de fonds', 'on dit qu il est mort ici', 'il cherche actuellement un nouveau poste', 'il est sensible a la critique', 'c est un artiste en quelque sorte', 'c est le plus vieux d entre eux', 'ses parents lui font confiance', 'il est deux fois plus vieux qu elle', 'il est tres impatient d y aller', 'il est tres impatient de s y rendre', 'il est tres sensible au froid', 'c est un frileux', 'il observe mon moindre mouvement', 'il est ce qu on appelle un pionnier', 'c est que nous appelons un pionnier', 'il est ce qu on appelle un lettre', 'il travaille sur un nouveau roman', 'c est un scientifique de niveau international', 'il est habitue a voyager', 'il est conscient de ses defauts', 'il nettoie son placard', 'il en a assez des mondanites', 'il est fou amoureux', 'il n est pas suppose se trouver la', 'il est affaire en dehors de la ville', 'il a commence a ecrire un roman', 'c est l homme parfait pour toi', 'il t attend chez lui', 'il t attend chez nous', 'il t attend chez moi', 'il t attend a la maison', 'il vous attend a la maison', 'il vous attend chez lui', 'il vous attend chez nous', 'il vous attend chez moi', 'je suis etudiant mais lui non', 'je suis etonne par ton audace', 'j ai honte de ta conduite', 'j ai honte de votre conduite', 'je commence a comprendre', 'je suis sceptique sur son succes', 'je suis familier de sa musique', 'votre nom m est familier', 'ton nom m est familier', 'j aime la cuisine australienne', 'je compte devenir ingenieur', 'je vais ecrire une lettre', 'je suis plus beau que toi', 'je suis plus beau que vous', 'je suis plus belle que vous', 'je suis plus belle que toi', 'je ne lui suis pas lie', 'ceci m indiffere', 'ceci m est indifferent', 'je ne suis pas concerne par ceci', 'je suis fier d etre docteur', 'je suis surpris de l apprendre', 'je suis surpris d apprendre ca', 'je prends francais l annee prochaine', 'je suis le chef de cette equipe', 'je pense a mes vacances', 'j essaye d apprendre l anglais', 'je suis habitue a conduire un camion', 'je suis moi meme un peu lecteur', 'je suis un peu en retard sur mon planning', 'je manque un peu de pratique', 'j en suis absolument certaine', 'j en suis absolument certain', 'je m amuse vraiment', 'je crains d avoir du travail a faire', 'je crains de ne pas etre disponible', 'je crains d avoir de mauvaises nouvelles', 'je crains de vous avoir offense', 'je crains de vous avoir offenses', 'je crains de vous avoir offensee', 'je crains de vous avoir offensees', 'je crains de t avoir offense', 'je crains de t avoir offensee', 'je crains que tom ne se perde', 'je crains la meme chose', 'je crains que ce soit impossible', 'je crains que la rumeur soit averee', 'je crains que la rumeur ne soit averee', 'je crains que nous ne puissions vous aider', 'je crains que nous ne puissions t aider', 'je crains que nous ayons un probleme', 'je crains que nous n ayons pas le choix', 'je crains que vous ne puissiez pas faire cela', 'je crains que tu ne puisses pas faire cela', 'je suis deja amoureux de tom', 'je requiers votre aide', 'je requiers ton aide', 'je suppose que vous disposez d un plan', 'je suppose que tu disposes d un plan', 'je me trouve actuellement a l aeroport', 'je passe une audition pour le role', 'je suis conscient de la possibilite', 'je commence a me sentir bete', 'je commence a devenir curieuse', 'ma curiosite commence a s aiguiser', 'je commence a devenir curieux', 'je commence a sentir que quelque chose deconne', 'je casse mes nouvelles chaussures', 'je me fais porter pale demain', 'je suis assez embrouille comme ca', 'je suis assez embrouillee comme ca', 'je le fais malgre vous', 'je le fais malgre toi', 'je le fais pour ma famille', 'je suis en train de tomber amoureux de toi', 'je suis en train de tomber amoureux de vous', 'j en ai marre de ce temps', 'je me sens assez confiant', 'je suis les lignes directrices', 'je suis parfaitement conscient de ce fait', 'je deviens trop vieux pour ca', 'je donne mes vieux livres', 'je donne mes vieux bouquins', 'je te donne ce que tu veux', 'je vous donne ce que vous voulez', 'je me rejouis que quelqu un comprenne', 'je me rejouis que vous compreniez', 'je me rejouis que tu comprennes', 'je me rejouis de vous avoir finalement rencontree', 'je me rejouis de vous avoir finalement rencontrees', 'je me rejouis de vous avoir finalement rencontres', 'je me rejouis de vous avoir finalement rencontre', 'je me rejouis de t avoir finalement rencontree', 'je me rejouis de t avoir finalement rencontre', 'je me rejouis de te voir heureuse', 'je me rejouis de te voir heureux', 'je me rejouis de vous voir heureuse', 'je me rejouis de vous voir heureuses', 'je me rejouis de vous voir heureux', 'je suis ravi que tu aies souleve ca', 'je suis ravie que tu aies souleve ca', 'je suis ravi que vous ayez souleve ca', 'je suis ravie que vous ayez souleve ca', 'je suis ravi que vous ayez souleve cela', 'je suis ravie que vous ayez souleve cela', 'je suis ravie que tu aies souleve cela', 'je suis ravi que tu aies souleve cela', 'je suis heureux que tu aies mentionne cela', 'je suis heureux que vous ayez mentionne cela', 'je me rejouis que vous ayez decide de venir', 'je me rejouis que tu aies decide de venir', 'je me rejouis que tu le voies ainsi', 'je me rejouis que vous le voyiez ainsi', 'je me rejouis que vous vous portiez mieux', 'je me rejouis que tu te portes mieux', 'je me rejouis que vous soyez ici avec moi', 'je me rejouis que tu sois ici avec moi', 'je vais rentrer a la maison demain', 'je vais rentrer chez moi demain', 'je retourne au bureau', 'je pars en voyage d affaire', 'je serai ton maitre', 'je vais etre votre instituteur', 'je vais etre votre professeur', 'je vais etre votre institutrice', 'je vais vous acheter une montre', 'je vais t acheter une montre', 'je vais prendre conge pour cette nuit', 'je vais appeler la police', 'je vais changer de chemise', 'je vais lire un peu', 'je vais dechiffrer ca', 'je vais resoudre ca', 'je vais reflechir a ca', 'je vais preparer a dejeuner', 'je vais preparer a diner', 'je volerai vers la lune', 'je vais donner un bain a tom', 'je vais laisser tom repondre', 'cet endroit va me manquer', 'je vais demenager le mois prochain', 'je vais epargner plus d argent', 'je vais en faire usage demain', 'je suis heureux avec ce que j ai', 'je suis heureux avec ce que je possede', 'je traverse les memes problemes', 'je me trouve dans une situation desesperee', 'je ne fais qu une suggestion', 'je suis juste en train de regarder la tele', 'je cherche mon cellulaire', 'je cherche mon telephone mobile', 'je me renseigne pour en acquerir un', 'je ne suis jamais chez moi le dimanche', 'je n ai pas faim du tout', 'je n ai pas peur des fantomes', 'je ne te donnerai aucun argent', 'je ne vous donnerai aucun argent', 'aujourd hui je ne patinerai pas', 'je ne suis pas particulierement soucieux', 'je ne suis pas particulierement soucieuse', 'je ne suis pas sur que cela va aider', 'je ne suis pas sur que ca va aider', 'je ne suis pas sur de quand il vient', 'je ne vais rien te dire', 'je n en suis pas trop etonnee', 'je ne suis plus ton mari', 'je ne suis plus votre mari', 'je ne suis plus votre epoux', 'je suis gare au coin de la rue', 'je suis vraiment heureux d entendre ca', 'je vais vraiment manquer a tom', 'je garde ce siege pour tom', 'je suis fatigue de ce temps chaud', 'je ne supporte plus ce temps chaud', 'je suis desolee d avoir rompu ma promesse', 'je suis desole d avoir rompu ma promesse', 'je suis desolee si je t ai derange', 'je suis desole si je t ai derange', 'je suis desole si je t ai derangee', 'je suis desole si je vous ai derange', 'je suis desole si je vous ai derangee', 'je suis desole si je vous ai deranges', 'je suis desole si je vous ai derangees', 'je suis desolee si je vous ai derangees', 'je suis desolee si je vous ai deranges', 'je suis desolee si je vous ai derangee', 'je suis desolee si je vous ai derange', 'je m excuse je ne peux pas rester longtemps', 'je suis desole je ne vous ai pas entendu', 'je suis desole je ne vous ai pas entendue', 'je suis desole je ne vous ai pas entendus', 'je suis desole je ne vous ai pas entendues', 'je suis desole je ne t ai pas entendu', 'je suis desole je ne t ai pas entendue', 'je suis desolee je ne t ai pas entendu', 'je suis desolee je ne t ai pas entendue', 'je suis desolee je ne vous ai pas entendues', 'je suis desolee je ne vous ai pas entendus', 'je suis desolee je ne vous ai pas entendue', 'je suis desolee je ne vous ai pas entendu', 'desole mais il n est pas a la maison', 'je commence a le croire', 'tu m intimides toujours', 'vous m intimidez toujours', 'je suis sur que tom avait ses raisons', 'je suis sure que tom avait ses raisons', 'je suis sur que vous allez reussir', 'je suis sur que tu vas reussir', 'je suis certain que tu reussiras', 'je suis de la meme taille que lui', 'j en ai marre de garder des secrets', 'je suis fatigue de faire la queue', 'je suis fatigue de faire la file', 'je suis fatiguee de faire la file', 'je suis fatiguee de faire la queue', 'je suis fatigue par vos plaintes', 'je suis trop vieux pour aller en allemagne', 'j ai l habitude de me lever tot', 'j emploie un bol et une cuillere', 'vous me decevez beaucoup', 'tu me decois vraiment', 'je suis ravi de faire votre connaissance', 'je connais bien tom', 'je travaille aussi vite que je peux', 'je m inquiete pour l avenir', 'je suis ton jules n est ce pas ?', 'c est une tres belle dame', 'c est une eleve de deuxieme annee', 'c est une femme autodidacte', 'elle est absorbee par son travail d etude', 'elle est presque aussi grande que vous', 'elle est presque aussi grande que toi', 'elle est toujours soigneusement habillee', 'elle est toujours soigneusement vetue', 'elle est occupee a apprendre l anglais', 'elle a certainement plus de quarante ans', 'elle est fiancee a un homme riche', 'elle est jalouse de ma reussite', 'elle est amicale avec tout le monde', 'elle est sympa avec tout le monde', 'elle a peur du tonnerre', 'elle est bonne pour l imiter', 'elle est plus sage qu intelligente', 'elle n est jamais en retard a l ecole', 'elle fait partie du personnel enseignant', 'elle est fiere de ses enfants', 'elle est fiere de sa fille', 'elle est fiere de ses eleves', 'elle n est pas tres douee au tennis', 'elle se porte fort bien', 'elle est tres attirante', 'elle essaie de perdre du poids', 'elle est tres amere envers moi', 'elle travaille nuit et jour', 'elle est membre d une societe d etudiantes', 'elle est mere isolee de deux enfants', 'c est un esprit independant', 'elle est mariee a un etranger', 'on ne l invite pas aux fetes', 'elle est sortie pour des chaussures', 'elle est sortie faire les magasins pour des chaussures', 'elle est bien connue comme chanteuse', 'elle est bien connue en tant que chanteuse', 'ils sont en train de manger leurs pommes', 'ils sont beaucoup plus grands que nous', 'ils ne sont pas mes vrais parents', 'ils courent dans le parc', 'elles courent dans le parc', 'ils parlent de musique', 'ils militent contre les violences aux animaux', 'ils trainent les pieds', 'ils vont jeter un coup d il', 'ils vont torturer tom', 'elles vont torturer tom', 'nous allons essuyer une tempete', 'nous sommes en faveur de votre plan', 'nous sommes responsables en cas de degats', 'nous n allons pas en vacances', 'nous sommes tous ensemble a l instant', 'nous sommes toutes ensemble a l instant', 'nous nous portons mieux sans toi', 'nous nous portons mieux sans vous', 'nous allons etre agressifs', 'nous allons encore etre en retard', 'nous allons a nouveau etre en retard', 'nous allons manger tout de suite', 'nous allons manger maintenant', 'nous allons travailler ensemble', 'nous ratons quelque chose ici', 'nous manquons quelque chose ici', 'nous ne sommes plus dans les annees quatre vingts', 'nous sommes les meilleurs dans ce que nous faisons', 'nous sommes les meilleures dans ce que nous faisons', 'nous sommes completement cool avec ca', 'nous en sommes tres satisfaits', 'nous en sommes tres satisfaites', 'tu es aussi grande que ma s ur', 'tu es aussi grand que ma s ur', 'tu es a la fois mignonne et gentille', 'tu es a la fois mignon et gentil', 'tu es occupe en ce moment ?', 'tu n es plus un enfant', 'tu n es plus une enfant', 'vous convenez au poste', 'tu es disponible maintenant ?', 'tu n es pas occupe maintenant si ?', 'tu es a peu pres trois jours en retard', 'vous etes presque aussi grand que tom', 'tu es presque aussi grand que tom', 'tu me critiques tout le temps !', 'vous me critiquez sans cesse !', 'tu fais aller ca trop loin', 'vous faites aller ca trop loin', 'tu hallucines completement', 'vous hallucinez completement', 'tu es deprimee n est ce pas ?', 'tu es deprime n est ce pas ?', 'vous etes deprimee n est ce pas ?', 'vous etes deprimees n est ce pas ?', 'vous etes deprimes n est ce pas ?', 'vous etes deprime n est ce pas ?', 'tu fais la bonne chose', 'vous faites la bonne chose', 'vous conduisez comme un tare !', 'tu te ridiculises', 'vous etes impressionne n est ce pas ?', 'vous etes impressionnee n est ce pas ?', 'vous etes impressionnes n est ce pas ?', 'vous etes impressionnees n est ce pas ?', 'tu es impressionnee pas vrai ?', 'tu es impressionne pas vrai ?', 'tu veux juste paraitre diplomate', 'tu es exactement comme ton pere', 'vous etes exactement comme votre pere', 'tu es exactement comme ta mere', 'vous etes exactement comme votre mere', 'tu ne vas pas assez vite', 'vous n allez pas assez vite', 'tu n es plus mon ami', 'vous n etes plus mon ami', 'vous n etes plus mon amie', 'tu n es plus mon amie', 'tu ne dis pas la verite', 'vous ne dites pas la verite', 'tu penses de travers', 'tu n es pas totalement irreprochable', 'vous n etes pas ainsi d ordinaire', 'tu n es pas ainsi d ordinaire', 'tu ne portes aucun pantalon', 'on attend de vous que vous les aidiez', 'tu es la fille de mes reves', 'il est dentiste de profession', 'c est un homme dur en affaire', 'c est un homme sur qui on peut compter', 'il est pionnier en ce domaine', 'c est un professeur de notre ecole', 'il sait jouer de la guitare', 'il a l habitude de travailler dur', 'c est une connaissance de ma femme', 'il a peur de devenir malade', 'il a peur de mourir', 'il craint de mourir', 'c est un mari ideal pour moi', 'il m est totalement inconnu', 'il est inquiet de sa venue', 'il a honte de son attitude', 'il est mieux que quiconque', 'il est de loin le meilleur des etudiants', 'il est de loin le meilleur eleve', 'il est de loin le meilleur etudiant', 'il est depourvu de sentiments humains', 'il gagne deux fois mon salaire', 'il a l habitude des ordinateurs', 'il en a marre de mes problemes', 'il est genereux envers ses amis', 'il est genereux avec son argent', 'il ment comme un arracheur de dents', 'il ment outrageusement', 'ses meilleures annees sont derriere lui tu sais', 'il est fier d etre medecin', 'il est fier de sa collection', 'c est un sacre musicien', 'il est plus grand que son frere', 'il est capitaine de l equipe', 'c est le portrait crache de son pere', 'c est un homme sur qui vous pouvez compter', 'c est le plus grand de tous les garcons', 'il est trop saoul pour conduire jusque chez lui', 'il est trop stupide pour craindre le danger', 'il a l habitude de realiser des discours', 'il a l habitude de ce genre de situation', 'il est habitue a de telles situations', 'il n est pas vraiment le gerant', 'il n est pas le gerant en fait', 'il n est pas vraiment l impresario', 'il n est pas aussi age que mon frere', 'il n est pas riche mais il est heureux', 'c est un ami de mon frere', 'c est un individu plutot rare', 'c est un homme d affaire a succes', 'il change tout le temps d avis', 'c est un jeune homme intelligent', 'il est attire par les filles asiatiques', 'il est attire par les femmes asiatiques', 'il est attire par les negresses', 'il est attire par les femmes noires', 'il est ruse et manipulateur', 'il est curieux de tout', 'il va traverser la riviere', 'il est plus que probable qu il vienne', 'il n est pas aussi age que mon frere', 'il est riche mais il n est pas heureux', 'il parle au telephone', 'il a vraiment une tenue negligee', 'il se preoccupe du resultat', 'je suis un etudiant de cette ecole', 'je suis un excellent joueur d echecs', 'j ai peur d avoir des problemes', 'je t aide quand tu veux', 'je suis inquiet pour sa sante', 'je suis paranoiaque non ?', 'j ai la chance d avoir une bonne sante', 'je suis completement essouffle', 'je me fais des soucis pour sa securite', 'je suis decu par les nouvelles', 'je travaille dans la recherche contre le sida', 'je vais a l etranger cet ete', 'je sors cet apres midi', 'je me mets a detester cette fille', 'je me rejouis d entendre votre voix', 'je me rejouis d entendre ta voix', 'je suis heureux avec ma copine', 'je cherche un bon hotel', 'je recherche un assistant', 'je commets trop de fautes', 'je ne suis jamais a la maison le dimanche', 'je verrai mon oncle demain', 'j ai egalement dix sept ans', 'je chante avec mes enfants', 'je suis desolee si je t ai derange', 'je suis le plus grand de notre classe', 'je songe a me rendre a l etranger', 'je suis tres content que l ecole soit finie', 'je suis tres contente que l ecole soit finie', 'je suis tres interesse par la musique', 'je le connais bien', 'je suis un homme d affaires respectable', 'j ai environ le meme age que toi', 'j ai environ le meme age que vous', 'je suis allergique a quelques medicaments', 'je suis toujours fier de ma famille', 'je suis conscient de cette possibilite', 'je me rends compte des difficultes', 'je m ennuie faisons quelque chose !', 'je ne suis certainement pas ton ami', 'je ne suis certainement pas ton amie', 'je ne suis certainement pas votre ami', 'je ne suis certainement pas votre amie', 'je passe te voir chez toi', 'j en ai termine avec l arrosage des fleurs', 'je bois une biere en ce moment meme', 'je meurs d envie d un cafe', 'je suis familier de ces choses', 'je suis familier du sujet', 'je me sens bien ce matin', 'je me sens beaucoup mieux aujourd hui', 'je suis libre tous les jours sauf le lundi', 'je suis libre tous les jours sauf lundi', 'je suis ami avec la s ur de tom', 'je me fais construire une nouvelle maison', 'je me marie la semaine prochaine', 'je te le donne pour rien', 'je te donne une occasion', 'je suis content que ca te rende heureux', 'je suis content que ca te rende heureuse', 'je suis contente que ca te rende heureux', 'je suis contente que ca te rende heureuse', 'je suis contente que ca vous rende heureux', 'je suis content que ca vous rende heureux', 'je suis contente que ca vous rende heureuse', 'je suis content que ca vous rende heureuse', 'je suis contente que ca vous rende heureuses', 'je suis content que ca vous rende heureuses', 'je suis heureux que vous aimiez mes amis', 'je suis heureux que tu aimes mes amis', 'je vais a hanovre avec toi', 'je veux aller faire des courses', 'je vais aller chercher a manger', 'je vais me laver les mains', 'je vais chez ma grand mere', 'je vais te proteger tom', 'je vais vous proteger tom', 'j irai la voir demain', 'jouer du piano est mon point fort', 'je suis heureux parce que vous etes ici', 'j entends beaucoup ca ces derniers temps', 'je suis ici pour requerir votre aide', 'je suis ici pour requerir ton aide', 'j attends juste un ami', 'j attends juste une amie', 'j apprends tant de vous', 'j apprends tant de toi', 'j ai plus d experience que tom', 'je ne suis pas capable de parler aussi vite', 'je ne suis pas a l aise avec ca', 'je ne compare pas tom a mary', 'je ne vais pas m impliquer', 'je ne vais pas m en meler', 'je ne vais pas me laisser impliquer', 'je ne vais pas m arreter de travailler', 'je ne suis pas doue pour raconter des blagues', 'je n ai guere le c ur a plaisanter', 'je ne suis pas d humeur pour le moment', 'je ne vous crains plus', 'je n ai plus peur de vous', 'je n ai plus peur de toi', 'je ne te crains plus', 'je ne suis pas celui qui devrait y aller', 'je ne suis pas celle qui devrait y aller', 'je ne m inquiete pas trop pour tom', 'je ne porte aucun sous vetement', 'je suis actuellement au telephone avec tom', 'je suis desormais pour ainsi dire un expert', 'je suis convaincu que tom est serieux', 'je regrette vraiment d entendre ca', 'je suis vraiment malheureux a ce sujet', 'je suis satisfait de tout', 'je te vois sous un nouveau jour', 'je suis fatigue de lire', 'j en ai plus qu assez de lire', 'je suis tellement content que tu sois la', 'je suis desolee de vous avoir mal compris', 'je suis desole si je t ai effraye', 'je suis desole si je t ai effrayee', 'je suis desole si je vous ai effraye', 'je suis desolee si je vous ai effraye', 'je suis desole si je vous ai effrayee', 'je suis desole si je vous ai effrayes', 'je suis desole si je vous ai effrayees', 'je suis desolee si je vous ai effrayes', 'je suis desolee si je vous ai effrayees', 'je suis desolee si je vous ai effrayee', 'je suis desolee si je t ai effraye', 'je suis desolee si je t ai effrayee', 'je suis desole de decevoir tes plans', 'je suis desole de decevoir vos plans', 'je suis desole je ne voulais pas dire ca', 'je suis desolee je ne voulais pas dire ca', 'je suis desole je ne comprends pas', 'je suis desolee je ne comprends pas', 'je suis desole je suis occupe pour l instant', 'je suis desole ce vol est plein', 'je fais encore partie de cette famille', 'je suis sur d avoir ferme le gaz', 'je suis certain d avoir ferme le gaz', 'je suis certaine d avoir ferme le gaz', 'je suis sur de l avoir vu auparavant', 'je suis sur que les choses vont se resoudre', 'je suis sure que les choses vont se resoudre', 'je suis sur que nous pouvons arranger cela', 'je suis sure que nous pouvons arranger cela', 'je suis sur que nous pouvons arranger ca', 'je suis sure que nous pouvons arranger ca', 'je suis sur que nous pouvons resoudre cela', 'je suis sure que nous pouvons resoudre cela', 'je suis surpris de vous voir ici', 'je passe un examen en janvier', 'je suis le second de trois enfants', 'je suis le seul a avoir survecu', 'je suis la seule a avoir survecu', 'je suis fatigue de toutes ces reflexions', 'j en ai marre de tous tes chichis', 'j en ai marre de manger du fast food', 'j essaye de nettoyer la maison', 'j essaye de sauver la vie de tom', 'je vais avoir trente ans en octobre', 'je suis accoutume a travailler toute la nuit', 'je suis habitue a travailler toute la nuit', 'je suis habituee a travailler toute la nuit', 'je suis tres fier de ma fille', 'j attends ma copine', 'elle parle bien anglais', 'elle sait tres bien chanter', 'elle a peur des chiens qui aboient', 'elle est aussi belle qu une rose', 'elle est totalement devouee a son mari', 'elle est actuellement en train de faire ses devoirs', 'elle adore jouer au tennis', 'elle donne une fete ce soir', 'elle est douee pour jouer au tennis', 'elle est mariee a un etranger', 'elle est mariee a un americain', 'elle ne vaut pas mieux qu une voleuse', 'elle n a peur de rien', 'elle est paralysee des deux jambes', 'elle est satisfaite par la robe', 'elle est pauvre mais elle est heureuse', 'elle fait des progres en chinois', 'elle est plus grande que sa s ur', 'elle est appreciee de tout le monde', 'elle travaille sur le probleme', 'c est vraiment une fille adorable', 'elle n est pas assez bonne pour lui', 'c est une fille mais elle est brave', 'elle est toujours occupee en semaine', 'elle est toujours occupee les jours de semaine', 'elle est aussi jolie que sa s ur', 'elle est de loin la plus grande fille', 'elle aime prendre des photos', 'elle est en train de preparer le petit dejeuner', 'elle fait juste semblant', 'elle n est ni riche ni connue', 'elle peint sa chambre en blanc', 'elle est vraiment intelligente n est ce pas ?', 'elle est six ans plus agee que moi', 'elle t attend chez elle', 'elle t attend chez nous', 'elle t attend a la maison', 'elle vous attend chez elle', 'elle vous attend chez nous', 'elle vous attend a la maison', 'ce sont tous des etudiants de la fac', 'ce sont toutes des etudiantes de la fac', 'c etaient des jeunes gens habituels', 'ils ne vont pas aider tom', 'ils ne vont pas nous attraper', 'ils sont apparentes', 'ils se sourient', 'elles se sourient', 'ils forment le dessus du panier', 'elles forment le dessus du panier', 'ils marchent pieds nus', 'on a vraiment besoin d eau', 'nous allons voyager en voiture', 'nous sommes en train d ecouter la radio', 'nous nous cherchons', 'nous ne sommes pas ici pour vous arreter', 'nous ne sommes pas ici pour t arreter', 'nous restons chez notre oncle', 'de toute facon on va tous mourir', 'nous comptons sur vous pour aider', 'nous comptons sur toi pour aider', 'nous allons avoir besoin d aide', 'nous allons peindre le mur', 'on va bien rigoler', 'on va bien s amuser', 'nous sommes la pour jouer au basket', 'nous passons seulement un bon moment', 'nous ne sommes simplement pas encore habitues a ca', 'on ne rajeunit pas', 'nous ne rajeunissons pas', 'nous regrettons de ne pas pouvoir vous aider', 'nous sommes desoles de ne pas pouvoir vous aider', 'nous sommes tres excites a ce propos', 'nous travaillons a corriger ce bug', 'tu es un beau papillon', 'tu n es qu un etudiant', 'vous etes parfois si pueril', 'vous etes parfois si puerile', 'vous etes parfois si puerils', 'vous etes parfois si pueriles', 'tu es parfois si pueril', 'tu es parfois si puerile', 'tu es le plus grand de nous tous', 'tu es deux fois plus fort que moi', 'tu es deux fois plus forte que moi', 'vous etes deux fois plus fort que moi', 'vous etes deux fois plus forte que moi', 'vous etes deux fois plus forts que moi', 'vous etes deux fois plus fortes que moi', 'tu fais un boulot excellent', 'vous faites un excellent travail', 'tu vas devoir y aller', 'vous allez adorer nos plats', 'tu vas adorer notre nourriture', 'tu es tot a la maison non ?', 'mieux vaut tard que jamais', 'personne n est trop vieux pour apprendre', 'on n est jamais trop vieux pour apprendre', 'on est jamais trop vieux pour apprendre', 'tu n es pas trop vieux pour apprendre', 'tu ne vises pas assez haut', 'vous ne visez pas assez haut', 'vous n etes pas des notres si ?', 'tu n es pas des notres si ?', 'tu n es pas content si ?', 'vous n etes pas satisfait si ?', 'tu es tire d affaire cette fois', 'tu es sur le chemin de la reussite', 'tu preches des convaincus', 'vous prechez des convaincus', 'tu preches un convaincu', 'tu preches une convaincue', 'tu preches des convaincues', 'vous prechez des convaincues', 'vous prechez une convaincue', 'vous prechez un convaincu', 'vous etes respecte de tous', 'tu es cense te reposer', 'c est vous qui m avez entraine', 'c est vous qui m avez forme', 'c est toi qui m as entraine', 'c est toi qui m as forme', 'c est toi qui m as entrainee', 'c est toi qui m as formee', 'c est vous qui m avez formee', 'c est vous qui m avez entrainee', 'vous etes celui qui m a entraine', 'vous etes celle qui m a entraine', 'vous etes celui qui m a entrainee', 'vous etes celle qui m a entrainee', 'vous etes celle qui m a forme', 'vous etes celle qui m a formee', 'vous etes celui qui m a forme', 'vous etes celui qui m a formee', 'tu es celui qui m a forme', 'tu es celui qui m a formee', 'tu es celle qui m a forme', 'tu es celle qui m a formee', 'tu es celle qui m a entraine', 'tu es celle qui m a entrainee', 'tu es celui qui m a entraine', 'tu es celui qui m a entrainee', 'tu es la seule amie que j aie', 'tu es le seul ami que j aie', 'tu as le meme age que mon fils', 'vous avez le meme age que mon fils', 'c est un garcon gai et courageux', 'c est une personne tres attentionnee', 'il est capable de nager comme un poisson', 'il sait nager comme un poisson', 'il est au dessus d un tel acte', 'il est absent de l ecole aujourd hui', 'il agit en son nom propre', 'en realite il n est pas le gerant', 'en realite il n est pas l impresario', 'en realite il n est pas le directeur', 'il a peur de son ombre', 'il oublie toujours des choses', 'il est nerveux d aller en amerique', 'il est impatient de lire le livre', 'c est loin d etre un gentleman', 'il est tout sauf un gentleman', 'il a honte de poser des questions', 'c est le chef de classe', 'il est habile a trouver des pretextes', 'il est confiant dans ses capacites', 'il profite de sa vie d ecolier', 'il est confronte a de nombreuses difficultes', 'il est connu pour etre un grand peintre', 'il est connu comme un grand peintre', 'il quittera chicago demain', 'il va quitter chicago demain', 'il est le meilleur ami de mon mari', 'il n apprend pas l anglais en ce moment', 'il est souvent absent de l ecole', 'il est une sorte de celebrite', 'il est sujet a des crises de colere', 'il souffre d un mal de dents', 'c est le seul enfant qu ils aient', 'il est responsable de l echec', 'il est trop honnete pour dire un mensonge', 'il est trop timide pour parler aux filles', 'il est trop intelligent pour ne pas le savoir', 'il travaille dans la recherche sur le sida', 'c est un jeune directeur plein de talent', 'il a peur de faire des erreurs', 'il craint de commettre des erreurs', 'il a peur de se tromper', 'il est toujours chez lui le lundi', 'il se trouve toujours a son domicile le lundi', 'il est toujours chez lui le dimanche', 'il a travaille toute la journee', 'il fait son devoir d allemand', 'il est exactement comme son grand pere', 'il tente juste d acquerir de la renommee', 'il n a jamais ete amoureux auparavant', 'jamais il n a ete amoureux auparavant', 'il n est pas vraiment minutieux', 'il est obsede par la proprete', 'il est en train de lire un roman', 'il lit un roman en ce moment', 'il est le seul a avoir survecu', 'il a trois ans de plus que moi', 'il est trois ans plus vieux que moi', 'il est enthousiasme par son nouveau travail', 'je suis inquiet pour ta sante', 'ma patience est a bout', 'je vais en amerique en avion', 'je vais en europe la semaine prochaine', 'je suis en faveur de votre proposition', 'je suis en faveur de ta proposition', 'j apprends un peu d anglais', 'je ne porte aucun sous vetement', 'je suis certain qu il a tort', 'je suis desole je ne suis pas d ici', 'je souffre d un mauvais rhume', 'je suis sur qu il reussira', 'j ai une peur terrible des serpents', 'je suis fatigue d ecouter tom', 'je suis tres interesse par la langue francaise', 'je suis beaucoup plus a l aise maintenant', 'je suis representant de commerce pour notre societe', 'je suis en fait plutot flattee', 'je suis en fait plutot flatte', 'j insiste que vous devez partir', 'je crains qu il en soit incapable', 'je crains que nous perdions la partie', 'je suis une personne extremement humble', 'je commence a perdre patience', 'je commence a apercevoir un motif', 'je commence a distinguer un schema', 'on me traite comme un enfant', 'j achete des fruits et du chocolat', 'j appelle de mon telephone cellulaire', 'je suis degoute et decu', 'je profite de ce temps chaud', 'je suis en droit a ma propre opinion', 'j attends un client aujourd hui', 'je suis fatigue de tous leurs mensonges', 'je suis ami avec de nombreux flics', 'je suis amie avec de nombreux flics', 'je suis ami avec beaucoup d entre eux', 'je vais me marier en octobre', 'je te donne encore une chance', 'je suis content de ne pas avoir ton travail', 'je suis content de ne pas avoir votre travail', 'je suis content d avoir pu le faire', 'je suis heureux que tom fut a mes cotes', 'je vais a paris a l automne', 'je vais etre pret pour ca', 'je vais appeler une ambulance', 'je vais faire autre chose', 'je vais le tuer pour ca !', 'je vais le rencontrer demain', 'ta cuisine me manquera', 'je vais le mettre dans ma chambre', 'je vais te dire un secret', 'je vais te conter un secret', 'je vais vous dire un secret', 'je vais vous conter un secret', 'je m amuse comme un fou', 'je suis impressionne par votre francais', 'je suis impressionne par ton francais', 'je suis impressionnee par votre francais', 'je suis impressionnee par ton francais', 'je suis un simple employe de bureau', 'j essaie simplement d etre amical', 'j essaie juste de faire du fric', 'je rencontre quelqu un pour diner', 'je rencontre quelqu un pour dejeuner', 'je ne suis jamais en colere sans raison', 'je ne suis pas toujours libre le dimanche', 'je n ai pas honte d etre pauvre', 'je ne suis pas certain que tom aime ca', 'je ne suis pas certaine que tom aime ca', 'je n ai peur de rien', 'je ne vais pas te revoir', 'je ne m interesse pas a la politique', 'je ne suis plus mariee avec tom', 'je ne suis plus marie avec tom', 'je ne suis pas particulierement impressionne', 'je ne suis pas particulierement impressionnee', 'je n y suis pas vraiment si interesse', 'je n y suis pas vraiment si interessee', 'je ne suis pas sur de vouloir le faire', 'je ne suis pas sure de vouloir le faire', 'je ne suis pas sur de la date exacte', 'je ne comprends rien', 'rien ne me soucie', 'je suis content de ma nouvelle veste', 'je lis le new york times', 'je suis vraiment content d etre tombe sur toi', 'je suis vraiment content d etre tombee sur toi', 'je n ai vraiment pas aussi faim que ca', 'mon ordinateur portable tourne sous linux', 'j economise pour acheter une nouvelle voiture', 'je ressens beaucoup d hostilite', 'je suis desole pour ce que j ai fait', 'je suis desole si je vous ai embarrasse', 'je suis desole si je vous ai embarrasses', 'je suis desole si je vous ai embarrassees', 'je suis desolee si je vous ai embarrasse', 'je suis desolee si je vous ai embarrassee', 'je suis desolee si je vous ai embarrassees', 'je suis desolee si je vous ai embarrasses', 'je suis desole si je t ai embarrassee', 'je suis desole si je t ai embarrasse', 'je suis desole si je te derange', 'je suis desole si mes paroles te blessent', 'je suis desole de t avoir derange !', 'je suis desole de t avoir derangee !', 'je suis desolee de t avoir derange !', 'je suis desolee de t avoir derangee !', 'je suis desole de vous avoir derange !', 'je suis desolee de vous avoir derange !', 'je suis desole de vous avoir derangee !', 'je suis desolee de vous avoir derangee !', 'je suis desole de vous avoir deranges !', 'je suis desolee de vous avoir deranges !', 'je suis desole de vous avoir derangees !', 'je suis desolee de vous avoir derangees !', 'je suis desole je ne pouvais pas t entendre', 'je suis desolee je ne pouvais pas t entendre', 'je suis desole je ne pouvais pas vous entendre', 'je suis desolee je ne pouvais pas vous entendre', 'je suis desole je n ai pas saisi cela', 'je suis desolee je n ai pas saisi cela', 'je regrette je n ai pas de monnaie', 'je suis desole je ne veux pas m immiscer', 'je suis desolee je ne veux pas m immiscer', 'je suis desole mais c est impossible', 'je suis desole ce vol est complet', 'je commence a me sentir desespere', 'je commence a me sentir desesperee', 'je suis encore en colere a cause d elle', 'c est encore moi le patron ici', 'j attends toujours ma commande', 'j attends toujours pour ma commande', 'je suis sure que tom avait une bonne raison', 'je suis sur que tom avait une bonne raison', 'je suis sure que tout ira bien', 'je suis sur que tout se passera bien', 'je suis sur qu il viendra demain', 'je suis certain qu elle va bientot surgir', 'je suis sure que tom va le faire', 'je suis sur que vous avez d autres competences', 'je suis sure que vous avez d autres competences', 'tu as surement d autres talents', 'je suis surpris que ca ait ete si facile', 'je suis le benjamin de la famille', 'je suis le plus jeune enfant', 'je suis la plus jeune enfant', 'je suis fatigue mais je vais etudier avec application', 'j ai la flemme de faire mes devoirs', 'je m entraine pour le triathlon', 'j ai l habitude de me faire a manger', 'je suis habitue a ce genre de choses', 'je suis habituee a ce genre de choses', 'je suis tres content de vous revoir', 'je suis tres content de te revoir', 'je suis tres contente de vous revoir', 'je suis tres contente de te revoir', 'je suis tres content de ma nouvelle voiture', 'je suis tres interesse par le poste', 'je suis tres en faveur de cela', 'je suis tres fier de nos etudiants', 'je suis tres fiere de nos etudiants', 'je travaille pour une entreprise de commerce', 'je repasse mes mouchoirs', 'c est une femme d une grande beaute', 'elle est toujours habillee en noir', 'elle est toujours vetue de noir', 'elle est toujours gentille avec tout le monde', 'elle est desireuse de visiter l europe', 'elle passe a la tele ce soir', 'elle est appreciee de tout le monde', 'elle est au courant de mon projet secret', 'elle est assuree d etre surprise', 'elle est certaine de venir a temps', 'elle est devouee a ses enfants', 'elle manque de sens commun', 'elle a tres peur du noir', 'elle a une conception cynique de la vie', 'elle porte une bague de prix', 'elle ne convient pas a la tache', 'elle depend de son mari', 'elle depend de son epoux', 'elle cherche un meilleur emploi', 'c est la plus belle femme', 'elle a deux ans de plus que lui', 'elle est habituee a se lever tot', 'elle s interesse beaucoup a la musique', 'elle s inquiete pour ses examens', 'ce sont des personnes pacifiques', 'ce sont tous des enfants innocents', 'ils sont toujours a court d argent', 'ils sont contents du resultat', 'ils sont en salle des professeurs', 'ils sont en salle des profs', 'ils sont loyaux envers leur maitre', 'ils ne sont pas du tout interesses', 'elles ne sont pas du tout interessees', 'ils menent grand train', 'ils vont commettre des erreurs', 'elles vont commettre des erreurs', 'ils le tiennent secret', 'ils le gardent secret', 'ils souffrent du paludisme', 'nous faisons face a une crise violente', 'nous allons partir demain', 'nous regrettons de ne pas pouvoir vous aider', 'nous sommes desoles de ne pas pouvoir vous aider', 'nous sommes tous apres la meme chose', 'nous le faisons pour l argent', 'nous avons fini de repondre aux questions', 'on retourne a la case depart', 'nous allons travailler tard', 'nous allons mourir de froid', 'nous passerons une bonne journee', 'nous allons manquer de faire ceci', 'nous manquerons de faire ceci', 'nous allons attendre dans la voiture', 'nous ne faisons rien de mal', 'nous ne sommes pas ouvert pour thanksgiving', 'nous ne sommes pas encore sortis de l auberge', 'nous planifions de faire seulement cela', 'nous sommes tellement contents de vous avoir ici !', 'nous sommes tellement contentes de vous avoir ici !', 'nous sommes tellement contents de t avoir ici !', 'nous sommes tellement contentes de t avoir ici !', 'nous attendons que tu sois parti', 'tu abuses de ton autorite', 'vous abusez de votre autorite', 'vous n etes plus le bienvenu ici', 'vous n etes plus les bienvenus ici', 'vous n etes plus les bienvenues ici', 'vous n etes plus la bienvenue ici', 'tu n es plus le bienvenu ici', 'tu n es plus la bienvenue ici', 'vous ne devez pas quitter cette piece', 'tu ne dois pas quitter cette piece', 'tu es une femme tres attirante', 'vous etes une femme tres seduisante', 'tu es autoritaire non ?', 'tu deviens tres injuste envers moi', 'vous allez adorer ce livre', 'vous adorerez ce livre', 'tu vas te bousiller les yeux', 'vous allez vous bousiller les yeux', 'tu es d une humeur etrange aujourd hui', 'tu es bien plus grand que tom', 'vous etes mes amis tous les deux', 'tu ne rajeunis pas', 'tu n es pas suffisament age pour boire', 'vous n etes pas suppose vous trouver la', 'tu n es pas suppose te trouver la', 'tu n es pas la seule femme ici', 'tu n es pas l unique femme ici', 'vous n etes pas la seule femme ici', 'vous n etes pas l unique femme ici', 'tu en fais partie n est ce pas ?', 'vous en faites partie n est ce pas ?', 'tu commences a t echauffer maintenant', 'tu restes avec tom n est ce pas ?', 'vous restez avec tom n est ce pas ?', 'c est toi qui t es emballe', 'c est vous qui vous vous etes emballe', 'c est toi qui t es emballee', 'c est vous qui vous vous etes emballee', 'tu es le seul pour moi maintenant', 'tu es la seule pour moi desormais', 'vous etes le seul desormais pour moi', 'vous etes la seule desormais pour moi', 'vous etes la plus grande personne ici', 'tu es la personne la plus grande ici', 'on vous demande au telephone', 'il est bon en anglais', 'c est un membre estime', 'c est un membre du comite', 'c est un ecrivain tres imaginatif', 'c est un ecrivain plein d imagination', 'il est sur le point de partir pour londres', 'il est absent pour cause de maladie', 'il connait le maire', 'il a peur de son grand pere', 'il a peur de faire des erreurs', 'il craint de commettre des erreurs', 'il est toujours chez lui le lundi', 'il cherche toujours les compliments', 'il fait attention a ses manieres', 'il s ameliore petit a petit', 'il va me l expliquer', 'il compte parmi mes amis', 'il fait partie de mes amis', 'c est mon frere pas mon pere', 'il n est pas aussi grand que son pere', 'il n a pas honte d etre pauvre', 'il est assez age pour conduire une voiture', 'il est fier d etre musicien', 'il est raisonnable dans ses exigences', 'il est mon parent par alliance', 'il est satisfait du resultat', 'il souffre d un mal de tete', 'il est plus grand que tous les autres garcons', 'c est l homme le plus heureux du monde', 'il est impopulaire pour une raison quelconque', 'il a tres peur de sa mere', 'il n est pas revenu de la montagne', 'c est un expert a la fronde', 'il enseigne depuis ans', 'cela fait vingt ans qu il enseigne', 'il est bon a ce genre de choses', 'il risque d etre expulse', 'il est en bonne condition physique', 'il part pour tokyo demain', 'il a vecu ici sa vie entiere', 'il a vecu ici toute sa vie', 'c est mon ami le connaissez vous ?', 'c est mon ami le connais tu ?', 'il economise pour pouvoir aller a l universite', 'il commence a se sentir desespere', 'il est habitue a parler en public', 'je suis accoutume au temps froid', 'je suis habitue a vivre seul', 'je suis habituee a vivre seule', 'je suis habitue a travailler dur', 'je suis habituee a travailler dur', 'je connais l auteur', 'j ai connaissance de cette coutume', 'je crains d avoir mange quelque chose de mauvais', 'j ai peur de devoir partir maintenant', 'je suis contre le travail du dimanche', 'j ai vraiment besoin de ton aide', 'je suis concerne par sa sante', 'je suis convaincu de son innocence', 'je connais bien ce sujet', 'je suis habitue a ce probleme', 'je repare le lave linge', 'je me rends a un pic nic demain', 'je vais a la piscine', 'je ne suis pas toujours libre le dimanche', 'je n ai peur de rien', 'je ne suis absolument pas surpris', 'je suis soulage que vous soyez sain et sauf', 'je vais voir mary cet apres midi', 'je vois mary cette apres midi', 'veuillez m excuser de vous avoir derange', 'je pense a mes enfants', 'je suis en train de penser a cette affaire', 'je suis trop fatigue pour marcher davantage', 'je suis tres sensible au froid', 'je crains de ne pas avoir d experience', 'j ai bien peur qu il pleuve demain', 'j ai peur qu il pleuve ce soir', 'je crains que ce ne soit pas si simple', 'je crains d etre eventuellement en retard', 'je crains que tu m aies mal compris', 'je crains que tu m aies mal comprise', 'actuellement je me trouve a l aeroport de narita', 'je suis occupe a preparer le voyage', 'je reflechis a aller avec eux', 'je suis employe par un avocat francais', 'j attends une lettre d elle', 'je ressens des brulures d estomac', 'je suis habitue a la situation', 'je suis habituee a la situation', 'je suis ami avec tous ces gars la', 'je me marie dimanche prochain', 'je me prepare au pire', 'je suis content que tu ailles de nouveau bien', 'je pars en vacances la semaine prochaine', 'j irai a new york la semaine prochaine', 'je vais demander un nouveau bureau', 'je vais attraper le bus suivant', 'je vais appeler la police', 'je vais lancer sur toi une malediction', 'je vais lancer sur vous une malediction', 'je vais prendre quelques photos', 'je vais te donner une lecon', 'je vais vous donner une lecon', 'je vais te dire la verite', 'je vais au commissariat', 'je suis heureux d annoncer que nous avons gagne', 'je suis aussi perplexe que vous l etes', 'je suis aussi perplexe que tu l es', 'je reviens a l essentiel', 'je suis content que personne n ait ete tue', 'je m inquiete pour moi', 'je suis assez occupe tom', 'je pars pour le canada demain', 'je quitte la ville pour quelques jours', 'je m eloigne de la ville pour quelques jours', 'je cherche un correspondant francais', 'je cherche un travail a mi temps', 'je cherche une chambre a louer', 'je n ai plus peur des araignees', 'je ne suis pas medecin mais professeur', 'je ne suis pas medecin mais enseignant', 'je ne suis pas medecin mais instituteur', 'je n ai pas peur d etre critique', 'je ne suis pas plus intelligent que lui', 'je ne vais pas me disputer avec toi !', 'je ne vais pas me disputer avec vous !', 'je ne vais pas fermer la porte', 'je ne vais pas jouer a ce jeu', 'je ne vais pas vous le repeter', 'je ne vais pas te le repeter', 'je ne vais pas gaspiller mon argent', 'je ne suis pas bon pour parler en public', 'je ne suis pas bonne pour parler en public', 'il n y a pas le feu au lac', 'je ne suis pas si presse', 'je ne suis pas si pressee', 'je ne suis pas tant presse', 'je ne suis pas tant pressee', 'je ne vis plus avec lui', 'je ne suis pas encore pret a faire cela', 'je ne suis pas assez riche pour acheter ca', 'je ne suis pas sur d y etre pret', 'je ne suis pas sure d y etre prete', 'je ne suis pas sur que ce soit correct', 'je ne prends pas non pour une reponse', 'je suis evidemment tres decu', 'je suis evidemment tres decue', 'je ne le dirai pas deux fois', 'je ne vais le dire qu une seule fois', 'je ne vais vous le montrer qu une fois', 'je ne vais te le montrer qu une fois', 'je suis assez sur que tom est competent', 'je suis plutot surpris d entendre cela', 'je suis en train de lire un livre interessant', 'je suis pret pour mon prochain defi', 'je suis pret a affronter n importe quel defi', 'je suis pret a retrousser mes manches', 'je suis pret a jeter l eponge', 'je manque d espace dans ma penderie', 'je manque d espace dans mon placard', 'je suis satisfait de ses progres', 'j economise pour ma vieillesse', 'meme maintenant je suis en quete d une solution', 'en ce moment je manque de liquidites', 'j ai sommeil alors je pars maintenant', 'je suis si desole de t avoir menti', 'je suis si desolee de t avoir menti', 'je suis desole de la reponse tardive', 'je suis desole de t avoir derange', 'je suis desolee de t avoir derange', 'je suis desole de vous avoir derange', 'je suis desolee de vous avoir derange', 'je suis desole je ne parle pas francais', 'je suis desolee je ne parle pas francais', 'je suis desole je ne parle pas le francais', 'je suis desolee je ne parle pas le francais', 'je suis desole mon pere n est pas la', 'je suis desolee mon pere n est pas la', 'je suis sur que tom serait ravi', 'je suis sure que tom serait ravi', 'je suis certain que ca ira', 'je prends deux jours de conge', 'je pars en vacances pour quelques jours', 'je prends quelques jours de conge', 'j ai trente ans de plus que toi', 'j ai trente ans de plus que vous', 'j en ai marre qu il m engueule', 'je suis trop occupe pour te parler maintenant', 'je suis trop fatigue pour sortir courir', 'je suis tres reconnaissant pour votre aide', 'je suis tres satisfait de mon achat', 'je suis tres impressionne par votre travail', 'je suis tres heureux de ton travail', 'je suis ravi de votre travail', 'j attends qu il revienne', 'j attends ton aide', 'j attends de voir si c est vrai', 'c est une voisine des plus courtoises', 'elle est experte en mathematiques', 'elle est inquiete pour sa securite', 'elle est maigre comme un manche a balai', 'il lui fait du chantage', 'il exerce sur elle du chantage', 'elle est certaine de reussir les examens', 'elle lui est vaguement apparentee', 'elle lui est apparentee de maniere lointaine', 'elle attend un bebe pour juin', 'elle parle bien anglais', 'elle cherche ses cles de voiture', 'elle cherche les cles de sa voiture', 'elle fait un regime pour perdre du poids', 'elle est deux ans plus vieille que vous', 'elle est deux ans plus vieille que toi', 'elle est plus vieille que vous de deux ans', 'elle est plus vieille que toi de deux ans', 'elle a deux ans de plus que toi', 'elle a deux ans de plus que vous', 'elle est une personne tres interessante', 'elle demande l impossible', 'elle est bonne pour se debrouiller avec les enfants', 'elle est materialiste et superficielle', 'elle n admet pas son erreur', 'elle a six ans de plus que moi', 'elle est six ans plus agee que moi', 'elle est inquiete de ta securite', 'elle est inquiete pour ta securite', 'elle est inquiete pour votre securite', 'ils sont au broadway avenue', 'ils discutent du probleme', 'elles sont des etats unis', 'ils sont jaloux de notre succes', 'ils jalousent notre succes', 'elles sont jalouses de notre succes', 'elles jalousent notre succes', 'ils quittent le japon demain', 'elles parlent dans la cuisine', 'ils veulent bien nous aider', 'ils cherchent un bouc emissaire', 'elles cherchent un bouc emissaire', 'nous sommes inquiets pour leur securite', 'nous quittons le japon le mois prochain', 'je suis assez d accord avec vous', 'nous sommes concurrents pas partenaires', 'nous sommes concurrents non partenaires', 'nous sommes concurrentes pas partenaires', 'nous nous faisons du souci pour votre securite', 'nous nous soucions de ta securite', 'nous allons beaucoup nous amuser', 'nous nous appretons justement a manger', 'nous ne travaillons plus pour tom', 'nous ne sommes pas en train de nous repentir', 'nous avons aujourd hui un emploi du temps charge', 'nous travaillons aussi vite que nous pouvons', 'nous travaillons aussi vite que nous le pouvons', 'vous etes bon cuisinier n est ce pas ?', 'tu es bon cuisinier non ?', 'tu es bonne cuisiniere n est ce pas ?', 'vous etes bonne cuisiniere non ?', 'tu es toujours aussi affaire qu une abeille', 'tu doutes toujours de ma parole', 'tu es suffisamment vieux pour savoir ca', 'tu es deux fois plus fort que moi', 'tu es deux fois plus forte que moi', 'vous etes deux fois plus fort que moi', 'vous etes deux fois plus forte que moi', 'vous etes deux fois plus forts que moi', 'vous etes deux fois plus fortes que moi', 'le bleu vous sied superbement', 'le bleu vous va tres bien', 'vous etes tres jolie en bleu', 'vous etes la de bonne heure ce matin !', 'tu es l ami de tom pas vrai ?', 'vous etes decue n est ce pas ?', 'vous etes decues n est ce pas ?', 'vous etes decus n est ce pas ?', 'vous etes decu n est ce pas ?', 'tu es decue n est ce pas ?', 'tu es decu n est ce pas ?', 'vous avez fini de travailler non ?', 'tu as fini de travailler non ?', 'tu n es pas citadine si ?', 'vous n etes pas citadine si ?', 'tu n es pas autorise a manger ceux ci', 'tu n es pas autorise a manger ceux la', 'tu n es pas autorisee a manger ceux ci', 'tu n es pas autorisee a manger ceux la', 'vous n etes pas autorise a manger ceux ci', 'vous n etes pas autorise a manger ceux la', 'vous n etes pas autorisee a manger ceux ci', 'vous n etes pas autorisee a manger ceux la', 'vous n etes pas autorises a manger ceux ci', 'vous n etes pas autorises a manger ceux la', 'vous n etes pas autorisees a manger ceux la', 'vous n etes pas autorisees a manger ceux ci', 'vous n etes pas autorise a vous garer ici', 'tu n es pas autorisee a te garer ici', 'tu n es pas autorise a te garer ici', 'vous n etes pas autorisee a vous garer ici', 'tu n es pas des leurs si ?', 'vous n etes pas des leurs si ?', 'tu es de toute evidence en grande forme', 'vous etes toujours celibataire n est ce pas ?', 'tu es toujours celibataire pas vrai ?', 'tu es le meilleur pour ce travail', 'tu es le meilleur pour le boulot', 'tu es le champion n est ce pas ?', 'vous etes le champion n est ce pas ?', 'tu es la seule canadienne que je connaisse', 'tu es le seul canadien que je connaisse', 'tu gaspilles notre temps a tous les deux', 'vous gaspillez notre temps a tous les deux', 'je ne suis pas fatigue moi non plus', 'c est un homme qui adore les ceremonies', 'c est un champion du monde en puissance', 'il est lyceen', 'le garcon est un loup deguise en mouton', 'il a l habitude de travailler dur', 'il a connaissance de la tradition', 'il est devant nous en mathematiques', 'il perd tout le temps son parapluie', 'il se moque toujours de moi', 'il est impatient de connaitre le resultat', 'il commence a perdre ses cheveux', 'il aime beaucoup ce genre de musique', 'il aime ce genre de musique', 'il est en bonne condition physique', 'il est independant de ses parents', 'il vit separe de sa femme', 'il n est pas chanteur mais acteur', 'il n est pas aussi grand que son frere', 'il n est rien d autre qu un lache', 'il est assez grand pour voyager seul', 'il est content de ses nouvelles chaussures', 'il reste avec sa famille', 'il est toujours assis sur le banc', 'il est encore assis sur le banc', 'il est le chef de mon departement', 'il est pere de deux fils', 'c est le plus grand artiste vivant', 'il est deux fois plus lourd que sa femme', 'il est tres radin avec son argent', 'il est tres apprecie de ses etudiants', 'c est vraiment un homme de parole', 'il est anglais mais habite en inde', 'c est le portrait crache de son pere', 'c est un pleurnichard comme toujours', 'il est photographe professionnel', 'il devient ramollo avec l age', 'il n a pas du tout peur des serpents', 'il ne craint pas du tout les serpents', 'il est assez vieux pour etre son pere', 'il est assis dans la salle d attente', 'il est assis en salle d attente', 'il a trois ans de plus que moi', 'il est recherche pour vol de vehicule', 'j ai honte du comportement de mon fils', 'je suis convaincu de ton innocence', 'je m attendais a une lettre de sa part', 'je suis d accord avec cette proposition', 'je suis interesse par l histoire de l asie', 'je quitte la ville pour quelques jours', 'je m eloigne de la ville pour quelques jours', 'je cherche une bijouterie', 'je perds patience avec toi', 'je perds patience avec vous', 'je suis mariee et j ai deux fils', 'je suis marie et j ai deux fils', 'je ne suis pas medecin mais professeur', 'je ne suis pas medecin mais enseignant', 'je ne suis pas medecin mais instituteur', 'je ne suis pas la personne que je fus', 'je ne suis pas la personne que j etais', 'je suis responsable de cette erreur', 'je me prends quelques jours libres', 'je prends quelques jours de conge', 'merci pour le repas je vous en suis reconnaissant', 'j en ai assez de ma vie monotone', 'je suis tres heureux de te rencontrer aujourd hui', 'je suppose que c est votre pere', 'je suppose que c est ton pere', 'je suppose qu il s agit de votre pere', 'je suppose qu il s agit de ton pere', 'je suis etonne par son habilete', 'je suis consciente de mes responsabilites', 'je suis conscient de mes responsabilites', 'j ai froid puis je fermer la fenetre ?', 'je me rejouis que tout soit termine', 'j en ai marre de ce temps humide', 'je descends au prochain arret', 'je me fais trop vieux pour ce travail', 'je m habitue a manger seul', 'je m habitue a manger seule', 'je suis heureux d entendre parler de ton succes', 'je suis heureux d entendre parler de votre succes', 'heureux de vous voir en un seul morceau !', 'heureuse de vous voir en un seul morceau !', 'heureux de te voir en un seul morceau !', 'heureuse de te voir en un seul morceau !', 'je suis content que tu m aies demande conseil', 'je vais en amerique cet ete', 'je vais m absenter pendant un certain temps', 'je vais couper cet arbre', 'je vais prendre le bus suivant', 'je vais devoir me teindre les cheveux', 'je vais avoir besoin de plus de temps', 'je vais avoir besoin de davantage de temps', 'je vais reecrire ce rapport', 'je vais envoyer de l argent a tom', 'je suis seulement un peu occupe en ce moment', 'je suis juste un employe de bureau normal', 'je suis juste preoccupe par mon poids', 'je suis juste preoccupee par mon poids', 'j attends la fete avec impatience', 'je suis davantage qu un joli visage', 'je ne peux pas reparer l ordinateur', 'je ne te cache rien', 'je ne suis pas au courant de leurs decisions', 'je ne suis pas qualifie pour faire ce travail', 'je n essaie d impressionner personne', 'je suis satisfait de sa performance', 'je suis satisfaite de sa performance', 'je suis satisfait de sa representation', 'je suis satisfaite de sa representation', 'je suis satisfait de sa prestation', 'je suis satisfaite de sa prestation', 'je suis deja pratiquement adulte', 'il est probable que je suis juste paranoiaque la', 'je suis responsable de la securite de tom', 'je n en peux plus des hamburgers', 'je suis desolee d avoir rate ton anniversaire', 'je suis desole d avoir rate votre anniversaire', 'je suis desole de vous deranger si souvent', 'je suis desolee de vous deranger si souvent', 'je suis desole de te deranger si souvent', 'je suis desolee de te deranger si souvent', 'je suis desole de vous ennuyer si souvent', 'je suis desolee de vous ennuyer si souvent', 'je suis desole de t ennuyer si souvent', 'je suis desolee de t ennuyer si souvent', 'je suis desole je ne vous reconnais pas', 'je suis desole je ne vous remets pas', 'je suis desole je ne te reconnais pas', 'je suis desole je ne te remets pas', 'je suis desolee je ne vous remets pas', 'je suis desolee je ne te remets pas', 'je suis desolee je ne te reconnais pas', 'je suis desolee je ne vous reconnais pas', 'desole je voulais juste donner un coup de main', 'je suis desolee mais tu dois partir', 'je suis desole mais tu dois partir', 'je suis desolee mais vous devez partir', 'je suis desole mais vous devez partir', 'je suis desole ca ne se reproduira pas', 'je suis desolee ca ne se reproduira pas', 'je souffre encore a cause du decalage horaire', 'je suis convaincu d avoir le bon numero', 'je suis sur que tout ira bien', 'je suis sure que tout ira bien', 'je suis persuade qu il viendra a temps', 'je suis certain qu elle va tous nous manquer', 'je suis certain que ce ne sera pas necessaire', 'je suis certaine que ce ne sera pas necessaire', 'je suis certain que vous avez beaucoup de questions', 'je suis certain que vous ne me decevrez pas', 'je suis certain que tu ne me decevras pas', 'je suis certaine que vous ne me decevrez pas', 'je suis certaine que tu ne me decevras pas', 'je m occupe de mon grand pere', 'je prends soin de mon grand pere', 'je suis le seul a pouvoir faire cela', 'je suis la seule qui peut faire cela', 'je suis le plus grand de la classe', 'je suis trois ans plus jeune que toi', 'je suis fatigue de regarder la television', 'je suis trop fatigue pour faire mes devoirs', 'j ai trop sommeil pour faire mes devoirs', 'je suis trop fatigue pour marcher plus longtemps', 'je suis vraiment desole pour l erreur', 'j attends qu elle vienne ici', 'je suis d accord d accepter votre offre', 'elle est belle comme sa mere', 'elle est convaincue de mon innocence', 'elle est familiere du sujet', 'elle adore chanter de vieilles chansons', 'elle va mieux de jour en jour', 'elle n est pas infirmiere mais docteur', 'elle n est pas poete mais romanciere', 'elle est pauvre mais elle a l air heureuse', 'elle est actuellement en train de pratiquer le violon', 'c est elle qui nourrit notre chien', 'elle est deux ans plus jeune que moi', 'elle a deux ans de moins que moi', 'elle ressemble beaucoup a sa mere', 'c est une femme d affaire a succes', 'c est une violoniste d une certaine renommee', 'elle est une violoniste d un certain renom', 'c est une jeune fille intelligente', 'elle demande comment c est possible', 'elle est raide dingue de lui', 'elle a cinq ans de moins que moi', 'sa nouvelle robe lui plait', 'elle a promis qu elle allait m appeler', 'ce sont tous deux des collegues a moi', 'ils devraient venir d un moment a l autre', 'ils attendent que vous les aidiez', 'ils attendent que tu les aides', 'ce sont ceux qui veulent y aller', 'ce sont celles qui veulent y aller', 'ce sont ceux qui veulent partir', 'ce sont celles qui veulent partir', 'ce sont ceux qui veulent s y rendre', 'ce sont celles qui veulent s y rendre', 'ils ne nous disent pas la verite', 'ils sont a peine payes le smic', 'ils distribuent des echantillons gratuits', 'ils ne nous disent pas la verite', 'nous sommes anxieux a propos de ta sante', 'nous sommes tous tres inquiets pour toi', 'nous choisissons parmi ces idees', 'nous aurons un examen aujourd hui', 'nous ne sommes plus vraiment amies', 'nous attendons le bon moment', 'nous gachons un temps precieux', 'vous avez droit a votre opinion', 'tu as droit a ton opinion', 'tu regardes tout le temps la tele', 'tu n es pas autorise a stationner la', 'vous n etes pas autorises a stationner la', 'tu n es pas cense nager ici', 'vous n etes pas censes nager ici', 'vous n etes pas cense nager ici', 'vous n etes pas censees nager ici', 'vous n etes pas censee nager ici', 'tu n es pas censee nager ici', 'tu te comportes comme un petit enfant', 'tu vas devoir appeler tom', 'vous allez devoir appeler tom', 'tu es en meilleure forme que moi', 'tu es chanceux d avoir un travail', 'tu es chanceuse d avoir un travail', 'vous etes chanceux d avoir un travail', 'vous etes chanceuse d avoir un travail', 'vous faites une grossiere erreur', 'tu fais une grave erreur', 'tu ne me soutiens pas beaucoup', 'vous ne me soutenez pas beaucoup', 'tu ne pretes meme pas attention', 'vous ne pretez meme pas attention', 'tu ne vas pas le croire', 'vous n allez pas le croire', 'vous n interrompez rien', 'vous n interrompez rien du tout', 'vous ne restez pas ici si ?', 'tu ne restes pas ici si ?', 'tu es assez vieux pour savoir mieux', 'tu devrais le savoir a ton age', 'tu n es plus en prise avec la realite', 'vous n etes plus en prise avec la realite', 'vous me mettez les mots dans la bouche', 'c est un monsieur', 'il est capable de parler langues', 'c est un assistant en archeologie', 'il est capable d oublier le nom des gens', 'il est occupe a preparer son voyage', 'il s affaire aux preparatifs du voyage', 'c est par nature une personne genereuse', 'il est entre a cette universite', 'il est connu dans le pays entier', 'il est marie a une americaine', 'il n est pas plus stupide que toi', 'il n est pas aussi malin que mon frere', 'il n a pas du tout peur des serpents', 'il n est qu un reveur', 'il est assez age pour le comprendre', 'il est prompt a exprimer ses inquietudes', 'il etudie a la bibliotheque maintenant', 'il est le meilleur joueur de notre equipe', 'c est le fils d une riche famille', 'il doit venir ici a six heures', 'il va venir chez moi ce soir', 'il est trop jeune pour y aller seul', 'il n est pas content du resultat', 'il est insatisfait du resultat', 'il est tres doue pour jouer du violon', 'il est tres sensible a la critique', 'il marche en direction de la gare', 'tout le monde parle de lui en bien', 'il est un peu rugueux', 'il est un peu reveche', 'il est un peu plus grand que vous', 'il craint d etre en retard', 'il est toujours a court de liquide', 'c est un expert du lancer de couteaux', 'il est force de remarquer votre erreur', 'il a decide de quitter la troupe', 'il va avoir une attaque cardiaque', 'il a eu beaucoup d experiences malheureuses', 'il n est pas sur de vouloir le faire', 'c est lui qui est a la traine', 'il est deux ans plus vieux que mary', 'il a deux ans de plus que mary', 'il porte une chemise de coton blanc', 'je peux nager dans la riviere', 'j ai honte de la paresse de mon fils', 'je suis determine a devenir un scientifique', 'j en ai assez de ce temps humide', 'j en ai marre de ce temps humide', 'je suis heureuse que vous ayez reussi', 'je me rends a un concert la semaine prochaine', 'je vais a un concert la semaine prochaine', 'je vais aller a un concert la semaine prochaine', 'j attends noel avec impatience', 'je suis pret a tout faire pour vous', 'je suis pret a tout faire pour toi', 'je suis prete a tout faire pour toi', 'je suis prete a tout faire pour vous', 'je suis certain que nous avons beaucoup en commun', 'je suis trop fatigue pour continuer de marcher', 'j ai peur d avoir pris le mauvais train', 'j ai peur qu elle ait les oreillons', 'j ai peur que nous n en ayons plus', 'j ai honte de dire que c est vrai', 'je fais attention a ne pas trop depenser', 'je suis sur que vous allez reussir', 'je suis sur que tu vas reussir', 'je suis certain que tu reussiras', 'j irai a izu pendant le week end', 'je vais rejoindre une manifestation', 'je vais avoir besoin de plus d argent', 'heureux de vous voir en un seul morceau !', 'heureuse de vous voir en un seul morceau !', 'heureux de te voir en un seul morceau !', 'heureuse de te voir en un seul morceau !', 'je suis impressionne que tu aies si bien reussi', 'je suis impressionnee que vous ayez si bien reussi', 'je suis totalement d accord', 'je suis amoureux d une fille geniale', 'je pars ce soir pour l australie', 'je cherche un sac pour ma femme', 'je cherche un sac pour mon epouse', 'je me rejouis de le voir', 'j ai hate de vous voir', 'je suis chanceux de t avoir comme ami', 'je suis chanceux de vous avoir comme ami', 'je suis chanceux de t avoir comme amie', 'je suis chanceuse de t avoir comme ami', 'je suis chanceuse de vous avoir comme ami', 'je suis chanceuse de t avoir comme amie', 'je suis chanceuse de vous avoir comme amie', 'je suis chanceuse de t avoir pour ami', 'je suis chanceuse de t avoir pour amie', 'je suis chanceux de t avoir pour ami', 'je suis chanceux de t avoir pour amie', 'je suis chanceux de vous avoir pour ami', 'je suis chanceux de vous avoir pour amie', 'je suis chanceuse de vous avoir pour amie', 'je suis chanceux de vous avoir comme amie', 'je suis chanceuse de vous avoir pour ami', 'je ne suis pas libre cette apres midi', 'je ne te donnerai pas davantage d argent', 'je ne vous donnerai pas davantage d argent', 'je ne vais pas te dire mon nom', 'je ne vais pas vous dire mon nom', 'je ne suis pas content de cette situation', 'ca ne me fait pas du tout peur', 'je ne suis pas la seule avec un enfant', 'je ne suis pas le seul avec un enfant', 'je suis souvent compare a mes freres', 'je suis certain que tom pourrait le faire', 'je suis fier de le tenir pour ami', 'je suis fier de l avoir pour ami', 'je suis tres flatte d entendre cela', 'je suis tellement gene que je veux mourir', 'je suis tellement genee que je veux mourir', 'je suis desole de t avoir entraine la dedans', 'je suis desolee de t avoir entraine la dedans', 'je suis desole de t avoir entrainee la dedans', 'je suis desole de vous avoir entraine la dedans', 'je suis desolee de vous avoir entraine la dedans', 'je suis desole de vous avoir entrainees la dedans', 'je suis desole de vous avoir entraines la dedans', 'je suis desolee de vous avoir entraines la dedans', 'je suis desolee de vous avoir entrainee la dedans', 'je suis desole de t appeler au travail', 'je suis desole de vous appeler au travail', 'je suis desolee de t appeler au travail', 'je suis desolee de vous appeler au travail', 'je suis desole je ne vous ai pas reconnu', 'je suis desole je ne vous ai pas reconnue', 'je suis desole je ne vous ai pas reconnus', 'je suis desole je ne vous ai pas reconnues', 'je suis desole je ne t ai pas reconnu', 'je suis desole je ne t ai pas reconnue', 'je suis desolee je ne t ai pas reconnu', 'je suis desolee je ne t ai pas reconnue', 'je suis desolee je ne vous ai pas reconnues', 'je suis desolee je ne vous ai pas reconnus', 'je suis desolee je ne vous ai pas reconnue', 'je suis desolee je ne vous ai pas reconnu', 'je suis desole mais je ne comprends pas', 'je suis desolee mais je ne comprends pas', 'je suis desole nous n acceptons pas les cheques', 'excusez moi je me suis trompe de numero', 'j attends toujours ta reponse', 'j attends toujours votre reponse', 'je suis sure que ca va te plaire', 'je suis sur que ca va te plaire', 'je prends mon apres midi demain', 'je suis l homme le plus heureux du monde', 'je suis l homme le plus heureux au monde', 'je suis en train de penser a autre chose', 'je suis trop fatigue pour continuer de marcher', 'je suis ravie de te rencontrer enfin', 'je suis tres conscient du danger', 'je suis extremement consciente du danger', 'je suis ce que le monde appelle un idiot', 'je suis partant pour aller ou que tu ailles', 'elle est apparemment une honnete femme', 'elle a aux alentours de vingt ans', 'elle est belle comme blanche neige', 'elle est belle comme sa mere', 'elle a honte de ses vieux vetements', 'elle a honte de ce qu elle a fait', 'elle ecrit constamment des lettres', 'elle est constamment en train d ecrire des lettres', 'elle a cinq ans de moins que moi', 'elle est davantage mignonne que belle', 'elle est en bons termes avec lui', 'elle lui est apparentee par alliance', 'elle voyage autour du monde', 'elle est incapable de faire face a la tension', 'elle est tres fiere de sa fille', 'elle travaille dur ce semestre', 'elle est photographe professionnelle', 'elle est en train de coucher les enfants', 'elle porte un chapeau qui a l air superbe', 'ce ne sont pas des ennemis mais des amis', 'ce ne sont pas des ennemies mais des amies', 'ils sont en train de lire leurs journaux', 'ils epandent les arbres fruitiers', 'elles vivent dans un monde de fantaisie', 'ce sont deux choses absolument differentes', 'on est tous impatients de voir le film', 'nous nous occupons de notre planete', 'nous en sommes en partie responsables', 'nous partons pour hawai ce soir', 'nous sommes desoles pour l interruption', 'nous sommes desolees pour l interruption', 'nous sommes supposes connaitre les regles', 'nous craignons de manquer notre train', 'nous ne demandons pas vraiment d argent', 'nous ne sommes pas si differents toi et moi', 'nous sommes dans le petrin', 'nous travaillons dans un budget limite', 'tu attends trop d elle', 'tu es trop jeune pour voyager seul', 'vous etes trop jeune pour voyager seul', 'vous etes trop jeune pour voyager seule', 'vous etes trop jeunes pour voyager seuls', 'vous etes trop jeunes pour voyager seules', 'tu es trop jeune pour voyager seule', 'vous vous embrouillez a nouveau non ?', 'tu t embrouilles a nouveau non ?', 'vous etes libere de toute responsabilite', 'vous etes liberee de toute responsabilite', 'vous etes liberees de toute responsabilite', 'vous etes liberes de toute responsabilite', 'tu es libere de toute responsabilite', 'tu es liberee de toute responsabilite', 'vous etes precisement l homme que je veux voir', 'tu es precisement l homme que je veux voir', 'vous n etes pas cense etre la dedans', 'vous n etes pas censee etre la dedans', 'vous n etes pas censes etre la dedans', 'vous n etes pas censees etre la dedans', 'tu n es pas cense etre la dedans', 'tu n es pas censee etre la dedans', 'tu es si belle dans cette robe !', 'tu es tellement belle dans cette robe !', 'vous etes si belle dans cette robe !', 'vous etes tellement belle dans cette robe !', 'vous etes le dernier espoir de l humanite', 'tu es le dernier espoir de l humanite', 'je ne pense qu a toi', 'nul autre que toi ne peut le faire', 'vous etes tres religieux n est ce pas ?', 'vous etes tres religieuses n est ce pas ?', 'vous etes tres religieuse n est ce pas ?', 'tu es tres religieux n est ce pas ?', 'tu es tres religieuse n est ce pas ?', 'il est reporter pour le time', 'il peut parler cinq langues', 'il a peur de prendre l avion', 'il regarde toujours vers l avenir', 'il est capitaine de l equipe de football', 'il est content de sa vie simple', 'il est fiance a ma jeune s ur', 'il est moins severe que notre professeur', 'il est surement en retard pour l ecole', 'il est considere comme leur chef', 'il est follement amoureux de cette fille', 'il est fou amoureux de cette fille', 'il ne porte aucun interet a l art', 'il n est pas tres bon en mathematiques', 'il est responsable de cet accident', 'il est responsable de l accident', 'il est quelquefois absent de l ecole', 'il est cense etre chez lui aujourd hui', 'il parle horriblement mal anglais', 'il est pere de trois enfants', 'il est fatigue de regarder la television', 'il deambule aux alentours en transe', 'il a environ votre age', 'il est meilleur que moi au piano', 'il est nerveux et facilement effraye', 'il n est pas toujours chez lui le dimanche', 'il n est pas doue pour retenir les noms', 'il est le mouton noir de la famille', 'il est le president du comite', 'je suis etudiant a l universite de hyogo', 'je suis presque aussi grand que mon pere maintenant', 'je suis habitue a veiller tard', 'je crains qu il commette une erreur', 'j ai peur qu il commette une erreur', 'je crains qu il ne commette une erreur', 'j ai peur qu il ne commette une erreur', 'j ai peur qu il ne se blesse', 'je crains que vous vous egariez', 'je crains que vous vous perdiez', 'je crains que tu te perdes', 'je crains que tu t egares', 'j ai peur de sauter par dessus le fosse', 'je suis convaincu de son innocence', 'je suis convaincu qu il est innocent', 'je suis resolu a arreter de fumer', 'je doute qu il vienne', 'je vais quitter mon emploi actuel', 'je prevois de jouer au football demain', 'demain je jouerai au football', 'je vous suis reconnaissant pour votre aide', 'prendre des photos m interesse', 'je suis impatient de vous rencontrer', 'je suis mariee et j ai deux enfants', 'je suis en bons termes avec mon frere', 'je repare le lave linge', 'je reste pour quelques autres semaines', 'je suis sur que c est un homme honnete', 'je prends des vacances a la plage', 'je songe a demissionner immediatement', 'je suis tres fatigue par le dur labeur', 'je suis tres fatiguee par le dur labeur', 'j attends que le magasin ouvre', 'je baille parce que j ai sommeil', 'ca me va de n avoir qu un ami', 'n avoir qu un ami me convient', 'je commence a voir ce que tu veux dire', 'je commence a percevoir ce que vous voulez dire', 'je suis content que la pluie se soit arretee', 'je suis heureux que tu puisses rencontrer tom', 'je me rends a un rassemblement de camions geants', 'je vais sortir cet apres midi', 'je vais partir une nuit plus tot', 'je vais t enseigner un peu de karate', 'je vais vous enseigner un peu de karate', 'je vais t enseigner des rudiments de karate', 'je vais vous enseigner des rudiments de karate', 'j ai faim car je n ai pas mange', 'je suis interesse par la ceramique orientale', 'je suis interessee par la ceramique orientale', 'je ne suis qu un simple employe de bureau', 'je cherche un cadeau pour ma femme', 'je cherche un cadeau pour mon epouse', 'je connais mal les poetes francais', 'je ne vais rien y faire', 'je ne suis pas bon pour classer les choses', 'classer les choses n est pas mon fort', 'je ne suis pas interesse par ton opinion', 'je ne suis pas interessee par ton opinion', 'je ne suis pas interesse par votre opinion', 'je ne suis pas interessee par votre opinion', 'je ne dors pas vraiment je sommeille', 'je suis presque aussi grand que mon pere maintenant', 'je suis en bequilles pour un mois', 'je suis satisfait de leur representation', 'je suis satisfaite de leur representation', 'je suis satisfait de leur prestation', 'je suis satisfaite de leur prestation', 'je suis satisfait de leur performance', 'je suis satisfaite de leur performance', 'je me sens etrange d une certaine maniere', 'je ne suis vraiment pas suppose faire ca', 'je ne suis vraiment pas supposee faire ca', 'je ne suis vraiment pas tres bon en francais', 'je ne suis vraiment pas tres bonne en francais', 'je commence vraiment a m inquieter', 'j en ai assez des conferences ces temps ci', 'je suis desole de devoir te laisser seul', 'je suis desole de vous avoir fait attendre', 'je suis desole nous ne pouvons rester plus longtemps', 'je suis desolee nous ne pouvons rester plus longtemps', 'je suis desole je ne me rappelle pas vraiment', 'je suis desolee je ne me rappelle pas vraiment', 'je suis sure de remporter le match de tennis', 'je suis surpris que vous ignoriez cela', 'je suis surprise que vous ignoriez cela', 'je suis surpris que tu ignorais cela', 'je suis surprise que tu ignorais cela', 'je pense diner a heures', 'je suis trop vieux pour ce genre de choses', 'je suis trop vieille pour ce genre de choses', 'j essaye de recuperer mes enfants', 'je suis tres lent pour me decider', 'elle sait parler dix langues', 'elle a peur de retomber malade', 'elle essaie toujours de lui faire plaisir', 'elle compte parmi ceux dont on est sans nouvelles', 'elle est occupee a preparer le voyage', 'elle est en relation avec cette societe', 'elle va apprendre a conduire', 'elle souffre d une mauvaise audition', 'elle apprend a conduire une voiture', 'elle est trop jeune pour connaitre la verite', 'elle a beaucoup de succes aupres des garcons', 'elle est vraiment attentive et patiente', 'elle est bien plus intelligente qu elle ne parait', 'c est une fille intelligente et independante', 'elle est approximativement de la meme taille que toi', 'elle cuisine aussi bien que sa mere', 'elle a cinq ans de moins que moi', 'elle donne a chaque enfant deux pommes', 'elle a l il pour la peinture', 'elle plante des roses dans le jardin', 'elle n est pas plus belle que sa mere', 'ils sont conscients des difficultes', 'ils sont decus par leur fils', 'ils se voient confrontes a des difficultes financieres', 'ils sont fiers de l intelligence de leur fils', 'ils sont de retour la ou ils veulent etre', 'elles sont de retour la ou elles veulent etre', 'ils bronzent autour de la piscine', 'elles bronzent autour de la piscine', 'nous sommes habitues a porter des chaussures', 'nous sommes habituees a porter des chaussures', 'nous sommes tous avides de connaitre la verite', 'nous sommes a l ere de l energie nucleaire', 'nous jouons au tennis ce week end', 'nous sommes desoles pour le derangement', 'nous sommes desolees pour le derangement', 'nous voyageons avec un budget serre', 'nous voyageons a petit budget', 'nous faisons beaucoup de choses', 'nous aurons une nouvelle voiture le mois prochain', 'nous allons essayer a nouveau', 'on va essayer encore une fois', 'nous cherchons l un de nos amis', 'nous cherchons un endroit ou dormir', 'nous ne le faisons pas pour l argent', 'on ne reussira pas a arriver a l heure', 'nous sommes desormais des gens completement differents', 'tu es difficile et incorrigible', 'tu as le droit d essayer une nouvelle fois', 'tu en es en partie responsable', 'vous en etes en partie responsable', 'vous en etes en partie responsables', 'tu es plus idiot que je pensais', 'vous n etes pas censes fumer ici', 'vous n etes pas cense fumer ici', 'tu n es pas censee fumer ici', 'tu n es pas cense fumer ici', 'vous n etes pas censees fumer ici', 'vous n etes pas censee fumer ici', 'vous etes maintenant en voie de retablissement', 'vous etes notre millionieme client', 'vous etes responsable des resultats', 'tu es responsable de ce resultat', 'vous etes precisement l homme que je veux voir', 'tu es trop sensible a la critique', 'vous etes trop sensible a la critique', 'chacun de nous te fait confiance', 'tu as la confiance de tous', 'tu prevois toujours des problemes', 'vous anticipez toujours des ennuis', 'tu ne vas jamais le croire', 'vous n allez jamais le croire', 'c est un bon partenaire de tennis pour moi', 'c est un jeune homme d affaires prometteur', 'il est en tete de la classe en anglais', 'il est responsable semble t il', 'il est meilleur que ce qu il etait', 'il est capable de faire une chose pareille', 'il est moins patient que son frere', 'on ne le voit plus ces derniers jours', 'il regrette beaucoup de ne pas pouvoir y aller', 'il souffre d amnesie', 'il maitrise la nouvelle technique', 'il est ici pour chercher la bagarre', 'il est ici pour fomenter des troubles', 'il s interesse aux propheties mayas', 'il est intimide par les belles femmes', 'il est nerveux et facilement effraye', 'il ne me prete aucune attention', 'il ne travaille pas beaucoup en ce moment', 'c est lui qui m a parle de cela', 'il attend que le train parte', 'je suis etudiant a l universite d oxford', 'je m habitue a ce mode de vie', 'je suis tout seul dans ce pays etranger', 'je suis presque effraye de vous parler', 'je suis heureux d accepter votre invitation', 'je suis heureuse d accepter votre invitation', 'je vais regarder la tele ce soir', 'je suis interesse par l histoire japonaise', 'je m interesse actuellement aux echecs', 'je suis intrigue par ce qu il se passe', 'j apprends deux langues etrangeres', 'je suis en train d apprendre deux langues etrangeres', 'je quitte le japon demain matin', 'j attends impatiemment ta lettre', 'je ne suis pas plus artiste que toi', 'je ne suis pas concerne par cette affaire', 'je ne suis pas preoccupe par cette affaire', 'je suis tres content de ma nouvelle voiture', 'je suis responsable de sa protection', 'je suis desole de vous avoir fait attendre', 'je suis toujours attache a ce velo', 'je suis pleinement satisfait de ma nouvelle maison', 'j ai peur d avoir une hemorragie interne', 'j ai peur de ne plus avoir de cafe', 'je crains de ne plus avoir de cafe', 'je pense aussi aller en coree', 'je commence a me languir de ma petite amie', 'je suis occupe a me preparer pour demain', 'j appelle depuis le telephone portable de tom', 'j appelle pour signaler un portefeuille perdu', 'je suis decu qu il ne soit pas la', 'j ai de plus en plus de cheveux gris', 'j ai l intention de descendre au prochain arret', 'je vais te cuisiner un bon repas', 'je vais avoir besoin de ton aide pour ceci', 'je vais avoir besoin de votre aide pour ceci', 'je vais etudier le francais l annee prochaine', 'je dois dix mille dollars a mon oncle', 'je prendrais bien quelque chose de sucre la', 'tout est bien qui finit bien', 'je suis content que tout se soit bien passe', 'je vais juste aller me poudrer le nez', 'je ne porte aucune piece d identite', 'je ne ressens pas particulierement la faim', 'je ne suis pas inquiet de perdre mon emploi', 'tu me decois vraiment tom', 'desolee je ne peux rien y faire', 'je commence a me sentir deja mieux', 'je suis sur que tom serait heureux d aider', 'je suis celui qui paye toutes les factures', 'je suis celle qui paye toutes les factures', 'je suis celui qui prend les decisions', 'je suis vraiment desole de t avoir derange', 'elle est toujours libre l apres midi', 'elle parle couramment l anglais et le francais', 'elle est toute differente de sa mere', 'elle est rarement en retard a un rendez vous', 'elle est accoutumee a veiller toute la nuit', 'elle est accoutumee a rester debout toute la nuit', 'ce sont toutes mes affaires personnelles', 'nous sommes confrontes a de nombreuses difficultes', 'nous allons gravir cette montagne', 'nous avons l intention de gravir cette montagne', 'nous attendons du mauvais temps aujourd hui', 'nous allons faire tout ce que nous pouvons', 'on va faire tout ce qu on peut', 'nous allons faire ce que nous pouvons', 'on va faire ce qu on peut', 'nous nous dirigeons dans la bonne direction', 'tu te debrouilles tres bien continue', 'il va falloir que vous le payiez', 'tu es responsable de ce que tu fais', 'vous etes responsables de ce que vous faites', 'vous etes responsable de ce que vous faites', 'tu trouves toujours des reproches a me faire', 'tu compares des choux et des carottes !', 'tu vas etre tres fier de moi', 'tu me caches quelque chose toi', 'tu es assez mignonne quand tu es en colere', 'vous etes assez mignonne quand vous etes en colere', 'vous etes assez mignon quand vous etes en colere', 'vous etes assez mignonnes quand vous etes en colere', 'vous etes assez mignons quand vous etes en colere', 'tu es assez mignon quand tu es en colere', 'tu es le seul a pouvoir faire ca', 'vous etes le seul a pouvoir m aider', 'tu es le seul a pouvoir m aider', 'tu es la seule a pouvoir m aider', 'vous etes la seule a pouvoir m aider', 'tu es le seul qui puisse m aider', 'tu as trois ans de moins que tom', 'vous etes trop intelligent pour votre securite', 'il est plonge dans les cours de latin', 'c est une autorite en matiere d humanites', 'il est plus grand que tous les autres garcons', 'il est de loin le plus sage des trois', 'il est familier de la culture japonaise', 'il part pour new york la semaine prochaine', 'il fait les preparatifs pour un voyage', 'il est fier que son pere soit riche', 'il economise pour acheter une maison', 'il a l habitude de ce genre de situation', 'il est habitue a marcher sur de longues distances', 'il est trois ans plus jeune que moi', 'il est partisan de la course pieds nus', 'il ne vous rendra pas visite demain', 'il est le conseiller le plus proche du roi', 'il se promene en sous vetements', 'il tremble de froid', 'je suis familier de cette partie de la ville', 'je vais beaucoup nager cet ete', 'je veux un coca rapidement', 'je n ai pas du tout peur des chiens', 'je ne suis pas interesse par le gain materiel', 'je ne suis pas interessee par le gain materiel', 'je suis sur que vous serez satisfaits', 'je suis le premier musicien de la famille', 'j ajouterai la touche finale', 'je suis en train d ajouter les touches finales', 'vous vous etes trompe de numero', 'je crains que vous n ayez le mauvais numero', 'j oublie toujours les noms des gens', 'j oublie toujours le nom des gens', 'j en ai marre de vos plaintes', 'j en ai marre de tes plaintes', 'je vais a boston pour trois mois', 'je vais etre en retard pour la reunion', 'je vais retourner travailler au bureau', 'je suis a la moitie de ce roman policier', 'je suis a mi chemin de ce roman policier', 'j ai du mal a me concentrer', 'je cherche un cadeau a offrir a mon ami', 'je suis impatient de la prochaine fois', 'je suis impatiente de la prochaine fois', 'je ne suis pas habitue a un tel traitement', 'je n ecarte pas cette possibilite', 'demain je ne vais pas au cinema', 'je n irai pas au cinema demain', 'je ne suis pas interesse par une relation', 'je ne suis pas interessee par une relation', 'je ne vous laisse pas seuls tous les deux', 'je ne vous laisse pas seules toutes les deux', 'j ai de bonnes relations avec mes voisins', 'je suis content de ma nouvelle veste', 'je ne suis vraiment pas interesse par l histoire', 'je ne suis vraiment pas interessee par l histoire', 'il est prevu que je dejeune avec lui', 'desole de ne pas avoir repondu plus tot', 'je suis desole je me suis trompe de numero', 'je suis confus j ai compose un mauvais numero', 'je suis desole nous avons tout vendu', 'je suis desolee nous avons tout vendu', 'je suis desole nous avons ete devalises', 'je suis farouchement oppose a un compromis', 'j etudie l economie a l universite', 'c est moi meme qui ai cueilli ces fleurs', 'je m inquiete beaucoup de sa maladie', 'c est une jeune femme tres intelligente', 'elle se plaint toujours de son travail', 'elle est entierement devouee a ses trois enfants', 'elle est dotee d un talent special', 'elle devient de plus en plus jolie', 'elle n a pas honte de son inconduite', 'elle porte un collier de prix', 'elle est habituee a se lever tot', 'elle est malade depuis mercredi dernier', 'elle rassemble du materiel pour un livre', 'elle n est pas confiante en l avenir', 'c est elle le soutien de famille', 'ils vont me donner un devis', 'pour le moment ils font une pause', 'nous sommes confrontes a un choix difficile', 'nous sommes confrontes a une multitude de problemes', 'nous sommes confrontes a une foule de problemes', 'nous sommes confrontes a un tas de problemes', 'nous sommes confrontes a quantite de problemes', 'nous sommes influences par notre environnement', 'nous sommes soumis aux lois de la nature', 'nous sortons manger vendredi', 'nous allons etre ici toute l apres midi', 'nous allons devoir travailler ensemble', 'nous allons avoir a travailler ensemble', 'nous allons fouiller la totalite du bateau', 'nous partirons apres demain', 'nous sommes prets a prendre des decisions difficiles', 'nous tentons de reduire les depenses', 'tu as toujours quelque chose a me reprocher', 'vous avez toujours quelque chose a me reprocher', 'tu es vraiment tres productif aujourd hui', 'vous etes vraiment tres productive aujourd hui', 'tu es le seul qui puisse m aider', 'vous etes le seul qui puisse m aider', 'vous etes la seule qui puisse m aider', 'tu es la seule qui puisse m aider', 'vous vous amusez n est ce pas ?', 'tu t amuses pas vrai ?', 'vous etes bien plus jolie que dans mon souvenir', 'tu es bien plus jolie que dans mon souvenir', 'vous n etes pas le seul a le dire', 'tu es celui que j attendais', 'tu es celle que j attendais', 'tu es celui qui a plante cet arbre', 'tu es celle qui a plante cet arbre', 'vous etes celui qui a plante cet arbre', 'vous etes celle qui a plante cet arbre', 'c est toi qui as plante cet arbre', 'c est vous qui avez plante cet arbre', 'tu as le meme age que ma copine', 'il est critique plutot que romancier', 'il est professeur d anglais a leeds', 'il est confronte a de nombreuses difficultes', 'il est experimente dans l evaluation d antiquites', 'il porte ses livres sous son bras', 'il est en excellente condition physique', 'il projette de lancer son entreprise', 'il est cale en litterature anglaise', 'il travaille dans le domaine de la biologie', 'il est un celebre chanteur populaire au japon', 'c est une pointure dans son domaine', 'c est une sommite dans son domaine', 'il est etudiant en litterature japonaise', 'c est un jeune adolescent impressionnable', 'il a fait passer mes idees pour les siennes', 'il n est pas autorise a quitter le pays', 'il est assez vieux pour etre son grand pere', 'il depend totalement de ses parents', 'je suis libre jusqu a heures ce soir', 'je vais travailler a osaka l annee prochaine', 'je vais ecrire une lettre demain', 'selon moi elle a raison', 'je suis sure de remporter le match de tennis', 'ces nouvelles chaussures sont inconfortables', 'je suis habitue a veiller tard le soir', 'je suis tres interesse par des histoires', 'j ai presque fini de lire ce livre', 'j ai honte car j ai agi stupidement', 'je commence a avoir un peu sommeil', 'je commence a me sentir coupable a ce sujet', 'je suis en train de developper une application android', 'je m en vais pour les vacances d ete', 'je vais te donner une chance supplementaire', 'je vais vous donner une chance supplementaire', 'je vais te donner une chance de plus', 'je vais vous donner une chance de plus', 'je vais te donner une chance additionnelle', 'je vais vous donner une chance additionnelle', 'je vais me cacher quelque part pres d ici', 'je vais me dissimuler quelque part pres d ici', 'je vais jouer au tennis ce soir', 'toutes ces disputes commencent a me fatiguer', 'je souffre chaque minute de chaque jour', 'je cherche seulement un endroit ou dormir', 'j ecoute la derniere chanson de bjork', 'je suis plus interesse par l anglais parle', 'je n ai pas tres faim a l instant', 'je ne vais rien y faire', 'je ne vais plus etudier le francais', 'je fait maintenant officiellement partie de ce groupe', 'je ne le fais que pour ton bien', 'je ne le fais que pour votre bien', 'je t ordonne de partir immediatement', 'je vous ordonne de partir immediatement', 'je suis desole mais c est tout simplement impossible', 'je suis desole j ai un autre rendez vous', 'je suis desole je ne suis pas d ici', 'je passe la nuit chez mon ami', 'je passe la nuit chez mon amie', 'je suis sure que les enfants grandissent', 'je suis trop fatigue pour y reflechir maintenant', 'les etudes sociales m interessent beaucoup', 'j attends un appel tres important', 'elle est toujours en quete de compliments', 'elle rassemble du materiel pour un livre', 'elle connait bien l histoire du japon', 'ils sont satisfaits de la nouvelle maison', 'ils s interessent beaucoup a l astronomie', 'ils sont tres interesses par l astronomie', 'ils sont vraiment bons dans la confection de vetements', 'nous sommes tous convaincus de son innocence', 'nous sommes toutes convaincues de son innocence', 'nous vous souhaitons un prompt retablissement', 'nous sur pechons dans les oceans du monde', 'on va passer dans l autre piece', 'nous avons presque fini pour aujourd hui', 'tu es responsable de cet accident', 'tu ne vas pas vouloir manquer ca', 'vous n allez pas vouloir manquer ca', 'il est membre du conseil paroissial', 'il est habitue a parler en public', 'il trouve toujours a redire aux autres', 'il a honte de la pauvrete de son pere', 'il est normalement chez lui le soir', 'il fait de gros progres en anglais', 'il n est ni pour ni contre ce plan', 'il prevoit de developper son affaire', 'on dit que c etait un bon professeur', 'il souffre d une maladie grave', 'il est le chef du departement de vente', 'c est le portrait crache de son pere', 'il depend completement de ses parents', 'il est professeur de biologie a harvard', 'c est un chanteur aime de tous', 'il se plaint toujours de la nourriture', 'il est divorce depuis deux ans deja', 'il a longuement attendu ici', 'ca fait longtemps qu il attend ici', 'il depend financierement de son epouse', 'je suis finlandais mais je parle aussi suedois', 'je suis finlandais mais je parle aussi le suedois', 'je suis sur qu il va demissionner', 'je vais lui faire une proposition serieuse', 'je vais chez le dentiste demain', 'je te suis reconnaissant pour ta gentillesse', 'je vous suis reconnaissant de votre gentillesse', 'je suis responsable du cours de troisieme annee', 'j apprecie beaucoup votre aide', 'j apprecie beaucoup ton aide', 'je suis vraiment desole de t avoir fait attendre', 'je suis tellement desole de vous avoir fait attendre', 'je suis tellement desolee de vous avoir fait attendre', 'je suis suppose aller a tokyo la semaine prochaine', 'je vais reprendre l affaire de mon pere', 'je crains qu il ne pleuve demain', 'je crains qu il pleuve demain', 'je crains qu il ne reste plus de cafe', 'j ai presque fini donne moi juste une minute', 'je suis capable de prendre mes propres decisions', 'je suis capable de faire mes propres choix', 'je suis heureux d entendre qu elle est celibataire', 'je vais rejoindre l orchestre de l ecole', 'ma journee est tres dure aujourd hui', 'je suis juste impatient de rentrer a la maison', 'j ai hate de te voir bientot', 'je suis impatient de te voir bientot', 'je suis impatiente de te voir bientot', 'je ne vais jamais la laisser enterrer ca', 'je ne suis pas habituee a me lever tot', 'j essaye pas de te faire sentir coupable', 'je suis vraiment concerne par votre avenir', 'je suis desole si c est une question idiote', 'je suis desolee si c est une question idiote', 'je suis supposee etre celle qui t aide', 'je suis supposee etre celle qui vous aide', 'je suis suppose etre celui qui t aide', 'je suis suppose etre celui qui vous aide', 'c est moi qui vous ai pose la question', 'c est moi qui ai introduit le sujet', 'je suis celui qui a introduit le sujet', 'c est moi qui devrais te remercier', 'je suis fort interesse par l apprentissage du francais', 'c est une etudiante qui etudie serieusement', 'elle est completement sourde de l oreille gauche', 'elle est determinee a quitter l entreprise', 'elle vit au milieu de nulle part', 'elle est assez grande pour voyager toute seule', 'elle est a l hopital depuis un mois', 'aujourd hui elle va beaucoup mieux qu hier', 'elle souffre d une maladie grave', 'elle est assez jeune pour etre ta fille', 'ils travaillent tous les deux a l animalerie', 'ils sont actuellement en reunion', 'elles sont toutes les deux amoureuses du meme type', 'elles sont toutes deux amoureuses du meme type', 'ils etudient le francais et le webdesign', 'nous entrons dans une nouvelle phase de la guerre', 'nous sommes heureux que vous ayez rejoint notre equipe', 'nous attendons les vacances avec impatience', 'nous allons avoir des ennuis pour ca', 'on apprend encore a se connaitre', 'c est toi celle que je cherchais', 'vous vous amusez n est ce pas ?', 'tu as tres sommeil non ?', 'vous avez tres sommeil non ?', 'tu devras etre confronte a ca', 'vous devrez etre confrontes a ca', 'tu es le seul a me comprendre', 'tu es la seule a me comprendre', 'vous etes le seul a me comprendre', 'vous etes la seule a me comprendre', 'tu es trop suspicieux de tout', 'tu es trop suspicieuse de tout', 'vous etes trop suspicieux de tout', 'vous etes trop suspicieuses de tout', 'il va vous conduire a l aeroport', 'il est desormais dans une situation tres difficile', 'il est ce que nous appelons un dictionnaire ambulant', 'il se plaint toujours de quelque chose', 'ce n est pas une lumiere', 'il passe trop de temps a regarder la tele', 'j ai honte d avoir ete grossier envers elle', 'je suis lie a lui par une etroite amitie', 'je suis loin d etre satisfait du resultat', 'je suis content d avoir autant de bons amis', 'je pense partir a l etranger l annee prochaine', 'je pense partir a la montagne', 'je commence a etre habitue a faire ceci', 'je commence a etre habituee a faire ceci', 'je commence a m habituer a faire ceci', 'je suis bourre mais je sais encore parler allemand', 'je suis loin d etre heureux de cette situation', 'je vais devoir changer mon emploi du temps', 'je vais rester ici plusieurs jours', 'je suis heureux de voir tant de visages amicaux', 'j attends de vos nouvelles', 'j espere avoir de tes nouvelles', 'j attends avec impatience de vous revoir', 'je me rejouis de vous voir danser', 'je suis impatient de te voir danser', 'je suis impatiente de te voir danser', 'je suis assez grand pour prendre mes propres decisions', 'je suis fier de participer a ce projet', 'j en ai marre d ecouter ses plaintes', 'je suis desole de ne pas vous soutenir davantage', 'je suis desole de ne pas te soutenir davantage', 'je suis desole de ne pas le soutenir davantage', 'je suis desole de ne pas la soutenir davantage', 'je suis desole de te creer tous ces soucis', 'je commence a m habituer a vivre ici', 'je suis le second de trois enfants', 'j en ai assez d ecouter tes rodomontades', 'je suis habitue a etre ignore de mes parents', 'je suis habitue a etre ignoree de mes parents', 'elle est interessee a apprendre de nouvelles idees', 'maintenant elle est chez son oncle', 'elle chante les derniers tubes', 'elle chante les dernieres chansons populaires', 'elle se plaint toujours de la nourriture', 'elle est terrifiee de s adresser a des etrangers', 'ils cherchent une maison ou habiter', 'ils sont tous deux amoureux de la meme fille', 'ils vont faire une fete la semaine prochaine', 'le nom de l auteur nous est familier', 'nous mesurons la profondeur de la riviere', 'nous travaillons pour la paix', 'nous sortons prendre quelque chose a manger', 'apres tout nous allons avoir besoin de ton aide', 'nous avons presque acheve ce travail', 'tu es libre de partir quand il te plaira', 'tu me tiens la main sur la photo', 'tu es suppose ne pas fumer a l ecole', 'vous etes supposes ne pas fumer a l ecole', 'vous etes suppose ne pas fumer a l ecole', 'vous etes supposee ne pas fumer a l ecole', 'vous etes supposees ne pas fumer a l ecole', 'fais ce qu il te plait', 'tu n ecoutes pas ce que je dis', 'vous n ecoutez pas ce que je dis', 'tu vas devoir arreter de faire ca', 'vous allez devoir arreter de faire cela', 'tu ne regardes pas tout le paysage', 'vous ne regardez pas l ensemble du tableau', 'vous tirez avantage de sa faiblesse', 'tu tires avantage de sa faiblesse', 'il est diplomate a l ambassade americaine', 'il est un peu leger pour un sumotori', 'il est un critique des autres tres irritant', 'il essaye toujours de faire l impossible', 'il ne se presente pas aux prochaines elections', 'il recupere lentement de sa maladie', 'il etudie l histoire a l universite', 'c est une personnalite bien connue de la television', 'il est toujours ponctuel pour ses rendez vous', 'il est tres fier de sa moto trafiquee', 'il s inquiete de sa calvitie naissante', 'j ai peur de ce que l instituteur dira', 'je suis confronte a un probleme difficile', 'je me rejouis de te revoir', 'je me rejouis de vous revoir', 'je suis impatient de vous revoir', 'je suis impatiente de vous revoir', 'je suis impatient de te revoir', 'je suis impatiente de te revoir', 'je suis sur qu il va reussir son examen', 'je songe a acheter un nouveau parasol', 'je crains qu il ne reconnaisse jamais sa culpabilite', 'je crains qu elle refuse ma demande', 'je suis considere comme traitre a ce pays', 'j adore ecouter de la musique classique', 'je me fais a cette nouvelle machine', 'je m habitue a cette nouvelle machine', 'je vais aller acheter quelques materiaux aujourd hui', 'je vais a la campagne avec mes amis', 'je traverse juste pour aller chez le fleuriste', 'j ai un programme vraiment charge cette semaine', 'je suis vraiment fatigue de toutes ces disputes', 'je n en peux plus de toutes ces disputes', 'je suis fatigue d ecouter tes plaintes', 'je suis desole que vous ayez ete gravement blesse', 'je suis desole j en suis partiellement responsable', 'je suis celui qui est responsable de l accident', 'je suis heureux de vous avoir rencontre', 'je porte mon maillot de bain sous mes vetements', 'elle est toujours au bas de la classe', 'elle est toujours en queue de classe', 'elle oublie tout le temps mon numero de telephone', 'elle s inquiete de la sante de son pere', 'elle est occupee a se preparer pour un examen', 'elle est extremement sensible au froid', 'elle n est pas moins belle que sa mere', 'elle s entraine au piano nuit et jour', 'ils expriment leur amour en s enlacant', 'nous sommes tout sauf prets pour le rude hiver', 'on nous encourage a utiliser notre imagination', 'on s attend a une bonne recolte cette annee', 'la moisson s annonce bonne cette annee', 'nous nous rejouissons de votre presence', 'nous sommes tres reconnaissants pour votre hospitalite', 'tu pousses la blague trop loin', 'tu reussiras sans aucun doute quoique tu fasses', 'vous etes toujours en desaccord avec votre patron', 'tu n es pas vraiment millionnaire si ?', 'vous n etes pas vraiment millionnaire si ?', 'il est docteur et professeur d universite', 'il est completement absorbe par ses affaires', 'il est inquiet pour la sante de ses parents', 'il est riche mais son frere aine est pauvre', 'je suis sur que vos pensees sont nobles', 'j oublie toujours les noms des gens', 'j attends de toi un travail serieux', 'je te suis tres reconnaissant pour ton conseil', 'je te suis tres reconnaissant pour ton conseil', 'je travaille dur pour essayer d apprendre l anglais', 'j en ai marre de t entendre raler constamment', 'je suis impatient de voir ton pere', 'je suis desolee mais j ai deja un jules', 'je suis desolee mais j ai deja un mec', 'je suis desole mais j ai deja un mec', 'je pense a me lancer dans une nouvelle carriere', 'je me demande si je dois accepter ce travail', 'c est une personne particulierement interessante', 'elle est plus une relation qu une amie', 'elle est non seulement intelligente mais aussi jolie', 'ils sculptent une statue de marbre', 'ils sont fascines par le sang et la violence', 'ce sont des affaires dont nous devons parler', 'ils emmenent marie a la salle des urgences', 'nous nous rejouissons de votre venue', 'nous faisons des affaires avec de nombreux pays', 'nous sommes en affaires avec de nombreux pays', 'nous allons voyager a l etranger cet ete', 'nous sommes impatients de vous voir', 'ces problemes ne nous menent a rien', 'nous allons voir un film etranger ce soir', 'tu rales toujours apres quelque chose', 'tu es plus belle que dans mon souvenir', 'vous etes tres loin de trouver la bonne reponse', 'tu n es pas le seul avec ce probleme', 'tu n es pas la seule avec ce probleme', 'vous n etes pas le seul avec ce probleme', 'vous n etes pas la seule avec ce probleme', 'vous n etes pas les seules avec ce probleme', 'vous n etes pas les seuls avec ce probleme', 'tu prends un risque important en lui faisant confiance', 'tu passes trop de temps a regarder la tele', 'vous passez trop de temps a regarder la tele', 'il est absorbe a lire des romans de detectives', 'il est captive par sa lecture de romans policiers', 'il est en fait le president de la societe', 'il travaille dur en vue de reussir son examen', 'il se mele toujours de notre conversation', 'il est revenu de son voyage en asie centrale', 'il fait ca depuis plus de vingt ans', 'je m interesse au violoncelle et au piano', 'je suis fatigue d ecouter son long discours', 'je suis fatiguee d ecouter son long discours', 'j ecris pour exprimer mon insatisfaction', 'je romps ce soir avec ma petite amie', 'je romps ce soir avec ma petite copine', 'je romps ce soir avec ma nana', 'je suis financierement independant de mes parents', 'j obtiens un diplome superieur en education', 'je vais devoir annuler mon rendez vous', 'j ecris juste une lettre a ma petite amie', 'j ecris juste une lettre a ma copine', 'j ai hate que les vacances d ete arrivent', 'j envisage de rester a l hotel hillside', 'je pense serieusement a demenager a boston', 'je suis desole si ma presence vous embarrasse', 'je suis desolee si ma presence vous embarrasse', 'je suis desole si ma presence t embarrasse', 'je suis desolee si ma presence t embarrasse', 'je suis desole mais j ai deja une nana', 'je suis le porte parole de cette organisation', 'je suis le porte parole de cette institution', 'je me lave les mains car elles sont sales', 'c est une assistante efficace et digne de confiance', 'elle est au bord de la crise de nerfs', 'ils parlent de ce qu ils vont chanter', 'ils sont disposes a discuter du probleme', 'elles sont disposees a discuter du probleme', 'dimanche prochain nous allons rendre visite a notre tante', 'nous nous rejouissons de vous revoir', 'nous avons des invites ce soir', 'tu agis comme un gamin de ans', 'tu es responsable de ce que tu as fait', 'tu es fou d acheter un velo aussi cher', 'tu commences a parler comme ton vieux', 'il est une autorite reconnue sur le sujet', 'il est precisement celui que tu cherches', 'il est precisement celui que vous cherchez', 'il passe trop de temps a l ordinateur', 'je suis inquiet de votre attitude irresponsable', 'je suis etonne par ton attitude irresponsable', 'je pense cloturer mon compte d epargne', 'je suis stupefait de son rapide progres en anglais', 'j ai hate de recevoir ta reponse', 'il me tarde de recevoir votre reponse', 'j attends avec impatience le retour du printemps', 'je prevois de me deguiser comme medecin', 'je jette toutes mes forces dans ce projet', 'je vous suis tellement reconnaissant pour cette opportunite', 'je suis sur que tout va rouler', 'je suis sure que tout va rouler', 'elle est ce qu on appelle une femme cultivee', 'ils ont une liquidation', 'nous avons des problemes avec notre nouveau voisin', 'nous allons a une autre fete apres celle ci', 'nous discuterons du probleme demain', 'tu es la plus belle fille du monde', 'vous etes la plus belle fille du monde', 'il trouve toujours a redire aux autres', 'il s amuse en jouant aux jeux videos', 'il est oblige de reussir l examen d entree', 'il s inquiete pour les resultats de l examen', 'il quitte narita pour hawaii ce soir', 'il est competent en espagnol et en italien', 'il bataille encore avec les croyances religieuses', 'il est expert en litterature francaise', 'c est un interprete dans une banque internationale', 'je cherche un livre traitant de l espagne medievale', 'je lui dis constamment de bien se comporter', 'je vais travailler pendant les vacances de printemps', 'j ai hate d avoir de vos nouvelles', 'elle trouve toujours des defauts a son mari', 'elle lavera le velo cet apres midi', 'elle est forte pour inventer des histoires interessantes', 'c est plus une connaissance qu une amie', 'elle etait un peu a cran ces derniers temps', 'ils construisent un pont au dessus de la riviere', 'ils dejeunent maintenant dans la salle a manger', 'elles dejeunent maintenant dans la salle a manger', 'ils dinent maintenant dans la salle a manger', 'elles dinent maintenant dans la salle a manger', 'nous attendons la publication de son ouvrage', 'nous allons avoir une reunion ici demain', 'nous sommes confrontes a un probleme bien plus grave', 'nous gardons toutes les options ouvertes a ce stade', 'vous etes trop critique des defauts des autres', 'tu es trop critique des defauts des autres', 'vous etes probablement trop jeune pour le comprendre', 'tu es probablement trop jeune pour le comprendre', 'tu es la femme la plus belle du monde', 'tu es la femme la plus belle au monde', 'tu es la seule personne qui peut le convaincre', 'il se bat le dos au mur', 'c est un des plus grands scientifiques au japon', 'j oublie deja le visage de ma grand mere', 'je vous suis profondement reconnaissante pour votre gentillesse', 'je te suis profondement reconnaissante pour ta gentillesse', 'je te suis profondement reconnaissant pour ta gentillesse', 'j ai hate d avoir de tes nouvelles', 'je me rejouis de vous revoir bientot', 'je suis tres heureux d apprendre tes fiancailles', 'je me rejouis de te voir dimanche prochain', 'je suis nerveux lorsque je parle une autre langue', 'je suis nerveuse lorsque je parle une autre langue', 'j envisage de rester chez lui demain', 'je pense apprendre le coreen le semestre prochain', 'elle se plaint sans arret de son faible salaire', 'elle trouve toujours a redire aux autres', 'elle est tres competente en espagnol et en italien', 'elle est tres receptive a la suggestion hypnotique', 'nous enquetons sur le meurtre de tom jackson', 'nous demenageons de cet appartement le mois prochain', 'tu passes trop de temps a l ordinateur', 'vous passez trop de temps a l ordinateur', 'il s interesse beaucoup a l histoire du japon', 'j ai hate de te revoir dimanche prochain', 'j ai toujours ce meme reve de noyade', 'elle est non seulement belle mais aussi intelligente', 'elle est celle dont tu devrais prendre modele', 'elle est celle dont vous devriez prendre modele', 'elle tente de prouver l existence des fantomes', 'elle tente de prouver l existence de fantomes', 'nous enquetons sur les deces de tom et marie', 'nous essayons d avoir une conversation serieuse la', 'tu t exposes a bien des critiques', 'vous etes probablement fatigue apres un vol aussi long', 'vous etes probablement fatiguee apres un vol aussi long', 'tu es probablement fatigue apres un vol aussi long', 'tu es probablement fatiguee apres un vol aussi long', 'c est un scientifique qui est respecte par tous', 'je retourne avec mon ex petite amie', 'je retourne avec mon ex petite copine', 'nous sommes en train de reamenager notre cuisine', 'il entreprend des experiences dans son laboratoire', 'je ne suis pas habitue a discourir en public', 'je commence a comprendre pourquoi tom aime boston', 'j ai quelques difficultes a compiler ce programme', 'ils collectent des dons pour l eglise', 'nous recherchons un appartement avec deux chambres', 'il est occupe a preparer son examen d entree', 'il peut enseigner le francais et l anglais', 'il est un des candidats aux presidentielles americaines', 'il est l un des candidats aux presidentielles etatsuniennes', 'il connait bien l histoire de l angleterre', 'elle va rendre visite a sa grand mere samedi', 'il est charge de divertir les invites etrangers', 'nous sommes desormais responsables de votre protection', 'j en ai plutot marre de conduire chaque matin', 'il est bon pour resoudre des problemes mathematiques complexes', 'j espere une reponse favorable de votre part', 'il est representant accredite du gouvernement canadien', 'c est un representant accredite du gouvernement canadien']\n",
            "French sentences: ['i m ok', 'i m ok', 'i m fat', 'i m fat', 'i m fit', 'i m hit !', 'i m hit !', 'i m ill', 'i m sad', 'i m shy', 'i m wet', 'i m wet', 'he s wet', 'i am fat', 'i m back', 'i m back', 'i m bald', 'i m busy', 'i m busy', 'i m calm', 'i m cold', 'i m done', 'i m fine', 'i m fine', 'i m fine', 'i m free !', 'i m free', 'i m free', 'i m full', 'i m full', 'i m glad', 'i m home', 'i m late', 'i m lazy', 'i m lazy', 'i m lazy', 'i m lazy', 'i m okay', 'i m okay', 'i m safe', 'i m sick', 'i m sure', 'i m sure', 'i m sure', 'i m sure', 'i m tall', 'i m thin', 'i m tidy', 'i m tidy', 'i m ugly', 'i m ugly', 'i m weak', 'i m well', 'i m well', 'he is ill', 'he is old', 'he s a dj', 'he s good', 'he s lazy', 'he s rich', 'i am busy', 'i am calm', 'i am cold', 'i am good', 'i am here', 'i am lazy', 'i am lazy', 'i am lazy', 'i am lazy', 'i am okay', 'i am sick', 'i am sure', 'i am sure', 'i am weak', 'i m a cop', 'i m a man', 'i m alone', 'i m alone', 'i m armed', 'i m armed', 'i m awake', 'i m blind', 'i m broke', 'i m crazy', 'i m crazy', 'i m cured', 'i m cured', 'i m drunk', 'i m drunk', 'i m drunk', 'i m dying', 'i m early', 'i m first', 'i m fussy', 'i m fussy', 'i m fussy', 'i m going', 'i m going', 'i m going', 'i m going', 'i m loyal', 'i m loyal', 'i m lucky', 'i m lucky', 'i m lucky', 'i m lucky', 'i m lucky', 'i m lying', 'i m quiet', 'i m ready !', 'i m ready !', 'i m ready', 'i m right', 'i m sober', 'i m sorry', 'i m sorry', 'i m sorry', 'i m sorry', 'i m sorry', 'i m stuck', 'i m timid', 'i m tired', 'i m tough', 'i m tough', 'i m tough', 'i m tough', 'i m yours', 'i m yours', 'she s hot', 'she s hot', 'we re hot', 'we re sad', 'we re shy', 'he is a dj', 'he is busy', 'he is here !', 'he is kind', 'he is late', 'he is lazy', 'he is lazy', 'he is poor', 'he is sick', 'he s swiss', 'he s swiss', 'he s broke', 'he s broke', 'he s drunk', 'he s drunk', 'he s smart', 'i am a man', 'i am human', 'i am ready', 'i am right', 'i am sorry', 'i am sorry', 'i am tired', 'i am tired', 'i m french', 'i m korean', 'i m a hero', 'i m a liar', 'i m baking !', 'i m better', 'i m buying', 'i m buying', 'i m chubby', 'i m chubby', 'i m eating', 'i m famous', 'i m famous', 'i m faster', 'i m flabby', 'i m greedy', 'i m greedy', 'i m greedy', 'i m hiding', 'i m honest', 'i m humble', 'i m hungry !', 'i m hungry', 'i m immune', 'i m immune', 'i m in bed', 'i m in bed', 'i m in bed', 'i m joking', 'i m loaded', 'i m lonely', 'i m lonely', 'i m losing', 'i m moving', 'i m normal', 'i m normal', 'i m paying', 'i m paying', 'i m pooped', 'i m rested', 'i m rested', 'i m ruined', 'i m ruined', 'i m shaken', 'i m shaken', 'i m single', 'i m skinny', 'i m skinny', 'i m sleepy !', 'i m sleepy !', 'i m sneaky', 'i m sneaky', 'i m strict', 'i m strict', 'i m strong', 'i m strong', 'i m thirty', 'i m wasted', 'she is old', 'she s busy', 'she s nice', 'we are men', 'we re back', 'we re busy', 'we re busy', 'we re done', 'we re done', 'we re done', 'we re done', 'we re even', 'we re fine', 'we re here', 'we re here', 'we re home', 'we re late', 'we re lost', 'we re lost', 'we re rich', 'we re safe', 'we re sunk', 'we re sunk', 'we re weak', 'you re bad', 'you re big', 'you re big', 'you re big', 'you re big', 'you re big', 'you re big', 'you re fun', 'you re fun', 'you re old', 'you re old', 'you re old', 'you re old', 'you re old', 'you re sad', 'you re sad', 'you re shy', 'you re shy', 'he is drunk', 'he is drunk', 'he is eight', 'he is hated', 'he is nasty', 'he is smart', 'he is young', 'he s a hunk', 'he s a hunk', 'he s a jerk', 'he s a liar', 'he s a nerd', 'he s a slob', 'he s asleep', 'he s coming', 'he s coming', 'he s crying', 'he s faking', 'he s loaded', 'he s loaded', 'he s loaded', 'he s my age', 'he s not in', 'he s not in', 'he s not in', 'i am french', 'i am korean', 'i am a cook', 'i am a monk', 'i am better', 'i am better', 'i am coming', 'i am hungry', 'i am joking', 'i am single', 'i am taller', 'i m too', 'i m finnish', 'i m finnish', 'i m italian', 'i m a baker', 'i m a baker', 'i m all set', 'i m all set', 'i m ashamed', 'i m at home', 'i m at home', 'i m baffled', 'i m blessed', 'i m blessed', 'i m careful', 'i m careful', 'i m certain', 'i m certain', 'i m chicken', 'i m chicken', 'i m correct', 'i m curious', 'i m curious', 'i m dancing', 'i m dieting', 'i m driving', 'i m driving', 'i m engaged', 'i m engaged', 'i m excited', 'i m excited', 'i m fasting', 'i m fasting', 'i m finicky', 'i m finicky', 'i m frantic', 'i m frantic', 'i m furious', 'i m healthy', 'i m humming', 'i m in luck', 'i m in luck', 'i m jealous', 'i m jittery', 'i m kidding', 'i m kidding', 'i m leaving', 'i m married', 'i m married', 'i m no fool', 'i m no hero', 'i m no liar', 'i m not fat', 'i m not mad', 'i m not mad', 'i m not old', 'i m not old', 'i m not sad', 'i m not shy', 'i m on duty', 'i m patient', 'i m patient', 'i m popular', 'i m psyched', 'i m psychic', 'i m psychic', 'i m puzzled', 'i m reading', 'i m relaxed', 'i m relaxed', 'i m retired', 'i m retired', 'i m retired', 'i m retired', 'i m selfish', 'i m serious', 'i m shocked', 'i m shocked', 'i m sincere', 'i m sloshed', 'i m sloshed', 'i m so full', 'i m starved', 'i m starved', 'i m starved', 'i m starved', 'i m staying', 'i m stuffed', 'i m stuffed', 'i m stunned', 'i m stunned', 'i m talking', 'i m teasing', 'i m thirsty', 'i m through', 'i m through', 'i m too fat', 'i m touched', 'i m touched', 'i m unhappy', 'i m unhappy', 'i m unlucky', 'i m wealthy', 'i m wealthy', 'i m winning', 'i m winning', 'i m working', 'i m worried', 'she is curt', 'she is dead', 'she is kind', 'she is late', 'she s a dog', 'she s a fox', 'they re bad', 'they re bad', 'they re old', 'they re old', 'we are even', 'we are even', 'we are here', 'we are here', 'we are late', 'we re alone', 'we re alone', 'we re angry', 'we re armed', 'we re armed', 'we re bored', 'we re bored', 'we re broke', 'we re broke', 'we re broke', 'we re dying', 'we re early', 'we re going', 'we re happy', 'we re ready', 'we re saved', 'we re saved', 'we re smart', 'we re smart', 'we re sorry', 'we re sorry', 'we re stuck', 'we re stuck', 'we re tired', 'we re tired', 'we re twins', 'we re twins', 'you are big', 'you are big', 'you are big', 'you are big', 'you are big', 'you are big', 'you are mad', 'you re back', 'you re back', 'you re cool', 'you re cool', 'you re fair', 'you re fair', 'you re fair', 'you re fine', 'you re free', 'you re free', 'you re free', 'you re good', 'you re good', 'you re good', 'you re good', 'you re good', 'you re good', 'you re good', 'you re good', 'you re kind', 'you re kind', 'you re lazy', 'you re lazy', 'you re lazy', 'you re lazy', 'you re lazy', 'you re lost', 'you re lost', 'you re nice', 'you re nice', 'you re nice', 'you re nuts !', 'you re nuts !', 'you re nuts !', 'you re nuts !', 'you re nuts !', 'you re nuts !', 'you re nuts !', 'you re nuts !', 'you re nuts !', 'you re nuts !', 'you re rich', 'you re rich', 'you re rich', 'you re rude', 'you re rude', 'you re rude', 'you re rude', 'you re rude', 'you re safe', 'you re safe', 'you re safe', 'you re safe', 'you re safe', 'you re safe', 'you re safe', 'you re safe', 'you re sick !', 'you re sick !', 'you re sick !', 'you re thin', 'you re thin', 'you re thin', 'you re weak', 'you re weak', 'you re weak', 'he is a poet', 'he is a poet', 'he is asleep', 'he is cranky', 'he is eating', 'he is heroic', 'he is not in', 'he is not in', 'he s english', 'he s a bigot', 'he s a bigot', 'he s a bigot', 'he s a bigot', 'he s in pain', 'he s married', 'he s my hero', 'he s out now', 'he s so cute', 'he s so cute', 'i am italian', 'i am ashamed', 'i am at home', 'i am curious', 'i am married', 'i am so sick', 'i am so sick', 'i am so sick', 'i am so sick', 'i am thirsty', 'i am working', 'i m a coward', 'i m a coward', 'i m a doctor', 'i m a doctor', 'i m a farmer', 'i m a farmer', 'i m a farmer', 'i m a farmer', 'i m a purist', 'i m addicted', 'i m addicted', 'i m addicted', 'i m all done', 'i m all done', 'i m all ears', 'i m an adult', 'i m an agent', 'i m bleeding', 'i m confused', 'i m creative', 'i m creative', 'i m cultured', 'i m cultured', 'i m divorced', 'i m divorced', 'i m drowning', 'i m eighteen', 'i m faithful', 'i m famished', 'i m fearless', 'i m fighting', 'i m finished', 'i m finished', 'i m free now', 'i m freezing', 'i m grounded', 'i m grounded', 'i m gullible', 'i m homesick', 'i m hungover', 'i m in paris', 'i m innocent', 'i m innocent', 'i m innocent', 'i m innocent', 'i m involved', 'i m involved', 'i m managing', 'i m new here', 'i m no rebel', 'i m no saint', 'i m no saint', 'i m not busy', 'i m not deaf', 'i m not deaf', 'i m not done', 'i m not done', 'i m not done', 'i m not dumb', 'i m not dumb', 'i m not evil', 'i m not here', 'i m not here', 'i m not home', 'i m not home', 'i m not hurt', 'i m not hurt', 'i m not mean', 'i m not mean', 'i m not rich', 'i m not sure', 'i m not sure', 'i m not tall', 'i m not tall', 'i m not ugly', 'i m not ugly', 'i m not well', 'i m off duty', 'i m offended', 'i m offended', 'i m outraged', 'i m outraged', 'i m powerful', 'i m powerful', 'i m prepared', 'i m prepared', 'i m prepared', 'i m punctual', 'i m punctual', 'i m rational', 'i m rational', 'i m reformed', 'i m reformed', 'i m reliable', 'i m restless', 'i m ruthless', 'i m shooting', 'i m sleeping', 'i m so sorry', 'i m so sorry', 'i m so tired !', 'i m so tired !', 'i m speaking', 'i m starving !', 'i m starving', 'i m starving', 'i m stubborn', 'i m stubborn', 'i m stubborn', 'i m stubborn', 'i m the boss', 'i m the boss', 'i m the boss', 'i m the boss', 'i m thinking', 'i m thorough', 'i m thorough', 'i m thorough', 'i m thorough', 'i m thrilled', 'i m thrilled', 'i m ticklish', 'i m ticklish', 'i m too busy', 'i m too busy', 'i m too busy', 'i m too busy', 'i m truthful', 'i m unbiased', 'i m unbiased', 'i m upstairs', 'i m very fat', 'i m very fat', 'i m very sad', 'i m very shy', 'i m worn out', 'she is a fox', 'she is lucky', 'she is lucky', 'she is quiet', 'she is sharp', 'she is sharp', 'she is wrong', 'she is young', 'they re back', 'they re back', 'they re boys', 'they re cold', 'they re cold', 'they re cool', 'they re cool', 'they re cops', 'they re cute', 'they re cute', 'they re dead', 'they re dead', 'they re done', 'they re done', 'they re free', 'they re free', 'they re gone', 'they re gone', 'they re gone', 'they re here', 'they re mine', 'they re mine', 'they re mine', 'they re mine', 'they re mine', 'they re mine', 'they re rich', 'they re rich', 'they re weak', 'they re weak', 'we are arabs', 'we are happy', 'we re a team', 'we re adults', 'we re all ok', 'we re at war', 'we re biased', 'we re biased', 'we re buying', 'we re closed', 'we re coming', 'we re dating', 'we re doomed', 'we re hiding', 'we re inside', 'we re joking', 'we re losing', 'we re losing', 'we re moving', 'we re normal', 'we re normal', 'we re paying', 'we re pooped', 'we re pooped', 'we re ruined', 'we re ruined', 'we re shaken', 'we re shaken', 'we re sneaky', 'we re sneaky', 'we re strong', 'we re strong', 'we re trying', 'you are good', 'you are good', 'you are good', 'you are good', 'you are good', 'you are good', 'you are late', 'you are late', 'you are rich', 'you re bossy', 'you re bossy', 'you re crazy', 'you re cruel', 'you re cruel', 'you re cruel', 'you re cruel', 'you re cruel', 'you re cruel', 'you re early', 'you re early', 'you re early', 'you re early', 'you re early', 'you re early', 'you re early', 'you re fired', 'you re fired', 'you re first', 'you re first', 'you re first', 'you re funny', 'you re funny', 'you re funny', 'you re funny', 'you re funny', 'you re funny', 'you re fussy', 'you re fussy', 'you re fussy', 'you re gross !', 'you re lying !', 'you re lying !', 'you re lying', 'you re moody', 'you re naive', 'you re naive', 'you re naive', 'you re naive', 'you re naive', 'you re naive', 'you re quiet', 'you re quiet', 'you re right', 'you re silly', 'you re silly', 'you re silly', 'you re silly', 'you re silly', 'you re silly', 'you re stuck', 'you re stuck', 'you re stuck', 'you re stuck', 'you re stuck', 'you re stuck', 'you re tough', 'you re tough', 'you re tough', 'you re tough', 'you re tough', 'you re tough', 'you re upset', 'you re upset', 'you re weird', 'you re weird', 'you re weird', 'you re wrong', 'you re wrong', 'you re young', 'you re young', 'you re young', 'he is british', 'he is english', 'he is a thief', 'he is foolish', 'he is my boss', 'he is my type !', 'he is no fool', 'he is no fool', 'he is out now', 'he is reading', 'he is reading', 'he is running', 'he is skating', 'he is skating', 'he is too old', 'he s a grouch', 'he s a jesuit', 'he s a senior', 'he s a senior', 'he s a senior', 'he s a tycoon', 'he s addicted', 'he s addicted', 'he s addicted', 'he s adorable', 'he s after me', 'he s after me', 'he s after me', 'he s after me', 'he s annoying', 'he s demented', 'he s in tokyo', 'he s innocent', 'he s innocent', 'he s insecure', 'he s insecure', 'he s no saint', 'he s no saint', 'he s not home', 'he s not sick', 'he s outraged', 'he s ruthless', 'he s ruthless', 'he s so young', 'he s so young', 'he s studying', 'he s studying', 'he s too busy', 'he s too slow', 'he s very ill', 'he s very ill', 'he s your son', 'he s your son', 'he s your son', 'he s your son', 'i am american', 'i am american', 'i am japanese', 'i am a muslim', 'i am a muslim', 'i am a muslim', 'i am a runner', 'i am all ears', 'i am diabetic', 'i am divorced', 'i am divorced', 'i am in paris', 'i am new here', 'i am new here', 'i am not deaf', 'i am so sorry', 'i am so sorry', 'i am very sad', 'i m a patient', 'i m a patient', 'i m a student', 'i m a teacher', 'i m a teacher', 'i m adaptable', 'i m afraid so', 'i m all alone', 'i m all right', 'i m all yours', 'i m all yours', 'i m all yours', 'i m all yours', 'i m ambitious', 'i m ambitious', 'i m an artist', 'i m an artist', 'i m an orphan', 'i m attentive', 'i m attentive', 'i m available', 'i m beautiful', 'i m beautiful', 'i m busy too', 'i m busy too', 'i m busy too', 'i m busy too', 'i m concerned', 'i m concerned', 'i m confident', 'i m contented', 'i m contented', 'i m convinced', 'i m depressed', 'i m desperate', 'i m desperate', 'i m different', 'i m disgusted', 'i m disgusted', 'i m easygoing', 'i m exhausted', 'i m exhausted', 'i m exhausted', 'i m exhausted', 'i m exhausted', 'i m exhausted', 'i m exhausted', 'i m forgetful', 'i m forgetful', 'i m forgetful', 'i m forgetful', 'i m home tom', 'i m hung over', 'i m impatient', 'i m impatient', 'i m important', 'i m impressed', 'i m impulsive', 'i m impulsive', 'i m in boston', 'i m in danger', 'i m intrigued', 'i m intrigued', 'i m intrigued', 'i m just lazy', 'i m just lazy', 'i m listening', 'i m motivated', 'i m motivated', 'i m no expert', 'i m not a cop', 'i m not a fan', 'i m not a fan', 'i m not alone', 'i m not alone', 'i m not angry !', 'i m not angry', 'i m not armed', 'i m not armed', 'i m not blind', 'i m not crazy', 'i m not crazy', 'i m not dying', 'i m not going', 'i m not going', 'i m not going', 'i m not happy', 'i m not happy', 'i m not happy', 'i m not happy', 'i m not lying', 'i m not naive', 'i m not naive', 'i m not obese', 'i m not ready', 'i m not ready', 'i m not short', 'i m not tired', 'i m not tired', 'i m not young', 'i m observant', 'i m observant', 'i m observant', 'i m observant', 'i m on a diet', 'i m on my way', 'i m on my way', 'i m plastered', 'i m powerless', 'i m powerless', 'i m realistic', 'i m resentful', 'i m resilient', 'i m resilient', 'i m resilient', 'i m satisfied', 'i m saying no', 'i m sensitive', 'i m so hungry', 'i m surprised', 'i m surprised', 'i m surviving', 'i m terrified', 'i m terrified', 'i m tired now', 'i m too drunk', 'i m uninsured', 'i m uninsured', 'i m unmarried', 'i m very cold', 'i m very poor', 'i m voting no', 'i m your boss', 'i m your boss', 'i m falling', 'she is french', 'she is a twin', 'she is a twin', 'she is active', 'she is crying', 'she is crying', 'she is gentle', 'she is strong', 'she s a cutie', 'she s a model', 'she s a model', 'she s awesome', 'she s dieting', 'she s my type', 'they are here', 'they re asian', 'they re asian', 'they re alive', 'they re angry', 'they re angry', 'they re armed', 'they re armed', 'they re awake', 'they re awake', 'they re brave', 'they re brave', 'they re brave', 'they re broke', 'they re broke', 'they re clean', 'they re clean', 'they re crazy', 'they re crazy', 'they re drunk', 'they re drunk', 'they re dying', 'they re dying', 'they re early', 'they re early', 'they re happy', 'they re lying', 'they re lying', 'they re small', 'they re small', 'they re spies', 'they re spies', 'they re there', 'they re tired', 'they re tired', 'they re wrong', 'we are at war', 'we are doomed', 'we re a group', 'we re anxious', 'we re ashamed', 'we re baffled', 'we re careful', 'we re careful', 'we re certain', 'we re certain', 'we re cousins', 'we re dancing', 'we re dieting', 'we re engaged', 'we re fasting', 'we re friends', 'we re friends', 'we re in love', 'we re in love', 'we re in love', 'we re in luck', 'we re in luck', 'we re in pain', 'we re in sync', 'we re in sync', 'we re in town', 'we re jealous', 'we re kidding', 'we re married', 'we re not fit', 'we re not mad', 'we re not mad', 'we re not old', 'we re not old', 'we re reading', 'we re relaxed', 'we re relaxed', 'we re serious', 'we re serious', 'we re shocked', 'we re shocked', 'we re sincere', 'we re sinking', 'we re sinking', 'we re sloshed', 'we re sloshed', 'we re smashed', 'we re smashed', 'we re special', 'we re stalled', 'we re starved', 'we re starved', 'we re staying', 'we re stuffed', 'we re stuffed', 'we re stunned', 'we re stunned', 'we re through', 'we re through', 'we re too old', 'we re touched', 'we re touched', 'we re trapped !', 'we re trapped !', 'we re trapped', 'we re trapped', 'we re unhappy', 'we re unhappy', 'we re unlucky', 'we re unlucky', 'we re useless', 'we re waiting', 'we re wealthy', 'we re winners', 'we re winning', 'we re working', 'we re worried', 'you are crazy', 'you are drunk !', 'you are drunk !', 'you are early', 'you are early', 'you are early', 'you are early', 'you are early', 'you are early', 'you are early', 'you are lying', 'you are lying', 'you are lying', 'you are sharp', 'you are wrong', 'you are wrong', 'you re a doll !', 'you re a doll !', 'you re a liar', 'you re a liar', 'you re a liar', 'you re a liar', 'you re a nerd', 'you re a snob', 'you re a snob', 'you re biased', 'you re biased', 'you re boring', 'you re boring', 'you re bright', 'you re bright', 'you re bright', 'you re bright', 'you re bright', 'you re bright', 'you re clever', 'you re clever', 'you re clever', 'you re clever', 'you re clever', 'you re clever', 'you re crafty', 'you re crafty', 'you re crafty', 'you re crafty', 'you re crafty', 'you re crafty', 'you re crafty', 'you re crafty', 'you re crafty', 'you re crafty', 'you re creepy', 'you re creepy', 'you re creepy', 'you re famous', 'you re famous', 'you re famous', 'you re famous', 'you re famous', 'you re famous', 'you re greedy', 'you re greedy', 'you re greedy', 'you re grumpy', 'you re grumpy', 'you re grumpy', 'you re grumpy', 'you re grumpy', 'you re grumpy', 'you re insane', 'you re joking !', 'you re joking !', 'you re loaded', 'you re loaded', 'you re loaded', 'you re loaded', 'you re losing', 'you re losing', 'you re no fun', 'you re no fun', 'you re pretty', 'you re pretty', 'you re single', 'you re single', 'you re skinny', 'you re skinny', 'you re skinny', 'you re skinny', 'you re skinny', 'you re skinny', 'you re sleepy', 'you re sleepy', 'you re sleepy', 'you re sleepy', 'you re sleepy', 'you re sleepy', 'you re sneaky', 'you re sneaky', 'you re sneaky', 'you re sneaky', 'you re sneaky', 'you re stupid', 'you re unfair', 'he is american', 'he is canadian', 'he is japanese', 'he is a genius', 'he is a writer', 'he is an actor', 'he is bankrupt', 'he is in tokyo', 'he is my uncle', 'he is outgoing', 'he is outgoing', 'he is outgoing', 'he is powerful', 'he is well off', 'he s a bit shy', 'he s a bit shy', 'he s a gambler', 'he s a gambler', 'he s a man now', 'he s a slacker', 'he s a slacker', 'he s all right', 'he s an author', 'he s an author', 'he s an ex con', 'he s an outlaw', 'he s depressed', 'he s henpecked', 'he s in danger', 'he s in prison', 'he s in prison', 'he s my friend', 'he s my friend', 'he s my friend', 'he s not going', 'he s not going', 'he s not going', 'he s not ready', 'he s so stupid', 'he s too drunk', 'he s too drunk', 'he s very open', 'i am hungarian', 'i am a shy boy', 'i am a student', 'i am a teacher', 'i am a tourist', 'i am after him', 'i am an artist', 'i am an artist', 'i am exhausted', 'i am exhausted', 'i am exhausted', 'i am exhausted', 'i am exhausted', 'i am exhausted', 'i am in london', 'i am in a spot', 'i am in a spot', 'i am not happy', 'i am not happy', 'i am not happy', 'i am not happy', 'i am off today', 'i am off today', 'i am off today', 'i am too short', 'i am very tall', 'i am very tall', 'i m a bit busy', 'i m a diabetic', 'i m a free man', 'i m a good guy', 'i m a musician', 'i m a musician', 'i m a nice guy', 'i m a real man', 'i m a salesman', 'i m afraid not', 'i m afraid not', 'i m against it', 'i m all thumbs', 'i m an old man', 'i m astonished', 'i m astonished', 'i m behind him', 'i m being used', 'i m contagious', 'i m contagious', 'i m dead tired', 'i m dehydrated', 'i m dehydrated', 'i m dependable', 'i m dependable', 'i m devastated', 'i m devastated', 'i m doing well', 'i m downstairs', 'i m eating now', 'i m exercising', 'i m farsighted', 'i m fascinated', 'i m fascinated', 'i m firing you', 'i m firing you', 'i m free today', 'i m from kyoto', 'i m from kyoto', 'i m from tokyo', 'i m going back', 'i m going bald', 'i m happy here', 'i m happy here', 'i m happy too', 'i m happy too', 'i m happy too', 'i m happy too', 'i m having fun', 'i m illiterate', 'i m in the car', 'i m interested', 'i m interested', 'i m just tired', 'i m just tired', 'i m just tired', 'i m just tired', 'i m mad at you', 'i m mad at you', 'i m making tea', 'i m meditating', 'i m methodical', 'i m no quitter', 'i m no quitter', 'i m no quitter', 'i m not a fool', 'i m not a hero', 'i m not a liar', 'i m not a liar', 'i m not amused', 'i m not asleep', 'i m not asleep', 'i m not bitter', 'i m not bitter', 'i m not cranky', 'i m not cranky', 'i m not crying', 'i m not guilty', 'i m not insane', 'i m not insane', 'i m not joking', 'i m not joking', 'i m not lonely', 'i m not normal', 'i m not normal', 'i m not pretty', 'i m not racist', 'i m not scared', 'i m not skinny', 'i m not skinny', 'i m not sleepy', 'i m not sleepy', 'i m not strong', 'i m not strong', 'i m old enough', 'i m old enough', 'i m on holiday', 'i m on holiday', 'i m one of you', 'i m one of you', 'i m optimistic', 'i m out of gas', 'i m prejudiced', 'i m really old', 'i m reasonable', 'i m remodeling', 'i m right here', 'i m so thirsty', 'i m so unlucky !', 'i m still busy', 'i m still busy', 'i m still here', 'i m successful', 'i m sure of it', 'i m the killer', 'i m the oldest', 'i m the oldest', 'i m undressing', 'i m undressing', 'i m unemployed', 'i m untalented', 'i m untalented', 'i m untalented', 'i m used to it', 'i m used to it', 'i m used to it', 'i m used to it', 'i m vegetarian', 'i m very happy', 'i m very happy', 'i m very short', 'i m very sorry', 'i m very tired', 'i m very tired', 'i m very upset', 'i m very upset', 'i m very upset', 'i m very upset', 'i m wide awake', 'i m wide awake', 'she is a nurse', 'she is awkward', 'she is dieting', 'she is talking', 'she isn t poor', 'she s a beauty', 'she s a beauty', 'she s a hottie', 'she s a looker', 'she s adorable', 'she s an angel', 'she s demented', 'she s divorced', 'she s innocent', 'she s innocent', 'she s not here', 'she s pregnant', 'she s pregnant', 'she s pregnant', 'she s too loud', 'she s too loud', 'they are alone', 'they are alone', 'they are bored', 'they are bored', 'they re asleep', 'they re asleep', 'they re babies', 'they re boring', 'they re boring', 'they re coming', 'they re coming', 'they re coming', 'they re coming', 'they re idiots', 'they re inside', 'they re strong', 'they re strong', 'we are all set', 'we are all set', 'we re a couple', 'we re a family', 'we re all busy', 'we re all busy', 'we re all done', 'we re all done', 'we re all ears', 'we re all here', 'we re all here', 'we re all here', 'we re all here', 'we re all safe', 'we re all safe', 'we re brothers', 'we re confused', 'we re divorced', 'we re escaping', 'we re fighting', 'we re finished', 'we re finished', 'we re finished', 'we re finished', 'we re freezing', 'we re grateful', 'we re grateful', 'we re helpless', 'we re helpless', 'we re here now', 'we re managing', 'we re not cops', 'we re not cops', 'we re not done', 'we re not done', 'we re not free', 'we re not home', 'we re not home', 'we re not late', 'we re not lost', 'we re not lost', 'we re not open', 'we re not open', 'we re not rich', 'we re not safe', 'we re not sure', 'we re not sure', 'we re not sure', 'we re not sure', 'we re obedient', 'we re obedient', 'we re partners', 'we re powerful', 'we re powerful', 'we re prepared', 'we re punctual', 'we re punctual', 'we re quitting', 'we re reliable', 'we re retiring', 'we re retiring', 'we re ruthless', 'we re safe now', 'we re so sorry', 'we re standing', 'we re starving', 'we re stubborn', 'we re stubborn', 'we re students', 'we re the best', 'we re the best', 'we re the last', 'we re the last', 'we re the same', 'we re the same', 'we re too busy', 'we re too busy', 'we re too late', 'we re too weak', 'we re up early', 'you are morons', 'you are morons', 'you are morons', 'you are stupid', 'you aren t tom', 'you aren t tom', 'you re a prude', 'you re a prude', 'you re a prude', 'you re a prude', 'you re all mad', 'you re all mad', 'you re all set', 'you re all set', 'you re amazing', 'you re amazing', 'you re amazing', 'you re amusing', 'you re amusing', 'you re awesome', 'you re awesome', 'you re awesome', 'you re awesome', 'you re callous', 'you re callous', 'you re careful', 'you re careful', 'you re correct', 'you re elusive', 'you re elusive', 'you re finicky', 'you re finicky', 'you re finicky', 'you re finicky', 'you re finicky', 'you re finicky', 'you re foolish', 'you re foolish', 'you re foolish', 'you re foolish', 'you re foolish', 'you re foolish', 'you re in luck', 'you re in luck', 'you re in luck', 'you re in luck', 'you re in luck', 'you re in luck', 'you re invited', 'you re invited', 'you re invited', 'you re invited', 'you re invited', 'you re invited', 'you re jealous', 'you re kidding !', 'you re kidding !', 'you re kidding !', 'you re kidding !', 'you re my type', 'you re no help', 'you re no help', 'you re not bad', 'you re not bad', 'you re not fat', 'you re not fat', 'you re not fat', 'you re not fat', 'you re not fat', 'you re not fit', 'you re not fit', 'you re not fit', 'you re not fit', 'you re precise', 'you re precise', 'you re precise', 'you re psyched', 'you re psyched', 'you re psychic', 'you re psychic', 'you re selfish', 'you re selfish', 'you re selfish', 'you re sloshed', 'you re smashed', 'you re so mean', 'you re so mean', 'you re so mean', 'you re so mean', 'you re so mean', 'you re so mean', 'you re the pro', 'you re the pro', 'you re through', 'you re through', 'you re through', 'you re useless', 'you re welcome', 'you re welcome', 'you re welcome', 'you re welcome', 'you re winning', 'you re winning', 'you re winning', 'you re winning', 'he is a bad boy', 'he is a dreamer', 'he is a painter', 'he is a painter', 'he is a psychic', 'he is a psychic', 'he is a student', 'he is a student', 'he is a teacher', 'he is a teacher', 'he is depressed', 'he is my friend', 'he is off today', 'he is unmarried', 'he is unmarried', 'he is very tall', 'he is well paid', 'he s a bad liar', 'he s a comedian', 'he s a frat boy', 'he s a freshman', 'he s a freshman', 'he s a gardener', 'he s a good boy', 'he s a newcomer', 'he s a real man', 'he s a slowpoke', 'he s a slowpoke', 'he s a southpaw', 'he s a southpaw', 'he s going bald', 'he s helping me', 'he s my husband', 'he s my partner', 'he s my partner', 'he s my partner', 'he s not a hero', 'he s not a liar', 'he s not in yet', 'he s not stupid', 'he s on his way', 'he s on his way', 'he s photogenic', 'he s right here', 'he s wide awake', 'i am a japanese', 'i am a bachelor', 'i am a good boy', 'i am busy today', 'i am from egypt', 'i am in trouble', 'i am in trouble', 'i am in trouble', 'i am not eating', 'i am undressing', 'i am undressing', 'i am very sorry', 'i am very tired', 'i m azerbaijani', 'i m a tv addict', 'i m a bit drunk', 'i m a bit tipsy', 'i m a bit tipsy', 'i m a bit tired', 'i m a foreigner', 'i m a good cook', 'i m a happy man', 'i m a housewife', 'i m a masochist', 'i m a night owl', 'i m able to run', 'i m able to ski', 'i m about ready', 'i m about ready', 'i m about ready', 'i m about ready', 'i m adventurous', 'i m an engineer', 'i m at work now', 'i m begging you', 'i m begging you', 'i m catching on', 'i m catching on', 'i m celebrating', 'i m celebrating', 'i m cleaned out', 'i m color blind', 'i m comfortable', 'i m coming home', 'i m cooperating', 'i m cracking up', 'i m eating here', 'i m embarrassed', 'i m feeling fit', 'i m feeling low', 'i m feeling low', 'i m from brazil', 'i m from brazil', 'i m from france', 'i m from turkey', 'i m from zambia', 'i m getting old', 'i m getting old', 'i m getting old', 'i m getting old', 'i m going crazy', 'i m going crazy', 'i m hardworking', 'i m hardworking', 'i m heartbroken', 'i m here to win', 'i m in no hurry', 'i m in no hurry', 'i m interfering', 'i m introverted', 'i m introverted', 'i m leaving now', 'i m left handed', 'i m lucky today', 'i m married now', 'i m nearsighted', 'i m not english', 'i m not english', 'i m not a child', 'i m not a child', 'i m not a crook', 'i m not a drunk', 'i m not a drunk', 'i m not a robot', 'i m not a saint', 'i m not a saint', 'i m not a thief', 'i m not a thief', 'i m not alarmed', 'i m not arguing', 'i m not ashamed', 'i m not certain', 'i m not certain', 'i m not chicken', 'i m not jealous', 'i m not kidding', 'i m not leaving', 'i m not married', 'i m not married', 'i m not nervous', 'i m not nervous', 'i m not patient', 'i m not patient', 'i m not perfect', 'i m not perfect', 'i m not selfish', 'i m not so sure', 'i m not so sure', 'i m not staying', 'i m not unhappy', 'i m not unhappy', 'i m not wealthy', 'i m not worried', 'i m now unarmed', 'i m on vacation', 'i m only joking', 'i m out of ammo', 'i m persevering', 'i m pretty busy', 'i m pretty busy', 'i m quite happy', 'i m quite happy', 'i m quite tired', 'i m rather busy', 'i m rather busy', 'i m ready to go', 'i m ready to go', 'i m ready to go', 'i m really busy', 'i m really busy', 'i m really cold', 'i m replaceable', 'i m resourceful', 'i m resourceful', 'i m sick of you', 'i m sick of you', 'i m so confused', 'i m so confused', 'i m spontaneous', 'i m spontaneous', 'i m such a fool', 'i m sympathetic', 'i m the captain', 'i m the surgeon', 'i m the teacher', 'i m the teacher', 'i m tired of it', 'i m truly sorry', 'i m truly sorry', 'i m trustworthy', 'i m trustworthy', 'i m unambitious', 'i m unambitious', 'i m unconvinced', 'i m unconvinced', 'i m very hungry', 'i m very hungry', 'i m very hungry', 'i m very hungry', 'i m very modest', 'i m very sleepy', 'i m very strict', 'i m very strict', 'i m watching tv', 'i m your doctor', 'i m your friend', 'i m your friend', 'i m your friend', 'i m your friend', 'i m your lawyer', 'i m your sister', 'i m your sister', 'she is canadian', 'she is japanese', 'she is a beauty', 'she is a beauty', 'she is a doctor', 'she is a doctor', 'she is a runner', 'she is a singer', 'she is a typist', 'she is a typist', 'she is graceful', 'she is not tall', 'she is powerful', 'she is stubborn', 'she s assertive', 'she s depressed', 'she s in danger', 'she s my friend', 'she s my friend', 'she s my sister', 'she s no singer', 'she s on a roll', 'she s on a roll', 'she s very tall', 'they are actors', 'they are melons', 'they re all bad', 'they re all bad', 'they re amazing', 'they re amazing', 'they re animals', 'they re arguing', 'they re arguing', 'they re cousins', 'they re cousins', 'they re dancing', 'they re dancing', 'they re doctors', 'they re doctors', 'they re jittery', 'they re jittery', 'they re jittery', 'they re jittery', 'they re leaving', 'they re leaving', 'they re not bad', 'they re outside', 'they re outside', 'they re similar', 'they re similar', 'they re similar', 'they re similar', 'they re smiling', 'they re special', 'they re special', 'they re staying', 'they re staying', 'they re talking', 'they re talking', 'they re too fat', 'they re too fat', 'they re too fat', 'they re too fat', 'they re useless', 'they re useless', 'they re with me', 'we are a family', 'we are brothers', 'we are busy men', 'we are his sons', 'we are students', 'we are teachers', 'we are teachers', 'we are the best', 'we are watching', 'we re canadians', 'we re canadians', 'we re adaptable', 'we re all alone', 'we re all angry', 'we re all angry', 'we re all armed', 'we re all armed', 'we re all bored', 'we re all bored', 'we re all crazy', 'we re all crazy', 'we re all crazy', 'we re all crazy', 'we re all dying', 'we re all going', 'we re ambitious', 'we re ambitious', 'we re available', 'we re both fine', 'we re both fine', 'we re comedians', 'we re committed', 'we re committed', 'we re confident', 'we re contented', 'we re contented', 'we re dedicated', 'we re dedicated', 'we re depressed', 'we re different', 'we re different', 'we re done here', 'we re fixing it', 'we re flattered', 'we re from here', 'we re gardeners', 'we re gentlemen', 'we re giving up', 'we re going now', 'we re going out', 'we re here too', 'we re here too', 'we re in charge', 'we re in charge', 'we re in danger', 'we re listening', 'we re losing it', 'we re newcomers', 'we re newcomers', 'we re newlyweds', 'we re not alone', 'we re not alone', 'we re not fools', 'we re not fussy', 'we re not going', 'we re not going', 'we re not going', 'we re not happy', 'we re not happy', 'we re not happy', 'we re not happy', 'we re not ready', 'we re not young', 'we re past that', 'we re plastered', 'we re plastered', 'we re powerless', 'we re powerless', 'we re prisoners', 'we re prisoners', 'we re ready now', 'we re ready now', 'we re ready now', 'we re ready now', 'we re realistic', 'we re resigning', 'we re resilient', 'we re resilient', 'we re safe here', 'we re satisfied', 'we re satisfied', 'we re sensitive', 'we re separated', 'we re separated', 'we re surprised', 'we re surprised', 'we re surviving', 'we re survivors', 'we re survivors', 'we re too close', 'we re too close', 'we re uninsured', 'we re uninsured', 'we re unrelated', 'we re unrelated', 'we re very busy', 'we re very busy', 'we re very busy', 'you are my hero', 'you are my hero', 'you are my hero', 'you are my hero', 'you are naughty', 'you are naughty', 'you are naughty', 'you are naughty', 'you are so cute', 'you are tallest', 'you are the one', 'you are the one', 'you are the one', 'you are the one', 'you are the one', 'you are the one', 'you are the one', 'you are the one', 'you re adorable', 'you re adorable', 'you re adorable', 'you re all done', 'you re all done', 'you re all mine', 'you re all mine', 'you re an idiot', 'you re annoying', 'you re annoying', 'you re annoying', 'you re annoying', 'you re arrogant', 'you re arrogant', 'you re arrogant', 'you re arrogant', 'you re arrogant', 'you re arrogant', 'you re blushing', 'you re careless', 'you re careless', 'you re charming', 'you re charming', 'you re charming', 'you re charming', 'you re charming', 'you re charming', 'you re cheating', 'you re cheating', 'you re confused', 'you re confused', 'you re creative', 'you re creative', 'you re creative', 'you re creative', 'you re creative', 'you re creative', 'you re demented', 'you re demented', 'you re demented', 'you re disloyal', 'you re disloyal', 'you re disloyal', 'you re disloyal', 'you re disloyal', 'you re disloyal', 'you re faithful', 'you re faithful', 'you re faithful', 'you re fearless', 'you re fearless', 'you re fearless', 'you re forgiven', 'you re forgiven', 'you re forgiven', 'you re forgiven', 'you re forgiven', 'you re forgiven', 'you re forgiven', 'you re grounded', 'you re grounded', 'you re horrible', 'you re horrible', 'you re mistaken', 'you re mistaken', 'you re my enemy', 'you re my enemy', 'you re no saint', 'you re no saint', 'you re no saint', 'you re no saint', 'you re not dead', 'you re not dead', 'you re not dead', 'you re not dead', 'you re not dead', 'you re not dead', 'you re not late', 'you re not late', 'you re not sick', 'you re not sick', 'you re not sick', 'you re outgoing', 'you re pathetic', 'you re pathetic', 'you re pathetic', 'you re powerful', 'you re powerful', 'you re powerful', 'you re powerful', 'you re powerful', 'you re punctual', 'you re punctual', 'you re reliable', 'you re reliable', 'you re reliable', 'you re restless', 'you re restless', 'you re ruthless', 'you re ruthless', 'you re safe now', 'you re safe now', 'you re so bossy', 'you re so bossy', 'you re so picky', 'you re so picky', 'you re so picky', 'you re so sweet', 'you re so sweet', 'you re so sweet', 'you re so sweet', 'you re so sweet', 'you re so sweet', 'you re so sweet', 'you re so sweet', 'you re so sweet', 'you re so sweet', 'you re so sweet', 'you re so sweet', 'you re so wrong', 'you re so wrong', 'you re stalling', 'you re stalling', 'you re stubborn', 'you re stubborn', 'you re talented', 'you re talented', 'you re talented', 'you re talented', 'you re talented', 'you re the best', 'you re the best', 'you re the best', 'you re the best', 'you re the boss', 'you re too loud', 'you re too loud', 'you re too loud', 'you re too loud', 'you re too loud', 'you re too loud', 'you re too slow', 'you re too slow', 'you re too slow', 'you re too slow', 'you re too slow', 'you re too slow', 'you re too weak', 'he is a kind boy', 'he is an acrobat', 'he is dead drunk', 'he is distracted', 'he is doing well', 'he is her friend', 'he is in pajamas', 'he is in trouble', 'he is in trouble', 'he is in trouble', 'he is just a kid', 'he is my brother', 'he is my teacher', 'he is never lazy', 'he is not stupid', 'he is photogenic', 'he is still here', 'he is very angry', 'he is very angry', 'he is very brave', 'he is very brave', 'he is very young', 'he is well liked', 'he isn t at home', 'he isn t married', 'he isn t perfect', 'he s a bartender', 'he s a bartender', 'he s a bit drunk', 'he s a bit naive', 'he s a bit naive', 'he s a bit tipsy', 'he s a cat lover', 'he s a gentleman', 'he s a good liar', 'he s a grown man', 'he s a historian', 'he s a nonsmoker', 'he s a sophomore', 'he s a sweet guy', 'he s about to go', 'he s about to go', 'he s about to go', 'he s at her side', 'he s at her side', 'he s getting old', 'he s got the flu', 'he s here for me', 'he s here for me', 'he s in my class', 'he s intelligent', 'he s just a liar', 'he s kind of shy', 'he s love struck', 'he s new in town', 'he s not at home', 'he s not at home', 'he s not like us', 'he s not married', 'he s not my type', 'he s not perfect', 'he s not serious', 'he s open minded', 'he s open minded', 'he s out of town', 'he s out of town', 'he s ready to go', 'he s ready to go', 'he s still alive', 'he s still alive', 'he s such a jerk', 'he s such a jerk', 'he s unconscious', 'he s watching me', 'he s your father', 'he s your father', 'he s your friend', 'he s your friend', 'he s your friend', 'i am a bit drunk', 'i am a foreigner', 'i am a housewife', 'i am a masochist', 'i am a professor', 'i am a volunteer', 'i am an american', 'i am an american', 'i am cooking now', 'i am dumbfounded', 'i am from brazil', 'i am from france', 'i am from russia', 'i am frying fish', 'i am not kidding', 'i am on duty now', 'i am on duty now', 'i am only joking', 'i am out of time', 'i am out of work', 'i am out of work', 'i am paid weekly', 'i am pretty sure', 'i am truly sorry', 'i am truly sorry', 'i m years old', 'i m years old', 'i m years old', 'i m tom s cousin', 'i m a bank clerk', 'i m a bit hungry', 'i m a lonely man', 'i m a normal guy', 'i m a normal guy', 'i m a shutterbug', 'i m able to swim', 'i m all confused', 'i m all confused', 'i m all for that', 'i m already done', 'i m already done', 'i m already rich', 'i m always happy', 'i m always happy', 'i m always happy', 'i m always happy', 'i m always moody', 'i m ambidextrous', 'i m at the beach', 'i m between jobs', 'i m between jobs', 'i m between jobs', 'i m by your side', 'i m by your side', 'i m by your side', 'i m by your side', 'i m by your side', 'i m by your side', 'i m by your side', 'i m by your side', 'i m confused now', 'i m disappointed', 'i m dissatisfied', 'i m dissatisfied', 'i m done with it', 'i m eating lunch', 'i m fairly happy', 'i m fairly happy', 'i m fairly happy', 'i m fairly happy', 'i m feeling good', 'i m fine with it', 'i m fine with it', 'i m fine with it', 'i m freaking out', 'i m from america', 'i m from croatia', 'i m from england', 'i m from romania', 'i m going to bed', 'i m going to bed', 'i m good for now', 'i m happy enough', 'i m happy enough', 'i m happy enough', 'i m happy enough', 'i m homeschooled', 'i m homeschooled', 'i m housesitting', 'i m in the attic', 'i m in the house', 'i m inviting you', 'i m just curious', 'i m just curious', 'i m just kidding', 'i m just kidding', 'i m just looking', 'i m killing time', 'i m kind of full', 'i m no different', 'i m no different', 'i m not a beggar', 'i m not a doctor', 'i m not a genius', 'i m not bluffing', 'i m not bluffing', 'i m not blushing !', 'i m not bragging', 'i m not counting', 'i m not dead yet', 'i m not dead yet', 'i m not done yet', 'i m not done yet', 'i m not dreaming', 'i m not fighting', 'i m not finished', 'i m not like you', 'i m not like you', 'i m not mistaken', 'i m not offended', 'i m not offended', 'i m not outgoing', 'i m not outgoing', 'i m not paranoid', 'i m not so lucky', 'i m not sure why', 'i m not sure why', 'i m not the boss', 'i m not the boss', 'i m not your son', 'i m not your son', 'i m on your side', 'i m out of ideas', 'i m out of shape', 'i m overreacting', 'i m pretty angry', 'i m pretty happy', 'i m pretty happy', 'i m proud of you', 'i m real careful', 'i m real careful', 'i m really angry', 'i m really happy', 'i m really happy', 'i m really happy', 'i m really happy', 'i m really tired', 'i m retired too', 'i m retired too', 'i m retired too', 'i m retired too', 'i m sick of fish', 'i m sick of this', 'i m staying here', 'i m still hungry', 'i m still hungry', 'i m still single', 'i m still sleepy', 'i m still sleepy', 'i m still trying', 'i m stronger now', 'i m super hungry', 'i m very serious', 'i m very serious', 'i m very thirsty', 'i m very thirsty', 'i m volunteering', 'i m volunteering', 'i m watching you', 'i m working here', 'i m your brother', 'i m your partner', 'i m your partner', 'she is a pianist', 'she is a student', 'she is easygoing', 'she is mad at me', 'she is no beauty', 'she is not wrong', 'she is obstinate', 'she is on a diet', 'she is very busy', 'she is very wise', 'she s a bad liar', 'she s nice to me', 'she s not a liar', 'she s very upset', 'she s very upset', 'they are russian', 'they are russian', 'they are arguing', 'they are arguing', 'they are artists', 'they are artists', 'they are doctors', 'they are doctors', 'they are singers', 'they re all dead', 'they re all dead', 'they re all dead', 'they re all dead', 'they re all fake', 'they re all fake', 'they re all gone', 'they re all gone', 'they re all gone', 'they re all gone', 'they re all here', 'they re all here', 'they re all here', 'they re all here', 'they re all mine', 'they re all mine', 'they re all mine', 'they re all mine', 'they re all nuts', 'they re all nuts', 'they re all safe', 'they re all safe', 'they re not dead', 'they re not dead', 'they re not evil', 'they re not evil', 'they re not mine', 'they re so funny', 'they re stalling', 'they re stalling', 'they re stalling', 'they re stalling', 'they re students', 'they re students', 'they re students', 'they re students', 'they re students', 'they re traitors', 'we are not alone', 'we are not alone', 'we re a bit late', 'we re a bit late', 'we re all afraid', 'we re all afraid', 'we re all hungry', 'we re all hungry', 'we re all scared', 'we re all scared', 'we re all single', 'we re all single', 'we re all unique', 'we re alone here', 'we re alone here', 'we re astonished', 'we re back early', 'we re being used', 'we re both right', 'we re both right', 'we re both wrong', 'we re both wrong', 'we re classmates', 'we re doing well', 'we re downsizing', 'we re getting it', 'we re going back', 'we re going down', 'we re going east', 'we re going east', 'we re going west', 'we re going west', 'we re half right', 'we re having fun', 'we re here alone', 'we re here alone', 'we re here early', 'we re home early', 'we re in college', 'we re in control', 'we re in trouble', 'we re in trouble', 'we re just lucky', 'we re just tired', 'we re just tired', 'we re lifeguards', 'we re meditating', 'we re not buying', 'we re not dating', 'we re not dating', 'we re not eating', 'we re not family', 'we re not guilty', 'we re not moving', 'we re not needed', 'we re not stupid', 'we re not stupid', 'we re on our own', 'we re on our own', 'we re on our way', 'we re prejudiced', 'we re right here', 'we re speechless', 'we re still here', 'we re successful', 'we re surrounded', 'we re taking off', 'we re the owners', 'we re undressing', 'we re undressing', 'we re unemployed', 'we re unemployed', 'we re untalented', 'we re untalented', 'we re very close', 'we re very close', 'we re very happy', 'you are a doctor', 'you are a doctor', 'you are a genius', 'you are a genius', 'you are blushing', 'you are children', 'you are deranged', 'you are dreaming', 'you are dreaming', 'you are fabulous', 'you are fabulous', 'you are gorgeous', 'you are gorgeous', 'you are hopeless', 'you are hopeless', 'you are not kind', 'you are to blame', 'you are to blame', 'you are too late', 'you are too late', 'you aren t wrong', 'you re a man now', 'you re a man now', 'you re a traitor', 'you re a traitor', 'you re a traitor', 'you re a traitor', 'you re all alone', 'you re all alone', 'you re all alone', 'you re all alone', 'you re all alone', 'you re all alone', 'you re all crazy', 'you re all crazy', 'you re all happy', 'you re all happy', 'you re all happy', 'you re all happy', 'you re all happy', 'you re all happy', 'you re all right', 'you re all right', 'you re ambitious', 'you re ambitious', 'you re ambitious', 'you re ambitious', 'you re ambitious', 'you re assertive', 'you re assertive', 'you re assertive', 'you re beautiful', 'you re beautiful', 'you re beautiful', 'you re beautiful', 'you re conceited', 'you re conceited', 'you re conceited', 'you re conceited', 'you re conceited', 'you re conceited', 'you re courteous', 'you re courteous', 'you re courteous', 'you re courteous', 'you re courteous', 'you re exhausted', 'you re exhausted', 'you re exhausted', 'you re forgetful', 'you re forgetful', 'you re forgetful', 'you re forgetful', 'you re forgetful', 'you re forgetful', 'you re fortunate', 'you re fortunate', 'you re fortunate', 'you re fortunate', 'you re fortunate', 'you re fortunate', 'you re impatient', 'you re impatient', 'you re in danger', 'you re in danger', 'you re my friend', 'you re no doctor', 'you re no doctor', 'you re no singer', 'you re no singer', 'you re no singer', 'you re no singer', 'you re not alone', 'you re not alone', 'you re not alone', 'you re not alone', 'you re not alone', 'you re not alone', 'you re not dying', 'you re not fired', 'you re not fired', 'you re not fired', 'you re not fired', 'you re not fired', 'you re not fired', 'you re obnoxious', 'you re obnoxious', 'you re obnoxious', 'you re obnoxious', 'you re obnoxious', 'you re observant', 'you re powerless', 'you re powerless', 'you re resilient', 'you re resilient', 'you re resilient', 'you re resilient', 'you re resilient', 'you re resilient', 'you re resilient', 'you re resilient', 'you re resilient', 'you re shivering', 'you re so pretty', 'you re talkative', 'you re talkative', 'you re talkative', 'you re talkative', 'you re talkative', 'you re talkative', 'you re too naive', 'you re too tense', 'you re too tense', 'you re too tense', 'you re too tense', 'you re too tense', 'you re too tense', 'you re unethical', 'you re unethical', 'you re very busy', 'you re very busy', 'you re very busy', 'you re very busy', 'you re very busy', 'you re very busy', 'you re very busy', 'you re very busy', 'you re very busy', 'you re very busy', 'you re very busy', 'you re very busy', 'you re very good', 'you re very good', 'you re very good', 'you re very good', 'you re very good', 'you re very good', 'you re very good', 'you re very good', 'you re very good', 'you re very good', 'you re very good', 'you re very good', 'you re very late', 'you re very nice', 'you re very nice', 'you re very nice', 'you re very nice', 'you re very nice', 'you re very nice', 'you re very nice', 'you re very nice', 'you re very nice', 'you re very open', 'you re very open', 'you re very open', 'you re very open', 'you re very open', 'you re very open', 'you re very rude', 'you re very rude', 'you re very rude', 'you re very rude', 'you re very rude', 'you re very rude', 'you re very rude', 'you re very rude', 'you re very rude', 'you re very rude', 'you re very rude', 'you re very rude', 'you re very tall', 'you re very tall', 'you re very tall', 'you re very tall', 'you re very tall', 'you re very tall', 'you re very wise', 'you re very wise', 'you re very wise', 'you re very wise', 'you re very wise', 'you re very wise', 'you re very wise', 'you re very wise', 'you re very wise', 'you re very wise', 'you re very wise', 'you re very wise', 'you re very wise', 'you re very wise', 'you re very wise', 'you re very wise', 'you re very wise', 'you re very wise', 'you re wonderful', 'you re wonderful', 'you re wonderful', 'you re wonderful', 'you re wonderful', 'he is a big eater', 'he is a biologist', 'he is a born poet', 'he is a brave man', 'he is a daredevil', 'he is a detective', 'he is a dramatist', 'he is a gentleman', 'he is a gentleman', 'he is a physicist', 'he is a physicist', 'he is a quiet man', 'he is a scientist', 'he is a scientist', 'he is about forty', 'he is an american', 'he is an evil man', 'he is at his desk', 'he is beyond help', 'he is beyond hope', 'he is getting old', 'he is in business', 'he is incompetent', 'he is influential', 'he is intelligent', 'he is introverted', 'he is just my age', 'he is not married', 'he is not so tall', 'he is on the team', 'he is quite right', 'he is running now', 'he is still alive', 'he is still angry', 'he is teaching me', 'he is unrealistic', 'he is very honest', 'he is walking now', 'he is watching tv', 'he is watching tv', 'he isn t here now', 'he isn t here now', 'he s a big coward', 'he s a journalist', 'he s a movie buff', 'he s already left', 'he s already left', 'he s an old timer', 'he s an undergrad', 'he s deep in debt', 'he s from georgia', 'he s in hot water', 'he s in hot water', 'he s just arrived', 'he s kind of cute', 'he s kind of cute', 'he s looking good', 'he s not here yet', 'he s old and ugly', 'he s raking it in', 'he s raking it in', 'he s raking it in', 'he s raking it in', 'he s raking it in', 'he s really quick', 'he s sound asleep', 'he s still single', 'he s still single', 'he s swimming now', 'he s tickled pink', 'he s too trusting', 'i am years old', 'i am years old', 'i am a bad person', 'i am a cat person', 'i am a vegetarian', 'i am afraid to go', 'i am afraid to go', 'i am almost ready', 'i am almost ready', 'i am almost ready', 'i am baking bread', 'i am baking bread', 'i am from england', 'i am going to bed', 'i am going to bed', 'i am good at math', 'i am in the house', 'i am in your debt', 'i am in your debt', 'i am not like you', 'i am not like you', 'i am rather happy', 'i am ready to die', 'i am ready to die', 'i am so exhausted !', 'i am so exhausted !', 'i am studying now', 'i am the same age', 'i am the same age', 'i am very curious', 'i am very pleased', 'i am very pleased', 'i m canadian too', 'i m a busy person', 'i m a careful man', 'i m a good person', 'i m a little busy', 'i m a little hurt', 'i m a little sick', 'i m a new student', 'i m a new student', 'i m a new student', 'i m a new student', 'i m a normal girl', 'i m a salesperson', 'i m a total wreck', 'i m all by myself', 'i m already bored', 'i m always hungry', 'i m as old as you', 'i m as old as you', 'i m as old as you', 'i m as old as you', 'i m at school now', 'i m at the prison', 'i m at your mercy', 'i m at your mercy', 'i m aware of that', 'i m aware of that', 'i m awfully tired', 'i m awfully tired', 'i m being careful', 'i m being patient', 'i m being serious', 'i m being serious', 'i m being watched', 'i m concentrating', 'i m concentrating', 'i m doing my best', 'i m doing my duty', 'i m done thinking', 'i m done with you', 'i m done with you', 'i m done with you', 'i m done with you', 'i m done with you', 'i m done with you', 'i m extremely fat', 'i m feeling dizzy', 'i m feeling dizzy', 'i m flabbergasted', 'i m flabbergasted', 'i m freezing cold', 'i m from bulgaria', 'i m from colombia', 'i m from the city', 'i m from the city', 'i m glad i did it', 'i m going to jump', 'i m going to work', 'i m happy with it', 'i m happy with it', 'i m irreplaceable', 'i m just guessing', 'i m just not sure', 'i m just not sure', 'i m kind of happy', 'i m kind of happy', 'i m leaving today', 'i m losing weight', 'i m losing weight', 'i m not a gambler', 'i m not a gambler', 'i m not a monster', 'i m not a psychic', 'i m not a psychic', 'i m not a psychic', 'i m not a soldier', 'i m not a teacher', 'i m not a teacher', 'i m not a teacher', 'i m not an expert', 'i m not available', 'i m not available', 'i m not buying it', 'i m not convinced', 'i m not convinced', 'i m not dangerous', 'i m not desperate', 'i m not desperate', 'i m not from here', 'i m not giving up', 'i m not impressed', 'i m not impressed', 'i m not in a rush', 'i m not like that', 'i m not listening', 'i m not miserable', 'i m not miserable', 'i m not panicking', 'i m not panicking', 'i m not persuaded', 'i m not persuaded', 'i m not persuaded', 'i m not ready yet', 'i m not ready yet', 'i m not satisfied', 'i m not satisfied', 'i m not surprised', 'i m not surprised', 'i m not that fast', 'i m not the coach', 'i m not tired yet', 'i m not tired yet', 'i m not very busy', 'i m not very busy', 'i m not your baby', 'i m not your maid', 'i m not your maid', 'i m not your maid', 'i m not your maid', 'i m over eighteen', 'i m quite serious', 'i m quite serious', 'i m really hungry', 'i m really sleepy', 'i m right outside', 'i m sick of lying', 'i m sick of lying', 'i m so overworked', 'i m sore all over', 'i m sort of tired', 'i m sort of tired', 'i m still dubious', 'i m still married', 'i m still married', 'i m still married', 'i m still married', 'i m still thirsty', 'i m still thirsty', 'i m still waiting', 'i m strong enough', 'i m strong enough', 'i m strong enough', 'i m strong enough', 'i m such an idiot', 'i m taking a bath', 'i m totally drunk', 'i m uncomfortable', 'i m working on it', 'i m your neighbor', 'she is a beginner', 'she is a beginner', 'she is aggressive', 'she is attractive', 'she is her friend', 'she is his friend', 'she is mad at you', 'she is mad at you', 'she is not up yet', 'she is thirty one', 'she is unsociable', 'she isn t married', 'she isn t running', 'she s a bit naive', 'she s a bit naive', 'she s a good liar', 'she s a professor', 'she s a tough one', 'she s fashionable', 'she s got a point', 'she s got a point', 'she s hyperactive', 'she s my daughter', 'she s not a child', 'she s not a child', 'she s not my type', 'she s open minded', 'she s open minded', 'she s rather good', 'she s still young', 'she s very pretty', 'they are all dead', 'they are in class', 'they are very big', 'they are very big', 'they are very big', 'they are very big', 'they are very big', 'they are very big', 'they are watching', 'they aren t alone', 'they aren t alone', 'they re all alike', 'they re all alike', 'they re all liars', 'they re all liars', 'they re all lying', 'they re all lying', 'they re cannibals', 'they re dangerous', 'they re dangerous', 'they re different', 'they re different', 'they re expensive', 'they re expensive', 'they re in danger', 'they re in danger', 'they re nice guys', 'they re not alone', 'they re not alone', 'they re not happy', 'they re not happy', 'they re surprised', 'they re surprised', 'they re undamaged', 'they re undamaged', 'they re very busy', 'they re very busy', 'we are australian', 'we are australian', 'we are classmates', 'we are not amused', 'we aren t married', 'we aren t married', 'we aren t related', 'we aren t related', 'we re a good team', 'we re about ready', 'we re about ready', 'we re all at risk', 'we re all at risk', 'we re all cowards', 'we re all cowards', 'we re all friends', 'we re all retired', 'we re all retired', 'we re all retired', 'we re all retired', 'we re both insane', 'we re both insane', 'we re both single', 'we re celebrating', 'we re changing it', 'we re cooperating', 'we re defenseless', 'we re doing great', 'we re experienced', 'we re experienced', 'we re friends now', 'we re friends now', 'we re going north', 'we re going north', 'we re going south', 'we re going south', 'we re handling it', 'we re handling it', 'we re interfering', 'we re journalists', 'we re just scared', 'we re leaving now', 'we re like family', 'we re married now', 'we re married now', 'we re not arguing', 'we re not cowards', 'we re not dressed', 'we re not dressed', 'we re not friends', 'we re not invited', 'we re not invited', 'we re not kidding', 'we re not killers', 'we re not killers', 'we re not leaving', 'we re not looking', 'we re not married', 'we re not married', 'we re not perfect', 'we re not perfect', 'we re not related', 'we re not related', 'we re not serious', 'we re not serious', 'we re not smiling', 'we re not so sure', 'we re not so sure', 'we re not staying', 'we re not welcome', 'we re not welcome', 'we re old friends', 'we re old friends', 'we re on schedule', 'we re on schedule', 'we re out of ammo', 'we re out of beer', 'we re out of milk', 'we re out of time', 'we re out of wine', 'we re persevering', 'we re pulling out', 'we re quite alone', 'we re quite alone', 'we re quite alone', 'we re quite alone', 'we re quite drunk', 'we re quite tired', 'we re ready to go', 'we re ready to go', 'we re ready to go', 'we re really good', 'we re really good', 'we re really late', 'we re resourceful', 'we re still alive', 'we re taking over', 'we re taking over', 'we re taking over', 'we re the problem', 'we re trustworthy', 'you are a bit fat', 'you are a student', 'you are a student', 'you are a student', 'you are a student', 'you are a teacher', 'you are a teacher', 'you are actresses', 'you are beautiful', 'you are beautiful', 'you are beautiful', 'you are beautiful', 'you are beautiful', 'you are beautiful', 'you are hilarious', 'you are hilarious', 'you are important', 'you are important', 'you are important', 'you are important', 'you are important', 'you are important', 'you are in my way', 'you are in my way', 'you are my father', 'you are my friend', 'you are so stupid', 'you are so stupid', 'you are so stupid', 'you are so stupid', 'you are so stupid', 'you are so stupid', 'you are very nice', 'you are very rich', 'you are very rich', 'you are very rich', 'you are very rich', 'you are very rich', 'you re a bad liar', 'you re a bad liar', 'you re a prisoner', 'you re a prisoner', 'you re aggressive', 'you re aggressive', 'you re all insane', 'you re all insane', 'you re articulate', 'you re articulate', 'you re back again', 'you re back again', 'you re courageous', 'you re courageous', 'you re disgusting', 'you re disgusting', 'you re disgusting', 'you re disgusting', 'you re disgusting', 'you re disgusting', 'you re free to go', 'you re free to go', 'you re free to go', 'you re free to go', 'you re free to go', 'you re free to go', 'you re half right', 'you re half right', 'you re here early', 'you re here early', 'you re hurting me', 'you re hurting me', 'you re incredible', 'you re incredible', 'you re incredible', 'you re just a boy', 'you re just a kid', 'you re just tired', 'you re killing me', 'you re killing me', 'you re not normal', 'you re not normal', 'you re not normal', 'you re not normal', 'you re not normal', 'you re not normal', 'you re overworked', 'you re overworked', 'you re overworked', 'you re overworked', 'you re overworked', 'you re overworked', 'you re productive', 'you re productive', 'you re productive', 'you re productive', 'you re productive', 'you re productive', 'you re remarkable', 'you re scaring me', 'you re surrounded', 'you re surrounded', 'you re surrounded', 'you re surrounded', 'you re surrounded', 'you re surrounded', 'you re telling me', 'you re the leader', 'you re the leader', 'you re the leader', 'you re the leader', 'you re the leader', 'you re the leader', 'you re the leader', 'you re the leader', 'you re the master', 'you re the master', 'you re the master', 'you re the master', 'you re the master', 'you re the master', 'you re the master', 'you re the master', 'you re the oldest', 'you re the oldest', 'you re the oldest', 'you re the oldest', 'you re the oldest', 'you re the oldest', 'you re the oldest', 'you re the oldest', 'you re the oldest', 'you re the oldest', 'you re the oldest', 'you re the oldest', 'you re the oldest', 'you re the oldest', 'you re the oldest', 'you re the oldest', 'you re the oldest', 'you re the oldest', 'you re the oldest', 'you re the oldest', 'you re the oldest', 'you re the oldest', 'you re the oldest', 'you re the oldest', 'you re the owners', 'you re the owners', 'you re too polite', 'you re too polite', 'you re too polite', 'you re too polite', 'you re too polite', 'you re too polite', 'you re too skinny', 'you re too skinny', 'you re too skinny', 'you re too skinny', 'you re too skinny', 'you re too skinny', 'you re too skinny', 'you re too skinny', 'you re too skinny', 'you re very angry', 'you re very angry', 'you re very angry', 'you re very angry', 'you re very brave', 'you re very brave', 'you re very brave', 'you re very brave', 'you re very brave', 'you re very brave', 'you re very brave', 'you re very brave', 'you re very brave', 'you re very brave', 'you re very brave', 'you re very brave', 'you re very brave', 'you re very brave', 'you re very brave', 'you re very brave', 'you re very funny', 'you re very funny', 'you re very funny', 'you re very funny', 'you re very funny', 'you re very funny', 'you re very funny', 'you re very funny', 'you re very funny', 'you re very funny', 'you re very funny', 'you re very funny', 'you re very sharp', 'you re very sharp', 'you re very sharp', 'you re very sharp', 'you re very sharp', 'you re very sharp', 'you re very smart', 'you re very smart', 'you re very smart', 'you re very timid', 'you re very timid', 'you re very timid', 'you re very timid', 'you re very timid', 'you re very timid', 'you re very timid', 'you re very timid', 'you re very timid', 'you re very timid', 'you re very timid', 'you re very timid', 'you re very timid', 'you re very timid', 'you re very timid', 'you re very timid', 'you re very timid', 'you re very timid', 'you re very timid', 'you re very timid', 'you re very timid', 'you re very timid', 'you re very timid', 'you re very upset', 'you re very upset', 'you re very upset', 'you re very upset', 'you re very upset', 'you re very upset', 'you re very upset', 'you re very upset', 'you re very upset', 'you re very upset', 'you re very upset', 'you re very upset', 'he is a bad driver', 'he is a bad person', 'he is a bank clerk', 'he is a clever boy', 'he is a fishmonger', 'he is a good loser', 'he is a slim child', 'he is about my age', 'he is about my age', 'he is about thirty', 'he is about to die', 'he is about to die', 'he is all but dead', 'he is already here', 'he is drinking tea', 'he is having lunch', 'he is my classmate', 'he is my colleague', 'he is my colleague', 'he is no gentleman', 'he is not japanese', 'he is on the radio', 'he is on the radio', 'he is only a child', 'he is playing golf', 'he is playing here', 'he is sharp witted', 'he is so heartless', 'he is still in bed', 'he is sure to come', 'he is thick headed', 'he is very careful', 'he is very careful', 'he is very learned', 'he is very learned', 'he is well off now', 'he isn t my cousin', 'he s a bit jealous', 'he s a bit jealous', 'he s a creationist', 'he s a fast walker', 'he s a filthy liar', 'he s a food critic', 'he s a ghostwriter', 'he s a goal keeper', 'he s a good person', 'he s a kind person', 'he s a married man', 'he s a meth addict', 'he s a strange guy', 'he s a total wreck', 'he s already a man', 'he s an englishman', 'he s an aristocrat', 'he s an aristocrat', 'he s coming closer', 'he s coming closer', 'he s down to earth', 'he s good at cards', 'he s in the shower', 'he s my new friend', 'he s not a bad boy', 'he s not a bad guy', 'he s not all there', 'he s not available', 'he s not available', 'he s not my cousin', 'he s not my father', 'he s not one of us', 'he s old and crazy', 'he s one of a kind', 'he s overconfident', 'he s pushing fifty', 'he s self employed', 'he s short and fat', 'he s still at work', 'he s tall and slim', 'he s the scapegoat', 'he s very flexible', 'he s very talented', 'he s working on it', 'i am a new student', 'i am an only child', 'i am boiling water', 'i am doing my best', 'i am done teaching', 'i am fond of music', 'i am from portugal', 'i am from shizuoka', 'i am grilling fish', 'i am in deep water', 'i am in the garden', 'i am just a nobody', 'i am not a teacher', 'i am not a teacher', 'i am not ready yet', 'i am not ready yet', 'i am not too tired', 'i am sorry for you', 'i m tom s neighbor', 'i m tom s neighbor', 'i m a fast learner', 'i m a little child', 'i m a little child', 'i m a little dizzy', 'i m a little drunk', 'i m a little rusty', 'i m a little tired', 'i m a photographer', 'i m about to leave', 'i m afraid i can t', 'i m afraid of bats', 'i m afraid of dogs', 'i m always careful', 'i m always careful', 'i m always thirsty', 'i m as tall as tom', 'i m at tom s house', 'i m being harassed', 'i m being promoted', 'i m being promoted', 'i m being promoted', 'i m being promoted', 'i m being punished', 'i m being punished', 'i m being sensible', 'i m bleeding badly', 'i m bored to death', 'i m buying a puppy', 'i m buying a puppy', 'i m claustrophobic', 'i m coming at once', 'i m coming in july', 'i m counting on it', 'i m counting on it', 'i m drinking water', 'i m feeling better', 'i m feeling hungry', 'i m free on sunday', 'i m from singapore', 'i m gaining weight', 'i m getting better', 'i m getting hungry', 'i m getting sleepy', 'i m giving it back', 'i m giving it back', 'i m going downtown', 'i m going downtown', 'i m going home now', 'i m going to fight', 'i m going to relax', 'i m going to sleep', 'i m good at skiing', 'i m here to listen', 'i m here aren t i ?', 'i m in charge here', 'i m in good health', 'i m in the bathtub', 'i m in trouble now', 'i m in trouble now', 'i m just a teacher', 'i m just a tourist', 'i m just beginning', 'i m just beginning', 'i m late aren t i ?', 'i m laying you off', 'i m laying you off', 'i m learning czech', 'i m learning music', 'i m letting you go', 'i m letting you go', 'i m letting you go', 'i m letting you go', 'i m letting you go', 'i m letting you go', 'i m no one special', 'i m no one special', 'i m not a criminal', 'i m not a criminal', 'i m not a magician', 'i m not busy today', 'i m not delusional', 'i m not denying it', 'i m not doing that', 'i m not going away', 'i m not good at it', 'i m not happy here', 'i m not hungry yet', 'i m not in trouble', 'i m not invincible', 'i m not old enough', 'i m not old enough', 'i m not overweight', 'i m not photogenic', 'i m not quite sure', 'i m not that drunk', 'i m not that drunk', 'i m not your enemy', 'i m not your enemy', 'i m not your enemy', 'i m not your enemy', 'i m out of control', 'i m ready now tom', 'i m ready to start', 'i m really shocked', 'i m really shocked', 'i m seeing someone', 'i m so embarrassed', 'i m so embarrassed', 'i m somewhat dizzy', 'i m sorry i m late', 'i m still in shock', 'i m still not sure', 'i m still not sure', 'i m suddenly tired', 'i m suddenly tired', 'i m supporting you', 'i m terribly sorry', 'i m trying my best', 'i m twice your age', 'i m unenthusiastic', 'i m using that cup', 'i m using that cup', 'i m using that cup', 'i m very fortunate', 'i m very fortunate', 'i m very happy now', 'i m very happy now', 'i m very impressed', 'i m very impressed', 'i m very impressed', 'i m writing a book', 'she is a kind girl', 'she is a poor cook', 'she is from france', 'she is going on', 'she is helping him', 'she is kissing him', 'she is my daughter', 'she is pigeon toed', 'she is quite angry', 'she is unconscious', 'she is very pretty', 'she s tom s sister', 'she s a big teaser', 'she s a smart girl', 'she s a supermodel', 'she s a sweet girl', 'she s an alcoholic', 'she s eating fruit', 'she s just a child', 'she s my classmate', 'they are all alike', 'they are both good', 'they are both good', 'they are both good', 'they are both good', 'they are exhausted', 'they are exhausted', 'they are exhausted', 'they are not tired', 'they are not tired', 'they are too close', 'they are very kind', 'they are very kind', 'they are very kind', 'they are very kind', 'they re christians', 'they re all guilty', 'they re all guilty', 'they re all hungry', 'they re all hungry', 'they re all normal', 'they re all normal', 'they re both right', 'they re both right', 'they re carnations', 'they re disposable', 'they re disposable', 'they re downstairs', 'they re downstairs', 'they re downstairs', 'they re in trouble', 'they re in trouble', 'they re in trouble', 'they re in trouble', 'they re just words', 'they re mad at you', 'they re mad at you', 'they re mad at you', 'they re mad at you', 'they re mad at you', 'they re mad at you', 'they re mad at you', 'they re mad at you', 'they re my friends', 'they re not coming', 'they re not coming', 'they re not so bad', 'they re not so bad', 'they re part of us', 'they re part of us', 'they re very smart', 'they re very smart', 'we are australians', 'we are australians', 'we are busy people', 'we are defenseless', 'we re a big family', 'we re all infected', 'we re all infected', 'we re all students', 'we re all students', 'we re all the same', 'we re all the same', 'we re almost ready', 'we re almost ready', 'we re almost there', 'we re almost there', 'we re almost there', 'we re already late', 'we re always right', 'we re best friends', 'we re both writers', 'we re close enough', 'we re conservative', 'we re contributing', 'we re disappointed', 'we re done talking', 'we re done talking', 'we re going inside', 'we re going to try', 'we re halfway home', 'we re honeymooning', 'we re housesitting', 'we re in a library', 'we re just nervous', 'we re just nervous', 'we re just talking', 'we re leaving here', 'we re nearly there', 'we re not dead yet', 'we re not dead yet', 'we re not done yet', 'we re not fighting', 'we re not finished', 'we re not free yet', 'we re not involved', 'we re not involved', 'we re not partners', 'we re not soldiers', 'we re not speaking', 'we re not sure yet', 'we re not sure yet', 'we re not watching', 'we re only friends', 'we re out of money', 'we re out of stock', 'we re out of stock', 'we re overreacting', 'we re pretty tight', 'we re pulling back', 'we re really angry', 'we re really drunk', 'we re really drunk', 'we re really lucky', 'we re running away', 'we re running late', 'we re slowing down', 'we re still a team', 'we re studying now', 'we re the same age', 'we re the same age', 'we re turning back', 'we re under attack', 'we re under attack', 'we re unprejudiced', 'we re unprejudiced', 'we re very excited', 'we re very excited', 'we re very serious', 'we re very serious', 'we re volunteering', 'we re volunteering', 'you are a good boy', 'you are a good boy', 'you are a good boy', 'you are free to go', 'you are impossible', 'you are overworked', 'you are very brave', 'you are very brave', 'you are very brave', 'you are very brave', 'you are very brave', 'you are very smart', 'you aren t invited', 'you aren t invited', 'you aren t invited', 'you aren t invited', 'you aren t invited', 'you aren t invited', 'you aren t looking', 'you aren t looking', 'you re a big softy', 'you re a funny gal', 'you re a funny guy', 'you re a funny guy', 'you re a funny guy', 'you re a funny guy', 'you re a funny guy', 'you re a funny man', 'you re a funny man', 'you re a good liar', 'you re a good liar', 'you re a great guy', 'you re a great guy', 'you re a smart boy', 'you re a weird kid', 'you re a weird kid', 'you re a woman now', 'you re a woman now', 'you re about right', 'you re all cowards', 'you re all invited', 'you re all invited', 'you re all racists', 'you re all racists', 'you re annoying me', 'you re avoiding me', 'you re avoiding me', 'you re being silly', 'you re being silly', 'you re being silly', 'you re being silly', 'you re considerate', 'you re considerate', 'you re considerate', 'you re cooperating', 'you re extroverted', 'you re extroverted', 'you re extroverted', 'you re extroverted', 'you re extroverted', 'you re extroverted', 'you re fascinating', 'you re fascinating', 'you re fascinating', 'you re fascinating', 'you re fascinating', 'you re fascinating', 'you re fashionable', 'you re fashionable', 'you re fashionable', 'you re fashionable', 'you re fashionable', 'you re fashionable', 'you re hurting him', 'you re hurting him', 'you re influential', 'you re lying to me', 'you re my princess', 'you re not bruised', 'you re not bruised', 'you re not bruised', 'you re not bruised', 'you re not bruised', 'you re not bruised', 'you re not dressed', 'you re not dressed', 'you re not dressed', 'you re not dressed', 'you re not dressed', 'you re not dressed', 'you re not helping', 'you re not helping', 'you re not like me', 'you re not like me', 'you re not my type', 'you re not my type', 'you re not special', 'you re on the list', 'you re out of luck', 'you re out of luck', 'you re out of time', 'you re out of time', 'you re pretty good', 'you re pretty good', 'you re pretty good', 'you re pretty good', 'you re pretty good', 'you re pretty good', 'you re quite smart', 'you re replaceable', 'you re replaceable', 'you re resourceful', 'you re resourceful', 'you re resourceful', 'you re resourceful', 'you re resourceful', 'you re so paranoid', 'you re so paranoid', 'you re so pathetic', 'you re so pathetic', 'you re so talented', 'you re so talented', 'you re still alive', 'you re still alive', 'you re still alive', 'you re still alive', 'you re still alive', 'you re still alive', 'you re still green', 'you re still green', 'you re still green', 'you re still young', 'you re still young', 'you re still young', 'you re such a jerk', 'you re such a jerk', 'you re such a liar', 'you re such a liar', 'you re such a liar', 'you re such a liar', 'you re such a liar', 'you re such a liar', 'you re such a liar', 'you re such a liar', 'you re the teacher', 'you re the teacher', 'you re the teacher', 'you re the teacher', 'you re the teacher', 'you re the teacher', 'you re the teacher', 'you re the teacher', 'you re the teacher', 'you re the teacher', 'you re the teacher', 'you re the teacher', 'you re the teacher', 'you re the teacher', 'you re the teacher', 'you re the teacher', 'you re the teacher', 'you re the teacher', 'you re the teacher', 'you re the teacher', 'you re the teacher', 'you re the teacher', 'you re the teacher', 'you re the teacher', 'you re the teacher', 'you re the teacher', 'you re touching me', 'you re touching me', 'you re trustworthy', 'you re trustworthy', 'you re trustworthy', 'you re turning red', 'you re turning red', 'you re unambitious', 'you re unambitious', 'you re unambitious', 'you re unambitious', 'you re unambitious', 'you re unambitious', 'you re very astute', 'you re very astute', 'you re very astute', 'you re very astute', 'you re very astute', 'you re very astute', 'you re very astute', 'you re very astute', 'you re very astute', 'you re very astute', 'you re very clever', 'you re very clever', 'you re very clever', 'you re very clever', 'you re very clever', 'you re very clever', 'you re very clever', 'you re very clever', 'you re very clever', 'you re very clever', 'you re very clever', 'you re very clever', 'you re very clever', 'you re very clever', 'you re very clever', 'you re very clever', 'you re very direct', 'you re very direct', 'you re very direct', 'you re very direct', 'you re very direct', 'you re very lonely', 'you re very lonely', 'you re very lonely', 'you re very lonely', 'you re very lonely', 'you re very lonely', 'you re very pretty', 'you re wrong again', 'you re wrong again', 'he is a born artist', 'he is a fast runner', 'he is a good doctor', 'he is a good doctor', 'he is a good singer', 'he is a good singer', 'he is a good writer', 'he is a hard worker', 'he is a jealous man', 'he is a lazy fellow', 'he is a learned man', 'he is a nice person', 'he is a rude person', 'he is about my size', 'he is always joking', 'he is an honest man', 'he is apt to forget', 'he is at his office', 'he is at home today', 'he is at the office', 'he is clever indeed', 'he is far from rich', 'he is good at rugby', 'he is my old friend', 'he is not available', 'he is not religious', 'he is over kilos', 'he is playing music', 'he is playing there', 'he is playing there', 'he is probably dead', 'he is ready to work', 'he is taking a walk', 'he is tall and lean', 'he is telling a lie', 'he is too sensitive', 'he is very sociable', 'he is very talented', 'he is washing a car', 'he is wearing a hat', 'he s a cardiologist', 'he s a cardiologist', 'he s a chain smoker', 'he s a great kisser', 'he s a late bloomer', 'he s a little rusty', 'he s a loose cannon', 'he s a salesman too', 'he s a scriptwriter', 'he s a stand up guy', 'he s about to leave', 'he s about to leave', 'he s active and fit', 'he s afraid of dogs', 'he s an opera lover', 'he s an opera lover', 'he s behaving oddly', 'he s doing his best', 'he s doing it right', 'he s doing it right', 'he s done it before', 'he s got a headache', 'he s in big trouble', 'he s in big trouble', 'he s in for a shock', 'he s in his fifties', 'he s in the kitchen', 'he s known for that', 'he s likely to come', 'he s looking at you', 'he s looking at you', 'he s looking at you', 'he s looking at you', 'he s my best friend', 'he s my best friend', 'he s on sentry duty', 'he s probably wrong', 'he s really selfish', 'he s taller than me', 'he s too old for me', 'he s very skeptical', 'i am a fast swimmer', 'i am a teacher too', 'i am a teacher too', 'i am afraid of dogs', 'i am an electrician', 'i am an electrician', 'i am bored to death', 'i am eating noodles', 'i am engaged to her', 'i am fond of skiing', 'i am free from care', 'i am going to sleep', 'i am going to sleep', 'i am going to study', 'i am in charge here', 'i am like my mother', 'i am not your enemy', 'i am not your enemy', 'i am not your enemy', 'i am not your enemy', 'i am off duty today', 'i am older than him', 'i am peeling apples', 'i am poor at tennis', 'i am reading a book', 'i am right for once', 'i am sad to hear it', 'i am short of money', 'i am short of money', 'i am the chosen one', 'i am the chosen one', 'i am very dangerous', 'i m a beginner too', 'i m a beginner too', 'i m a beginner too', 'i m a beginner too', 'i m a light sleeper', 'i m a little hungry', 'i m a married woman', 'i m a perfectionist', 'i m a quick learner', 'i m a social worker', 'i m a social worker', 'i m a stranger here', 'i m a stranger here', 'i m about to go out', 'i m absolutely sure !', 'i m afraid of death', 'i m afraid of dying', 'i m already married', 'i m already married', 'i m an innocent man', 'i m at your service', 'i m at your service', 'i m bad at swimming', 'i m behind schedule', 'i m behind schedule', 'i m better than him', 'i m bored right now', 'i m broke and tired', 'i m broke and tired', 'i m broke and tired', 'i m certain of that', 'i m counting on you', 'i m crazy about you', 'i m crazy about you', 'i m doing all i can', 'i m drinking a beer', 'i m dying of thirst', 'i m eating an apple', 'i m extremely happy', 'i m fed up with her', 'i m fed up with him', 'i m fine thank you', 'i m getting married', 'i m glad to be here', 'i m glad to be here', 'i m glad to be here', 'i m glad to see you', 'i m glad to see you', 'i m glad to see you', 'i m glad we saw tom', 'i m going on a trip', 'i m going there now', 'i m going to go now', 'i m going to prison', 'i m good at science', 'i m good at singing', 'i m happy with that', 'i m happy with that', 'i m in my underwear', 'i m incredibly busy', 'i m indebted to you', 'i m indebted to you', 'i m just not hungry', 'i m kind of a loner', 'i m learning basque', 'i m learning french', 'i m leaving tonight', 'i m living my dream', 'i m making progress', 'i m more than happy', 'i m more than happy', 'i m more than happy', 'i m more than happy', 'i m no longer tired', 'i m not a bit tired', 'i m not a good liar', 'i m not a good liar', 'i m not a scientist', 'i m not apologizing', 'i m not at all busy', 'i m not at all busy', 'i m not blaming you', 'i m not busy either', 'i m not busy either', 'i m not comfortable', 'i m not coming back', 'i m not complaining', 'i m not disagreeing', 'i m not discouraged', 'i m not discouraged', 'i m not eating this', 'i m not eating this', 'i m not embarrassed', 'i m not embarrassed', 'i m not going to go', 'i m not in any pain', 'i m not in the mood', 'i m not intimidated', 'i m not intimidated', 'i m not leaving you', 'i m not married yet', 'i m not married yet', 'i m not one of them', 'i m not one of them', 'i m not one of them', 'i m not one of them', 'i m not presentable', 'i m not proud of it', 'i m not proud of it', 'i m not really busy', 'i m not really busy', 'i m not telling you', 'i m not that stupid !', 'i m not the manager', 'i m not the problem', 'i m not the problem', 'i m not very hungry', 'i m not your father', 'i m not your friend', 'i m not your friend', 'i m not your friend', 'i m not your friend', 'i m on the way home', 'i m only a customer', 'i m out of practice', 'i m perfectly happy', 'i m perfectly happy', 'i m proud of my dad', 'i m proud of my son', 'i m proud of myself', 'i m proud of myself', 'i m ready to go now', 'i m ready to go now', 'i m really not busy', 'i m really not busy', 'i m right aren t i ?', 'i m sad without you', 'i m sad without you', 'i m sad without you', 'i m short of breath', 'i m sick of english', 'i m sick of english', 'i m slightly hungry', 'i m so proud of you', 'i m so proud of you', 'i m so proud of you', 'i m so proud of you', 'i m so sick of this', 'i m sorry i forgot', 'i m sorry i forgot', 'i m still concerned', 'i m still not ready', 'i m still undecided', 'i m stuck in my job', 'i m stuck in my job', 'i m studying french', 'i m studying french', 'i m taller than you', 'i m tired of boston', 'i m tired of boston', 'i m tired of boston', 'i m tired of losing', 'i m too old for tom', 'i m too old for tom', 'i m too old for tom', 'i m too old for tom', 'i m too old for her', 'i m too old for you', 'i m too old for you', 'i m too old for you', 'i m too old for you', 'i m traveling light', 'i m trying to sleep', 'i m used to tom now', 'i m very busy today', 'i m very frustrated', 'i m very frustrated', 'i m very sleepy now', 'i m waiting my turn', 'i m writing a novel', 'i m your new lawyer', 'i m able to speak', 'she is a bad person', 'she is a chatterbox', 'she is about my age', 'she is about my age', 'she is bad mannered', 'she is dark skinned', 'she is fond of cake', 'she is good natured', 'she is good natured', 'she is hard at work', 'she is hard on them', 'she is just a child', 'she is my classmate', 'she is not here yet', 'she is not to blame', 'she is still a girl', 'she s a born artist', 'she s a dumb blonde', 'she s a real gossip', 'she s a real gossip', 'she s a real hottie', 'she s a tough woman', 'she s a true artist', 'she s an only child', 'she s been poisoned', 'she s in a bad mood', 'she s my first love', 'she s not penniless', 'she s still a minor', 'she s strong willed', 'she s strong willed', 'she s wearing a hat', 'they are christians', 'they are christians', 'they are christians', 'they are christians', 'they are my friends', 'they are my friends', 'they are my friends', 'they are my friends', 'they are our guests', 'they are our guests', 'they re a good team', 'they re about to go', 'they re all thieves', 'they re all thieves', 'they re all waiting', 'they re all waiting', 'they re all waiting', 'they re all waiting', 'they re almost here', 'they re almost here', 'they re almost here', 'they re almost here', 'they re here for me', 'they re here for me', 'they re ignoring me', 'they re kind of fun', 'they re kind of fun', 'they re out of town', 'they re out of town', 'they re really ugly', 'they re really ugly', 'they re still young', 'they re still young', 'we are all born mad', 'we are good friends', 'we are good friends', 'we are his children', 'we are in a library', 'we are in a library', 'we are very similar', 'we re all different', 'we re all different', 'we re all done here', 'we re all impressed', 'we re all impressed', 'we re all prisoners', 'we re all prisoners', 'we re all right now', 'we re all witnesses', 'we re always hungry', 'we re among friends', 'we re back together', 'we re being watched', 'we re being watched', 'we re both teachers', 'we re both teachers', 'we re close friends', 'we re closing early', 'we re conscientious', 'we re conscientious', 'we re eating apples', 'we re finally alone', 'we re finally alone', 'we re finally alone', 'we re finally alone', 'we re finished here', 'we re getting close', 'we re getting close', 'we re getting close', 'we re getting there', 'we re getting tired', 'we re going dancing', 'we re going hunting', 'we re halfway there', 'we re having dinner', 'we re just children', 'we re just starting', 'we re just students', 'we re like brothers', 'we re not giving up', 'we re not going out', 'we re not impressed', 'we re not impressed', 'we re not listening', 'we re not on a date', 'we re not prisoners', 'we re not prisoners', 'we re not strangers', 'we re not yet there', 'we re not yet there', 'we re open tomorrow', 'we re out of coffee', 'we re playing cards', 'we re proud of that', 'we re proud of that', 'we re really scared', 'we re still friends', 'we re still married', 'we re tempting fate', 'we re tempting fate', 'we re the good guys', 'we re the same size', 'we re tired of this', 'we re truly worried', 'we re trying to win', 'we re very grateful', 'we re very grateful', 'we re wasting water', 'you are a good cook', 'you are my daughter', 'you are my daughter', 'you are such a liar !', 'you are such a liar !', 'you are such a liar !', 'you are such a liar !', 'you re a funny girl', 'you re a funny girl', 'you re all i ve got', 'you re all i ve got', 'you re all the same', 'you re all the same', 'you re almost right', 'you re cantankerous', 'you re cantankerous', 'you re going to die', 'you re going to die', 'you re grown up now', 'you re grown up now', 'you re incorrigible', 'you re incorrigible', 'you re incorrigible', 'you re irresistible', 'you re kind of cute', 'you re kind of cute', 'you re kind of cute', 'you re kind of cute', 'you re kind of cute', 'you re kind of cute', 'you re no different', 'you re no different', 'you re no different', 'you re no different', 'you re no different', 'you re no different', 'you re not a doctor', 'you re not a doctor', 'you re not a doctor', 'you re not a doctor', 'you re not bleeding', 'you re not bleeding', 'you re not dead yet', 'you re not dead yet', 'you re not dead yet', 'you re not dead yet', 'you re not dead yet', 'you re not dead yet', 'you re not finished', 'you re not finished', 'you re not that old', 'you re not that old', 'you re not that old', 'you re not that old', 'you re not that old', 'you re not too late', 'you re not too late', 'you re off the hook', 'you re off the hook', 'you re off the hook', 'you re off the hook', 'you re off the hook', 'you re off the hook', 'you re out of booze', 'you re out of booze', 'you re out of booze', 'you re out of booze', 'you re out of order', 'you re out of sugar', 'you re overreacting', 'you re overreacting', 'you re overreacting', 'you re overreacting', 'you re part of this', 'you re part of this', 'you re poisoning me', 'you re poisoning me', 'you re so impatient', 'you re so impatient', 'you re so impatient', 'you re so impatient', 'you re so impatient', 'you re so impatient', 'you re still my son', 'you re such a flirt', 'you re such a flirt', 'you re such a flirt', 'you re such a flirt', 'you re the greatest', 'you re the greatest', 'you re the greatest', 'you re the greatest', 'you re the prisoner', 'you re the sweetest', 'you re the sweetest', 'you re too trusting', 'you re too trusting', 'you re too trusting', 'you re too trusting', 'you re too trusting', 'you re too trusting', 'you re very curious', 'you re very curious', 'you re very curious', 'you re very curious', 'you re very curious', 'you re very curious', 'you re very curious', 'you re very curious', 'you re very curious', 'you re very curious', 'you re very forward', 'you re very forward', 'you re very forward', 'you re very forward', 'you re very forward', 'you re very forward', 'you re very forward', 'you re very forward', 'you re very forward', 'you re very forward', 'you re very forward', 'you re very forward', 'you re very helpful', 'you re very helpful', 'you re very helpful', 'you re very helpful', 'you re very helpful', 'you re very helpful', 'you re very stylish', 'you re very stylish', 'you re very stylish', 'you re very stylish', 'you re very stylish', 'you re very stylish', 'you re very stylish', 'you re very stylish', 'you re very stylish', 'you re very stylish', 'you re very stylish', 'you re very stylish', 'you re wasting ammo', 'you re wasting ammo', 'you re wasting time', 'you re wasting time', 'you re with friends', 'you re with friends', 'you re with friends', 'you re with friends', 'you re working hard', 'you re working hard', 'he is a cruel person', 'he is a fast speaker', 'he is a good speaker', 'he is a good student', 'he is a good swimmer', 'he is a handsome man', 'he is a harsh critic', 'he is a lazy student', 'he is a man of faith', 'he is a tough cookie', 'he is about your age', 'he is afraid of dogs', 'he is afraid to swim', 'he is always reading', 'he is always reading', 'he is always with me', 'he is an angry drunk', 'he is an unsung hero', 'he is angry with you', 'he is as tall as her', 'he is away from home', 'he is bad at driving', 'he is breathing hard', 'he is close to sixty', 'he is cool isn t he ?', 'he is far from happy', 'he is far from happy', 'he is five feet tall', 'he is full of energy', 'he is getting better', 'he is good at soccer', 'he is hard to please', 'he is his own master', 'he is his usual self', 'he is in his library', 'he is in poor health', 'he is in the kitchen', 'he is in trouble now', 'he is likely to come', 'he is making cookies', 'he is my best friend', 'he is my best friend', 'he is now on his own', 'he is off duty today', 'he is precious to us', 'he is quite a savage', 'he is reading a book', 'he is reading a book', 'he is sadly mistaken', 'he is still standing', 'he is the chosen one', 'he is very depressed', 'he is very depressed', 'he is wearing gloves', 'he is willing enough', 'he isn t an american', 'he isn t here is he ?', 'he s a bad influence', 'he s a computer nerd', 'he s a control freak', 'he s a control freak', 'he s a famous artist', 'he s a hopeless case', 'he s a nervous wreck', 'he s a nervous wreck', 'he s a smooth talker', 'he s a smooth talker', 'he s a tennis player', 'he s a very nice boy', 'he s a very nice boy', 'he s a very nice boy', 'he s a very nice boy', 'he s afraid to dance', 'he s already married', 'he s crazy about her', 'he s crazy about her', 'he s eight years old', 'he s extremely happy', 'he s got lung cancer', 'he s greedy and lazy', 'he s in grave danger', 'he s mad at everyone', 'he s making progress', 'he s missed the boat', 'he s my half brother', 'he s never satisfied', 'he s not in the mood', 'he s now on the boat', 'he s offered to help', 'he s on his way home', 'he s one of the best', 'he s one of the best', 'he s out of position', 'he s out of practice', 'he s out of practice', 'he s smarter than me', 'he s taking a shower', 'he s the class clown', 'he s too old for her', 'he s too old for you', 'he s too old for you', 'he s under the chair', 'he s very protective', 'i am a stranger here', 'i am a stranger here', 'i am a stranger here', 'i am a stranger here', 'i am afraid of bears', 'i am afraid of death', 'i am afraid of dying', 'i am better than you', 'i am counting on you', 'i am drinking coffee', 'i am eating an apple', 'i am forced to do it', 'i am getting dressed', 'i am glad to see her', 'i am glad to see her', 'i am looking at that', 'i am no longer tired', 'i am no longer tired', 'i am not well at all', 'i am playing it safe', 'i am poor at drawing', 'i am telling a story', 'i am terribly hungry', 'i am waiting my turn', 'i am wasting my time', 'i am weighing myself', 'i m a french citizen', 'i m a french citizen', 'i m a windows person', 'i m a complete idiot', 'i m a natural blonde', 'i m a very lucky man', 'i m afraid of flying', 'i m against the bill', 'i m all out of ideas', 'i m all out of ideas', 'i m allergic to cats', 'i m allergic to corn', 'i m allergic to dogs', 'i m as tall as he is', 'i m at your disposal', 'i m at your disposal', 'i m attracted to him', 'i m back in business', 'i m calling for help', 'i m calling security', 'i m calling the cops', 'i m checking options', 'i m closing the door', 'i m depending on you', 'i m doing the dishes', 'i m dying for a beer !', 'i m dying to see him', 'i m dying to see you', 'i m dying to see you', 'i m expecting a call', 'i m expecting a call', 'i m feeling confused', 'i m feeling confused', 'i m feeling fine now', 'i m feeling fine now', 'i m feeling stressed', 'i m feeling stressed', 'i m fixing something', 'i m friends with him', 'i m from out of town', 'i m glad i hired you', 'i m glad i hired you', 'i m glad i hired you', 'i m glad i m not tom', 'i m glad he liked it', 'i m glad he liked it', 'i m glad to meet you', 'i m glad we did that', 'i m glad you met tom', 'i m glad you re here', 'i m glad you re here', 'i m glad you re here', 'i m glad you re here', 'i m going to be late', 'i m going to be sick', 'i m going to college', 'i m going to see tom', 'i m good at japanese', 'i m happy to be back', 'i m happy to be back', 'i m happy to be back', 'i m happy to see you', 'i m hardly ever home', 'i m here every night', 'i m here to help you', 'i m here to help you', 'i m here to help you', 'i m here to help you', 'i m here to save you', 'i m here to save you', 'i m highly motivated', 'i m hitting the road', 'i m in a hurry today', 'i m in love with you', 'i m in love with you', 'i m in love with you', 'i m in the same boat', 'i m incredibly tired', 'i m just another man', 'i m just helping out', 'i m just watching tv', 'i m listening to you', 'i m living in a town', 'i m looking for work', 'i m making a snowman', 'i m no longer hungry', 'i m no longer sleepy', 'i m no match for tom', 'i m not a cat person', 'i m not a vegetarian', 'i m not a vegetarian', 'i m not an alcoholic', 'i m not as happy now', 'i m not at all tired', 'i m not at all tired', 'i m not at all tired', 'i m not avoiding you', 'i m not busy anymore', 'i m not busy anymore', 'i m not denying that', 'i m not exactly sure', 'i m not exactly sure', 'i m not feeling well', 'i m not finished yet', 'i m not finished yet', 'i m not going to die', 'i m not going to lie', 'i m not good at this', 'i m not good at this', 'i m not good looking', 'i m not good looking', 'i m not here for you', 'i m not here for you', 'i m not ignoring you', 'i m not ignoring you', 'i m not making it up', 'i m not marrying you', 'i m not marrying you', 'i m not quitting now', 'i m not ready to die', 'i m not ready to die', 'i m not really angry', 'i m not running away', 'i m not safe in here', 'i m not sitting here', 'i m not so convinced', 'i m not so convinced', 'i m not staying here', 'i m not stopping you', 'i m not stopping you', 'i m not sure i agree', 'i m not sure i agree', 'i m not sure anymore', 'i m not sure anymore', 'i m not taking sides', 'i m not that cynical', 'i m not that worried', 'i m not that worried', 'i m not tired at all', 'i m not tired at all', 'i m not turning back', 'i m not very patient', 'i m not very patient', 'i m not wearing this', 'i m not your brother', 'i m not your brother', 'i m not your servant', 'i m not your servant', 'i m not your teacher', 'i m often in trouble', 'i m pressing charges', 'i m pressing charges', 'i m proud of you all', 'i m proud of you all', 'i m proud of you all', 'i m proud of you all', 'i m ready if you are', 'i m ready if you are', 'i m ready if you are', 'i m ready if you are', 'i m really busy tom', 'i m really busy tom', 'i m right behind him', 'i m right behind him', 'i m right behind you', 'i m right behind you', 'i m right behind you', 'i m right behind you', 'i m right beside you', 'i m shorter than him', 'i m shorter than you', 'i m shorter than you', 'i m shorter than you', 'i m sick of fighting', 'i m sick of fighting', 'i m sick of this war', 'i m smarter than you', 'i m smarter than you', 'i m smarter than you', 'i m smarter than you', 'i m smarter than you', 'i m smarter than you', 'i m smarter than you', 'i m smarter than you', 'i m smarter than you', 'i m smarter than you', 'i m smarter than you', 'i m smarter than you', 'i m smarter than you', 'i m smarter than you', 'i m smarter than you', 'i m smarter than you', 'i m smarter than you', 'i m smarter than you', 'i m smarter than you', 'i m smarter than you', 'i m sorry i hurt tom', 'i m sorry i hurt you', 'i m sorry i hurt you', 'i m sorry i hurt you', 'i m sorry i hurt you', 'i m sorry i hurt you', 'i m sorry i hurt you', 'i m sorry i hurt you', 'i m sorry i hurt you', 'i m sorry i hurt you', 'i m sorry i hurt you', 'i m sorry i hurt you', 'i m sorry i hurt you', 'i m sorry i shot you', 'i m sorry i shot you', 'i m sorry to hear it', 'i m staying with you', 'i m still mad at her', 'i m studying english', 'i m sure they ll win', 'i m sure they ll win', 'i m terrible at math', 'i m tired of arguing', 'i m tired of dancing', 'i m tired of dancing', 'i m tired of waiting', 'i m tired of writing', 'i m too old for this', 'i m too old for this', 'i m totally confused', 'i m totally confused', 'i m unnecessary here', 'i m very comfortable', 'i m very lonely here', 'i m watching a movie', 'i m worried about it', 'i m writing a letter', 'i m your best friend', 'i m your best friend', 'i m your biggest fan', 'i m your biggest fan', 'she is a blonde girl', 'she is a good dancer', 'she is a good writer', 'she is a pretty girl', 'she is a quiet woman', 'she is a real beauty', 'she is a real beauty', 'she is able to skate', 'she is angry with me', 'she is bad at sports', 'she is first in line', 'she is hostile to me', 'she is in a bad mood', 'she is living abroad', 'she is making dinner', 'she is making dinner', 'she is making dinner', 'she is my dream girl', 'she is my girlfriend', 'she is never on time', 'she is out of danger', 'she is skipping rope', 'she is wearing a hat', 'she isn t lonely now', 'she s a belly dancer', 'she s a quiet person', 'she s an honest girl', 'she s as busy as tom', 'she s eating for two', 'she s going to ooita', 'she s gone on a trip', 'she s good at tennis', 'she s got more books', 'she s not a bad girl', 'she s older than tom', 'she s older than him', 'she s scared of dogs', 'she s very beautiful', 'she s very emotional', 'she s a doctor now', 'they are approaching', 'they are approaching', 'they are five in all', 'they are five in all', 'they are good people', 'they are not sisters', 'they are running now', 'they re able to sing', 'they re able to sing', 'they re afraid of me', 'they re afraid of me', 'they re afraid of us', 'they re all in there', 'they re all in there', 'they re all the same', 'they re all the same', 'they re all tourists', 'they re all tourists', 'they re going to try', 'they re going to try', 'they re going to try', 'they re going to try', 'they re hard to find', 'they re hard to find', 'they re just for you', 'they re just for you', 'they re just for you', 'they re just for you', 'they re not a threat', 'they re not a threat', 'they re not all busy', 'they re not all busy', 'they re not here yet', 'they re not home yet', 'they re not home yet', 'they re not home yet', 'they re not home yet', 'they re not my rules', 'they re really tight', 'they re really tight', 'they re really tight', 'they re sending help', 'we are boiling water', 'we are eleven in all', 'we are out of danger', 'we are to eat at six', 'we are two of a kind', 'we re all devastated', 'we re all devastated', 'we re all going home', 'we re all going home', 'we re all going home', 'we re all going home', 'we re all vulnerable', 'we re always careful', 'we re always careful', 'we re being attacked', 'we re being attacked', 'we re blood brothers', 'we re both witnesses', 'we re both witnesses', 'we re claustrophobic', 'we re getting closer', 'we re getting closer', 'we re getting closer', 'we re getting warmer', 'we re going in first', 'we re going shopping', 'we re going shopping', 'we re going to begin', 'we re going to fight', 'we re going upstairs', 'we re having a blast', 'we re having a blast', 'we re having a blast', 'we re having company', 'we re in a recession', 'we re just beginning', 'we re not barbarians', 'we re not being sued', 'we re not evacuating', 'we re not going home', 'we re not interested', 'we re not interested', 'we re not terrorists', 'we re not that close', 'we re not used to it', 'we re not used to it', 'we re not your enemy', 'we re not your enemy', 'we re not your enemy', 'we re not your enemy', 'we re out of bullets', 'we re out of options', 'we re perfectly safe', 'we re protecting you', 'we re ready for this', 'we re ready for this', 'we re really married', 'we re really married', 'we re still involved', 'we re still involved', 'we re still involved', 'we re still involved', 'we re still not sure', 'we re still not sure', 'we re still not sure', 'we re still not sure', 'we re still underage', 'we re still underage', 'we re too vulnerable', 'we re very different', 'we re very different', 'we re your last hope', 'we re your last hope', 'you are a bad person', 'you are a bad person', 'you are a workaholic', 'you are new students', 'you are not japanese', 'you are not japanese', 'you are not japanese', 'you are not japanese', 'you are not japanese', 'you are not a coward', 'you are not a coward', 'you are not a doctor', 'you are now an adult', 'you are under arrest', 'you are welcome here', 'you are welcome here', 'you are what you eat', 'you aren t my mother', 'you aren t my mother', 'you re german right ?', 'you re a filthy liar !', 'you re a filthy liar !', 'you re a filthy liar !', 'you re a filthy liar !', 'you re a little late', 'you re a little liar', 'you re a little liar', 'you re a little liar', 'you re a total wreck', 'you re a total wreck', 'you re a true friend', 'you re a true friend', 'you re being watched', 'you re conscientious', 'you re conscientious', 'you re conscientious', 'you re conscientious', 'you re conscientious', 'you re double parked', 'you re double parked', 'you re double parked', 'you re double parked', 'you re double parked', 'you re double parked', 'you re going to lose', 'you re going to lose', 'you re going too far', 'you re just a coward', 'you re never at home', 'you re never at home', 'you re not a suspect', 'you re not a suspect', 'you re not in charge', 'you re not in charge', 'you re not listening !', 'you re not listening !', 'you re not my friend', 'you re not my friend', 'you re not my friend', 'you re not my friend', 'you re not my mother', 'you re not my mother', 'you re not one of us', 'you re not one of us', 'you re not safe here', 'you re not safe here', 'you re not safe here', 'you re not safe here', 'you re not the first', 'you re not the first', 'you re not the first', 'you re not the first', 'you re not very good', 'you re not very good', 'you re not very good', 'you re not very good', 'you re not very tidy', 'you re not very tidy', 'you re not very tidy', 'you re not very tidy', 'you re opportunistic', 'you re opportunistic', 'you re opportunistic', 'you re opportunistic', 'you re opportunistic', 'you re overconfident', 'you re overemotional', 'you re overemotional', 'you re putting me on', 'you re putting me on', 'you re still growing', 'you re still growing', 'you re such an idiot !', 'you re such an idiot !', 'you re such an idiot !', 'you re such an idiot !', 'you re such an idiot !', 'you re such an idiot !', 'you re such an idiot !', 'you re such an idiot !', 'you re such an idiot !', 'you re temperamental', 'you re temperamental', 'you re temperamental', 'you re temperamental', 'you re temperamental', 'you re temperamental', 'you re the scapegoat', 'you re the scapegoat', 'you re totally right', 'you re totally right', 'you re unforgettable', 'you re unforgettable', 'you re unforgettable', 'you re very flexible', 'you re very flexible', 'you re very flexible', 'you re very generous', 'you re very generous', 'you re very generous', 'you re very generous', 'you re very generous', 'you re very generous', 'you re very generous', 'you re very generous', 'you re very generous', 'you re very generous', 'you re very talented', 'you re very talented', 'you re very talented', 'you re very talented', 'you re very talented', 'you re very talented', 'you re very talented', 'you re very talented', 'you re very talented', 'you re very talented', 'you re very talented', 'you re very talented', 'you re very talented', 'you re very talented', 'you re wasting water', 'you re wasting water', 'he is a big prankster', 'he is a famous artist', 'he is a heroin addict', 'he is a heroin addict', 'he is a living fossil !', 'he is a man of reason', 'he is a man of vision', 'he is a man of wealth', 'he is a man of wisdom', 'he is a sharp shooter', 'he is a spoiled child', 'he is a spoiled child', 'he is a tennis player', 'he is above suspicion', 'he is afraid of death', 'he is afraid of death', 'he is always laughing', 'he is always prepared', 'he is always studying', 'he is an army officer', 'he is as good as dead', 'he is away on holiday', 'he is blinded by love', 'he is eager to please', 'he is good at cooking', 'he is good at driving', 'he is good at driving', 'he is good at singing', 'he is good at singing', 'he is in the bathroom', 'he is in the bathroom', 'he is just an amateur', 'he is lost in thought', 'he is mad about music', 'he is mad about music', 'he is my close friend', 'he is my close friend', 'he is no ordinary man', 'he is not always late', 'he is not an american', 'he is not kind to her', 'he is not kind to her', 'he is not what he was', 'he is on another line', 'he is poor but happy', 'he is said to be rich', 'he is such a show off', 'he is sure of success', 'he is sure of success', 'he is sure to succeed', 'he is sure to succeed', 'he is tall and strong', 'he is the tallest boy', 'he is unable to do it', 'he is very mean to me', 'he is washing his car', 'he is washing the car', 'he is watching tv now', 'he is wearing glasses', 'he is writing a novel', 'he isn t happy at all', 'he isn t happy at all', 'he s a fine young lad', 'he s a notorious liar', 'he s afraid of snakes', 'he s allergic to cats', 'he s allergic to cats', 'he s an absolute fool', 'he s an oceanographer', 'he s away on business', 'he s away on vacation', 'he s done this before', 'he s enjoying himself', 'he s gone into hiding', 'he s gone into hiding', 'he s gone into hiding', 'he s hungry for power', 'he s just buying time', 'he s just kidding you', 'he s kind of handsome', 'he s learning chinese', 'he s my older brother', 'he s not always happy', 'he s not in our group', 'he s not in our group', 'he s on his last legs', 'he s on his last legs', 'he s our only suspect', 'he s right behind you', 'he s right behind you', 'he s right behind you', 'he s right behind you', 'he s stronger than me', 'he s such a cold fish', 'he s such a great guy', 'he s their only child', 'he s very experienced', 'he s very intelligent', 'he s washing your car', 'he s with his parents', 'he s young and single', 'i am an office worker', 'i am folding my dress', 'i am glad to help you', 'i am glad to help you', 'i am glad to help you', 'i am glad to help you', 'i am glad to help you', 'i am glad to help you', 'i am glad to help you', 'i am glad to help you', 'i am grateful to them', 'i am harvesting wheat', 'i am here on business', 'i am in the classroom', 'i am near the station', 'i am no match for him', 'i am not studying now', 'i am poor at swimming', 'i am reading a letter', 'i am reading a letter', 'i am shorter than you', 'i am shorter than you', 'i am shorter than you', 'i am tired of reading', 'i am too tired to run', 'i am totally confused', 'i am totally confused', 'i am writing a letter', 'i m a big fan of golf', 'i m a football player', 'i m a little confused', 'i m a little confused', 'i m a married man now', 'i m a terrible dancer', 'i m a terrible writer', 'i m afraid of heights', 'i m afraid of nothing', 'i m afraid of spiders', 'i m all out of tricks', 'i m almost sure of it', 'i m almost sure of it', 'i m ashamed of myself', 'i m at the restaurant', 'i m aware of all that', 'i m being blackmailed', 'i m busy all the time', 'i m coming right away', 'i m coming right away', 'i m coming right home', 'i m coming right home', 'i m doing my homework', 'i m doing my homework', 'i m doing pretty well', 'i m dreading the exam', 'i m dreading the exam', 'i m dreading the exam', 'i m eating a sandwich', 'i m failing at my job', 'i m finished with you', 'i m finished with you', 'i m from tokyo japan', 'i m getting undressed', 'i m glad to hear that', 'i m glad to hear that', 'i m glad to hear that', 'i m glad you liked it', 'i m glad you liked it', 'i m glad you liked it', 'i m glad you liked it', 'i m glad you liked it', 'i m glad you re early', 'i m glad you re early', 'i m going back inside', 'i m going there alone', 'i m going to be on tv', 'i m going to hurt you', 'i m going to miss you', 'i m going to miss you', 'i m going to the bank', 'i m going to watch tv', 'i m happy you re here', 'i m happy you re here', 'i m happy you re here', 'i m happy you re here', 'i m here as a tourist', 'i m here to apologize', 'i m home all the time', 'i m joking of course', 'i m just a normal guy', 'i m just being honest', 'i m just being honest', 'i m just doing my job', 'i m late for practice', 'i m leaving it to you', 'i m leaving it to you', 'i m leaving on sunday', 'i m looking for a job', 'i m looking for a job', 'i m not a disbeliever', 'i m not a drug addict', 'i m not a drug addict', 'i m not a drug addict', 'i m not a drug addict', 'i m not a kid anymore', 'i m not a millionaire', 'i m not afraid at all', 'i m not afraid of you', 'i m not afraid to die', 'i m not afraid to try', 'i m not all that busy', 'i m not all that busy', 'i m not an only child', 'i m not an only child', 'i m not angry anymore', 'i m not at all afraid', 'i m not at all hungry', 'i m not done with you', 'i m not done with you', 'i m not done with you', 'i m not done with you', 'i m not entirely sure', 'i m not entirely sure', 'i m not entirely sure', 'i m not entirely sure', 'i m not following you', 'i m not giving up yet', 'i m not going outside', 'i m not going to look', 'i m not going to lose', 'i m not going to stop', 'i m not going to talk', 'i m not going to wait', 'i m not going to work', 'i m not here to fight', 'i m not here to fight', 'i m not hungry anyway', 'i m not hungry at all', 'i m not hungry either', 'i m not in any danger', 'i m not in good shape', 'i m not narrow minded', 'i m not narrow minded', 'i m not on duty today', 'i m not one to gossip', 'i m not proud of that', 'i m not proud of that', 'i m not really hungry', 'i m not scared to die', 'i m not sleeping well', 'i m not sure about it', 'i m not sure about it', 'i m not too convinced', 'i m not too convinced', 'i m not uncomfortable', 'i m not unsympathetic', 'i m not very athletic', 'i m not wearing socks', 'i m not young anymore', 'i m not young anymore', 'i m not your daughter', 'i m not your daughter', 'i m on my lunch break', 'i m on my way to work', 'i m on my way to work', 'i m out of place here', 'i m playing a tv game', 'i m playing a tv game', 'i m proud of you guys', 'i m proud of you guys', 'i m proud of you guys', 'i m rarely this angry', 'i m ready for a break', 'i m really not hungry', 'i m scared of heights', 'i m sick of this game', 'i m sorry i m so late', 'i m staying out of it', 'i m still your friend', 'i m still your friend', 'i m still your friend', 'i m still your friend', 'i m sure i ll be fine', 'i m sure i ll be fine', 'i m sure that s wrong', 'i m sure that s wrong', 'i m sure that s wrong', 'i m sure we all agree', 'i m sure we all agree', 'i m swamped with work', 'i m taking a vacation', 'i m taking care of it', 'i m terrible at chess', 'i m thinking of going', 'i m three blocks away', 'i m to blame not you', 'i m too sleepy to eat', 'i m too tired to walk', 'i m trying not to cry', 'i m used to the noise', 'i m very drawn to you', 'i m very drawn to you', 'i m very drawn to you', 'i m waiting for lunch', 'i m worried about him', 'i m worried about you', 'she is a good swimmer', 'she is a good swimmer', 'she is about to leave', 'she is afraid of cats', 'she is afraid of dogs', 'she is always smoking', 'she is as tall as you', 'she is engaged to him', 'she is gaining weight', 'she is good at skiing', 'she is likely to come', 'she is related to him', 'she is sewing a dress', 'she is very beautiful', 'she is weak by nature', 'she isn t kind to him', 'she s a jealous woman', 'she s a single mother', 'she s had a hard life', 'she s missed the boat', 'she s my older sister', 'she s not at home now', 'she s not in the mood', 'she s rather clueless', 'she s smarter than me', 'she s smartly dressed', 'she s still under age', 'she s sure to succeed', 'she s taller than him', 'she s too old for you', 'she s too old for you', 'she s too old for you', 'she s under the chair', 'she s upset right now', 'they are all the same', 'they are out shopping', 'they are out shopping', 'they are the same age', 'they are the same age', 'they re able students', 'they re afraid of him', 'they re afraid of him', 'they re all terrified', 'they re all terrified', 'they re coming for me', 'they re coming for me', 'they re coming for us', 'they re coming for us', 'they re in the garden', 'they re in the garden', 'they re in the shower', 'they re in the shower', 'they re in the shower', 'they re in the shower', 'they re just students', 'they re just students', 'they re just students', 'they re just students', 'they re not criminals', 'they re not criminals', 'they re not expensive', 'they re not expensive', 'they re not expensive', 'they re not following', 'they re not following', 'they re playing chess', 'they re up to no good', 'they re up to no good', 'they re up to no good', 'they re up to no good', 'we are short of money', 'we are the new owners', 'we re behind schedule', 'we re closed tomorrow', 'we re completely lost', 'we re completely lost', 'we re dealing with it', 'we re getting married', 'we re getting nowhere', 'we re just practicing', 'we re leaving tonight', 'we re nearly finished', 'we re nearly finished', 'we re not going there', 'we re not proud of it', 'we re not really sure', 'we re not really sure', 'we re not responsible', 'we re not through yet', 'we re on our way home', 'we re so proud of you !', 'we re so proud of you !', 'we re so proud of you !', 'we re so proud of you !', 'you are a good person', 'you are a good person', 'you are a good person', 'you are a good person', 'you are a good person', 'you are a good person', 'you are a good person', 'you are a good person', 'you are a good person', 'you are a good person', 'you are a mean person', 'you are her daughters', 'you are not a student', 'you are seriously ill', 'you are seriously ill', 'you re all against me', 'you re all against me', 'you re always singing', 'you re always singing', 'you re always singing', 'you re always singing', 'you re being paranoid', 'you re being paranoid', 'you re being paranoid', 'you re doing it right', 'you re doing it right', 'you re doing it right', 'you re doing it right', 'you re doing it wrong !', 'you re getting closer', 'you re getting closer', 'you re going to be ok', 'you re going to be ok', 'you re going to be ok', 'you re going to be ok', 'you re going to laugh', 'you re going to laugh', 'you re going too fast', 'you re going too fast', 'you re good with kids', 'you re in big trouble', 'you re in big trouble', 'you re in big trouble', 'you re in big trouble', 'you re in danger tom', 'you re in danger tom', 'you re my best friend', 'you re my kind of gal', 'you re not being fair', 'you re not being fair', 'you re not helping me', 'you re not helping me', 'you re not safe there', 'you re not safe there', 'you re not that crazy', 'you re not that crazy', 'you re not that smart', 'you re not that smart', 'you re not very funny', 'you re not very funny', 'you re not very funny', 'you re not very funny', 'you re not very funny', 'you re not very funny', 'you re out of control', 'you re out of control', 'you re out of excuses', 'you re out of excuses', 'you re over analyzing', 'you re over analyzing', 'you re probably right', 'you re probably tired', 'you re probably tired', 'you re probably tired', 'you re probably tired', 'you re probably tired', 'you re probably tired', 'you re pulling my leg', 'you re pulling my leg', 'you re really awesome', 'you re really awesome', 'you re really awesome', 'you re really awesome', 'you re really awesome', 'you re really awesome', 'you re really selfish', 'you re really selfish', 'you re really selfish', 'you re right i think', 'you re right i think', 'you re right i think', 'you re so predictable', 'you re so predictable', 'you re so predictable', 'you re taller than me', 'you re taller than me', 'you re taller than me', 'you re taller than me', 'you re taller than me', 'you re taller than me', 'you re too old for me', 'you re too old for me', 'you re too old for me', 'you re too old for me', 'you re too old for me', 'you re turning thirty', 'you re turning thirty', 'you re very beautiful', 'you re very efficient', 'you re very efficient', 'you re very efficient', 'you re very efficient', 'you re very efficient', 'you re very efficient', 'you re very emotional', 'you re very emotional', 'you re very emotional', 'you re very emotional', 'you re very emotional', 'you re very emotional', 'you re very emotional', 'you re very emotional', 'you re very emotional', 'you re very emotional', 'you re very emotional', 'you re very emotional', 'you re very fortunate', 'you re very fortunate', 'you re very kind tom', 'you re very kind tom', 'you re very observant', 'you re very observant', 'you re very observant', 'you re very observant', 'you re very observant', 'you re very observant', 'you re very skeptical', 'you re very skeptical', 'you re very skeptical', 'you re very skeptical', 'you re very skeptical', 'you re very skeptical', 'you re worse than tom', 'you re worse than tom', 'he is italian by birth', 'he is a capable lawyer', 'he is a complete idiot', 'he is a good carpenter', 'he is a lovable person', 'he is a man of ability', 'he is a true gentleman', 'he is a very smart boy', 'he is afraid of father', 'he is afraid of snakes', 'he is an office worker', 'he is blind in one eye', 'he is blind in one eye', 'he is crazy about jazz', 'he is eager to succeed', 'he is equal to the job', 'he is far from perfect', 'he is fond of painting', 'he is fond of swimming', 'he is full of ambition', 'he is good for nothing', 'he is good for nothing', 'he is guilty of murder', 'he is in love with her', 'he is in need of money', 'he is playing outdoors', 'he is popular among us', 'he is quite an odd man', 'he is riding a bicycle', 'he is riding a bicycle', 'he is speaking english', 'he is thick as a brick', 'he is thinking it over', 'he is thirty years old', 'he is tired of reading', 'he is used to the work', 'he isn t afraid to die', 'he isn t alone anymore', 'he s a junior employee', 'he s a man of his word', 'he s a man of his word', 'he s a talented writer', 'he s a talented writer', 'he s a weak willed man', 'he s acting on his own', 'he s addicted to drugs', 'he s afraid of the sea', 'he s ahead in the race', 'he s an asian american', 'he s as blind as a bat', 'he s buying an old hat', 'he s getting cold feet', 'he s getting cold feet', 'he s going to sit here', 'he s here to spy on us', 'he s incredibly stupid', 'he s leaning on a cane', 'he s likely to be late', 'he s looking for a job', 'he s not a team player', 'he s not worthy of you', 'he s not worthy of you', 'he s not young anymore', 'he s open and trusting', 'he s out taking a walk', 'he s probably sleeping', 'he s rich and powerful', 'he s stalling for time', 'he s still sick in bed', 'he s stronger than you', 'he s stronger than you', 'he s such a sweetheart', 'he s the one isn t he ?', 'he s writing his diary', 'he s young and healthy', 'i am afraid of heights', 'i am ashamed of myself', 'i am brushing my teeth', 'i am doing my homework', 'i am doing my homework', 'i am eating a sandwich', 'i am happy to meet you', 'i am leaving next week', 'i am moving next month', 'i am moving next month', 'i am no longer a child', 'i am not proud of this', 'i am not proud of this', 'i am off duty tomorrow', 'i am off duty tomorrow', 'i am ready to help you', 'i am sixteen years old', 'i am swamped with work', 'i am taking a bath now', 'i am tired of homework', 'i am tired of homework', 'i am worried about him', 'i m a japanese teacher', 'i m a japanese teacher', 'i m a few minutes late', 'i m a good taxi driver', 'i m a little bit tired', 'i m a little skeptical', 'i m above telling lies', 'i m accustomed to this', 'i m accustomed to this', 'i m afraid of drowning', 'i m afraid of the dark', 'i m afraid of the dark', 'i m allergic to gluten', 'i m allowing you to go', 'i m allowing you to go', 'i m already in trouble', 'i m anxious to see you', 'i m anxious to see you', 'i m ashamed of my body', 'i m ashamed of my past', 'i m at an office party', 'i m at the airport now', 'i m aware of the facts', 'i m aware of the facts', 'i m aware of the risks', 'i m aware of the risks', 'i m being held hostage', 'i m being held hostage', 'i m busy at the moment', 'i m completely wrecked', 'i m completely wrecked', 'i m concerned about it', 'i m doing this for him', 'i m doing this for you', 'i m doing this for you', 'i m done with all that', 'i m fascinated by cats', 'i m fascinated by cats', 'i m getting used to it', 'i m glad i invited you', 'i m glad i invited you', 'i m glad i invited you', 'i m glad i invited you', 'i m glad i invited you', 'i m glad i invited you', 'i m glad i invited you', 'i m glad i invited you', 'i m glad i invited you', 'i m glad i invited you', 'i m glad i invited you', 'i m glad i invited you', 'i m glad i left boston', 'i m glad i left boston', 'i m glad i m not a dog', 'i m glad you came over', 'i m glad you came over', 'i m glad you came over', 'i m glad you came over', 'i m glad you came over', 'i m glad you re coming', 'i m glad you re coming', 'i m glad you re coming', 'i m glad you re coming', 'i m going to australia', 'i m happy for you both', 'i m happy for you both', 'i m happy you liked it', 'i m happy you liked it', 'i m happy you liked it', 'i m happy you liked it', 'i m honored to be here', 'i m horrible with kids', 'i m horrible with kids', 'i m hungry and thirsty', 'i m hungry and thirsty', 'i m in the tennis club', 'i m in the tennis club', 'i m just not very busy', 'i m just not very busy', 'i m kind of sick today', 'i m listening to music', 'i m living in the city', 'i m longing to see him', 'i m looking for my key', 'i m lying on the grass', 'i m lying on the grass', 'i m more than a friend', 'i m more than a friend', 'i m no friend of yours', 'i m no friend of yours', 'i m no friend of yours', 'i m no friend of yours', 'i m no friend of yours', 'i m no friend of yours', 'i m no friend of yours', 'i m no friend of yours', 'i m not a professional', 'i m not a professional', 'i m not all that drunk', 'i m not all that smart', 'i m not all that smart', 'i m not an early riser', 'i m not answering that', 'i m not as busy as tom', 'i m not as busy as tom', 'i m not busy right now', 'i m not busy right now', 'i m not disputing that', 'i m not going anywhere', 'i m not going anywhere', 'i m not happy about it', 'i m not happy about it', 'i m not hitting on you', 'i m not hitting on you', 'i m not hungry anymore', 'i m not letting you go', 'i m not making that up', 'i m not ready to fight', 'i m not ready to fight', 'i m not really worried', 'i m not really worried', 'i m not sure i m ready', 'i m not sure i m ready', 'i m not talking to tom', 'i m not talking to you', 'i m not talking to you', 'i m not totally stupid', 'i m not very confident', 'i m not very organized', 'i m not very organized', 'i m not your boyfriend', 'i m on a paid vacation', 'i m only doing my duty', 'i m pleased to see you', 'i m pleased to see you', 'i m proud of my father', 'i m proud of my father', 'i m proud of my school', 'i m quite sure of that', 'i m rather proud of it', 'i m ready for tomorrow', 'i m ready for tomorrow', 'i m ready to leave now', 'i m ready when you are', 'i m ready when you are', 'i m really embarrassed', 'i m really embarrassed', 'i m really proud of it', 'i m really proud of it', 'i m really tired today', 'i m reporting for duty', 'i m sick of being sick', 'i m sick of hearing it', 'i m sick of hearing it', 'i m so bored right now', 'i m sorry i really am', 'i m studying very hard', 'i m studying very hard', 'i m terrible at tennis', 'i m the youngest child', 'i m the youngest child', 'i m thinking about you', 'i m too tired to argue', 'i m too tired to argue', 'i m too tired to drive', 'i m too tired to think', 'i m too tired to think', 'i m too tired to think', 'i m too tired to think', 'i m trying to remember', 'i m using the computer', 'i m walking beside her', 'i m wearing sunglasses', 'i m well aware of that', 'i m working on his car', 'i m worried about them', 'i m worried about them', 'i m worried about them', 'she is a famous singer', 'she is a gifted artist', 'she is already married', 'she is as poor as ever', 'she is cooking for him', 'she is fit for the job', 'she is fond of animals', 'she is great at skiing', 'she is guilty of fraud', 'she is guilty of theft', 'she is habitually late', 'she is his real mother', 'she is in need of help', 'she is no match for me', 'she is no match for me', 'she is used to cooking', 'she is used to sitting', 'she is very kind to us', 'she is very photogenic', 'she is wiser than i am', 'she s a glamorous girl', 'she s a powerful witch', 'she s a very nice girl', 'she s a very nice girl', 'she s a very nice girl', 'she s a very nice girl', 'she s always grumbling', 'she s always grumbling', 'she s always on the go', 'she s at the hotel now', 'she s at the hotel now', 'she s being nice to me', 'she s lost her car key', 'she s lost her car key', 'she s one tough cookie', 'she s playing monopoly', 'she s rolling in money', 'she s smarter than him', 'she s younger than him', 'they are great friends', 'they are great friends', 'they are jealous of us', 'they are jealous of us', 'they are my classmates', 'they are playing chess', 'they are very cheerful', 'they are very cheerful', 'they are very cheerful', 'they are very cheerful', 'they re about to leave', 'they re about to leave', 'they re all against me', 'they re all against me', 'they re doing it right', 'they re doing it right', 'they re doing it right', 'they re doing it right', 'they re in the hot tub', 'they re in the hot tub', 'they re not my friends', 'they re out to get you', 'they re out to get you', 'they re out to get you', 'they re out to get you', 'they re still not safe', 'they re still not safe', 'they re still together', 'they re still together', 'they re waiting for us', 'we are making progress', 'we are on the way home', 'we are to meet at noon', 'we aren t always right', 'we re a married couple', 'we re all disappointed', 'we re all having lunch', 'we re all having lunch', 'we re all in agreement', 'we re all in agreement', 'we re all out of booze', 'we re all sure of that', 'we re all sure of that', 'we re all wasting time', 'we re all wasting time', 'we re all working hard', 'we re all working hard', 'we re also out of eggs', 'we re doing all we can', 'we re finished already', 'we re getting divorced', 'we re glad you re here', 'we re glad you re here', 'we re having breakfast', 'we re imagining things', 'we re in the same boat', 'we re investigating it', 'we re just hanging out', 'we re learning chinese', 'we re leaving tomorrow', 'we re not all teachers', 'we re not all teachers', 'we re not going ashore', 'we re not turning back', 'we re not your parents', 'we re on the same side', 'we re pretty confident', 'we re still vulnerable', 'we re studying chinese', 'we re tired of waiting', 'you are a good student', 'you are a troublemaker', 'you are a troublemaker', 'you are free to go out', 'you are hearing things', 'you are hearing things', 'you are my best friend', 'you are not consistent', 'you are not our friend', 'you are not our friend', 'you are probably wrong', 'you are probably wrong', 'you are right in a way', 'you are right in a way', 'you are taller than me', 'you are taller than me', 'you are taller than me', 'you are taller than me', 'you are taller than me', 'you are taller than me', 'you are the chosen one', 'you are the chosen one', 'you are the chosen one', 'you are the chosen one', 'you are very beautiful', 'you aren t replaceable', 'you aren t replaceable', 'you re a nervous wreck', 'you re a nervous wreck', 'you re a nervous wreck', 'you re a nervous wreck', 'you re a wonderful guy', 'you re a wonderful guy', 'you re a wonderful guy', 'you re being malicious', 'you re cuter than mary', 'you re cuter than mary', 'you re cuter than mary', 'you re driving me nuts', 'you re driving me nuts', 'you re embarrassing me', 'you re embarrassing me', 'you re embarrassing me', 'you re embarrassing me', 'you re in grave danger', 'you re in grave danger', 'you re making me blush', 'you re making me blush', 'you re not cooperating', 'you re not cooperating', 'you re not fast enough', 'you re not fast enough', 'you re not fast enough', 'you re not wanted here', 'you re not wanted here', 'you re on to something', 'you re on to something', 'you re perfectly right', 'you re really annoying', 'you re really annoying', 'you re really annoying', 'you re really annoying', 'you re really annoying', 'you re really annoying', 'you re really gorgeous', 'you re really gorgeous', 'you re really gorgeous', 'you re shy aren t you ?', 'you re shy aren t you ?', 'you re smarter than me', 'you re smarter than me', 'you re smarter than me', 'you re smarter than me', 'you re smarter than me', 'you re smarter than me', 'you re such a cute boy', 'you re such a mean man', 'you re such a pack rat', 'you re up to something', 'you re very attractive', 'you re very attractive', 'you re very attractive', 'you re very attractive', 'you re very attractive', 'you re very attractive', 'you re very attractive', 'you re very attractive', 'you re very attractive', 'you re very attractive', 'you re very attractive', 'you re very attractive', 'you re very perceptive', 'you re very perceptive', 'you re very perceptive', 'you re wasting my time', 'you re wasting my time', 'you re wasting my time', 'you re wasting my time', 'he is japanese by birth', 'he is a bit of a coward', 'he is a famous composer', 'he is a friendly person', 'he is a great scientist', 'he is a highly paid man', 'he is a man of his word', 'he is a man of his word', 'he is a medical student', 'he is a sort of painter', 'he is a tennis champion', 'he is at home in france', 'he is boiling with rage', 'he is doing a super job', 'he is drawing a picture', 'he is eager to go there', 'he is eager to go there', 'he is eager to go there', 'he is eager to go there', 'he is equal to the task', 'he is fluent in chinese', 'he is fluent in english', 'he is fond of adventure', 'he is full of new ideas', 'he is hated by everyone', 'he is known to everyone', 'he is looking for a job', 'he is lying on the sofa', 'he is lying on the sofa', 'he is no friend of mine', 'he is no friend of mine', 'he is no friend of mine', 'he is no longer a child', 'he is not himself today', 'he is not honest at all', 'he is not honest at all', 'he is not like he seems', 'he is not wearing a hat', 'he is not what he seems', 'he is on board the ship', 'he is out of the office', 'he is poor at chemistry', 'he is putting on weight', 'he is quite a gentleman', 'he is rather optimistic', 'he is respected by them', 'he is said to have died', 'he is said to have died', 'he is short but strong', 'he is smelling the soup', 'he is still on his back', 'he is strong as a horse', 'he is tall and handsome', 'he is used to traveling', 'he is very good looking', 'he isn t coming either', 'he s a chinese american', 'he s a cheat and a liar', 'he s a community leader', 'he s a lovely young man', 'he s a lovely young man', 'he s a lovely young man', 'he s a short order cook', 'he s a very hard worker', 'he s addicted to heroin', 'he s addicted to heroin', 'he s addicted to heroin', 'he s addicted to heroin', 'he s addicted to heroin', 'he s an italian teacher', 'he s angry at the world', 'he s been drinking beer', 'he s certain to succeed', 'he s cleaning his rifle', 'he s cleaning his rifle', 'he s dating my daughter', 'he s everybody s friend', 'he s feeling really low', 'he s fluent in japanese', 'he s going to get fired', 'he s going to love this', 'he s good at arithmetic', 'he s highly intelligent', 'he s hopelessly in love', 'he s hungry and thirsty', 'he s mumbling something', 'he s my younger brother', 'he s now short of money', 'he s on the dance floor', 'he s painting his house', 'he s really into soccer', 'he s sketching an apple', 'he s the same age as me', 'he s too young to drink', 'he s very understanding', 'he s very upset by this', 'he s wearing a new coat', 'i am an english teacher', 'i am disgusted with him', 'i am eighteen years old', 'i am following that car', 'i am loved by my mother', 'i am loved by my mother', 'i am not going anywhere', 'i am not going anywhere', 'i am reading a magazine', 'i am the fastest runner', 'i am too tired to climb', 'i am very happy with it', 'i am your friend right ?', 'i m a little bit hungry', 'i m a married woman now', 'i m acquainted with tom', 'i m afraid for his life', 'i m afraid it will rain', 'i m allergic to seafood', 'i m always very nervous', 'i m an american citizen', 'i m an american citizen', 'i m as hungry as a bear', 'i m as hungry as a bear', 'i m at a friend s house', 'i m at a friend s house', 'i m at a loss for words', 'i m busy so i can t go', 'i m charmed to meet you', 'i m disappointed in you', 'i m disappointed in you', 'i m doing this for them', 'i m doing this for them', 'i m done with my chores', 'i m dripping with sweat', 'i m emotionally drained', 'i m emotionally drained', 'i m faithful to my wife', 'i m fed up with english', 'i m fed up with english', 'i m fed up with english', 'i m feeling much better', 'i m fine how about you ?', 'i m from the east coast', 'i m from the west coast', 'i m fully aware of that', 'i m glad you enjoyed it', 'i m glad you invited me', 'i m going to do my best', 'i m going to start over', 'i m going to the police', 'i m happy and satisfied', 'i m here to protect you', 'i m here to protect you', 'i m in way over my head', 'i m in way over my head', 'i m in way over my head', 'i m in way over my head', 'i m in way over my head', 'i m just a little bored', 'i m just a little dizzy', 'i m just a little dizzy', 'i m just a poor student', 'i m just an average guy', 'i m just looking around', 'i m just trying to help', 'i m looking for a house', 'i m looking for someone', 'i m loved by my parents', 'i m lucky to have a job', 'i m lucky to have a job', 'i m nervous and excited', 'i m nervous and excited', 'i m no one s girlfriend', 'i m not a perfectionist', 'i m not advocating that', 'i m not advocating that', 'i m not afraid of death', 'i m not afraid to fight', 'i m not as smart as you', 'i m not as smart as you', 'i m not as smart as you', 'i m not as smart as you', 'i m not easily offended', 'i m not easily offended', 'i m not from this world', 'i m not good at fishing', 'i m not good with names', 'i m not happy with this', 'i m not happy with this', 'i m not home on sundays', 'i m not home on sundays', 'i m not married anymore', 'i m not married anymore', 'i m not paid to do that', 'i m not paid to do that', 'i m not paying for this', 'i m not quite ready yet', 'i m not quite ready yet', 'i m not ready to go yet', 'i m not ready to go yet', 'i m not really that old', 'i m not really that old', 'i m not saying anything', 'i m not scared of dying', 'i m not so sure anymore', 'i m not so sure anymore', 'i m not sure about that', 'i m not sure about that', 'i m not sure about this', 'i m not to be disturbed', 'i m not very good at it', 'i m not very good at it', 'i m not wasting my time', 'i m not working for tom', 'i m nothing without you', 'i m old enough to drink', 'i m open to suggestions', 'i m open to suggestions', 'i m perfectly all right', 'i m playing with my cat', 'i m playing with my cat', 'i m pleased to meet you', 'i m pretty good at math', 'i m proud of my brother', 'i m proud of my brother', 'i m ready for the fight', 'i m really disappointed', 'i m really disappointed', 'i m really proud of you', 'i m really proud of you', 'i m really proud of you', 'i m really proud of you', 'i m really stressed out', 'i m seeing them tonight', 'i m sick of her excuses', 'i m sorry i m so stupid', 'i m sorry to see tom go', 'i m still not buying it', 'i m still not impressed', 'i m still not impressed', 'i m still not ready yet', 'i m still not ready yet', 'i m still not satisfied', 'i m still working on it', 'i m sure tom can t swim', 'i m sure tom can t swim', 'i m sure about his name', 'i m taking it seriously', 'i m the one who met him', 'i m the one who met him', 'i m tired of everything', 'i m tired of everything', 'i m tired of pretending', 'i m too sleepy to drive', 'i m too sleepy to drive', 'i m very busy this week', 'i m waiting for a train', 'i m waiting for the bus', 'i m willing to help him', 'she is a charming woman', 'she is a cheerful giver', 'she is a friend of mine', 'she is a selfish person', 'she is a stranger to me', 'she is a very kind girl', 'she is a wonderful wife', 'she is as busy as a bee', 'she is as busy as a bee', 'she is as young as i am', 'she is blackmailing him', 'she is dressed in white', 'she is eighteen at most', 'she is getting prettier', 'she is good at swimming', 'she is his present wife', 'she is in a green dress', 'she is in an awful mood', 'she is in her hotel now', 'she is in love with him', 'she is knitting a scarf', 'she is listening to him', 'she is not always happy', 'she is proud of her son', 'she is shy of strangers', 'she is very hardworking', 'she is very intelligent', 'she is wearing a brooch', 'she s a fine young lady', 'she s a soccer champion', 'she s heating the water', 'she s lost her car keys', 'she s lost her car keys', 'she s much better today', 'she s no spring chicken', 'she s the teacher s pet', 'she s the teacher s pet', 'she s unfit for the job', 'they are about to start', 'they are about to start', 'they are all very happy', 'they are all very happy', 'they are both unmarried', 'they are gathering nuts', 'they are going shopping', 'they are making a salad', 'they are sensible girls', 'they are still children', 'they are still children', 'they re all on vacation', 'they re all on vacation', 'they re all watching tv', 'they re all watching tv', 'they re all watching us', 'they re all watching us', 'they re headed this way', 'they re headed this way', 'they re headed this way', 'they re headed this way', 'they re looking for tom', 'they re looking for tom', 'they re looking for you', 'they re looking for you', 'they re looking for you', 'they re looking for you', 'they re looking for you', 'they re looking for you', 'they re looking for you', 'they re looking for you', 'they re not coming back', 'they re not coming back', 'they re right behind me', 'they re right behind me', 'they re right behind me', 'they re right behind me', 'they re self sufficient', 'they re self sufficient', 'they re speaking french', 'they re speaking french', 'they re waiting for you', 'they re waiting for you', 'they re waiting for you', 'they re waiting for you', 'we are a family of five', 'we are a family of four', 'we are free from danger', 'we are glad to help you', 'we are having breakfast', 'we are having breakfast', 'we are studying spanish', 'we re being blackmailed', 'we re closed on mondays', 'we re here to help them', 'we re kind of busy here', 'we re kind of busy here', 'we re not convinced yet', 'we re not convinced yet', 'we re not desperate yet', 'we re not desperate yet', 'we re not entirely sure', 'we re not entirely sure', 'we re not going are we ?', 'we re not gonna make it', 'we re not gonna make it', 'we re not gonna make it', 'we re on speaking terms', 'we re out of ammunition', 'we re smarter than that', 'you are a good customer', 'you are blinded by love', 'you are blinded by love', 'you are blinded by love', 'you are blinded by love', 'you are blinded by love', 'you are blinded by love', 'you are free to go home', 'you are in a safe place', 'you are only young once', 'you are really annoying', 'you are to come with me', 'you are to come with me', 'you are very courageous', 'you are very dear to me', 'you re a teacher right ?', 'you re a very lucky man', 'you re a very lucky man', 'you re absolutely right', 'you re absolutely right', 'you re absolutely right', 'you re all hypocritical', 'you re aren t one of us', 'you re aren t one of us', 'you re blocking my view', 'you re blocking my view', 'you re completely right', 'you re driving too fast', 'you re driving too fast', 'you re finished already', 'you re finished already', 'you re hiding something', 'you re hiding something', 'you re imagining things', 'you re imagining things', 'you re my kid s teacher', 'you re my kid s teacher', 'you re my kid s teacher', 'you re my kid s teacher', 'you re not easy to find', 'you re not easy to find', 'you re not easy to find', 'you re not good at this', 'you re not good at this', 'you re not good at this', 'you re not good at this', 'you re not good at this', 'you re not good at this', 'you re not good at this', 'you re not good at this', 'you re not helping much', 'you re not helping much', 'you re not helping tom', 'you re not helping tom', 'you re not missing much', 'you re not missing much', 'you re not the only one', 'you re not welcome here', 'you re not welcome here', 'you re not welcome here', 'you re not welcome here', 'you re not welcome here', 'you re not welcome here', 'you re probably thirsty', 'you re probably thirsty', 'you re quite attractive', 'you re quite attractive', 'you re quite attractive', 'you re quite attractive', 'you re right about that', 'you re right about that', 'you re right of course', 'you re right of course', 'you re scaring the kids', 'you re scaring the kids', 'you re so cute together', 'you re taller than i am', 'you re taller than i am', 'you re taller than i am', 'you re taller than i am', 'you re taller than i am', 'you re taller than i am', 'you re three hours late', 'you re totally ignorant', 'you re totally ignorant', 'you re totally ignorant', 'you re totally ignorant', 'you re totally ignorant', 'you re totally ignorant', 'you re trespassing here', 'you re trespassing here', 'you re very intelligent', 'you re very intelligent', 'you re very intelligent', 'you re very intelligent', 'you re very intelligent', 'you re very intelligent', 'you re very resourceful', 'you re very resourceful', 'you re very resourceful', 'you re very resourceful', 'you re very resourceful', 'you re very resourceful', 'you re wasting our time', 'he is a man of character', 'he is a man of few words', 'he is a pretty great guy', 'he is a typical japanese', 'he is absent from school', 'he is afraid of swimming', 'he is after a better job', 'he is always complaining', 'he is an intelligent boy', 'he is armed to the teeth', 'he is being very careful', 'he is busy with his work', 'he is by no means bright', 'he is crazy about skiing', 'he is employed in a bank', 'he is fresh from college', 'he is fresh from college', 'he is fresh from college', 'he is good at gymnastics', 'he is impossible to beat', 'he is known to everybody', 'he is liked by everybody', 'he is liked by everybody', 'he is not at all foolish', 'he is opening the window', 'he is painting a picture', 'he is seeking employment', 'he is selfish and greedy', 'he is stronger than ever', 'he is such a lazy fellow', 'he is very fond of music', 'he isn t afraid of death', 'he s a bit of a drunkard', 'he s a cold hearted jerk', 'he s a powerful sorcerer', 'he s a strange character', 'he s a very talented man', 'he s always dissatisfied', 'he s an excellent kisser', 'he s ashamed of his body', 'he s at church right now', 'he s been dead ten years', 'he s cruel and heartless', 'he s feeling much better', 'he s greedy and ruthless', 'he s here to protect you', 'he s here to protect you', 'he s in a state of shock', 'he s in his late fifties', 'he s incredibly talented', 'he s incredibly talented', 'he s likely to be chosen', 'he s mad at his daughter', 'he s never hit me before', 'he s not sure he s ready', 'he s not very good at it', 'he s not very good at it', 'he s now aboard the ship', 'he s older but no wiser', 'he s playing with my cat', 'he s playing with my cat', 'he s reading a novel now', 'he s really good looking', 'he s smart and ambitious', 'he s the love of my life', 'he s very likely to come', 'i am able to drive a car', 'i am about to leave here', 'i am afraid he will fail', 'i am at a loss for words', 'i am content with my job', 'i am free this afternoon', 'i am going to that place', 'i am interested in music', 'i am just warming up now', 'i am loved by my parents', 'i am not romantic at all', 'i am only warming up now', 'i am playing video games', 'i am quite all right now', 'i am ready to follow you', 'i am ready to follow you', 'i am ready to follow you', 'i am ready to follow you', 'i am sure of her success', 'i am sure of her success', 'i am sure of her success', 'i am sure of his honesty', 'i am sure of his success', 'i am sure of his success', 'i am sure of his success', 'i am tired of hearing it', 'i am very poor at sports', 'i am willing to help you', 'i am willing to help you', 'i m a little bit jealous', 'i m a little bit jealous', 'i m a long way from home', 'i m a member of the team', 'i m a university student', 'i m afraid she will fail', 'i m also learning french', 'i m also learning french', 'i m as tall as my father', 'i m completely exhausted', 'i m completely exhausted', 'i m crazy about football', 'i m definitely impressed', 'i m definitely impressed', 'i m definitely impressed', 'i m delighted to be here', 'i m delighted to be here', 'i m delighted to be here', 'i m delighted to be here', 'i m delighted to see you', 'i m doing the best i can', 'i m fed up with homework', 'i m feeding the goldfish', 'i m getting sleepy again', 'i m glad no one got hurt', 'i m glad no one got hurt', 'i m glad to see you back', 'i m glad to see you back', 'i m glad to see you here', 'i m glad to see you here', 'i m glad to see you here', 'i m glad to see you here', 'i m glad to see you here', 'i m glad to see you here', 'i m glad you re ok again', 'i m glad you re ok again', 'i m glad you re ok again', 'i m glad you re ok again', 'i m going to be a father', 'i m going to be a lawyer', 'i m going to get married', 'i m going to get married', 'i m going to get married', 'i m going to hang up now', 'i m going to hit the hay', 'i m going to regret this', 'i m going to shut up now', 'i m going to sleep on it', 'i m going to take a bath', 'i m going to take my car', 'i m going to take my car', 'i m going to the station', 'i m in a better mood now', 'i m in a good mood today', 'i m in no hurry to leave', 'i m just an average girl', 'i m just getting started', 'i m just not very hungry', 'i m kind of busy tonight', 'i m kind of busy tonight', 'i m leaving you tomorrow', 'i m looking after myself', 'i m looking for a wallet', 'i m making a documentary', 'i m not a baby you know !', 'i m not a morning person', 'i m not a native speaker', 'i m not a patient person', 'i m not a violent person', 'i m not a violent person', 'i m not about to ask him', 'i m not afraid of anyone', 'i m not afraid of ghosts', 'i m not afraid of snakes', 'i m not allowed to leave', 'i m not asking for money', 'i m not at all surprised', 'i m not at all surprised', 'i m not breaking the law', 'i m not cleaning that up', 'i m not coming back here', 'i m not coming back home', 'i m not completely naive', 'i m not completely naive', 'i m not convinced at all', 'i m not convinced at all', 'i m not doing it anymore', 'i m not doing it anymore', 'i m not doing that today', 'i m not drinking tonight', 'i m not driving anywhere', 'i m not easily impressed', 'i m not easily impressed', 'i m not eating this fish', 'i m not expecting anyone', 'i m not feeling too well', 'i m not from around here', 'i m not gambling anymore', 'i m not gambling anymore', 'i m not getting involved', 'i m not getting involved', 'i m not going to compete', 'i m not going to sell it', 'i m not going to sell it', 'i m not here on business', 'i m not hungry right now', 'i m not inspired anymore', 'i m not leaving with you', 'i m not like most people', 'i m not making any plans', 'i m not overly concerned', 'i m not really an expert', 'i m not selling anything', 'i m not signing anything', 'i m not sure i like this', 'i m not sure i like this', 'i m not sure of anything', 'i m not sure of anything', 'i m not that type of guy', 'i m not the jealous type', 'i m not thinking clearly', 'i m not very eager to go', 'i m one of your students', 'i m one of your students', 'i m one of your students', 'i m pretty proud of that', 'i m proud of my children', 'i m proud of my children', 'i m ready to make amends', 'i m ready to make amends', 'i m really proud of this', 'i m really proud of this', 'i m running out of ideas', 'i m serious about my job', 'i m sorry for being late', 'i m sorry for being late', 'i m sorry for everything', 'i m sorry for what i did', 'i m sorry for what i did', 'i m sorry for what i did', 'i m sorry to trouble you', 'i m sort of an extrovert', 'i m sort of an introvert', 'i m starting to like you', 'i m starting to like you', 'i m still kind of hungry', 'i m sure i can do better', 'i m sure that he s happy', 'i m surprised to see you', 'i m surprised to see you', 'i m surprised to see you', 'i m surprised to see you', 'i m surprised to see you', 'i m surprised to see you', 'i m surprised to see you', 'i m surprised to see you', 'i m talking on the phone', 'i m the boss around here', 'i m the boss around here', 'i m thinking of the plan', 'i m tired of watching tv', 'i m too busy to help her', 'i m too busy to help him', 'i m too drunk to do that', 'i m trying something new', 'i m trying something new', 'i m trying to save money', 'i m very glad to see you', 'i m very proud of my son', 'i m willing to apologize', 'i m willing to apologize', 'i m willing to apologize', 'i m willing to apologize', 'i m worth more than this', 'she is a child after all', 'she is a reliable person', 'she is a reliable person', 'she is a reliable person', 'she is a wonderful woman', 'she is all skin and bone', 'she is an appalling cook', 'she is an obstinate girl', 'she is at work right now', 'she is brushing her hair', 'she is deaf to my advice', 'she is everything to him', 'she is expecting a child', 'she is hard up for money', 'she is just a wallflower', 'she is known to everyone', 'she is missing the point', 'she is no stranger to me', 'she is not afraid to die', 'she is not herself today', 'she is not quite content', 'she is not very well off', 'she is one of my friends', 'she is used to traveling', 'she s a determined woman', 'she s a really nice girl', 'she s a very wise mother', 'she s afraid of the dark', 'she s at work isn t she ?', 'she s busy with her work', 'she s busy with her work', 'she s drop dead gorgeous', 'she s drop dead gorgeous', 'she s fixing the machine', 'she s not as old as mary', 'she s such a lovely girl !', 'she s teaching us french', 'she s teaching us french', 'she s wearing a cool hat', 'she s wearing a nice hat', 'she s wearing eye shadow', 'she s wearing high heels', 'they are afraid of death', 'they are all alike to me', 'they are all alike to me', 'they are as strong as us', 'they are as strong as us', 'they are investing a lot', 'they are very big apples', 'they are very compatible', 'they are very compatible', 'they re going to the war', 'they re going to the war', 'they re not always right', 'they re not always right', 'they re not following me', 'they re not my prisoners', 'they re playing our song', 'they re playing our song', 'they re right behind you', 'they re right behind you', 'they re right behind you', 'they re right behind you', 'they re right behind you', 'they re right behind you', 'they re right behind you', 'they re right behind you', 'they re right of course', 'they re right of course', 'they re terrified of you', 'they re terrified of you', 'they re very fond of him', 'they re very fond of him', 'we are all happy to help', 'we are all happy to help', 'we are going to the shop', 'we are going to the shop', 'we are moving next month', 'we are not all that safe', 'we are sold out of jeans', 'we are under his command', 'we are worried about you', 'we are worried about you', 'we re a little busy here', 'we re about the same age', 'we re all agreed on that', 'we re all agreed on that', 'we re almost out of time', 'we re deluding ourselves', 'we re deluding ourselves', 'we re enjoying ourselves', 'we re in kind of a hurry', 'we re just going to talk', 'we re just going to talk', 'we re just like brothers', 'we re managing all right', 'we re nearly out of time', 'we re not doing anything', 'we re not going anywhere', 'we re not going to do it', 'we re not ready for this', 'we re not ready for this', 'we re running out of gas', 'you are absolutely right', 'you are absolutely right', 'you are completely wrong', 'you are entirely correct', 'you are everything to me', 'you are imagining things', 'you are incredibly naive', 'you are my pride and joy', 'you are not at all wrong', 'you are not at all wrong', 'you are really very good', 'you are very insensitive', 'you are very insensitive', 'you are very insensitive', 'you are very insensitive', 'you are very insensitive', 'you are very insensitive', 'you re a good journalist', 'you re a good journalist', 'you re a grown woman now', 'you re a terrible dancer', 'you re a terrible dancer', 'you re a terrible person', 'you re a terrible person', 'you re a terrible person', 'you re a terrible person', 'you re a wonderful woman', 'you re a wonderful woman', 'you re alone aren t you ?', 'you re alone aren t you ?', 'you re alone aren t you ?', 'you re alone aren t you ?', 'you re alone aren t you ?', 'you re alone aren t you ?', 'you re always nagging me', 'you re always nagging me', 'you re blocking my light', 'you re blocking my light', 'you re disobeying orders', 'you re disobeying orders', 'you re doing all you can', 'you re doing all you can', 'you re free to leave now', 'you re full of surprises', 'you re full of surprises', 'you re in over your head', 'you re in serious danger', 'you re in serious danger', 'you re joking of course', 'you re joking of course', 'you re looking very well', 'you re looking very well', 'you re lying aren t you ?', 'you re lying aren t you ?', 'you re missing the point', 'you re missing the point', 'you re missing the point', 'you re missing the point', 'you re no friend of mine', 'you re no friend of mine', 'you re not a millionaire', 'you re not a millionaire', 'you re not alone anymore', 'you re not alone anymore', 'you re not alone anymore', 'you re not alone anymore', 'you re not alone anymore', 'you re not alone anymore', 'you re not impressing me', 'you re not my girlfriend', 'you re not that old tom', 'you re not that old tom', 'you re not young anymore', 'you re on the wrong ship', 'you re on the wrong ship', 'you re picky aren t you ?', 'you re picky aren t you ?', 'you re really incredible', 'you re really incredible', 'you re spoiling the mood', 'you re spoiling the mood', 'you re spoiling the mood', 'you re such a tattletale', 'you re such a tattletale', 'you re the best dad ever', 'you re the reason i came', 'you re the reason i came', 'you re the reason i came', 'you re the reason i came', 'you re twisting my words', 'you re twisting my words', 'you re wasting your time', 'he is a danger to society', 'he is a little over forty', 'he is a methodical person', 'he is a novelist and poet', 'he is addicted to cocaine', 'he is always day dreaming', 'he is always day dreaming', 'he is an environmentalist', 'he is anything but honest', 'he is capable of doing it', 'he is either drunk or mad', 'he is engaged in teaching', 'he is handsome and clever', 'he is inclined to be lazy', 'he is inclined to get mad', 'he is interested in music', 'he is like a father to me', 'he is more clever than me', 'he is more clever than me', 'he is no good as a lawyer', 'he is no ordinary student', 'he is nothing but a child', 'he is old enough to drink', 'he is old enough to drink', 'he is one of my neighbors', 'he is one of my neighbors', 'he is playing in his room', 'he is playing in his room', 'he is proficient in farsi', 'he is soon to be a father', 'he is still having doubts', 'he is tired from overwork', 'he is unable to buy a car', 'he is very afraid of dogs', 'he is very friendly to us', 'he is walking very slowly', 'he s a university student', 'he s a very fine musician', 'he s a very fine musician', 'he s agreed to do the job', 'he s almost as tall as me', 'he s always chasing girls', 'he s as strong as a horse', 'he s come to make trouble', 'he s fresh out of college', 'he s fresh out of college', 'he s fresh out of college', 'he s going to regret this', 'he s good at what he does', 'he s hiding in the closet', 'he s hiding in the closet', 'he s like a brother to me', 'he s not breaking the law', 'he s not stronger than me', 'he s really in good shape', 'he s running for congress', 'he s scared to talk to me', 'he s sleeping like a baby', 'he s very fond of reading', 'he s very fond of walking', 'he s young and attractive', 'i am a university student', 'i am a university student', 'i am acting for my father', 'i am afraid it s too late', 'i am bored out of my mind', 'i am delighted to be here', 'i am delighted to be here', 'i am delighted to be here', 'i am feeling sad about it', 'i am forever in your debt', 'i am forever in your debt', 'i am going to be fourteen', 'i am going to get dressed', 'i am hanging up my shirts', 'i am hers and she is mine', 'i am hers and she is mine', 'i am hers and she is mine', 'i am living with my uncle', 'i am not a morning person', 'i am not getting involved', 'i am not getting involved', 'i am not on call tomorrow', 'i am now in an old castle', 'i am on holiday this week', 'i am on holiday this week', 'i am ready to go with you', 'i am sorry for what i did', 'i am sorry to trouble you', 'i am through with my work', 'i am through with my work', 'i am used to living alone', 'i am used to living alone', 'i am used to living alone', 'i am using a new computer', 'i am very busy these days', 'i am very glad to see you', 'i am very glad to see you', 'i am watering the flowers', 'i m a fan of german opera', 'i m a fan of german opera', 'i m a high school student', 'i m a little disappointed', 'i m a little disappointed', 'i m a little disappointed', 'i m a little disappointed', 'i m a pretty good student', 'i m a pretty good student', 'i m a pretty good swimmer', 'i m a pretty good swimmer', 'i m a pretty happy person', 'i m adding the last touch', 'i m afraid i don t follow', 'i m afraid he cannot come', 'i m afraid of earthquakes', 'i m almost as tall as tom', 'i m always under pressure', 'i m as curious as you are', 'i m as curious as you are', 'i m as curious as you are', 'i m as curious as you are', 'i m as shocked as you are', 'i m as shocked as you are', 'i m as shocked as you are', 'i m as shocked as you are', 'i m ashamed of what i did', 'i m asking what you think', 'i m asking what you think', 'i m at the end of my rope', 'i m attaching three files', 'i m beginning to hate her', 'i m being honest with you', 'i m being honest with you', 'i m being paid to do this', 'i m being paid to do this', 'i m being paid to do this', 'i m bringing home a pizza', 'i m bringing home a pizza', 'i m busy with my homework', 'i m coming to pick you up', 'i m considering resigning', 'i m considering resigning', 'i m counting on your help', 'i m counting on your help', 'i m cutting my trip short', 'i m delighted to meet you', 'i m delighted to meet you', 'i m delighted to meet you', 'i m delighted to meet you', 'i m delighted to meet you', 'i m delighted to meet you', 'i m delighted to meet you', 'i m delighted to meet you', 'i m doing the right thing', 'i m doing the right thing', 'i m done listening to you', 'i m done listening to you', 'i m done with all of that', 'i m fairly busy actually', 'i m feeling kind of tired', 'i m feeling sort of tired', 'i m feeling sort of tired', 'i m finishing my homework', 'i m gathering information', 'i m getting a bad feeling', 'i m getting tired of this', 'i m getting tired of this', 'i m glad i could help out', 'i m glad i could help you', 'i m glad i make you happy', 'i m glad i make you happy', 'i m glad that tom is here', 'i m glad that you ll come', 'i m glad that you re here', 'i m glad that you re here', 'i m glad to see you again', 'i m glad to see you again', 'i m glad to see you again', 'i m glad to see you re ok', 'i m glad to see you re ok', 'i m glad you realize that', 'i m glad you realize that', 'i m glad you weren t here', 'i m glad you weren t here', 'i m glad you re all right', 'i m glad you re all right', 'i m glad you re my friend', 'i m glad you re my friend', 'i m glad you re my friend', 'i m glad you re my friend', 'i m going back to college', 'i m going back to college', 'i m going out for a drink', 'i m going out for a while', 'i m going to be a teacher', 'i m going to be a teacher', 'i m going to be all right', 'i m going to be gone soon', 'i m going to be gone soon', 'i m going to be out today', 'i m going to be over here', 'i m going to build a fire', 'i m going to build a fire', 'i m going to cook for you', 'i m going to cook for you', 'i m going to drive myself', 'i m going to the hospital', 'i m growing a beard again', 'i m happy to see you here', 'i m happy to see you here', 'i m headed back into town', 'i m here to do what i can', 'i m in charge of security', 'i m in charge of shopping', 'i m just following orders', 'i m just trying to get by', 'i m keeping my mouth shut', 'i m learning how to drive', 'i m looking for a sweater', 'i m looking for a sweater', 'i m looking for batteries', 'i m looking for my camera', 'i m looking forward to it', 'i m majoring in sociology', 'i m much younger than you', 'i m much younger than you', 'i m much younger than you', 'i m not buying your story', 'i m not buying your story', 'i m not convinced of that', 'i m not convinced of that', 'i m not done with you yet', 'i m not done with you yet', 'i m not exactly surprised', 'i m not exactly surprised', 'i m not finished with him', 'i m not finished with you', 'i m not finished with you', 'i m not going to call tom', 'i m not going to eat this', 'i m not going to help you', 'i m not going to help you', 'i m not going to hurt you', 'i m not going to hurt you', 'i m not going to pass out', 'i m not going to touch it', 'i m not happy with my job', 'i m not in good shape now', 'i m not learning anything', 'i m not like other people', 'i m not like that anymore', 'i m not on anybody s side', 'i m not planning anything', 'i m not pressed for money', 'i m not scared of anybody', 'i m not so good at tennis', 'i m not supposed to drink', 'i m not supposed to drink', 'i m not sure i understand', 'i m not sure i understand', 'i m not telling you again', 'i m not telling you again', 'i m not that kind of girl', 'i m not that kind of girl', 'i m not thinking about it', 'i m not thirsty right now', 'i m not used to this heat', 'i m not used to this heat', 'i m not usually this busy', 'i m not what i used to be', 'i m not worried about tom', 'i m not worried about tom', 'i m not worried about him', 'i m not writing about you', 'i m not writing about you', 'i m often only half awake', 'i m often only half awake', 'i m reading the newspaper', 'i m really busy right now', 'i m really busy right now', 'i m relieved to hear that', 'i m relieving you of duty', 'i m running out of energy', 'i m so confused right now', 'i m so happy for you tom', 'i m so happy for you tom', 'i m so happy for you tom', 'i m sorry i yelled at you', 'i m sorry i yelled at you', 'i m sorry i yelled at you', 'i m sorry i yelled at you', 'i m sorry i yelled at you', 'i m sorry i yelled at you', 'i m sorry i yelled at you', 'i m sorry i yelled at you', 'i m sorry about yesterday', 'i m sorry about yesterday', 'i m sorry about your loss', 'i m sorry about your loss', 'i m sorry if i scared you', 'i m sorry if i scared you', 'i m sorry i don t buy it', 'i m sorry i don t buy it', 'i m still shopping around', 'i m still studying french', 'i m studying kabuki drama', 'i m sure mom will get mad', 'i m sure tom is suffering', 'i m sure tom is suffering', 'i m sure tom was involved', 'i m sure tom was involved', 'i m sure tom was involved', 'i m sure tom was involved', 'i m sure he would approve', 'i m sure you re very busy', 'i m terrible at languages', 'i m too poor to marry her', 'i m too tired to do study', 'i m trying to talk to you', 'i m trying to talk to you', 'i m trying to talk to you', 'i m trying to talk to you', 'i m usually not this busy', 'i m very glad to meet you', 'i m very happy to be here', 'i m very happy to see you', 'i m very sad to hear that', 'i m very sad to hear that', 'i m waiting for my friend', 'i m waiting for my mother', 'i m waiting for your help', 'i m watching the olympics', 'she is a really good girl', 'she is a very nice person', 'she is a very poor driver', 'she is after a better job', 'she is amusing to be with', 'she is behind in her rent', 'she is guilty of stealing', 'she is her old self again', 'she is in bed with a cold', 'she is kind to old people', 'she is knitting a sweater', 'she is knitting a sweater', 'she is learning the piano', 'she is no ordinary singer', 'she is no ordinary singer', 'she is really a nice girl', 'she is teaching us french', 'she is teaching us french', 'she is very angry with me', 'she isn t afraid of death', 'she isn t fit for the job', 'she s in the hospital now', 'she s in the hospital now', 'she s pregnant with twins', 'she s smart and beautiful', 'she s very afraid of dogs', 'she s very afraid of dogs', 'they are crazy about jazz', 'they are crazy about jazz', 'they are reading her book', 'they are watching a movie', 'they re anxious for peace', 'they re anxious for peace', 'they re going to hang tom', 'they re lucky to be alive', 'they re lucky to be alive', 'they re lucky to be alive', 'they re lucky to be alive', 'they re not all criminals', 'they re of no consequence', 'they re young and healthy', 'they re young and healthy', 'we are brother and sister', 'we aren t afraid of death', 'we aren t very hungry yet', 'we re almost out of sugar', 'we re as good as dead now', 'we re as good as dead now', 'we re as hungry as wolves', 'we re getting out of here', 'we re getting out of here', 'we re going the wrong way', 'we re going to the movies', 'we re having some problem', 'we re here to protect you', 'we re here to protect you', 'we re late because of you', 'we re late because of you', 'we re not friends anymore', 'we re not friends anymore', 'we re not getting married', 'we re not living together', 'we re not really brothers', 'we re not to be disturbed', 'we re up against the wall', 'you are both in the wrong', 'you are easily distracted', 'you are in over your head', 'you are late this morning', 'you are selling him short', 'you are such a sweetheart', 'you are such a sweetheart', 'you are tired aren t you ?', 'you are tired aren t you ?', 'you are tired aren t you ?', 'you aren t a spy are you ?', 'you aren t a spy are you ?', 'you aren t as short as me', 'you aren t as short as me', 'you re german aren t you ?', 'you re german aren t you ?', 'you re a wonderful friend', 'you re a wonderful friend', 'you re a wonderful friend', 'you re a wonderful friend', 'you re afraid aren t you ?', 'you re afraid aren t you ?', 'you re always complaining', 'you re always complaining', 'you re always saying that', 'you re always saying that', 'you re always saying that', 'you re always saying that', 'you re going to win today', 'you re going to win today', 'you re in the right place', 'you re not a teenager yet', 'you re not a teenager yet', 'you re not a teenager yet', 'you re not a teenager yet', 'you re not as smart as me', 'you re not as smart as me', 'you re not as smart as me', 'you re not as smart as me', 'you re not as smart as me', 'you re not as smart as me', 'you re not as smart as me', 'you re not as smart as me', 'you re not being rational', 'you re not being rational', 'you re not being rational', 'you re not being rational', 'you re not being rational', 'you re not being rational', 'you re not bored are you ?', 'you re not entirely wrong', 'you re not going are you ?', 'you re not going are you ?', 'you re not tired are you ?', 'you re not tired are you ?', 'you re not tired are you ?', 'you re not tired are you ?', 'you re not tired are you ?', 'you re not tired are you ?', 'you re not upset are you ?', 'you re not upset are you ?', 'you re not upset are you ?', 'you re not upset are you ?', 'you re not upset are you ?', 'you re not upset are you ?', 'you re not yourself today', 'you re not yourself today', 'you re on the right track', 'you re on the right track', 'you re telling lies again', 'you re too drunk to drive', 'you re too stupid to live', 'you re too stupid to live', 'you re too young to marry', 'you re very sophisticated', 'you re very sophisticated', 'you re very sophisticated', 'you re very sophisticated', 'you re very sophisticated', 'you re very sophisticated', 'you re very sophisticated', 'you re very sophisticated', 'you re very sophisticated', 'you re very sophisticated', 'you re very sophisticated', 'you re very sophisticated', 'you re very sophisticated', 'you re very sophisticated', 'you re very sophisticated', 'you re very sophisticated', 'you re very sophisticated', 'you re very sophisticated', 'you re very sophisticated', 'you re very sophisticated', 'you re very sophisticated', 'you re very sophisticated', 'you re very sophisticated', 'you re very sophisticated', 'you re very understanding', 'you re very understanding', 'you re very understanding', 'you re very understanding', 'you re very understanding', 'you re very understanding', 'you re very understanding', 'you re very understanding', 'you re very understanding', 'you re very understanding', 'you re very understanding', 'you re very understanding', 'you re wearing my pajamas', 'you re wrong in this case', 'you re wrong in this case', 'he is a compulsive gambler', 'he is a good husband to me', 'he is a good tennis player', 'he is a good tennis player', 'he is a man of noble birth', 'he is a really good worker', 'he is a student at harvard', 'he is a teacher of english', 'he is a teacher of english', 'he is absorbed in his work', 'he is afraid of his father', 'he is almost six feet tall', 'he is always full of ideas', 'he is always full of ideas', 'he is an aggressive person', 'he is busy doing something', 'he is capable of treachery', 'he is careless about money', 'he is careless about money', 'he is crazy about baseball', 'he is eager to go to china', 'he is engaged to my sister', 'he is going to the concert', 'he is going to the concert', 'he is hunted by the police', 'he is impatient to see you', 'he is in front of the door', 'he is mentally handicapped', 'he is not altogether wrong', 'he is not guilty of murder', 'he is not strong as before', 'he is not too old to do it', 'he is now staying in paris', 'he is one of my neighbours', 'he is popular with his men', 'he is sitting cross legged', 'he is sitting on the chair', 'he is standing on the hill', 'he is still full of energy', 'he is studying agriculture', 'he is studying at his desk', 'he is suspected of robbery', 'he is swimming in the pool', 'he is there for a few days', 'he is very a dangerous man', 'he is worthy of our praise', 'he isn t able to buy a car', 'he isn t who he says he is', 'he s a construction worker', 'he s a construction worker', 'he s a high school student', 'he s a law abiding citizen', 'he s a man of many talents', 'he s a man you can rely on', 'he s a man you can rely on', 'he s a smart little feller', 'he s a teacher and so am i', 'he s addicted to junk food', 'he s always looking at you', 'he s always reading comics', 'he s definitely not coming', 'he s different from before', 'he s digging his own grave', 'he s eager to speak to you', 'he s handsome and charming', 'he s much younger than tom', 'he s my old drinking buddy', 'he s now a college student', 'he s now a college student', 'he s perfect at everything', 'he s skilled at videogames', 'he s skilled at videogames', 'he s somewhere in the park', 'he s the captain of a team', 'he s the one who helped me', 'he s writing a long letter', 'i am an optimist by nature', 'i am at home every evening', 'i am counting on your help', 'i am glad to hear the news', 'i am going down the stairs', 'i am in no mood for joking', 'i am interested in english', 'i am just a humble teacher', 'i am just going for a walk', 'i am never free on sundays', 'i am not happy with my job', 'i am often in difficulties', 'i am playing the piano now', 'i am starting this evening', 'i am tired of hearing that', 'i am up to my neck in work', 'i am very happy in georgia', 'i m a black belt in karate', 'i m a citizen of the world', 'i m a good for nothing bum', 'i m a stranger here myself', 'i m afraid i caught a cold', 'i m afraid of wild animals', 'i m also taking this train', 'i m asking you as a friend', 'i m asking you as a friend', 'i m asking you as a friend', 'i m asking you as a friend', 'i m breast feeding my baby', 'i m breast feeding my baby', 'i m content with my salary', 'i m declaring an emergency', 'i m definitely going crazy', 'i m definitely going crazy', 'i m departing this evening', 'i m disappointed and angry', 'i m doing everything i can', 'i m dying for a cold drink', 'i m excited about the move', 'i m feeling kind of sleepy', 'i m feeling very confident', 'i m glad that you can come', 'i m glad that you can come', 'i m glad you could be here', 'i m glad you could make it', 'i m glad you could make it', 'i m glad you could make it', 'i m glad you re still here', 'i m glad you re still here', 'i m going to buy a new car', 'i m going to go take a nap', 'i m going to go take a nap', 'i m going to go to my room', 'i m going to miss you too', 'i m going to miss you too', 'i m going to reconsider it', 'i m going to see tom today', 'i m going to take a shower', 'i m going to tell tom that', 'i m happy the game is over', 'i m happy to see you again', 'i m just stating the facts', 'i m just thinking out loud', 'i m just trying to survive', 'i m living with my mom now', 'i m looking for an old man', 'i m no longer angry at you', 'i m no longer angry at you', 'i m not as rich as you are', 'i m not being unreasonable', 'i m not doing this anymore', 'i m not going to disappear', 'i m not going to sign this', 'i m not good at pretending', 'i m not good at pretending', 'i m not interested in that', 'i m not interested in that', 'i m not invited to parties', 'i m not invited to parties', 'i m not invited to parties', 'i m not keeping this thing', 'i m not selling you my car', 'i m not selling you my car', 'i m not selling you my car', 'i m not selling you my car', 'i m not sure i believe you', 'i m not taking any chances', 'i m not talking about that', 'i m not that desperate yet', 'i m not that desperate yet', 'i m not very good at chess', 'i m not very happy either', 'i m not who you think i am', 'i m not who you think i am', 'i m not who you think i am', 'i m not who you think i am', 'i m not worried about them', 'i m off to turkey tomorrow', 'i m only telling the truth', 'i m painting an easter egg', 'i m really angry right now', 'i m reluctant to visit him', 'i m satisfied with my work', 'i m saving money for a car', 'i m so sorry for your loss', 'i m sorry i lost my temper', 'i m sorry about last night', 'i m sorry about last night', 'i m sorry about last night', 'i m sorry about last night', 'i m sorry about last night', 'i m sorry about last night', 'i m sorry about last night', 'i m sorry about last night', 'i m sorry about last night', 'i m sorry about last night', 'i m sorry about my mistake', 'i m sorry my father is out', 'i m sorry to interrupt you', 'i m stuck in a traffic jam', 'i m stuck in a traffic jam', 'i m sure i will find a way', 'i m sure he ll leave early', 'i m sure he ll leave early', 'i m taking my book with me', 'i m the one who built this', 'i m the one who built this', 'i m the one who killed tom', 'i m tired of being careful', 'i m tired of playing games', 'i m tougher than you think', 'i m very sleepy today too', 'i m very worried about you', 'i m very worried about you', 'i m working for mcdonald s', 'she is a very good teacher', 'she is always hard at work', 'she is anxious to meet you', 'she is anxious to meet you', 'she is ashamed to speak up', 'she is busy cooking dinner', 'she is capable of anything', 'she is currently in danger', 'she is forbidden to go out', 'she is her own worst enemy', 'she is interested in music', 'she is just going shopping', 'she is just going shopping', 'she is much taller than me', 'she is no ordinary student', 'she is nothing but a child', 'she is older and wiser now', 'she is quick at everything', 'she is quick at everything', 'she is quite a clever girl', 'she is terrible at cooking', 'she is the editor in chief', 'she isn t afraid of snakes', 'she s getting on all right', 'she s going to have a baby', 'she s got such lovely eyes', 'she s loved by her friends', 'she s loved by her friends', 'she s never fallen in love', 'she s sitting on the bench', 'she s starting to annoy me', 'she s wearing a loose coat', 'they are in the same class', 'they are in the same class', 'they are well looked after', 'they re cleaning the beach', 'they re cleaning the beach', 'they re in the science lab', 'they re in the science lab', 'they re out of their minds', 'they re out of their minds', 'they re probably americans', 'they re probably americans', 'they re very close friends', 'they re very close friends', 'we are about to leave here', 'we are going to the market', 'we are next door neighbors', 'we are not to be disturbed', 'we are sure of his success', 'we are sure of his success', 'we re all in the same boat', 'we re all in this together', 'we re all in this together', 'we re all on the same team', 'we re all on the same team', 'we re all on the same team', 'we re all on the same team', 'we re all working together', 'we re almost like brothers', 'we re buying movie tickets', 'we re going back to boston', 'we re going to do it again', 'we re going to play tennis', 'we re going to play tennis', 'we re heading for disaster', 'we re meant for each other', 'we re meant for each other', 'we re meant to be together', 'we re not done playing yet', 'we re not from around here', 'we re not from around here', 'we re not getting anywhere', 'we re not going to make it', 'we re not going to make it', 'we re not going to make it', 'we re not throwing it away', 'we re not together anymore', 'we re on the same page now', 'we re practically brothers', 'you are absolutely correct', 'you are always complaining', 'you are always complaining', 'you are always complaining', 'you are always watching tv', 'you are always watching tv', 'you are deceiving yourself', 'you are deceiving yourself', 'you are his brother right ?', 'you are on the wrong plane', 'you are on the wrong train', 'you are taller than she is', 'you are taller than she is', 'you are taller than she is', 'you are taller than she is', 'you are taller than she is', 'you are taller than she is', 'you are tired and so am i', 'you are unbelievably naive', 'you aren t like the others', 'you aren t like the others', 'you re germans aren t you ?', 'you re a jolly good feller', 'you re a jolly good feller', 'you re a jolly good feller', 'you re a jolly good feller', 'you re acting like a child', 'you re acting like a child', 'you re acting like a child', 'you re acting like a child', 'you re an interesting girl', 'you re an interesting girl', 'you re in pain aren t you ?', 'you re in pain aren t you ?', 'you re incredibly talented', 'you re incredibly talented', 'you re incredibly talented', 'you re incredibly talented', 'you re incredibly talented', 'you re my only real friend', 'you re my only real friend', 'you re my only real friend', 'you re my only real friend', 'you re not a child anymore', 'you re not allowed in here', 'you re not allowed in here', 'you re not allowed in here', 'you re not fooling anybody', 'you re not fooling anybody', 'you re not listening to me', 'you re not listening to me', 'you re not sleeping enough', 'you re not sleeping enough', 'you re part of the problem', 'you re part of the problem', 'you re sitting in my chair', 'you re sitting in my chair', 'you re stupid to trust him', 'you re stupid to trust him', 'you re stupid to trust him', 'you re testing my patience', 'you re testing my patience', 'you re the love of my life', 'you re unbelievably stupid', 'you re unbelievably stupid', 'you re under investigation', 'you re under investigation', 'you re wealthy aren t you ?', 'you re wealthy aren t you ?', 'you re winning aren t you ?', 'you re winning aren t you ?', 'you re worried aren t you ?', 'you re worried aren t you ?', 'you re worried aren t you ?', 'you re worried aren t you ?', 'you re worried aren t you ?', 'you re worried aren t you ?', 'you re worried aren t you ?', 'you re worried aren t you ?', 'you re worried aren t you ?', 'he is a head taller than me', 'he is a mathematical genius', 'he is a novelist and artist', 'he is a promising young man', 'he is almost always at home', 'he is always friendly to me', 'he is always neatly dressed', 'he is an authority on china', 'he is an old friend of mine', 'he is as tall as his father', 'he is busy learning english', 'he is clumsy with his hands', 'he is digging his own grave', 'he is giving me a hard time', 'he is giving me a hard time', 'he is giving me a hard time', 'he is good at taking photos', 'he is in his early thirties', 'he is innocent of the crime', 'he is more clever than i am', 'he is more crafty than wise', 'he is much taller than i am', 'he is no longer living here', 'he is no match for his wife', 'he is not likely to succeed', 'he is not much of an artist', 'he is not very good company', 'he is on night duty tonight', 'he is one of my old friends', 'he is pleased with his work', 'he is proficient in english', 'he is rarely in a good mood', 'he is rather hard to please', 'he is respected by everyone', 'he is roasting coffee beans', 'he is standing on the stage', 'he is still very much alive', 'he is suffering from a cold', 'he is sure to pass the exam', 'he is the head of marketing', 'he is the taller of the two', 'he is tremendously handsome', 'he is unfit to be a teacher', 'he s a freelance journalist', 'he s a freelance journalist', 'he s a freelance journalist', 'he s a typical japanese man', 'he s able to speak japanese', 'he s always late for school', 'he s an independent thinker', 'he s better at it than i am', 'he s brighter than they are', 'he s checking his cellphone', 'he s going to join our club', 'he s kind of cute isn t he ?', 'he s kind of cute isn t he ?', 'he s kind of cute isn t he ?', 'he s not as tall as you are', 'he s rough around the edges', 'he s screaming not singing', 'he s smoking more than ever', 'he s the cutest boy in town', 'he s the one who touched me', 'he s the one who touched me', 'he s very likely to be late', 'he s working at his english', 'i am a gentleman s daughter', 'i am dying for a cold drink', 'i am dying to see her again', 'i am dying to see her again', 'i am going to buy a new car', 'i am grateful for your help', 'i am interested in swimming', 'i am interested in swimming', 'i am leaving at ten o clock', 'i am looking for a job sir', 'i am looking for my brother', 'i am looking for my glasses', 'i am loved by all my family', 'i am not certain about that', 'i am not certain about that', 'i am not certain about that', 'i am not certain about that', 'i am on good terms with him', 'i am prepared for the worst', 'i am proud to work with you', 'i am running short of money', 'i am very sensitive to heat', 'i am working on my new book', 'i am yours and you are mine', 'i am yours and you are mine', 'i am yours and you are mine', 'i am yours and you are mine', 'i am yours and you are mine', 'i am yours and you are mine', 'i am yours and you are mine', 'i am yours and you are mine', 'i am yours and you are mine', 'i am yours and you are mine', 'i m a bit nervous right now', 'i m a little angry with you', 'i m a management consultant', 'i m afraid i can t help you', 'i m afraid i have to go now', 'i m afraid i have to go now', 'i m all for your suggestion', 'i m already full thank you', 'i m always surprised by him', 'i m an actress not a model', 'i m an actress not a model', 'i m better looking than tom', 'i m certain that he ll come', 'i m certain that he ll come', 'i m deeply offended by this', 'i m deeply offended by this', 'i m done fooling around now', 'i m fond of taking pictures', 'i m getting tired of losing', 'i m going shopping tomorrow', 'i m going shopping tomorrow', 'i m going to be your lawyer', 'i m going to be your lawyer', 'i m going to buy some bread', 'i m going to miss you a lot', 'i m going to miss you a lot', 'i m going to need your help', 'i m going to need your help', 'i m going to need your help', 'i m going to propose to her', 'i m going to shoot him dead', 'i m going to swim every day', 'i m going to swim every day', 'i m going to tell everybody', 'i m having trouble focusing', 'i m having trouble sleeping', 'i m here for another reason', 'i m here to see the manager', 'i m in the mood to talk now', 'i m in the mood to talk now', 'i m just looking thank you', 'i m looking for another job', 'i m looking for the manager', 'i m looking forward to that', 'i m looking forward to that', 'i m looking forward to that', 'i m not allowed to help you', 'i m not allowed to help you', 'i m not allowed to help you', 'i m not allowed to help you', 'i m not ashamed to tell you', 'i m not ashamed to tell you', 'i m not available right now', 'i m not going to allow that', 'i m not going to name names', 'i m not going to name names', 'i m not good at negotiating', 'i m not good at negotiating', 'i m not good enough for tom', 'i m not good enough for you', 'i m not good enough for you', 'i m not good enough for you', 'i m not good enough for you', 'i m not in a mood to go out', 'i m not in the office today', 'i m not really that thirsty', 'i m not suggesting anything', 'i m not sure i want the job', 'i m not sure i want the job', 'i m not talking to you tom', 'i m not talking to you tom', 'i m not very good at french', 'i m not worried about money', 'i m older than your brother', 'i m opening my presents now', 'i m playing with my friends', 'i m playing with my friends', 'i m playing with my friends', 'i m playing with my friends', 'i m really glad you re here', 'i m saving as much as i can', 'i m seeing her this evening', 'i m sick of your complaints', 'i m sick of your complaints', 'i m sorry i was rude to you', 'i m sorry you re leaving us', 'i m sorry i can t help you', 'i m sorry i can t help you', 'i m sorry i can t help you', 'i m sorry my father is out', 'i m sorry my father is out', 'i m sorry my father is out', 'i m sorry my father is out', 'i m sorry my father is out', 'i m sorry my father is out', 'i m starting to dislike her', 'i m still thinking about it', 'i m still thinking about it', 'i m studying french grammar', 'i m studying in the library', 'i m sure i can persuade tom', 'i m sure i can persuade tom', 'i m sure she ll leave early', 'i m sure she ll leave early', 'i m suspicious of everybody', 'i m taking a walk in a park', 'i m used to staying up late', 'i m very proud of my father', 'i m very proud of my father', 'i m very sorry to hear that', 'i m very sorry but i can t', 'i m wondering if i love tom', 'i m wondering if i love her', 'i m wondering if i love him', 'i m worried about my weight', 'she is a short story writer', 'she is always neat and tidy', 'she is an excellent student', 'she is as beautiful as ever', 'she is certainly over forty', 'she is certainly over forty', 'she is contemplating a trip', 'she is dressed like a bride', 'she is drunk with happiness', 'she is extremely attractive', 'she is gracious to everyone', 'she is in low spirits today', 'she is muttering to herself', 'she is peeling the potatoes', 'she is qualified as a nurse', 'she is really into knitting', 'she is really into knitting', 'she is sitting on the bench', 'she is the executive editor', 'she is used to living alone', 'she is very annoyed with me', 'she is very fond of flowers', 'she is watering the flowers', 'she is wearing a blue dress', 'she is wearing a nice watch', 'she is writing a letter now', 'she s digging her own grave', 'she s inquisitive by nature', 'she s much happier than him', 'she s much heavier than him', 'she s much heavier than him', 'she s not the marrying type', 'she s the girl of my dreams', 'she s the perfect housewife', 'she s very afraid of snakes', 'they are about the same age', 'they are about the same age', 'they are both good teachers', 'they are reading their book', 'they are reading their book', 'they aren t afraid of death', 'they re acting on their own', 'they re acting on their own', 'they re enjoying themselves', 'they re enjoying themselves', 'they re part time employees', 'they re part time employees', 'they re thirty dollars each', 'they re thirty dollars each', 'they re washing their hands', 'we are apt to make mistakes', 'we are apt to make mistakes', 'we are changing our clothes', 'we are going to have a baby', 'we are going to have a baby', 'we are having a mild winter', 'we re about the same height', 'we re all being manipulated', 'we re all being manipulated', 'we re all to blame for that', 'we re all to blame for that', 'we re all to blame for that', 'we re all very good players', 'we re all very good players', 'we re friends from way back', 'we re going to keep smiling', 'we re going to work tonight', 'we re married to each other', 'we re not breaking anything', 'we re not officially dating', 'we re quite certain of that', 'we re quite certain of that', 'we re still shopping around', 'we re still shopping around', 'we re wasting precious time', 'we re working at the moment', 'you are apt to be forgetful', 'you are as white as a sheet', 'you are as white as a sheet', 'you are cleared for takeoff', 'you are liable for the debt', 'you are mistaken about that', 'you are mistaken about that', 'you are not a child anymore', 'you are to do as i tell you', 'you are to do as i tell you', 'you are wanted on the phone', 'you aren t as short as i am', 'you aren t as short as i am', 'you aren t as short as i am', 'you aren t as short as i am', 'you aren t as short as i am', 'you aren t as short as i am', 'you re a mighty good feller', 'you re going to be a father', 'you re going to be a father', 'you re going to regret this', 'you re going to regret this', 'you re making a big mistake', 'you re making a big mistake', 'you re new here aren t you ?', 'you re new here aren t you ?', 'you re new here aren t you ?', 'you re new here aren t you ?', 'you re new here aren t you ?', 'you re new here aren t you ?', 'you re not making this easy', 'you re not making this easy', 'you re not married are you ?', 'you re not married are you ?', 'you re not married are you ?', 'you re not married are you ?', 'you re not married are you ?', 'you re not married are you ?', 'you re not paying attention', 'you re not that interesting', 'you re not that interesting', 'you re not that interesting', 'you re not that interesting', 'you re not that interesting', 'you re not that interesting', 'you re not thinking clearly', 'you re not thinking clearly', 'you re nothing but a coward', 'you re nothing but a coward', 'you re one savvy negotiator', 'you re part of the gang now', 'you re really a hard worker', 'you re really a hard worker', 'you re really absent minded', 'you re really absent minded', 'you re right about that one', 'you re so impatient with me', 'you re starting to scare me', 'you re starting to scare me', 'you re still taller than me', 'you re the only one i trust', 'you re the only one i trust', 'you re the only one i trust', 'you re the only one i trust', 'you re too hard on yourself', 'you re too hard on yourself', 'you re too hard on yourself', 'you re too hard on yourself', 'you re wanted by the police', 'you re wanted by the police', 'he is a doctor by profession', 'he is a lawyer by profession', 'he is a man of great ability', 'he is a teacher and novelist', 'he is able to swim very fast', 'he is accustomed to the work', 'he is always late for school', 'he is an experienced teacher', 'he is ashamed of his failure', 'he is better than me at math', 'he is bound to win the match', 'he is close to the president', 'he is constantly complaining', 'he is constantly complaining', 'he is deeply attached to her', 'he is eager to become famous', 'he is every inch a gentleman', 'he is every inch a gentleman', 'he is going to run for mayor', 'he is good at playing tennis', 'he is just right for the job', 'he is known as a rock singer', 'he is likely to win the game', 'he is likely to win the game', 'he is likely to win the game', 'he is likely to win the game', 'he is likely to win the game', 'he is likely to win the game', 'he is likely to win the game', 'he is likely to win the game', 'he is more lucky than clever', 'he is my brother not father', 'he is no longer welcome here', 'he is not at all a gentleman', 'he is not at all a gentleman', 'he is not going to get ahead', 'he is not what he used to be', 'he is not what he used to be', 'he is not what he used to be', 'he is not what he used to be', 'he is one of my best friends', 'he is our teacher of english', 'he is popular with everybody', 'he is preparing for the test', 'he is present at the meeting', 'he is respected by everybody', 'he is running short of funds', 'he is said to have died here', 'he is seeking a new position', 'he is sensitive to criticism', 'he is something of an artist', 'he is the oldest of them all', 'he is trusted by his parents', 'he is twice as old as she is', 'he is very eager to go there', 'he is very eager to go there', 'he is very sensitive to cold', 'he is very sensitive to cold', 'he is watching my every move', 'he is what we call a pioneer', 'he is what we call a pioneer', 'he is what we call a scholar', 'he is working on a new novel', 'he s a world class scientist', 'he s accustomed to traveling', 'he s aware of his own faults', 'he s cleaning out his closet', 'he s fed up with socializing', 'he s head over heels in love', 'he s not supposed to be here', 'he s out of town on business', 'he s started writing a novel', 'he s the perfect man for you', 'he s waiting for you at home', 'he s waiting for you at home', 'he s waiting for you at home', 'he s waiting for you at home', 'he s waiting for you at home', 'he s waiting for you at home', 'he s waiting for you at home', 'he s waiting for you at home', 'i am a student but he isn t', 'i am amazed at your audacity', 'i am ashamed of your conduct', 'i am ashamed of your conduct', 'i am beginning to understand', 'i am doubtful of his success', 'i am familiar with his music', 'i am familiar with your name', 'i am familiar with your name', 'i am fond of australian food', 'i am going to be an engineer', 'i am going to write a letter', 'i am more beautiful than you', 'i am more beautiful than you', 'i am more beautiful than you', 'i am more beautiful than you', 'i am not acquainted with him', 'i am not concerned with this', 'i am not concerned with this', 'i am not concerned with this', 'i am proud of being a doctor', 'i am surprised to learn this', 'i am surprised to learn this', 'i am taking french next year', 'i am the leader of this team', 'i am thinking of my vacation', 'i am trying to learn english', 'i am used to driving a truck', 'i m a bit of a reader myself', 'i m a little behind schedule', 'i m a little out of practice', 'i m absolutely certain of it', 'i m absolutely certain of it', 'i m actually enjoying myself', 'i m afraid i have work to do', 'i m afraid i m not available', 'i m afraid i ve got bad news', 'i m afraid i ve offended you', 'i m afraid i ve offended you', 'i m afraid i ve offended you', 'i m afraid i ve offended you', 'i m afraid i ve offended you', 'i m afraid i ve offended you', 'i m afraid tom will get lost', 'i m afraid of the same thing', 'i m afraid that s impossible', 'i m afraid the rumor is true', 'i m afraid the rumor is true', 'i m afraid we can t help you', 'i m afraid we can t help you', 'i m afraid we have a problem', 'i m afraid we have no choice', 'i m afraid you can t do that', 'i m afraid you can t do that', 'i m already in love with tom', 'i m asking you for your help', 'i m asking you for your help', 'i m assuming you have a plan', 'i m assuming you have a plan', 'i m at the airport right now', 'i m auditioning for the part', 'i m aware of the possibility', 'i m beginning to feel stupid', 'i m beginning to get curious', 'i m beginning to get curious', 'i m beginning to get curious', 'i m beginning to smell a rat', 'i m breaking in my new shoes', 'i m calling in sick tomorrow', 'i m confused enough as it is', 'i m confused enough as it is', 'i m doing it in spite of you', 'i m doing it in spite of you', 'i m doing this for my family', 'i m falling in love with you', 'i m falling in love with you', 'i m fed up with this weather', 'i m feeling pretty confident', 'i m following the guidelines', 'i m fully aware of that fact', 'i m getting too old for this', 'i m giving my old books away', 'i m giving my old books away', 'i m giving you what you want', 'i m giving you what you want', 'i m glad someone understands', 'i m glad that you understand', 'i m glad that you understand', 'i m glad to finally meet you', 'i m glad to finally meet you', 'i m glad to finally meet you', 'i m glad to finally meet you', 'i m glad to finally meet you', 'i m glad to finally meet you', 'i m glad to see you re happy', 'i m glad to see you re happy', 'i m glad to see you re happy', 'i m glad to see you re happy', 'i m glad to see you re happy', 'i m glad you brought that up', 'i m glad you brought that up', 'i m glad you brought that up', 'i m glad you brought that up', 'i m glad you brought that up', 'i m glad you brought that up', 'i m glad you brought that up', 'i m glad you brought that up', 'i m glad you brought this up', 'i m glad you brought this up', 'i m glad you decided to come', 'i m glad you decided to come', 'i m glad you see it that way', 'i m glad you see it that way', 'i m glad you re doing better', 'i m glad you re doing better', 'i m glad you re here with me', 'i m glad you re here with me', 'i m going back home tomorrow', 'i m going back home tomorrow', 'i m going back to the office', 'i m going on a business trip', 'i m going to be your teacher', 'i m going to be your teacher', 'i m going to be your teacher', 'i m going to be your teacher', 'i m going to buy you a watch', 'i m going to buy you a watch', 'i m going to call it a night', 'i m going to call the police', 'i m going to change my shirt', 'i m going to do some reading', 'i m going to figure this out', 'i m going to figure this out', 'i m going to figure this out', 'i m going to fix some dinner', 'i m going to fix some dinner', 'i m going to fly to the moon', 'i m going to give tom a bath', 'i m going to let tom respond', 'i m going to miss this place', 'i m going to move next month', 'i m going to save more money', 'i m going to use it tomorrow', 'i m happy with what i ve got', 'i m happy with what i ve got', 'i m having the same problems', 'i m in a desperate situation', 'i m just making a suggestion', 'i m just watching television', 'i m looking for my cellphone', 'i m looking for my cellphone', 'i m looking into getting one', 'i m never at home on sundays', 'i m not even a little hungry', 'i m not frightened of ghosts', 'i m not giving you any money', 'i m not giving you any money', 'i m not going to skate today', 'i m not particularly worried', 'i m not particularly worried', 'i m not sure if that ll help', 'i m not sure if that ll help', 'i m not sure when he ll come', 'i m not telling you anything', 'i m not that surprised by it', 'i m not your husband anymore', 'i m not your husband anymore', 'i m not your husband anymore', 'i m parked around the corner', 'i m really glad to hear that', 'i m really going to miss tom', 'i m saving this seat for tom', 'i m sick of this hot weather', 'i m sick of this hot weather', 'i m sorry i broke my promise', 'i m sorry i broke my promise', 'i m sorry if i disturbed you', 'i m sorry if i disturbed you', 'i m sorry if i disturbed you', 'i m sorry if i disturbed you', 'i m sorry if i disturbed you', 'i m sorry if i disturbed you', 'i m sorry if i disturbed you', 'i m sorry if i disturbed you', 'i m sorry if i disturbed you', 'i m sorry if i disturbed you', 'i m sorry if i disturbed you', 'i m sorry i can t stay long', 'i m sorry i didn t hear you', 'i m sorry i didn t hear you', 'i m sorry i didn t hear you', 'i m sorry i didn t hear you', 'i m sorry i didn t hear you', 'i m sorry i didn t hear you', 'i m sorry i didn t hear you', 'i m sorry i didn t hear you', 'i m sorry i didn t hear you', 'i m sorry i didn t hear you', 'i m sorry i didn t hear you', 'i m sorry i didn t hear you', 'i m sorry but he isn t home', 'i m starting to believe that', 'i m still intimidated by you', 'i m still intimidated by you', 'i m sure tom had his reasons', 'i m sure tom had his reasons', 'i m sure that you ll succeed', 'i m sure that you ll succeed', 'i m sure that you ll succeed', 'i m the same height as he is', 'i m tired of keeping secrets', 'i m tired of waiting in line', 'i m tired of waiting in line', 'i m tired of waiting in line', 'i m tired of waiting in line', 'i m tired of your complaints', 'i m too old to go to germany', 'i m used to getting up early', 'i m using a bowl and a spoon', 'i m very disappointed in you', 'i m very disappointed in you', 'i m very pleased to meet you', 'i m well acquainted with tom', 'i m working as fast as i can', 'i m worried about the future', 'i m your boyfriend aren t i ?', 'she is a most beautiful lady', 'she is a second year student', 'she is a self educated woman', 'she is absorbed in her study', 'she is almost as tall as you', 'she is almost as tall as you', 'she is always neatly dressed', 'she is always neatly dressed', 'she is busy learning english', 'she is certainly above forty', 'she is engaged to a rich man', 'she is envious of my success', 'she is friendly to everybody', 'she is friendly to everybody', 'she is frightened of thunder', 'she is good at imitating him', 'she is more wise than clever', 'she is never late for school', 'she is on the teaching staff', 'she is proud of her children', 'she is proud of her daughter', 'she is proud of her students', 'she is rather poor at tennis', 'she is really in good health', 'she is remarkably attractive', 'she is trying to lose weight', 'she is very bitter toward me', 'she is working night and day', 'she s a member of a sorority', 'she s a single mother of two', 'she s an independent thinker', 'she s married to a foreigner', 'she s not invited to parties', 'she s out shopping for shoes', 'she s out shopping for shoes', 'she s well known as a singer', 'she s well known as a singer', 'they are eating their apples', 'they are much taller than us', 'they are not my real parents', 'they are running in the park', 'they are running in the park', 'they are talking about music', 'they re against animal abuse', 'they re dragging their heels', 'they re going to have a look', 'they re going to torture tom', 'they re going to torture tom', 'we are going to have a storm', 'we are in favor of your plan', 'we are liable for the damage', 'we are not going on vacation', 'we re all together right now', 'we re all together right now', 'we re better off without you', 'we re better off without you', 'we re going to be aggressive', 'we re going to be late again', 'we re going to be late again', 'we re going to eat right now', 'we re going to eat right now', 'we re going to work together', 'we re missing something here', 'we re missing something here', 'we re not in the s anymore', 'we re the best at what we do', 'we re the best at what we do', 'we re totally cool with that', 'we re very satisfied with it', 'we re very satisfied with it', 'you are as tall as my sister', 'you are as tall as my sister', 'you are both pretty and kind', 'you are both pretty and kind', 'you are busy now aren t you ?', 'you are not a child any more', 'you are not a child any more', 'you are suitable for the job', 'you aren t busy now are you ?', 'you aren t busy now are you ?', 'you re about three days late', 'you re almost as tall as tom', 'you re almost as tall as tom', 'you re always criticizing me !', 'you re always criticizing me !', 'you re carrying this too far', 'you re carrying this too far', 'you re completely delusional', 'you re completely delusional', 'you re depressed aren t you ?', 'you re depressed aren t you ?', 'you re depressed aren t you ?', 'you re depressed aren t you ?', 'you re depressed aren t you ?', 'you re depressed aren t you ?', 'you re doing the right thing', 'you re doing the right thing', 'you re driving like a maniac !', 'you re embarrassing yourself', 'you re impressed aren t you ?', 'you re impressed aren t you ?', 'you re impressed aren t you ?', 'you re impressed aren t you ?', 'you re impressed aren t you ?', 'you re impressed aren t you ?', 'you re just being diplomatic', 'you re just like your father', 'you re just like your father', 'you re just like your mother', 'you re just like your mother', 'you re not going fast enough', 'you re not going fast enough', 'you re not my friend anymore', 'you re not my friend anymore', 'you re not my friend anymore', 'you re not my friend anymore', 'you re not telling the truth', 'you re not telling the truth', 'you re not thinking straight', 'you re not totally blameless', 'you re not usually like this', 'you re not usually like this', 'you re not wearing any pants', 'you re required to help them', 'you re the girl of my dreams', 'he is a dentist by profession', 'he is a hard man to deal with', 'he is a man you can rely upon', 'he is a pioneer in this field', 'he is a teacher at our school', 'he is able to play the guitar', 'he is accustomed to hard work', 'he is acquainted with my wife', 'he is afraid of becoming sick', 'he is afraid that he will die', 'he is afraid that he will die', 'he is an ideal husband for me', 'he is an utter stranger to me', 'he is anxious for her to come', 'he is ashamed of his behavior', 'he is better than anyone else', 'he is by far the best student', 'he is by far the best student', 'he is by far the best student', 'he is devoid of human feeling', 'he is earning twice my salary', 'he is familiar with computers', 'he is fed up with my problems', 'he is generous to his friends', 'he is generous with his money', 'he is lying through his teeth', 'he is lying through his teeth', 'he is over the hill you know', 'he is proud of being a doctor', 'he is proud of his collection', 'he is something of a musician', 'he is taller than his brother', 'he is the captain of the team', 'he is the image of his father', 'he is the man you can rely on', 'he is the tallest of all boys', 'he is too drunk to drive home', 'he is too dumb to fear danger', 'he is used to making speeches', 'he is used to such situations', 'he is used to such situations', 'he isn t actually the manager', 'he isn t actually the manager', 'he isn t actually the manager', 'he isn t as old as my brother', 'he isn t rich but he s happy', 'he s a friend of my brother s', 'he s a rather rare individual', 'he s a successful businessman', 'he s always changing his mind', 'he s an intelligent young man', 'he s attracted to asian girls', 'he s attracted to asian women', 'he s attracted to black women', 'he s attracted to black women', 'he s cunning and manipulative', 'he s curious about everything', 'he s going to cross the river', 'he s more than likely to come', 'he s not as old as my brother', 'he s rich but he s not happy', 'he s talking on the telephone', 'he s very sloppy in his dress', 'he s worried about the result', 'i am a student of this school', 'i am a very good chess player', 'i am afraid of having trouble', 'i am always ready to help you', 'i am anxious about his health', 'i am being paranoid aren t i ?', 'i am blessed with good health', 'i am completely out of breath', 'i am concerned for her safety', 'i am disappointed at the news', 'i am engaged in aids research', 'i am going abroad this summer', 'i am going out this afternoon', 'i am growing to hate the girl', 'i am happy to hear your voice', 'i am happy to hear your voice', 'i am happy with my girlfriend', 'i am looking for a good hotel', 'i am looking for an assistant', 'i am making too many mistakes', 'i am never at home on sundays', 'i am seeing my uncle tomorrow', 'i am seventeen years old too', 'i am singing with my children', 'i am sorry if i disturbed you', 'i am the tallest in our class', 'i am thinking of going abroad', 'i am very glad school is over', 'i am very glad school is over', 'i am very interested in music', 'i am well acquainted with him', 'i m a respectable businessman', 'i m about the same age as you', 'i m about the same age as you', 'i m allergic to some medicine', 'i m always proud of my family', 'i m aware of that possibility', 'i m aware of the difficulties', 'i m bored let s do something', 'i m certainly not your friend', 'i m certainly not your friend', 'i m certainly not your friend', 'i m certainly not your friend', 'i m coming over to your place', 'i m done watering the flowers', 'i m drinking a beer right now', 'i m dying for a cup of coffee', 'i m familiar with such things', 'i m familiar with the subject', 'i m feeling good this morning', 'i m feeling much better today', 'i m free every day but monday', 'i m free every day but monday', 'i m friends with tom s sister', 'i m getting a new house built', 'i m getting married next week', 'i m giving it to you for free', 'i m giving you an opportunity', 'i m glad that makes you happy', 'i m glad that makes you happy', 'i m glad that makes you happy', 'i m glad that makes you happy', 'i m glad that makes you happy', 'i m glad that makes you happy', 'i m glad that makes you happy', 'i m glad that makes you happy', 'i m glad that makes you happy', 'i m glad that makes you happy', 'i m glad you liked my friends', 'i m glad you liked my friends', 'i m going to hanover with you', 'i m going to do some shopping', 'i m going to go get some food', 'i m going to go wash my hands', 'i m going to my grandmother s', 'i m going to protect you tom', 'i m going to protect you tom', 'i m going to see her tomorrow', 'i m good at playing the piano', 'i m happy because you re here', 'i m hearing that a lot lately', 'i m here to ask for your help', 'i m here to ask for your help', 'i m just waiting for a friend', 'i m just waiting for a friend', 'i m learning so much from you', 'i m learning so much from you', 'i m more experienced than tom', 'i m not able to speak so fast', 'i m not comfortable with this', 'i m not comparing tom to mary', 'i m not going to get involved', 'i m not going to get involved', 'i m not going to get involved', 'i m not going to stop working', 'i m not good at telling jokes', 'i m not in the mood for jokes', 'i m not in the mood right now', 'i m not scared of you anymore', 'i m not scared of you anymore', 'i m not scared of you anymore', 'i m not scared of you anymore', 'i m not the one who should go', 'i m not the one who should go', 'i m not too worried about tom', 'i m not wearing any underwear', 'i m on the phone with tom now', 'i m practically an expert now', 'i m pretty sure tom s serious', 'i m really sorry to hear that', 'i m really unhappy about this', 'i m satisfied with everything', 'i m seeing you in a new light', 'i m sick and tired of reading', 'i m sick and tired of reading', 'i m so happy that you re here', 'i m sorry i misunderstood you', 'i m sorry if i frightened you', 'i m sorry if i frightened you', 'i m sorry if i frightened you', 'i m sorry if i frightened you', 'i m sorry if i frightened you', 'i m sorry if i frightened you', 'i m sorry if i frightened you', 'i m sorry if i frightened you', 'i m sorry if i frightened you', 'i m sorry if i frightened you', 'i m sorry if i frightened you', 'i m sorry if i frightened you', 'i m sorry to upset your plans', 'i m sorry to upset your plans', 'i m sorry i didn t mean that', 'i m sorry i didn t mean that', 'i m sorry i don t understand', 'i m sorry i don t understand', 'i m sorry i m busy right now', 'i m sorry the flight is full', 'i m still part of this family', 'i m sure i turned off the gas', 'i m sure i turned off the gas', 'i m sure i turned off the gas', 'i m sure i ve seen him before', 'i m sure things will work out', 'i m sure things will work out', 'i m sure we can work this out', 'i m sure we can work this out', 'i m sure we can work this out', 'i m sure we can work this out', 'i m sure we can work this out', 'i m sure we can work this out', 'i m surprised to see you here', 'i m taking an exam in january', 'i m the middle child of three', 'i m the only one who survived', 'i m the only one who survived', 'i m tired of all this nagging', 'i m tired of all your fussing', 'i m tired of eating fast food', 'i m trying to clean the house', 'i m trying to save tom s life', 'i m turning thirty in october', 'i m used to working all night', 'i m used to working all night', 'i m used to working all night', 'i m very proud of my daughter', 'i m waiting for my girlfriend', 'she is a good english speaker', 'she is able to sing very well', 'she is afraid of barking dogs', 'she is as beautiful as a rose', 'she is devoted to her husband', 'she is doing her homework now', 'she is fond of playing tennis', 'she is giving a party tonight', 'she is good at playing tennis', 'she is married to a foreigner', 'she is married to an american', 'she is no better than a thief', 'she is not afraid of anything', 'she is paralyzed in both legs', 'she is pleased with the dress', 'she is poor but she is happy', 'she is progressing in chinese', 'she is taller than her sister', 'she is well liked by everyone', 'she is working on the problem', 'she is indeed a lovely girl', 'she isn t good enough for him', 'she s a girl but she s brave', 'she s always busy on weekdays', 'she s always busy on weekdays', 'she s as pretty as her sister', 'she s by far the tallest girl', 'she s fond of taking pictures', 'she s getting breakfast ready', 'she s just putting up a front', 'she s neither rich nor famous', 'she s painting her room white', 'she s really smart isn t she ?', 'she s six years older than me', 'she s waiting for you at home', 'she s waiting for you at home', 'she s waiting for you at home', 'she s waiting for you at home', 'she s waiting for you at home', 'she s waiting for you at home', 'they are all college students', 'they are all college students', 'they are typical young people', 'they aren t going to help tom', 'they re not going to catch us', 'they re related to each other', 'they re smiling at each other', 'they re smiling at each other', 'they re the cream of the crop', 'they re the cream of the crop', 'they re walking without shoes', 'we are badly in want of water', 'we are going to travel by car', 'we are listening to the radio', 'we are looking for each other', 'we are not here to arrest you', 'we are not here to arrest you', 'we are staying at our uncle s', 'we re all going to die anyway', 'we re counting on you to help', 'we re counting on you to help', 'we re going to need some help', 'we re going to paint the wall', 'we re gonna have a lot of fun', 'we re gonna have a lot of fun', 'we re here to play basketball', 'we re just having a good time', 'we re just not used to it yet', 'we re not getting any younger', 'we re not getting any younger', 'we re sorry we can t help you', 'we re sorry we can t help you', 'we re very excited about that', 'we re working to fix this bug', 'you are a beautiful butterfly', 'you are nothing but a student', 'you are so childish sometimes', 'you are so childish sometimes', 'you are so childish sometimes', 'you are so childish sometimes', 'you are so childish sometimes', 'you are so childish sometimes', 'you are the tallest of us all', 'you are twice as strong as me', 'you are twice as strong as me', 'you are twice as strong as me', 'you are twice as strong as me', 'you are twice as strong as me', 'you are twice as strong as me', 'you re doing an excellent job', 'you re doing an excellent job', 'you re going to have to leave', 'you re going to love our food', 'you re going to love our food', 'you re home early aren t you ?', 'you re never too old to learn', 'you re never too old to learn', 'you re never too old to learn', 'you re never too old to learn', 'you re never too old to learn', 'you re not aiming high enough', 'you re not aiming high enough', 'you re not one of us are you ?', 'you re not one of us are you ?', 'you re not satisfied are you ?', 'you re not satisfied are you ?', 'you re off the hook this time', 'you re on the path of success', 'you re preaching to the choir', 'you re preaching to the choir', 'you re preaching to the choir', 'you re preaching to the choir', 'you re preaching to the choir', 'you re preaching to the choir', 'you re preaching to the choir', 'you re preaching to the choir', 'you re respected by everybody', 'you re supposed to be resting', 'you re the one who trained me', 'you re the one who trained me', 'you re the one who trained me', 'you re the one who trained me', 'you re the one who trained me', 'you re the one who trained me', 'you re the one who trained me', 'you re the one who trained me', 'you re the one who trained me', 'you re the one who trained me', 'you re the one who trained me', 'you re the one who trained me', 'you re the one who trained me', 'you re the one who trained me', 'you re the one who trained me', 'you re the one who trained me', 'you re the one who trained me', 'you re the one who trained me', 'you re the one who trained me', 'you re the one who trained me', 'you re the one who trained me', 'you re the one who trained me', 'you re the one who trained me', 'you re the one who trained me', 'you re the only friend i have', 'you re the only friend i have', 'you re the same age as my son', 'you re the same age as my son', 'he is a brave and cheerful boy', 'he is a very thoughtful person', 'he is able to swim like a fish', 'he is able to swim like a fish', 'he is above doing such a thing', 'he is absent from school today', 'he is acting on his own behalf', 'he is actually not the manager', 'he is actually not the manager', 'he is actually not the manager', 'he is afraid of his own shadow', 'he is always forgetting things', 'he is anxious to go to america', 'he is anxious to read the book', 'he is anything but a gentleman', 'he is anything but a gentleman', 'he is ashamed to ask questions', 'he is at the head of the class', 'he is clever at making excuses', 'he is confident of his ability', 'he is enjoying his school life', 'he is facing many difficulties', 'he is known as a great painter', 'he is known as a great painter', 'he is leaving chicago tomorrow', 'he is leaving chicago tomorrow', 'he is my husband s best friend', 'he is not studying english now', 'he is often absent from school', 'he is something of a celebrity', 'he is subject to fits of anger', 'he is suffering from toothache', 'he is the only child they have', 'he is to blame for the failure', 'he is too honest to tell a lie', 'he is too shy to talk to girls', 'he is too smart not to know it', 'he is working in aids research', 'he s a talented young director', 'he s afraid of making mistakes', 'he s afraid of making mistakes', 'he s afraid of making mistakes', 'he s always at home on mondays', 'he s always at home on mondays', 'he s always at home on sundays', 'he s been working all day long', 'he s doing his german homework', 'he s just like his grandfather', 'he s just trying to be popular', 'he s never been in love before', 'he s never been in love before', 'he s not a very meticulous guy', 'he s obsessed with cleanliness', 'he s reading a novel right now', 'he s reading a novel right now', 'he s the only one who survived', 'he s three years older than me', 'he s three years older than me', 'he s thrilled with his new job', 'i am anxious about your health', 'i am at the end of my patience', 'i am going to america by plane', 'i am going to europe next week', 'i am in favor of your proposal', 'i am in favor of your proposal', 'i am learning a little english', 'i am not wearing any underwear', 'i am positive that he is wrong', 'i am sorry i am not from here', 'i am suffering from a bad cold', 'i am sure that he will succeed', 'i am terribly afraid of snakes', 'i am tired of listening to tom', 'i am very interested in french', 'i m a lot more comfortable now', 'i m a salesman for our company', 'i m actually kind of flattered', 'i m actually kind of flattered', 'i m adamant that you should go', 'i m afraid that he can t do it', 'i m afraid we ll lose the game', 'i m an extremely humble person', 'i m beginning to lose patience', 'i m beginning to see a pattern', 'i m beginning to see a pattern', 'i m being treated like a child', 'i m buying fruit and chocolate', 'i m calling from my cell phone', 'i m disgusted and disappointed', 'i m enjoying this warm weather', 'i m entitled to my own opinion', 'i m expecting a customer today', 'i m fed up with all their lies', 'i m friends with a lot of cops', 'i m friends with a lot of cops', 'i m friends with a lot of them', 'i m getting married in october', 'i m giving you one more chance', 'i m glad i don t have your job', 'i m glad i don t have your job', 'i m glad i was able to do this', 'i m glad tom was there with me', 'i m going to paris in the fall', 'i m going to be ready for that', 'i m going to call an ambulance', 'i m going to do something else', 'i m going to kill him for this !', 'i m going to meet him tomorrow', 'i m going to miss your cooking', 'i m going to put it in my room', 'i m going to tell you a secret', 'i m going to tell you a secret', 'i m going to tell you a secret', 'i m going to tell you a secret', 'i m having the time of my life', 'i m impressed with your french', 'i m impressed with your french', 'i m impressed with your french', 'i m impressed with your french', 'i m just a plain office worker', 'i m just trying to be friendly', 'i m just trying to make a buck', 'i m meeting someone for dinner', 'i m meeting someone for dinner', 'i m never angry without reason', 'i m not always free on sundays', 'i m not ashamed that i am poor', 'i m not certain tom likes that', 'i m not certain tom likes that', 'i m not frightened of anything', 'i m not going to see you again', 'i m not interested in politics', 'i m not married to tom anymore', 'i m not married to tom anymore', 'i m not particularly impressed', 'i m not particularly impressed', 'i m not really that interested', 'i m not really that interested', 'i m not sure i want to do this', 'i m not sure i want to do this', 'i m not sure of the exact date', 'i m not understanding anything', 'i m not worried about anything', 'i m pleased with my new jacket', 'i m reading the new york times', 'i m really glad i ran into you', 'i m really glad i ran into you', 'i m really not all that hungry', 'i m running linux on my laptop', 'i m saving up to buy a new car', 'i m sensing a lot of hostility', 'i m sorry for what i have done', 'i m sorry if i embarrassed you', 'i m sorry if i embarrassed you', 'i m sorry if i embarrassed you', 'i m sorry if i embarrassed you', 'i m sorry if i embarrassed you', 'i m sorry if i embarrassed you', 'i m sorry if i embarrassed you', 'i m sorry if i embarrassed you', 'i m sorry if i embarrassed you', 'i m sorry if i m bothering you', 'i m sorry if my words hurt you', 'i m sorry to have bothered you', 'i m sorry to have bothered you', 'i m sorry to have bothered you', 'i m sorry to have bothered you', 'i m sorry to have bothered you', 'i m sorry to have bothered you', 'i m sorry to have bothered you', 'i m sorry to have bothered you', 'i m sorry to have bothered you', 'i m sorry to have bothered you', 'i m sorry to have bothered you', 'i m sorry to have bothered you', 'i m sorry i couldn t hear you', 'i m sorry i couldn t hear you', 'i m sorry i couldn t hear you', 'i m sorry i couldn t hear you', 'i m sorry i didn t catch that', 'i m sorry i didn t catch that', 'i m sorry i don t have change', 'i m sorry i don t mean to pry', 'i m sorry i don t mean to pry', 'i m sorry but it s impossible', 'i m sorry that flight is full', 'i m starting to feel desperate', 'i m starting to feel desperate', 'i m still angry because of her', 'i m still the boss around here', 'i m still waiting for my order', 'i m still waiting for my order', 'i m sure tom had a good reason', 'i m sure tom had a good reason', 'i m sure everything will be ok', 'i m sure everything will be ok', 'i m sure he will come tomorrow', 'i m sure she will turn up soon', 'i m sure that tom will do that', 'i m sure you have other skills', 'i m sure you have other skills', 'i m sure you have other skills', 'i m surprised it was that easy', 'i m the youngest in the family', 'i m the youngest in the family', 'i m the youngest in the family', 'i m tired but i ll study hard', 'i m too lazy to do my homework', 'i m training for the triathlon', 'i m used to cooking for myself', 'i m used to this sort of thing', 'i m used to this sort of thing', 'i m very glad to see you again', 'i m very glad to see you again', 'i m very glad to see you again', 'i m very glad to see you again', 'i m very happy with my new car', 'i m very interested in the job', 'i m very much in favor of this', 'i m very proud of our students', 'i m very proud of our students', 'i m working for a trading firm', 'i m ironing my handkerchiefs', 'she is a woman of great beauty', 'she is always dressed in black', 'she is always dressed in black', 'she is always kind to everyone', 'she is anxious to visit europe', 'she is appearing on tv tonight', 'she is appreciated by everyone', 'she is aware of my secret plan', 'she is certain to be surprised', 'she is certain to come on time', 'she is devoted to her children', 'she is lacking in common sense', 'she is very afraid of the dark', 'she is very cynical about life', 'she is wearing a valuable ring', 'she isn t adequate to the task', 'she s dependent on her husband', 'she s dependent on her husband', 'she s looking for a better job', 'she s the most beautiful woman', 'she s two years older than him', 'she s used to getting up early', 'she s very interested in music', 'she s worrying about her exams', 'they are a peace loving people', 'they are all innocent children', 'they are always short of money', 'they are happy with the result', 'they are in the teachers room', 'they are in the teachers room', 'they are loyal to their master', 'they are not at all interested', 'they are not at all interested', 'they re eating high on the hog', 'they re going to make mistakes', 'they re going to make mistakes', 'they re keeping it under wraps', 'they re keeping it under wraps', 'they re suffering from malaria', 'we are facing a violent crisis', 'we are going to leave tomorrow', 'we are sorry we can t help you', 'we are sorry we can t help you', 'we re all after the same thing', 'we re doing this for the money', 'we re done answering questions', 'we re going back to square one', 'we re going to be working late', 'we re going to freeze to death', 'we re going to have a good day', 'we re going to miss doing this', 'we re going to miss doing this', 'we re going to wait in the car', 'we re not doing anything wrong', 'we re not open on thanksgiving', 'we re not out of the woods yet', 'we re planning to do just that', 'we re so glad to have you here', 'we re so glad to have you here', 'we re so glad to have you here', 'we re so glad to have you here', 'we re waiting for you to leave', 'you are abusing your authority', 'you are abusing your authority', 'you are no longer welcome here', 'you are no longer welcome here', 'you are no longer welcome here', 'you are no longer welcome here', 'you are no longer welcome here', 'you are no longer welcome here', 'you are not to leave this room', 'you are not to leave this room', 'you re a very attractive woman', 'you re a very attractive woman', 'you re being bossy aren t you ?', 'you re being very unfair to me', 'you re going to love this book', 'you re going to love this book', 'you re going to ruin your eyes', 'you re going to ruin your eyes', 'you re in a strange mood today', 'you re much taller than tom is', 'you re my friends both of you', 'you re not getting any younger', 'you re not old enough to drink', 'you re not supposed to be here', 'you re not supposed to be here', 'you re not the only woman here', 'you re not the only woman here', 'you re not the only woman here', 'you re not the only woman here', 'you re one of them aren t you ?', 'you re one of them aren t you ?', 'you re starting to warm up now', 'you re staying with tom right ?', 'you re staying with tom right ?', 'you re the one that went crazy', 'you re the one that went crazy', 'you re the one that went crazy', 'you re the one that went crazy', 'you re the only one for me now', 'you re the only one for me now', 'you re the only one for me now', 'you re the only one for me now', 'you re the tallest person here', 'you re the tallest person here', 'you re wanted on the telephone', 'he is a good speaker of english', 'he is a member in good standing', 'he is a member of the committee', 'he is a very imaginative writer', 'he is a very imaginative writer', 'he is about to leave for london', 'he is absent because of illness', 'he is acquainted with the mayor', 'he is afraid of his grandfather', 'he is afraid of making mistakes', 'he is afraid of making mistakes', 'he is always at home on mondays', 'he is always looking for praise', 'he is careful about his manners', 'he is getting better bit by bit', 'he is going to explain it to me', 'he is included among my friends', 'he is included among my friends', 'he is my brother not my father', 'he is not as tall as his father', 'he is not ashamed of being poor', 'he is old enough to drive a car', 'he is proud of being a musician', 'he is reasonable in his demands', 'he is related to me by marriage', 'he is satisfied with the result', 'he is suffering from a headache', 'he is taller than any other boy', 'he is the happiest man on earth', 'he is unpopular for some reason', 'he is very afraid of his mother', 'he isn t back from the mountain', 'he s an expert with a slingshot', 'he s been teaching for years', 'he s been teaching for years', 'he s good at this sort of thing', 'he s in danger of being evicted', 'he s in good physical condition', 'he s leaving for tokyo tomorrow', 'he s lived here his entire life', 'he s lived here his entire life', 'he s my friend do you know him ?', 'he s my friend do you know him ?', 'he s saving up to go to college', 'he s starting to feel desperate', 'he s used to speaking in public', 'i am accustomed to cold weather', 'i am accustomed to living alone', 'i am accustomed to living alone', 'i am accustomed to working hard', 'i am accustomed to working hard', 'i am acquainted with the author', 'i am acquainted with the custom', 'i am afraid i ate something bad', 'i am afraid i must be going now', 'i am against working on sundays', 'i am badly in need of your help', 'i am concerned about his health', 'i am convinced of his innocence', 'i am familiar with this subject', 'i am familiar with this subject', 'i am fixing the washing machine', 'i am going on a picnic tomorrow', 'i am going to the swimming pool', 'i am not always free on sundays', 'i am not frightened of anything', 'i am not in the least surprised', 'i am relieved that you are safe', 'i am seeing mary this afternoon', 'i am seeing mary this afternoon', 'i am sorry to have troubled you', 'i am thinking about my children', 'i am thinking about that matter', 'i am too tired to walk any more', 'i am very sensitive to the cold', 'i m afraid i have no experience', 'i m afraid it may rain tomorrow', 'i m afraid it will rain tonight', 'i m afraid it s not that simple', 'i m afraid that i might be late', 'i m afraid you misunderstood me', 'i m afraid you misunderstood me', 'i m at narita airport right now', 'i m busy preparing for the trip', 'i m considering going with them', 'i m employed by a french lawyer', 'i m expecting a letter from her', 'i m experiencing some heartburn', 'i m familiar with the situation', 'i m familiar with the situation', 'i m friends with all those guys', 'i m getting married next sunday', 'i m getting ready for the worst', 'i m glad you re all right again', 'i m going on vacation next week', 'i m going to new york next week', 'i m going to ask for a new desk', 'i m going to catch the next bus', 'i m going to go call the police', 'i m going to put a curse on you', 'i m going to put a curse on you', 'i m going to take some pictures', 'i m going to teach you a lesson', 'i m going to teach you a lesson', 'i m going to tell you the truth', 'i m going to the police station', 'i m happy to report that we won', 'i m just as confused as you are', 'i m just as confused as you are', 'i m just getting back to basics', 'i m just glad no one was killed', 'i m just looking out for myself', 'i m kind of busy right now tom', 'i m leaving for canada tomorrow', 'i m leaving town for a few days', 'i m leaving town for a few days', 'i m looking for a french penpal', 'i m looking for a part time job', 'i m looking for a room for rent', 'i m no longer afraid of spiders', 'i m not a doctor but a teacher', 'i m not a doctor but a teacher', 'i m not a doctor but a teacher', 'i m not afraid to be criticized', 'i m not as intelligent as he is', 'i m not going to argue with you', 'i m not going to argue with you', 'i m not going to close the door', 'i m not going to play this game', 'i m not going to tell you again', 'i m not going to tell you again', 'i m not going to waste my money', 'i m not good at public speaking', 'i m not good at public speaking', 'i m not in that much of a hurry', 'i m not in that much of a hurry', 'i m not in that much of a hurry', 'i m not in that much of a hurry', 'i m not in that much of a hurry', 'i m not living with him anymore', 'i m not prepared to do that yet', 'i m not rich enough to buy that', 'i m not sure i m ready for this', 'i m not sure i m ready for this', 'i m not sure if this is correct', 'i m not taking no for an answer', 'i m obviously very disappointed', 'i m obviously very disappointed', 'i m only going to say this once', 'i m only going to say this once', 'i m only going to show you once', 'i m only going to show you once', 'i m pretty sure tom s competent', 'i m rather surprised to hear it', 'i m reading an interesting book', 'i m ready for my next challenge', 'i m ready to face any challenge', 'i m ready to roll up my sleeves', 'i m ready to throw in the towel', 'i m running out of closet space', 'i m running out of closet space', 'i m satisfied with his progress', 'i m saving money for my old age', 'i m seeking a solution even now', 'i m short of cash at the moment', 'i m sleepy so i am leaving now', 'i m so sorry that i lied to you', 'i m so sorry that i lied to you', 'i m sorry for the late response', 'i m sorry to have disturbed you', 'i m sorry to have disturbed you', 'i m sorry to have disturbed you', 'i m sorry to have disturbed you', 'i m sorry i don t speak french', 'i m sorry i don t speak french', 'i m sorry i don t speak french', 'i m sorry i don t speak french', 'i m sorry my father s not here', 'i m sorry my father s not here', 'i m sure tom would be delighted', 'i m sure tom would be delighted', 'i m sure there ll be no problem', 'i m taking a couple of days off', 'i m taking a couple of days off', 'i m taking a couple of days off', 'i m thirty years older than you', 'i m thirty years older than you', 'i m tired of him bawling me out', 'i m too busy to talk to you now', 'i m too tired to go out jogging', 'i m very grateful for your help', 'i m very happy with my purchase', 'i m very impressed by your work', 'i m very pleased with your work', 'i m very pleased with your work', 'i m waiting for him to get back', 'i m waiting for your assistance', 'i m waiting to see if it s true', 'she is a most gracious neighbor', 'she is an expert in mathematics', 'she is anxious about her safety', 'she is as thin as a broom stick', 'she is being blackmailed by him', 'she is being blackmailed by him', 'she is certain to pass the exam', 'she is distantly related to him', 'she is distantly related to him', 'she is expecting a baby in june', 'she is good at speaking english', 'she is looking for her car keys', 'she is looking for her car keys', 'she is on a diet to lose weight', 'she is two years older than you', 'she is two years older than you', 'she is two years older than you', 'she is two years older than you', 'she is two years older than you', 'she is two years older than you', 'she s a very interesting person', 'she s asking for the impossible', 'she s good at handling children', 'she s materialistic and shallow', 'she s not admitting her mistake', 'she s six years older than i am', 'she s six years older than i am', 'she s worried about your safety', 'she s worried about your safety', 'she s worried about your safety', 'they are at broadway avenue', 'they are discussing the problem', 'they are from the united states', 'they are jealous of our success', 'they are jealous of our success', 'they are jealous of our success', 'they are jealous of our success', 'they are leaving japan tomorrow', 'they are talking in the kitchen', 'they are willing to help us out', 'they re looking for a scapegoat', 'they re looking for a scapegoat', 'we are anxious for their safety', 'we are leaving japan next month', 'we are pretty much in agreement', 'we re competitors not partners', 'we re competitors not partners', 'we re competitors not partners', 'we re concerned for your safety', 'we re concerned for your safety', 'we re going to have so much fun', 'we re just getting ready to eat', 'we re no longer working for tom', 'we re not trying to make amends', 'we re on a tight schedule today', 'we re working as fast as we can', 'we re working as fast as we can', 'you are a good cook aren t you ?', 'you are a good cook aren t you ?', 'you are a good cook aren t you ?', 'you are a good cook aren t you ?', 'you are always as busy as a bee', 'you are always doubting my word', 'you are old enough to know this', 'you are twice as strong as i am', 'you are twice as strong as i am', 'you are twice as strong as i am', 'you are twice as strong as i am', 'you are twice as strong as i am', 'you are twice as strong as i am', 'you are very attractive in blue', 'you are very attractive in blue', 'you are very attractive in blue', 'you are very early this morning', 'you re tom s friend aren t you ?', 'you re disappointed aren t you ?', 'you re disappointed aren t you ?', 'you re disappointed aren t you ?', 'you re disappointed aren t you ?', 'you re disappointed aren t you ?', 'you re disappointed aren t you ?', 'you re done working aren t you ?', 'you re done working aren t you ?', 'you re not a city girl are you ?', 'you re not a city girl are you ?', 'you re not allowed to eat those', 'you re not allowed to eat those', 'you re not allowed to eat those', 'you re not allowed to eat those', 'you re not allowed to eat those', 'you re not allowed to eat those', 'you re not allowed to eat those', 'you re not allowed to eat those', 'you re not allowed to eat those', 'you re not allowed to eat those', 'you re not allowed to eat those', 'you re not allowed to eat those', 'you re not allowed to park here', 'you re not allowed to park here', 'you re not allowed to park here', 'you re not allowed to park here', 'you re not one of them are you ?', 'you re not one of them are you ?', 'you re obviously in great shape', 'you re still single aren t you ?', 'you re still single aren t you ?', 'you re the best man for the job', 'you re the best man for the job', 'you re the champion aren t you ?', 'you re the champion aren t you ?', 'you re the only canadian i know', 'you re the only canadian i know', 'you re wasting both of our time', 'you re wasting both of our time', 'i am not tired neither am i', 'he is a man who loves ceremonies', 'he is a potential world champion', 'he is a student at a high school', 'he is a wolf in sheep s clothing', 'he is accustomed to working hard', 'he is acquainted with the custom', 'he is ahead of us in mathematics', 'he is always losing his umbrella', 'he is always making a fool of me', 'he is anxious to know the result', 'he is beginning to lose his hair', 'he is fond of this kind of music', 'he is fond of this kind of music', 'he is in good physical condition', 'he is independent of his parents', 'he is living apart from his wife', 'he is not a singer but an actor', 'he is not as tall as his brother', 'he is nothing more than a coward', 'he is old enough to travel alone', 'he is pleased with his new shoes', 'he is staying with his relatives', 'he is still sitting on the bench', 'he is still sitting on the bench', 'he is the chief of my department', 'he is the father of two children', 'he is the greatest living artist', 'he is twice as heavy as his wife', 'he is very stingy with his money', 'he is well liked by his students', 'he is indeed a man of his word', 'he s english but lives in india', 'he s a carbon copy of his father', 'he s a crybaby just like always', 'he s a professional photographer', 'he s getting soft in his old age', 'he s not at all afraid of snakes', 'he s not at all afraid of snakes', 'he s old enough to be her father', 'he s sitting in the waiting room', 'he s sitting in the waiting room', 'he s three years older than i am', 'he s wanted for grand theft auto', 'i am ashamed of my son s conduct', 'i am convinced of your innocence', 'i am expecting a letter from her', 'i am in favor of the proposition', 'i am interested in asian history', 'i am leaving town for a few days', 'i am leaving town for a few days', 'i am looking for a jewelry store', 'i am losing my patience with you', 'i am losing my patience with you', 'i am married and i have two sons', 'i am married and i have two sons', 'i am not a doctor but a teacher', 'i am not a doctor but a teacher', 'i am not a doctor but a teacher', 'i am not the person i used to be', 'i am not the person i used to be', 'i am responsible for the mistake', 'i am taking a couple of days off', 'i am taking a couple of days off', 'i am thankful for the food i eat', 'i am tired of my monotonous life', 'i am very glad to meet you today', 'i m assuming this is your father', 'i m assuming this is your father', 'i m assuming this is your father', 'i m assuming this is your father', 'i m astonished by her cleverness', 'i m aware of my responsibilities', 'i m aware of my responsibilities', 'i m cold may i close the window ?', 'i m delighted that it s all over', 'i m fed up with this wet weather', 'i m getting off at the next stop', 'i m getting too old for this job', 'i m getting used to eating alone', 'i m getting used to eating alone', 'i m glad to hear of your success', 'i m glad to hear of your success', 'i m glad to see you in one piece', 'i m glad to see you in one piece', 'i m glad to see you in one piece', 'i m glad to see you in one piece', 'i m glad you asked me for advice', 'i m going to america this summer', 'i m going to be away a long time', 'i m going to chop this tree down', 'i m going to get on the next bus', 'i m going to have to dye my hair', 'i m going to need some more time', 'i m going to need some more time', 'i m going to rewrite this report', 'i m going to send tom some money', 'i m just a little busy right now', 'i m just a regular office worker', 'i m just worried about my weight', 'i m just worried about my weight', 'i m looking forward to the party', 'i m more than just a pretty face', 'i m not able to fix the computer', 'i m not hiding anything from you', 'i m not privy to their decisions', 'i m not qualified to do this job', 'i m not trying to impress anyone', 'i m pleased with his performance', 'i m pleased with his performance', 'i m pleased with his performance', 'i m pleased with his performance', 'i m pleased with his performance', 'i m pleased with his performance', 'i m practically an adult already', 'i m probably just being paranoid', 'i m responsible for tom s safety', 'i m sick and tired of hamburgers', 'i m sorry i missed your birthday', 'i m sorry i missed your birthday', 'i m sorry to bother you so often', 'i m sorry to bother you so often', 'i m sorry to bother you so often', 'i m sorry to bother you so often', 'i m sorry to bother you so often', 'i m sorry to bother you so often', 'i m sorry to bother you so often', 'i m sorry to bother you so often', 'i m sorry i don t recognize you', 'i m sorry i don t recognize you', 'i m sorry i don t recognize you', 'i m sorry i don t recognize you', 'i m sorry i don t recognize you', 'i m sorry i don t recognize you', 'i m sorry i don t recognize you', 'i m sorry i don t recognize you', 'i m sorry i just wanted to help', 'i m sorry but you need to leave', 'i m sorry but you need to leave', 'i m sorry but you need to leave', 'i m sorry but you need to leave', 'i m sorry it won t happen again', 'i m sorry it won t happen again', 'i m still suffering from jet lag', 'i m sure i have the right number', 'i m sure everything will be fine', 'i m sure everything will be fine', 'i m sure that he ll come on time', 'i m sure that we ll all miss her', 'i m sure that won t be necessary', 'i m sure that won t be necessary', 'i m sure you have many questions', 'i m sure you won t disappoint me', 'i m sure you won t disappoint me', 'i m sure you won t disappoint me', 'i m sure you won t disappoint me', 'i m taking care of my grandfather', 'i m taking care of my grandfather', 'i m the only one who can do that', 'i m the only one who can do that', 'i m the tallest one in the class', 'i m three years younger than you', 'i m tired of watching television', 'i m too sleepy to do my homework', 'i m too sleepy to do my homework', 'i m too tired to walk any longer', 'i m very sorry about the mistake', 'i m waiting for her to come here', 'i m willing to accept your offer', 'she is beautiful like her mother', 'she is convinced of my innocence', 'she is familiar with the subject', 'she is fond of singing old songs', 'she is getting better day by day', 'she is not a nurse but a doctor', 'she is not a poet but a novelist', 'she is poor but she looks happy', 'she is practicing the violin now', 'she is the one who feeds our dog', 'she is two years younger than me', 'she is two years younger than me', 'she is very much like her mother', 'she s a successful businesswoman', 'she s a violinist of some renown', 'she s a violinist of some renown', 'she s an intelligent young woman', 'she s asking how that s possible', 'she s completely crazy about him', 'she s five years younger than me', 'she s pleased with her new dress', 'she s promised to give me a ring', 'they are both colleagues of mine', 'they are expected any minute now', 'they are looking to you for help', 'they are looking to you for help', 'they are the ones who want to go', 'they are the ones who want to go', 'they are the ones who want to go', 'they are the ones who want to go', 'they are the ones who want to go', 'they are the ones who want to go', 'they aren t telling us the truth', 'they re barely paid minimum wage', 'they re giving away samples free', 'they re not telling us the truth', 'we are anxious about your health', 'we re all very worried about you', 'we re choosing among those ideas', 'we re going to have a test today', 'we re not really friends anymore', 'we re waiting for the right time', 'we re wasting valuable time here', 'you are entitled to your opinion', 'you are entitled to your opinion', 'you are watching tv all the time', 'you aren t allowed to park there', 'you aren t allowed to park there', 'you aren t supposed to swim here', 'you aren t supposed to swim here', 'you aren t supposed to swim here', 'you aren t supposed to swim here', 'you aren t supposed to swim here', 'you aren t supposed to swim here', 'you re acting like a small child', 'you re going to have to call tom', 'you re going to have to call tom', 'you re in better shape than i am', 'you re lucky that you have a job', 'you re lucky that you have a job', 'you re lucky that you have a job', 'you re lucky that you have a job', 'you re making a terrible mistake', 'you re making a terrible mistake', 'you re not being very supportive', 'you re not being very supportive', 'you re not even paying attention', 'you re not even paying attention', 'you re not going to believe this', 'you re not going to believe this', 'you re not interrupting anything', 'you re not interrupting anything', 'you re not staying here are you ?', 'you re not staying here are you ?', 'you re old enough to know better', 'you re old enough to know better', 'you re out of touch with reality', 'you re out of touch with reality', 'you re putting words in my mouth', 'he is a gentleman among gentlemen', 'he is able to speak ten languages', 'he is an archeologist s assistant', 'he is apt to forget people s name', 'he is busy preparing for the trip', 'he is busy preparing for the trip', 'he is by nature a generous person', 'he is enrolled at that university', 'he is known to the entire country', 'he is married to an american lady', 'he is no more a fool than you are', 'he is not as clever as my brother', 'he is not scared of snakes at all', 'he is nothing more than a dreamer', 'he is old enough to understand it', 'he is quick to voice his concerns', 'he is studying in the library now', 'he is the best player on our team', 'he is the son of a wealthy family', 'he is to come here at six o clock', 'he is to come to my house tonight', 'he is too young to go there alone', 'he is unsatisfied with the result', 'he is unsatisfied with the result', 'he is very good at playing violin', 'he is very sensitive to criticism', 'he is walking towards the station', 'he is well spoken of by everybody', 'he s a bit rough around the edges', 'he s a bit rough around the edges', 'he s a little taller than you are', 'he s afraid that he might be late', 'he s always running short of cash', 'he s an expert at throwing knives', 'he s bound to notice your mistake', 'he s decided to leave the company', 'he s going to have a heart attack', 'he s had many unhappy experiences', 'he s not sure he wants to do this', 'he s the one who s lagging behind', 'he s two years older than mary is', 'he s two years older than mary is', 'he s wearing a white cotton shirt', 'i am allowed to swim in the river', 'i am ashamed of my son s laziness', 'i am determined to be a scientist', 'i am fed up with this wet weather', 'i am fed up with this wet weather', 'i am glad that you have succeeded', 'i am going to a concert next week', 'i am going to a concert next week', 'i am going to a concert next week', 'i am looking forward to christmas', 'i am ready to do anything for you', 'i am ready to do anything for you', 'i am ready to do anything for you', 'i am ready to do anything for you', 'i am sure we have a lot in common', 'i am too tired to keep on walking', 'i m afraid i took the wrong train', 'i m afraid she may have the mumps', 'i m afraid we don t have any left', 'i m ashamed to say that it s true', 'i m careful not to spend too much', 'i m confident that you ll succeed', 'i m confident that you ll succeed', 'i m confident that you ll succeed', 'i m going to izu over the weekend', 'i m going to join a demonstration', 'i m going to need some more money', 'i m happy to see you in one piece', 'i m happy to see you in one piece', 'i m happy to see you in one piece', 'i m happy to see you in one piece', 'i m impressed you ve done so well', 'i m impressed you ve done so well', 'i m in absolutely total agreement', 'i m in love with a wonderful girl', 'i m leaving tonight for australia', 'i m looking for a bag for my wife', 'i m looking for a bag for my wife', 'i m looking forward to seeing him', 'i m looking forward to seeing you', 'i m lucky to have you as a friend', 'i m lucky to have you as a friend', 'i m lucky to have you as a friend', 'i m lucky to have you as a friend', 'i m lucky to have you as a friend', 'i m lucky to have you as a friend', 'i m lucky to have you as a friend', 'i m lucky to have you as a friend', 'i m lucky to have you as a friend', 'i m lucky to have you as a friend', 'i m lucky to have you as a friend', 'i m lucky to have you as a friend', 'i m lucky to have you as a friend', 'i m lucky to have you as a friend', 'i m lucky to have you as a friend', 'i m lucky to have you as a friend', 'i m not free to go this afternoon', 'i m not giving you any more money', 'i m not giving you any more money', 'i m not going to tell you my name', 'i m not going to tell you my name', 'i m not happy with this situation', 'i m not in the least afraid of it', 'i m not the only one with a child', 'i m not the only one with a child', 'i m often compared to my brothers', 'i m pretty sure tom could do that', 'i m proud to have him as a friend', 'i m proud to have him as a friend', 'i m really flattered to hear that', 'i m so embarrassed i want to die', 'i m so embarrassed i want to die', 'i m sorry i dragged you into this', 'i m sorry i dragged you into this', 'i m sorry i dragged you into this', 'i m sorry i dragged you into this', 'i m sorry i dragged you into this', 'i m sorry i dragged you into this', 'i m sorry i dragged you into this', 'i m sorry i dragged you into this', 'i m sorry i dragged you into this', 'i m sorry i m calling you at work', 'i m sorry i m calling you at work', 'i m sorry i m calling you at work', 'i m sorry i m calling you at work', 'i m sorry i didn t recognize you', 'i m sorry i didn t recognize you', 'i m sorry i didn t recognize you', 'i m sorry i didn t recognize you', 'i m sorry i didn t recognize you', 'i m sorry i didn t recognize you', 'i m sorry i didn t recognize you', 'i m sorry i didn t recognize you', 'i m sorry i didn t recognize you', 'i m sorry i didn t recognize you', 'i m sorry i didn t recognize you', 'i m sorry i didn t recognize you', 'i m sorry but i don t understand', 'i m sorry but i don t understand', 'i m sorry we don t accept checks', 'i m sorry i got the wrong number', 'i m still waiting for your answer', 'i m still waiting for your answer', 'i m sure you re going to enjoy it', 'i m sure you re going to enjoy it', 'i m taking tomorrow afternoon off', 'i m the happiest man in the world', 'i m the happiest man in the world', 'i m thinking about something else', 'i m too tired to walk any further', 'i m very glad to finally meet you', 'i m very much aware of the danger', 'i m very much aware of the danger', 'i m what the world calls an idiot', 'i m willing to go anywhere you go', 'she is apparently an honest woman', 'she is around twenty years of age', 'she is as beautiful as snow white', 'she is as beautiful as her mother', 'she is ashamed of her old clothes', 'she is ashamed of what she s done', 'she is constantly writing letters', 'she is constantly writing letters', 'she is five years younger than me', 'she is more pretty than beautiful', 'she is on friendly terms with him', 'she is related to him by marriage', 'she is traveling around the world', 'she is unable to cope with stress', 'she is very proud of her daughter', 'she is working hard this semester', 'she s a professional photographer', 'she s putting the children to bed', 'she s wearing a great looking hat', 'they are not enemies but friends', 'they are not enemies but friends', 'they are reading their newspapers', 'they are spraying the fruit trees', 'they re living in a fantasy world', 'they re two very different things', 'we are all eager to see the movie', 'we are concerned about our planet', 'we are in part responsible for it', 'we are leaving for hawaii tonight', 'we are sorry for the interruption', 'we are sorry for the interruption', 'we are supposed to know the rules', 'we re afraid we ll miss our train', 'we re not really asking for money', 'we re not so different you and i', 'we re up a creek without a paddle', 'we re working on a limited budget', 'you are expecting too much of her', 'you are too young to travel alone', 'you are too young to travel alone', 'you are too young to travel alone', 'you are too young to travel alone', 'you are too young to travel alone', 'you are too young to travel alone', 'you re confused again aren t you ?', 'you re confused again aren t you ?', 'you re free of all responsibility', 'you re free of all responsibility', 'you re free of all responsibility', 'you re free of all responsibility', 'you re free of all responsibility', 'you re free of all responsibility', 'you re just the man i want to see', 'you re just the man i want to see', 'you re not supposed to be in here', 'you re not supposed to be in here', 'you re not supposed to be in here', 'you re not supposed to be in here', 'you re not supposed to be in here', 'you re not supposed to be in here', 'you re so beautiful in that dress', 'you re so beautiful in that dress', 'you re so beautiful in that dress', 'you re so beautiful in that dress', 'you re the last hope for humanity', 'you re the last hope for humanity', 'you re the only one i think about', 'you re the only one who can do it', 'you re very religious aren t you ?', 'you re very religious aren t you ?', 'you re very religious aren t you ?', 'you re very religious aren t you ?', 'you re very religious aren t you ?', 'he is a reporter for time magazine', 'he is able to speak five languages', 'he is afraid to fly in an airplane', 'he is always looking to the future', 'he is captain of the football team', 'he is content with the simple life', 'he is engaged to my younger sister', 'he is less strict than our teacher', 'he is likely to be late for school', 'he is looked up to as their leader', 'he is madly in love with that girl', 'he is madly in love with that girl', 'he is not interested in art at all', 'he is not very good at mathematics', 'he is responsible for the accident', 'he is responsible for the accident', 'he is sometimes absent from school', 'he is supposed to be at home today', 'he is terrible at speaking english', 'he is the father of three children', 'he is tired of watching television', 'he is wandering around in a trance', 'he s about the same age as you are', 'he s better at the piano than i am', 'he s nervous and easily frightened', 'he s not always at home on sundays', 'he s not good at remembering names', 'he s the black sheep of the family', 'he s the chairman of the committee', 'i am a student at hyogo university', 'i am about as big as my father now', 'i am accustomed to staying up late', 'i am afraid he will make a mistake', 'i am afraid he will make a mistake', 'i am afraid he will make a mistake', 'i am afraid he will make a mistake', 'i am afraid that he might get hurt', 'i am afraid that you will get lost', 'i am afraid that you will get lost', 'i am afraid that you will get lost', 'i am afraid that you will get lost', 'i am afraid to jump over the ditch', 'i am convinced that he is innocent', 'i am convinced that he is innocent', 'i am determined to give up smoking', 'i am doubtful whether he will come', 'i am going to leave my present job', 'i am going to play soccer tomorrow', 'i am going to play soccer tomorrow', 'i am grateful to you for your help', 'i am interested in taking pictures', 'i am looking forward to seeing you', 'i am married and have two children', 'i am on good terms with my brother', 'i am repairing the washing machine', 'i am staying for another few weeks', 'i am sure that he is an honest man', 'i am taking a holiday at the beach', 'i am thinking of resigning at once', 'i am very tired from the hard work', 'i am very tired from the hard work', 'i am waiting for the store to open', 'i am yawning because i feel sleepy', 'i m ok with having just one friend', 'i m ok with having just one friend', 'i m beginning to see what you mean', 'i m beginning to see what you mean', 'i m glad that the rain has stopped', 'i m glad you were able to meet tom', 'i m going to a monster truck rally', 'i m going to go out this afternoon', 'i m going to leave one night early', 'i m going to teach you some karate', 'i m going to teach you some karate', 'i m going to teach you some karate', 'i m going to teach you some karate', 'i m hungry because i haven t eaten', 'i m interested in oriental pottery', 'i m interested in oriental pottery', 'i m just a plain old office worker', 'i m looking for a gift for my wife', 'i m looking for a gift for my wife', 'i m not familiar with french poets', 'i m not gonna do anything about it', 'i m not good at classifying things', 'i m not good at classifying things', 'i m not interested in your opinion', 'i m not interested in your opinion', 'i m not interested in your opinion', 'i m not interested in your opinion', 'i m not really asleep just dozing', 'i m now about as tall as my father', 'i m on crutches for the next month', 'i m pleased with their performance', 'i m pleased with their performance', 'i m pleased with their performance', 'i m pleased with their performance', 'i m pleased with their performance', 'i m pleased with their performance', 'i m really feeling kind of strange', 'i m really not supposed to do this', 'i m really not supposed to do this', 'i m really not very good at french', 'i m really not very good at french', 'i m really starting to get worried', 'i m sick of conferences these days', 'i m sorry i had to leave you alone', 'i m sorry to have kept you waiting', 'i m sorry we can t stay any longer', 'i m sorry we can t stay any longer', 'i m sorry i don t really remember', 'i m sorry i don t really remember', 'i m sure i ll win the tennis match', 'i m surprised you didn t know that', 'i m surprised you didn t know that', 'i m surprised you didn t know that', 'i m surprised you didn t know that', 'i m thinking of having dinner at', 'i m too old for this sort of thing', 'i m too old for this sort of thing', 'i m trying to get my children back', 'i m very slow at making up my mind', 'she is able to speak ten languages', 'she is afraid of falling ill again', 'she is always trying to please him', 'she is among those unaccounted for', 'she is busy preparing for the trip', 'she is connected with that company', 'she is going to learn how to drive', 'she is handicapped by poor hearing', 'she is learning how to drive a car', 'she is too young to know the truth', 'she is very popular among the boys', 'she is very thoughtful and patient', 'she s a lot smarter than she looks', 'she s a smart and independent girl', 'she s about the same height as you', 'she s as good a cook as her mother', 'she s five years younger than i am', 'she s giving each child two apples', 'she s got a good eye for paintings', 'she s in the garden planting roses', 'she s not prettier than her mother', 'they are aware of the difficulties', 'they are disappointed in their son', 'they are facing financial problems', 'they are proud of their clever son', 'they re back where they want to be', 'they re back where they want to be', 'they re sunbathing around the pool', 'they re sunbathing around the pool', 'we are accustomed to wearing shoes', 'we are accustomed to wearing shoes', 'we are all eager to know the truth', 'we are in the era of atomic energy', 'we are playing tennis this weekend', 'we are sorry for the inconvenience', 'we are sorry for the inconvenience', 'we are traveling on a tight budget', 'we are traveling on a tight budget', 'we re getting a lot of things done', 'we re getting a new car next month', 'we re going to give it another try', 'we re going to give it another try', 'we re looking for a friend of ours', 'we re looking for a place to sleep', 'we re not doing this for the money', 'we re not going to make it in time', 'we re totally different people now', 'you are difficult and incorrigible', 'you are entitled to try once again', 'you are in part responsible for it', 'you are in part responsible for it', 'you are in part responsible for it', 'you are more stupid than i thought', 'you are not supposed to smoke here', 'you are not supposed to smoke here', 'you are not supposed to smoke here', 'you are not supposed to smoke here', 'you are not supposed to smoke here', 'you are not supposed to smoke here', 'you are now on the way to recovery', 'you are our one millionth customer', 'you are responsible for the result', 'you are responsible for the result', 'you are the very man i want to see', 'you are too sensitive to criticism', 'you are too sensitive to criticism', 'you are trusted by every one of us', 'you are trusted by every one of us', 'you re always anticipating trouble', 'you re always anticipating trouble', 'you re never going to believe this', 'you re never going to believe this', 'he is a good match for me in tennis', 'he is a promising young businessman', 'he is ahead of his class in english', 'he is apparently responsible for it', 'he is better off than he used to be', 'he is capable of doing such a thing', 'he is less patient than his brother', 'he is out of circulation these days', 'he is regretful that he couldn t go', 'he is suffering from loss of memory', 'he s got the new technique down pat', 'he s here trying to stir up trouble', 'he s here trying to stir up trouble', 'he s interested in mayan prophecies', 'he s intimidated by beautiful women', 'he s nervous and gets scared easily', 'he s not paying any attention to me', 'he s not working much at the moment', 'he s the one who told me about that', 'he s waiting for the train to leave', 'i am a student at oxford university', 'i am accustoming to this life style', 'i am all alone in a foreign country', 'i am almost scared to talk with you', 'i am glad to accept your invitation', 'i am glad to accept your invitation', 'i am going to watch tv this evening', 'i am interested in japanese history', 'i am interested in chess these days', 'i am intrigued by what is happening', 'i am learning two foreign languages', 'i am learning two foreign languages', 'i am leaving japan tomorrow morning', 'i am looking forward to your letter', 'i am no more an artist than you are', 'i am not concerned with this affair', 'i am not concerned with this affair', 'i am really pleased with my new car', 'i am responsible for her protection', 'i am sorry to have kept you waiting', 'i am still attached to this bicycle', 'i am very pleased with my new house', 'i m afraid i have internal bleeding', 'i m afraid i ve run short of coffee', 'i m afraid i ve run short of coffee', 'i m also thinking of going to korea', 'i m beginning to miss my girlfriend', 'i m busy getting ready for tomorrow', 'i m calling from tom s mobile phone', 'i m calling to report a lost wallet', 'i m disappointed that he s not here', 'i m getting more and more gray hair', 'i m getting off at the next station', 'i m going to cook you a nice dinner', 'i m going to need your help on this', 'i m going to need your help on this', 'i m going to study french next year', 'i m in debt to my uncle for', 'i m in the mood for something sweet', 'i m just glad everything worked out', 'i m just glad everything worked out', 'i m just going to go powder my nose', 'i m not carrying any identification', 'i m not feeling particularly hungry', 'i m not worried about losing my job', 'i m really disappointed in you tom', 'i m sorry there s nothing i can do', 'i m starting to feel better already', 'i m sure tom would be happy to help', 'i m the one that pays all the bills', 'i m the one that pays all the bills', 'i m the one who makes the decisions', 'i m very sorry to have troubled you', 'she is always free in the afternoon', 'she is fluent in english and french', 'she is not anything like her mother', 'she is rarely late for appointments', 'she is used to staying up all night', 'she is used to staying up all night', 'they are all my personal belongings', 'we are faced with many difficulties', 'we are going to climb that mountain', 'we are going to climb that mountain', 'we re expecting lousy weather today', 'we re going to do everything we can', 'we re going to do everything we can', 'we re going to do everything we can', 'we re going to do everything we can', 'we re headed in the right direction', 'you are doing very well keep it up', 'you are going to have to pay for it', 'you are responsible for what you do', 'you are responsible for what you do', 'you are responsible for what you do', 'you re always finding fault with me', 'you re comparing apples and oranges !', 'you re going to be very proud of me', 'you re hiding something aren t you ?', 'you re kind of cute when you re mad', 'you re kind of cute when you re mad', 'you re kind of cute when you re mad', 'you re kind of cute when you re mad', 'you re kind of cute when you re mad', 'you re kind of cute when you re mad', 'you re the only one who can do this', 'you re the only one who can help me', 'you re the only one who can help me', 'you re the only one who can help me', 'you re the only one who can help me', 'you re the only one who can help me', 'you re three years younger than tom', 'you re too clever for your own good', 'he is absorbed in the study of latin', 'he is an authority on the humanities', 'he is bigger than all the other boys', 'he is by far the wisest of the three', 'he is familiar with japanese culture', 'he is leaving for new york next week', 'he is making preparations for a trip', 'he is proud of his father being rich', 'he is saving in order to buy a house', 'he is used to that type of situation', 'he is used to walking long distances', 'he is younger than me by three years', 'he s an advocate of barefoot running', 'he s not going to visit you tomorrow', 'he s the king s most trusted advisor', 'he s walking around in his underwear', 'he s shivering because of the cold', 'i am familiar with this part of town', 'i am going to swim a lot this summer', 'i am just dying for a coke right now', 'i am not in the least afraid of dogs', 'i am not interested in material gain', 'i am not interested in material gain', 'i am sure that you will be satisfied', 'i am the first musician in my family', 'i m adding the finishing touches now', 'i m adding the finishing touches now', 'i m afraid you have the wrong number', 'i m afraid you have the wrong number', 'i m always forgetting people s names', 'i m always forgetting people s names', 'i m getting tired of your complaints', 'i m getting tired of your complaints', 'i m going to boston for three months', 'i m going to be late for the meeting', 'i m going to head back to the office', 'i m halfway through this crime novel', 'i m halfway through this crime novel', 'i m having a hard time concentrating', 'i m looking for a gift for my friend', 'i m looking forward to the next time', 'i m looking forward to the next time', 'i m not accustomed to such treatment', 'i m not discounting that possibility', 'i m not going to the movies tomorrow', 'i m not going to the movies tomorrow', 'i m not interested in a relationship', 'i m not interested in a relationship', 'i m not leaving the two of you alone', 'i m not leaving the two of you alone', 'i m on good terms with the neighbors', 'i m pleased with my new bathing suit', 'i m really not interested in history', 'i m really not interested in history', 'i m scheduled to have lunch with him', 'i m sorry that i didn t reply sooner', 'i m sorry i dialed the wrong number', 'i m sorry i dialed the wrong number', 'i m sorry we re completely sold out', 'i m sorry we re completely sold out', 'i m sorry we re completely sold out', 'i m strongly opposed to a compromise', 'i m studying economics at university', 'i m the one who picked those flowers', 'i m very concerned about her illness', 'she is a very intelligent young lady', 'she is always complaining of her job', 'she is devoted to her three children', 'she is endowed with a special talent', 'she is getting prettier and prettier', 'she is not ashamed of her misconduct', 'she is wearing an expensive necklace', 'she s accustomed to getting up early', 'she s been sick since last wednesday', 'she s collecting material for a book', 'she s not confident about the future', 'she s the breadwinner in this family', 'they re going to give me an estimate', 'they re having a break at the moment', 'we are faced with a difficult choice', 'we are faced with a host of problems', 'we are faced with a host of problems', 'we are faced with a host of problems', 'we are faced with a host of problems', 'we are influenced by our environment', 'we are subject to the laws of nature', 'we re going out for a meal on friday', 'we re going to be here all afternoon', 'we re going to have to work together', 'we re going to have to work together', 'we re going to search the whole ship', 'we re leaving the day after tomorrow', 'we re prepared to make tough choices', 'we re trying to cut down on expenses', 'you are always finding fault with me', 'you are always finding fault with me', 'you are really very productive today', 'you are really very productive today', 'you are the only one who can help me', 'you are the only one who can help me', 'you are the only one who can help me', 'you are the only one who can help me', 'you re enjoying yourself aren t you ?', 'you re enjoying yourself aren t you ?', 'you re much prettier than i remember', 'you re much prettier than i remember', 'you re not the first one to say that', 'you re the one i ve been waiting for', 'you re the one i ve been waiting for', 'you re the one who planted that tree', 'you re the one who planted that tree', 'you re the one who planted that tree', 'you re the one who planted that tree', 'you re the one who planted that tree', 'you re the one who planted that tree', 'you re the same age as my girlfriend', 'he is a critic rather than a novelist', 'he is a professor of english at leeds', 'he is confronted by many difficulties', 'he is experienced in valuing antiques', 'he is holding his books under his arm', 'he is in excellent physical condition', 'he is planning to launch his business', 'he is well read in english literature', 'he is working in the field of biology', 'he s a famous popular singer in japan', 'he s a leading authority in his field', 'he s a leading authority in his field', 'he s a student of japanese literature', 'he s a young impressionable teenager', 'he s been passing off my ideas as his', 'he s not allowed to leave the country', 'he s old enough to be her grandfather', 'he s totally dependent on his parents', 'i am free till o clock this evening', 'i am going to work in osaka next year', 'i am going to write a letter tomorrow', 'i am of the opinion that she is right', 'i am sure of winning the tennis match', 'i am uncomfortable in these new shoes', 'i am used to staying up late at night', 'i am very interested in these stories', 'i m almost finished reading this book', 'i m ashamed because i acted foolishly', 'i m beginning to feel a little sleepy', 'i m beginning to feel guilty about it', 'i m developing an android application', 'i m going away for the summer holiday', 'i m going to give you one more chance', 'i m going to give you one more chance', 'i m going to give you one more chance', 'i m going to give you one more chance', 'i m going to give you one more chance', 'i m going to give you one more chance', 'i m going to hide somewhere near here', 'i m going to hide somewhere near here', 'i m going to play tennis this evening', 'i m growing tired of all this arguing', 'i m in pain every minute of every day', 'i m just looking for a place to sleep', 'i m listening to bjork s latest song', 'i m more interested in spoken english', 'i m not feeling very hungry right now', 'i m not going to do anything about it', 'i m not going to study french anymore', 'i m now officially part of this group', 'i m only doing this for your own good', 'i m only doing this for your own good', 'i m ordering you to leave immediately', 'i m ordering you to leave immediately', 'i m sorry but it s just not possible', 'i m sorry i have another appointment', 'i m sorry i m a stranger around here', 'i m staying over at my friend s place', 'i m staying over at my friend s place', 'i m sure the children are getting big', 'i m too tired to think about that now', 'i m very interested in social studies', 'i m waiting for a very important call', 'she is always fishing for compliments', 'she is collecting material for a book', 'she is familiar with japanese history', 'they are satisfied with the new house', 'they are very interested in astronomy', 'they are very interested in astronomy', 'they re really good at making clothes', 'we are all convinced of his innocence', 'we are all convinced of his innocence', 'we are hoping for your quick recovery', 'we are overfishing the world s oceans', 'we re going to go into the other room', 'we re just about finished for the day', 'you are responsible for this accident', 'you re not going to want to miss this', 'you re not going to want to miss this', 'he is a member of the parish committee', 'he is accustomed to speaking in public', 'he is always finding fault with others', 'he is ashamed of his father being poor', 'he is generally at home in the evening', 'he is making great progress in english', 'he is neither for nor against the plan', 'he is planning to develop his business', 'he is said to have been a good teacher', 'he is suffering from a serious illness', 'he is the head of the sales department', 'he is the spitting image of his father', 'he is totally dependent on his parents', 'he s a professor of biology at harvard', 'he s a singer that s loved by everyone', 'he s always complaining about the food', 'he s been divorced for years already', 'he s been waiting here for a long time', 'he s been waiting here for a long time', 'he s financially dependent on his wife', 'i am finnish but i speak also swedish', 'i am finnish but i speak also swedish', 'i am certain that he will quit his job', 'i am going to make him a serious offer', 'i am going to see the dentist tomorrow', 'i am grateful to you for your kindness', 'i am grateful to you for your kindness', 'i am in charge of the third year class', 'i am much obliged to you for your help', 'i am much obliged to you for your help', 'i am so sorry to have kept you waiting', 'i am so sorry to have kept you waiting', 'i am so sorry to have kept you waiting', 'i am supposed to go to tokyo next week', 'i am to take over my father s business', 'i m afraid it s going to rain tomorrow', 'i m afraid it s going to rain tomorrow', 'i m afraid there isn t any coffee left', 'i m almost done just give me a minute', 'i m capable of making my own decisions', 'i m capable of making my own decisions', 'i m glad to hear that she is unmarried', 'i m going to join the school orchestra', 'i m having a very difficult time today', 'i m just looking forward to going home', 'i m looking forward to seeing you soon', 'i m looking forward to seeing you soon', 'i m looking forward to seeing you soon', 'i m never gonna let her live that down', 'i m not accustomed to getting up early', 'i m not trying to make you feel guilty', 'i m really concerned about your future', 'i m sorry if this is a stupid question', 'i m sorry if this is a stupid question', 'i m supposed to be the one helping you', 'i m supposed to be the one helping you', 'i m supposed to be the one helping you', 'i m supposed to be the one helping you', 'i m the one who asked you the question', 'i m the one who brought the subject up', 'i m the one who brought the subject up', 'i m the one who should be thanking you', 'i m very interested in learning french', 'she is a student who studies very hard', 'she is completely deaf in her left ear', 'she is determined to leave the company', 'she is living in the middle of nowhere', 'she is old enough to travel by herself', 'she s been in the hospital for a month', 'she s much better today than yesterday', 'she s suffering from a serious disease', 'she s young enough to be your daughter', 'they are both working at the pet store', 'they are currently attending a meeting', 'they re both in love with the same guy', 'they re both in love with the same guy', 'they re studying french and web design', 'we are entering a new phase in the war', 'we are happy to have you join our team', 'we are looking forward to the holidays', 'we re going to get in trouble for that', 'we re still getting to know each other', 'you are the one that i was looking for', 'you re enjoying yourselves aren t you ?', 'you re feeling very sleepy aren t you ?', 'you re feeling very sleepy aren t you ?', 'you re going to have to deal with that', 'you re going to have to deal with that', 'you re the only one who understands me', 'you re the only one who understands me', 'you re the only one who understands me', 'you re the only one who understands me', 'you re too suspicious about everything', 'you re too suspicious about everything', 'you re too suspicious about everything', 'you re too suspicious about everything', 'he is going to drive you to the airport', 'he is now in a very difficult situation', 'he is what we call a walking dictionary', 'he s always complaining about something', 'he s not the brightest guy in the world', 'he s spending too much time watching tv', 'i am ashamed of having been rude to her', 'i am bound to him by a close friendship', 'i am far from satisfied with the result', 'i am happy to have so many good friends', 'i am thinking of going abroad next year', 'i am thinking of going to the mountains', 'i m beginning to get used to doing this', 'i m beginning to get used to doing this', 'i m beginning to get used to doing this', 'i m drunk but i can still speak german', 'i m far from happy about this situation', 'i m going to have to change my schedule', 'i m going to stay here for several days', 'i m happy to see so many friendly faces', 'i m looking forward to hearing from you', 'i m looking forward to hearing from you', 'i m looking forward to seeing you again', 'i m looking forward to seeing you dance', 'i m looking forward to seeing you dance', 'i m looking forward to seeing you dance', 'i m old enough to make my own decisions', 'i m proud to be working on this project', 'i m sick of listening to her complaints', 'i m sorry for not being more supportive', 'i m sorry for not being more supportive', 'i m sorry for not being more supportive', 'i m sorry for not being more supportive', 'i m sorry to cause you all this trouble', 'i m starting to get used to living here', 'i m the second oldest of three children', 'i m tired of listening to your bragging', 'i m used to being ignored by my parents', 'i m used to being ignored by my parents', 'she is interested in learning new ideas', 'she is now staying at her uncle s house', 'she is singing the latest popular songs', 'she is singing the latest popular songs', 'she s always complaining about the food', 'she s terrified of talking to strangers', 'they are looking for a house to live in', 'they re both in love with the same girl', 'they re going to have a party next week', 'we are familiar with that author s name', 'we are measuring the depth of the river', 'we are working in the interest of peace', 'we re going out to get something to eat', 'we re going to need your help after all', 'we re just about finished with this job', 'you are free to leave any time you wish', 'you are holding my hand in that picture', 'you are not supposed to smoke at school', 'you are not supposed to smoke at school', 'you are not supposed to smoke at school', 'you are not supposed to smoke at school', 'you are not supposed to smoke at school', 'you are welcome to do anything you like', 'you aren t listening to what i m saying', 'you aren t listening to what i m saying', 'you re going to have to stop doing that', 'you re going to have to stop doing that', 'you re not looking at the whole picture', 'you re not looking at the whole picture', 'you re taking advantage of her weakness', 'you re taking advantage of her weakness', 'he is a diplomat at the american embassy', 'he is a little light for a sumo wrestler', 'he is a very irritating critic of others', 'he is always trying to do the impossible', 'he is not running in the coming election', 'he is slowly recovering from his illness', 'he is studying history at the university', 'he s a well known television personality', 'he s always on time for his appointments', 'he s very proud of his custom motorcycle', 'he s worried about his receding hairline', 'i am afraid of what the teacher will say', 'i am confronted with a difficult problem', 'i am looking forward to seeing you again', 'i am looking forward to seeing you again', 'i am looking forward to seeing you again', 'i am looking forward to seeing you again', 'i am looking forward to seeing you again', 'i am looking forward to seeing you again', 'i am sure of his passing the examination', 'i am thinking about buying a new parasol', 'i m afraid he will never admit his guilt', 'i m afraid that she ll refuse my request', 'i m considered a traitor to this country', 'i m fond of listening to classical music', 'i m getting the hang of this new machine', 'i m getting the hang of this new machine', 'i m going to go buy some materials today', 'i m going to the country with my friends', 'i m just going across to the flower shop', 'i m on a really tight schedule this week', 'i m sick and tired of all this bickering', 'i m sick and tired of all this bickering', 'i m sick of listening to your complaints', 'i m sorry that you ve been badly injured', 'i m sorry i m partly responsible for it', 'i m the one responsible for the accident', 'i m very happy to make your acquaintance', 'i m wearing my swimsuit under my clothes', 'she is always at the bottom of the class', 'she is always at the bottom of the class', 'she is always forgetting my phone number', 'she is anxious about her father s health', 'she is busy preparing for an examination', 'she is exceedingly sensitive to the cold', 'she is no less beautiful than her mother', 'she s practicing the piano day and night', 'they re expressing their love by hugging', 'we are all but ready for the cold winter', 'we are encouraged to use our imagination', 'we re expecting a good harvest this year', 'we re expecting a good harvest this year', 'we re looking forward to your being here', 'we re very grateful for your hospitality', 'you are carrying your joke a bit too far', 'you are sure to succeed whatever you do', 'you re always disagreeing with your boss', 'you re not really a millionaire are you ?', 'you re not really a millionaire are you ?', 'he is a doctor and a university professor', 'he is completely absorbed in his business', 'he is concerned about his parent s health', 'he is rich but his older brother is poor', 'i am certain that you have noble thoughts', 'i am constantly forgetting people s names', 'i am expecting some serious work from you', 'i am very grateful to you for your advice', 'i am very thankful to you for your advice', 'i am working hard trying to learn english', 'i m fed up with your constant complaining', 'i m looking forward to seeing your father', 'i m sorry but i already have a boyfriend', 'i m sorry but i already have a boyfriend', 'i m sorry but i already have a boyfriend', 'i m thinking of embarking on a new career', 'i m wondering whether to take on that job', 'she is a particularily interesting person', 'she is more an acquaintance than a friend', 'she is not only intelligent but beautiful', 'they are chiseling a statue out of marble', 'they are fascinated by blood and violence', 'they are matters which we need to discuss', 'they re taking mary to the emergency room', 'we are all looking forward to your coming', 'we are doing business with many countries', 'we are doing business with many countries', 'we are going to travel abroad this summer', 'we are looking forward to seeing you soon', 'we re getting nowhere with those problems', 'we re going to see a foreign film tonight', 'you re always complaining about something', 'you re more beautiful than i remember you', 'you re not even close to the right answer', 'you re not the only one with this problem', 'you re not the only one with this problem', 'you re not the only one with this problem', 'you re not the only one with this problem', 'you re not the only one with this problem', 'you re not the only one with this problem', 'you re running a big risk in trusting him', 'you re spending too much time watching tv', 'you re spending too much time watching tv', 'he is absorbed in reading detective novels', 'he is absorbed in reading detective novels', 'he is the president of the company in fact', 'he is working hard to pass the examination', 'he s always breaking into our conversation', 'he s back from his travels in central asia', 'he s been doing this for over twenty years', 'i am interested in the cello and the piano', 'i am tired of listening to his long speech', 'i am tired of listening to his long speech', 'i am writing to express my dissatisfaction', 'i m breaking up with my girlfriend tonight', 'i m breaking up with my girlfriend tonight', 'i m breaking up with my girlfriend tonight', 'i m economically independent of my parents', 'i m getting a master s degree in education', 'i m going to have to cancel my appointment', 'i m just writing a letter to my girlfriend', 'i m just writing a letter to my girlfriend', 'i m looking forward to the summer vacation', 'i m planning to stay at the hillside hotel', 'i m seriously considering moving to boston', 'i m sorry if my being here embarrasses you', 'i m sorry if my being here embarrasses you', 'i m sorry if my being here embarrasses you', 'i m sorry if my being here embarrasses you', 'i m sorry but i already have a girlfriend', 'i m the spokesperson for this organization', 'i m the spokesperson for this organization', 'i m washing my hands because they re dirty', 'she is an efficient and reliable assistant', 'she is on the verge of a nervous breakdown', 'they are talking about what they will sing', 'they are willing to talk about the problem', 'they are willing to talk about the problem', 'we are going to visit our aunt next sunday', 'we are looking forward to seeing you again', 'we re having some guests over this evening', 'you are acting like a three year old child', 'you are responsible for what you have done', 'you re crazy to buy such an expensive bike', 'you re starting to sound like your old man', 'he is a recognized authority on the subject', 'he is precisely the one you are looking for', 'he is precisely the one you are looking for', 'he s spending too much time on the computer', 'i am alarmed by your irresponsible attitude', 'i am alarmed by your irresponsible attitude', 'i am thinking of closing my savings account', 'i m amazed at his rapid progress in english', 'i m looking forward to receiving your reply', 'i m looking forward to receiving your reply', 'i m looking forward to the return of spring', 'i m planning to disguise myself as a doctor', 'i m putting all my effort into this project', 'i m so grateful to you for this opportunity', 'i m sure everything will work out just fine', 'i m sure everything will work out just fine', 'she is what one would call a cultured woman', 'they re having a going out of business sale', 'we are having trouble with our new neighbor', 'we re going to another party after this one', 'we re going to discuss the problem tomorrow', 'you re the most beautiful girl in the world', 'you re the most beautiful girl in the world', 'he is always finding fault with other people', 'he is amusing himself by playing video games', 'he is bound to pass the entrance examination', 'he is concerned about the result of the exam', 'he is leaving narita for hawaii this evening', 'he is proficient in both spanish and italian', 'he is still grappling with religious beliefs', 'he is well acquainted with french literature', 'he s an interpreter in an international bank', 'i am looking for a book about medieval spain', 'i m constantly telling her to behave herself', 'i m going to work during the spring vacation', 'i m looking forward to hearing from you soon', 'she is always finding fault with her husband', 'she is going to wash the bike this afternoon', 'she is good at making up interesting stories', 'she is more of an acquaintance than a friend', 'she s been feeling a little on edge recently', 'they re constructing a bridge over the river', 'they re eating dinner now in the dining room', 'they re eating dinner now in the dining room', 'they re eating dinner now in the dining room', 'they re eating dinner now in the dining room', 'we are expecting the publication of his book', 'we are going to have a meeting here tomorrow', 'we re facing a much bigger problem than that', 'we re keeping all options open at this point', 'you are too critical of others shortcomings', 'you are too critical of others shortcomings', 'you re probably too young to understand this', 'you re probably too young to understand this', 'you re the most beautiful woman in the world', 'you re the most beautiful woman in the world', 'you re the only person that can persuade him', 'he is fighting with his back against the wall', 'he is one of the greatest scientists in japan', 'i am already forgetting my grandmother s face', 'i am deeply grateful to you for your kindness', 'i am deeply grateful to you for your kindness', 'i am deeply grateful to you for your kindness', 'i am looking forward to hearing from you soon', 'i am looking forward to seeing you again soon', 'i am very happy to hear about your engagement', 'i m looking forward to seeing you next sunday', 'i m nervous when speaking in another language', 'i m nervous when speaking in another language', 'i m planning on staying at his place tomorrow', 'i m thinking of learning korean next semester', 'she is always complaining of her small salary', 'she is always finding fault with other people', 'she is proficient in both spanish and italian', 'she s very susceptible to hypnotic suggestion', 'we re investigating the murder of tom jackson', 'we re moving out of this apartment next month', 'you re spending too much time on the computer', 'you re spending too much time on the computer', 'he is very much interested in japanese history', 'i am looking forward to seeing you next sunday', 'i m still having the same dream about drowning', 'she is not only beautiful but also intelligent', 'she is the one you should model yourself after', 'she is the one you should model yourself after', 'she is trying to prove the existence of ghosts', 'she is trying to prove the existence of ghosts', 'we re investigating the deaths of tom and mary', 'we re trying to have a serious discussion here', 'you re exposing yourself to a lot of criticism', 'you re probably tired after such a long flight', 'you re probably tired after such a long flight', 'you re probably tired after such a long flight', 'you re probably tired after such a long flight', 'he is a scientist who is respected by everybody', 'i m getting back together with my ex girlfriend', 'i m getting back together with my ex girlfriend', 'we re in the process of remodelling our kitchen', 'he is carrying out experiments in his laboratory', 'i am not accustomed to making speeches in public', 'i m beginning to understand why tom loves boston', 'i m having some problems compiling this software', 'they are collecting contributions for the church', 'we re looking for an apartment with two bedrooms', 'he is busy preparing for the entrance examination', 'he is capable of teaching both english and french', 'he is one of the american presidential candidates', 'he is one of the american presidential candidates', 'he is well acquainted with the history of england', 'she is going to visit her grandmother on saturday', 'he is in charge of entertaining the foreign guests', 'we are responsible for your protection from now on', 'i m getting pretty bored with driving every morning', 'he is good at solving complicated mathematical problems', 'i am looking forward to receiving your favorable answer', 'he s an accredited representative of the canadian government', 'he s an accredited representative of the canadian government']\n"
          ]
        }
      ]
    },
    {
      "cell_type": "code",
      "execution_count": null,
      "metadata": {
        "id": "mpdPQQMSjsZg"
      },
      "outputs": [],
      "source": [
        "#from flair.data import Sentence"
      ]
    },
    {
      "cell_type": "code",
      "execution_count": null,
      "metadata": {
        "id": "7TuHubbejsZi"
      },
      "outputs": [],
      "source": [
        "# from flair.embeddings import TransformerWordEmbeddings\n",
        "# bert = TransformerWordEmbeddings('bert-base-uncased', layers='-1')"
      ]
    },
    {
      "cell_type": "code",
      "execution_count": null,
      "metadata": {
        "id": "KNF-mujajsZm"
      },
      "outputs": [],
      "source": [
        "# def get_embeddings(embeddings, sentence):\n",
        "#     sent = Sentence(sentence)\n",
        "#     embeddings.embed(sent)\n",
        "#     return torch.stack([token.embedding for token in sent.tokens]).float()"
      ]
    },
    {
      "cell_type": "code",
      "source": [
        "#train_dataset_doc = [get_embeddings(bert, row) for row in english_sentences]"
      ],
      "metadata": {
        "id": "NkBiJz23k2b4"
      },
      "execution_count": null,
      "outputs": []
    },
    {
      "cell_type": "code",
      "source": [
        "#torch.stack(train_dataset_doc) # Embeddings for each word in a sentence\n",
        "# ToDo: these embeddings have different sequence length because each sentence had different length, so do something about it."
      ],
      "metadata": {
        "id": "6t4d2NiloRgN"
      },
      "execution_count": null,
      "outputs": []
    },
    {
      "cell_type": "markdown",
      "source": [
        "### Preproccessing embedding (New steps)-\n",
        "Only run this cell if you are using **Encoder Decoder using preprocessed embeddings cell**"
      ],
      "metadata": {
        "id": "EpqWzSuyAt_B"
      }
    },
    {
      "cell_type": "code",
      "source": [
        "import pandas as pd\n",
        "import numpy as np\n",
        "import torch"
      ],
      "metadata": {
        "id": "Mz-TqIjvApxJ"
      },
      "execution_count": null,
      "outputs": []
    },
    {
      "cell_type": "code",
      "source": [
        "from transformers import BertModel, BertTokenizer\n",
        "model_bert = BertModel.from_pretrained('bert-base-uncased', output_hidden_states = True,)\n",
        "tokenizer = BertTokenizer.from_pretrained('bert-base-uncased')"
      ],
      "metadata": {
        "id": "SPgfP9sdAtH8"
      },
      "execution_count": null,
      "outputs": []
    },
    {
      "cell_type": "code",
      "source": [
        "MAX_LENGTH = 10"
      ],
      "metadata": {
        "id": "yfPz1fhRUKH-"
      },
      "execution_count": null,
      "outputs": []
    },
    {
      "cell_type": "code",
      "source": [
        "text = \"he eventually sold the shares back to the bank at a premium.\"\n",
        "marked_text = \"[CLS] \" + text + \" [SEP]\"\n",
        "tokenized_text_1 = tokenizer.tokenize(marked_text)\n",
        "tokenized_text = tokenizer(text, max_length=MAX_LENGTH, padding=\"max_length\", truncation=True, return_tensors=\"pt\") # automatically adds [CLS] and [SEP] tokens\n",
        "indexed_tokens = tokenizer.convert_tokens_to_ids(tokenized_text_1)\n",
        "\n",
        "print(f\"tokenized_text: {tokenized_text_1}, \\ntokenized_text: {tokenized_text['input_ids']}, \\ntokenized_text_1 indexed tokens: {indexed_tokens}\")"
      ],
      "metadata": {
        "colab": {
          "base_uri": "https://localhost:8080/"
        },
        "id": "x_lptnF3TWtX",
        "outputId": "4d0c8cd9-fae7-4eca-b40f-797b00e667bc"
      },
      "execution_count": null,
      "outputs": [
        {
          "output_type": "stream",
          "name": "stdout",
          "text": [
            "tokenized_text: ['[CLS]', 'he', 'eventually', 'sold', 'the', 'shares', 'back', 'to', 'the', 'bank', 'at', 'a', 'premium', '.', '[SEP]'], \n",
            "tokenized_text: tensor([[ 101, 2002, 2776, 2853, 1996, 6661, 2067, 2000, 1996,  102]]), \n",
            "tokenized_text_1 indexed tokens: [101, 2002, 2776, 2853, 1996, 6661, 2067, 2000, 1996, 2924, 2012, 1037, 12882, 1012, 102]\n"
          ]
        }
      ]
    },
    {
      "cell_type": "code",
      "source": [
        "def bert_text_preparation(text, tokenizer):\n",
        "  \"\"\"\n",
        "  Preprocesses text input in a way that BERT can interpret.\n",
        "  \"\"\"\n",
        "  #marked_text = \"[CLS] \" + text + \" [SEP]\"\n",
        "  #tokenized_text = tokenizer.tokenize(marked_text)\n",
        "  #indexed_tokens = tokenizer.convert_tokens_to_ids(tokenized_text)\n",
        "  #segments_ids = [1]*len(indexed_tokens)\n",
        "  # convert inputs to tensors\n",
        "  #tokens_tensor = torch.tensor([indexed_tokens])\n",
        "  tokens_tensor = tokenizer(text, max_length=MAX_LENGTH, padding=\"max_length\", truncation=True, return_tensors=\"pt\") # automatically adds [CLS] and [SEP] tokens\n",
        "  #segments_tensor = torch.tensor([segments_ids])\n",
        "  return tokens_tensor['input_ids']"
      ],
      "metadata": {
        "id": "zIaCjpgBAzvd"
      },
      "execution_count": null,
      "outputs": []
    },
    {
      "cell_type": "code",
      "source": [
        "def get_bert_embeddings(tokens_tensor, model):\n",
        "    \"\"\"\n",
        "    Obtains BERT embeddings for tokens.\n",
        "    \"\"\"\n",
        "    # gradient calculation id disabled\n",
        "    with torch.no_grad():\n",
        "      # obtain hidden states\n",
        "      outputs = model(tokens_tensor)\n",
        "      hidden_states = outputs[2]    # concatenate the tensors for all layers\n",
        "    # use \"stack\" to create new dimension in tensor\n",
        "    token_embeddings = torch.stack(hidden_states, dim=0)    # remove dimension 1, the \"batches\"\n",
        "    token_embeddings = torch.squeeze(token_embeddings, dim=1)    # swap dimensions 0 and 1 so we can loop over tokens\n",
        "    #print(f\"token_embeddings_stacked_squeezed size: {token_embeddings.size()}\")\n",
        "    token_embeddings = token_embeddings.permute(1,0,2)    # intialized list to store embeddings\n",
        "    token_vecs_sum = []    # \"token_embeddings\" is a [Y x 12 x 768] tensor\n",
        "    # where Y is the number of tokens in the sentence    # loop over tokens in sentence\n",
        "    for token in token_embeddings:    # \"token\" is a [12 x 768] tensor    # sum the vectors from the last four layers\n",
        "        sum_vec = torch.sum(token[-4:], dim=0)\n",
        "        token_vecs_sum.append(sum_vec)\n",
        "    return token_vecs_sum"
      ],
      "metadata": {
        "id": "GHLEhGz3A5Z_"
      },
      "execution_count": null,
      "outputs": []
    },
    {
      "cell_type": "code",
      "source": [
        "sentence = \"he eventually sold the shares back to the bank at a premium.\"\n",
        "tokens_tensor = bert_text_preparation(sentence, tokenizer)\n",
        "with torch.no_grad():\n",
        "      # obtain hidden states\n",
        "      outputs = model_bert(tokens_tensor)\n",
        "      hidden_states = outputs[2]\n",
        "# use \"stack\" to create new dimension in tensor\n",
        "token_embeddings = torch.stack(hidden_states, dim=0)    # remove dimension 1, the \"batches\"\n",
        "token_embeddings = torch.squeeze(token_embeddings, dim=1)    # swap dimensions 0 and 1 so we can loop over tokens\n",
        "#print(f\"token_embeddings_stacked_squeezed size: {token_embeddings.size()}\")\n",
        "token_embeddings = token_embeddings.permute(1,0,2)\n",
        "token_vecs_sum = []    # \"token_embeddings\" is a [Y x 12 x 768] tensor\n",
        "    # where Y is the number of tokens in the sentence    # loop over tokens in sentence\n",
        "for token in token_embeddings:    # \"token\" is a [12 x 768] tensor    # sum the vectors from the last four layers\n",
        "    sum_vec = torch.sum(token[-4:], dim=0)\n",
        "    token_vecs_sum.append(sum_vec)\n",
        "print(len(token_vecs_sum)) # A list of token embeddings for each sentence"
      ],
      "metadata": {
        "colab": {
          "base_uri": "https://localhost:8080/"
        },
        "id": "gAHJf4-_l_3O",
        "outputId": "f1ced50c-a8c0-4c0b-b082-6b6237b5fd9a"
      },
      "execution_count": null,
      "outputs": [
        {
          "output_type": "stream",
          "name": "stdout",
          "text": [
            "10\n"
          ]
        }
      ]
    },
    {
      "cell_type": "code",
      "source": [
        "sentences = [\"bank\",\n",
        "         \"he eventually sold the shares back to the bank at a premium.\",\n",
        "         \"the bank strongly resisted cutting interest rates.\",\n",
        "         \"the bank will supply and buy back foreign currency.\",\n",
        "         \"the bank is pressing us for repayment of the loan.\",\n",
        "         \"the bank left its lending rates unchanged.\",\n",
        "         \"the river flowed over the bank.\",\n",
        "         \"tall, luxuriant plants grew along the river bank.\",\n",
        "         \"his soldiers were arrayed along the river bank.\",\n",
        "         \"wild flowers adorned the river bank.\",\n",
        "         \"two fox cubs romped playfully on the river bank.\",\n",
        "         \"the jewels were kept in a bank vault.\",\n",
        "         \"you can stow your jewellery away in the bank.\",\n",
        "         \"most of the money was in storage in bank vaults.\",\n",
        "         \"the diamonds are shut away in a bank vault somewhere.\",\n",
        "         \"thieves broke into the bank vault.\",\n",
        "         \"can I bank on your support?\",\n",
        "         \"you can bank on him to hand you a reasonable bill for your services.\",\n",
        "         \"don't bank on your friends to help you out of trouble.\",\n",
        "         \"you can bank on me when you need money.\",\n",
        "         \"i bank on your help.\"\n",
        "         ]\n",
        "\n",
        "from collections import OrderedDict\n",
        "context_embeddings = []\n",
        "context_tokens = []\n",
        "count = 0\n",
        "\n",
        "for sentence in sentences:\n",
        "  tokens_tensor = bert_text_preparation(sentence, tokenizer)\n",
        "  #print(f\"tokens_tensor: {tokens_tensor}\")\n",
        "  list_token_embeddings = get_bert_embeddings(tokens_tensor, model_bert)  # make ordered dictionary to keep track of the position of each   word\n",
        "  context_embeddings.append(list_token_embeddings)\n",
        "  #print(f\"list_token_embedding: {list_token_embeddings}\")\n",
        "\n",
        "  # Remove me\n",
        "  #if count == 2: break\n",
        "  #count += 1\n",
        "\n",
        "#   tokens = OrderedDict()  # loop over tokens in sensitive sentence\n",
        "#   for token in tokenized_text[1:-1]:\n",
        "#     # keep track of position of word and whether it occurs multiple times\n",
        "#     if token in tokens:\n",
        "#       tokens[token] += 1\n",
        "#     else:\n",
        "#       tokens[token] = 1  # compute the position of the current token\n",
        "#     token_indices = [i for i, t in enumerate(tokenized_text) if t == token]\n",
        "#     current_index = token_indices[tokens[token]-1]  # get the corresponding embedding\n",
        "#     token_vec = list_token_embeddings[current_index]\n",
        "\n",
        "#     # save values\n",
        "#     context_tokens.append(token)\n",
        "#    context_embeddings.append(list_token_embeddings)"
      ],
      "metadata": {
        "id": "pidELh40BBXf"
      },
      "execution_count": null,
      "outputs": []
    },
    {
      "cell_type": "code",
      "source": [
        "# Convert the list of lists of tensors to a three-dimensional tensor\n",
        "context_embeddings_tensor = torch.stack([torch.stack(embeddings) for embeddings in context_embeddings], dim=0)\n",
        "\n",
        "print(context_embeddings_tensor.shape)  # This will be of shape (N, L, H)"
      ],
      "metadata": {
        "colab": {
          "base_uri": "https://localhost:8080/"
        },
        "id": "W7gB5WhwwSBK",
        "outputId": "43f7e779-8f06-4e15-e2f8-0bb008d4efc7"
      },
      "execution_count": null,
      "outputs": [
        {
          "output_type": "stream",
          "name": "stdout",
          "text": [
            "torch.Size([21, 10, 768])\n"
          ]
        }
      ]
    },
    {
      "cell_type": "code",
      "source": [
        "input_lang, output_lang, pairs = prepareData('eng', 'fra', True)\n",
        "print(random.choice(pairs))"
      ],
      "metadata": {
        "colab": {
          "base_uri": "https://localhost:8080/"
        },
        "id": "rXemiLnm_5gZ",
        "outputId": "a8871ad0-1de0-461f-9d77-d84b665840c8"
      },
      "execution_count": null,
      "outputs": [
        {
          "output_type": "stream",
          "name": "stdout",
          "text": [
            "Reading lines...\n",
            "Read 135842 sentence pairs\n",
            "Trimmed to 11445 sentence pairs\n",
            "Counting words...\n",
            "Counted words:\n",
            "fra 4601\n",
            "eng 2991\n",
            "['je suis un etranger ici', 'i m a stranger here']\n"
          ]
        }
      ]
    },
    {
      "cell_type": "code",
      "source": [
        "inputs = [pair[0] for pair in pairs]\n",
        "print(inputs[:40])"
      ],
      "metadata": {
        "colab": {
          "base_uri": "https://localhost:8080/"
        },
        "id": "9XnwECZQ_6ls",
        "outputId": "27e530ba-cfea-49b9-94db-b364f284f9e9"
      },
      "execution_count": null,
      "outputs": [
        {
          "output_type": "stream",
          "name": "stdout",
          "text": [
            "['je vais bien', 'ca va', 'je suis gras', 'je suis gros', 'je suis en forme', 'je suis touche !', 'je suis touchee !', 'je suis malade', 'je suis triste', 'je suis timide', 'je suis mouille', 'je suis mouillee', 'il est mouille', 'je suis gras', 'je suis revenu', 'me revoila', 'je suis chauve', 'je suis occupe', 'je suis occupee', 'je suis calme', 'j ai froid', 'j en ai fini', 'tout va bien', 'je vais bien', 'ca va', 'je suis libre !', 'je suis libre', 'je suis disponible', 'je suis repu !', 'je suis rassasie !', 'je suis content', 'je suis chez moi', 'je suis en retard', 'je suis paresseux', 'je suis faineant', 'je suis paresseuse', 'je suis faineante', 'je vais bien', 'je me porte bien', 'je suis en securite']\n"
          ]
        }
      ]
    },
    {
      "cell_type": "code",
      "source": [
        "inputs = [pair[0] for pair in pairs]\n",
        "context_embeddings = []\n",
        "context_tokens = []\n",
        "count = 0\n",
        "\n",
        "for sentence in inputs[:20]:\n",
        "    tokens_tensor = bert_text_preparation(sentence, tokenizer)\n",
        "        #print(f\"tokens_tensor: {tokens_tensor}\")\n",
        "    list_token_embeddings = get_bert_embeddings(tokens_tensor, model)  # make ordered dictionary to keep track of the position of each   word\n",
        "    context_embeddings.append(list_token_embeddings)\n",
        "\n",
        "context_embeddings_tensor = torch.stack([torch.stack(embeddings) for embeddings in context_embeddings], dim=0)\n",
        "    #print(f\"context_embeddings_tensor: {context_embeddings_tensor}\")\n",
        "train_data = TensorDataset(context_embeddings_tensor.to(device))\n",
        "train_sampler = RandomSampler(train_data)\n",
        "train_dataloader = DataLoader(train_data, sampler=train_sampler, batch_size=4)"
      ],
      "metadata": {
        "id": "QlYuE9Cx_NAO"
      },
      "execution_count": null,
      "outputs": []
    },
    {
      "cell_type": "code",
      "source": [
        "for data in train_dataloader:\n",
        "    print(data[0].size())\n",
        "    break"
      ],
      "metadata": {
        "colab": {
          "base_uri": "https://localhost:8080/"
        },
        "id": "YFKKX-GrEBIp",
        "outputId": "486c8010-6174-4d57-f8cc-e12017eafea2"
      },
      "execution_count": null,
      "outputs": [
        {
          "output_type": "stream",
          "name": "stdout",
          "text": [
            "torch.Size([4, 10, 768])\n"
          ]
        }
      ]
    },
    {
      "cell_type": "code",
      "source": [
        "def generate_embeddings(n_pairs=None):\n",
        "\n",
        "    #input_lang, output_lang, pairs = readLangs('eng', 'fra', True)\n",
        "    input_lang, output_lang, pairs = prepareData('eng', 'fra', True)\n",
        "\n",
        "    if n_pairs is not None:\n",
        "        pairs = pairs[:n_pairs]  # remove me\n",
        "\n",
        "    # Extract French sentences into a separate list\n",
        "    #input_sentences = [pair[0] for pair in pairs]\n",
        "    #target_sentences = [pair[1] for pair in pairs]\n",
        "\n",
        "    context_embeddings = []\n",
        "    input_context_tokens = []\n",
        "    target_context_tokens = []\n",
        "    count = 0\n",
        "\n",
        "    for input_sentence, target_sentence in pairs:\n",
        "        input_tokens_tensor = bert_text_preparation(input_sentence, tokenizer)\n",
        "        target_tokens_tensor = bert_text_preparation(target_sentence, tokenizer)\n",
        "        #print(f\"tokens_tensor: {tokens_tensor}\")\n",
        "        list_token_embeddings = get_bert_embeddings(input_tokens_tensor, model)  # make ordered dictionary to keep track of the position of each   word\n",
        "        #print(f\"input_tokens_tensor:\\n{input_tokens_tensor},\\ntarget_tokens_tensor:\\n{target_tokens_tensor}\")\n",
        "        context_embeddings.append(list_token_embeddings)\n",
        "        input_context_tokens.append(input_tokens_tensor)\n",
        "        target_context_tokens.append(target_tokens_tensor)\n",
        "\n",
        "    context_embeddings_tensor = torch.stack([torch.stack(embeddings) for embeddings in context_embeddings], dim=0)\n",
        "\n",
        "    # Convert the list of tensors to a three-dimensional tensor\n",
        "    input_context_tokens_tensor = torch.stack(input_context_tokens, dim=0)\n",
        "    target_context_tokens_tensor = torch.stack(target_context_tokens, dim=0)\n",
        "\n",
        "    # Remove the middle dimension with size 1\n",
        "    input_context_tokens_tensor = input_context_tokens_tensor.squeeze(dim=1)\n",
        "    target_context_tokens_tensor = target_context_tokens_tensor.squeeze(dim=1)\n",
        "\n",
        "    return context_embeddings_tensor, input_context_tokens_tensor, target_context_tokens_tensor"
      ],
      "metadata": {
        "id": "GXMILg3BVzb4"
      },
      "execution_count": null,
      "outputs": []
    },
    {
      "cell_type": "code",
      "source": [
        "context_embeddings_tensor, input_context_tokens_tensor, target_context_tokens_tensor = generate_embeddings(n_pairs=10)"
      ],
      "metadata": {
        "colab": {
          "base_uri": "https://localhost:8080/"
        },
        "id": "H5jGjTBRWOiJ",
        "outputId": "0ba67b5c-655d-4115-986b-511a1188728a"
      },
      "execution_count": null,
      "outputs": [
        {
          "output_type": "stream",
          "name": "stdout",
          "text": [
            "Reading lines...\n",
            "Read 135842 sentence pairs\n",
            "Trimmed to 11445 sentence pairs\n",
            "Counting words...\n",
            "Counted words:\n",
            "fra 4601\n",
            "eng 2991\n"
          ]
        }
      ]
    },
    {
      "cell_type": "code",
      "source": [
        "print(f\"input_context_tokens_tensor:\\n{input_context_tokens_tensor}, \\ntarget_context_tokens_tensor:\\n{target_context_tokens_tensor}\")"
      ],
      "metadata": {
        "colab": {
          "base_uri": "https://localhost:8080/"
        },
        "id": "ypF5L2H1cMkP",
        "outputId": "33de45d1-2c9b-458a-abce-6607e56d7562"
      },
      "execution_count": null,
      "outputs": [
        {
          "output_type": "stream",
          "name": "stdout",
          "text": [
            "input_context_tokens_tensor:\n",
            "tensor([[  101, 15333, 12436,  2483, 29316,   102,     0,     0,     0,     0],\n",
            "        [  101,  6187, 12436,   102,     0,     0,     0,     0,     0,     0],\n",
            "        [  101, 15333, 24086,  2015, 24665,  3022,   102,     0,     0,     0],\n",
            "        [  101, 15333, 24086,  2015, 24665,  2891,   102,     0,     0,     0],\n",
            "        [  101, 15333, 24086,  2015,  4372,  2433,  2063,   102,     0,     0],\n",
            "        [  101, 15333, 24086,  2015,  3543,  2063,   999,   102,     0,     0],\n",
            "        [  101, 15333, 24086,  2015,  3543,  4402,   999,   102,     0,     0],\n",
            "        [  101, 15333, 24086,  2015, 28935,  3207,   102,     0,     0,     0],\n",
            "        [  101, 15333, 24086,  2015, 13012, 13473,   102,     0,     0,     0],\n",
            "        [  101, 15333, 24086,  2015,  5199,  5178,   102,     0,     0,     0]]), \n",
            "target_context_tokens_tensor:\n",
            "tensor([[  101,  1045,  1049,  7929,   102,     0,     0,     0,     0,     0],\n",
            "        [  101,  1045,  1049,  7929,   102,     0,     0,     0,     0,     0],\n",
            "        [  101,  1045,  1049,  6638,   102,     0,     0,     0,     0,     0],\n",
            "        [  101,  1045,  1049,  6638,   102,     0,     0,     0,     0,     0],\n",
            "        [  101,  1045,  1049,  4906,   102,     0,     0,     0,     0,     0],\n",
            "        [  101,  1045,  1049,  2718,   999,   102,     0,     0,     0,     0],\n",
            "        [  101,  1045,  1049,  2718,   999,   102,     0,     0,     0,     0],\n",
            "        [  101,  1045,  1049,  5665,   102,     0,     0,     0,     0,     0],\n",
            "        [  101,  1045,  1049,  6517,   102,     0,     0,     0,     0,     0],\n",
            "        [  101,  1045,  1049, 11004,   102,     0,     0,     0,     0,     0]])\n"
          ]
        }
      ]
    },
    {
      "cell_type": "code",
      "source": [
        "#@title Preprocessed embeddings dataloader\n",
        "\n",
        "def get_dataloader(batch_size, n_pairs=None):\n",
        "    context_embeddings_tensor, input_context_tokens_tensor, target_context_tokens_tensor = generate_embeddings(n_pairs)\n",
        "\n",
        "    print(\"worked so far\")\n",
        "    #target_ids = np.zeros((n, MAX_LENGTH), dtype=np.int32)\n",
        "\n",
        "    # Extract French sentences into a separate list\n",
        "    #input_sentences = [pair[0] for pair in pairs]\n",
        "\n",
        "    #sentences = []\n",
        "    # for idx, (inp, tgt) in enumerate(pairs):\n",
        "    #     #inp_ids = indexesFromSentence(input_lang, inp)\n",
        "    #     tgt_ids = indexesFromSentence(output_lang, tgt)\n",
        "    #     #inp_ids.append(EOS_token)\n",
        "    #     #sentences.append(inp)\n",
        "    #     tgt_ids.append(EOS_token)\n",
        "    #     #input_ids[idx, :len(inp_ids)] = inp_ids\n",
        "    #     target_ids[idx, :len(tgt_ids)] = tgt_ids\n",
        "\n",
        "    # context_embeddings = []\n",
        "    # context_tokens = []\n",
        "    # count = 0\n",
        "\n",
        "    # for sentence in input_sentences:\n",
        "    #     tokens_tensor = bert_text_preparation(sentence, tokenizer)\n",
        "    #     #print(f\"tokens_tensor: {tokens_tensor}\")\n",
        "    #     list_token_embeddings = get_bert_embeddings(tokens_tensor, model)  # make ordered dictionary to keep track of the position of each   word\n",
        "    #     context_embeddings.append(list_token_embeddings)\n",
        "\n",
        "    # context_embeddings_tensor = torch.stack([torch.stack(embeddings) for embeddings in context_embeddings], dim=0)\n",
        "    #print(f\"context_embeddings_tensor: {context_embeddings_tensor}\")\n",
        "    #train_data = TensorDataset(context_embeddings_tensor.to(device),\n",
        "     #                          torch.LongTensor(target_ids.view(-1)).to(device))\n",
        "    train_data = TensorDataset(input_context_tokens_tensor.to(device), target_context_tokens_tensor.to(device))\n",
        "\n",
        "    train_sampler = RandomSampler(train_data)\n",
        "    train_dataloader = DataLoader(train_data, sampler=train_sampler, batch_size=batch_size)\n",
        "    return input_lang, output_lang, train_dataloader, context_embeddings_tensor.view(-1, context_embeddings_tensor.size(-1))"
      ],
      "metadata": {
        "id": "rbGl7P0uzWUJ"
      },
      "execution_count": null,
      "outputs": []
    },
    {
      "cell_type": "code",
      "source": [
        "input_lang, output_lang, train_dataloader, context_embeddings_tensor = get_dataloader(batch_size=4, n_pairs=10)\n",
        "\n",
        "for data in train_dataloader:\n",
        "    inputs, targets = data\n",
        "    print(f\"inputs type: {type(inputs)}, \\ntargets types: {type(targets)}\")\n",
        "    print(f\"inputs size: {inputs.size()}, \\ntargets size: {targets.size()}\")\n",
        "    print(f\"input_tokens:\\n{inputs}, \\ntarget_tokens:\\n{targets}\")\n",
        "    #print(f\"last input dimension: {inputs.size(-1)}\")\n",
        "    #print(f\"reshaped input dimension: {inputs.view(-1, inputs.size(-1)).size()}\")\n",
        "    break"
      ],
      "metadata": {
        "colab": {
          "base_uri": "https://localhost:8080/"
        },
        "id": "pDFdVz1pzIj8",
        "outputId": "e0f4d512-d749-4f38-a8c4-baf23d26c1f3"
      },
      "execution_count": null,
      "outputs": [
        {
          "output_type": "stream",
          "name": "stdout",
          "text": [
            "Reading lines...\n",
            "Read 135842 sentence pairs\n",
            "Trimmed to 11445 sentence pairs\n",
            "Counting words...\n",
            "Counted words:\n",
            "fra 4601\n",
            "eng 2991\n",
            "worked so far\n",
            "inputs type: <class 'torch.Tensor'>, \n",
            "targets types: <class 'torch.Tensor'>\n",
            "inputs size: torch.Size([4, 10]), \n",
            "targets size: torch.Size([4, 10])\n",
            "input_tokens:\n",
            "tensor([[  101, 15333, 24086,  2015,  4372,  2433,  2063,   102,     0,     0],\n",
            "        [  101, 15333, 12436,  2483, 29316,   102,     0,     0,     0,     0],\n",
            "        [  101, 15333, 24086,  2015,  3543,  2063,   999,   102,     0,     0],\n",
            "        [  101, 15333, 24086,  2015, 13012, 13473,   102,     0,     0,     0]]), \n",
            "target_tokens:\n",
            "tensor([[ 101, 1045, 1049, 4906,  102,    0,    0,    0,    0,    0],\n",
            "        [ 101, 1045, 1049, 7929,  102,    0,    0,    0,    0,    0],\n",
            "        [ 101, 1045, 1049, 2718,  999,  102,    0,    0,    0,    0],\n",
            "        [ 101, 1045, 1049, 6517,  102,    0,    0,    0,    0,    0]])\n"
          ]
        }
      ]
    },
    {
      "cell_type": "code",
      "source": [
        "# import os\n",
        "# filepath = os.path.join('/content/drive/MyDrive/Code_files_and_data/data/projections/')\n",
        "# name = 'metadata_small.tsv'\n",
        "# with open(os.path.join(filepath, name), 'w+') as file_metadata:\n",
        "#   for i, token in enumerate(context_tokens):\n",
        "#     file_metadata.write(token + '\\n')\n",
        "\n",
        "# import csv\n",
        "# name = 'embeddings_small.tsv'\n",
        "# with open(os.path.join(filepath, name), 'w+') as tsvfile:\n",
        "#     writer = csv.writer(tsvfile, delimiter='\\t')\n",
        "#     for embedding in context_embeddings:\n",
        "#         writer.writerow(embedding.numpy())\n",
        "\n",
        "# ## Use the data stored in /content/drive/MyDrive/Code_files_and_data/data/projections/ folder and upload it to tensorboard to visualize"
      ],
      "metadata": {
        "id": "3l6B1X7fBqKA"
      },
      "execution_count": null,
      "outputs": []
    },
    {
      "cell_type": "markdown",
      "metadata": {
        "id": "uK-4WM6MEYpG"
      },
      "source": [
        "# Encoder-Decoder with Attention and RNN\n",
        "Note: I have also included code for simple Decoder that do not use attention."
      ]
    },
    {
      "cell_type": "markdown",
      "metadata": {
        "id": "ZTOl8Wvbg4-f"
      },
      "source": [
        "## Encoder"
      ]
    },
    {
      "cell_type": "code",
      "execution_count": null,
      "metadata": {
        "id": "iYpgN1FlFTKR"
      },
      "outputs": [],
      "source": [
        "class Encoder(nn.Module):\n",
        "    def __init__(self, n_features, hidden_dim):\n",
        "        super().__init__()\n",
        "        self.hidden_dim = hidden_dim\n",
        "        self.n_features = n_features\n",
        "        self.hidden = None\n",
        "        #self.embedding_dimension = 256\n",
        "        self.embd = nn.Embedding(self.n_features, self.hidden_dim)\n",
        "        self.basic_rnn = nn.GRU(self.hidden_dim, self.hidden_dim, batch_first=True)\n",
        "\n",
        "    def forward(self, X):\n",
        "        X_embd = self.embd(X) # N, F -> N, F, H\n",
        "        rnn_out, self.hidden = self.basic_rnn(X_embd) # N, F, H x N, H, H  ->  N, F, H\n",
        "\n",
        "        return rnn_out, self.hidden # N, F, H"
      ]
    },
    {
      "cell_type": "code",
      "execution_count": null,
      "metadata": {
        "id": "B6Npk2H3Zu6D"
      },
      "outputs": [],
      "source": [
        "embd = nn.Embedding(5, 5)\n",
        "rnn = nn.GRU(5, 5, batch_first=True)"
      ]
    },
    {
      "cell_type": "code",
      "execution_count": null,
      "metadata": {
        "colab": {
          "base_uri": "https://localhost:8080/"
        },
        "id": "1miZ7VQPZgQl",
        "outputId": "a70efe39-c8d4-45c1-b1d7-1f75dc3573cc"
      },
      "outputs": [
        {
          "output_type": "execute_result",
          "data": {
            "text/plain": [
              "tensor([[[ 0.7565,  0.5769,  0.1726,  0.0968, -0.3114],\n",
              "         [ 0.7565,  0.5769,  0.1726,  0.0968, -0.3114]]],\n",
              "       grad_fn=<StackBackward0>)"
            ]
          },
          "metadata": {},
          "execution_count": 254
        }
      ],
      "source": [
        "full_seq = torch.full((2, 3), 1)\n",
        "rnn_out, final_hidden = rnn(embd(full_seq))\n",
        "final_hidden"
      ]
    },
    {
      "cell_type": "markdown",
      "metadata": {
        "id": "SJ0_fIFigvMt"
      },
      "source": [
        "### Testig Encoder"
      ]
    },
    {
      "cell_type": "code",
      "execution_count": null,
      "metadata": {
        "colab": {
          "base_uri": "https://localhost:8080/"
        },
        "id": "ZDWlPmIQFTKS",
        "outputId": "382eacb1-50c2-4184-e61e-19623f239b0a"
      },
      "outputs": [
        {
          "output_type": "execute_result",
          "data": {
            "text/plain": [
              "tensor([[[ 0.3413,  0.1784, -0.0800, -0.5347,  0.4507],\n",
              "         [ 0.3413,  0.1784, -0.0800, -0.5347,  0.4507]]],\n",
              "       grad_fn=<StackBackward0>)"
            ]
          },
          "metadata": {},
          "execution_count": 255
        }
      ],
      "source": [
        "#torch.manual_seed(21)\n",
        "full_seq = torch.full((2, 3), 1).to(device)\n",
        "encoder = Encoder(n_features=3, hidden_dim=5).to(device)\n",
        "hidden_seq, hidden_final = encoder(full_seq) # output is N, L, F\n",
        "hidden_final"
      ]
    },
    {
      "cell_type": "markdown",
      "metadata": {
        "id": "AEuyhiH3FTKS"
      },
      "source": [
        "## Simple Decoder (no Attention)"
      ]
    },
    {
      "cell_type": "markdown",
      "metadata": {
        "id": "eKijt9R3FTKS"
      },
      "source": [
        "![](https://github.com/dvgodoy/PyTorchStepByStep/blob/master/images/decoder.png?raw=1)"
      ]
    },
    {
      "cell_type": "code",
      "execution_count": null,
      "metadata": {
        "id": "xXs9hsKkFTKT"
      },
      "outputs": [],
      "source": [
        "class Decoder(nn.Module):\n",
        "    def __init__(self, output_size, hidden_dim):\n",
        "        super().__init__()\n",
        "        self.hidden_dim = hidden_dim\n",
        "        self.hidden = None\n",
        "        self.embedding = nn.Embedding(output_size, self.hidden_dim)\n",
        "        self.basic_rnn = nn.GRU(self.hidden_dim, self.hidden_dim, batch_first=True)\n",
        "        self.regression = nn.Linear(self.hidden_dim, output_size)\n",
        "\n",
        "    def init_hidden(self, hidden_final):\n",
        "        # We only need the final hidden state from encoder for each sentence\n",
        "        #hidden_final = hidden_seq[:, -1:] # N, F\n",
        "        self.hidden = hidden_final\n",
        "        #self.hidden = hidden_final.permute(1, 0, 2) # 1, N, H\n",
        "\n",
        "    def forward(self, X):\n",
        "        X = self.embedding(X) # N, 1 -> N, F\n",
        "        batch_first_output, self.hidden = self.basic_rnn(X, self.hidden) # N, F\n",
        "        out = self.regression(batch_first_output) # N, output_size\n",
        "\n",
        "        # N, 1, F\n",
        "        return out"
      ]
    },
    {
      "cell_type": "markdown",
      "metadata": {
        "id": "3fKXfgWcgXPd"
      },
      "source": [
        "### Testing Decoder"
      ]
    },
    {
      "cell_type": "code",
      "execution_count": null,
      "metadata": {
        "colab": {
          "base_uri": "https://localhost:8080/"
        },
        "id": "ZfLh-gpxFTKT",
        "outputId": "86915590-ea1e-436d-e8ee-66a4ebf2029d"
      },
      "outputs": [
        {
          "output_type": "stream",
          "name": "stdout",
          "text": [
            "Hidden: tensor([[[-0.0072,  0.9993, -0.0021,  0.0000,  0.8425],\n",
            "         [-0.0072,  0.9993, -0.0021,  0.0000,  0.8425]]],\n",
            "       grad_fn=<StackBackward0>)\n",
            "Output: tensor([[[ 0.6876, -0.0527, -0.0652,  0.1395, -0.3921]],\n",
            "\n",
            "        [[ 0.6876, -0.0527, -0.0652,  0.1395, -0.3921]]],\n",
            "       grad_fn=<ViewBackward0>)\n",
            "\n",
            "Hidden: tensor([[[ 0.2679,  0.6601, -0.1505, -0.2759,  0.4169],\n",
            "         [ 0.2679,  0.6601, -0.1505, -0.2759,  0.4169]]],\n",
            "       grad_fn=<StackBackward0>)\n",
            "Output: tensor([[[ 0.6594,  0.0165,  0.0516,  0.1572, -0.3371]],\n",
            "\n",
            "        [[ 0.6594,  0.0165,  0.0516,  0.1572, -0.3371]]],\n",
            "       grad_fn=<ViewBackward0>)\n",
            "\n",
            "combinet_outputs: tensor([[[ 0.6876, -0.0527, -0.0652,  0.1395, -0.3921],\n",
            "         [ 0.6594,  0.0165,  0.0516,  0.1572, -0.3371]],\n",
            "\n",
            "        [[ 0.6876, -0.0527, -0.0652,  0.1395, -0.3921],\n",
            "         [ 0.6594,  0.0165,  0.0516,  0.1572, -0.3371]]],\n",
            "       grad_fn=<CatBackward0>)\n"
          ]
        }
      ],
      "source": [
        "torch.manual_seed(21)\n",
        "decoder = Decoder(output_size=5, hidden_dim=5).to(device)\n",
        "batch_size = 16\n",
        "\n",
        "# Initial hidden state will be encoder's final hidden state\n",
        "decoder.init_hidden(hidden_final)\n",
        "# Initial data point is the last element of source sequence\n",
        "#inputs = torch.empty(batch_size, 1, dtype=torch.long, device=device).fill_(SOS_token)\n",
        "inputs = torch.empty(2, 1, dtype=torch.long, device=device).fill_(SOS_token)  # remove me\n",
        "\n",
        "decoder_outputs = []\n",
        "target_len = 2\n",
        "for i in range(target_len):\n",
        "    print(f'Hidden: {decoder.hidden}')\n",
        "    decoder_output = decoder(inputs)   # Predicts coordinates\n",
        "    decoder_outputs.append(decoder_output)\n",
        "    _, topi = decoder_output.topk(1)\n",
        "    inputs = topi.squeeze(-1).detach() # detach from history as input\n",
        "    print(f'Output: {decoder_output}\\n')\n",
        "decoder_outputs = torch.cat(decoder_outputs, dim=1)\n",
        "print(f'combinet_outputs: {decoder_outputs}')"
      ]
    },
    {
      "cell_type": "markdown",
      "metadata": {
        "id": "gF2QNOHQFTKs"
      },
      "source": [
        "## Decoder with attention"
      ]
    },
    {
      "cell_type": "code",
      "execution_count": null,
      "metadata": {
        "id": "I1ibxeceU3OR"
      },
      "outputs": [],
      "source": [
        "class Attention(nn.Module):\n",
        "    def __init__(self, hidden_dim, input_dim=None, proj_values=False):\n",
        "        super().__init__()\n",
        "        self.d_k = hidden_dim\n",
        "        self.input_dim = hidden_dim if input_dim is None else input_dim\n",
        "        self.proj_values = proj_values\n",
        "        # Affine transformations for Q, K, and V\n",
        "        self.linear_query = nn.Linear(self.input_dim, hidden_dim)\n",
        "        self.linear_key = nn.Linear(self.input_dim, hidden_dim)\n",
        "        self.linear_value = nn.Linear(self.input_dim, hidden_dim)\n",
        "        self.alphas = None\n",
        "\n",
        "    def init_keys(self, keys):\n",
        "        self.keys = keys\n",
        "        self.proj_keys = self.linear_key(self.keys) # N, F, H x N, H, H -> N, F, H\n",
        "        self.values = self.linear_value(self.keys) if self.proj_values else self.keys  # N, F, H x N, H, H -> N, F, H\n",
        "\n",
        "    def score_function(self, query):\n",
        "        proj_query = self.linear_query(query) # N, 1, H x N, H, H -> N, 1, H\n",
        "        # scaled dot product\n",
        "        # N, 1, H x N, H, F -> N, 1, F\n",
        "        dot_products = torch.bmm(proj_query, self.proj_keys.permute(0, 2, 1))\n",
        "        scores =  dot_products / np.sqrt(self.d_k)\n",
        "        return scores\n",
        "\n",
        "    def forward(self, query, mask=None):\n",
        "        # Query is batch-first N, 1, H\n",
        "        # L or F means sequence length\n",
        "        scores = self.score_function(query) # N, 1, F\n",
        "        if mask is not None:\n",
        "            scores = scores.masked_fill(mask == 0, -1e9)\n",
        "        alphas = F.softmax(scores, dim=-1) # N, 1, F\n",
        "        self.alphas = alphas.detach()\n",
        "\n",
        "        # N, 1, F x N, F, H -> N, 1, H\n",
        "        context = torch.bmm(alphas, self.values)\n",
        "        return context"
      ]
    },
    {
      "cell_type": "markdown",
      "metadata": {
        "id": "c4jhEhcL22Ze"
      },
      "source": [
        "### Decoder with rnn and attention"
      ]
    },
    {
      "cell_type": "code",
      "execution_count": null,
      "metadata": {
        "id": "XqGzrKwyb79a"
      },
      "outputs": [],
      "source": [
        "class DecoderAttn(nn.Module):\n",
        "    def __init__(self, output_size, hidden_dim):\n",
        "        super().__init__()\n",
        "        self.hidden_dim = hidden_dim\n",
        "        self.hidden = None\n",
        "        self.output_size = output_size\n",
        "        self.embedding = nn.Embedding(output_size, self.hidden_dim)\n",
        "        self.basic_rnn = nn.GRU(self.hidden_dim, self.hidden_dim, batch_first=True)\n",
        "        self.attn = Attention(self.hidden_dim)\n",
        "        self.regression = nn.Linear(2 * self.hidden_dim, self.output_size)\n",
        "\n",
        "    def init_hidden(self, hidden_seq):\n",
        "        # the output of the encoder is N, F, H\n",
        "        # and init_keys expects batch-first as well\n",
        "        self.attn.init_keys(hidden_seq)\n",
        "        hidden_final = hidden_seq[:, -1:]\n",
        "        self.hidden = hidden_final.permute(1, 0, 2)   # F, N, H\n",
        "\n",
        "    def forward(self, X, mask=None):\n",
        "        # X is N, 1\n",
        "        # N is batch size, H is hidden dimensions\n",
        "        X = self.embedding(X) # N, 1 -> N, 1, H\n",
        "        batch_first_output, self.hidden = self.basic_rnn(X, self.hidden) # N, 1, H x N, H, H -> N, 1, H\n",
        "\n",
        "        query = batch_first_output # N, 1, H\n",
        "        # Attention\n",
        "        context = self.attn(query, mask=mask) # N, 1, H\n",
        "        concatenated = torch.cat([context, query], axis=-1) # N, 1, 2*H\n",
        "        out = self.regression(concatenated)  # N, 1, 2*H x N, 2*H, 1 -> N, 1, 1\n",
        "\n",
        "        # N, 1, F\n",
        "        return out.view(-1, 1, self.output_size)"
      ]
    },
    {
      "cell_type": "markdown",
      "metadata": {
        "id": "jmGWshzmwVMA"
      },
      "source": [
        "### Testing Decoder with attention"
      ]
    },
    {
      "cell_type": "code",
      "execution_count": null,
      "metadata": {
        "id": "PzV9yuD0r6SF"
      },
      "outputs": [],
      "source": [
        "inputs = torch.empty(2, 1, dtype=torch.long, device=device).fill_(SOS_token)  # remove me"
      ]
    },
    {
      "cell_type": "code",
      "execution_count": null,
      "metadata": {
        "colab": {
          "base_uri": "https://localhost:8080/"
        },
        "id": "5i1Ed221ruvx",
        "outputId": "1eb7d192-a351-4e8d-9a6a-18b0d7bf9439"
      },
      "outputs": [
        {
          "output_type": "execute_result",
          "data": {
            "text/plain": [
              "torch.Size([2, 1, 5])"
            ]
          },
          "metadata": {},
          "execution_count": 267
        }
      ],
      "source": [
        "embedding = nn.Embedding(1, 5).to(device)\n",
        "embedding(inputs).size()"
      ]
    },
    {
      "cell_type": "code",
      "execution_count": null,
      "metadata": {
        "colab": {
          "base_uri": "https://localhost:8080/"
        },
        "id": "6s6X8wPInasL",
        "outputId": "f23ed8a5-536c-4674-e0d9-089cd399b6bb"
      },
      "outputs": [
        {
          "output_type": "stream",
          "name": "stdout",
          "text": [
            "Hidden: tensor([[[-0.0072,  0.9993, -0.0021,  0.0000,  0.8425],\n",
            "         [-0.0072,  0.9993, -0.0021,  0.0000,  0.8425]]],\n",
            "       grad_fn=<PermuteBackward0>)\n",
            "Output: tensor([[[0.0058, 0.4841, 0.0976, 0.0269, 0.6177]],\n",
            "\n",
            "        [[0.0058, 0.4841, 0.0976, 0.0269, 0.6177]]], grad_fn=<ViewBackward0>)\n",
            "\n",
            "Hidden: tensor([[[ 0.4498,  0.9413, -0.2960, -0.1569,  0.5914],\n",
            "         [ 0.4498,  0.9413, -0.2960, -0.1569,  0.5914]]],\n",
            "       grad_fn=<StackBackward0>)\n",
            "Output: tensor([[[-0.0844,  0.5769,  0.0362, -0.2356,  0.5942]],\n",
            "\n",
            "        [[-0.0844,  0.5769,  0.0362, -0.2356,  0.5942]]],\n",
            "       grad_fn=<ViewBackward0>)\n",
            "\n",
            "combinet_outputs: tensor([[[ 0.0058,  0.4841,  0.0976,  0.0269,  0.6177],\n",
            "         [-0.0844,  0.5769,  0.0362, -0.2356,  0.5942]],\n",
            "\n",
            "        [[ 0.0058,  0.4841,  0.0976,  0.0269,  0.6177],\n",
            "         [-0.0844,  0.5769,  0.0362, -0.2356,  0.5942]]],\n",
            "       grad_fn=<CatBackward0>)\n"
          ]
        }
      ],
      "source": [
        "#torch.manual_seed(21)\n",
        "decoder = DecoderAttn(output_size=5, hidden_dim=5)\n",
        "\n",
        "# Initial hidden state will be encoder's final hidden state\n",
        "decoder.init_hidden(hidden_seq)\n",
        "# Initial data point is the last element of source sequence\n",
        "#inputs = torch.empty(batch_size, 1, dtype=torch.long, device=device).fill_(SOS_token)\n",
        "inputs = torch.empty(2, 1, dtype=torch.long, device=device).fill_(SOS_token)  # remove me\n",
        "\n",
        "decoder_outputs = []\n",
        "target_len = 2\n",
        "for i in range(target_len):\n",
        "    print(f'Hidden: {decoder.hidden}')\n",
        "    decoder_output = decoder(inputs)   # Predicts coordinates\n",
        "    decoder_outputs.append(decoder_output)\n",
        "    _, topi = decoder_output.topk(1)\n",
        "    inputs = topi.squeeze(-1).detach()  # detach from history as input\n",
        "    print(f'Output: {decoder_output}\\n')\n",
        "decoder_outputs = torch.cat(decoder_outputs, dim=1)\n",
        "print(f'combinet_outputs: {decoder_outputs}')"
      ]
    },
    {
      "cell_type": "markdown",
      "metadata": {
        "id": "g8eUVUI1gbCw"
      },
      "source": [
        "## Encoder-Decoder Architecture"
      ]
    },
    {
      "cell_type": "code",
      "execution_count": null,
      "metadata": {
        "id": "YrxSffbEvNUl"
      },
      "outputs": [],
      "source": [
        "class EncoderDecoder(nn.Module):\n",
        "    def __init__(self, encoder, decoder, target_len, teacher_forcing_prob=0.5):\n",
        "        super().__init__()\n",
        "        self.encoder = encoder\n",
        "        self.decoder = decoder\n",
        "        self.target_len = target_len\n",
        "        self.teacher_forcing_prob = teacher_forcing_prob\n",
        "        self.outputs = None\n",
        "\n",
        "    def init_outputs(self, batch_size):\n",
        "        device = next(self.parameters()).device\n",
        "        # N, L (target), F\n",
        "        self.outputs = torch.zeros(batch_size,\n",
        "                              self.target_len,\n",
        "                              self.encoder.n_features).to(device)\n",
        "\n",
        "    def store_output(self, i, out):\n",
        "        # Stores the output\n",
        "        self.outputs[:, i:i+1, :] = out\n",
        "\n",
        "    def forward(self, X, target_tensor=None):\n",
        "        # X is batch of sentences -> N, F\n",
        "        # splits the data in source and target sequences\n",
        "        # the target seq will be empty in testing mode\n",
        "        # N, L, F\n",
        "\n",
        "        # Encoder expected N, F\n",
        "        hidden_seq, hidden_final = self.encoder(X)\n",
        "        # Output is N, F, hidden_dim\n",
        "        self.decoder.init_hidden(hidden_seq)\n",
        "\n",
        "        # The last input of the encoder is also\n",
        "        # the first input of the decoder\n",
        "        #dec_inputs = source_seq[:, -1:, :]\n",
        "        batch_size = hidden_seq.size(0)\n",
        "\n",
        "        dec_inputs = torch.empty(batch_size, 1, dtype=torch.long, device=device).fill_(SOS_token)\n",
        "        decoder_outputs = []\n",
        "        # Generates as many outputs as the target length\n",
        "        for i in range(self.target_len):\n",
        "            # Output of decoder is N, 1, F\n",
        "            decoder_output = self.decoder(dec_inputs)\n",
        "            decoder_outputs.append(decoder_output)\n",
        "\n",
        "            prob = self.teacher_forcing_prob\n",
        "\n",
        "            # In evaluation/test the target sequence is\n",
        "            # unknown, so we cannot use teacher forcing\n",
        "            if not self.training:\n",
        "                prob = 0\n",
        "\n",
        "            if torch.rand(1) <= prob and target_tensor is not None:\n",
        "                # Teacher forcing: Feed the target as the next input\n",
        "                decoder_input = target_tensor[:, i].unsqueeze(1) # Teacher forcing\n",
        "            else:\n",
        "                # Without teacher forcing: use its own predictions as the next input\n",
        "                _, topi = decoder_output.topk(1)\n",
        "                decoder_input = topi.squeeze(-1).detach()  # detach from history as input\n",
        "            #_, topi = decoder_output.topk(1)\n",
        "            #dec_inputs = topi.squeeze(-1).detach()  # detach from history as input\n",
        "\n",
        "        decoder_outputs = torch.cat(decoder_outputs, dim=1)\n",
        "        decoder_outputs = F.log_softmax(decoder_outputs, dim=-1)\n",
        "        return decoder_outputs"
      ]
    },
    {
      "cell_type": "code",
      "execution_count": null,
      "metadata": {
        "id": "QJ_DI8_QG9yX",
        "cellView": "form"
      },
      "outputs": [],
      "source": [
        "#@title Testing encoder-decoder with attention\n",
        "hidden_size = 128\n",
        "batch_size = 32\n",
        "encoder = Encoder(input_lang.n_words, hidden_size).to(device)\n",
        "decoder = DecoderAttn(output_lang.n_words, hidden_size).to(device)"
      ]
    },
    {
      "cell_type": "code",
      "execution_count": null,
      "metadata": {
        "id": "R82lWKiwHNbx",
        "colab": {
          "base_uri": "https://localhost:8080/"
        },
        "outputId": "b90dd3a3-e517-4937-8057-b892ee4f2d3b"
      },
      "outputs": [
        {
          "output_type": "execute_result",
          "data": {
            "text/plain": [
              "torch.Size([1, 2, 128])"
            ]
          },
          "metadata": {},
          "execution_count": 151
        }
      ],
      "source": [
        "hidden_seq, hidden_final = encoder(full_seq)\n",
        "hidden_final.size()"
      ]
    },
    {
      "cell_type": "code",
      "execution_count": null,
      "metadata": {
        "id": "1dmOyMYJHT6h",
        "colab": {
          "base_uri": "https://localhost:8080/"
        },
        "outputId": "34cc7104-f895-4222-a4c1-c916f538724e"
      },
      "outputs": [
        {
          "output_type": "execute_result",
          "data": {
            "text/plain": [
              "tensor([[[-0.6018, -0.3310, -0.4661,  ..., -0.0548,  0.8664, -0.1108]],\n",
              "\n",
              "        [[-0.6018, -0.3310, -0.4661,  ..., -0.0548,  0.8664, -0.1108]]],\n",
              "       grad_fn=<ViewBackward0>)"
            ]
          },
          "metadata": {},
          "execution_count": 152
        }
      ],
      "source": [
        "inputs = torch.empty(2, 1, dtype=torch.long, device=device).fill_(SOS_token)\n",
        "decoder.init_hidden(hidden_seq)\n",
        "decoder(inputs)"
      ]
    },
    {
      "cell_type": "code",
      "execution_count": null,
      "metadata": {
        "id": "U6fv9bBPKz4B"
      },
      "outputs": [],
      "source": [
        "encdec = EncoderDecoder(encoder, decoder, target_len=5)\n",
        "outputs = encdec(full_seq)"
      ]
    },
    {
      "cell_type": "code",
      "execution_count": null,
      "metadata": {
        "id": "Hzf9lgD8vcVH",
        "colab": {
          "base_uri": "https://localhost:8080/"
        },
        "outputId": "cc109662-f2a3-4bd4-a0a4-c9d83ac063dc"
      },
      "outputs": [
        {
          "output_type": "execute_result",
          "data": {
            "text/plain": [
              "torch.Size([2, 5, 2991])"
            ]
          },
          "metadata": {},
          "execution_count": 154
        }
      ],
      "source": [
        "outputs.size()"
      ]
    },
    {
      "cell_type": "markdown",
      "metadata": {
        "id": "rSk-uCP3mwCQ"
      },
      "source": [
        "## Encoder-Decoder Architecture With preprocessed embeddings"
      ]
    },
    {
      "cell_type": "code",
      "execution_count": null,
      "metadata": {
        "id": "vH2EHzIbmwCX"
      },
      "outputs": [],
      "source": [
        "class EncoderDecoder(nn.Module):\n",
        "    def __init__(self, encoder, decoder, target_len, teacher_forcing_prob=0.5):\n",
        "        super().__init__()\n",
        "        self.encoder = encoder\n",
        "        self.decoder = decoder\n",
        "        self.target_len = target_len\n",
        "        self.teacher_forcing_prob = teacher_forcing_prob\n",
        "        self.outputs = None\n",
        "\n",
        "    def init_outputs(self, batch_size):\n",
        "        device = next(self.parameters()).device\n",
        "        # N, L (target), F\n",
        "        self.outputs = torch.zeros(batch_size,\n",
        "                              self.target_len,\n",
        "                              self.encoder.n_features).to(device)\n",
        "\n",
        "    def store_output(self, i, out):\n",
        "        # Stores the output\n",
        "        self.outputs[:, i:i+1, :] = out\n",
        "\n",
        "    def forward(self, X, target_tensor=None):\n",
        "        # X is batch of sentences -> N, F\n",
        "        # splits the data in source and target sequences\n",
        "        # the target seq will be empty in testing mode\n",
        "        # N, L, F\n",
        "\n",
        "        # Encoder expected N, F\n",
        "        hidden_seq, hidden_final = self.encoder(X)\n",
        "        # Output is N, F, hidden_dim\n",
        "        self.decoder.init_hidden(hidden_seq)\n",
        "\n",
        "        # The last input of the encoder is also\n",
        "        # the first input of the decoder\n",
        "        #dec_inputs = source_seq[:, -1:, :]\n",
        "        batch_size = hidden_seq.size(0)\n",
        "\n",
        "        dec_inputs = torch.empty(batch_size, 1, dtype=torch.long, device=device).fill_(SOS_token)\n",
        "        decoder_outputs = []\n",
        "        # Generates as many outputs as the target length\n",
        "        for i in range(self.target_len):\n",
        "            # Output of decoder is N, 1, F\n",
        "            decoder_output = self.decoder(dec_inputs)\n",
        "            decoder_outputs.append(decoder_output)\n",
        "\n",
        "            prob = self.teacher_forcing_prob\n",
        "\n",
        "            # In evaluation/test the target sequence is\n",
        "            # unknown, so we cannot use teacher forcing\n",
        "            if not self.training:\n",
        "                prob = 0\n",
        "\n",
        "            if torch.rand(1) <= prob and target_tensor is not None:\n",
        "                # Teacher forcing: Feed the target as the next input\n",
        "                decoder_input = target_tensor[:, i].unsqueeze(1) # Teacher forcing\n",
        "            else:\n",
        "                # Without teacher forcing: use its own predictions as the next input\n",
        "                _, topi = decoder_output.topk(1)\n",
        "                decoder_input = topi.squeeze(-1).detach()  # detach from history as input\n",
        "            #_, topi = decoder_output.topk(1)\n",
        "            #dec_inputs = topi.squeeze(-1).detach()  # detach from history as input\n",
        "\n",
        "        decoder_outputs = torch.cat(decoder_outputs, dim=1)\n",
        "        decoder_outputs = F.log_softmax(decoder_outputs, dim=-1)\n",
        "        return decoder_outputs"
      ]
    },
    {
      "cell_type": "code",
      "source": [
        "#@title Testing simple encoder-decoder with preprocessed embeddings\n",
        "hidden_size = 128\n",
        "encoder = Encoder(context_embeddings_tensor, hidden_dim=hidden_size).to(device)\n",
        "decoder = Decoder(pretrained_embeddings=context_embeddings_tensor, output_size=output_lang.n_words, hidden_dim=hidden_size).to(device)"
      ],
      "metadata": {
        "cellView": "form",
        "id": "Bz6NflvFmwCa"
      },
      "execution_count": null,
      "outputs": []
    },
    {
      "cell_type": "code",
      "execution_count": null,
      "metadata": {
        "cellView": "form",
        "id": "U-qxET5CmwCb"
      },
      "outputs": [],
      "source": [
        "#@title Testing encoder-decoder with attention\n",
        "hidden_size = 128\n",
        "batch_size = 32\n",
        "encoder = Encoder(input_lang.n_words, hidden_size).to(device)\n",
        "decoder = DecoderAttn(output_lang.n_words, hidden_size).to(device)"
      ]
    },
    {
      "cell_type": "code",
      "execution_count": null,
      "metadata": {
        "colab": {
          "base_uri": "https://localhost:8080/"
        },
        "outputId": "b90dd3a3-e517-4937-8057-b892ee4f2d3b",
        "id": "AfmESVqemwCc"
      },
      "outputs": [
        {
          "output_type": "execute_result",
          "data": {
            "text/plain": [
              "torch.Size([1, 2, 128])"
            ]
          },
          "metadata": {},
          "execution_count": 151
        }
      ],
      "source": [
        "hidden_seq, hidden_final = encoder(full_seq)\n",
        "hidden_final.size()"
      ]
    },
    {
      "cell_type": "code",
      "execution_count": null,
      "metadata": {
        "colab": {
          "base_uri": "https://localhost:8080/"
        },
        "outputId": "34cc7104-f895-4222-a4c1-c916f538724e",
        "id": "4H5y7AJ7mwCd"
      },
      "outputs": [
        {
          "output_type": "execute_result",
          "data": {
            "text/plain": [
              "tensor([[[-0.6018, -0.3310, -0.4661,  ..., -0.0548,  0.8664, -0.1108]],\n",
              "\n",
              "        [[-0.6018, -0.3310, -0.4661,  ..., -0.0548,  0.8664, -0.1108]]],\n",
              "       grad_fn=<ViewBackward0>)"
            ]
          },
          "metadata": {},
          "execution_count": 152
        }
      ],
      "source": [
        "inputs = torch.empty(2, 1, dtype=torch.long, device=device).fill_(SOS_token)\n",
        "decoder.init_hidden(hidden_seq)\n",
        "decoder(inputs)"
      ]
    },
    {
      "cell_type": "code",
      "execution_count": null,
      "metadata": {
        "id": "XEcDlw_tmwCe"
      },
      "outputs": [],
      "source": [
        "encdec = EncoderDecoder(encoder, decoder, target_len=5)\n",
        "outputs = encdec(full_seq)"
      ]
    },
    {
      "cell_type": "code",
      "execution_count": null,
      "metadata": {
        "colab": {
          "base_uri": "https://localhost:8080/"
        },
        "outputId": "cc109662-f2a3-4bd4-a0a4-c9d83ac063dc",
        "id": "CDCNbC0XmwCe"
      },
      "outputs": [
        {
          "output_type": "execute_result",
          "data": {
            "text/plain": [
              "torch.Size([2, 5, 2991])"
            ]
          },
          "metadata": {},
          "execution_count": 154
        }
      ],
      "source": [
        "outputs.size()"
      ]
    },
    {
      "cell_type": "markdown",
      "source": [
        "# Encoder Decoder using preprocessed embeddings"
      ],
      "metadata": {
        "id": "CherGzy1mWNB"
      }
    },
    {
      "cell_type": "markdown",
      "source": [
        "## Encoder using preprocessed embeddings"
      ],
      "metadata": {
        "id": "_IfCbJq7DMbY"
      }
    },
    {
      "cell_type": "code",
      "execution_count": null,
      "metadata": {
        "id": "_u1L37I5DUmO"
      },
      "outputs": [],
      "source": [
        "class Encoder(nn.Module):\n",
        "    def __init__(self, pretrained_embeddings, hidden_dim):\n",
        "        super().__init__()\n",
        "        self.hidden_dim = hidden_dim\n",
        "        self.embd_dim = pretrained_embeddings.size(-1)\n",
        "        #self.n_features = n_features\n",
        "        self.hidden = None\n",
        "        #self.embedding_dimension = 256\n",
        "        #self.embd = nn.Embedding(self.n_features, self.hidden_dim)\n",
        "\n",
        "        # Create an Embedding layer and initialize it with the reshaped embeddings\n",
        "        self.embd = nn.Embedding.from_pretrained(pretrained_embeddings, freeze=True)\n",
        "        self.basic_rnn = nn.GRU(self.embd_dim, self.hidden_dim, batch_first=True)\n",
        "\n",
        "    def forward(self, X):\n",
        "        X_embd = self.embd(X) # N, F -> N, F, embd_dim\n",
        "        rnn_out, self.hidden = self.basic_rnn(X_embd) # N, F, embd_dim x N, embd_dim, H  ->  N, F, H\n",
        "\n",
        "        return rnn_out, self.hidden # N, F, H"
      ]
    },
    {
      "cell_type": "code",
      "execution_count": null,
      "metadata": {
        "id": "ZhvRElwVDUmO"
      },
      "outputs": [],
      "source": [
        "embd = nn.Embedding(5, 5)\n",
        "rnn = nn.GRU(5, 5, batch_first=True)"
      ]
    },
    {
      "cell_type": "code",
      "execution_count": null,
      "metadata": {
        "colab": {
          "base_uri": "https://localhost:8080/"
        },
        "outputId": "c15038df-4ca0-4682-b54c-17f5eff6213e",
        "id": "1HUoMuxHDUmQ"
      },
      "outputs": [
        {
          "output_type": "execute_result",
          "data": {
            "text/plain": [
              "tensor([[[-0.3180,  0.5062,  0.4158, -0.3274,  0.6366],\n",
              "         [-0.3180,  0.5062,  0.4158, -0.3274,  0.6366]]],\n",
              "       grad_fn=<StackBackward0>)"
            ]
          },
          "metadata": {},
          "execution_count": 258
        }
      ],
      "source": [
        "full_seq = torch.full((2, 3), 1)\n",
        "rnn_out, final_hidden = rnn(embd(full_seq))\n",
        "final_hidden"
      ]
    },
    {
      "cell_type": "markdown",
      "metadata": {
        "id": "cQpOv6AaDUmS"
      },
      "source": [
        "### Testig Encoder with preprocessed embeddings"
      ]
    },
    {
      "cell_type": "code",
      "execution_count": null,
      "metadata": {
        "colab": {
          "base_uri": "https://localhost:8080/"
        },
        "outputId": "0d9b33e3-6c40-4f49-8708-2d64075ecf3f",
        "id": "yjMGvAtEDUmU"
      },
      "outputs": [
        {
          "output_type": "execute_result",
          "data": {
            "text/plain": [
              "tensor([[[-0.0072,  0.9993, -0.0021,  0.0000,  0.8425],\n",
              "         [-0.0072,  0.9993, -0.0021,  0.0000,  0.8425]]],\n",
              "       grad_fn=<StackBackward0>)"
            ]
          },
          "metadata": {},
          "execution_count": 259
        }
      ],
      "source": [
        "#torch.manual_seed(21)\n",
        "full_seq = torch.full((2, 3), 1).to(device)\n",
        "encoder = Encoder(context_embeddings_tensor, hidden_dim=5).to(device)\n",
        "hidden_seq, hidden_final = encoder(full_seq) # output is N, L, F\n",
        "hidden_final"
      ]
    },
    {
      "cell_type": "markdown",
      "source": [
        "## Simple Decoder with preprocessed embeddings"
      ],
      "metadata": {
        "id": "1k0mF8zoFYHD"
      }
    },
    {
      "cell_type": "code",
      "execution_count": null,
      "metadata": {
        "id": "fS-c_ZHkFeMs"
      },
      "outputs": [],
      "source": [
        "class Decoder(nn.Module):\n",
        "    def __init__(self, pretrained_embeddings, output_size, hidden_dim):\n",
        "        super().__init__()\n",
        "        self.hidden_dim = hidden_dim\n",
        "        self.embd_dim = pretrained_embeddings.size(-1)\n",
        "        self.hidden = None\n",
        "        #self.embedding = nn.Embedding(output_size, self.hidden_dim)\n",
        "\n",
        "        self.embd = nn.Embedding.from_pretrained(pretrained_embeddings, freeze=True)\n",
        "        self.basic_rnn = nn.GRU(self.embd_dim, self.hidden_dim, batch_first=True)\n",
        "        self.regression = nn.Linear(self.hidden_dim, output_size)\n",
        "\n",
        "    def init_hidden(self, hidden_final):\n",
        "        # We only need the final hidden state from encoder for each sentence\n",
        "        #hidden_final = hidden_seq[:, -1:] # N, F\n",
        "        #self.hidden = hidden_final\n",
        "        #self.hidden = hidden_final.permute(1, 0, 2) # 1, N, H\n",
        "\n",
        "        hidden_final = hidden_seq[:, -1:]\n",
        "        self.hidden = hidden_final.permute(1, 0, 2)   # F, N, H\n",
        "\n",
        "    def forward(self, X):\n",
        "        X = self.embd(X) # N, 1 -> N, 1, embd_dim\n",
        "        batch_first_output, self.hidden = self.basic_rnn(X, self.hidden)  # N, 1, embd_dim x N, embd_dim, H -> N, 1, H\n",
        "        out = self.regression(batch_first_output) # N, 1, output_size\n",
        "\n",
        "        # N, 1, output_size\n",
        "        return out"
      ]
    },
    {
      "cell_type": "markdown",
      "metadata": {
        "id": "Uszb_sxlFeMu"
      },
      "source": [
        "### Testing Decoder"
      ]
    },
    {
      "cell_type": "code",
      "execution_count": null,
      "metadata": {
        "colab": {
          "base_uri": "https://localhost:8080/"
        },
        "outputId": "e3085665-657e-4f2e-b2cd-321080a4eb4c",
        "id": "JevclgNxFeMx"
      },
      "outputs": [
        {
          "output_type": "stream",
          "name": "stdout",
          "text": [
            "Hidden: tensor([[[-0.0072,  0.9993, -0.0021,  0.0000,  0.8425],\n",
            "         [-0.0072,  0.9993, -0.0021,  0.0000,  0.8425]]],\n",
            "       grad_fn=<PermuteBackward0>)\n",
            "Output: tensor([[[ 0.3327, -0.6985, -0.7303, -0.2521, -0.3805]],\n",
            "\n",
            "        [[ 0.3327, -0.6985, -0.7303, -0.2521, -0.3805]]],\n",
            "       grad_fn=<ViewBackward0>)\n",
            "\n",
            "Hidden: tensor([[[-0.0072, -1.0000, -0.0033, -1.0000,  0.8425],\n",
            "         [-0.0072, -1.0000, -0.0033, -1.0000,  0.8425]]],\n",
            "       grad_fn=<StackBackward0>)\n",
            "Output: tensor([[[ 0.3328, -0.6972, -0.7318, -0.2512, -0.3795]],\n",
            "\n",
            "        [[ 0.3328, -0.6972, -0.7318, -0.2512, -0.3795]]],\n",
            "       grad_fn=<ViewBackward0>)\n",
            "\n",
            "combinet_outputs: tensor([[[ 0.3327, -0.6985, -0.7303, -0.2521, -0.3805],\n",
            "         [ 0.3328, -0.6972, -0.7318, -0.2512, -0.3795]],\n",
            "\n",
            "        [[ 0.3327, -0.6985, -0.7303, -0.2521, -0.3805],\n",
            "         [ 0.3328, -0.6972, -0.7318, -0.2512, -0.3795]]],\n",
            "       grad_fn=<CatBackward0>)\n"
          ]
        }
      ],
      "source": [
        "torch.manual_seed(21)\n",
        "decoder = Decoder(pretrained_embeddings=context_embeddings_tensor, output_size=5, hidden_dim=5).to(device)\n",
        "batch_size = 16\n",
        "\n",
        "# Initial hidden state will be encoder's final hidden state\n",
        "decoder.init_hidden(hidden_seq)\n",
        "# Initial data point is the last element of source sequence\n",
        "#inputs = torch.empty(batch_size, 1, dtype=torch.long, device=device).fill_(SOS_token)\n",
        "inputs = torch.empty(2, 1, dtype=torch.long, device=device).fill_(SOS_token)  # remove me\n",
        "\n",
        "decoder_outputs = []\n",
        "target_len = 2\n",
        "for i in range(target_len):\n",
        "    print(f'Hidden: {decoder.hidden}')\n",
        "    decoder_output = decoder(inputs)   # Predicts coordinates\n",
        "    decoder_outputs.append(decoder_output)\n",
        "    _, topi = decoder_output.topk(1)\n",
        "    inputs = topi.squeeze(-1).detach() # detach from history as input\n",
        "    print(f'Output: {decoder_output}\\n')\n",
        "decoder_outputs = torch.cat(decoder_outputs, dim=1)\n",
        "print(f'combinet_outputs: {decoder_outputs}')"
      ]
    },
    {
      "cell_type": "markdown",
      "metadata": {
        "id": "ZD2sb9nioxVy"
      },
      "source": [
        "## Encoder-Decoder Architecture With preprocessed embeddings"
      ]
    },
    {
      "cell_type": "code",
      "execution_count": null,
      "metadata": {
        "id": "zpr_xRBSoxVz"
      },
      "outputs": [],
      "source": [
        "class EncoderDecoder(nn.Module):\n",
        "    def __init__(self, encoder, decoder, target_len, teacher_forcing_prob=0.5):\n",
        "        super().__init__()\n",
        "        self.encoder = encoder\n",
        "        self.decoder = decoder\n",
        "        self.target_len = target_len\n",
        "        self.teacher_forcing_prob = teacher_forcing_prob\n",
        "        self.outputs = None\n",
        "\n",
        "    def init_outputs(self, batch_size):\n",
        "        device = next(self.parameters()).device\n",
        "        # N, L (target), F\n",
        "        self.outputs = torch.zeros(batch_size,\n",
        "                              self.target_len,\n",
        "                              self.encoder.n_features).to(device)\n",
        "\n",
        "    def store_output(self, i, out):\n",
        "        # Stores the output\n",
        "        self.outputs[:, i:i+1, :] = out\n",
        "\n",
        "    def forward(self, X, target_tensor=None):\n",
        "        # X is batch of sentences -> N, F\n",
        "        # splits the data in source and target sequences\n",
        "        # the target seq will be empty in testing mode\n",
        "        # N, L, F\n",
        "\n",
        "        # Encoder expected N, F\n",
        "        hidden_seq, hidden_final = self.encoder(X)\n",
        "        # Output is N, F, hidden_dim\n",
        "        self.decoder.init_hidden(hidden_seq)\n",
        "\n",
        "        # The last input of the encoder is also\n",
        "        # the first input of the decoder\n",
        "        #dec_inputs = source_seq[:, -1:, :]\n",
        "        batch_size = hidden_seq.size(0)\n",
        "\n",
        "        dec_inputs = torch.empty(batch_size, 1, dtype=torch.long, device=device).fill_(SOS_token)\n",
        "        decoder_outputs = []\n",
        "        # Generates as many outputs as the target length\n",
        "        for i in range(self.target_len):\n",
        "            # Output of decoder is N, 1, F\n",
        "            decoder_output = self.decoder(dec_inputs)\n",
        "            decoder_outputs.append(decoder_output)\n",
        "\n",
        "            prob = self.teacher_forcing_prob\n",
        "\n",
        "            # In evaluation/test the target sequence is\n",
        "            # unknown, so we cannot use teacher forcing\n",
        "            if not self.training:\n",
        "                prob = 0\n",
        "\n",
        "            if torch.rand(1) <= prob and target_tensor is not None:\n",
        "                # Teacher forcing: Feed the target as the next input\n",
        "                decoder_input = target_tensor[:, i].unsqueeze(1) # Teacher forcing\n",
        "            else:\n",
        "                # Without teacher forcing: use its own predictions as the next input\n",
        "                _, topi = decoder_output.topk(1)\n",
        "                decoder_input = topi.squeeze(-1).detach()  # detach from history as input\n",
        "            #_, topi = decoder_output.topk(1)\n",
        "            #dec_inputs = topi.squeeze(-1).detach()  # detach from history as input\n",
        "\n",
        "        decoder_outputs = torch.cat(decoder_outputs, dim=1)\n",
        "        decoder_outputs = F.log_softmax(decoder_outputs, dim=-1)\n",
        "        return decoder_outputs"
      ]
    },
    {
      "cell_type": "code",
      "source": [
        "#@title Testing simple encoder-decoder with preprocessed embeddings\n",
        "hidden_size = 128\n",
        "encoder = Encoder(context_embeddings_tensor, hidden_dim=hidden_size).to(device)\n",
        "decoder = Decoder(pretrained_embeddings=context_embeddings_tensor, output_size=output_lang.n_words, hidden_dim=hidden_size).to(device)"
      ],
      "metadata": {
        "id": "FP8FeZSvoxV2"
      },
      "execution_count": null,
      "outputs": []
    },
    {
      "cell_type": "code",
      "execution_count": null,
      "metadata": {
        "colab": {
          "base_uri": "https://localhost:8080/"
        },
        "outputId": "c3ccf2b1-320c-4c8e-81b9-6eb10658e92d",
        "id": "6YdSzTyToxV4"
      },
      "outputs": [
        {
          "output_type": "execute_result",
          "data": {
            "text/plain": [
              "torch.Size([1, 2, 128])"
            ]
          },
          "metadata": {},
          "execution_count": 273
        }
      ],
      "source": [
        "hidden_seq, hidden_final = encoder(full_seq)\n",
        "hidden_final.size()"
      ]
    },
    {
      "cell_type": "code",
      "execution_count": null,
      "metadata": {
        "colab": {
          "base_uri": "https://localhost:8080/"
        },
        "outputId": "35e0a9a4-cb11-404e-f433-1c054382d807",
        "id": "7tbtHTV8oxV6"
      },
      "outputs": [
        {
          "output_type": "execute_result",
          "data": {
            "text/plain": [
              "tensor([[[ 0.2513,  0.3308, -0.0428,  ..., -0.3892, -0.1224, -0.1972]],\n",
              "\n",
              "        [[ 0.2513,  0.3308, -0.0428,  ..., -0.3892, -0.1224, -0.1972]]],\n",
              "       grad_fn=<ViewBackward0>)"
            ]
          },
          "metadata": {},
          "execution_count": 274
        }
      ],
      "source": [
        "inputs = torch.empty(2, 1, dtype=torch.long, device=device).fill_(SOS_token)\n",
        "decoder.init_hidden(hidden_seq)\n",
        "decoder(inputs)"
      ]
    },
    {
      "cell_type": "code",
      "execution_count": null,
      "metadata": {
        "id": "DvVrGjF1oxV7"
      },
      "outputs": [],
      "source": [
        "encdec = EncoderDecoder(encoder, decoder, target_len=5)\n",
        "outputs = encdec(full_seq)"
      ]
    },
    {
      "cell_type": "code",
      "execution_count": null,
      "metadata": {
        "colab": {
          "base_uri": "https://localhost:8080/"
        },
        "outputId": "1dde42ee-e31b-4134-cf9b-172abda70233",
        "id": "bXD2WBGtoxV9"
      },
      "outputs": [
        {
          "output_type": "execute_result",
          "data": {
            "text/plain": [
              "torch.Size([2, 5, 2991])"
            ]
          },
          "metadata": {},
          "execution_count": 276
        }
      ],
      "source": [
        "outputs.size()"
      ]
    },
    {
      "cell_type": "markdown",
      "metadata": {
        "id": "dylJvhIga3Ef"
      },
      "source": [
        "# Encoder-Decoder with Self Attention (Most Advanced Model) (WITHOUT RNN)\n",
        "It is not working, and is giving me repetitive predictions.\n",
        "---   \n",
        "**_I pity the fool using RNN_**"
      ]
    },
    {
      "cell_type": "code",
      "execution_count": null,
      "metadata": {
        "id": "mVFvcI2-ofBI"
      },
      "outputs": [],
      "source": [
        "class MultiHeadAttention(nn.Module):\n",
        "    def __init__(self, n_heads, d_model, input_dim=None, proj_values=True):\n",
        "        super().__init__()\n",
        "        self.linear_out = nn.Linear(n_heads * d_model, d_model)\n",
        "        self.attn_heads = nn.ModuleList([Attention(d_model,\n",
        "                                                   input_dim=input_dim,\n",
        "                                                   proj_values=proj_values)\n",
        "                                         for _ in range(n_heads)])\n",
        "\n",
        "    def init_keys(self, key):\n",
        "        for attn in self.attn_heads:\n",
        "            attn.init_keys(key)\n",
        "\n",
        "    @property\n",
        "    def alphas(self):\n",
        "        # Shape: n_heads, N, 1, L (source)\n",
        "        return torch.stack([attn.alphas for attn in self.attn_heads], dim=0)\n",
        "\n",
        "    def output_function(self, contexts):\n",
        "        # N, 1, n_heads * D\n",
        "        concatenated = torch.cat(contexts, axis=-1)\n",
        "        # Linear transf. to go back to original dimension\n",
        "        out = self.linear_out(concatenated) # N, 1, D\n",
        "        return out\n",
        "\n",
        "    def forward(self, query, mask=None):\n",
        "        contexts = [attn(query, mask=mask) for attn in self.attn_heads]\n",
        "        out = self.output_function(contexts)\n",
        "        return out"
      ]
    },
    {
      "cell_type": "markdown",
      "metadata": {
        "id": "UjgUkH4J2wL-"
      },
      "source": [
        "### Encoder with self attention"
      ]
    },
    {
      "cell_type": "code",
      "execution_count": null,
      "metadata": {
        "id": "er7YU4JoqQbG"
      },
      "outputs": [],
      "source": [
        "class EncoderSelfAttn(nn.Module):\n",
        "    def __init__(self, n_features, d_model, n_heads, ff_units):\n",
        "        super().__init__()\n",
        "        self.d_model = d_model  # d_model is just another name for hidden_dim\n",
        "        self.ff_units = ff_units\n",
        "        self.n_features = n_features\n",
        "        self.n_heads = n_heads\n",
        "        self.hidden = None\n",
        "        self.embd = nn.Embedding(self.n_features, self.d_model)\n",
        "        self.self_attn_heads = MultiHeadAttention(n_heads, d_model, input_dim=self.d_model)\n",
        "        self.ffn = nn.Sequential(\n",
        "            nn.Linear(d_model, ff_units),\n",
        "            nn.ReLU(),\n",
        "            nn.Linear(ff_units, d_model),\n",
        "        )\n",
        "\n",
        "    def forward(self, X):\n",
        "        # X is source sequence of shape N, F\n",
        "        X_embd = self.embd(X) # N, F -> N, F, H\n",
        "        #rnn_out, self.hidden = self.basic_rnn(X_embd) # N, F, H x N, H, H  ->  N, F, H\n",
        "\n",
        "        self.self_attn_heads.init_keys(X_embd)\n",
        "        att = self.self_attn_heads(X_embd) # N, F, n_heads * H\n",
        "        out = self.ffn(att)  # N, F, H\n",
        "\n",
        "        return out # N, F, H"
      ]
    },
    {
      "cell_type": "code",
      "execution_count": null,
      "metadata": {
        "id": "eFr44kMRypLC"
      },
      "outputs": [],
      "source": [
        "inputs = torch.empty(2, 2, dtype=torch.long, device=device).fill_(SOS_token)  # remove me"
      ]
    },
    {
      "cell_type": "code",
      "execution_count": null,
      "metadata": {
        "colab": {
          "base_uri": "https://localhost:8080/"
        },
        "id": "4TrGhk2KygQv",
        "outputId": "7cf46af1-d768-4916-9e23-2dff8138432c"
      },
      "outputs": [
        {
          "output_type": "execute_result",
          "data": {
            "text/plain": [
              "tensor([[[ 0.4564, -0.2936,  0.2393, -0.3333,  0.3368],\n",
              "         [ 0.4564, -0.2936,  0.2393, -0.3333,  0.3368]],\n",
              "\n",
              "        [[ 0.4564, -0.2936,  0.2393, -0.3333,  0.3368],\n",
              "         [ 0.4564, -0.2936,  0.2393, -0.3333,  0.3368]]],\n",
              "       grad_fn=<ViewBackward0>)"
            ]
          },
          "metadata": {},
          "execution_count": 65
        }
      ],
      "source": [
        "encoderSelfAttention = EncoderSelfAttn(n_features=2, d_model=5, n_heads=4, ff_units=4).to(device)\n",
        "hidden_seq = encoderSelfAttention(inputs)\n",
        "hidden_seq"
      ]
    },
    {
      "cell_type": "markdown",
      "metadata": {
        "id": "COwOMyr93GoU"
      },
      "source": [
        "### Decoder with self attention and cross attention"
      ]
    },
    {
      "cell_type": "code",
      "execution_count": null,
      "metadata": {
        "id": "tWFVw23S3M5I"
      },
      "outputs": [],
      "source": [
        "class DecoderSelfAttn(nn.Module):\n",
        "    def __init__(self, n_features, d_model, n_heads, ff_units):\n",
        "        super().__init__()\n",
        "        self.d_model = d_model\n",
        "        self.hidden = None\n",
        "        self.n_features = n_features\n",
        "        self.embedding = nn.Embedding(self.n_features, self.d_model)\n",
        "        self.self_attn_heads = MultiHeadAttention(n_heads, self.d_model, input_dim=self.d_model)\n",
        "        self.cross_attn_heads = MultiHeadAttention(n_heads, self.d_model)\n",
        "        self.ffn = nn.Sequential(\n",
        "            nn.Linear(2*d_model, ff_units),\n",
        "            nn.ReLU(),\n",
        "            nn.Linear(ff_units, self.n_features),\n",
        "        )\n",
        "\n",
        "    def init_hidden(self, hidden_seq):\n",
        "        # the output of the encoder is N, F, H\n",
        "        # and init_keys expects batch-first as well\n",
        "        self.cross_attn_heads.init_keys(hidden_seq)\n",
        "\n",
        "    def forward(self, X, mask=None):\n",
        "        # X is N, 1\n",
        "        # N is batch size, H is hidden dimensions\n",
        "        X_embd = self.embedding(X) # N, 1 -> N, 1, H\n",
        "        self.self_attn_heads.init_keys(X_embd)\n",
        "        attn = self.self_attn_heads(X_embd)  # N, 1, H\n",
        "        attn2 = self.cross_attn_heads(attn)  # N, 1, H\n",
        "\n",
        "        concatenated = torch.cat([attn2, X_embd], axis=-1) # N, 1, 2*H\n",
        "        #out = self.regression(concatenated)  # N, 1, 2*H x N, 2*H, 1 -> N, 1, 1\n",
        "        out = self.ffn(concatenated) # N, 1, n_features\n",
        "\n",
        "        # N, 1, F\n",
        "        return out"
      ]
    },
    {
      "cell_type": "code",
      "execution_count": null,
      "metadata": {
        "id": "Sx1z63096l2t",
        "colab": {
          "base_uri": "https://localhost:8080/"
        },
        "outputId": "3fa2ade3-75a9-4924-b73f-c3daa893cfb1"
      },
      "outputs": [
        {
          "output_type": "stream",
          "name": "stdout",
          "text": [
            "Output: tensor([[[ 0.3530, -0.2214,  0.4408, -0.2818,  0.0044]],\n",
            "\n",
            "        [[ 0.3530, -0.2214,  0.4408, -0.2818,  0.0044]]],\n",
            "       grad_fn=<ViewBackward0>)\n",
            "\n",
            "Output: tensor([[[ 0.7678, -0.5111,  0.8152, -0.1618, -0.1201]],\n",
            "\n",
            "        [[ 0.7678, -0.5111,  0.8152, -0.1618, -0.1201]]],\n",
            "       grad_fn=<ViewBackward0>)\n",
            "\n",
            "combinet_outputs: tensor([[[ 0.3530, -0.2214,  0.4408, -0.2818,  0.0044],\n",
            "         [ 0.7678, -0.5111,  0.8152, -0.1618, -0.1201]],\n",
            "\n",
            "        [[ 0.3530, -0.2214,  0.4408, -0.2818,  0.0044],\n",
            "         [ 0.7678, -0.5111,  0.8152, -0.1618, -0.1201]]],\n",
            "       grad_fn=<CatBackward0>)\n"
          ]
        }
      ],
      "source": [
        "torch.manual_seed(21)\n",
        "decoder = DecoderSelfAttn(n_features=5, d_model=5, n_heads=5, ff_units=5)\n",
        "\n",
        "# Initial hidden state will be encoder's final hidden state\n",
        "decoder.init_hidden(hidden_seq)\n",
        "# Initial data point is the last element of source sequence\n",
        "#inputs = torch.empty(batch_size, 1, dtype=torch.long, device=device).fill_(SOS_token)\n",
        "inputs = torch.empty(2, 1, dtype=torch.long, device=device).fill_(SOS_token)  # remove me\n",
        "\n",
        "decoder_outputs = []\n",
        "target_len = 2\n",
        "for i in range(target_len):\n",
        "    decoder_output = decoder(inputs)   # Predicts coordinates\n",
        "    decoder_outputs.append(decoder_output)\n",
        "    _, topi = decoder_output.topk(1)\n",
        "    inputs = topi.squeeze(-1).detach()  # detach from history as input\n",
        "    print(f'Output: {decoder_output}\\n')\n",
        "decoder_outputs = torch.cat(decoder_outputs, dim=1)\n",
        "print(f'combinet_outputs: {decoder_outputs}')"
      ]
    },
    {
      "cell_type": "markdown",
      "metadata": {
        "id": "hO4ZwLld-oR8"
      },
      "source": [
        "## Encoder-Decoder Self-Attention"
      ]
    },
    {
      "cell_type": "code",
      "execution_count": null,
      "metadata": {
        "id": "-up-_8Jt94Kt"
      },
      "outputs": [],
      "source": [
        "class EncoderDecoderSelfAttention(nn.Module):\n",
        "    def __init__(self, encoder, decoder, target_len, teacher_forcing_prob=0.5):\n",
        "        super().__init__()\n",
        "        self.encoder = encoder\n",
        "        self.decoder = decoder\n",
        "        self.target_len = target_len\n",
        "        self.teacher_forcing_prob = teacher_forcing_prob\n",
        "        self.outputs = None\n",
        "\n",
        "    def init_outputs(self, batch_size):\n",
        "        device = next(self.parameters()).device\n",
        "        # N, L (target), F\n",
        "        self.outputs = torch.zeros(batch_size,\n",
        "                              self.target_len,\n",
        "                              self.encoder.n_features).to(device)\n",
        "\n",
        "    def store_output(self, i, out):\n",
        "        # Stores the output\n",
        "        self.outputs[:, i:i+1, :] = out\n",
        "\n",
        "    def forward(self, X, target_tensor=None):\n",
        "        # X is batch of sentences -> N, F\n",
        "        # splits the data in source and target sequences\n",
        "        # the target seq will be empty in testing mode\n",
        "        # N, L, F\n",
        "\n",
        "        # Encoder expected N, F\n",
        "        hidden_seq = self.encoder(X)\n",
        "        # Output is N, F, hidden_dim\n",
        "        self.decoder.init_hidden(hidden_seq)\n",
        "\n",
        "        # The last input of the encoder is also\n",
        "        # the first input of the decoder\n",
        "        #dec_inputs = source_seq[:, -1:, :]\n",
        "        batch_size = hidden_seq.size(0)\n",
        "\n",
        "        dec_inputs = torch.empty(batch_size, 1, dtype=torch.long, device=device).fill_(SOS_token)\n",
        "        decoder_outputs = []\n",
        "        # Generates as many outputs as the target length\n",
        "        for i in range(self.target_len):\n",
        "            # Output of decoder is N, 1, F\n",
        "            decoder_output = self.decoder(dec_inputs)\n",
        "            decoder_outputs.append(decoder_output)\n",
        "\n",
        "            prob = self.teacher_forcing_prob\n",
        "\n",
        "            # In evaluation/test the target sequence is\n",
        "            # unknown, so we cannot use teacher forcing\n",
        "            if not self.training:\n",
        "                prob = 0\n",
        "\n",
        "            if torch.rand(1) <= prob and target_tensor is not None:\n",
        "                # Teacher forcing: Feed the target as the next input\n",
        "                dec_inputs = target_tensor[:, i].unsqueeze(1) # Teacher forcing\n",
        "            else:\n",
        "                # Without teacher forcing: use its own predictions as the next input\n",
        "                _, topi = decoder_output.topk(1)\n",
        "                dec_inputs = topi.squeeze(-1).detach()  # detach from history as input\n",
        "\n",
        "            #_, topi = decoder_output.topk(1)\n",
        "            #dec_inputs = topi.squeeze(-1).detach()  # detach from history as input\n",
        "\n",
        "        decoder_outputs = torch.cat(decoder_outputs, dim=1)\n",
        "        decoder_outputs = F.log_softmax(decoder_outputs, dim=-1)\n",
        "        return decoder_outputs"
      ]
    },
    {
      "cell_type": "code",
      "execution_count": null,
      "metadata": {
        "id": "_vhXkNfgLLwl"
      },
      "outputs": [],
      "source": [
        "full_seq = torch.full((2, 3), 1)\n",
        "full_seq = full_seq.to(device)"
      ]
    },
    {
      "cell_type": "code",
      "execution_count": null,
      "metadata": {
        "id": "JBCP3IDg9Nea"
      },
      "outputs": [],
      "source": [
        "hidden_size = 128\n",
        "batch_size = 32\n",
        "encoder = EncoderSelfAttn(n_features=input_lang.n_words, d_model=hidden_size, n_heads=4, ff_units=4).to(device)\n",
        "decoder = DecoderSelfAttn(n_features=output_lang.n_words, d_model=hidden_size, n_heads=4, ff_units=4).to(device)"
      ]
    },
    {
      "cell_type": "code",
      "execution_count": null,
      "metadata": {
        "colab": {
          "base_uri": "https://localhost:8080/"
        },
        "id": "BO_Qae7P-Gb7",
        "outputId": "de284f3f-e79c-4afc-be73-1a93a56fdef9"
      },
      "outputs": [
        {
          "output_type": "execute_result",
          "data": {
            "text/plain": [
              "tensor([[[-8.1815, -7.6953, -7.7988,  ..., -7.8102, -8.5227, -8.0935],\n",
              "         [-8.2636, -7.6932, -7.7879,  ..., -7.7972, -8.4904, -8.1159],\n",
              "         [-8.2953, -7.7139, -7.8056,  ..., -7.9240, -8.4047, -8.1891],\n",
              "         ...,\n",
              "         [-8.2636, -7.6932, -7.7879,  ..., -7.7972, -8.4904, -8.1159],\n",
              "         [-8.2953, -7.7139, -7.8056,  ..., -7.9240, -8.4047, -8.1891],\n",
              "         [-8.2636, -7.6932, -7.7879,  ..., -7.7972, -8.4904, -8.1159]],\n",
              "\n",
              "        [[-8.1815, -7.6953, -7.7988,  ..., -7.8102, -8.5227, -8.0935],\n",
              "         [-8.2636, -7.6932, -7.7879,  ..., -7.7972, -8.4904, -8.1159],\n",
              "         [-8.2953, -7.7139, -7.8056,  ..., -7.9240, -8.4047, -8.1891],\n",
              "         ...,\n",
              "         [-8.2636, -7.6932, -7.7879,  ..., -7.7972, -8.4904, -8.1159],\n",
              "         [-8.2953, -7.7139, -7.8056,  ..., -7.9240, -8.4047, -8.1891],\n",
              "         [-8.2636, -7.6932, -7.7879,  ..., -7.7972, -8.4904, -8.1159]]],\n",
              "       grad_fn=<LogSoftmaxBackward0>)"
            ]
          },
          "metadata": {},
          "execution_count": 71
        }
      ],
      "source": [
        "encdec = EncoderDecoderSelfAttention(encoder, decoder, target_len=10)\n",
        "outputs = encdec(full_seq)\n",
        "outputs"
      ]
    },
    {
      "cell_type": "markdown",
      "metadata": {
        "id": "GxgdCVdtFblT"
      },
      "source": [
        "# Transformer"
      ]
    },
    {
      "cell_type": "code",
      "execution_count": null,
      "metadata": {
        "id": "YRy7FoqhIb6b"
      },
      "outputs": [],
      "source": [
        "class PositionalEncoding(nn.Module):\n",
        "    def __init__(self, max_len, d_model):\n",
        "        super().__init__()\n",
        "        self.d_model = d_model\n",
        "        pe = torch.zeros(max_len, d_model)\n",
        "        position = torch.arange(0, max_len).float().unsqueeze(1)\n",
        "        angular_speed = torch.exp(torch.arange(0, d_model, 2).float() * (-np.log(10000.0) / d_model))\n",
        "        pe[:, 0::2] = torch.sin(position * angular_speed) # even dimensions\n",
        "        pe[:, 1::2] = torch.cos(position * angular_speed) # odd dimensions\n",
        "        self.register_buffer('pe', pe.unsqueeze(0))\n",
        "\n",
        "    def forward(self, x):\n",
        "        # x is N, L, D\n",
        "        # pe is 1, maxlen, D\n",
        "        scaled_x = x * np.sqrt(self.d_model)\n",
        "        encoded = scaled_x + self.pe[:, :x.size(1), :]\n",
        "        return encoded # N, L, D"
      ]
    },
    {
      "cell_type": "code",
      "execution_count": null,
      "metadata": {
        "id": "9CUR65dSMhU4"
      },
      "outputs": [],
      "source": [
        "class MultiHeadedAttention(nn.Module):\n",
        "    def __init__(self, n_heads, d_model, dropout=0.1):\n",
        "        super(MultiHeadedAttention, self).__init__()\n",
        "        self.n_heads = n_heads\n",
        "        self.d_model = d_model\n",
        "        self.d_k = int(d_model / n_heads)\n",
        "        self.linear_query = nn.Linear(d_model, d_model)\n",
        "        self.linear_key = nn.Linear(d_model, d_model)\n",
        "        self.linear_value = nn.Linear(d_model, d_model)\n",
        "        self.linear_out = nn.Linear(d_model, d_model)\n",
        "        self.dropout = nn.Dropout(p=dropout)\n",
        "        self.alphas = None\n",
        "\n",
        "    def make_chunks(self, x):\n",
        "        batch_size, seq_len = x.size(0), x.size(1)\n",
        "        # N, L, D -> N, L, n_heads * d_k\n",
        "        x = x.view(batch_size, seq_len, self.n_heads, self.d_k)\n",
        "        # N, n_heads, L, d_k\n",
        "        x = x.transpose(1, 2)\n",
        "        return x\n",
        "\n",
        "    def init_keys(self, key):\n",
        "        # N, n_heads, L, d_k\n",
        "        self.proj_key = self.make_chunks(self.linear_key(key))\n",
        "        self.proj_value = self.make_chunks(self.linear_value(key))\n",
        "\n",
        "    def score_function(self, query):\n",
        "        # scaled dot product\n",
        "        # N, n_heads, L, d_k x # N, n_heads, d_k, L -> N, n_heads, L, L\n",
        "        proj_query = self.make_chunks(self.linear_query(query))\n",
        "        dot_products = torch.matmul(proj_query,\n",
        "                                    self.proj_key.transpose(-2, -1))\n",
        "        scores =  dot_products / np.sqrt(self.d_k)\n",
        "        return scores\n",
        "\n",
        "    def attn(self, query, mask=None):\n",
        "        # Query is batch-first: N, L, D\n",
        "        # Score function will generate scores for each head\n",
        "        scores = self.score_function(query) # N, n_heads, L, L\n",
        "        if mask is not None:\n",
        "            scores = scores.masked_fill(mask == 0, -1e9)\n",
        "        alphas = F.softmax(scores, dim=-1) # N, n_heads, L, L\n",
        "        alphas = self.dropout(alphas)\n",
        "        self.alphas = alphas.detach()\n",
        "\n",
        "        # N, n_heads, L, L x N, n_heads, L, d_k -> N, n_heads, L, d_k\n",
        "        context = torch.matmul(alphas, self.proj_value)\n",
        "        return context\n",
        "\n",
        "    def output_function(self, contexts):\n",
        "        # N, L, D\n",
        "        out = self.linear_out(contexts) # N, L, D\n",
        "        return out\n",
        "\n",
        "    def forward(self, query, mask=None):\n",
        "        if mask is not None:\n",
        "            # N, 1, L, L - every head uses the same mask\n",
        "            mask = mask.unsqueeze(1)\n",
        "\n",
        "        # N, n_heads, L, d_k\n",
        "        context = self.attn(query, mask=mask)\n",
        "        # N, L, n_heads, d_k\n",
        "        context = context.transpose(1, 2).contiguous()\n",
        "        # N, L, n_heads * d_k = N, L, d_model\n",
        "        context = context.view(query.size(0), -1, self.d_model)\n",
        "        # N, L, d_model\n",
        "        out = self.output_function(context)\n",
        "        return out"
      ]
    },
    {
      "cell_type": "code",
      "source": [
        "watch1 = \"\"\"\n",
        "The Hatter was the first to break the silence. `What day of the month is it?' he said, turning to Alice:  he had taken his watch out of his pocket, and was looking at it uneasily, shaking it every now and then, and holding it to his ear.\n",
        "\"\"\"\n",
        "\n",
        "watch2 = \"\"\"\n",
        "Alice thought this a very curious thing, and she went nearer to watch them, and just as she came up to them she heard one of them say, `Look out now, Five!  Don't go splashing paint over me like that!\n",
        "\"\"\"\n",
        "\n",
        "sentences = [watch1, watch2]"
      ],
      "metadata": {
        "id": "8T6TPZnSU9QJ"
      },
      "execution_count": null,
      "outputs": []
    },
    {
      "cell_type": "markdown",
      "metadata": {
        "id": "Dp3LpDtwPIph"
      },
      "source": [
        "## Preprocessing Embeddings"
      ]
    },
    {
      "cell_type": "markdown",
      "metadata": {
        "id": "C_Ke5z7WNwT1"
      },
      "source": [
        "## Transformer Encoder"
      ]
    },
    {
      "cell_type": "markdown",
      "metadata": {
        "id": "mXYoPU3UNwT2"
      },
      "source": [
        "![](https://github.com/dvgodoy/PyTorchStepByStep/blob/master/images/enc_both.png?raw=1)"
      ]
    },
    {
      "cell_type": "markdown",
      "metadata": {
        "id": "zVPRvS0tNwT2"
      },
      "source": [
        "$$\n",
        "\\large\n",
        "\\begin{aligned}\n",
        "&\\text{outputs}_{\\text{norm-last}}=&\\text{norm}(\\underbrace{\\text{norm(inputs + att(inputs))}}_{\\text{Output of SubLayer}_0} + \\text{ffn}(\\underbrace{\\text{norm(inputs + att(inputs))}}_{\\text{Output of SubLayer}_0}))\n",
        "\\\\\n",
        "\\\\\n",
        "&\\text{outputs}_{\\text{norm-first}}=&\\underbrace{\\text{inputs + att(norm(inputs))}}_{\\text{Output of SubLayer}_0}+\\text{ffn(norm(}\\underbrace{\\text{inputs + att(norm(inputs))}}_{\\text{Output of SubLayer}_0}))\n",
        "\\end{aligned}\n",
        "$$"
      ]
    },
    {
      "cell_type": "code",
      "execution_count": null,
      "metadata": {
        "id": "FYdXRKjbNwT3"
      },
      "outputs": [],
      "source": [
        "class EncoderLayer(nn.Module):\n",
        "    def __init__(self, n_heads, d_model, ff_units, dropout=0.1):\n",
        "        super().__init__()\n",
        "        self.n_heads = n_heads\n",
        "        self.d_model = d_model\n",
        "        self.ff_units = ff_units\n",
        "        self.self_attn_heads = MultiHeadedAttention(n_heads, d_model,\n",
        "                                                    dropout=dropout)\n",
        "        self.ffn = nn.Sequential(\n",
        "            nn.Linear(d_model, ff_units),\n",
        "            nn.ReLU(),\n",
        "            nn.Dropout(dropout),\n",
        "            nn.Linear(ff_units, d_model),\n",
        "        )\n",
        "\n",
        "        self.norm1 = nn.LayerNorm(d_model)\n",
        "        self.norm2 = nn.LayerNorm(d_model)\n",
        "        self.drop1 = nn.Dropout(dropout)\n",
        "        self.drop2 = nn.Dropout(dropout)\n",
        "\n",
        "    def forward(self, query, mask=None):\n",
        "        # Sublayer #0\n",
        "        # Norm\n",
        "        norm_query = self.norm1(query)\n",
        "        # Multi-headed Attention\n",
        "        self.self_attn_heads.init_keys(norm_query)\n",
        "        states = self.self_attn_heads(norm_query, mask) # N, L, D\n",
        "        # Add\n",
        "        att = query + self.drop1(states) # N, L, D\n",
        "\n",
        "        # Sublayer #1\n",
        "        # Norm\n",
        "        norm_att = self.norm2(att) # N, L, D\n",
        "        # Feed Forward\n",
        "        out = self.ffn(norm_att) # N, L, D\n",
        "        # Add\n",
        "        out = att + self.drop2(out)\n",
        "        return out # N, L, D"
      ]
    },
    {
      "cell_type": "code",
      "execution_count": null,
      "metadata": {
        "id": "8ex52QCuNwT3"
      },
      "outputs": [],
      "source": [
        "class EncoderTransf(nn.Module):\n",
        "    def __init__(self, encoder_layer, n_features, n_layers=1, max_len=100):\n",
        "        super().__init__()\n",
        "        self.d_model = encoder_layer.d_model\n",
        "        self.n_features = n_features\n",
        "        self.embd = nn.Embedding(self.n_features, self.d_model)\n",
        "        self.pe = PositionalEncoding(max_len, self.d_model)\n",
        "        self.norm = nn.LayerNorm(self.d_model)\n",
        "        self.layers = nn.ModuleList([copy.deepcopy(encoder_layer)\n",
        "                                     for _ in range(n_layers)])\n",
        "\n",
        "    def forward(self, query, mask=None):\n",
        "        # query is source sequence of shape N, L    i.e. N is the batch size, L is the sequence length\n",
        "        X_embd = self.embd(query) # N, L -> N, L, D\n",
        "        # Positional Encoding\n",
        "        x = self.pe(X_embd) # N, L, D\n",
        "        for layer in self.layers:\n",
        "            x = layer(x, mask) # N, L, D\n",
        "        # Norm\n",
        "        return self.norm(x) # N, L, D"
      ]
    },
    {
      "cell_type": "markdown",
      "source": [
        "### Encoder transformer with preprocessed bert embeddings (Ignore for now)"
      ],
      "metadata": {
        "id": "wslkM5DcTTzQ"
      }
    },
    {
      "cell_type": "code",
      "source": [
        "context_embeddings_tensor.size()"
      ],
      "metadata": {
        "colab": {
          "base_uri": "https://localhost:8080/"
        },
        "id": "SpztgQXsesK4",
        "outputId": "a94aabad-561a-47a8-9ae4-a69c98bd4112"
      },
      "execution_count": null,
      "outputs": [
        {
          "output_type": "execute_result",
          "data": {
            "text/plain": [
              "torch.Size([100, 768])"
            ]
          },
          "metadata": {},
          "execution_count": 77
        }
      ]
    },
    {
      "cell_type": "code",
      "source": [
        "# class MultiHeadedAttention(nn.Module):\n",
        "#     def __init__(self, n_heads, d_ff, d_model, dropout=0.1):\n",
        "#         super(MultiHeadedAttention, self).__init__()\n",
        "#         self.n_heads = n_heads\n",
        "#         self.d_model = d_model\n",
        "#         self.d_ff = d_ff\n",
        "#         self.d_k = int(d_model / n_heads)\n",
        "#         self.linear_query = nn.Linear(d_model, d_model)\n",
        "#         self.linear_key = nn.Linear(d_model, d_model)\n",
        "#         self.linear_value = nn.Linear(d_model, d_model)\n",
        "#         self.linear_out = nn.Linear(d_model, d_ff)\n",
        "#         self.dropout = nn.Dropout(p=dropout)\n",
        "#         self.alphas = None\n",
        "\n",
        "#     def make_chunks(self, x):\n",
        "#         batch_size, seq_len = x.size(0), x.size(1)\n",
        "#         # N, L, D -> N, L, n_heads * d_k\n",
        "#         x = x.view(batch_size, seq_len, self.n_heads, self.d_k)\n",
        "#         # N, n_heads, L, d_k\n",
        "#         x = x.transpose(1, 2)\n",
        "#         return x\n",
        "\n",
        "#     def init_keys(self, key):\n",
        "#         # N, n_heads, L, d_k\n",
        "#         self.proj_key = self.make_chunks(self.linear_key(key))\n",
        "#         self.proj_value = self.make_chunks(self.linear_value(key))\n",
        "\n",
        "#     def score_function(self, query):\n",
        "#         # scaled dot product\n",
        "#         # N, n_heads, L, d_k x # N, n_heads, d_k, L -> N, n_heads, L, L\n",
        "#         proj_query = self.make_chunks(self.linear_query(query))\n",
        "#         dot_products = torch.matmul(proj_query,\n",
        "#                                     self.proj_key.transpose(-2, -1))\n",
        "#         scores =  dot_products / np.sqrt(self.d_k)\n",
        "#         return scores\n",
        "\n",
        "#     def attn(self, query, mask=None):\n",
        "#         # Query is batch-first: N, L, D\n",
        "#         # Score function will generate scores for each head\n",
        "#         scores = self.score_function(query) # N, n_heads, L, L\n",
        "#         if mask is not None:\n",
        "#             scores = scores.masked_fill(mask == 0, -1e9)\n",
        "#         alphas = F.softmax(scores, dim=-1) # N, n_heads, L, L\n",
        "#         alphas = self.dropout(alphas)\n",
        "#         self.alphas = alphas.detach()\n",
        "\n",
        "#         # N, n_heads, L, L x N, n_heads, L, d_k -> N, n_heads, L, d_k\n",
        "#         context = torch.matmul(alphas, self.proj_value)\n",
        "#         return context\n",
        "\n",
        "#     def output_function(self, contexts):\n",
        "#         # N, L, D\n",
        "#         out = self.linear_out(contexts) # N, L, d_ff\n",
        "#         return out\n",
        "\n",
        "#     def forward(self, query, mask=None):\n",
        "#         if mask is not None:\n",
        "#             # N, 1, L, L - every head uses the same mask\n",
        "#             mask = mask.unsqueeze(1)\n",
        "\n",
        "#         # N, n_heads, L, d_k\n",
        "#         context = self.attn(query, mask=mask)\n",
        "#         # N, L, n_heads, d_k\n",
        "#         context = context.transpose(1, 2).contiguous()\n",
        "#         # N, L, n_heads * d_k = N, L, d_model\n",
        "#         context = context.view(query.size(0), -1, self.d_model)\n",
        "#         # N, L, d_ff\n",
        "#         out = self.output_function(context)\n",
        "#         return out # N, L, d_ff"
      ],
      "metadata": {
        "id": "i5vA4UV5jCaP"
      },
      "execution_count": null,
      "outputs": []
    },
    {
      "cell_type": "code",
      "source": [
        "# class EncoderLayer(nn.Module):\n",
        "#     def __init__(self, n_heads, d_ff, d_model, ff_units, dropout=0.1):\n",
        "#         super().__init__()\n",
        "#         self.n_heads = n_heads\n",
        "#         self.d_ff = d_ff\n",
        "#         self.d_model = d_model\n",
        "#         self.ff_units = ff_units\n",
        "#         self.self_attn_heads = MultiHeadedAttention(n_heads, d_model,\n",
        "#                                                     dropout=dropout)\n",
        "#         self.ffn = nn.Sequential(\n",
        "#             nn.Linear(d_model, ff_units),\n",
        "#             nn.ReLU(),\n",
        "#             nn.Dropout(dropout),\n",
        "#             nn.Linear(ff_units, d_ff),\n",
        "#         )\n",
        "\n",
        "#         self.norm1 = nn.LayerNorm(d_model)\n",
        "#         self.norm2 = nn.LayerNorm(d_model)\n",
        "#         self.drop1 = nn.Dropout(dropout)\n",
        "#         self.drop2 = nn.Dropout(dropout)\n",
        "\n",
        "#     def forward(self, query, mask=None):\n",
        "#         # Sublayer #0\n",
        "#         # Norm\n",
        "#         norm_query = self.norm1(query)\n",
        "#         # Multi-headed Attention\n",
        "#         self.self_attn_heads.init_keys(norm_query)\n",
        "#         states = self.self_attn_heads(norm_query, mask) # N, L, d_ff\n",
        "#         # Add\n",
        "#         att = query + self.drop1(states) # N, L, d_ff\n",
        "\n",
        "#         # Sublayer #1\n",
        "#         # Norm\n",
        "#         norm_att = self.norm2(att) # N, L, D\n",
        "#         # Feed Forward\n",
        "#         out = self.ffn(norm_att) # N, L, d_ff\n",
        "#         # Add\n",
        "#         out = att + self.drop2(out)\n",
        "#         return out # N, L, d_ff"
      ],
      "metadata": {
        "id": "Ug4dPSMThiqA"
      },
      "execution_count": null,
      "outputs": []
    },
    {
      "cell_type": "code",
      "source": [
        "# class EncoderTransf(nn.Module):\n",
        "#     def __init__(self, encoder_layer, pretrained_embeddings, n_features, n_layers=1, max_len=100):\n",
        "#         super().__init__()\n",
        "#         self.d_model = encoder_layer.d_model\n",
        "#         self.embd_dim = pretrained_embeddings.size(-1)\n",
        "#         self.n_features = n_features\n",
        "#         #self.embd = nn.Embedding(self.n_features, self.d_model)\n",
        "#         # Reshape the embeddings to (Vocabulary Size, Embedding Dimension)\n",
        "\n",
        "#         # Create an Embedding layer and initialize it with the reshaped embeddings\n",
        "#         self.embd = nn.Embedding.from_pretrained(pretrained_embeddings, freeze=True)\n",
        "#         self.pe = PositionalEncoding(max_len, self.d_model)\n",
        "#         self.norm = nn.LayerNorm(self.d_model)\n",
        "#         self.layers = nn.ModuleList([copy.deepcopy(encoder_layer)\n",
        "#                                      for _ in range(n_layers)])\n",
        "\n",
        "#     def forward(self, query, mask=None):\n",
        "#         # query is source sequence of shape N, L    i.e. N is the batch size, L is the sequence length\n",
        "#         X_embd = self.embd(query) # N, L -> N, L, D\n",
        "#         # Positional Encoding\n",
        "#         x = self.pe(X_embd) # N, L, D\n",
        "#         for layer in self.layers:\n",
        "#             x = layer(x, mask) # N, L, D\n",
        "#         # Norm\n",
        "#         return self.norm(x) # N, L, D"
      ],
      "metadata": {
        "id": "zoBD1SHtTTLc"
      },
      "execution_count": null,
      "outputs": []
    },
    {
      "cell_type": "markdown",
      "source": [
        "#### Testing Encoder with preprocessed embeddings"
      ],
      "metadata": {
        "id": "nFV9RTzk9WV1"
      }
    },
    {
      "cell_type": "code",
      "source": [
        "# enclayer = EncoderLayer(d_model=context_embeddings_tensor.size(-1), n_heads=3, ff_units=20)\n",
        "# enctransf = EncoderTransf(enclayer, pretrained_embeddings=context_embeddings_tensor, n_features=2, n_layers=1)"
      ],
      "metadata": {
        "id": "6mkutfOt86W6"
      },
      "execution_count": null,
      "outputs": []
    },
    {
      "cell_type": "code",
      "execution_count": null,
      "metadata": {
        "id": "6iiJs_GcNkcb",
        "colab": {
          "base_uri": "https://localhost:8080/"
        },
        "outputId": "22aaf8b5-b55b-4ca8-f3bb-9c15940109e4"
      },
      "outputs": [
        {
          "output_type": "execute_result",
          "data": {
            "text/plain": [
              "tensor([[[ 0.7375, -1.1245, -0.1031,  1.8165, -0.6327, -0.6937],\n",
              "         [ 0.8794, -1.3398, -0.2175,  1.6932, -0.5368, -0.4785]],\n",
              "\n",
              "        [[ 0.5379, -1.1888, -0.1337,  1.9076, -0.6321, -0.4908],\n",
              "         [ 0.9084, -1.2327, -0.1013,  1.6855, -0.5569, -0.7029]]],\n",
              "       grad_fn=<NativeLayerNormBackward0>)"
            ]
          },
          "metadata": {},
          "execution_count": 97
        }
      ],
      "source": [
        "# full_seq = torch.full((2, 2), 1)  # remove me\n",
        "# outputs = enctransf(full_seq)\n",
        "# outputs"
      ]
    },
    {
      "cell_type": "markdown",
      "metadata": {
        "id": "fVTdyiMev4_6"
      },
      "source": [
        "### Testing Transformer Encoder"
      ]
    },
    {
      "cell_type": "code",
      "execution_count": null,
      "metadata": {
        "id": "JPBlyyiiNA0P"
      },
      "outputs": [],
      "source": [
        "enclayer = EncoderLayer(d_model=6, n_heads=3, ff_units=20)\n",
        "enctransf = EncoderTransf(enclayer, n_features=2, n_layers=1)"
      ]
    },
    {
      "cell_type": "code",
      "execution_count": null,
      "metadata": {
        "id": "tYcNyRvgNwT4"
      },
      "outputs": [],
      "source": [
        "#enclayer = nn.TransformerEncoderLayer(d_model=6, nhead=3, dim_feedforward=20)\n",
        "#enctransf = nn.TransformerEncoder(enclayer, num_layers=1, norm=nn.LayerNorm)"
      ]
    },
    {
      "cell_type": "markdown",
      "metadata": {
        "id": "dZHPrqBeNwT4"
      },
      "source": [
        "## Transformer Decoder"
      ]
    },
    {
      "cell_type": "markdown",
      "metadata": {
        "id": "aMBfkO6KNwT5"
      },
      "source": [
        "![](https://github.com/dvgodoy/PyTorchStepByStep/blob/master/images/dec_both.png?raw=1)"
      ]
    },
    {
      "cell_type": "code",
      "execution_count": null,
      "metadata": {
        "id": "IihqH32DNwT5"
      },
      "outputs": [],
      "source": [
        "class DecoderLayer(nn.Module):\n",
        "    def __init__(self, n_heads, d_model, ff_units, dropout=0.1):\n",
        "        super().__init__()\n",
        "        self.n_heads = n_heads\n",
        "        self.d_model = d_model\n",
        "        self.ff_units = ff_units\n",
        "        self.self_attn_heads = MultiHeadedAttention(n_heads, d_model,\n",
        "                                                    dropout=dropout)\n",
        "        self.cross_attn_heads = MultiHeadedAttention(n_heads, d_model,\n",
        "                                                     dropout=dropout)\n",
        "        self.ffn = nn.Sequential(\n",
        "            nn.Linear(d_model, ff_units),\n",
        "            nn.ReLU(),\n",
        "            nn.Dropout(dropout),\n",
        "            nn.Linear(ff_units, d_model),\n",
        "        )\n",
        "\n",
        "        self.norm1 = nn.LayerNorm(d_model)\n",
        "        self.norm2 = nn.LayerNorm(d_model)\n",
        "        self.norm3 = nn.LayerNorm(d_model)\n",
        "        self.drop1 = nn.Dropout(dropout)\n",
        "        self.drop2 = nn.Dropout(dropout)\n",
        "        self.drop3 = nn.Dropout(dropout)\n",
        "\n",
        "    def init_keys(self, states):\n",
        "        self.cross_attn_heads.init_keys(states)\n",
        "\n",
        "    def forward(self, query, source_mask=None, target_mask=None):\n",
        "        # Sublayer #0\n",
        "        # Norm\n",
        "        norm_query = self.norm1(query)\n",
        "        # Masked Multi-head Attention\n",
        "        self.self_attn_heads.init_keys(norm_query)\n",
        "        states = self.self_attn_heads(norm_query, target_mask)   # N, 1, D\n",
        "        # Add\n",
        "        att1 = query + self.drop1(states)\n",
        "\n",
        "        # Sublayer #1\n",
        "        # Norm\n",
        "        norm_att1 = self.norm2(att1)\n",
        "        # Multi-head Attention\n",
        "        encoder_states = self.cross_attn_heads(norm_att1, source_mask) # N, 1, D\n",
        "        # Add\n",
        "        att2 = att1 + self.drop2(encoder_states)\n",
        "\n",
        "        # Sublayer #2\n",
        "        # Norm\n",
        "        norm_att2 = self.norm3(att2)\n",
        "        # Feed Forward\n",
        "        out = self.ffn(norm_att2) # N, 1, D\n",
        "        # Add\n",
        "        out = att2 + self.drop3(out)\n",
        "        return out # N, 1, D"
      ]
    },
    {
      "cell_type": "code",
      "execution_count": null,
      "metadata": {
        "id": "dEtnxSOCNwT5"
      },
      "outputs": [],
      "source": [
        "class DecoderTransf(nn.Module):\n",
        "    def __init__(self, decoder_layer, output_features, n_layers=1, max_len=100):\n",
        "        super(DecoderTransf, self).__init__()\n",
        "        self.d_model = decoder_layer.d_model\n",
        "        self.embedding = nn.Embedding(output_features, self.d_model)\n",
        "        self.pe = PositionalEncoding(max_len, self.d_model)\n",
        "        self.norm = nn.LayerNorm(self.d_model)\n",
        "        self.layers = nn.ModuleList([copy.deepcopy(decoder_layer)\n",
        "                                     for _ in range(n_layers)])\n",
        "\n",
        "    def init_keys(self, states):\n",
        "        for layer in self.layers:\n",
        "            layer.init_keys(states)\n",
        "\n",
        "    def forward(self, query, source_mask=None, target_mask=None):\n",
        "        # Embedding\n",
        "        query = self.embedding(query) # N, 1 -> N, 1, D\n",
        "        # Positional Encoding\n",
        "        x = self.pe(query)\n",
        "        for layer in self.layers:\n",
        "            x = layer(x, source_mask, target_mask)\n",
        "        # Norm\n",
        "        return self.norm(x) # N, 1, D"
      ]
    },
    {
      "cell_type": "markdown",
      "metadata": {
        "id": "cMq8Svd3vnbs"
      },
      "source": [
        "## Transformer Encoder-Decoder"
      ]
    },
    {
      "cell_type": "code",
      "execution_count": null,
      "metadata": {
        "id": "gFB69cIbztyr"
      },
      "outputs": [],
      "source": [
        "class EncoderDecoderSelfAttentionTransformer(nn.Module):\n",
        "    def __init__(self, encoder, decoder, output_features, target_len, teacher_forcing_prob=0.5):\n",
        "        super().__init__()\n",
        "        self.encoder = encoder\n",
        "        self.decoder = decoder\n",
        "        self.target_len = target_len\n",
        "        self.teacher_forcing_prob = teacher_forcing_prob\n",
        "        self.outputs = None\n",
        "        self.linear = nn.Linear(encoder.d_model, output_features)\n",
        "\n",
        "    def init_outputs(self, batch_size):\n",
        "        device = next(self.parameters()).device\n",
        "        # N, L (target), F\n",
        "        self.outputs = torch.zeros(batch_size,\n",
        "                              self.target_len,\n",
        "                              self.encoder.n_features).to(device)\n",
        "\n",
        "    def store_output(self, i, out):\n",
        "        # Stores the output\n",
        "        self.outputs[:, i:i+1, :] = out\n",
        "\n",
        "    def encode(self, source_seq, source_mask=None):\n",
        "        # Projection\n",
        "        #source_proj = self.proj(source_seq)\n",
        "        encoder_states = self.encoder(source_seq, source_mask)\n",
        "        self.decoder.init_keys(encoder_states)\n",
        "        return encoder_states\n",
        "\n",
        "    def decode(self, shifted_target_seq, source_mask=None, target_mask=None):\n",
        "        # Projection\n",
        "        #target_proj = self.proj(shifted_target_seq)\n",
        "        outputs = self.decoder(shifted_target_seq,\n",
        "                               source_mask=source_mask,\n",
        "                               target_mask=target_mask)\n",
        "        # Linear\n",
        "        outputs = self.linear(outputs)\n",
        "        return outputs\n",
        "\n",
        "    def forward(self, X, target_tensor=None):\n",
        "        # X is batch of sentences -> N, L\n",
        "        # splits the data in source and target sequences\n",
        "        # the target seq will be empty in testing mode\n",
        "        # N, L, D\n",
        "\n",
        "        encoder_states = self.encode(X) # N, L, D\n",
        "        # Encoder expected N, L\n",
        "        #encoder_states = self.encoder(X)\n",
        "        # Output is N, L, D\n",
        "        #self.decoder.init_keys(encoder_states)\n",
        "\n",
        "        # The last input of the encoder is also\n",
        "        # the first input of the decoder\n",
        "        #dec_inputs = source_seq[:, -1:, :]\n",
        "        batch_size = encoder_states.size(0)\n",
        "\n",
        "        dec_inputs = torch.empty(batch_size, 1, dtype=torch.long, device=device).fill_(SOS_token)\n",
        "        decoder_outputs = []\n",
        "        # Generates as many outputs as the target length\n",
        "        for i in range(self.target_len):\n",
        "            # Output of decoder is N, 1, D\n",
        "            decoder_output = self.decode(dec_inputs)\n",
        "            #decoder_output = self.linear(decoder_output)\n",
        "            decoder_outputs.append(decoder_output)\n",
        "\n",
        "            prob = self.teacher_forcing_prob\n",
        "\n",
        "            # In evaluation/test the target sequence is\n",
        "            # unknown, so we cannot use teacher forcing\n",
        "            if not self.training:\n",
        "                prob = 0\n",
        "\n",
        "            if torch.rand(1) <= prob and target_tensor is not None:\n",
        "                # Teacher forcing: Feed the target as the next input\n",
        "                dec_inputs = target_tensor[:, i].unsqueeze(1) # Teacher forcing\n",
        "            else:\n",
        "                # Without teacher forcing: use its own predictions as the next input\n",
        "                _, topi = decoder_output.topk(1)\n",
        "                dec_inputs = topi.squeeze(-1).detach()  # detach from history as input\n",
        "\n",
        "            #_, topi = decoder_output.topk(1)\n",
        "            #dec_inputs = topi.squeeze(-1).detach()  # detach from history as input\n",
        "\n",
        "        decoder_outputs = torch.cat(decoder_outputs, dim=1)\n",
        "        decoder_outputs = F.log_softmax(decoder_outputs, dim=-1)\n",
        "        return decoder_outputs"
      ]
    },
    {
      "cell_type": "markdown",
      "metadata": {
        "id": "cvKOj8gSvt_W"
      },
      "source": [
        "### Testing Encoder-Decoder Transformer architecture"
      ]
    },
    {
      "cell_type": "code",
      "execution_count": null,
      "metadata": {
        "id": "YsfqpHvX5RaC"
      },
      "outputs": [],
      "source": [
        "full_seq = torch.full((2, 5), 1)"
      ]
    },
    {
      "cell_type": "code",
      "execution_count": null,
      "metadata": {
        "id": "zLGAEpLg5ndq"
      },
      "outputs": [],
      "source": [
        "enclayer = EncoderLayer(d_model=12, n_heads=3, ff_units=20)\n",
        "enctransf = EncoderTransf(enclayer, n_features=input_lang.n_words, n_layers=1)\n",
        "\n",
        "declayer = DecoderLayer(d_model=12, n_heads=3, ff_units=20)\n",
        "dectransf = DecoderTransf(decoder_layer=declayer, output_features=output_lang.n_words, n_layers=1)"
      ]
    },
    {
      "cell_type": "code",
      "execution_count": null,
      "metadata": {
        "id": "rYzpBmJc5yv7",
        "colab": {
          "base_uri": "https://localhost:8080/"
        },
        "outputId": "ca707343-9540-4714-e280-13dbf9db5c12"
      },
      "outputs": [
        {
          "output_type": "execute_result",
          "data": {
            "text/plain": [
              "torch.Size([2, 2, 2991])"
            ]
          },
          "metadata": {},
          "execution_count": 103
        }
      ],
      "source": [
        "enc_dec = EncoderDecoderSelfAttentionTransformer(enctransf, dectransf, output_features=output_lang.n_words, target_len=2)\n",
        "enc_dec(full_seq).size()"
      ]
    },
    {
      "cell_type": "code",
      "execution_count": null,
      "metadata": {
        "id": "w6bjz3ixK_HD",
        "colab": {
          "base_uri": "https://localhost:8080/",
          "height": 392
        },
        "outputId": "e1b80e07-183e-40ad-f1f9-96f0a0e05307"
      },
      "outputs": [
        {
          "output_type": "error",
          "ename": "IndexError",
          "evalue": "index out of range in self",
          "traceback": [
            "\u001b[0;31m---------------------------------------------------------------------------\u001b[0m",
            "\u001b[0;31mIndexError\u001b[0m                                Traceback (most recent call last)",
            "\u001b[0;32m<ipython-input-104-c084034ba769>\u001b[0m in \u001b[0;36m<cell line: 12>\u001b[0;34m()\u001b[0m\n\u001b[1;32m     12\u001b[0m \u001b[0;32mfor\u001b[0m \u001b[0mdata\u001b[0m \u001b[0;32min\u001b[0m \u001b[0mtrain_dataloader\u001b[0m\u001b[0;34m:\u001b[0m\u001b[0;34m\u001b[0m\u001b[0;34m\u001b[0m\u001b[0m\n\u001b[1;32m     13\u001b[0m     \u001b[0minput_tensor\u001b[0m\u001b[0;34m,\u001b[0m \u001b[0mtarget_tensor\u001b[0m \u001b[0;34m=\u001b[0m \u001b[0mdata\u001b[0m\u001b[0;34m\u001b[0m\u001b[0;34m\u001b[0m\u001b[0m\n\u001b[0;32m---> 14\u001b[0;31m     \u001b[0mdecoder_outputs\u001b[0m \u001b[0;34m=\u001b[0m \u001b[0mmodel\u001b[0m\u001b[0;34m(\u001b[0m\u001b[0minput_tensor\u001b[0m\u001b[0;34m,\u001b[0m \u001b[0mtarget_tensor\u001b[0m\u001b[0;34m)\u001b[0m\u001b[0;34m\u001b[0m\u001b[0;34m\u001b[0m\u001b[0m\n\u001b[0m\u001b[1;32m     15\u001b[0m     \u001b[0mprint\u001b[0m\u001b[0;34m(\u001b[0m\u001b[0;34mf\"target_tensor: {target_tensor.view(-1).size()}, decoder_outputs: {decoder_outputs.view(-1, decoder_outputs.size(-1)).size()}\"\u001b[0m\u001b[0;34m)\u001b[0m\u001b[0;34m\u001b[0m\u001b[0;34m\u001b[0m\u001b[0m\n\u001b[1;32m     16\u001b[0m     \u001b[0;32mbreak\u001b[0m\u001b[0;34m\u001b[0m\u001b[0;34m\u001b[0m\u001b[0m\n",
            "\u001b[0;32m/usr/local/lib/python3.10/dist-packages/torch/nn/modules/module.py\u001b[0m in \u001b[0;36m_wrapped_call_impl\u001b[0;34m(self, *args, **kwargs)\u001b[0m\n\u001b[1;32m   1516\u001b[0m             \u001b[0;32mreturn\u001b[0m \u001b[0mself\u001b[0m\u001b[0;34m.\u001b[0m\u001b[0m_compiled_call_impl\u001b[0m\u001b[0;34m(\u001b[0m\u001b[0;34m*\u001b[0m\u001b[0margs\u001b[0m\u001b[0;34m,\u001b[0m \u001b[0;34m**\u001b[0m\u001b[0mkwargs\u001b[0m\u001b[0;34m)\u001b[0m  \u001b[0;31m# type: ignore[misc]\u001b[0m\u001b[0;34m\u001b[0m\u001b[0;34m\u001b[0m\u001b[0m\n\u001b[1;32m   1517\u001b[0m         \u001b[0;32melse\u001b[0m\u001b[0;34m:\u001b[0m\u001b[0;34m\u001b[0m\u001b[0;34m\u001b[0m\u001b[0m\n\u001b[0;32m-> 1518\u001b[0;31m             \u001b[0;32mreturn\u001b[0m \u001b[0mself\u001b[0m\u001b[0;34m.\u001b[0m\u001b[0m_call_impl\u001b[0m\u001b[0;34m(\u001b[0m\u001b[0;34m*\u001b[0m\u001b[0margs\u001b[0m\u001b[0;34m,\u001b[0m \u001b[0;34m**\u001b[0m\u001b[0mkwargs\u001b[0m\u001b[0;34m)\u001b[0m\u001b[0;34m\u001b[0m\u001b[0;34m\u001b[0m\u001b[0m\n\u001b[0m\u001b[1;32m   1519\u001b[0m \u001b[0;34m\u001b[0m\u001b[0m\n\u001b[1;32m   1520\u001b[0m     \u001b[0;32mdef\u001b[0m \u001b[0m_call_impl\u001b[0m\u001b[0;34m(\u001b[0m\u001b[0mself\u001b[0m\u001b[0;34m,\u001b[0m \u001b[0;34m*\u001b[0m\u001b[0margs\u001b[0m\u001b[0;34m,\u001b[0m \u001b[0;34m**\u001b[0m\u001b[0mkwargs\u001b[0m\u001b[0;34m)\u001b[0m\u001b[0;34m:\u001b[0m\u001b[0;34m\u001b[0m\u001b[0;34m\u001b[0m\u001b[0m\n",
            "\u001b[0;32m/usr/local/lib/python3.10/dist-packages/torch/nn/modules/module.py\u001b[0m in \u001b[0;36m_call_impl\u001b[0;34m(self, *args, **kwargs)\u001b[0m\n\u001b[1;32m   1525\u001b[0m                 \u001b[0;32mor\u001b[0m \u001b[0m_global_backward_pre_hooks\u001b[0m \u001b[0;32mor\u001b[0m \u001b[0m_global_backward_hooks\u001b[0m\u001b[0;34m\u001b[0m\u001b[0;34m\u001b[0m\u001b[0m\n\u001b[1;32m   1526\u001b[0m                 or _global_forward_hooks or _global_forward_pre_hooks):\n\u001b[0;32m-> 1527\u001b[0;31m             \u001b[0;32mreturn\u001b[0m \u001b[0mforward_call\u001b[0m\u001b[0;34m(\u001b[0m\u001b[0;34m*\u001b[0m\u001b[0margs\u001b[0m\u001b[0;34m,\u001b[0m \u001b[0;34m**\u001b[0m\u001b[0mkwargs\u001b[0m\u001b[0;34m)\u001b[0m\u001b[0;34m\u001b[0m\u001b[0;34m\u001b[0m\u001b[0m\n\u001b[0m\u001b[1;32m   1528\u001b[0m \u001b[0;34m\u001b[0m\u001b[0m\n\u001b[1;32m   1529\u001b[0m         \u001b[0;32mtry\u001b[0m\u001b[0;34m:\u001b[0m\u001b[0;34m\u001b[0m\u001b[0;34m\u001b[0m\u001b[0m\n",
            "\u001b[0;32m<ipython-input-100-e7058dcd9d2b>\u001b[0m in \u001b[0;36mforward\u001b[0;34m(self, X, target_tensor)\u001b[0m\n\u001b[1;32m     43\u001b[0m         \u001b[0;31m# N, L, D\u001b[0m\u001b[0;34m\u001b[0m\u001b[0;34m\u001b[0m\u001b[0m\n\u001b[1;32m     44\u001b[0m \u001b[0;34m\u001b[0m\u001b[0m\n\u001b[0;32m---> 45\u001b[0;31m         \u001b[0mencoder_states\u001b[0m \u001b[0;34m=\u001b[0m \u001b[0mself\u001b[0m\u001b[0;34m.\u001b[0m\u001b[0mencode\u001b[0m\u001b[0;34m(\u001b[0m\u001b[0mX\u001b[0m\u001b[0;34m)\u001b[0m \u001b[0;31m# N, L, D\u001b[0m\u001b[0;34m\u001b[0m\u001b[0;34m\u001b[0m\u001b[0m\n\u001b[0m\u001b[1;32m     46\u001b[0m         \u001b[0;31m# Encoder expected N, L\u001b[0m\u001b[0;34m\u001b[0m\u001b[0;34m\u001b[0m\u001b[0m\n\u001b[1;32m     47\u001b[0m         \u001b[0;31m#encoder_states = self.encoder(X)\u001b[0m\u001b[0;34m\u001b[0m\u001b[0;34m\u001b[0m\u001b[0m\n",
            "\u001b[0;32m<ipython-input-100-e7058dcd9d2b>\u001b[0m in \u001b[0;36mencode\u001b[0;34m(self, source_seq, source_mask)\u001b[0m\n\u001b[1;32m     23\u001b[0m         \u001b[0;31m# Projection\u001b[0m\u001b[0;34m\u001b[0m\u001b[0;34m\u001b[0m\u001b[0m\n\u001b[1;32m     24\u001b[0m         \u001b[0;31m#source_proj = self.proj(source_seq)\u001b[0m\u001b[0;34m\u001b[0m\u001b[0;34m\u001b[0m\u001b[0m\n\u001b[0;32m---> 25\u001b[0;31m         \u001b[0mencoder_states\u001b[0m \u001b[0;34m=\u001b[0m \u001b[0mself\u001b[0m\u001b[0;34m.\u001b[0m\u001b[0mencoder\u001b[0m\u001b[0;34m(\u001b[0m\u001b[0msource_seq\u001b[0m\u001b[0;34m,\u001b[0m \u001b[0msource_mask\u001b[0m\u001b[0;34m)\u001b[0m\u001b[0;34m\u001b[0m\u001b[0;34m\u001b[0m\u001b[0m\n\u001b[0m\u001b[1;32m     26\u001b[0m         \u001b[0mself\u001b[0m\u001b[0;34m.\u001b[0m\u001b[0mdecoder\u001b[0m\u001b[0;34m.\u001b[0m\u001b[0minit_keys\u001b[0m\u001b[0;34m(\u001b[0m\u001b[0mencoder_states\u001b[0m\u001b[0;34m)\u001b[0m\u001b[0;34m\u001b[0m\u001b[0;34m\u001b[0m\u001b[0m\n\u001b[1;32m     27\u001b[0m         \u001b[0;32mreturn\u001b[0m \u001b[0mencoder_states\u001b[0m\u001b[0;34m\u001b[0m\u001b[0;34m\u001b[0m\u001b[0m\n",
            "\u001b[0;32m/usr/local/lib/python3.10/dist-packages/torch/nn/modules/module.py\u001b[0m in \u001b[0;36m_wrapped_call_impl\u001b[0;34m(self, *args, **kwargs)\u001b[0m\n\u001b[1;32m   1516\u001b[0m             \u001b[0;32mreturn\u001b[0m \u001b[0mself\u001b[0m\u001b[0;34m.\u001b[0m\u001b[0m_compiled_call_impl\u001b[0m\u001b[0;34m(\u001b[0m\u001b[0;34m*\u001b[0m\u001b[0margs\u001b[0m\u001b[0;34m,\u001b[0m \u001b[0;34m**\u001b[0m\u001b[0mkwargs\u001b[0m\u001b[0;34m)\u001b[0m  \u001b[0;31m# type: ignore[misc]\u001b[0m\u001b[0;34m\u001b[0m\u001b[0;34m\u001b[0m\u001b[0m\n\u001b[1;32m   1517\u001b[0m         \u001b[0;32melse\u001b[0m\u001b[0;34m:\u001b[0m\u001b[0;34m\u001b[0m\u001b[0;34m\u001b[0m\u001b[0m\n\u001b[0;32m-> 1518\u001b[0;31m             \u001b[0;32mreturn\u001b[0m \u001b[0mself\u001b[0m\u001b[0;34m.\u001b[0m\u001b[0m_call_impl\u001b[0m\u001b[0;34m(\u001b[0m\u001b[0;34m*\u001b[0m\u001b[0margs\u001b[0m\u001b[0;34m,\u001b[0m \u001b[0;34m**\u001b[0m\u001b[0mkwargs\u001b[0m\u001b[0;34m)\u001b[0m\u001b[0;34m\u001b[0m\u001b[0;34m\u001b[0m\u001b[0m\n\u001b[0m\u001b[1;32m   1519\u001b[0m \u001b[0;34m\u001b[0m\u001b[0m\n\u001b[1;32m   1520\u001b[0m     \u001b[0;32mdef\u001b[0m \u001b[0m_call_impl\u001b[0m\u001b[0;34m(\u001b[0m\u001b[0mself\u001b[0m\u001b[0;34m,\u001b[0m \u001b[0;34m*\u001b[0m\u001b[0margs\u001b[0m\u001b[0;34m,\u001b[0m \u001b[0;34m**\u001b[0m\u001b[0mkwargs\u001b[0m\u001b[0;34m)\u001b[0m\u001b[0;34m:\u001b[0m\u001b[0;34m\u001b[0m\u001b[0;34m\u001b[0m\u001b[0m\n",
            "\u001b[0;32m/usr/local/lib/python3.10/dist-packages/torch/nn/modules/module.py\u001b[0m in \u001b[0;36m_call_impl\u001b[0;34m(self, *args, **kwargs)\u001b[0m\n\u001b[1;32m   1525\u001b[0m                 \u001b[0;32mor\u001b[0m \u001b[0m_global_backward_pre_hooks\u001b[0m \u001b[0;32mor\u001b[0m \u001b[0m_global_backward_hooks\u001b[0m\u001b[0;34m\u001b[0m\u001b[0;34m\u001b[0m\u001b[0m\n\u001b[1;32m   1526\u001b[0m                 or _global_forward_hooks or _global_forward_pre_hooks):\n\u001b[0;32m-> 1527\u001b[0;31m             \u001b[0;32mreturn\u001b[0m \u001b[0mforward_call\u001b[0m\u001b[0;34m(\u001b[0m\u001b[0;34m*\u001b[0m\u001b[0margs\u001b[0m\u001b[0;34m,\u001b[0m \u001b[0;34m**\u001b[0m\u001b[0mkwargs\u001b[0m\u001b[0;34m)\u001b[0m\u001b[0;34m\u001b[0m\u001b[0;34m\u001b[0m\u001b[0m\n\u001b[0m\u001b[1;32m   1528\u001b[0m \u001b[0;34m\u001b[0m\u001b[0m\n\u001b[1;32m   1529\u001b[0m         \u001b[0;32mtry\u001b[0m\u001b[0;34m:\u001b[0m\u001b[0;34m\u001b[0m\u001b[0;34m\u001b[0m\u001b[0m\n",
            "\u001b[0;32m<ipython-input-91-dfc18349625f>\u001b[0m in \u001b[0;36mforward\u001b[0;34m(self, query, mask)\u001b[0m\n\u001b[1;32m     12\u001b[0m     \u001b[0;32mdef\u001b[0m \u001b[0mforward\u001b[0m\u001b[0;34m(\u001b[0m\u001b[0mself\u001b[0m\u001b[0;34m,\u001b[0m \u001b[0mquery\u001b[0m\u001b[0;34m,\u001b[0m \u001b[0mmask\u001b[0m\u001b[0;34m=\u001b[0m\u001b[0;32mNone\u001b[0m\u001b[0;34m)\u001b[0m\u001b[0;34m:\u001b[0m\u001b[0;34m\u001b[0m\u001b[0;34m\u001b[0m\u001b[0m\n\u001b[1;32m     13\u001b[0m         \u001b[0;31m# query is source sequence of shape N, L    i.e. N is the batch size, L is the sequence length\u001b[0m\u001b[0;34m\u001b[0m\u001b[0;34m\u001b[0m\u001b[0m\n\u001b[0;32m---> 14\u001b[0;31m         \u001b[0mX_embd\u001b[0m \u001b[0;34m=\u001b[0m \u001b[0mself\u001b[0m\u001b[0;34m.\u001b[0m\u001b[0membd\u001b[0m\u001b[0;34m(\u001b[0m\u001b[0mquery\u001b[0m\u001b[0;34m)\u001b[0m \u001b[0;31m# N, L -> N, L, D\u001b[0m\u001b[0;34m\u001b[0m\u001b[0;34m\u001b[0m\u001b[0m\n\u001b[0m\u001b[1;32m     15\u001b[0m         \u001b[0;31m# Positional Encoding\u001b[0m\u001b[0;34m\u001b[0m\u001b[0;34m\u001b[0m\u001b[0m\n\u001b[1;32m     16\u001b[0m         \u001b[0mx\u001b[0m \u001b[0;34m=\u001b[0m \u001b[0mself\u001b[0m\u001b[0;34m.\u001b[0m\u001b[0mpe\u001b[0m\u001b[0;34m(\u001b[0m\u001b[0mX_embd\u001b[0m\u001b[0;34m)\u001b[0m \u001b[0;31m# N, L, D\u001b[0m\u001b[0;34m\u001b[0m\u001b[0;34m\u001b[0m\u001b[0m\n",
            "\u001b[0;32m/usr/local/lib/python3.10/dist-packages/torch/nn/modules/module.py\u001b[0m in \u001b[0;36m_wrapped_call_impl\u001b[0;34m(self, *args, **kwargs)\u001b[0m\n\u001b[1;32m   1516\u001b[0m             \u001b[0;32mreturn\u001b[0m \u001b[0mself\u001b[0m\u001b[0;34m.\u001b[0m\u001b[0m_compiled_call_impl\u001b[0m\u001b[0;34m(\u001b[0m\u001b[0;34m*\u001b[0m\u001b[0margs\u001b[0m\u001b[0;34m,\u001b[0m \u001b[0;34m**\u001b[0m\u001b[0mkwargs\u001b[0m\u001b[0;34m)\u001b[0m  \u001b[0;31m# type: ignore[misc]\u001b[0m\u001b[0;34m\u001b[0m\u001b[0;34m\u001b[0m\u001b[0m\n\u001b[1;32m   1517\u001b[0m         \u001b[0;32melse\u001b[0m\u001b[0;34m:\u001b[0m\u001b[0;34m\u001b[0m\u001b[0;34m\u001b[0m\u001b[0m\n\u001b[0;32m-> 1518\u001b[0;31m             \u001b[0;32mreturn\u001b[0m \u001b[0mself\u001b[0m\u001b[0;34m.\u001b[0m\u001b[0m_call_impl\u001b[0m\u001b[0;34m(\u001b[0m\u001b[0;34m*\u001b[0m\u001b[0margs\u001b[0m\u001b[0;34m,\u001b[0m \u001b[0;34m**\u001b[0m\u001b[0mkwargs\u001b[0m\u001b[0;34m)\u001b[0m\u001b[0;34m\u001b[0m\u001b[0;34m\u001b[0m\u001b[0m\n\u001b[0m\u001b[1;32m   1519\u001b[0m \u001b[0;34m\u001b[0m\u001b[0m\n\u001b[1;32m   1520\u001b[0m     \u001b[0;32mdef\u001b[0m \u001b[0m_call_impl\u001b[0m\u001b[0;34m(\u001b[0m\u001b[0mself\u001b[0m\u001b[0;34m,\u001b[0m \u001b[0;34m*\u001b[0m\u001b[0margs\u001b[0m\u001b[0;34m,\u001b[0m \u001b[0;34m**\u001b[0m\u001b[0mkwargs\u001b[0m\u001b[0;34m)\u001b[0m\u001b[0;34m:\u001b[0m\u001b[0;34m\u001b[0m\u001b[0;34m\u001b[0m\u001b[0m\n",
            "\u001b[0;32m/usr/local/lib/python3.10/dist-packages/torch/nn/modules/module.py\u001b[0m in \u001b[0;36m_call_impl\u001b[0;34m(self, *args, **kwargs)\u001b[0m\n\u001b[1;32m   1525\u001b[0m                 \u001b[0;32mor\u001b[0m \u001b[0m_global_backward_pre_hooks\u001b[0m \u001b[0;32mor\u001b[0m \u001b[0m_global_backward_hooks\u001b[0m\u001b[0;34m\u001b[0m\u001b[0;34m\u001b[0m\u001b[0m\n\u001b[1;32m   1526\u001b[0m                 or _global_forward_hooks or _global_forward_pre_hooks):\n\u001b[0;32m-> 1527\u001b[0;31m             \u001b[0;32mreturn\u001b[0m \u001b[0mforward_call\u001b[0m\u001b[0;34m(\u001b[0m\u001b[0;34m*\u001b[0m\u001b[0margs\u001b[0m\u001b[0;34m,\u001b[0m \u001b[0;34m**\u001b[0m\u001b[0mkwargs\u001b[0m\u001b[0;34m)\u001b[0m\u001b[0;34m\u001b[0m\u001b[0;34m\u001b[0m\u001b[0m\n\u001b[0m\u001b[1;32m   1528\u001b[0m \u001b[0;34m\u001b[0m\u001b[0m\n\u001b[1;32m   1529\u001b[0m         \u001b[0;32mtry\u001b[0m\u001b[0;34m:\u001b[0m\u001b[0;34m\u001b[0m\u001b[0;34m\u001b[0m\u001b[0m\n",
            "\u001b[0;32m/usr/local/lib/python3.10/dist-packages/torch/nn/modules/sparse.py\u001b[0m in \u001b[0;36mforward\u001b[0;34m(self, input)\u001b[0m\n\u001b[1;32m    160\u001b[0m \u001b[0;34m\u001b[0m\u001b[0m\n\u001b[1;32m    161\u001b[0m     \u001b[0;32mdef\u001b[0m \u001b[0mforward\u001b[0m\u001b[0;34m(\u001b[0m\u001b[0mself\u001b[0m\u001b[0;34m,\u001b[0m \u001b[0minput\u001b[0m\u001b[0;34m:\u001b[0m \u001b[0mTensor\u001b[0m\u001b[0;34m)\u001b[0m \u001b[0;34m->\u001b[0m \u001b[0mTensor\u001b[0m\u001b[0;34m:\u001b[0m\u001b[0;34m\u001b[0m\u001b[0;34m\u001b[0m\u001b[0m\n\u001b[0;32m--> 162\u001b[0;31m         return F.embedding(\n\u001b[0m\u001b[1;32m    163\u001b[0m             \u001b[0minput\u001b[0m\u001b[0;34m,\u001b[0m \u001b[0mself\u001b[0m\u001b[0;34m.\u001b[0m\u001b[0mweight\u001b[0m\u001b[0;34m,\u001b[0m \u001b[0mself\u001b[0m\u001b[0;34m.\u001b[0m\u001b[0mpadding_idx\u001b[0m\u001b[0;34m,\u001b[0m \u001b[0mself\u001b[0m\u001b[0;34m.\u001b[0m\u001b[0mmax_norm\u001b[0m\u001b[0;34m,\u001b[0m\u001b[0;34m\u001b[0m\u001b[0;34m\u001b[0m\u001b[0m\n\u001b[1;32m    164\u001b[0m             self.norm_type, self.scale_grad_by_freq, self.sparse)\n",
            "\u001b[0;32m/usr/local/lib/python3.10/dist-packages/torch/nn/functional.py\u001b[0m in \u001b[0;36membedding\u001b[0;34m(input, weight, padding_idx, max_norm, norm_type, scale_grad_by_freq, sparse)\u001b[0m\n\u001b[1;32m   2231\u001b[0m         \u001b[0;31m# remove once script supports set_grad_enabled\u001b[0m\u001b[0;34m\u001b[0m\u001b[0;34m\u001b[0m\u001b[0m\n\u001b[1;32m   2232\u001b[0m         \u001b[0m_no_grad_embedding_renorm_\u001b[0m\u001b[0;34m(\u001b[0m\u001b[0mweight\u001b[0m\u001b[0;34m,\u001b[0m \u001b[0minput\u001b[0m\u001b[0;34m,\u001b[0m \u001b[0mmax_norm\u001b[0m\u001b[0;34m,\u001b[0m \u001b[0mnorm_type\u001b[0m\u001b[0;34m)\u001b[0m\u001b[0;34m\u001b[0m\u001b[0;34m\u001b[0m\u001b[0m\n\u001b[0;32m-> 2233\u001b[0;31m     \u001b[0;32mreturn\u001b[0m \u001b[0mtorch\u001b[0m\u001b[0;34m.\u001b[0m\u001b[0membedding\u001b[0m\u001b[0;34m(\u001b[0m\u001b[0mweight\u001b[0m\u001b[0;34m,\u001b[0m \u001b[0minput\u001b[0m\u001b[0;34m,\u001b[0m \u001b[0mpadding_idx\u001b[0m\u001b[0;34m,\u001b[0m \u001b[0mscale_grad_by_freq\u001b[0m\u001b[0;34m,\u001b[0m \u001b[0msparse\u001b[0m\u001b[0;34m)\u001b[0m\u001b[0;34m\u001b[0m\u001b[0;34m\u001b[0m\u001b[0m\n\u001b[0m\u001b[1;32m   2234\u001b[0m \u001b[0;34m\u001b[0m\u001b[0m\n\u001b[1;32m   2235\u001b[0m \u001b[0;34m\u001b[0m\u001b[0m\n",
            "\u001b[0;31mIndexError\u001b[0m: index out of range in self"
          ]
        }
      ],
      "source": [
        "# Encoder-Decoder with Attention and RNN\n",
        "#encoder = Encoder(input_lang.n_words, hidden_size).to(device)\n",
        "#decoder = DecoderAttn(output_lang.n_words, hidden_size).to(device)\n",
        "#model = EncoderDecoder(encoder, decoder, target_len=10)\n",
        "# Transformer\n",
        "enclayer = EncoderLayer(d_model=hidden_size, n_heads=3, ff_units=20)\n",
        "enctransf = EncoderTransf(enclayer, n_features=input_lang.n_words, n_layers=1)\n",
        "declayer = DecoderLayer(d_model=hidden_size, n_heads=3, ff_units=20)\n",
        "dectransf = DecoderTransf(decoder_layer=declayer, output_features=output_lang.n_words, n_layers=1)\n",
        "model = EncoderDecoderSelfAttentionTransformer(enctransf, dectransf, output_features=output_lang.n_words, target_len=10)\n",
        "\n",
        "for data in train_dataloader:\n",
        "    input_tensor, target_tensor = data\n",
        "    decoder_outputs = model(input_tensor, target_tensor)\n",
        "    print(f\"target_tensor: {target_tensor.view(-1).size()}, decoder_outputs: {decoder_outputs.view(-1, decoder_outputs.size(-1)).size()}\")\n",
        "    break"
      ]
    },
    {
      "cell_type": "markdown",
      "metadata": {
        "id": "5C9R5Qe7gNJ-"
      },
      "source": [
        "# Train"
      ]
    },
    {
      "cell_type": "code",
      "execution_count": null,
      "metadata": {
        "id": "t3sXkZ6xNOWV"
      },
      "outputs": [],
      "source": [
        "def train_epoch(dataloader, model, optimizer, criterion):\n",
        "\n",
        "    total_loss = 0\n",
        "    for data in dataloader:\n",
        "        input_tensor, target_tensor = data\n",
        "\n",
        "        optimizer.zero_grad()\n",
        "        decoder_outputs = model(input_tensor, target_tensor)\n",
        "\n",
        "        loss = criterion(\n",
        "            decoder_outputs.view(-1, decoder_outputs.size(-1)),\n",
        "            target_tensor.view(-1)\n",
        "        )\n",
        "        loss.backward()\n",
        "\n",
        "        # Step 4 - Updates parameters using gradients and the learning rate\n",
        "        optimizer.step()\n",
        "\n",
        "        total_loss += loss.item()\n",
        "\n",
        "    return total_loss / len(dataloader)"
      ]
    },
    {
      "cell_type": "code",
      "execution_count": null,
      "metadata": {
        "id": "CU08RsKeNOWY"
      },
      "outputs": [],
      "source": [
        "import time\n",
        "import math\n",
        "\n",
        "def asMinutes(s):\n",
        "    m = math.floor(s / 60)\n",
        "    s -= m * 60\n",
        "    return '%dm %ds' % (m, s)\n",
        "\n",
        "def timeSince(since, percent):\n",
        "    now = time.time()\n",
        "    s = now - since\n",
        "    es = s / (percent)\n",
        "    rs = es - s\n",
        "    return '%s (- %s)' % (asMinutes(s), asMinutes(rs))"
      ]
    },
    {
      "cell_type": "code",
      "execution_count": null,
      "metadata": {
        "id": "vQM1wNGaNOWc"
      },
      "outputs": [],
      "source": [
        "def train(train_dataloader, model, n_epochs, learning_rate=0.001,\n",
        "               print_every=100, plot_every=100):\n",
        "    start = time.time()\n",
        "    plot_losses = []\n",
        "    print_loss_total = 0  # Reset every print_every\n",
        "    plot_loss_total = 0  # Reset every plot_every\n",
        "\n",
        "    optimizer = optim.Adam(model.parameters(), lr=learning_rate)\n",
        "    criterion = nn.NLLLoss()\n",
        "\n",
        "    for epoch in range(1, n_epochs + 1):\n",
        "        loss = train_epoch(train_dataloader, model, optimizer, criterion)\n",
        "        print_loss_total += loss\n",
        "        plot_loss_total += loss\n",
        "\n",
        "        if epoch % print_every == 0:\n",
        "            print_loss_avg = print_loss_total / print_every\n",
        "            print_loss_total = 0\n",
        "            print('%s (%d %d%%) %.4f' % (timeSince(start, epoch / n_epochs),\n",
        "                                        epoch, epoch / n_epochs * 100, print_loss_avg))\n",
        "\n",
        "        if epoch % plot_every == 0:\n",
        "            plot_loss_avg = plot_loss_total / plot_every\n",
        "            plot_losses.append(plot_loss_avg)\n",
        "            plot_loss_total = 0\n",
        "\n",
        "    showPlot(plot_losses)"
      ]
    },
    {
      "cell_type": "code",
      "execution_count": null,
      "metadata": {
        "id": "p8bewjTmCs1Q"
      },
      "outputs": [],
      "source": [
        "import matplotlib.pyplot as plt\n",
        "plt.switch_backend('agg')\n",
        "import matplotlib.ticker as ticker\n",
        "import numpy as np\n",
        "\n",
        "def showPlot(points):\n",
        "    plt.figure()\n",
        "    fig, ax = plt.subplots()\n",
        "    # this locator puts ticks at regular intervals\n",
        "    loc = ticker.MultipleLocator(base=0.2)\n",
        "    ax.yaxis.set_major_locator(loc)\n",
        "    plt.plot(points)"
      ]
    },
    {
      "cell_type": "code",
      "execution_count": null,
      "metadata": {
        "id": "fYMR8GW1F1gj",
        "cellView": "form"
      },
      "outputs": [],
      "source": [
        "#@title Testing Encoder-Decoder with Attention and RNN on one batch of dataset\n",
        "encoder = Encoder(input_lang.n_words, hidden_size).to(device)\n",
        "decoder = DecoderAttn(output_lang.n_words, hidden_size).to(device)\n",
        "model = EncoderDecoder(encoder, decoder, target_len=10)\n",
        "\n",
        "for data in train_dataloader:\n",
        "    input_tensor, target_tensor = data\n",
        "    decoder_outputs = model(input_tensor, target_tensor)\n",
        "    print(target_tensor.view(-1).size())\n",
        "    print(decoder_outputs.size())\n",
        "    print(f\"target_tensor: {target_tensor.view(-1).size()}, decoder_outputs: {decoder_outputs.view(-1, decoder_outputs.size(-1)).size()}\")\n",
        "    break"
      ]
    },
    {
      "cell_type": "code",
      "source": [
        "# Preprocessed embeddings dataloader\n",
        "#input_lang, output_lang, train_dataloader, context_embeddings_tensor = get_dataloader(batch_size=32)"
      ],
      "metadata": {
        "id": "MTLZ6ERWN-lG"
      },
      "execution_count": null,
      "outputs": []
    },
    {
      "cell_type": "code",
      "source": [
        "# # Simple Encoder-Decoder with preprocessed embeddings\n",
        "\n",
        "# encoder = Encoder(context_embeddings_tensor, hidden_dim=hidden_size).to(device)\n",
        "# decoder = Decoder(pretrained_embeddings=context_embeddings_tensor, output_size=output_lang.n_words, hidden_dim=hidden_size).to(device)\n",
        "# model = EncoderDecoder(encoder, decoder, target_len=10)\n",
        "\n",
        "# for data in train_dataloader:\n",
        "#     input_tensor, target_tensor = data\n",
        "#     decoder_outputs = model(input_tensor, target_tensor)\n",
        "#     print(target_tensor.view(-1).size())\n",
        "#     print(decoder_outputs.size())\n",
        "#     print(f\"target_tensor: {target_tensor.view(-1).size()}, decoder_outputs: {decoder_outputs.view(-1, decoder_outputs.size(-1)).size()}\")\n",
        "#     break"
      ],
      "metadata": {
        "id": "Z930gq6LLL5_"
      },
      "execution_count": null,
      "outputs": []
    },
    {
      "cell_type": "code",
      "execution_count": null,
      "metadata": {
        "colab": {
          "base_uri": "https://localhost:8080/",
          "height": 496
        },
        "id": "g1VpUdEC9Cev",
        "outputId": "7278064e-2ee0-4714-9901-f6d5cc243d1a"
      },
      "outputs": [
        {
          "output_type": "stream",
          "name": "stdout",
          "text": [
            "Reading lines...\n",
            "Read 135842 sentence pairs\n",
            "Trimmed to 11445 sentence pairs\n",
            "Counting words...\n",
            "Counted words:\n",
            "fra 4601\n",
            "eng 2991\n",
            "worked so far\n"
          ]
        },
        {
          "output_type": "error",
          "ename": "RuntimeError",
          "evalue": "Expected hidden size (1, 32, 126), got [1, 2, 128]",
          "traceback": [
            "\u001b[0;31m---------------------------------------------------------------------------\u001b[0m",
            "\u001b[0;31mRuntimeError\u001b[0m                              Traceback (most recent call last)",
            "\u001b[0;32m<ipython-input-328-d863dd1573af>\u001b[0m in \u001b[0;36m<cell line: 30>\u001b[0;34m()\u001b[0m\n\u001b[1;32m     28\u001b[0m \u001b[0;31m# model = EncoderDecoderSelfAttentionTransformer(enctransf, dectransf, output_features=output_lang.n_words, target_len=10)\u001b[0m\u001b[0;34m\u001b[0m\u001b[0;34m\u001b[0m\u001b[0m\n\u001b[1;32m     29\u001b[0m \u001b[0;34m\u001b[0m\u001b[0m\n\u001b[0;32m---> 30\u001b[0;31m \u001b[0mtrain\u001b[0m\u001b[0;34m(\u001b[0m\u001b[0mtrain_dataloader\u001b[0m\u001b[0;34m,\u001b[0m \u001b[0mmodel\u001b[0m\u001b[0;34m,\u001b[0m \u001b[0;36m80\u001b[0m\u001b[0;34m,\u001b[0m \u001b[0mprint_every\u001b[0m\u001b[0;34m=\u001b[0m\u001b[0;36m5\u001b[0m\u001b[0;34m,\u001b[0m \u001b[0mplot_every\u001b[0m\u001b[0;34m=\u001b[0m\u001b[0;36m5\u001b[0m\u001b[0;34m)\u001b[0m\u001b[0;34m\u001b[0m\u001b[0;34m\u001b[0m\u001b[0m\n\u001b[0m",
            "\u001b[0;32m<ipython-input-326-ccb5a464f799>\u001b[0m in \u001b[0;36mtrain\u001b[0;34m(train_dataloader, model, n_epochs, learning_rate, print_every, plot_every)\u001b[0m\n\u001b[1;32m     10\u001b[0m \u001b[0;34m\u001b[0m\u001b[0m\n\u001b[1;32m     11\u001b[0m     \u001b[0;32mfor\u001b[0m \u001b[0mepoch\u001b[0m \u001b[0;32min\u001b[0m \u001b[0mrange\u001b[0m\u001b[0;34m(\u001b[0m\u001b[0;36m1\u001b[0m\u001b[0;34m,\u001b[0m \u001b[0mn_epochs\u001b[0m \u001b[0;34m+\u001b[0m \u001b[0;36m1\u001b[0m\u001b[0;34m)\u001b[0m\u001b[0;34m:\u001b[0m\u001b[0;34m\u001b[0m\u001b[0;34m\u001b[0m\u001b[0m\n\u001b[0;32m---> 12\u001b[0;31m         \u001b[0mloss\u001b[0m \u001b[0;34m=\u001b[0m \u001b[0mtrain_epoch\u001b[0m\u001b[0;34m(\u001b[0m\u001b[0mtrain_dataloader\u001b[0m\u001b[0;34m,\u001b[0m \u001b[0mmodel\u001b[0m\u001b[0;34m,\u001b[0m \u001b[0moptimizer\u001b[0m\u001b[0;34m,\u001b[0m \u001b[0mcriterion\u001b[0m\u001b[0;34m)\u001b[0m\u001b[0;34m\u001b[0m\u001b[0;34m\u001b[0m\u001b[0m\n\u001b[0m\u001b[1;32m     13\u001b[0m         \u001b[0mprint_loss_total\u001b[0m \u001b[0;34m+=\u001b[0m \u001b[0mloss\u001b[0m\u001b[0;34m\u001b[0m\u001b[0;34m\u001b[0m\u001b[0m\n\u001b[1;32m     14\u001b[0m         \u001b[0mplot_loss_total\u001b[0m \u001b[0;34m+=\u001b[0m \u001b[0mloss\u001b[0m\u001b[0;34m\u001b[0m\u001b[0;34m\u001b[0m\u001b[0m\n",
            "\u001b[0;32m<ipython-input-324-f107cc92bf05>\u001b[0m in \u001b[0;36mtrain_epoch\u001b[0;34m(dataloader, model, optimizer, criterion)\u001b[0m\n\u001b[1;32m      6\u001b[0m \u001b[0;34m\u001b[0m\u001b[0m\n\u001b[1;32m      7\u001b[0m         \u001b[0moptimizer\u001b[0m\u001b[0;34m.\u001b[0m\u001b[0mzero_grad\u001b[0m\u001b[0;34m(\u001b[0m\u001b[0;34m)\u001b[0m\u001b[0;34m\u001b[0m\u001b[0;34m\u001b[0m\u001b[0m\n\u001b[0;32m----> 8\u001b[0;31m         \u001b[0mdecoder_outputs\u001b[0m \u001b[0;34m=\u001b[0m \u001b[0mmodel\u001b[0m\u001b[0;34m(\u001b[0m\u001b[0minput_tensor\u001b[0m\u001b[0;34m,\u001b[0m \u001b[0mtarget_tensor\u001b[0m\u001b[0;34m)\u001b[0m\u001b[0;34m\u001b[0m\u001b[0;34m\u001b[0m\u001b[0m\n\u001b[0m\u001b[1;32m      9\u001b[0m \u001b[0;34m\u001b[0m\u001b[0m\n\u001b[1;32m     10\u001b[0m         loss = criterion(\n",
            "\u001b[0;32m/usr/local/lib/python3.10/dist-packages/torch/nn/modules/module.py\u001b[0m in \u001b[0;36m_wrapped_call_impl\u001b[0;34m(self, *args, **kwargs)\u001b[0m\n\u001b[1;32m   1516\u001b[0m             \u001b[0;32mreturn\u001b[0m \u001b[0mself\u001b[0m\u001b[0;34m.\u001b[0m\u001b[0m_compiled_call_impl\u001b[0m\u001b[0;34m(\u001b[0m\u001b[0;34m*\u001b[0m\u001b[0margs\u001b[0m\u001b[0;34m,\u001b[0m \u001b[0;34m**\u001b[0m\u001b[0mkwargs\u001b[0m\u001b[0;34m)\u001b[0m  \u001b[0;31m# type: ignore[misc]\u001b[0m\u001b[0;34m\u001b[0m\u001b[0;34m\u001b[0m\u001b[0m\n\u001b[1;32m   1517\u001b[0m         \u001b[0;32melse\u001b[0m\u001b[0;34m:\u001b[0m\u001b[0;34m\u001b[0m\u001b[0;34m\u001b[0m\u001b[0m\n\u001b[0;32m-> 1518\u001b[0;31m             \u001b[0;32mreturn\u001b[0m \u001b[0mself\u001b[0m\u001b[0;34m.\u001b[0m\u001b[0m_call_impl\u001b[0m\u001b[0;34m(\u001b[0m\u001b[0;34m*\u001b[0m\u001b[0margs\u001b[0m\u001b[0;34m,\u001b[0m \u001b[0;34m**\u001b[0m\u001b[0mkwargs\u001b[0m\u001b[0;34m)\u001b[0m\u001b[0;34m\u001b[0m\u001b[0;34m\u001b[0m\u001b[0m\n\u001b[0m\u001b[1;32m   1519\u001b[0m \u001b[0;34m\u001b[0m\u001b[0m\n\u001b[1;32m   1520\u001b[0m     \u001b[0;32mdef\u001b[0m \u001b[0m_call_impl\u001b[0m\u001b[0;34m(\u001b[0m\u001b[0mself\u001b[0m\u001b[0;34m,\u001b[0m \u001b[0;34m*\u001b[0m\u001b[0margs\u001b[0m\u001b[0;34m,\u001b[0m \u001b[0;34m**\u001b[0m\u001b[0mkwargs\u001b[0m\u001b[0;34m)\u001b[0m\u001b[0;34m:\u001b[0m\u001b[0;34m\u001b[0m\u001b[0;34m\u001b[0m\u001b[0m\n",
            "\u001b[0;32m/usr/local/lib/python3.10/dist-packages/torch/nn/modules/module.py\u001b[0m in \u001b[0;36m_call_impl\u001b[0;34m(self, *args, **kwargs)\u001b[0m\n\u001b[1;32m   1525\u001b[0m                 \u001b[0;32mor\u001b[0m \u001b[0m_global_backward_pre_hooks\u001b[0m \u001b[0;32mor\u001b[0m \u001b[0m_global_backward_hooks\u001b[0m\u001b[0;34m\u001b[0m\u001b[0;34m\u001b[0m\u001b[0m\n\u001b[1;32m   1526\u001b[0m                 or _global_forward_hooks or _global_forward_pre_hooks):\n\u001b[0;32m-> 1527\u001b[0;31m             \u001b[0;32mreturn\u001b[0m \u001b[0mforward_call\u001b[0m\u001b[0;34m(\u001b[0m\u001b[0;34m*\u001b[0m\u001b[0margs\u001b[0m\u001b[0;34m,\u001b[0m \u001b[0;34m**\u001b[0m\u001b[0mkwargs\u001b[0m\u001b[0;34m)\u001b[0m\u001b[0;34m\u001b[0m\u001b[0;34m\u001b[0m\u001b[0m\n\u001b[0m\u001b[1;32m   1528\u001b[0m \u001b[0;34m\u001b[0m\u001b[0m\n\u001b[1;32m   1529\u001b[0m         \u001b[0;32mtry\u001b[0m\u001b[0;34m:\u001b[0m\u001b[0;34m\u001b[0m\u001b[0;34m\u001b[0m\u001b[0m\n",
            "\u001b[0;32m<ipython-input-271-ad7d9b3f6616>\u001b[0m in \u001b[0;36mforward\u001b[0;34m(self, X, target_tensor)\u001b[0m\n\u001b[1;32m     40\u001b[0m         \u001b[0;32mfor\u001b[0m \u001b[0mi\u001b[0m \u001b[0;32min\u001b[0m \u001b[0mrange\u001b[0m\u001b[0;34m(\u001b[0m\u001b[0mself\u001b[0m\u001b[0;34m.\u001b[0m\u001b[0mtarget_len\u001b[0m\u001b[0;34m)\u001b[0m\u001b[0;34m:\u001b[0m\u001b[0;34m\u001b[0m\u001b[0;34m\u001b[0m\u001b[0m\n\u001b[1;32m     41\u001b[0m             \u001b[0;31m# Output of decoder is N, 1, F\u001b[0m\u001b[0;34m\u001b[0m\u001b[0;34m\u001b[0m\u001b[0m\n\u001b[0;32m---> 42\u001b[0;31m             \u001b[0mdecoder_output\u001b[0m \u001b[0;34m=\u001b[0m \u001b[0mself\u001b[0m\u001b[0;34m.\u001b[0m\u001b[0mdecoder\u001b[0m\u001b[0;34m(\u001b[0m\u001b[0mdec_inputs\u001b[0m\u001b[0;34m)\u001b[0m\u001b[0;34m\u001b[0m\u001b[0;34m\u001b[0m\u001b[0m\n\u001b[0m\u001b[1;32m     43\u001b[0m             \u001b[0mdecoder_outputs\u001b[0m\u001b[0;34m.\u001b[0m\u001b[0mappend\u001b[0m\u001b[0;34m(\u001b[0m\u001b[0mdecoder_output\u001b[0m\u001b[0;34m)\u001b[0m\u001b[0;34m\u001b[0m\u001b[0;34m\u001b[0m\u001b[0m\n\u001b[1;32m     44\u001b[0m \u001b[0;34m\u001b[0m\u001b[0m\n",
            "\u001b[0;32m/usr/local/lib/python3.10/dist-packages/torch/nn/modules/module.py\u001b[0m in \u001b[0;36m_wrapped_call_impl\u001b[0;34m(self, *args, **kwargs)\u001b[0m\n\u001b[1;32m   1516\u001b[0m             \u001b[0;32mreturn\u001b[0m \u001b[0mself\u001b[0m\u001b[0;34m.\u001b[0m\u001b[0m_compiled_call_impl\u001b[0m\u001b[0;34m(\u001b[0m\u001b[0;34m*\u001b[0m\u001b[0margs\u001b[0m\u001b[0;34m,\u001b[0m \u001b[0;34m**\u001b[0m\u001b[0mkwargs\u001b[0m\u001b[0;34m)\u001b[0m  \u001b[0;31m# type: ignore[misc]\u001b[0m\u001b[0;34m\u001b[0m\u001b[0;34m\u001b[0m\u001b[0m\n\u001b[1;32m   1517\u001b[0m         \u001b[0;32melse\u001b[0m\u001b[0;34m:\u001b[0m\u001b[0;34m\u001b[0m\u001b[0;34m\u001b[0m\u001b[0m\n\u001b[0;32m-> 1518\u001b[0;31m             \u001b[0;32mreturn\u001b[0m \u001b[0mself\u001b[0m\u001b[0;34m.\u001b[0m\u001b[0m_call_impl\u001b[0m\u001b[0;34m(\u001b[0m\u001b[0;34m*\u001b[0m\u001b[0margs\u001b[0m\u001b[0;34m,\u001b[0m \u001b[0;34m**\u001b[0m\u001b[0mkwargs\u001b[0m\u001b[0;34m)\u001b[0m\u001b[0;34m\u001b[0m\u001b[0;34m\u001b[0m\u001b[0m\n\u001b[0m\u001b[1;32m   1519\u001b[0m \u001b[0;34m\u001b[0m\u001b[0m\n\u001b[1;32m   1520\u001b[0m     \u001b[0;32mdef\u001b[0m \u001b[0m_call_impl\u001b[0m\u001b[0;34m(\u001b[0m\u001b[0mself\u001b[0m\u001b[0;34m,\u001b[0m \u001b[0;34m*\u001b[0m\u001b[0margs\u001b[0m\u001b[0;34m,\u001b[0m \u001b[0;34m**\u001b[0m\u001b[0mkwargs\u001b[0m\u001b[0;34m)\u001b[0m\u001b[0;34m:\u001b[0m\u001b[0;34m\u001b[0m\u001b[0;34m\u001b[0m\u001b[0m\n",
            "\u001b[0;32m/usr/local/lib/python3.10/dist-packages/torch/nn/modules/module.py\u001b[0m in \u001b[0;36m_call_impl\u001b[0;34m(self, *args, **kwargs)\u001b[0m\n\u001b[1;32m   1525\u001b[0m                 \u001b[0;32mor\u001b[0m \u001b[0m_global_backward_pre_hooks\u001b[0m \u001b[0;32mor\u001b[0m \u001b[0m_global_backward_hooks\u001b[0m\u001b[0;34m\u001b[0m\u001b[0;34m\u001b[0m\u001b[0m\n\u001b[1;32m   1526\u001b[0m                 or _global_forward_hooks or _global_forward_pre_hooks):\n\u001b[0;32m-> 1527\u001b[0;31m             \u001b[0;32mreturn\u001b[0m \u001b[0mforward_call\u001b[0m\u001b[0;34m(\u001b[0m\u001b[0;34m*\u001b[0m\u001b[0margs\u001b[0m\u001b[0;34m,\u001b[0m \u001b[0;34m**\u001b[0m\u001b[0mkwargs\u001b[0m\u001b[0;34m)\u001b[0m\u001b[0;34m\u001b[0m\u001b[0;34m\u001b[0m\u001b[0m\n\u001b[0m\u001b[1;32m   1528\u001b[0m \u001b[0;34m\u001b[0m\u001b[0m\n\u001b[1;32m   1529\u001b[0m         \u001b[0;32mtry\u001b[0m\u001b[0;34m:\u001b[0m\u001b[0;34m\u001b[0m\u001b[0;34m\u001b[0m\u001b[0m\n",
            "\u001b[0;32m<ipython-input-262-6e11f49ddc16>\u001b[0m in \u001b[0;36mforward\u001b[0;34m(self, X)\u001b[0m\n\u001b[1;32m     22\u001b[0m     \u001b[0;32mdef\u001b[0m \u001b[0mforward\u001b[0m\u001b[0;34m(\u001b[0m\u001b[0mself\u001b[0m\u001b[0;34m,\u001b[0m \u001b[0mX\u001b[0m\u001b[0;34m)\u001b[0m\u001b[0;34m:\u001b[0m\u001b[0;34m\u001b[0m\u001b[0;34m\u001b[0m\u001b[0m\n\u001b[1;32m     23\u001b[0m         \u001b[0mX\u001b[0m \u001b[0;34m=\u001b[0m \u001b[0mself\u001b[0m\u001b[0;34m.\u001b[0m\u001b[0membd\u001b[0m\u001b[0;34m(\u001b[0m\u001b[0mX\u001b[0m\u001b[0;34m)\u001b[0m \u001b[0;31m# N, 1 -> N, 1, embd_dim\u001b[0m\u001b[0;34m\u001b[0m\u001b[0;34m\u001b[0m\u001b[0m\n\u001b[0;32m---> 24\u001b[0;31m         \u001b[0mbatch_first_output\u001b[0m\u001b[0;34m,\u001b[0m \u001b[0mself\u001b[0m\u001b[0;34m.\u001b[0m\u001b[0mhidden\u001b[0m \u001b[0;34m=\u001b[0m \u001b[0mself\u001b[0m\u001b[0;34m.\u001b[0m\u001b[0mbasic_rnn\u001b[0m\u001b[0;34m(\u001b[0m\u001b[0mX\u001b[0m\u001b[0;34m,\u001b[0m \u001b[0mself\u001b[0m\u001b[0;34m.\u001b[0m\u001b[0mhidden\u001b[0m\u001b[0;34m)\u001b[0m  \u001b[0;31m# N, 1, embd_dim x N, embd_dim, H -> N, 1, H\u001b[0m\u001b[0;34m\u001b[0m\u001b[0;34m\u001b[0m\u001b[0m\n\u001b[0m\u001b[1;32m     25\u001b[0m         \u001b[0mout\u001b[0m \u001b[0;34m=\u001b[0m \u001b[0mself\u001b[0m\u001b[0;34m.\u001b[0m\u001b[0mregression\u001b[0m\u001b[0;34m(\u001b[0m\u001b[0mbatch_first_output\u001b[0m\u001b[0;34m)\u001b[0m \u001b[0;31m# N, 1, output_size\u001b[0m\u001b[0;34m\u001b[0m\u001b[0;34m\u001b[0m\u001b[0m\n\u001b[1;32m     26\u001b[0m \u001b[0;34m\u001b[0m\u001b[0m\n",
            "\u001b[0;32m/usr/local/lib/python3.10/dist-packages/torch/nn/modules/module.py\u001b[0m in \u001b[0;36m_wrapped_call_impl\u001b[0;34m(self, *args, **kwargs)\u001b[0m\n\u001b[1;32m   1516\u001b[0m             \u001b[0;32mreturn\u001b[0m \u001b[0mself\u001b[0m\u001b[0;34m.\u001b[0m\u001b[0m_compiled_call_impl\u001b[0m\u001b[0;34m(\u001b[0m\u001b[0;34m*\u001b[0m\u001b[0margs\u001b[0m\u001b[0;34m,\u001b[0m \u001b[0;34m**\u001b[0m\u001b[0mkwargs\u001b[0m\u001b[0;34m)\u001b[0m  \u001b[0;31m# type: ignore[misc]\u001b[0m\u001b[0;34m\u001b[0m\u001b[0;34m\u001b[0m\u001b[0m\n\u001b[1;32m   1517\u001b[0m         \u001b[0;32melse\u001b[0m\u001b[0;34m:\u001b[0m\u001b[0;34m\u001b[0m\u001b[0;34m\u001b[0m\u001b[0m\n\u001b[0;32m-> 1518\u001b[0;31m             \u001b[0;32mreturn\u001b[0m \u001b[0mself\u001b[0m\u001b[0;34m.\u001b[0m\u001b[0m_call_impl\u001b[0m\u001b[0;34m(\u001b[0m\u001b[0;34m*\u001b[0m\u001b[0margs\u001b[0m\u001b[0;34m,\u001b[0m \u001b[0;34m**\u001b[0m\u001b[0mkwargs\u001b[0m\u001b[0;34m)\u001b[0m\u001b[0;34m\u001b[0m\u001b[0;34m\u001b[0m\u001b[0m\n\u001b[0m\u001b[1;32m   1519\u001b[0m \u001b[0;34m\u001b[0m\u001b[0m\n\u001b[1;32m   1520\u001b[0m     \u001b[0;32mdef\u001b[0m \u001b[0m_call_impl\u001b[0m\u001b[0;34m(\u001b[0m\u001b[0mself\u001b[0m\u001b[0;34m,\u001b[0m \u001b[0;34m*\u001b[0m\u001b[0margs\u001b[0m\u001b[0;34m,\u001b[0m \u001b[0;34m**\u001b[0m\u001b[0mkwargs\u001b[0m\u001b[0;34m)\u001b[0m\u001b[0;34m:\u001b[0m\u001b[0;34m\u001b[0m\u001b[0;34m\u001b[0m\u001b[0m\n",
            "\u001b[0;32m/usr/local/lib/python3.10/dist-packages/torch/nn/modules/module.py\u001b[0m in \u001b[0;36m_call_impl\u001b[0;34m(self, *args, **kwargs)\u001b[0m\n\u001b[1;32m   1525\u001b[0m                 \u001b[0;32mor\u001b[0m \u001b[0m_global_backward_pre_hooks\u001b[0m \u001b[0;32mor\u001b[0m \u001b[0m_global_backward_hooks\u001b[0m\u001b[0;34m\u001b[0m\u001b[0;34m\u001b[0m\u001b[0m\n\u001b[1;32m   1526\u001b[0m                 or _global_forward_hooks or _global_forward_pre_hooks):\n\u001b[0;32m-> 1527\u001b[0;31m             \u001b[0;32mreturn\u001b[0m \u001b[0mforward_call\u001b[0m\u001b[0;34m(\u001b[0m\u001b[0;34m*\u001b[0m\u001b[0margs\u001b[0m\u001b[0;34m,\u001b[0m \u001b[0;34m**\u001b[0m\u001b[0mkwargs\u001b[0m\u001b[0;34m)\u001b[0m\u001b[0;34m\u001b[0m\u001b[0;34m\u001b[0m\u001b[0m\n\u001b[0m\u001b[1;32m   1528\u001b[0m \u001b[0;34m\u001b[0m\u001b[0m\n\u001b[1;32m   1529\u001b[0m         \u001b[0;32mtry\u001b[0m\u001b[0;34m:\u001b[0m\u001b[0;34m\u001b[0m\u001b[0;34m\u001b[0m\u001b[0m\n",
            "\u001b[0;32m/usr/local/lib/python3.10/dist-packages/torch/nn/modules/rnn.py\u001b[0m in \u001b[0;36mforward\u001b[0;34m(self, input, hx)\u001b[0m\n\u001b[1;32m   1098\u001b[0m                 \u001b[0mhx\u001b[0m \u001b[0;34m=\u001b[0m \u001b[0mself\u001b[0m\u001b[0;34m.\u001b[0m\u001b[0mpermute_hidden\u001b[0m\u001b[0;34m(\u001b[0m\u001b[0mhx\u001b[0m\u001b[0;34m,\u001b[0m \u001b[0msorted_indices\u001b[0m\u001b[0;34m)\u001b[0m\u001b[0;34m\u001b[0m\u001b[0;34m\u001b[0m\u001b[0m\n\u001b[1;32m   1099\u001b[0m \u001b[0;34m\u001b[0m\u001b[0m\n\u001b[0;32m-> 1100\u001b[0;31m         \u001b[0mself\u001b[0m\u001b[0;34m.\u001b[0m\u001b[0mcheck_forward_args\u001b[0m\u001b[0;34m(\u001b[0m\u001b[0minput\u001b[0m\u001b[0;34m,\u001b[0m \u001b[0mhx\u001b[0m\u001b[0;34m,\u001b[0m \u001b[0mbatch_sizes\u001b[0m\u001b[0;34m)\u001b[0m\u001b[0;34m\u001b[0m\u001b[0;34m\u001b[0m\u001b[0m\n\u001b[0m\u001b[1;32m   1101\u001b[0m         \u001b[0;32mif\u001b[0m \u001b[0mbatch_sizes\u001b[0m \u001b[0;32mis\u001b[0m \u001b[0;32mNone\u001b[0m\u001b[0;34m:\u001b[0m\u001b[0;34m\u001b[0m\u001b[0;34m\u001b[0m\u001b[0m\n\u001b[1;32m   1102\u001b[0m             result = _VF.gru(input, hx, self._flat_weights, self.bias, self.num_layers,\n",
            "\u001b[0;32m/usr/local/lib/python3.10/dist-packages/torch/nn/modules/rnn.py\u001b[0m in \u001b[0;36mcheck_forward_args\u001b[0;34m(self, input, hidden, batch_sizes)\u001b[0m\n\u001b[1;32m    271\u001b[0m         \u001b[0mexpected_hidden_size\u001b[0m \u001b[0;34m=\u001b[0m \u001b[0mself\u001b[0m\u001b[0;34m.\u001b[0m\u001b[0mget_expected_hidden_size\u001b[0m\u001b[0;34m(\u001b[0m\u001b[0minput\u001b[0m\u001b[0;34m,\u001b[0m \u001b[0mbatch_sizes\u001b[0m\u001b[0;34m)\u001b[0m\u001b[0;34m\u001b[0m\u001b[0;34m\u001b[0m\u001b[0m\n\u001b[1;32m    272\u001b[0m \u001b[0;34m\u001b[0m\u001b[0m\n\u001b[0;32m--> 273\u001b[0;31m         \u001b[0mself\u001b[0m\u001b[0;34m.\u001b[0m\u001b[0mcheck_hidden_size\u001b[0m\u001b[0;34m(\u001b[0m\u001b[0mhidden\u001b[0m\u001b[0;34m,\u001b[0m \u001b[0mexpected_hidden_size\u001b[0m\u001b[0;34m)\u001b[0m\u001b[0;34m\u001b[0m\u001b[0;34m\u001b[0m\u001b[0m\n\u001b[0m\u001b[1;32m    274\u001b[0m \u001b[0;34m\u001b[0m\u001b[0m\n\u001b[1;32m    275\u001b[0m     \u001b[0;32mdef\u001b[0m \u001b[0mpermute_hidden\u001b[0m\u001b[0;34m(\u001b[0m\u001b[0mself\u001b[0m\u001b[0;34m,\u001b[0m \u001b[0mhx\u001b[0m\u001b[0;34m:\u001b[0m \u001b[0mTensor\u001b[0m\u001b[0;34m,\u001b[0m \u001b[0mpermutation\u001b[0m\u001b[0;34m:\u001b[0m \u001b[0mOptional\u001b[0m\u001b[0;34m[\u001b[0m\u001b[0mTensor\u001b[0m\u001b[0;34m]\u001b[0m\u001b[0;34m)\u001b[0m\u001b[0;34m:\u001b[0m\u001b[0;34m\u001b[0m\u001b[0;34m\u001b[0m\u001b[0m\n",
            "\u001b[0;32m/usr/local/lib/python3.10/dist-packages/torch/nn/modules/rnn.py\u001b[0m in \u001b[0;36mcheck_hidden_size\u001b[0;34m(self, hx, expected_hidden_size, msg)\u001b[0m\n\u001b[1;32m    254\u001b[0m                           msg: str = 'Expected hidden size {}, got {}') -> None:\n\u001b[1;32m    255\u001b[0m         \u001b[0;32mif\u001b[0m \u001b[0mhx\u001b[0m\u001b[0;34m.\u001b[0m\u001b[0msize\u001b[0m\u001b[0;34m(\u001b[0m\u001b[0;34m)\u001b[0m \u001b[0;34m!=\u001b[0m \u001b[0mexpected_hidden_size\u001b[0m\u001b[0;34m:\u001b[0m\u001b[0;34m\u001b[0m\u001b[0;34m\u001b[0m\u001b[0m\n\u001b[0;32m--> 256\u001b[0;31m             \u001b[0;32mraise\u001b[0m \u001b[0mRuntimeError\u001b[0m\u001b[0;34m(\u001b[0m\u001b[0mmsg\u001b[0m\u001b[0;34m.\u001b[0m\u001b[0mformat\u001b[0m\u001b[0;34m(\u001b[0m\u001b[0mexpected_hidden_size\u001b[0m\u001b[0;34m,\u001b[0m \u001b[0mlist\u001b[0m\u001b[0;34m(\u001b[0m\u001b[0mhx\u001b[0m\u001b[0;34m.\u001b[0m\u001b[0msize\u001b[0m\u001b[0;34m(\u001b[0m\u001b[0;34m)\u001b[0m\u001b[0;34m)\u001b[0m\u001b[0;34m)\u001b[0m\u001b[0;34m)\u001b[0m\u001b[0;34m\u001b[0m\u001b[0;34m\u001b[0m\u001b[0m\n\u001b[0m\u001b[1;32m    257\u001b[0m \u001b[0;34m\u001b[0m\u001b[0m\n\u001b[1;32m    258\u001b[0m     \u001b[0;32mdef\u001b[0m \u001b[0m_weights_have_changed\u001b[0m\u001b[0;34m(\u001b[0m\u001b[0mself\u001b[0m\u001b[0;34m)\u001b[0m\u001b[0;34m:\u001b[0m\u001b[0;34m\u001b[0m\u001b[0;34m\u001b[0m\u001b[0m\n",
            "\u001b[0;31mRuntimeError\u001b[0m: Expected hidden size (1, 32, 126), got [1, 2, 128]"
          ]
        }
      ],
      "source": [
        "hidden_size = 126\n",
        "batch_size = 32\n",
        "\n",
        "#input_lang, output_lang, train_dataloader = get_dataloader(batch_size)\n",
        "\n",
        "# Dataloader for preprocessed embeddings\n",
        "input_lang, output_lang, train_dataloader, context_embeddings_tensor = get_dataloader(batch_size=batch_size)\n",
        "# Simple Encoder-Decoder with preprocessed embeddings\n",
        "encoder = Encoder(context_embeddings_tensor, hidden_dim=hidden_size).to(device)\n",
        "decoder = Decoder(pretrained_embeddings=context_embeddings_tensor, output_size=output_lang.n_words, hidden_dim=hidden_size).to(device)\n",
        "model = EncoderDecoder(encoder, decoder, target_len=10)\n",
        "\n",
        "# Encoder-Decoder with Attention and RNN (This is the best model so far)\n",
        "#encoder = Encoder(input_lang.n_words, hidden_size).to(device)\n",
        "#decoder = DecoderAttn(output_lang.n_words, hidden_size).to(device)\n",
        "#model = EncoderDecoder(encoder, decoder, target_len=10)\n",
        "\n",
        "# Encoder-Decoder Self-Attention\n",
        "#encoder = EncoderSelfAttn(n_features=input_lang.n_words, d_model=hidden_size, n_heads=4, ff_units=4).to(device)\n",
        "#decoder = DecoderSelfAttn(n_features=output_lang.n_words, d_model=hidden_size, n_heads=4, ff_units=4).to(device)\n",
        "#model = EncoderDecoderSelfAttention(encoder, decoder, target_len=10)\n",
        "\n",
        "# Transformer\n",
        "# enclayer = EncoderLayer(d_model=hidden_size, n_heads=3, ff_units=20)\n",
        "# enctransf = EncoderTransf(enclayer, n_features=input_lang.n_words, n_layers=1)\n",
        "# declayer = DecoderLayer(d_model=hidden_size, n_heads=3, ff_units=20)\n",
        "# dectransf = DecoderTransf(decoder_layer=declayer, output_features=output_lang.n_words, n_layers=1)\n",
        "# model = EncoderDecoderSelfAttentionTransformer(enctransf, dectransf, output_features=output_lang.n_words, target_len=10)\n",
        "\n",
        "train(train_dataloader, model, 80, print_every=5, plot_every=5)"
      ]
    },
    {
      "cell_type": "code",
      "execution_count": null,
      "metadata": {
        "id": "v-aAtvPMkRq6"
      },
      "outputs": [],
      "source": [
        "def evaluate(model, sentence, input_lang, output_lang):\n",
        "    with torch.no_grad():\n",
        "        input_tensor = tensorFromSentence(input_lang, sentence)\n",
        "\n",
        "        decoder_outputs = model(input_tensor)\n",
        "\n",
        "        _, topi = decoder_outputs.topk(1)\n",
        "        decoded_ids = topi.squeeze()\n",
        "\n",
        "        decoded_words = []\n",
        "        for idx in decoded_ids:\n",
        "            if idx.item() == EOS_token:\n",
        "                decoded_words.append('<EOS>')\n",
        "                break\n",
        "            decoded_words.append(output_lang.index2word[idx.item()])\n",
        "    return decoded_words"
      ]
    },
    {
      "cell_type": "code",
      "execution_count": null,
      "metadata": {
        "id": "qv_tn_KGq8Ph"
      },
      "outputs": [],
      "source": [
        "model.eval() # Set to evaluation mode"
      ]
    },
    {
      "cell_type": "code",
      "execution_count": null,
      "metadata": {
        "id": "VMc0XCgzmNIp"
      },
      "outputs": [],
      "source": [
        "n = 10\n",
        "print(\"French to English:\\n\")\n",
        "for i in range(n):\n",
        "    pair = random.choice(pairs)\n",
        "    print(f\"{pair[0]} -> {' '.join(evaluate(model, pair[0], input_lang, output_lang))}, CORRECT TRANSLATION: {pair[1]}\")"
      ]
    },
    {
      "cell_type": "code",
      "execution_count": null,
      "metadata": {
        "id": "uju21ddCpbFZ"
      },
      "outputs": [],
      "source": [
        "' '.join(evaluate(model, 'je vais bien', input_lang, output_lang))"
      ]
    },
    {
      "cell_type": "markdown",
      "metadata": {
        "id": "ZBJJnv4urq7Y"
      },
      "source": [
        "### _Note: I have not included < unk >. If word does not exist already in the embedding it will throw an error._"
      ]
    }
  ],
  "metadata": {
    "colab": {
      "collapsed_sections": [
        "ZFiDgFY43Cef",
        "CFdjE0eC2l7T",
        "RlfdNQuKhDTY",
        "ZTOl8Wvbg4-f"
      ],
      "provenance": [],
      "mount_file_id": "16VtuTCM42NEDvH853yLa_jFMlp1lg6Ud",
      "authorship_tag": "ABX9TyPQpEm8H/aP8259D2tSxNGj",
      "include_colab_link": true
    },
    "kernelspec": {
      "display_name": "Python 3",
      "name": "python3"
    },
    "language_info": {
      "name": "python"
    }
  },
  "nbformat": 4,
  "nbformat_minor": 0
}